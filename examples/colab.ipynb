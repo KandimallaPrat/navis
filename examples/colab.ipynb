{
 "cells": [
  {
   "cell_type": "markdown",
   "metadata": {
    "raw_mimetype": "text/restructuredtext"
   },
   "source": [
    "## NAVis\n",
    "This notebook will give you a flavour of what you can do using NAVis. For more check out the online [documentation](https://navis.readthedocs.io/en/latest/?badge=latest) and [tutorials](https://navis.readthedocs.io/en/latest/source/gallery.html)!\n",
    "\n",
    "\n",
    "### Google colab setup\n",
    "\n",
    "If you are running this notebook in Google Colab make sure to follow the instructions below to install navis!"
   ]
  },
  {
   "cell_type": "code",
   "execution_count": 1,
   "metadata": {},
   "outputs": [],
   "source": [
    "%%capture\n",
    "# First we need to install navis\n",
    "# Note we're also updating matplotlib and ipywidgets because Colab comes some preinstalled but very outdated versions\n",
    "!pip install navis ipywidgets matplotlib -U"
   ]
  },
  {
   "cell_type": "markdown",
   "metadata": {},
   "source": [
    "Almost done! There is only one more thing to do:\n",
    "\n",
    "**Restart the runtime** before continuing by going to _\"Runtime\"_ -> _\"Restart runtime\"_ and confirm with _\"Yes\"_. This is necessary because Google Colab loads a bunch of packages before we even run above install command and we have to make sure our newly installed/updated packages are reloaded."
   ]
  },
  {
   "cell_type": "markdown",
   "metadata": {
    "raw_mimetype": "text/restructuredtext",
    "tags": []
   },
   "source": [
    "### Quickstart\n",
    "\n",
    "You should be good to go now! Let's have a bit of a play, shall we?\n",
    "\n",
    "NAVis lets you load data from a variety of local (e.g. SWC files) and remote sources (e.g. neuPrint or neuromorpho). For details on that see the [docs](https://navis.readthedocs.io/en/latest/?badge=latest) and [tutorials](https://navis.readthedocs.io/en/latest/source/gallery.html). \n",
    "\n",
    "Here, we will use a few _Drosophila_ neurons from the Janelia hemibrain project that ship with `navis` exactly for demo purposes like this. "
   ]
  },
  {
   "cell_type": "code",
   "execution_count": 1,
   "metadata": {},
   "outputs": [
    {
     "data": {
      "text/html": [
       "&lt;class 'navis.core.neuronlist.NeuronList'&gt; containing 3 neurons (875.1KiB)<div>\n",
       "<style scoped>\n",
       "    .dataframe tbody tr th:only-of-type {\n",
       "        vertical-align: middle;\n",
       "    }\n",
       "\n",
       "    .dataframe tbody tr th {\n",
       "        vertical-align: top;\n",
       "    }\n",
       "\n",
       "    .dataframe thead th {\n",
       "        text-align: right;\n",
       "    }\n",
       "</style>\n",
       "<table border=\"1\" class=\"dataframe\">\n",
       "  <thead>\n",
       "    <tr style=\"text-align: right;\">\n",
       "      <th></th>\n",
       "      <th>type</th>\n",
       "      <th>name</th>\n",
       "      <th>id</th>\n",
       "      <th>n_nodes</th>\n",
       "      <th>n_connectors</th>\n",
       "      <th>n_branches</th>\n",
       "      <th>n_leafs</th>\n",
       "      <th>cable_length</th>\n",
       "      <th>soma</th>\n",
       "      <th>units</th>\n",
       "      <th>created_at</th>\n",
       "      <th>id</th>\n",
       "      <th>origin</th>\n",
       "    </tr>\n",
       "  </thead>\n",
       "  <tbody>\n",
       "    <tr>\n",
       "      <th>0</th>\n",
       "      <td>navis.TreeNeuron</td>\n",
       "      <td>DA1_lPN_R</td>\n",
       "      <td>1734350788</td>\n",
       "      <td>4465</td>\n",
       "      <td>2705</td>\n",
       "      <td>599</td>\n",
       "      <td>618</td>\n",
       "      <td>266476.87500</td>\n",
       "      <td>[4177]</td>\n",
       "      <td>8 nanometer</td>\n",
       "      <td>2022-04-14 10:25:15.045907</td>\n",
       "      <td>1734350788</td>\n",
       "      <td>/Users/philipps/Google Drive/Cloudbox/Github/n...</td>\n",
       "    </tr>\n",
       "    <tr>\n",
       "      <th>1</th>\n",
       "      <td>navis.TreeNeuron</td>\n",
       "      <td>DA1_lPN_R</td>\n",
       "      <td>1734350908</td>\n",
       "      <td>4847</td>\n",
       "      <td>3042</td>\n",
       "      <td>735</td>\n",
       "      <td>761</td>\n",
       "      <td>304332.65625</td>\n",
       "      <td>[6]</td>\n",
       "      <td>8 nanometer</td>\n",
       "      <td>2022-04-14 10:25:15.063264</td>\n",
       "      <td>1734350908</td>\n",
       "      <td>/Users/philipps/Google Drive/Cloudbox/Github/n...</td>\n",
       "    </tr>\n",
       "    <tr>\n",
       "      <th>2</th>\n",
       "      <td>navis.TreeNeuron</td>\n",
       "      <td>DA1_lPN_R</td>\n",
       "      <td>722817260</td>\n",
       "      <td>4332</td>\n",
       "      <td>3136</td>\n",
       "      <td>633</td>\n",
       "      <td>656</td>\n",
       "      <td>274703.37500</td>\n",
       "      <td>None</td>\n",
       "      <td>8 nanometer</td>\n",
       "      <td>2022-04-14 10:25:15.082384</td>\n",
       "      <td>722817260</td>\n",
       "      <td>/Users/philipps/Google Drive/Cloudbox/Github/n...</td>\n",
       "    </tr>\n",
       "  </tbody>\n",
       "</table>\n",
       "</div>"
      ],
      "text/plain": [
       "<class 'navis.core.neuronlist.NeuronList'> containing 3 neurons (875.1KiB)\n",
       "               type       name          id  n_nodes  n_connectors  n_branches  \\\n",
       "0  navis.TreeNeuron  DA1_lPN_R  1734350788     4465          2705         599   \n",
       "1  navis.TreeNeuron  DA1_lPN_R  1734350908     4847          3042         735   \n",
       "2  navis.TreeNeuron  DA1_lPN_R   722817260     4332          3136         633   \n",
       "\n",
       "   n_leafs  cable_length    soma        units                  created_at  \\\n",
       "0      618  266476.87500  [4177]  8 nanometer  2022-04-14 10:25:15.045907   \n",
       "1      761  304332.65625     [6]  8 nanometer  2022-04-14 10:25:15.063264   \n",
       "2      656  274703.37500    None  8 nanometer  2022-04-14 10:25:15.082384   \n",
       "\n",
       "           id                                             origin  \n",
       "0  1734350788  /Users/philipps/Google Drive/Cloudbox/Github/n...  \n",
       "1  1734350908  /Users/philipps/Google Drive/Cloudbox/Github/n...  \n",
       "2   722817260  /Users/philipps/Google Drive/Cloudbox/Github/n...  "
      ]
     },
     "execution_count": 1,
     "metadata": {},
     "output_type": "execute_result"
    }
   ],
   "source": [
    "# Import navis\n",
    "import navis\n",
    "\n",
    "# Grab some of the example neurons\n",
    "neuron_list = navis.example_neurons(3, kind='skeleton')\n",
    "\n",
    "# Print a summary of neurons in the list\n",
    "neuron_list"
   ]
  },
  {
   "cell_type": "code",
   "execution_count": 2,
   "metadata": {},
   "outputs": [
    {
     "data": {
      "text/html": [
       "<div>\n",
       "<style scoped>\n",
       "    .dataframe tbody tr th:only-of-type {\n",
       "        vertical-align: middle;\n",
       "    }\n",
       "\n",
       "    .dataframe tbody tr th {\n",
       "        vertical-align: top;\n",
       "    }\n",
       "\n",
       "    .dataframe thead th {\n",
       "        text-align: right;\n",
       "    }\n",
       "</style>\n",
       "<table border=\"1\" class=\"dataframe\">\n",
       "  <thead>\n",
       "    <tr style=\"text-align: right;\">\n",
       "      <th></th>\n",
       "      <th></th>\n",
       "    </tr>\n",
       "  </thead>\n",
       "  <tbody>\n",
       "    <tr>\n",
       "      <th>type</th>\n",
       "      <td>navis.TreeNeuron</td>\n",
       "    </tr>\n",
       "    <tr>\n",
       "      <th>name</th>\n",
       "      <td>DA1_lPN_R</td>\n",
       "    </tr>\n",
       "    <tr>\n",
       "      <th>id</th>\n",
       "      <td>1734350788</td>\n",
       "    </tr>\n",
       "    <tr>\n",
       "      <th>n_nodes</th>\n",
       "      <td>4465</td>\n",
       "    </tr>\n",
       "    <tr>\n",
       "      <th>n_connectors</th>\n",
       "      <td>2705</td>\n",
       "    </tr>\n",
       "    <tr>\n",
       "      <th>n_branches</th>\n",
       "      <td>599</td>\n",
       "    </tr>\n",
       "    <tr>\n",
       "      <th>n_leafs</th>\n",
       "      <td>618</td>\n",
       "    </tr>\n",
       "    <tr>\n",
       "      <th>cable_length</th>\n",
       "      <td>266476.875</td>\n",
       "    </tr>\n",
       "    <tr>\n",
       "      <th>soma</th>\n",
       "      <td>[4177]</td>\n",
       "    </tr>\n",
       "    <tr>\n",
       "      <th>units</th>\n",
       "      <td>8 nanometer</td>\n",
       "    </tr>\n",
       "    <tr>\n",
       "      <th>created_at</th>\n",
       "      <td>2022-04-14 10:25:15.045907</td>\n",
       "    </tr>\n",
       "    <tr>\n",
       "      <th>id</th>\n",
       "      <td>1734350788</td>\n",
       "    </tr>\n",
       "    <tr>\n",
       "      <th>origin</th>\n",
       "      <td>/Users/philipps/Google Drive/Cloudbox/Github/n...</td>\n",
       "    </tr>\n",
       "  </tbody>\n",
       "</table>\n",
       "</div>"
      ],
      "text/plain": [
       "type                                             navis.TreeNeuron\n",
       "name                                                    DA1_lPN_R\n",
       "id                                                     1734350788\n",
       "n_nodes                                                      4465\n",
       "n_connectors                                                 2705\n",
       "n_branches                                                    599\n",
       "n_leafs                                                       618\n",
       "cable_length                                           266476.875\n",
       "soma                                                       [4177]\n",
       "units                                                 8 nanometer\n",
       "created_at                             2022-04-14 10:25:15.045907\n",
       "id                                                     1734350788\n",
       "origin          /Users/philipps/Google Drive/Cloudbox/Github/n...\n",
       "dtype: object"
      ]
     },
     "execution_count": 2,
     "metadata": {},
     "output_type": "execute_result"
    }
   ],
   "source": [
    "# To access individual neurons, use neuron_list like a normal list object\n",
    "neuron_list[0]"
   ]
  },
  {
   "cell_type": "markdown",
   "metadata": {
    "raw_mimetype": "text/restructuredtext"
   },
   "source": [
    "In above examples, ``neuron_list`` is an instance of the ``NeuronList`` class and holds three neurons all of which are of the ``TreeNeuron`` class. Check out their documentation for methods and attributes!"
   ]
  },
  {
   "cell_type": "markdown",
   "metadata": {
    "raw_mimetype": "text/restructuredtext"
   },
   "source": [
    "#### Plotting is easy and straight forward\n",
    "Let's start of making a simple 2D plot using matplotlib. Please read the documentation for limits of this approach."
   ]
  },
  {
   "cell_type": "code",
   "execution_count": 4,
   "metadata": {},
   "outputs": [
    {
     "data": {
      "application/vnd.jupyter.widget-view+json": {
       "model_id": "",
       "version_major": 2,
       "version_minor": 0
      },
      "text/plain": [
       "Plot neurons:   0%|          | 0/3 [00:00<?, ?it/s]"
      ]
     },
     "metadata": {},
     "output_type": "display_data"
    },
    {
     "data": {
      "image/png": "[encoded data removed]",
      "text/plain": [
       "<Figure size 432x432 with 1 Axes>"
      ]
     },
     "metadata": {
      "needs_background": "light"
     },
     "output_type": "display_data"
    }
   ],
   "source": [
    "# Matplotlib 2D plot\n",
    "import matplotlib.pyplot as plt\n",
    "\n",
    "fig, ax = neuron_list.plot2d()\n",
    "plt.show()"
   ]
  },
  {
   "cell_type": "markdown",
   "metadata": {},
   "source": [
    "You can call ``plot2d()`` either directly from a Neuron or NeuronList as above or use the base function to combine different objects:"
   ]
  },
  {
   "cell_type": "code",
   "execution_count": 5,
   "metadata": {},
   "outputs": [
    {
     "data": {
      "application/vnd.jupyter.widget-view+json": {
       "model_id": "",
       "version_major": 2,
       "version_minor": 0
      },
      "text/plain": [
       "Plot neurons:   0%|          | 0/3 [00:00<?, ?it/s]"
      ]
     },
     "metadata": {},
     "output_type": "display_data"
    },
    {
     "data": {
      "image/png": "[encoded data removed]",
      "text/plain": [
       "<Figure size 432x432 with 1 Axes>"
      ]
     },
     "metadata": {
      "needs_background": "light"
     },
     "output_type": "display_data"
    }
   ],
   "source": [
    "# Same result as above\n",
    "fig, ax = navis.plot2d(neuron_list)\n",
    "plt.show()"
   ]
  },
  {
   "cell_type": "markdown",
   "metadata": {},
   "source": [
    "For **3d**, navis uses ``vispy`` if you are working in the terminal or ``plotly`` if you are in a Jupyter environment."
   ]
  },
  {
   "cell_type": "code",
   "execution_count": null,
   "metadata": {
    "tags": []
   },
   "outputs": [],
   "source": [
    "# Generate and render inline 3D plot\n",
    "fig = neuron_list.plot3d()"
   ]
  },
  {
   "cell_type": "markdown",
   "metadata": {
    "raw_mimetype": "text/restructuredtext"
   },
   "source": [
    "This method simply calls `navis.plot3d` - check out the docs for which parameters you can pass along."
   ]
  },
  {
   "cell_type": "markdown",
   "metadata": {
    "raw_mimetype": "text/restructuredtext",
    "tags": []
   },
   "source": [
    "### The Basics\n",
    "Neurons (or rather their reconstructions) can be represented in multiple ways. NAVis has different neuron types for each of those:\n",
    "\n",
    "- `navis.TreeNeurons` for tree-like skeletons\n",
    "- `navis.MeshNeurons` for neurons consisting of vertices and faces\n",
    "- `navis.VoxelNeurons` for neurons represented by voxels (e.g. from microscopy)\n",
    "- `navis.Dotprops` for neurons represented by point clouds\n",
    "\n",
    "Multiple neurons are grouped into `navis.NeuronList`!"
   ]
  },
  {
   "cell_type": "code",
   "execution_count": 6,
   "metadata": {},
   "outputs": [
    {
     "data": {
      "text/html": [
       "&lt;class 'navis.core.neuronlist.NeuronList'&gt; containing 2 neurons (875.5KiB)<div>\n",
       "<style scoped>\n",
       "    .dataframe tbody tr th:only-of-type {\n",
       "        vertical-align: middle;\n",
       "    }\n",
       "\n",
       "    .dataframe tbody tr th {\n",
       "        vertical-align: top;\n",
       "    }\n",
       "\n",
       "    .dataframe thead th {\n",
       "        text-align: right;\n",
       "    }\n",
       "</style>\n",
       "<table border=\"1\" class=\"dataframe\">\n",
       "  <thead>\n",
       "    <tr style=\"text-align: right;\">\n",
       "      <th></th>\n",
       "      <th>type</th>\n",
       "      <th>name</th>\n",
       "      <th>id</th>\n",
       "      <th>n_nodes</th>\n",
       "      <th>n_connectors</th>\n",
       "      <th>n_branches</th>\n",
       "      <th>n_leafs</th>\n",
       "      <th>cable_length</th>\n",
       "      <th>soma</th>\n",
       "      <th>units</th>\n",
       "      <th>n_vertices</th>\n",
       "      <th>n_faces</th>\n",
       "    </tr>\n",
       "  </thead>\n",
       "  <tbody>\n",
       "    <tr>\n",
       "      <th>0</th>\n",
       "      <td>navis.TreeNeuron</td>\n",
       "      <td>1734350788</td>\n",
       "      <td>1734350788</td>\n",
       "      <td>4465.0</td>\n",
       "      <td>2705</td>\n",
       "      <td>599.0</td>\n",
       "      <td>618.0</td>\n",
       "      <td>266476.875</td>\n",
       "      <td>4177</td>\n",
       "      <td>8 nanometer</td>\n",
       "      <td>NaN</td>\n",
       "      <td>NaN</td>\n",
       "    </tr>\n",
       "    <tr>\n",
       "      <th>1</th>\n",
       "      <td>navis.MeshNeuron</td>\n",
       "      <td>1734350788</td>\n",
       "      <td>1734350788</td>\n",
       "      <td>NaN</td>\n",
       "      <td>2705</td>\n",
       "      <td>NaN</td>\n",
       "      <td>NaN</td>\n",
       "      <td>NA</td>\n",
       "      <td>NA</td>\n",
       "      <td>8 nanometer</td>\n",
       "      <td>6309.0</td>\n",
       "      <td>13054.0</td>\n",
       "    </tr>\n",
       "  </tbody>\n",
       "</table>\n",
       "</div>"
      ],
      "text/plain": [
       "<class 'navis.core.neuronlist.NeuronList'> containing 2 neurons (875.5KiB)\n",
       "               type        name          id  n_nodes  n_connectors  \\\n",
       "0  navis.TreeNeuron  1734350788  1734350788   4465.0          2705   \n",
       "1  navis.MeshNeuron  1734350788  1734350788      NaN          2705   \n",
       "\n",
       "   n_branches  n_leafs cable_length  soma        units  n_vertices  n_faces  \n",
       "0       599.0    618.0   266476.875  4177  8 nanometer         NaN      NaN  \n",
       "1         NaN      NaN           NA    NA  8 nanometer      6309.0  13054.0  "
      ]
     },
     "execution_count": 6,
     "metadata": {},
     "output_type": "execute_result"
    }
   ],
   "source": [
    "# Load a mix of example neurons\n",
    "mix = navis.example_neurons(n=2, kind='mix')\n",
    "mix"
   ]
  },
  {
   "cell_type": "markdown",
   "metadata": {
    "raw_mimetype": "text/restructuredtext"
   },
   "source": [
    "Neurons/Lists have methods (functions like the `neuron_list.plot2d`) and properties. Some are universal, others are specific to e.g. `TreeNeurons` or `MeshNeurons`"
   ]
  },
  {
   "cell_type": "code",
   "execution_count": 7,
   "metadata": {},
   "outputs": [
    {
     "data": {
      "text/html": [
       "<div>\n",
       "<style scoped>\n",
       "    .dataframe tbody tr th:only-of-type {\n",
       "        vertical-align: middle;\n",
       "    }\n",
       "\n",
       "    .dataframe tbody tr th {\n",
       "        vertical-align: top;\n",
       "    }\n",
       "\n",
       "    .dataframe thead th {\n",
       "        text-align: right;\n",
       "    }\n",
       "</style>\n",
       "<table border=\"1\" class=\"dataframe\">\n",
       "  <thead>\n",
       "    <tr style=\"text-align: right;\">\n",
       "      <th></th>\n",
       "      <th>node_id</th>\n",
       "      <th>label</th>\n",
       "      <th>x</th>\n",
       "      <th>y</th>\n",
       "      <th>z</th>\n",
       "      <th>radius</th>\n",
       "      <th>parent_id</th>\n",
       "      <th>type</th>\n",
       "    </tr>\n",
       "  </thead>\n",
       "  <tbody>\n",
       "    <tr>\n",
       "      <th>0</th>\n",
       "      <td>1</td>\n",
       "      <td>0</td>\n",
       "      <td>15784.0</td>\n",
       "      <td>37250.0</td>\n",
       "      <td>28062.0</td>\n",
       "      <td>10.000000</td>\n",
       "      <td>-1</td>\n",
       "      <td>root</td>\n",
       "    </tr>\n",
       "    <tr>\n",
       "      <th>1</th>\n",
       "      <td>2</td>\n",
       "      <td>0</td>\n",
       "      <td>15764.0</td>\n",
       "      <td>37230.0</td>\n",
       "      <td>28082.0</td>\n",
       "      <td>18.284300</td>\n",
       "      <td>1</td>\n",
       "      <td>slab</td>\n",
       "    </tr>\n",
       "    <tr>\n",
       "      <th>2</th>\n",
       "      <td>3</td>\n",
       "      <td>0</td>\n",
       "      <td>15744.0</td>\n",
       "      <td>37190.0</td>\n",
       "      <td>28122.0</td>\n",
       "      <td>34.721401</td>\n",
       "      <td>2</td>\n",
       "      <td>slab</td>\n",
       "    </tr>\n",
       "    <tr>\n",
       "      <th>3</th>\n",
       "      <td>4</td>\n",
       "      <td>0</td>\n",
       "      <td>15744.0</td>\n",
       "      <td>37150.0</td>\n",
       "      <td>28202.0</td>\n",
       "      <td>34.721401</td>\n",
       "      <td>3</td>\n",
       "      <td>slab</td>\n",
       "    </tr>\n",
       "    <tr>\n",
       "      <th>4</th>\n",
       "      <td>5</td>\n",
       "      <td>0</td>\n",
       "      <td>15704.0</td>\n",
       "      <td>37130.0</td>\n",
       "      <td>28242.0</td>\n",
       "      <td>34.721401</td>\n",
       "      <td>4</td>\n",
       "      <td>slab</td>\n",
       "    </tr>\n",
       "    <tr>\n",
       "      <th>...</th>\n",
       "      <td>...</td>\n",
       "      <td>...</td>\n",
       "      <td>...</td>\n",
       "      <td>...</td>\n",
       "      <td>...</td>\n",
       "      <td>...</td>\n",
       "      <td>...</td>\n",
       "      <td>...</td>\n",
       "    </tr>\n",
       "    <tr>\n",
       "      <th>4460</th>\n",
       "      <td>4461</td>\n",
       "      <td>6</td>\n",
       "      <td>15424.0</td>\n",
       "      <td>37050.0</td>\n",
       "      <td>27682.0</td>\n",
       "      <td>30.000000</td>\n",
       "      <td>2623</td>\n",
       "      <td>end</td>\n",
       "    </tr>\n",
       "    <tr>\n",
       "      <th>4461</th>\n",
       "      <td>4462</td>\n",
       "      <td>6</td>\n",
       "      <td>15424.0</td>\n",
       "      <td>36950.0</td>\n",
       "      <td>28062.0</td>\n",
       "      <td>30.000000</td>\n",
       "      <td>3075</td>\n",
       "      <td>end</td>\n",
       "    </tr>\n",
       "    <tr>\n",
       "      <th>4462</th>\n",
       "      <td>4463</td>\n",
       "      <td>6</td>\n",
       "      <td>14544.0</td>\n",
       "      <td>36430.0</td>\n",
       "      <td>28422.0</td>\n",
       "      <td>62.111000</td>\n",
       "      <td>4178</td>\n",
       "      <td>end</td>\n",
       "    </tr>\n",
       "    <tr>\n",
       "      <th>4463</th>\n",
       "      <td>4464</td>\n",
       "      <td>6</td>\n",
       "      <td>14944.0</td>\n",
       "      <td>36510.0</td>\n",
       "      <td>28282.0</td>\n",
       "      <td>294.631012</td>\n",
       "      <td>4382</td>\n",
       "      <td>end</td>\n",
       "    </tr>\n",
       "    <tr>\n",
       "      <th>4464</th>\n",
       "      <td>4465</td>\n",
       "      <td>6</td>\n",
       "      <td>15264.0</td>\n",
       "      <td>36870.0</td>\n",
       "      <td>28282.0</td>\n",
       "      <td>79.442703</td>\n",
       "      <td>10</td>\n",
       "      <td>end</td>\n",
       "    </tr>\n",
       "  </tbody>\n",
       "</table>\n",
       "<p>4465 rows × 8 columns</p>\n",
       "</div>"
      ],
      "text/plain": [
       "      node_id label        x        y        z      radius  parent_id  type\n",
       "0           1     0  15784.0  37250.0  28062.0   10.000000         -1  root\n",
       "1           2     0  15764.0  37230.0  28082.0   18.284300          1  slab\n",
       "2           3     0  15744.0  37190.0  28122.0   34.721401          2  slab\n",
       "3           4     0  15744.0  37150.0  28202.0   34.721401          3  slab\n",
       "4           5     0  15704.0  37130.0  28242.0   34.721401          4  slab\n",
       "...       ...   ...      ...      ...      ...         ...        ...   ...\n",
       "4460     4461     6  15424.0  37050.0  27682.0   30.000000       2623   end\n",
       "4461     4462     6  15424.0  36950.0  28062.0   30.000000       3075   end\n",
       "4462     4463     6  14544.0  36430.0  28422.0   62.111000       4178   end\n",
       "4463     4464     6  14944.0  36510.0  28282.0  294.631012       4382   end\n",
       "4464     4465     6  15264.0  36870.0  28282.0   79.442703         10   end\n",
       "\n",
       "[4465 rows x 8 columns]"
      ]
     },
     "execution_count": 7,
     "metadata": {},
     "output_type": "execute_result"
    }
   ],
   "source": [
    "# As TreeNeuron this neuron has nodes\n",
    "mix[0].nodes"
   ]
  },
  {
   "cell_type": "code",
   "execution_count": 8,
   "metadata": {},
   "outputs": [
    {
     "data": {
      "text/plain": [
       "TrackedArray([[16384.        , 34792.03125   , 24951.88085938],\n",
       "              [16384.        , 36872.0625    , 25847.89453125],\n",
       "              [16384.        , 36872.0625    , 25863.89453125],\n",
       "              ...,\n",
       "              [ 5328.08105469, 21400.07617188, 16039.99414062],\n",
       "              [ 6872.10498047, 19560.04882812, 13903.96191406],\n",
       "              [ 6872.10498047, 19488.046875  , 13927.96191406]])"
      ]
     },
     "execution_count": 8,
     "metadata": {},
     "output_type": "execute_result"
    }
   ],
   "source": [
    "# ... a MeshNeuron has vertices but no nodes\n",
    "mix[1].vertices"
   ]
  },
  {
   "cell_type": "markdown",
   "metadata": {
    "raw_mimetype": "text/restructuredtext"
   },
   "source": [
    "All shared attributes can be accessed via the `NeuronList`:"
   ]
  },
  {
   "cell_type": "code",
   "execution_count": 9,
   "metadata": {},
   "outputs": [
    {
     "data": {
      "text/plain": [
       "array(['1734350788', '1734350788'], dtype='<U10')"
      ]
     },
     "execution_count": 9,
     "metadata": {},
     "output_type": "execute_result"
    }
   ],
   "source": [
    "mix.name"
   ]
  },
  {
   "cell_type": "code",
   "execution_count": 10,
   "metadata": {},
   "outputs": [
    {
     "data": {
      "text/plain": [
       "array([1734350788, 1734350788])"
      ]
     },
     "execution_count": 10,
     "metadata": {},
     "output_type": "execute_result"
    }
   ],
   "source": [
    "mix.id"
   ]
  },
  {
   "cell_type": "markdown",
   "metadata": {
    "raw_mimetype": "text/restructuredtext"
   },
   "source": [
    "This only works if the attributes exists for all neurons"
   ]
  },
  {
   "cell_type": "code",
   "execution_count": 11,
   "metadata": {},
   "outputs": [
    {
     "ename": "AttributeError",
     "evalue": "Attribute or function \"root\" missing for some neurons",
     "output_type": "error",
     "traceback": [
      "\u001b[0;31m---------------------------------------------------------------------------\u001b[0m",
      "\u001b[0;31mAttributeError\u001b[0m                            Traceback (most recent call last)",
      "\u001b[0;32m<ipython-input-11-f8cfb0f3dceb>\u001b[0m in \u001b[0;36m<module>\u001b[0;34m\u001b[0m\n\u001b[1;32m      1\u001b[0m \u001b[0;31m# This will fail\u001b[0m\u001b[0;34m\u001b[0m\u001b[0;34m\u001b[0m\u001b[0;34m\u001b[0m\u001b[0m\n\u001b[0;32m----> 2\u001b[0;31m \u001b[0mmix\u001b[0m\u001b[0;34m.\u001b[0m\u001b[0mroot\u001b[0m\u001b[0;34m\u001b[0m\u001b[0;34m\u001b[0m\u001b[0m\n\u001b[0m",
      "\u001b[0;32m~/Google Drive/Cloudbox/Github/navis/navis/core/neuronlist.py\u001b[0m in \u001b[0;36m__getattr__\u001b[0;34m(self, key)\u001b[0m\n\u001b[1;32m    300\u001b[0m                                  'NeuronList or its neurons')\n\u001b[1;32m    301\u001b[0m         \u001b[0;32melif\u001b[0m \u001b[0many\u001b[0m\u001b[0;34m(\u001b[0m\u001b[0;34m[\u001b[0m\u001b[0misinstance\u001b[0m\u001b[0;34m(\u001b[0m\u001b[0mv\u001b[0m\u001b[0;34m,\u001b[0m \u001b[0mtype\u001b[0m\u001b[0;34m(\u001b[0m\u001b[0mNotImplemented\u001b[0m\u001b[0;34m)\u001b[0m\u001b[0;34m)\u001b[0m \u001b[0;32mfor\u001b[0m \u001b[0mv\u001b[0m \u001b[0;32min\u001b[0m \u001b[0mvalues\u001b[0m\u001b[0;34m]\u001b[0m\u001b[0;34m)\u001b[0m\u001b[0;34m:\u001b[0m\u001b[0;34m\u001b[0m\u001b[0;34m\u001b[0m\u001b[0m\n\u001b[0;32m--> 302\u001b[0;31m             raise AttributeError(f'Attribute or function \"{key}\" missing '\n\u001b[0m\u001b[1;32m    303\u001b[0m                                  'for some neurons')\n\u001b[1;32m    304\u001b[0m         \u001b[0;32melif\u001b[0m \u001b[0mlen\u001b[0m\u001b[0;34m(\u001b[0m\u001b[0mset\u001b[0m\u001b[0;34m(\u001b[0m\u001b[0mis_method\u001b[0m\u001b[0;34m)\u001b[0m\u001b[0;34m)\u001b[0m \u001b[0;34m>\u001b[0m \u001b[0;36m1\u001b[0m\u001b[0;34m:\u001b[0m\u001b[0;34m\u001b[0m\u001b[0;34m\u001b[0m\u001b[0m\n",
      "\u001b[0;31mAttributeError\u001b[0m: Attribute or function \"root\" missing for some neurons"
     ]
    }
   ],
   "source": [
    "# This will fail\n",
    "mix.root"
   ]
  },
  {
   "cell_type": "markdown",
   "metadata": {
    "raw_mimetype": "text/restructuredtext"
   },
   "source": [
    "``NeuronLists`` support some fancy indexing similar to the syntax in numpy arrays  (more in the docs)"
   ]
  },
  {
   "cell_type": "code",
   "execution_count": 17,
   "metadata": {},
   "outputs": [
    {
     "data": {
      "text/html": [
       "<div>\n",
       "<style scoped>\n",
       "    .dataframe tbody tr th:only-of-type {\n",
       "        vertical-align: middle;\n",
       "    }\n",
       "\n",
       "    .dataframe tbody tr th {\n",
       "        vertical-align: top;\n",
       "    }\n",
       "\n",
       "    .dataframe thead th {\n",
       "        text-align: right;\n",
       "    }\n",
       "</style>\n",
       "<table border=\"1\" class=\"dataframe\">\n",
       "  <thead>\n",
       "    <tr style=\"text-align: right;\">\n",
       "      <th></th>\n",
       "      <th>type</th>\n",
       "      <th>name</th>\n",
       "      <th>id</th>\n",
       "      <th>n_nodes</th>\n",
       "      <th>n_connectors</th>\n",
       "      <th>n_branches</th>\n",
       "      <th>n_leafs</th>\n",
       "      <th>cable_length</th>\n",
       "      <th>soma</th>\n",
       "      <th>units</th>\n",
       "    </tr>\n",
       "  </thead>\n",
       "  <tbody>\n",
       "    <tr>\n",
       "      <th>0</th>\n",
       "      <td>TreeNeuron</td>\n",
       "      <td>1734350788</td>\n",
       "      <td>1734350788</td>\n",
       "      <td>4465</td>\n",
       "      <td>None</td>\n",
       "      <td>603</td>\n",
       "      <td>619</td>\n",
       "      <td>266458.006156</td>\n",
       "      <td>[4176]</td>\n",
       "      <td>8 nanometer</td>\n",
       "    </tr>\n",
       "    <tr>\n",
       "      <th>1</th>\n",
       "      <td>TreeNeuron</td>\n",
       "      <td>1734350908</td>\n",
       "      <td>1734350908</td>\n",
       "      <td>4845</td>\n",
       "      <td>None</td>\n",
       "      <td>733</td>\n",
       "      <td>760</td>\n",
       "      <td>304277.012678</td>\n",
       "      <td>[6]</td>\n",
       "      <td>8 nanometer</td>\n",
       "    </tr>\n",
       "    <tr>\n",
       "      <th>2</th>\n",
       "      <td>TreeNeuron</td>\n",
       "      <td>722817260</td>\n",
       "      <td>722817260</td>\n",
       "      <td>4336</td>\n",
       "      <td>None</td>\n",
       "      <td>635</td>\n",
       "      <td>658</td>\n",
       "      <td>274910.560630</td>\n",
       "      <td>None</td>\n",
       "      <td>8 nanometer</td>\n",
       "    </tr>\n",
       "    <tr>\n",
       "      <th>3</th>\n",
       "      <td>TreeNeuron</td>\n",
       "      <td>754534424</td>\n",
       "      <td>754534424</td>\n",
       "      <td>4702</td>\n",
       "      <td>None</td>\n",
       "      <td>697</td>\n",
       "      <td>727</td>\n",
       "      <td>286742.979233</td>\n",
       "      <td>[4]</td>\n",
       "      <td>8 nanometer</td>\n",
       "    </tr>\n",
       "    <tr>\n",
       "      <th>4</th>\n",
       "      <td>TreeNeuron</td>\n",
       "      <td>754538881</td>\n",
       "      <td>754538881</td>\n",
       "      <td>4890</td>\n",
       "      <td>None</td>\n",
       "      <td>626</td>\n",
       "      <td>642</td>\n",
       "      <td>291434.987947</td>\n",
       "      <td>[703]</td>\n",
       "      <td>8 nanometer</td>\n",
       "    </tr>\n",
       "  </tbody>\n",
       "</table>\n",
       "</div>"
      ],
      "text/plain": [
       "<class 'navis.core.neuronlist.NeuronList'> of 5 neurons \n",
       "          type        name          id  n_nodes n_connectors  n_branches  \\\n",
       "0  TreeNeuron  1734350788  1734350788     4465         None         603   \n",
       "1  TreeNeuron  1734350908  1734350908     4845         None         733   \n",
       "2  TreeNeuron   722817260   722817260     4336         None         635   \n",
       "3  TreeNeuron   754534424   754534424     4702         None         697   \n",
       "4  TreeNeuron   754538881   754538881     4890         None         626   \n",
       "\n",
       "   n_leafs   cable_length    soma        units  \n",
       "0      619  266458.006156  [4176]  8 nanometer  \n",
       "1      760  304277.012678     [6]  8 nanometer  \n",
       "2      658  274910.560630    None  8 nanometer  \n",
       "3      727  286742.979233     [4]  8 nanometer  \n",
       "4      642  291434.987947   [703]  8 nanometer  "
      ]
     },
     "execution_count": 17,
     "metadata": {},
     "output_type": "execute_result"
    }
   ],
   "source": [
    "nl = navis.example_neurons(5, kind='skeleton')\n",
    "nl"
   ]
  },
  {
   "cell_type": "code",
   "execution_count": 18,
   "metadata": {},
   "outputs": [
    {
     "data": {
      "text/html": [
       "<div>\n",
       "<style scoped>\n",
       "    .dataframe tbody tr th:only-of-type {\n",
       "        vertical-align: middle;\n",
       "    }\n",
       "\n",
       "    .dataframe tbody tr th {\n",
       "        vertical-align: top;\n",
       "    }\n",
       "\n",
       "    .dataframe thead th {\n",
       "        text-align: right;\n",
       "    }\n",
       "</style>\n",
       "<table border=\"1\" class=\"dataframe\">\n",
       "  <thead>\n",
       "    <tr style=\"text-align: right;\">\n",
       "      <th></th>\n",
       "      <th>type</th>\n",
       "      <th>name</th>\n",
       "      <th>id</th>\n",
       "      <th>n_nodes</th>\n",
       "      <th>n_connectors</th>\n",
       "      <th>n_branches</th>\n",
       "      <th>n_leafs</th>\n",
       "      <th>cable_length</th>\n",
       "      <th>soma</th>\n",
       "      <th>units</th>\n",
       "    </tr>\n",
       "  </thead>\n",
       "  <tbody>\n",
       "    <tr>\n",
       "      <th>0</th>\n",
       "      <td>TreeNeuron</td>\n",
       "      <td>1734350908</td>\n",
       "      <td>1734350908</td>\n",
       "      <td>4845</td>\n",
       "      <td>None</td>\n",
       "      <td>733</td>\n",
       "      <td>760</td>\n",
       "      <td>304277.012678</td>\n",
       "      <td>[6]</td>\n",
       "      <td>8 nanometer</td>\n",
       "    </tr>\n",
       "    <tr>\n",
       "      <th>1</th>\n",
       "      <td>TreeNeuron</td>\n",
       "      <td>754534424</td>\n",
       "      <td>754534424</td>\n",
       "      <td>4702</td>\n",
       "      <td>None</td>\n",
       "      <td>697</td>\n",
       "      <td>727</td>\n",
       "      <td>286742.979233</td>\n",
       "      <td>[4]</td>\n",
       "      <td>8 nanometer</td>\n",
       "    </tr>\n",
       "    <tr>\n",
       "      <th>2</th>\n",
       "      <td>TreeNeuron</td>\n",
       "      <td>754538881</td>\n",
       "      <td>754538881</td>\n",
       "      <td>4890</td>\n",
       "      <td>None</td>\n",
       "      <td>626</td>\n",
       "      <td>642</td>\n",
       "      <td>291434.987947</td>\n",
       "      <td>[703]</td>\n",
       "      <td>8 nanometer</td>\n",
       "    </tr>\n",
       "  </tbody>\n",
       "</table>\n",
       "</div>"
      ],
      "text/plain": [
       "<class 'navis.core.neuronlist.NeuronList'> of 3 neurons \n",
       "          type        name          id  n_nodes n_connectors  n_branches  \\\n",
       "0  TreeNeuron  1734350908  1734350908     4845         None         733   \n",
       "1  TreeNeuron   754534424   754534424     4702         None         697   \n",
       "2  TreeNeuron   754538881   754538881     4890         None         626   \n",
       "\n",
       "   n_leafs   cable_length   soma        units  \n",
       "0      760  304277.012678    [6]  8 nanometer  \n",
       "1      727  286742.979233    [4]  8 nanometer  \n",
       "2      642  291434.987947  [703]  8 nanometer  "
      ]
     },
     "execution_count": 18,
     "metadata": {},
     "output_type": "execute_result"
    }
   ],
   "source": [
    "nl[nl.n_nodes > 4500]"
   ]
  },
  {
   "cell_type": "markdown",
   "metadata": {},
   "source": [
    "The above has (hopefully) given you an idea of the basic datastructure and idiom in NAVis. Now what can you do once you have your neurons loaded? The short answer is: a lot! The slightly longer answer is this:\n",
    "\n",
    "1. Convert between neuron types (e.g. skeletonize `MeshNeurons`)\n",
    "2. Process the neurons (e.g. simplifying, resampling or pruning)\n",
    "3. Morphometrics from basic stats to Strahler indices to Sholl analysis and more\n",
    "4. Visualisation\n",
    "\n",
    "We won't have time to go into much detail on any of the above but there are extensive [tutorials](https://navis.readthedocs.io/en/latest/source/gallery.html) if you have a particular interest. What we can do is give quick examples!\n",
    "\n",
    "#### Conversion\n",
    "A typical thing you might want to do is produce skeletons from meshes - e.g. to have a more compact representation or if you want to run some topological analysis."
   ]
  },
  {
   "cell_type": "code",
   "execution_count": 3,
   "metadata": {},
   "outputs": [
    {
     "data": {
      "text/html": [
       "<div>\n",
       "<style scoped>\n",
       "    .dataframe tbody tr th:only-of-type {\n",
       "        vertical-align: middle;\n",
       "    }\n",
       "\n",
       "    .dataframe tbody tr th {\n",
       "        vertical-align: top;\n",
       "    }\n",
       "\n",
       "    .dataframe thead th {\n",
       "        text-align: right;\n",
       "    }\n",
       "</style>\n",
       "<table border=\"1\" class=\"dataframe\">\n",
       "  <thead>\n",
       "    <tr style=\"text-align: right;\">\n",
       "      <th></th>\n",
       "      <th></th>\n",
       "    </tr>\n",
       "  </thead>\n",
       "  <tbody>\n",
       "    <tr>\n",
       "      <th>type</th>\n",
       "      <td>navis.MeshNeuron</td>\n",
       "    </tr>\n",
       "    <tr>\n",
       "      <th>name</th>\n",
       "      <td>DA1_lPN_R</td>\n",
       "    </tr>\n",
       "    <tr>\n",
       "      <th>id</th>\n",
       "      <td>1734350788</td>\n",
       "    </tr>\n",
       "    <tr>\n",
       "      <th>units</th>\n",
       "      <td>8 nanometer</td>\n",
       "    </tr>\n",
       "    <tr>\n",
       "      <th>n_vertices</th>\n",
       "      <td>6309</td>\n",
       "    </tr>\n",
       "    <tr>\n",
       "      <th>n_faces</th>\n",
       "      <td>13054</td>\n",
       "    </tr>\n",
       "  </tbody>\n",
       "</table>\n",
       "</div>"
      ],
      "text/plain": [
       "type          navis.MeshNeuron\n",
       "name                 DA1_lPN_R\n",
       "id                  1734350788\n",
       "units              8 nanometer\n",
       "n_vertices                6309\n",
       "n_faces                  13054\n",
       "dtype: object"
      ]
     },
     "execution_count": 3,
     "metadata": {},
     "output_type": "execute_result"
    }
   ],
   "source": [
    "# Load an example mesh neuron \n",
    "m = navis.example_neurons(1, kind='mesh')\n",
    "m"
   ]
  },
  {
   "cell_type": "code",
   "execution_count": 6,
   "metadata": {},
   "outputs": [
    {
     "data": {
      "text/html": [
       "<div>\n",
       "<style scoped>\n",
       "    .dataframe tbody tr th:only-of-type {\n",
       "        vertical-align: middle;\n",
       "    }\n",
       "\n",
       "    .dataframe tbody tr th {\n",
       "        vertical-align: top;\n",
       "    }\n",
       "\n",
       "    .dataframe thead th {\n",
       "        text-align: right;\n",
       "    }\n",
       "</style>\n",
       "<table border=\"1\" class=\"dataframe\">\n",
       "  <thead>\n",
       "    <tr style=\"text-align: right;\">\n",
       "      <th></th>\n",
       "      <th></th>\n",
       "    </tr>\n",
       "  </thead>\n",
       "  <tbody>\n",
       "    <tr>\n",
       "      <th>type</th>\n",
       "      <td>navis.TreeNeuron</td>\n",
       "    </tr>\n",
       "    <tr>\n",
       "      <th>name</th>\n",
       "      <td>DA1_lPN_R</td>\n",
       "    </tr>\n",
       "    <tr>\n",
       "      <th>id</th>\n",
       "      <td>1734350788</td>\n",
       "    </tr>\n",
       "    <tr>\n",
       "      <th>n_nodes</th>\n",
       "      <td>1070</td>\n",
       "    </tr>\n",
       "    <tr>\n",
       "      <th>n_connectors</th>\n",
       "      <td>None</td>\n",
       "    </tr>\n",
       "    <tr>\n",
       "      <th>n_branches</th>\n",
       "      <td>92</td>\n",
       "    </tr>\n",
       "    <tr>\n",
       "      <th>n_leafs</th>\n",
       "      <td>189</td>\n",
       "    </tr>\n",
       "    <tr>\n",
       "      <th>cable_length</th>\n",
       "      <td>163978.062363</td>\n",
       "    </tr>\n",
       "    <tr>\n",
       "      <th>soma</th>\n",
       "      <td>471</td>\n",
       "    </tr>\n",
       "    <tr>\n",
       "      <th>units</th>\n",
       "      <td>8 nanometer</td>\n",
       "    </tr>\n",
       "  </tbody>\n",
       "</table>\n",
       "</div>"
      ],
      "text/plain": [
       "type            navis.TreeNeuron\n",
       "name                   DA1_lPN_R\n",
       "id                    1734350788\n",
       "n_nodes                     1070\n",
       "n_connectors                None\n",
       "n_branches                   170\n",
       "n_leafs                      189\n",
       "cable_length       163978.062363\n",
       "soma                         471\n",
       "units                8 nanometer\n",
       "dtype: object"
      ]
     },
     "execution_count": 6,
     "metadata": {},
     "output_type": "execute_result"
    }
   ],
   "source": [
    "# Convert to skeleton (using the default settings here but there is plenty ways to optimize)\n",
    "s = navis.skeletonize(m)\n",
    "s"
   ]
  },
  {
   "cell_type": "markdown",
   "metadata": {},
   "source": [
    "#### Processing\n",
    "Skeletonization is a finicky process and it is easy to produce noisy skeletons. The skeleton produced above will look fairly good already but for the sake of the argument, let's say we need to clean it up a little:"
   ]
  },
  {
   "cell_type": "code",
   "execution_count": 7,
   "metadata": {},
   "outputs": [
    {
     "data": {
      "text/html": [
       "<div>\n",
       "<style scoped>\n",
       "    .dataframe tbody tr th:only-of-type {\n",
       "        vertical-align: middle;\n",
       "    }\n",
       "\n",
       "    .dataframe tbody tr th {\n",
       "        vertical-align: top;\n",
       "    }\n",
       "\n",
       "    .dataframe thead th {\n",
       "        text-align: right;\n",
       "    }\n",
       "</style>\n",
       "<table border=\"1\" class=\"dataframe\">\n",
       "  <thead>\n",
       "    <tr style=\"text-align: right;\">\n",
       "      <th></th>\n",
       "      <th></th>\n",
       "    </tr>\n",
       "  </thead>\n",
       "  <tbody>\n",
       "    <tr>\n",
       "      <th>type</th>\n",
       "      <td>navis.TreeNeuron</td>\n",
       "    </tr>\n",
       "    <tr>\n",
       "      <th>name</th>\n",
       "      <td>DA1_lPN_R</td>\n",
       "    </tr>\n",
       "    <tr>\n",
       "      <th>id</th>\n",
       "      <td>1734350788</td>\n",
       "    </tr>\n",
       "    <tr>\n",
       "      <th>n_nodes</th>\n",
       "      <td>997</td>\n",
       "    </tr>\n",
       "    <tr>\n",
       "      <th>n_connectors</th>\n",
       "      <td>None</td>\n",
       "    </tr>\n",
       "    <tr>\n",
       "      <th>n_branches</th>\n",
       "      <td>89</td>\n",
       "    </tr>\n",
       "    <tr>\n",
       "      <th>n_leafs</th>\n",
       "      <td>117</td>\n",
       "    </tr>\n",
       "    <tr>\n",
       "      <th>cable_length</th>\n",
       "      <td>162415.971781</td>\n",
       "    </tr>\n",
       "    <tr>\n",
       "      <th>soma</th>\n",
       "      <td>471</td>\n",
       "    </tr>\n",
       "    <tr>\n",
       "      <th>units</th>\n",
       "      <td>8 nanometer</td>\n",
       "    </tr>\n",
       "  </tbody>\n",
       "</table>\n",
       "</div>"
      ],
      "text/plain": [
       "type            navis.TreeNeuron\n",
       "name                   DA1_lPN_R\n",
       "id                    1734350788\n",
       "n_nodes                      997\n",
       "n_connectors                None\n",
       "n_branches                    92\n",
       "n_leafs                      117\n",
       "cable_length       162415.971781\n",
       "soma                         471\n",
       "units                8 nanometer\n",
       "dtype: object"
      ]
     },
     "execution_count": 7,
     "metadata": {},
     "output_type": "execute_result"
    }
   ],
   "source": [
    "# Prune some small twigs/bristles to make the skeleton cleaner \n",
    "# This neuron is in 8x8x8nm voxel space - let's prune all terminal twigs under 125 voxels = 1 micron\n",
    "s = navis.prune_twigs(s, 125)\n",
    "s"
   ]
  },
  {
   "cell_type": "code",
   "execution_count": 17,
   "metadata": {},
   "outputs": [
    {
     "data": {
      "application/vnd.jupyter.widget-view+json": {
       "model_id": "",
       "version_major": 2,
       "version_minor": 0
      },
      "text/plain": [
       "Smoothing:   0%|          | 0/117 [00:00<?, ?it/s]"
      ]
     },
     "metadata": {},
     "output_type": "display_data"
    },
    {
     "data": {
      "text/html": [
       "<div>\n",
       "<style scoped>\n",
       "    .dataframe tbody tr th:only-of-type {\n",
       "        vertical-align: middle;\n",
       "    }\n",
       "\n",
       "    .dataframe tbody tr th {\n",
       "        vertical-align: top;\n",
       "    }\n",
       "\n",
       "    .dataframe thead th {\n",
       "        text-align: right;\n",
       "    }\n",
       "</style>\n",
       "<table border=\"1\" class=\"dataframe\">\n",
       "  <thead>\n",
       "    <tr style=\"text-align: right;\">\n",
       "      <th></th>\n",
       "      <th></th>\n",
       "    </tr>\n",
       "  </thead>\n",
       "  <tbody>\n",
       "    <tr>\n",
       "      <th>type</th>\n",
       "      <td>navis.TreeNeuron</td>\n",
       "    </tr>\n",
       "    <tr>\n",
       "      <th>name</th>\n",
       "      <td>DA1_lPN_R</td>\n",
       "    </tr>\n",
       "    <tr>\n",
       "      <th>id</th>\n",
       "      <td>1734350788</td>\n",
       "    </tr>\n",
       "    <tr>\n",
       "      <th>n_nodes</th>\n",
       "      <td>997</td>\n",
       "    </tr>\n",
       "    <tr>\n",
       "      <th>n_connectors</th>\n",
       "      <td>None</td>\n",
       "    </tr>\n",
       "    <tr>\n",
       "      <th>n_branches</th>\n",
       "      <td>89</td>\n",
       "    </tr>\n",
       "    <tr>\n",
       "      <th>n_leafs</th>\n",
       "      <td>117</td>\n",
       "    </tr>\n",
       "    <tr>\n",
       "      <th>cable_length</th>\n",
       "      <td>154236.760733</td>\n",
       "    </tr>\n",
       "    <tr>\n",
       "      <th>soma</th>\n",
       "      <td>471</td>\n",
       "    </tr>\n",
       "    <tr>\n",
       "      <th>units</th>\n",
       "      <td>8 nanometer</td>\n",
       "    </tr>\n",
       "  </tbody>\n",
       "</table>\n",
       "</div>"
      ],
      "text/plain": [
       "type            navis.TreeNeuron\n",
       "name                   DA1_lPN_R\n",
       "id                    1734350788\n",
       "n_nodes                      997\n",
       "n_connectors                None\n",
       "n_branches                    89\n",
       "n_leafs                      117\n",
       "cable_length       154236.760733\n",
       "soma                         471\n",
       "units                8 nanometer\n",
       "dtype: object"
      ]
     },
     "execution_count": 17,
     "metadata": {},
     "output_type": "execute_result"
    }
   ],
   "source": [
    "# Note how the number of nodes and leafs has dropped?\n",
    "# Next, let's smooth the neuron a little \n",
    "s = navis.smooth_skeleton(s, window=2)\n",
    "s"
   ]
  },
  {
   "cell_type": "markdown",
   "metadata": {},
   "source": [
    "All of the processing steps (and indeed most NAVis functions) accept not only single neurons but whole `NeuronLists` which makes it easy to process batches of neurons. More importantly, you can in many cases set `parallel=True` and NAVis will use multiple cores to process your list of neurons.\n",
    "\n",
    "#### Morphometrics\n",
    "\n",
    "You have already seen the little summary you get when you just print a neuron or a `NeuronList`. For `TreeNeurons`, for example, this gives you things like the number of branch points and leafs or the cable length. Getting these data as a `pandas` object (`Series` for single neurons, `DataFrame` for lists) is easy:"
   ]
  },
  {
   "cell_type": "code",
   "execution_count": 18,
   "metadata": {},
   "outputs": [
    {
     "data": {
      "text/plain": [
       "type            navis.TreeNeuron\n",
       "name                   DA1_lPN_R\n",
       "id                    1734350788\n",
       "n_nodes                      997\n",
       "n_connectors                None\n",
       "n_branches                    89\n",
       "n_leafs                      117\n",
       "cable_length       154236.760733\n",
       "soma                         471\n",
       "units                8 nanometer\n",
       "dtype: object"
      ]
     },
     "execution_count": 18,
     "metadata": {},
     "output_type": "execute_result"
    }
   ],
   "source": [
    "sm = s.summary()\n",
    "sm"
   ]
  },
  {
   "cell_type": "code",
   "execution_count": 19,
   "metadata": {},
   "outputs": [
    {
     "data": {
      "text/plain": [
       "pandas.core.series.Series"
      ]
     },
     "execution_count": 19,
     "metadata": {},
     "output_type": "execute_result"
    }
   ],
   "source": [
    "type(sm)"
   ]
  },
  {
   "cell_type": "code",
   "execution_count": 20,
   "metadata": {},
   "outputs": [
    {
     "data": {
      "text/plain": [
       "154236.76073285105"
      ]
     },
     "execution_count": 20,
     "metadata": {},
     "output_type": "execute_result"
    }
   ],
   "source": [
    "sm.cable_length"
   ]
  },
  {
   "cell_type": "markdown",
   "metadata": {},
   "source": [
    "The more elaborate (read: \"more expensive\") morphometrics have their own functions. Let's for example get a summary for each of the neurons segments (i.e. the linear neurites between a leaf and a branch point or between two branch points):"
   ]
  },
  {
   "cell_type": "code",
   "execution_count": 21,
   "metadata": {},
   "outputs": [
    {
     "data": {
      "text/html": [
       "<div>\n",
       "<style scoped>\n",
       "    .dataframe tbody tr th:only-of-type {\n",
       "        vertical-align: middle;\n",
       "    }\n",
       "\n",
       "    .dataframe tbody tr th {\n",
       "        vertical-align: top;\n",
       "    }\n",
       "\n",
       "    .dataframe thead th {\n",
       "        text-align: right;\n",
       "    }\n",
       "</style>\n",
       "<table border=\"1\" class=\"dataframe\">\n",
       "  <thead>\n",
       "    <tr style=\"text-align: right;\">\n",
       "      <th></th>\n",
       "      <th>length</th>\n",
       "      <th>tortuosity</th>\n",
       "      <th>root_dist</th>\n",
       "      <th>strahler_index</th>\n",
       "      <th>radius_mean</th>\n",
       "      <th>radius_min</th>\n",
       "      <th>radius_max</th>\n",
       "      <th>volume</th>\n",
       "    </tr>\n",
       "  </thead>\n",
       "  <tbody>\n",
       "    <tr>\n",
       "      <th>0</th>\n",
       "      <td>886.106573</td>\n",
       "      <td>1.057123</td>\n",
       "      <td>10702.162815</td>\n",
       "      <td>1</td>\n",
       "      <td>96.461838</td>\n",
       "      <td>65.294486</td>\n",
       "      <td>160.866422</td>\n",
       "      <td>3.110501e+07</td>\n",
       "    </tr>\n",
       "    <tr>\n",
       "      <th>1</th>\n",
       "      <td>760.952529</td>\n",
       "      <td>1.291517</td>\n",
       "      <td>11988.506717</td>\n",
       "      <td>2</td>\n",
       "      <td>149.719500</td>\n",
       "      <td>99.641339</td>\n",
       "      <td>220.210002</td>\n",
       "      <td>5.652592e+07</td>\n",
       "    </tr>\n",
       "    <tr>\n",
       "      <th>2</th>\n",
       "      <td>746.575429</td>\n",
       "      <td>1.281007</td>\n",
       "      <td>11660.401652</td>\n",
       "      <td>3</td>\n",
       "      <td>113.542870</td>\n",
       "      <td>69.171935</td>\n",
       "      <td>218.156636</td>\n",
       "      <td>2.918815e+07</td>\n",
       "    </tr>\n",
       "    <tr>\n",
       "      <th>3</th>\n",
       "      <td>396.056718</td>\n",
       "      <td>1.282277</td>\n",
       "      <td>11316.189491</td>\n",
       "      <td>3</td>\n",
       "      <td>154.714224</td>\n",
       "      <td>87.315559</td>\n",
       "      <td>212.842108</td>\n",
       "      <td>2.557628e+07</td>\n",
       "    </tr>\n",
       "    <tr>\n",
       "      <th>4</th>\n",
       "      <td>422.573043</td>\n",
       "      <td>1.029124</td>\n",
       "      <td>12962.664972</td>\n",
       "      <td>1</td>\n",
       "      <td>105.596022</td>\n",
       "      <td>63.180517</td>\n",
       "      <td>181.598752</td>\n",
       "      <td>2.466662e+07</td>\n",
       "    </tr>\n",
       "  </tbody>\n",
       "</table>\n",
       "</div>"
      ],
      "text/plain": [
       "       length  tortuosity     root_dist  strahler_index  radius_mean  \\\n",
       "0  886.106573    1.057123  10702.162815               1    96.461838   \n",
       "1  760.952529    1.291517  11988.506717               2   149.719500   \n",
       "2  746.575429    1.281007  11660.401652               3   113.542870   \n",
       "3  396.056718    1.282277  11316.189491               3   154.714224   \n",
       "4  422.573043    1.029124  12962.664972               1   105.596022   \n",
       "\n",
       "   radius_min  radius_max        volume  \n",
       "0   65.294486  160.866422  3.110501e+07  \n",
       "1   99.641339  220.210002  5.652592e+07  \n",
       "2   69.171935  218.156636  2.918815e+07  \n",
       "3   87.315559  212.842108  2.557628e+07  \n",
       "4   63.180517  181.598752  2.466662e+07  "
      ]
     },
     "execution_count": 21,
     "metadata": {},
     "output_type": "execute_result"
    }
   ],
   "source": [
    "sa = navis.segment_analysis(s)\n",
    "sa.head()"
   ]
  },
  {
   "cell_type": "markdown",
   "metadata": {},
   "source": [
    "See the docs and tutorials for more details on the available morphometrics.\n",
    "\n",
    "#### Visualisation\n",
    "Visualising neurons is a core aspect of NAVis (it's in the name after all). Consequently there is _a ton_ of things you can do - for which there is a bunch of separate tutorials. For demo purposes, let's just co-visualize the skeleton and the mesh we made it from:"
   ]
  },
  {
   "cell_type": "code",
   "execution_count": null,
   "metadata": {},
   "outputs": [],
   "source": [
    "navis.plot3d([m, s],   # pass the two objects (mesh + skeleton) we want to plot\n",
    "             colors = [(.3, .3, .3, .2), 'r']  # make the mesh translucent and the skeleton red\n",
    "            )"
   ]
  },
  {
   "cell_type": "markdown",
   "metadata": {},
   "source": [
    "Make sure to zoom in to compare mesh and skeleton. Note that in this case, the earlier smoothing has \"pulled\" the skeleton outside the mesh in the finer neurites. If you like, try skeletonizing again, skip the smoothing step and regenerate the plot above.\n",
    "\n",
    "\n",
    "That's it for now. Again: please see the [docs](https://navis.readthedocs.io/en/latest/?badge=latest) and [tutorials](https://navis.readthedocs.io/en/latest/source/gallery.html) for details and further inspiration."
   ]
  }
 ],
 "metadata": {
  "celltoolbar": "Raw Cell Format",
  "kernelspec": {
   "display_name": "Python 3 (ipykernel)",
   "language": "python",
   "name": "python3"
  },
  "language_info": {
   "codemirror_mode": {
    "name": "ipython",
    "version": 3
   },
   "file_extension": ".py",
   "mimetype": "text/x-python",
   "name": "python",
   "nbconvert_exporter": "python",
   "pygments_lexer": "ipython3",
   "version": "3.9.9"
  },
  "widgets": {
   "application/vnd.jupyter.widget-state+json": {
    "state": {
     "102b06933949400bb5cc26677b201669": {
      "model_module": "@jupyter-widgets/base",
      "model_module_version": "1.2.0",
      "model_name": "LayoutModel",
      "state": {}
     },
     "1b75693f95804851a5897ad0f92a2748": {
      "model_module": "@jupyter-widgets/controls",
      "model_module_version": "1.5.0",
      "model_name": "DescriptionStyleModel",
      "state": {
       "description_width": ""
      }
     },
     "1e2dff7c0fb94d8cba6419aa5efac1f5": {
      "model_module": "@jupyter-widgets/controls",
      "model_module_version": "1.5.0",
      "model_name": "DescriptionStyleModel",
      "state": {
       "description_width": ""
      }
     },
     "24a37a68a96a4f3d827c20189fb0b6cb": {
      "model_module": "@jupyter-widgets/base",
      "model_module_version": "1.2.0",
      "model_name": "LayoutModel",
      "state": {}
     },
     "270d0220bb644db2b87131aec924ac67": {
      "model_module": "@jupyter-widgets/controls",
      "model_module_version": "1.5.0",
      "model_name": "DescriptionStyleModel",
      "state": {
       "description_width": ""
      }
     },
     "281da368388e4d5bb401b0981905a903": {
      "model_module": "@jupyter-widgets/base",
      "model_module_version": "1.2.0",
      "model_name": "LayoutModel",
      "state": {}
     },
     "47e9910222ec4ca0a2eae8b0e27111d3": {
      "model_module": "@jupyter-widgets/controls",
      "model_module_version": "1.5.0",
      "model_name": "FloatProgressModel",
      "state": {
       "layout": "IPY_MODEL_705548406c2c4eefb5ce733033463a1f",
       "max": 117,
       "style": "IPY_MODEL_fff8e06e97594dfab9d42339e1e70bae",
       "value": 117
      }
     },
     "4b26091e00c14f67969cebcc82af8b9c": {
      "model_module": "@jupyter-widgets/controls",
      "model_module_version": "1.5.0",
      "model_name": "ProgressStyleModel",
      "state": {
       "description_width": ""
      }
     },
     "4bf18dbea20b40a79c5c09ec48fafaf7": {
      "model_module": "@jupyter-widgets/controls",
      "model_module_version": "1.5.0",
      "model_name": "HTMLModel",
      "state": {
       "layout": "IPY_MODEL_760f1f88d8c647d0b19f87c4130b42e1",
       "style": "IPY_MODEL_1b75693f95804851a5897ad0f92a2748",
       "value": "Smoothing:  62%"
      }
     },
     "4c99e98ec2774651b0e3e455d4f45bc6": {
      "model_module": "@jupyter-widgets/controls",
      "model_module_version": "1.5.0",
      "model_name": "FloatProgressModel",
      "state": {
       "layout": "IPY_MODEL_5823b0c14e4a46b198d0c97c8e495dcc",
       "max": 117,
       "style": "IPY_MODEL_4b26091e00c14f67969cebcc82af8b9c",
       "value": 117
      }
     },
     "5823b0c14e4a46b198d0c97c8e495dcc": {
      "model_module": "@jupyter-widgets/base",
      "model_module_version": "1.2.0",
      "model_name": "LayoutModel",
      "state": {}
     },
     "6595fcfccd3840808d5d34cb15b04357": {
      "model_module": "@jupyter-widgets/controls",
      "model_module_version": "1.5.0",
      "model_name": "DescriptionStyleModel",
      "state": {
       "description_width": ""
      }
     },
     "6628cb5cf6c3417bbebf8adf61f362a5": {
      "model_module": "@jupyter-widgets/controls",
      "model_module_version": "1.5.0",
      "model_name": "FloatProgressModel",
      "state": {
       "layout": "IPY_MODEL_102b06933949400bb5cc26677b201669",
       "max": 117,
       "style": "IPY_MODEL_a82bd1d188c84f69af74dd0cce1e9a34",
       "value": 117
      }
     },
     "705548406c2c4eefb5ce733033463a1f": {
      "model_module": "@jupyter-widgets/base",
      "model_module_version": "1.2.0",
      "model_name": "LayoutModel",
      "state": {}
     },
     "760f1f88d8c647d0b19f87c4130b42e1": {
      "model_module": "@jupyter-widgets/base",
      "model_module_version": "1.2.0",
      "model_name": "LayoutModel",
      "state": {}
     },
     "852dc7e18abf4dd08126b448bf606fa3": {
      "model_module": "@jupyter-widgets/base",
      "model_module_version": "1.2.0",
      "model_name": "LayoutModel",
      "state": {}
     },
     "8bb67b3ab5e24d12916b5e2e461fbc17": {
      "model_module": "@jupyter-widgets/controls",
      "model_module_version": "1.5.0",
      "model_name": "DescriptionStyleModel",
      "state": {
       "description_width": ""
      }
     },
     "a82bd1d188c84f69af74dd0cce1e9a34": {
      "model_module": "@jupyter-widgets/controls",
      "model_module_version": "1.5.0",
      "model_name": "ProgressStyleModel",
      "state": {
       "description_width": ""
      }
     },
     "bc2393e2248b456ba1a7404824e86374": {
      "model_module": "@jupyter-widgets/controls",
      "model_module_version": "1.5.0",
      "model_name": "HTMLModel",
      "state": {
       "layout": "IPY_MODEL_281da368388e4d5bb401b0981905a903",
       "style": "IPY_MODEL_d7bf6c79b88244969d3440f56a3d83bb",
       "value": " 117/117 [00:00&lt;00:00, 395.94it/s]"
      }
     },
     "bd2b47b36b284adf95aaceca118027f3": {
      "model_module": "@jupyter-widgets/base",
      "model_module_version": "1.2.0",
      "model_name": "LayoutModel",
      "state": {}
     },
     "c1f91379dd4e4540b7047323de61df8f": {
      "model_module": "@jupyter-widgets/base",
      "model_module_version": "1.2.0",
      "model_name": "LayoutModel",
      "state": {}
     },
     "d59550cf94194819951c0d05cc9d85cd": {
      "model_module": "@jupyter-widgets/controls",
      "model_module_version": "1.5.0",
      "model_name": "HTMLModel",
      "state": {
       "layout": "IPY_MODEL_f1bfd93b404b4883bad88c661e7efb79",
       "style": "IPY_MODEL_6595fcfccd3840808d5d34cb15b04357",
       "value": "Smoothing: 100%"
      }
     },
     "d7bf6c79b88244969d3440f56a3d83bb": {
      "model_module": "@jupyter-widgets/controls",
      "model_module_version": "1.5.0",
      "model_name": "DescriptionStyleModel",
      "state": {
       "description_width": ""
      }
     },
     "e031e936b2d544058fb59c5b5266aa3f": {
      "model_module": "@jupyter-widgets/controls",
      "model_module_version": "1.5.0",
      "model_name": "HTMLModel",
      "state": {
       "layout": "IPY_MODEL_fe2a5c1d28da4db4a193a5eb0fe22247",
       "style": "IPY_MODEL_8bb67b3ab5e24d12916b5e2e461fbc17",
       "value": "Smoothing:  89%"
      }
     },
     "e499e2f5711f4093947f4bcbab38595d": {
      "model_module": "@jupyter-widgets/controls",
      "model_module_version": "1.5.0",
      "model_name": "HTMLModel",
      "state": {
       "layout": "IPY_MODEL_bd2b47b36b284adf95aaceca118027f3",
       "style": "IPY_MODEL_1e2dff7c0fb94d8cba6419aa5efac1f5",
       "value": " 104/117 [00:00&lt;00:00, 360.00it/s]"
      }
     },
     "f1bfd93b404b4883bad88c661e7efb79": {
      "model_module": "@jupyter-widgets/base",
      "model_module_version": "1.2.0",
      "model_name": "LayoutModel",
      "state": {}
     },
     "fcb7e565f3b74cb68010d35a2da63b20": {
      "model_module": "@jupyter-widgets/base",
      "model_module_version": "1.2.0",
      "model_name": "LayoutModel",
      "state": {}
     },
     "fd6c490b704c49b7b52722a7fbe60c7f": {
      "model_module": "@jupyter-widgets/controls",
      "model_module_version": "1.5.0",
      "model_name": "HTMLModel",
      "state": {
       "layout": "IPY_MODEL_fcb7e565f3b74cb68010d35a2da63b20",
       "style": "IPY_MODEL_270d0220bb644db2b87131aec924ac67",
       "value": " 72/117 [00:00&lt;00:00, 371.43it/s]"
      }
     },
     "fe2a5c1d28da4db4a193a5eb0fe22247": {
      "model_module": "@jupyter-widgets/base",
      "model_module_version": "1.2.0",
      "model_name": "LayoutModel",
      "state": {}
     },
     "fff8e06e97594dfab9d42339e1e70bae": {
      "model_module": "@jupyter-widgets/controls",
      "model_module_version": "1.5.0",
      "model_name": "ProgressStyleModel",
      "state": {
       "description_width": ""
      }
     }
    },
    "version_major": 2,
    "version_minor": 0
   }
  }
 },
 "nbformat": 4,
 "nbformat_minor": 4
}
