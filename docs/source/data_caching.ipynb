{
   "nbformat": 4,
   "nbformat_minor": 2,
   "cells": [
      {
         "cell_type": "raw",
         "source": [
            "Data caching\n",
            "------------\n",
            "\n",
            "To speed up reoccurring queries to the server, pymaid lets you cache data. This behaviour is, by default, switched on:"
         ],
         "metadata": {
            "raw_mimetype": "text/restructuredtext"
         }
      },
      {
         "outputs": [
            {
               "output_type": "stream",
               "text": [
                  "INFO  : Global CATMAID instance set. (pymaid)\n"
               ],
               "name": "stderr"
            }
         ],
         "cell_type": "code",
         "source": [
            "import pymaid \n",
            "rm = pymaid.CatmaidInstance('server_url', 'http_user', 'http_pw', 'token')"
         ],
         "execution_count": 1,
         "metadata": {}
      },
      {
         "cell_type": "raw",
         "source": [
            "Query for a neuron for the first time:"
         ],
         "metadata": {
            "raw_mimetype": "text/restructuredtext"
         }
      },
      {
         "outputs": [
            {
               "output_type": "stream",
               "text": [
                  "CPU times: user 146 ms, sys: 10.6 ms, total: 156 ms\n",
                  "Wall time: 1.01 s\n"
               ],
               "name": "stdout"
            }
         ],
         "cell_type": "code",
         "source": [
            "%time n = pymaid.get_neuron(16)"
         ],
         "execution_count": 2,
         "metadata": {}
      },
      {
         "cell_type": "raw",
         "source": [
            "Query for the same neuron a second time:"
         ],
         "metadata": {
            "raw_mimetype": "text/restructuredtext"
         }
      },
      {
         "outputs": [
            {
               "output_type": "stream",
               "text": [
                  "INFO  : Cached data used. (pymaid)\n",
                  "INFO  : Cached data used. (pymaid)\n"
               ],
               "name": "stderr"
            },
            {
               "output_type": "stream",
               "text": [
                  "CPU times: user 128 ms, sys: 6.77 ms, total: 135 ms\n",
                  "Wall time: 146 ms\n"
               ],
               "name": "stdout"
            }
         ],
         "cell_type": "code",
         "source": [
            "%time n2 = pymaid.get_neuron(16)"
         ],
         "execution_count": 3,
         "metadata": {}
      },
      {
         "cell_type": "raw",
         "source": [
            "For the second query cached data was used which gives us almost a 10x speed-up. \n",
            "\n",
            "Fine-tuning the cache\n",
            "=====================\n",
            "\n",
            "You can restrict the usage of cached data either by size to prevent running out of memory or by time to discard old data:"
         ],
         "metadata": {
            "raw_mimetype": "text/restructuredtext"
         }
      },
      {
         "cell_type": "raw",
         "source": [
            "Caching is a property of the :class:`~pymaid.CatmaidInstance` you are using. Here, we are changing max memory used to 256 megabytes (default is 128mb) and to a max age of 15min (= 900s; no limit by default):"
         ],
         "metadata": {
            "raw_mimetype": "text/restructuredtext"
         }
      },
      {
         "outputs": [],
         "cell_type": "code",
         "source": [
            "rm.setup_cache(size_limit=128, time_limit=900)"
         ],
         "execution_count": 4,
         "metadata": {}
      },
      {
         "cell_type": "raw",
         "source": [
            "You can inspect the size of your current cache [mb]:"
         ],
         "metadata": {
            "raw_mimetype": "text/restructuredtext"
         }
      },
      {
         "outputs": [
            {
               "output_type": "execute_result",
               "metadata": {},
               "execution_count": 5,
               "data": {
                  "text/plain": [
                     "0.8"
                  ]
               }
            }
         ],
         "cell_type": "code",
         "source": [
            "rm.cache_size"
         ],
         "execution_count": 5,
         "metadata": {}
      },
      {
         "cell_type": "raw",
         "source": [
            "You can also clear the cache:"
         ],
         "metadata": {
            "raw_mimetype": "text/restructuredtext"
         }
      },
      {
         "outputs": [
            {
               "output_type": "execute_result",
               "metadata": {},
               "execution_count": 6,
               "data": {
                  "text/plain": [
                     "0.0"
                  ]
               }
            }
         ],
         "cell_type": "code",
         "source": [
            "rm.clear_cache()\n",
            "rm.cache_size"
         ],
         "execution_count": 6,
         "metadata": {}
      },
      {
         "cell_type": "raw",
         "source": [
            "Switching off caching can either be done when initializing the :class:`~pymaid.CatmaidInstance`..."
         ],
         "metadata": {
            "raw_mimetype": "text/restructuredtext"
         }
      },
      {
         "outputs": [],
         "cell_type": "code",
         "source": [
            "rm = pymaid.CatmaidInstance('server_url', 'http_user', 'http_pw', 'token', caching=False)"
         ],
         "execution_count": 7,
         "metadata": {}
      },
      {
         "cell_type": "raw",
         "source": [
            "... or by changing the according attribute on the go:"
         ],
         "metadata": {
            "raw_mimetype": "text/restructuredtext"
         }
      },
      {
         "outputs": [],
         "cell_type": "code",
         "source": [
            "rm.caching = False"
         ],
         "execution_count": 8,
         "metadata": {}
      },
      {
         "cell_type": "raw",
         "source": [
            "Saving cache\n",
            "============\n",
            "\n",
            "Imagine running some analysis: What if you want to preserve the exact data that was used for that analysis? You can save the cache into a separate file and restore it later:"
         ],
         "metadata": {
            "raw_mimetype": "text/restructuredtext"
         }
      },
      {
         "outputs": [
            {
               "output_type": "stream",
               "text": [
                  "INFO  : Cached data used. (pymaid)\n",
                  "INFO  : Cached data used. (pymaid)\n"
               ],
               "name": "stderr"
            }
         ],
         "cell_type": "code",
         "source": [
            "n = pymaid.get_neuron(16)\n",
            "rm.save_cache('cache.pickle')\n",
            "\n",
            "rm.clear_cache()\n",
            "rm.load_cache('cache.pickle')\n",
            "\n",
            "n = pymaid.get_neuron(16)"
         ],
         "execution_count": 9,
         "metadata": {}
      }
   ],
   "metadata": {
      "language_info": {
         "pygments_lexer": "ipython3",
         "mimetype": "text/x-python",
         "version": "3.5.3",
         "codemirror_mode": {
            "version": 3,
            "name": "ipython"
         },
         "file_extension": ".py",
         "name": "python",
         "nbconvert_exporter": "python"
      },
      "kernelspec": {
         "display_name": "Python 3",
         "language": "python",
         "name": "python3"
      },
      "celltoolbar": "Raw Cell Format"
   }
}