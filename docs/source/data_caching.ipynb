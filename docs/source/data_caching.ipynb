{
   "nbformat": 4,
   "metadata": {
      "kernelspec": {
         "name": "python3",
         "display_name": "Python 3",
         "language": "python"
      },
      "celltoolbar": "Raw Cell Format",
      "language_info": {
         "name": "python",
         "file_extension": ".py",
         "nbconvert_exporter": "python",
         "version": "3.5.3",
         "codemirror_mode": {
            "name": "ipython",
            "version": 3
         },
         "pygments_lexer": "ipython3",
         "mimetype": "text/x-python"
      }
   },
   "cells": [
      {
         "cell_type": "raw",
         "metadata": {
            "raw_mimetype": "text/restructuredtext"
         },
         "source": [
            "Data caching\n",
            "------------\n",
            "\n",
            "To speed up reoccurring queries to the server, pymaid lets you cache data. This behaviour is, by default, switched on:"
         ]
      },
      {
         "execution_count": 1,
         "cell_type": "code",
         "metadata": {},
         "source": [
            "import pymaid \n",
            "rm = pymaid.CatmaidInstance('server_url', 'http_user', 'http_pw', 'token')"
         ],
         "outputs": [
            {
               "name": "stderr",
               "output_type": "stream",
               "text": [
                  "INFO  : Global CATMAID instance set. (pymaid)\n"
               ]
            }
         ]
      },
      {
         "cell_type": "raw",
         "metadata": {
            "raw_mimetype": "text/restructuredtext"
         },
         "source": [
            "Query for a neuron for the first time:"
         ]
      },
      {
         "execution_count": 2,
         "cell_type": "code",
         "metadata": {},
         "source": [
            "%time n = pymaid.get_neuron(16)"
         ],
         "outputs": [
            {
               "name": "stdout",
               "output_type": "stream",
               "text": [
                  "CPU times: user 146 ms, sys: 10.6 ms, total: 156 ms\n",
                  "Wall time: 1.01 s\n"
               ]
            }
         ]
      },
      {
         "cell_type": "raw",
         "metadata": {
            "raw_mimetype": "text/restructuredtext"
         },
         "source": [
            "Query for the same neuron a second time:"
         ]
      },
      {
         "execution_count": 3,
         "cell_type": "code",
         "metadata": {},
         "source": [
            "%time n2 = pymaid.get_neuron(16)"
         ],
         "outputs": [
            {
               "name": "stderr",
               "output_type": "stream",
               "text": [
                  "INFO  : Cached data used. (pymaid)\n",
                  "INFO  : Cached data used. (pymaid)\n"
               ]
            },
            {
               "name": "stdout",
               "output_type": "stream",
               "text": [
                  "CPU times: user 128 ms, sys: 6.77 ms, total: 135 ms\n",
                  "Wall time: 146 ms\n"
               ]
            }
         ]
      },
      {
         "cell_type": "raw",
         "metadata": {
            "raw_mimetype": "text/restructuredtext"
         },
         "source": [
            "For the second query cached data was used which gives us almost a 10x speed-up. \n",
            "\n",
            "Fine-tuning the cache\n",
            "=====================\n",
            "\n",
            "You can restrict the usage of cached data either by size to prevent running out of memory or by time to discard old data:"
         ]
      },
      {
         "cell_type": "raw",
         "metadata": {
            "raw_mimetype": "text/restructuredtext"
         },
         "source": [
            "Caching is a property of the :class:`~pymaid.CatmaidInstance` you are using. Here, we are changing max memory used to 256 megabytes (default is 128mb) and to a max age of 15min (= 900s; no limit by default):"
         ]
      },
      {
         "execution_count": 4,
         "cell_type": "code",
         "metadata": {},
         "source": [
            "rm.setup_cache(size_limit=128, time_limit=900)"
         ],
         "outputs": []
      },
      {
         "cell_type": "raw",
         "metadata": {
            "raw_mimetype": "text/restructuredtext"
         },
         "source": [
            "You can inspect the size of your current cache [mb]:"
         ]
      },
      {
         "execution_count": 5,
         "cell_type": "code",
         "metadata": {},
         "source": [
            "rm.cache_size"
         ],
         "outputs": [
            {
               "output_type": "execute_result",
               "metadata": {},
               "execution_count": 5,
               "data": {
                  "text/plain": [
                     "0.8"
                  ]
               }
            }
         ]
      },
      {
         "cell_type": "raw",
         "metadata": {
            "raw_mimetype": "text/restructuredtext"
         },
         "source": [
            "You can also clear the cache:"
         ]
      },
      {
         "execution_count": 6,
         "cell_type": "code",
         "metadata": {},
         "source": [
            "rm.clear_cache()\n",
            "rm.cache_size"
         ],
         "outputs": [
            {
               "output_type": "execute_result",
               "metadata": {},
               "execution_count": 6,
               "data": {
                  "text/plain": [
                     "0.0"
                  ]
               }
            }
         ]
      },
      {
         "cell_type": "raw",
         "metadata": {
            "raw_mimetype": "text/restructuredtext"
         },
         "source": [
            "Switching off caching can either be done when initializing the :class:`~pymaid.CatmaidInstance`..."
         ]
      },
      {
         "execution_count": 7,
         "cell_type": "code",
         "metadata": {},
         "source": [
            "rm = pymaid.CatmaidInstance('server_url', 'http_user', 'http_pw', 'token', caching=False)"
         ],
         "outputs": []
      },
      {
         "cell_type": "raw",
         "metadata": {
            "raw_mimetype": "text/restructuredtext"
         },
         "source": [
            "... or by changing the according attribute on the go:"
         ]
      },
      {
         "execution_count": 8,
         "cell_type": "code",
         "metadata": {},
         "source": [
            "rm.caching = False"
         ],
         "outputs": []
      },
      {
         "cell_type": "raw",
         "metadata": {
            "raw_mimetype": "text/restructuredtext"
         },
         "source": [
            "Saving cache\n",
            "============\n",
            "\n",
            "Imagine running some analysis: What if you want to preserve the exact data that was used for that analysis? You can save the cache into a separate file and restore it later:"
         ]
      },
      {
         "execution_count": 9,
         "cell_type": "code",
         "metadata": {},
         "source": [
            "n = pymaid.get_neuron(16)\n",
            "rm.save_cache('cache.pickle')\n",
            "\n",
            "rm.clear_cache()\n",
            "rm.load_cache('cache.pickle')\n",
            "\n",
            "n = pymaid.get_neuron(16)"
         ],
         "outputs": [
            {
               "name": "stderr",
               "output_type": "stream",
               "text": [
                  "INFO  : Cached data used. (pymaid)\n",
                  "INFO  : Cached data used. (pymaid)\n"
               ]
            }
         ]
      }
   ],
   "nbformat_minor": 2
}