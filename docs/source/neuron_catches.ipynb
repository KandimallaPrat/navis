{
   "nbformat": 4,
   "nbformat_minor": 2,
   "cells": [
      {
         "outputs": [
            {
               "output_type": "stream",
               "text": [
                  "WARNING : Module pyoctree not found. Falling back to scipy's                             ConvexHull for intersection calculations. (pymaid)\n",
                  "/Library/Frameworks/Python.framework/Versions/3.7/lib/python3.7/site-packages/vispy/visuals/isocurve.py:22: UserWarning:\n",
                  "\n",
                  "VisPy is not yet compatible with matplotlib 2.2+\n",
                  "\n",
                  "INFO  : Global CATMAID instance set. (pymaid)\n"
               ],
               "name": "stderr"
            }
         ],
         "cell_type": "code",
         "source": [
            "import pymaid \n",
            "from connect_catmaid import *\n",
            "rm = connect_adult_em()"
         ],
         "execution_count": 1,
         "metadata": {}
      },
      {
         "outputs": [],
         "cell_type": "code",
         "source": [],
         "execution_count": 2,
         "metadata": {}
      }
   ],
   "metadata": {
      "language_info": {
         "pygments_lexer": "ipython3",
         "mimetype": "text/x-python",
         "version": "3.7.0",
         "codemirror_mode": {
            "version": 3,
            "name": "ipython"
         },
         "file_extension": ".py",
         "name": "python",
         "nbconvert_exporter": "python"
      },
      "kernelspec": {
         "display_name": "Python 3",
         "language": "python",
         "name": "python3"
      }
   }
}