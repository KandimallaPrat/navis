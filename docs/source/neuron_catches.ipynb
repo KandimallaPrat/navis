{
   "nbformat": 4,
   "metadata": {
      "kernelspec": {
         "name": "python3",
         "display_name": "Python 3",
         "language": "python"
      },
      "language_info": {
         "name": "python",
         "file_extension": ".py",
         "nbconvert_exporter": "python",
         "version": "3.7.0",
         "codemirror_mode": {
            "name": "ipython",
            "version": 3
         },
         "pygments_lexer": "ipython3",
         "mimetype": "text/x-python"
      }
   },
   "cells": [
      {
         "execution_count": 1,
         "cell_type": "code",
         "metadata": {},
         "source": [
            "import pymaid \n",
            "from connect_catmaid import *\n",
            "rm = connect_adult_em()"
         ],
         "outputs": [
            {
               "name": "stderr",
               "output_type": "stream",
               "text": [
                  "WARNING : Module pyoctree not found. Falling back to scipy's                             ConvexHull for intersection calculations. (pymaid)\n",
                  "/Library/Frameworks/Python.framework/Versions/3.7/lib/python3.7/site-packages/vispy/visuals/isocurve.py:22: UserWarning:\n",
                  "\n",
                  "VisPy is not yet compatible with matplotlib 2.2+\n",
                  "\n",
                  "INFO  : Global CATMAID instance set. (pymaid)\n"
               ]
            }
         ]
      },
      {
         "execution_count": 2,
         "cell_type": "code",
         "metadata": {},
         "source": [],
         "outputs": []
      }
   ],
   "nbformat_minor": 2
}