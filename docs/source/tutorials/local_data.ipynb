{
 "cells": [
  {
   "cell_type": "raw",
   "id": "70a60d6b-082e-4728-907a-af8a3e039d16",
   "metadata": {
    "raw_mimetype": "text/restructuredtext",
    "tags": []
   },
   "source": [
    ".. _local_data_tut:\n",
    "\n",
    "``navis`` lets you import neurons from a variety of local and remote sources. In this tutorial you will learn how to load local data and - failing that - construct neurons from scratch. \n",
    "\n",
    "For loading remote data (e.g. the MICrONS, neuromorpho, Virtual Fly Brain or Janelia hemibrain datasets), ``navis`` has dedicated interfaces. See the :ref:`example gallery <example_gallery>` for tutorials on these. We also wrap ``cloud-volume`` as a lower-level interface which - in theory - allows us to fetch data from any Neuroglancer-compatible datasource.\n",
    "\n",
    "Skeletons\n",
    "---------\n",
    "Skeletons in ``navis`` are represented by :class:`TreeNeuron`. There are various common data formats that you can read and write to using ``navis``:\n",
    "\n",
    "SWC files\n",
    "=========\n",
    "\n",
    "SWC is a common format for storing neuron skeletons. Thus ``navis`` provides functions to both read and write SWC files. To demo these, we will be using supplemental data from Bates, Schlegel et al. (Current Biology, 2020). If you want to follow along, please download Supplemental Data S1 (`link <https://doi.org/10.1016/j.cub.2020.06.042>`_). If you do, make sure to adjust the filepath accordingly."
   ]
  },
  {
   "cell_type": "code",
   "execution_count": 1,
   "id": "4e030094-c71d-4292-b2c6-ec06c8677997",
   "metadata": {},
   "outputs": [],
   "source": [
    "import navis"
   ]
  },
  {
   "cell_type": "raw",
   "id": "4839d6af-648a-47e0-80d9-7395ae812282",
   "metadata": {
    "raw_mimetype": "text/restructuredtext",
    "tags": []
   },
   "source": [
    "I extracted the archive with the supplemental data inside my downloads folder. It contains a bunch of CSV files with meta data but the important file for us is the ``skeletons_swc.zip``. Now you could extract that zip archive too but ``navis`` can actually read directly from (and write to) zip files!"
   ]
  },
  {
   "cell_type": "code",
   "execution_count": 78,
   "id": "e895a85e-5626-43d1-8a3b-1eb899193f29",
   "metadata": {},
   "outputs": [
    {
     "data": {
      "application/vnd.jupyter.widget-view+json": {
       "model_id": "",
       "version_major": 2,
       "version_minor": 0
      },
      "text/plain": [
       "Importing:   0%|          | 0/480 [00:00<?, ?it/s]"
      ]
     },
     "metadata": {},
     "output_type": "display_data"
    },
    {
     "data": {
      "text/html": [
       "&lt;class 'navis.core.neuronlist.NeuronList'&gt; containing 480 neurons (101.1MiB)<div>\n",
       "<style scoped>\n",
       "    .dataframe tbody tr th:only-of-type {\n",
       "        vertical-align: middle;\n",
       "    }\n",
       "\n",
       "    .dataframe tbody tr th {\n",
       "        vertical-align: top;\n",
       "    }\n",
       "\n",
       "    .dataframe thead th {\n",
       "        text-align: right;\n",
       "    }\n",
       "</style>\n",
       "<table border=\"1\" class=\"dataframe\">\n",
       "  <thead>\n",
       "    <tr style=\"text-align: right;\">\n",
       "      <th></th>\n",
       "      <th>type</th>\n",
       "      <th>name</th>\n",
       "      <th>n_nodes</th>\n",
       "      <th>n_connectors</th>\n",
       "      <th>n_branches</th>\n",
       "      <th>n_leafs</th>\n",
       "      <th>cable_length</th>\n",
       "      <th>soma</th>\n",
       "      <th>units</th>\n",
       "      <th>created_at</th>\n",
       "      <th>origin</th>\n",
       "    </tr>\n",
       "  </thead>\n",
       "  <tbody>\n",
       "    <tr>\n",
       "      <th>0</th>\n",
       "      <td>navis.TreeNeuron</td>\n",
       "      <td>1313071</td>\n",
       "      <td>11634</td>\n",
       "      <td>None</td>\n",
       "      <td>600</td>\n",
       "      <td>611</td>\n",
       "      <td>2899338.75</td>\n",
       "      <td>None</td>\n",
       "      <td>1 dimensionless</td>\n",
       "      <td>2022-04-14 21:02:15.042470</td>\n",
       "      <td>/Users/philipps/Downloads/mmc2/swc/WED-PN/1313...</td>\n",
       "    </tr>\n",
       "    <tr>\n",
       "      <th>1</th>\n",
       "      <td>navis.TreeNeuron</td>\n",
       "      <td>5002989</td>\n",
       "      <td>1670</td>\n",
       "      <td>None</td>\n",
       "      <td>24</td>\n",
       "      <td>25</td>\n",
       "      <td>628291.75</td>\n",
       "      <td>None</td>\n",
       "      <td>1 dimensionless</td>\n",
       "      <td>2022-04-14 21:02:15.022113</td>\n",
       "      <td>/Users/philipps/Downloads/mmc2/swc/WED-PN/5002...</td>\n",
       "    </tr>\n",
       "    <tr>\n",
       "      <th>...</th>\n",
       "      <td>...</td>\n",
       "      <td>...</td>\n",
       "      <td>...</td>\n",
       "      <td>...</td>\n",
       "      <td>...</td>\n",
       "      <td>...</td>\n",
       "      <td>...</td>\n",
       "      <td>...</td>\n",
       "      <td>...</td>\n",
       "      <td>...</td>\n",
       "      <td>...</td>\n",
       "    </tr>\n",
       "    <tr>\n",
       "      <th>478</th>\n",
       "      <td>navis.TreeNeuron</td>\n",
       "      <td>11519759</td>\n",
       "      <td>14782</td>\n",
       "      <td>None</td>\n",
       "      <td>663</td>\n",
       "      <td>673</td>\n",
       "      <td>2714858.25</td>\n",
       "      <td>None</td>\n",
       "      <td>1 dimensionless</td>\n",
       "      <td>2022-04-14 21:02:17.845776</td>\n",
       "      <td>/Users/philipps/Downloads/mmc2/swc/CENT/115197...</td>\n",
       "    </tr>\n",
       "    <tr>\n",
       "      <th>479</th>\n",
       "      <td>navis.TreeNeuron</td>\n",
       "      <td>11543484</td>\n",
       "      <td>6256</td>\n",
       "      <td>None</td>\n",
       "      <td>367</td>\n",
       "      <td>371</td>\n",
       "      <td>1229948.00</td>\n",
       "      <td>None</td>\n",
       "      <td>1 dimensionless</td>\n",
       "      <td>2022-04-14 21:02:17.834353</td>\n",
       "      <td>/Users/philipps/Downloads/mmc2/swc/CENT/115434...</td>\n",
       "    </tr>\n",
       "  </tbody>\n",
       "</table>\n",
       "</div>"
      ],
      "text/plain": [
       "<class 'navis.core.neuronlist.NeuronList'> containing 480 neurons (101.1MiB)\n",
       "                 type      name  n_nodes n_connectors  n_branches  n_leafs  \\\n",
       "0    navis.TreeNeuron   1313071    11634         None         600      611   \n",
       "1    navis.TreeNeuron   5002989     1670         None          24       25   \n",
       "..                ...       ...      ...          ...         ...      ...   \n",
       "478  navis.TreeNeuron  11519759    14782         None         663      673   \n",
       "479  navis.TreeNeuron  11543484     6256         None         367      371   \n",
       "\n",
       "     cable_length  soma            units                  created_at  \\\n",
       "0      2899338.75  None  1 dimensionless  2022-04-14 21:02:15.042470   \n",
       "1       628291.75  None  1 dimensionless  2022-04-14 21:02:15.022113   \n",
       "..            ...   ...              ...                         ...   \n",
       "478    2714858.25  None  1 dimensionless  2022-04-14 21:02:17.845776   \n",
       "479    1229948.00  None  1 dimensionless  2022-04-14 21:02:17.834353   \n",
       "\n",
       "                                                origin  \n",
       "0    /Users/philipps/Downloads/mmc2/swc/WED-PN/1313...  \n",
       "1    /Users/philipps/Downloads/mmc2/swc/WED-PN/5002...  \n",
       "..                                                 ...  \n",
       "478  /Users/philipps/Downloads/mmc2/swc/CENT/115197...  \n",
       "479  /Users/philipps/Downloads/mmc2/swc/CENT/115434...  "
      ]
     },
     "execution_count": 78,
     "metadata": {},
     "output_type": "execute_result"
    }
   ],
   "source": [
    "skeletons = navis.read_swc('~/Downloads/mmc2/swc/', include_subdirs=True)\n",
    "skeletons"
   ]
  },
  {
   "cell_type": "raw",
   "id": "ad60af3b-697a-4198-9b95-1926933f4b90",
   "metadata": {
    "raw_mimetype": "text/restructuredtext",
    "tags": []
   },
   "source": [
    "Let's say you are looking at a huge collection of SWC files and you only want to sample a few of them:"
   ]
  },
  {
   "cell_type": "code",
   "execution_count": 3,
   "id": "c4d855de-d1d2-482e-8ac3-0923f1ab78a3",
   "metadata": {},
   "outputs": [
    {
     "data": {
      "application/vnd.jupyter.widget-view+json": {
       "model_id": "",
       "version_major": 2,
       "version_minor": 0
      },
      "text/plain": [
       "Importing:   0%|          | 0/10 [00:00<?, ?it/s]"
      ]
     },
     "metadata": {},
     "output_type": "display_data"
    },
    {
     "data": {
      "text/html": [
       "&lt;class 'navis.core.neuronlist.NeuronList'&gt; containing 10 neurons (1.1MiB)<div>\n",
       "<style scoped>\n",
       "    .dataframe tbody tr th:only-of-type {\n",
       "        vertical-align: middle;\n",
       "    }\n",
       "\n",
       "    .dataframe tbody tr th {\n",
       "        vertical-align: top;\n",
       "    }\n",
       "\n",
       "    .dataframe thead th {\n",
       "        text-align: right;\n",
       "    }\n",
       "</style>\n",
       "<table border=\"1\" class=\"dataframe\">\n",
       "  <thead>\n",
       "    <tr style=\"text-align: right;\">\n",
       "      <th></th>\n",
       "      <th>type</th>\n",
       "      <th>name</th>\n",
       "      <th>n_nodes</th>\n",
       "      <th>n_connectors</th>\n",
       "      <th>n_branches</th>\n",
       "      <th>n_leafs</th>\n",
       "      <th>cable_length</th>\n",
       "      <th>soma</th>\n",
       "      <th>units</th>\n",
       "      <th>created_at</th>\n",
       "      <th>origin</th>\n",
       "    </tr>\n",
       "  </thead>\n",
       "  <tbody>\n",
       "    <tr>\n",
       "      <th>0</th>\n",
       "      <td>navis.TreeNeuron</td>\n",
       "      <td>1313071</td>\n",
       "      <td>11634</td>\n",
       "      <td>None</td>\n",
       "      <td>600</td>\n",
       "      <td>611</td>\n",
       "      <td>2.899339e+06</td>\n",
       "      <td>None</td>\n",
       "      <td>1 dimensionless</td>\n",
       "      <td>2022-04-14 22:19:14.097370</td>\n",
       "      <td>/Users/philipps/Downloads/mmc2/swc/WED-PN/1313...</td>\n",
       "    </tr>\n",
       "    <tr>\n",
       "      <th>1</th>\n",
       "      <td>navis.TreeNeuron</td>\n",
       "      <td>5002989</td>\n",
       "      <td>1670</td>\n",
       "      <td>None</td>\n",
       "      <td>24</td>\n",
       "      <td>25</td>\n",
       "      <td>6.282918e+05</td>\n",
       "      <td>None</td>\n",
       "      <td>1 dimensionless</td>\n",
       "      <td>2022-04-14 22:19:14.111675</td>\n",
       "      <td>/Users/philipps/Downloads/mmc2/swc/WED-PN/5002...</td>\n",
       "    </tr>\n",
       "    <tr>\n",
       "      <th>...</th>\n",
       "      <td>...</td>\n",
       "      <td>...</td>\n",
       "      <td>...</td>\n",
       "      <td>...</td>\n",
       "      <td>...</td>\n",
       "      <td>...</td>\n",
       "      <td>...</td>\n",
       "      <td>...</td>\n",
       "      <td>...</td>\n",
       "      <td>...</td>\n",
       "      <td>...</td>\n",
       "    </tr>\n",
       "    <tr>\n",
       "      <th>8</th>\n",
       "      <td>navis.TreeNeuron</td>\n",
       "      <td>6082926</td>\n",
       "      <td>3112</td>\n",
       "      <td>None</td>\n",
       "      <td>164</td>\n",
       "      <td>171</td>\n",
       "      <td>8.933154e+05</td>\n",
       "      <td>None</td>\n",
       "      <td>1 dimensionless</td>\n",
       "      <td>2022-04-14 22:19:14.253586</td>\n",
       "      <td>/Users/philipps/Downloads/mmc2/swc/WED-PN/6082...</td>\n",
       "    </tr>\n",
       "    <tr>\n",
       "      <th>9</th>\n",
       "      <td>navis.TreeNeuron</td>\n",
       "      <td>2122447</td>\n",
       "      <td>2694</td>\n",
       "      <td>None</td>\n",
       "      <td>112</td>\n",
       "      <td>115</td>\n",
       "      <td>8.098385e+05</td>\n",
       "      <td>None</td>\n",
       "      <td>1 dimensionless</td>\n",
       "      <td>2022-04-14 22:19:14.271435</td>\n",
       "      <td>/Users/philipps/Downloads/mmc2/swc/WED-PN/2122...</td>\n",
       "    </tr>\n",
       "  </tbody>\n",
       "</table>\n",
       "</div>"
      ],
      "text/plain": [
       "<class 'navis.core.neuronlist.NeuronList'> containing 10 neurons (1.1MiB)\n",
       "                type     name  n_nodes n_connectors  n_branches  n_leafs  \\\n",
       "0   navis.TreeNeuron  1313071    11634         None         600      611   \n",
       "1   navis.TreeNeuron  5002989     1670         None          24       25   \n",
       "..               ...      ...      ...          ...         ...      ...   \n",
       "8   navis.TreeNeuron  6082926     3112         None         164      171   \n",
       "9   navis.TreeNeuron  2122447     2694         None         112      115   \n",
       "\n",
       "    cable_length  soma            units                  created_at  \\\n",
       "0   2.899339e+06  None  1 dimensionless  2022-04-14 22:19:14.097370   \n",
       "1   6.282918e+05  None  1 dimensionless  2022-04-14 22:19:14.111675   \n",
       "..           ...   ...              ...                         ...   \n",
       "8   8.933154e+05  None  1 dimensionless  2022-04-14 22:19:14.253586   \n",
       "9   8.098385e+05  None  1 dimensionless  2022-04-14 22:19:14.271435   \n",
       "\n",
       "                                               origin  \n",
       "0   /Users/philipps/Downloads/mmc2/swc/WED-PN/1313...  \n",
       "1   /Users/philipps/Downloads/mmc2/swc/WED-PN/5002...  \n",
       "..                                                ...  \n",
       "8   /Users/philipps/Downloads/mmc2/swc/WED-PN/6082...  \n",
       "9   /Users/philipps/Downloads/mmc2/swc/WED-PN/2122...  "
      ]
     },
     "execution_count": 3,
     "metadata": {},
     "output_type": "execute_result"
    }
   ],
   "source": [
    "# Load only the first 10 skeletons\n",
    "sample = navis.read_swc('~/Downloads/mmc2/swc/', include_subdirs=True, limit=10)\n",
    "sample"
   ]
  },
  {
   "cell_type": "raw",
   "id": "ded60808-87cb-4e2b-8adc-a3c81147e2c7",
   "metadata": {
    "raw_mimetype": "text/restructuredtext",
    "tags": []
   },
   "source": [
    "We can also point :func:`navis.read_swc` at single files instead of folders or zip archives:"
   ]
  },
  {
   "cell_type": "code",
   "execution_count": 2,
   "id": "5577df6b-6388-417e-9712-b58b1ee37b70",
   "metadata": {},
   "outputs": [
    {
     "data": {
      "text/html": [
       "<div>\n",
       "<style scoped>\n",
       "    .dataframe tbody tr th:only-of-type {\n",
       "        vertical-align: middle;\n",
       "    }\n",
       "\n",
       "    .dataframe tbody tr th {\n",
       "        vertical-align: top;\n",
       "    }\n",
       "\n",
       "    .dataframe thead th {\n",
       "        text-align: right;\n",
       "    }\n",
       "</style>\n",
       "<table border=\"1\" class=\"dataframe\">\n",
       "  <thead>\n",
       "    <tr style=\"text-align: right;\">\n",
       "      <th></th>\n",
       "      <th></th>\n",
       "    </tr>\n",
       "  </thead>\n",
       "  <tbody>\n",
       "    <tr>\n",
       "      <th>type</th>\n",
       "      <td>navis.TreeNeuron</td>\n",
       "    </tr>\n",
       "    <tr>\n",
       "      <th>name</th>\n",
       "      <td>11519759</td>\n",
       "    </tr>\n",
       "    <tr>\n",
       "      <th>n_nodes</th>\n",
       "      <td>14782</td>\n",
       "    </tr>\n",
       "    <tr>\n",
       "      <th>n_connectors</th>\n",
       "      <td>None</td>\n",
       "    </tr>\n",
       "    <tr>\n",
       "      <th>n_branches</th>\n",
       "      <td>663</td>\n",
       "    </tr>\n",
       "    <tr>\n",
       "      <th>n_leafs</th>\n",
       "      <td>673</td>\n",
       "    </tr>\n",
       "    <tr>\n",
       "      <th>cable_length</th>\n",
       "      <td>2714858.25</td>\n",
       "    </tr>\n",
       "    <tr>\n",
       "      <th>soma</th>\n",
       "      <td>None</td>\n",
       "    </tr>\n",
       "    <tr>\n",
       "      <th>units</th>\n",
       "      <td>1 dimensionless</td>\n",
       "    </tr>\n",
       "    <tr>\n",
       "      <th>created_at</th>\n",
       "      <td>2022-04-14 22:01:20.455672</td>\n",
       "    </tr>\n",
       "    <tr>\n",
       "      <th>origin</th>\n",
       "      <td>/Users/philipps/Downloads/mmc2/swc/CENT/115197...</td>\n",
       "    </tr>\n",
       "  </tbody>\n",
       "</table>\n",
       "</div>"
      ],
      "text/plain": [
       "type                                             navis.TreeNeuron\n",
       "name                                                     11519759\n",
       "n_nodes                                                     14782\n",
       "n_connectors                                                 None\n",
       "n_branches                                                    663\n",
       "n_leafs                                                       673\n",
       "cable_length                                           2714858.25\n",
       "soma                                                         None\n",
       "units                                             1 dimensionless\n",
       "created_at                             2022-04-14 22:01:20.455672\n",
       "origin          /Users/philipps/Downloads/mmc2/swc/CENT/115197...\n",
       "dtype: object"
      ]
     },
     "execution_count": 2,
     "metadata": {},
     "output_type": "execute_result"
    }
   ],
   "source": [
    "s = navis.read_swc('~/Downloads/mmc2/swc/CENT/11519759.swc')\n",
    "s"
   ]
  },
  {
   "cell_type": "raw",
   "id": "2289f642-4c1d-42ac-9f2d-4e896b346f78",
   "metadata": {
    "raw_mimetype": "text/restructuredtext",
    "tags": []
   },
   "source": [
    "You can even use URLs directly:"
   ]
  },
  {
   "cell_type": "code",
   "execution_count": null,
   "id": "044bc687-56c0-4f8d-b090-71b7b4a21e30",
   "metadata": {},
   "outputs": [],
   "source": [
    "s = navis.read_swc('http://neuromorpho.org/dableFiles/jefferis/CNG%20version/AV4c1_140213c1.CNG.swc')"
   ]
  },
  {
   "cell_type": "raw",
   "id": "4d2e775b-28a0-4585-a6ec-a01a13666ecf",
   "metadata": {
    "raw_mimetype": "text/restructuredtext",
    "tags": []
   },
   "source": [
    "Now let's say you have skeletons and you want to save them to disk. Easy!"
   ]
  },
  {
   "cell_type": "code",
   "execution_count": 15,
   "id": "2cba5198-c3c4-41a6-8b29-3befbe828714",
   "metadata": {},
   "outputs": [],
   "source": [
    "# Write a single neuron \n",
    "navis.write_swc(s, '~/Downloads/mmc2/my_neuron.swc')"
   ]
  },
  {
   "cell_type": "code",
   "execution_count": 21,
   "id": "a760017e-3896-4861-8992-bd90a235f368",
   "metadata": {},
   "outputs": [
    {
     "data": {
      "application/vnd.jupyter.widget-view+json": {
       "model_id": "",
       "version_major": 2,
       "version_minor": 0
      },
      "text/plain": [
       "Writing:   0%|          | 0/10 [00:00<?, ?it/s]"
      ]
     },
     "metadata": {},
     "output_type": "display_data"
    }
   ],
   "source": [
    "# Write a whole list of skeletons to a folder and use the neurons' `name` property as filename\n",
    "navis.write_swc(sample, '~/Downloads/mmc2/{neuron.name}.swc')"
   ]
  },
  {
   "cell_type": "code",
   "execution_count": 4,
   "id": "cfb00192-bc05-44b5-b1f0-81f3f3535b2c",
   "metadata": {},
   "outputs": [
    {
     "data": {
      "application/vnd.jupyter.widget-view+json": {
       "model_id": "",
       "version_major": 2,
       "version_minor": 0
      },
      "text/plain": [
       "Writing:   0%|          | 0/10 [00:00<?, ?it/s]"
      ]
     },
     "metadata": {},
     "output_type": "display_data"
    }
   ],
   "source": [
    "# Write directly to a zip file \n",
    "navis.write_swc(sample, '~/Downloads/mmc2/skeletons.zip')"
   ]
  },
  {
   "cell_type": "code",
   "execution_count": 5,
   "id": "0cab14ca-7555-411d-b125-55f6f7dc7bb3",
   "metadata": {},
   "outputs": [
    {
     "data": {
      "application/vnd.jupyter.widget-view+json": {
       "model_id": "",
       "version_major": 2,
       "version_minor": 0
      },
      "text/plain": [
       "Writing:   0%|          | 0/10 [00:00<?, ?it/s]"
      ]
     },
     "metadata": {},
     "output_type": "display_data"
    }
   ],
   "source": [
    "# Write directly to a zip file and use the neuron name as filename\n",
    "navis.write_swc(sample, '~/Downloads/mmc2/{neuron.name}.swc@skeletons.zip')"
   ]
  },
  {
   "cell_type": "raw",
   "id": "c05b2e80-a8d0-4a74-baaa-89a8009fc223",
   "metadata": {
    "raw_mimetype": "text/restructuredtext",
    "tags": []
   },
   "source": [
    "See :func:`navis.write_swc` for further details! \n",
    "\n",
    "NMX files\n",
    "=========\n",
    "\n",
    "NMX is a xml-based format used e.g. by pyKNOSSOS to store skeletons (+ meta data). ``navis`` supports reading (but not writing) this format. If you want to follow along download `this dataset <https://doi.org/10.5281/zenodo.58985>`_ by Wanner et al. (2016). Same procedure as with the SWCs: I extracted the archive to my downloads folder. "
   ]
  },
  {
   "cell_type": "code",
   "execution_count": 2,
   "id": "19f4031c-6b7a-4b07-a103-90d9f7dc11cd",
   "metadata": {},
   "outputs": [
    {
     "data": {
      "text/html": [
       "<div>\n",
       "<style scoped>\n",
       "    .dataframe tbody tr th:only-of-type {\n",
       "        vertical-align: middle;\n",
       "    }\n",
       "\n",
       "    .dataframe tbody tr th {\n",
       "        vertical-align: top;\n",
       "    }\n",
       "\n",
       "    .dataframe thead th {\n",
       "        text-align: right;\n",
       "    }\n",
       "</style>\n",
       "<table border=\"1\" class=\"dataframe\">\n",
       "  <thead>\n",
       "    <tr style=\"text-align: right;\">\n",
       "      <th></th>\n",
       "      <th></th>\n",
       "    </tr>\n",
       "  </thead>\n",
       "  <tbody>\n",
       "    <tr>\n",
       "      <th>type</th>\n",
       "      <td>navis.TreeNeuron</td>\n",
       "    </tr>\n",
       "    <tr>\n",
       "      <th>name</th>\n",
       "      <td>NML</td>\n",
       "    </tr>\n",
       "    <tr>\n",
       "      <th>id</th>\n",
       "      <td>Neuron_id0001</td>\n",
       "    </tr>\n",
       "    <tr>\n",
       "      <th>n_nodes</th>\n",
       "      <td>3369</td>\n",
       "    </tr>\n",
       "    <tr>\n",
       "      <th>n_connectors</th>\n",
       "      <td>None</td>\n",
       "    </tr>\n",
       "    <tr>\n",
       "      <th>n_branches</th>\n",
       "      <td>64</td>\n",
       "    </tr>\n",
       "    <tr>\n",
       "      <th>n_leafs</th>\n",
       "      <td>69</td>\n",
       "    </tr>\n",
       "    <tr>\n",
       "      <th>cable_length</th>\n",
       "      <td>151639.171875</td>\n",
       "    </tr>\n",
       "    <tr>\n",
       "      <th>soma</th>\n",
       "      <td>None</td>\n",
       "    </tr>\n",
       "    <tr>\n",
       "      <th>units</th>\n",
       "      <td>1 dimensionless</td>\n",
       "    </tr>\n",
       "  </tbody>\n",
       "</table>\n",
       "</div>"
      ],
      "text/plain": [
       "type            navis.TreeNeuron\n",
       "name                         NML\n",
       "id                 Neuron_id0001\n",
       "n_nodes                     3369\n",
       "n_connectors                None\n",
       "n_branches                    64\n",
       "n_leafs                       69\n",
       "cable_length       151639.171875\n",
       "soma                        None\n",
       "units            1 dimensionless\n",
       "dtype: object"
      ]
     },
     "execution_count": 2,
     "metadata": {},
     "output_type": "execute_result"
    }
   ],
   "source": [
    "# Read a single file\n",
    "s = navis.read_nmx('~/Downloads/WannerAA201605_SkeletonsGlomeruli/Neuron_id0001.nmx')\n",
    "s"
   ]
  },
  {
   "cell_type": "code",
   "execution_count": 3,
   "id": "279d2ce7-0db9-4fea-bd19-2c650416c891",
   "metadata": {},
   "outputs": [
    {
     "data": {
      "application/vnd.jupyter.widget-view+json": {
       "model_id": "",
       "version_major": 2,
       "version_minor": 0
      },
      "text/plain": [
       "Importing:   0%|          | 0/1023 [00:00<?, ?it/s]"
      ]
     },
     "metadata": {},
     "output_type": "display_data"
    },
    {
     "name": "stderr",
     "output_type": "stream",
     "text": [
      "WARNING : Skipped \"Glomeruli.nmx\": failed to import skeleton. (navis)\n"
     ]
    },
    {
     "data": {
      "text/html": [
       "&lt;class 'navis.core.neuronlist.NeuronList'&gt; containing 1022 neurons (142.1MiB)<div>\n",
       "<style scoped>\n",
       "    .dataframe tbody tr th:only-of-type {\n",
       "        vertical-align: middle;\n",
       "    }\n",
       "\n",
       "    .dataframe tbody tr th {\n",
       "        vertical-align: top;\n",
       "    }\n",
       "\n",
       "    .dataframe thead th {\n",
       "        text-align: right;\n",
       "    }\n",
       "</style>\n",
       "<table border=\"1\" class=\"dataframe\">\n",
       "  <thead>\n",
       "    <tr style=\"text-align: right;\">\n",
       "      <th></th>\n",
       "      <th>type</th>\n",
       "      <th>name</th>\n",
       "      <th>id</th>\n",
       "      <th>n_nodes</th>\n",
       "      <th>n_connectors</th>\n",
       "      <th>n_branches</th>\n",
       "      <th>n_leafs</th>\n",
       "      <th>cable_length</th>\n",
       "      <th>soma</th>\n",
       "      <th>units</th>\n",
       "    </tr>\n",
       "  </thead>\n",
       "  <tbody>\n",
       "    <tr>\n",
       "      <th>0</th>\n",
       "      <td>navis.TreeNeuron</td>\n",
       "      <td>NML</td>\n",
       "      <td>Neuron_id0742</td>\n",
       "      <td>4351</td>\n",
       "      <td>None</td>\n",
       "      <td>91</td>\n",
       "      <td>96</td>\n",
       "      <td>200111.703125</td>\n",
       "      <td>None</td>\n",
       "      <td>1 dimensionless</td>\n",
       "    </tr>\n",
       "    <tr>\n",
       "      <th>1</th>\n",
       "      <td>navis.TreeNeuron</td>\n",
       "      <td>NML</td>\n",
       "      <td>Neuron_id0756</td>\n",
       "      <td>4779</td>\n",
       "      <td>None</td>\n",
       "      <td>0</td>\n",
       "      <td>3</td>\n",
       "      <td>9099.673828</td>\n",
       "      <td>None</td>\n",
       "      <td>1 dimensionless</td>\n",
       "    </tr>\n",
       "    <tr>\n",
       "      <th>...</th>\n",
       "      <td>...</td>\n",
       "      <td>...</td>\n",
       "      <td>...</td>\n",
       "      <td>...</td>\n",
       "      <td>...</td>\n",
       "      <td>...</td>\n",
       "      <td>...</td>\n",
       "      <td>...</td>\n",
       "      <td>...</td>\n",
       "      <td>...</td>\n",
       "    </tr>\n",
       "    <tr>\n",
       "      <th>1020</th>\n",
       "      <td>navis.TreeNeuron</td>\n",
       "      <td>NML</td>\n",
       "      <td>Neuron_id0997</td>\n",
       "      <td>2395</td>\n",
       "      <td>None</td>\n",
       "      <td>61</td>\n",
       "      <td>71</td>\n",
       "      <td>136052.546875</td>\n",
       "      <td>None</td>\n",
       "      <td>1 dimensionless</td>\n",
       "    </tr>\n",
       "    <tr>\n",
       "      <th>1021</th>\n",
       "      <td>navis.TreeNeuron</td>\n",
       "      <td>NML</td>\n",
       "      <td>Neuron_id0983</td>\n",
       "      <td>3332</td>\n",
       "      <td>None</td>\n",
       "      <td>115</td>\n",
       "      <td>123</td>\n",
       "      <td>223207.265625</td>\n",
       "      <td>None</td>\n",
       "      <td>1 dimensionless</td>\n",
       "    </tr>\n",
       "  </tbody>\n",
       "</table>\n",
       "</div>"
      ],
      "text/plain": [
       "<class 'navis.core.neuronlist.NeuronList'> containing 1022 neurons (142.1MiB)\n",
       "                  type name             id  n_nodes n_connectors  n_branches  \\\n",
       "0     navis.TreeNeuron  NML  Neuron_id0742     4351         None          91   \n",
       "1     navis.TreeNeuron  NML  Neuron_id0756     4779         None           0   \n",
       "...                ...  ...            ...      ...          ...         ...   \n",
       "1020  navis.TreeNeuron  NML  Neuron_id0997     2395         None          61   \n",
       "1021  navis.TreeNeuron  NML  Neuron_id0983     3332         None         115   \n",
       "\n",
       "      n_leafs   cable_length  soma            units  \n",
       "0          96  200111.703125  None  1 dimensionless  \n",
       "1           3    9099.673828  None  1 dimensionless  \n",
       "...       ...            ...   ...              ...  \n",
       "1020       71  136052.546875  None  1 dimensionless  \n",
       "1021      123  223207.265625  None  1 dimensionless  "
      ]
     },
     "execution_count": 3,
     "metadata": {},
     "output_type": "execute_result"
    }
   ],
   "source": [
    "# Read all files in folder\n",
    "nl = navis.read_nmx('~/Downloads/WannerAA201605_SkeletonsGlomeruli/')\n",
    "nl"
   ]
  },
  {
   "cell_type": "raw",
   "id": "6256a55c-d51a-4d42-8e6d-d6bd0c745cb1",
   "metadata": {
    "raw_mimetype": "text/restructuredtext",
    "tags": []
   },
   "source": [
    "Note the error message? NMX files don't always contain skeletons. If ``navis`` comes across one that can't be turned into a ``TreeNeuron``, it will skip the file and produce a warning.\n",
    "\n",
    "\n",
    "Neuroglancer precomputed format\n",
    "===============================\n",
    "\n",
    "Among other formats, neuroglancer supports a \"precomputed\" format for skeletons (see specs `here <https://github.com/google/neuroglancer/blob/master/src/neuroglancer/datasource/precomputed/skeletons.md>`_). This binary format is more compact than uncompressed SWC files but probably is not used outside of neuroglancer afaik. That said: ``navis`` lets you read and write skeletons from/to precomputed format using :func:`navis.read_precomputed` and :func:`navis.write_precomputed`. Note that these functions work on both precomputed skeletons and meshes.\n",
    "\n",
    "Manually constructing skeletons\n",
    "===============================\n",
    "\n",
    "What if you have some obscure data format for which ``navis`` does not have a read function? The data underlying :class:`~navis.TreeNeuron` is a simple SWC table - so as long as you can produce that from your data, you can create your own skeletons. Here's a quick & dirty example:"
   ]
  },
  {
   "cell_type": "code",
   "execution_count": 5,
   "id": "cca96058-6bd4-4f47-b94c-b4de856edfe3",
   "metadata": {},
   "outputs": [
    {
     "data": {
      "text/html": [
       "<div>\n",
       "<style scoped>\n",
       "    .dataframe tbody tr th:only-of-type {\n",
       "        vertical-align: middle;\n",
       "    }\n",
       "\n",
       "    .dataframe tbody tr th {\n",
       "        vertical-align: top;\n",
       "    }\n",
       "\n",
       "    .dataframe thead th {\n",
       "        text-align: right;\n",
       "    }\n",
       "</style>\n",
       "<table border=\"1\" class=\"dataframe\">\n",
       "  <thead>\n",
       "    <tr style=\"text-align: right;\">\n",
       "      <th></th>\n",
       "      <th>node_id</th>\n",
       "      <th>parent_id</th>\n",
       "      <th>x</th>\n",
       "      <th>y</th>\n",
       "      <th>z</th>\n",
       "      <th>radius</th>\n",
       "    </tr>\n",
       "  </thead>\n",
       "  <tbody>\n",
       "    <tr>\n",
       "      <th>0</th>\n",
       "      <td>0</td>\n",
       "      <td>-1</td>\n",
       "      <td>0</td>\n",
       "      <td>0</td>\n",
       "      <td>0</td>\n",
       "      <td>0</td>\n",
       "    </tr>\n",
       "    <tr>\n",
       "      <th>1</th>\n",
       "      <td>1</td>\n",
       "      <td>0</td>\n",
       "      <td>1</td>\n",
       "      <td>1</td>\n",
       "      <td>1</td>\n",
       "      <td>0</td>\n",
       "    </tr>\n",
       "  </tbody>\n",
       "</table>\n",
       "</div>"
      ],
      "text/plain": [
       "   node_id  parent_id  x  y  z  radius\n",
       "0        0         -1  0  0  0       0\n",
       "1        1          0  1  1  1       0"
      ]
     },
     "execution_count": 5,
     "metadata": {},
     "output_type": "execute_result"
    }
   ],
   "source": [
    "import pandas as pd \n",
    "\n",
    "# Create a mock SWC table for a 2-node skeleton\n",
    "swc = pd.DataFrame()\n",
    "swc['node_id'] = [0, 1]\n",
    "swc['parent_id'] = [-1, 0]   # negative indices indicate roots \n",
    "swc['x'] = [0, 1]\n",
    "swc['y'] = [0, 1]\n",
    "swc['z'] = [0, 1]\n",
    "swc['radius'] = 0\n",
    "\n",
    "swc"
   ]
  },
  {
   "cell_type": "raw",
   "id": "cd9a9aa0-f9c2-4234-aa2e-7b150c4b55b4",
   "metadata": {
    "raw_mimetype": "text/restructuredtext",
    "tags": []
   },
   "source": [
    "This SWC can now be used to construct a :class:`TreeNeuron`:"
   ]
  },
  {
   "cell_type": "code",
   "execution_count": 7,
   "id": "eb733cbe-19b0-45dc-9cb0-2ceddb351adc",
   "metadata": {},
   "outputs": [
    {
     "data": {
      "text/html": [
       "<div>\n",
       "<style scoped>\n",
       "    .dataframe tbody tr th:only-of-type {\n",
       "        vertical-align: middle;\n",
       "    }\n",
       "\n",
       "    .dataframe tbody tr th {\n",
       "        vertical-align: top;\n",
       "    }\n",
       "\n",
       "    .dataframe thead th {\n",
       "        text-align: right;\n",
       "    }\n",
       "</style>\n",
       "<table border=\"1\" class=\"dataframe\">\n",
       "  <thead>\n",
       "    <tr style=\"text-align: right;\">\n",
       "      <th></th>\n",
       "      <th></th>\n",
       "    </tr>\n",
       "  </thead>\n",
       "  <tbody>\n",
       "    <tr>\n",
       "      <th>type</th>\n",
       "      <td>navis.TreeNeuron</td>\n",
       "    </tr>\n",
       "    <tr>\n",
       "      <th>name</th>\n",
       "      <td>my_neuron</td>\n",
       "    </tr>\n",
       "    <tr>\n",
       "      <th>n_nodes</th>\n",
       "      <td>2</td>\n",
       "    </tr>\n",
       "    <tr>\n",
       "      <th>n_connectors</th>\n",
       "      <td>None</td>\n",
       "    </tr>\n",
       "    <tr>\n",
       "      <th>n_branches</th>\n",
       "      <td>0</td>\n",
       "    </tr>\n",
       "    <tr>\n",
       "      <th>n_leafs</th>\n",
       "      <td>1</td>\n",
       "    </tr>\n",
       "    <tr>\n",
       "      <th>cable_length</th>\n",
       "      <td>1.732051</td>\n",
       "    </tr>\n",
       "    <tr>\n",
       "      <th>soma</th>\n",
       "      <td>None</td>\n",
       "    </tr>\n",
       "    <tr>\n",
       "      <th>units</th>\n",
       "      <td>1 micrometer</td>\n",
       "    </tr>\n",
       "  </tbody>\n",
       "</table>\n",
       "</div>"
      ],
      "text/plain": [
       "type            navis.TreeNeuron\n",
       "name                   my_neuron\n",
       "n_nodes                        2\n",
       "n_connectors                None\n",
       "n_branches                     0\n",
       "n_leafs                        1\n",
       "cable_length            1.732051\n",
       "soma                        None\n",
       "units               1 micrometer\n",
       "dtype: object"
      ]
     },
     "execution_count": 7,
     "metadata": {},
     "output_type": "execute_result"
    }
   ],
   "source": [
    "s = navis.TreeNeuron(swc, name='my_neuron', units='microns')\n",
    "s"
   ]
  },
  {
   "cell_type": "raw",
   "id": "a4b1560b-29e4-461c-97cc-f3d78f16b483",
   "metadata": {
    "raw_mimetype": "text/restructuredtext",
    "tags": []
   },
   "source": [
    "There are a few other ways to construct a :class:`TreeNeuron` (e.g. using a graph) - see the docstring for details.\n",
    "\n",
    "\n",
    "Meshes\n",
    "------\n",
    "\n",
    "``navis`` knows two types of meshes: :class:`navis.MeshNeuron` for neurons and :class:`navis.Volume` for e.g. neuropil or brain meshes. \n",
    "\n",
    "For reading run-of-the-mill files containing meshes, ``navis`` provides a single function: :func:`navis.read_mesh`. Under the hood, that function uses ``trimesh.load_mesh`` which supports most of the common formats (`.obj`, `.ply`, `.stl`, etc.). \n"
   ]
  },
  {
   "cell_type": "code",
   "execution_count": 8,
   "id": "d14d2399-bb68-4f02-a94f-ed22b8e3cce7",
   "metadata": {},
   "outputs": [
    {
     "data": {
      "text/html": [
       "<div>\n",
       "<style scoped>\n",
       "    .dataframe tbody tr th:only-of-type {\n",
       "        vertical-align: middle;\n",
       "    }\n",
       "\n",
       "    .dataframe tbody tr th {\n",
       "        vertical-align: top;\n",
       "    }\n",
       "\n",
       "    .dataframe thead th {\n",
       "        text-align: right;\n",
       "    }\n",
       "</style>\n",
       "<table border=\"1\" class=\"dataframe\">\n",
       "  <thead>\n",
       "    <tr style=\"text-align: right;\">\n",
       "      <th></th>\n",
       "      <th></th>\n",
       "    </tr>\n",
       "  </thead>\n",
       "  <tbody>\n",
       "    <tr>\n",
       "      <th>type</th>\n",
       "      <td>navis.MeshNeuron</td>\n",
       "    </tr>\n",
       "    <tr>\n",
       "      <th>name</th>\n",
       "      <td>test_neuron</td>\n",
       "    </tr>\n",
       "    <tr>\n",
       "      <th>id</th>\n",
       "      <td>720575940633212055</td>\n",
       "    </tr>\n",
       "    <tr>\n",
       "      <th>units</th>\n",
       "      <td>1 dimensionless</td>\n",
       "    </tr>\n",
       "    <tr>\n",
       "      <th>n_vertices</th>\n",
       "      <td>40905</td>\n",
       "    </tr>\n",
       "    <tr>\n",
       "      <th>n_faces</th>\n",
       "      <td>82126</td>\n",
       "    </tr>\n",
       "  </tbody>\n",
       "</table>\n",
       "</div>"
      ],
      "text/plain": [
       "type            navis.MeshNeuron\n",
       "name                 test_neuron\n",
       "id            720575940633212055\n",
       "units            1 dimensionless\n",
       "n_vertices                 40905\n",
       "n_faces                    82126\n",
       "dtype: object"
      ]
     },
     "execution_count": 8,
     "metadata": {},
     "output_type": "execute_result"
    }
   ],
   "source": [
    "# Load an example file (here a FlyWire neuron I downloaded and saved locally)\n",
    "mesh = navis.read_mesh('~/Downloads/test_neuron.stl')\n",
    "mesh"
   ]
  },
  {
   "cell_type": "raw",
   "id": "165105f5-a2f4-4f0d-a741-6aa93a1778e0",
   "metadata": {
    "raw_mimetype": "text/restructuredtext",
    "tags": []
   },
   "source": [
    "The interface is similar to ``read_swc`` in that you can point :func:`navis.read_mesh` at single file or at folders with multiple files:"
   ]
  },
  {
   "cell_type": "code",
   "execution_count": 5,
   "id": "a81b8c45-ca48-496a-ab0b-0b5b59ec14e8",
   "metadata": {},
   "outputs": [
    {
     "data": {
      "application/vnd.jupyter.widget-view+json": {
       "model_id": "",
       "version_major": 2,
       "version_minor": 0
      },
      "text/plain": [
       "Importing:   0%|          | 0/8 [00:00<?, ?it/s]"
      ]
     },
     "metadata": {},
     "output_type": "display_data"
    },
    {
     "data": {
      "text/html": [
       "&lt;class 'navis.core.neuronlist.NeuronList'&gt; containing 8 neurons (30.1MiB)<div>\n",
       "<style scoped>\n",
       "    .dataframe tbody tr th:only-of-type {\n",
       "        vertical-align: middle;\n",
       "    }\n",
       "\n",
       "    .dataframe tbody tr th {\n",
       "        vertical-align: top;\n",
       "    }\n",
       "\n",
       "    .dataframe thead th {\n",
       "        text-align: right;\n",
       "    }\n",
       "</style>\n",
       "<table border=\"1\" class=\"dataframe\">\n",
       "  <thead>\n",
       "    <tr style=\"text-align: right;\">\n",
       "      <th></th>\n",
       "      <th>type</th>\n",
       "      <th>name</th>\n",
       "      <th>units</th>\n",
       "      <th>n_vertices</th>\n",
       "      <th>n_faces</th>\n",
       "    </tr>\n",
       "  </thead>\n",
       "  <tbody>\n",
       "    <tr>\n",
       "      <th>0</th>\n",
       "      <td>navis.MeshNeuron</td>\n",
       "      <td>720575940614739286</td>\n",
       "      <td>1 dimensionless</td>\n",
       "      <td>59628</td>\n",
       "      <td>119270</td>\n",
       "    </tr>\n",
       "    <tr>\n",
       "      <th>1</th>\n",
       "      <td>navis.MeshNeuron</td>\n",
       "      <td>720575940632670433</td>\n",
       "      <td>1 dimensionless</td>\n",
       "      <td>60880</td>\n",
       "      <td>121759</td>\n",
       "    </tr>\n",
       "    <tr>\n",
       "      <th>...</th>\n",
       "      <td>...</td>\n",
       "      <td>...</td>\n",
       "      <td>...</td>\n",
       "      <td>...</td>\n",
       "      <td>...</td>\n",
       "    </tr>\n",
       "    <tr>\n",
       "      <th>6</th>\n",
       "      <td>navis.MeshNeuron</td>\n",
       "      <td>720575940633280107</td>\n",
       "      <td>1 dimensionless</td>\n",
       "      <td>43403</td>\n",
       "      <td>85888</td>\n",
       "    </tr>\n",
       "    <tr>\n",
       "      <th>7</th>\n",
       "      <td>navis.MeshNeuron</td>\n",
       "      <td>720575940615856345</td>\n",
       "      <td>1 dimensionless</td>\n",
       "      <td>83919</td>\n",
       "      <td>167793</td>\n",
       "    </tr>\n",
       "  </tbody>\n",
       "</table>\n",
       "</div>"
      ],
      "text/plain": [
       "<class 'navis.core.neuronlist.NeuronList'> containing 8 neurons (30.1MiB)\n",
       "                type                name            units  n_vertices  n_faces\n",
       "0   navis.MeshNeuron  720575940614739286  1 dimensionless       59628   119270\n",
       "1   navis.MeshNeuron  720575940632670433  1 dimensionless       60880   121759\n",
       "..               ...                 ...              ...         ...      ...\n",
       "6   navis.MeshNeuron  720575940633280107  1 dimensionless       43403    85888\n",
       "7   navis.MeshNeuron  720575940615856345  1 dimensionless       83919   167793"
      ]
     },
     "execution_count": 5,
     "metadata": {},
     "output_type": "execute_result"
    }
   ],
   "source": [
    "# When reading all files in folder you have to specificy the file extension (e.g. *.stl)\n",
    "meshes = navis.read_mesh('~/Downloads/neurons/*.stl')\n",
    "meshes"
   ]
  },
  {
   "cell_type": "raw",
   "id": "36ad0eff-0908-4b6b-89bc-65a786eaa29d",
   "metadata": {
    "raw_mimetype": "text/restructuredtext",
    "tags": []
   },
   "source": [
    "By default, :func:`navis.read_mesh` will return neurons. Use the ``output`` parameter to get  a :class:`navis.Volume` (or a ``trimesh.Trimesh``) instead:"
   ]
  },
  {
   "cell_type": "code",
   "execution_count": 6,
   "id": "60e2b533-25e1-4800-ba02-5dd1f795a22b",
   "metadata": {},
   "outputs": [
    {
     "data": {
      "text/plain": [
       "<navis.Volume(name=test_neuron, color=(0.85, 0.85, 0.85, 0.2), vertices.shape=(40905, 3), faces.shape=(82126, 3))>"
      ]
     },
     "execution_count": 6,
     "metadata": {},
     "output_type": "execute_result"
    }
   ],
   "source": [
    "# Load a mesh file into a Volume\n",
    "vol = navis.read_mesh('~/Downloads/test_mesh.stl', output='volume')\n",
    "vol"
   ]
  },
  {
   "cell_type": "raw",
   "id": "5e4ee2ab-4dfd-4b8d-9a0b-5dc8c6686dde",
   "metadata": {
    "raw_mimetype": "text/restructuredtext",
    "tags": []
   },
   "source": [
    "For saving :class:`~navis.MeshNeuron` or :class:`~navis.Volume` to disk, use :func:`navis.write_mesh`:"
   ]
  },
  {
   "cell_type": "code",
   "execution_count": 3,
   "id": "8e300a26-8a18-4438-9c3b-68820054a71c",
   "metadata": {},
   "outputs": [],
   "source": [
    "# Save single neuron to file \n",
    "m = navis.example_neurons(1, kind='mesh')\n",
    "navis.write_mesh(m, '~/Downloads/neuron.obj')"
   ]
  },
  {
   "cell_type": "code",
   "execution_count": 4,
   "id": "9c1592dc-06ad-4358-b595-7552977f6f68",
   "metadata": {},
   "outputs": [
    {
     "data": {
      "application/vnd.jupyter.widget-view+json": {
       "model_id": "",
       "version_major": 2,
       "version_minor": 0
      },
      "text/plain": [
       "Writing:   0%|          | 0/3 [00:00<?, ?it/s]"
      ]
     },
     "metadata": {},
     "output_type": "display_data"
    }
   ],
   "source": [
    "# Save a bunch of neurons to mesh \n",
    "nl = navis.example_neurons(3, kind='mesh')\n",
    "navis.write_mesh(nl, '~/Downloads/', filetype='obj')"
   ]
  },
  {
   "cell_type": "raw",
   "id": "0952b6d9-c7d8-49d0-b3f0-8082fae8d855",
   "metadata": {
    "raw_mimetype": "text/restructuredtext",
    "tags": []
   },
   "source": [
    "Manually constructing meshes\n",
    "============================\n",
    "\n",
    "It's super easy to construct :class:`~navis.MeshNeuron` and :class:`~navis.Volume` from scratch - they are just vertices and faces after all. So if e.g. your mesh file format is not covered by :func:`~navis.read_mesh` or you created the mesh yourself using a marching cube algorithm, just create the neuron/volume yourself:"
   ]
  },
  {
   "cell_type": "code",
   "execution_count": 12,
   "id": "8dc2da3d-95d0-4aa1-abed-0ed0333c2122",
   "metadata": {},
   "outputs": [],
   "source": [
    "import numpy as np\n",
    "\n",
    "# Create some mock vertices\n",
    "vertices = np.array([[1, 0, 0],\n",
    "                     [0, 1, 0],\n",
    "                     [0, 0, 1]])\n",
    "# Make a single triangular face using the vertex indices\n",
    "faces = np.array([[0, 1, 2]])"
   ]
  },
  {
   "cell_type": "code",
   "execution_count": 14,
   "id": "04d7b564-e101-41df-8dc8-c6e44ed93c89",
   "metadata": {},
   "outputs": [
    {
     "data": {
      "text/html": [
       "<div>\n",
       "<style scoped>\n",
       "    .dataframe tbody tr th:only-of-type {\n",
       "        vertical-align: middle;\n",
       "    }\n",
       "\n",
       "    .dataframe tbody tr th {\n",
       "        vertical-align: top;\n",
       "    }\n",
       "\n",
       "    .dataframe thead th {\n",
       "        text-align: right;\n",
       "    }\n",
       "</style>\n",
       "<table border=\"1\" class=\"dataframe\">\n",
       "  <thead>\n",
       "    <tr style=\"text-align: right;\">\n",
       "      <th></th>\n",
       "      <th></th>\n",
       "    </tr>\n",
       "  </thead>\n",
       "  <tbody>\n",
       "    <tr>\n",
       "      <th>type</th>\n",
       "      <td>navis.MeshNeuron</td>\n",
       "    </tr>\n",
       "    <tr>\n",
       "      <th>name</th>\n",
       "      <td>my_mesh</td>\n",
       "    </tr>\n",
       "    <tr>\n",
       "      <th>units</th>\n",
       "      <td>1 micrometer</td>\n",
       "    </tr>\n",
       "    <tr>\n",
       "      <th>n_vertices</th>\n",
       "      <td>3</td>\n",
       "    </tr>\n",
       "    <tr>\n",
       "      <th>n_faces</th>\n",
       "      <td>1</td>\n",
       "    </tr>\n",
       "  </tbody>\n",
       "</table>\n",
       "</div>"
      ],
      "text/plain": [
       "type          navis.MeshNeuron\n",
       "name                   my_mesh\n",
       "units             1 micrometer\n",
       "n_vertices                   3\n",
       "n_faces                      1\n",
       "dtype: object"
      ]
     },
     "execution_count": 14,
     "metadata": {},
     "output_type": "execute_result"
    }
   ],
   "source": [
    "# Turn into MeshNeuron\n",
    "m = navis.MeshNeuron((vertices, faces), name='my_mesh', units='microns')\n",
    "m"
   ]
  },
  {
   "cell_type": "code",
   "execution_count": 15,
   "id": "19eecc86-d5ee-4759-a8ba-85f5502f0803",
   "metadata": {},
   "outputs": [
    {
     "data": {
      "text/plain": [
       "<navis.Volume(name=my_volume, color=(0.85, 0.85, 0.85, 0.2), vertices.shape=(3, 3), faces.shape=(1, 3))>"
      ]
     },
     "execution_count": 15,
     "metadata": {},
     "output_type": "execute_result"
    }
   ],
   "source": [
    "vol = navis.Volume(vertices, faces, name='my_volume')\n",
    "vol"
   ]
  },
  {
   "cell_type": "raw",
   "id": "9c7e5940-ec92-4f18-a489-54595516ae0a",
   "metadata": {
    "raw_mimetype": "text/restructuredtext",
    "tags": []
   },
   "source": [
    "One thing to keep in mind here is that ``navis`` only works with triangular faces (i.e. no quads or polygons)!\n",
    "\n",
    "Voxel data\n",
    "----------\n",
    "\n",
    "Voxel data (e.g. from confocal scans) is represented by :class:`navis.VoxelNeuron`. At this point, ``navis`` supports only a single file format directly: ``.nrrd`` files via :func:`navis.read_nrrd` and :func:`navis.write_nrrd`."
   ]
  },
  {
   "cell_type": "code",
   "execution_count": 27,
   "id": "1ee24e54-6997-4355-bd3b-898bd6b00b9a",
   "metadata": {},
   "outputs": [
    {
     "data": {
      "text/html": [
       "<div>\n",
       "<style scoped>\n",
       "    .dataframe tbody tr th:only-of-type {\n",
       "        vertical-align: middle;\n",
       "    }\n",
       "\n",
       "    .dataframe tbody tr th {\n",
       "        vertical-align: top;\n",
       "    }\n",
       "\n",
       "    .dataframe thead th {\n",
       "        text-align: right;\n",
       "    }\n",
       "</style>\n",
       "<table border=\"1\" class=\"dataframe\">\n",
       "  <thead>\n",
       "    <tr style=\"text-align: right;\">\n",
       "      <th></th>\n",
       "      <th></th>\n",
       "    </tr>\n",
       "  </thead>\n",
       "  <tbody>\n",
       "    <tr>\n",
       "      <th>type</th>\n",
       "      <td>navis.VoxelNeuron</td>\n",
       "    </tr>\n",
       "    <tr>\n",
       "      <th>name</th>\n",
       "      <td>JRC_SS86025_JRC_SS86025-20211112_49_B6</td>\n",
       "    </tr>\n",
       "    <tr>\n",
       "      <th>units</th>\n",
       "      <td>[0.5189161 micrometer, 0.5189161 micrometer, 1...</td>\n",
       "    </tr>\n",
       "    <tr>\n",
       "      <th>shape</th>\n",
       "      <td>(1210, 563, 364)</td>\n",
       "    </tr>\n",
       "    <tr>\n",
       "      <th>dtype</th>\n",
       "      <td>&gt;u2</td>\n",
       "    </tr>\n",
       "  </tbody>\n",
       "</table>\n",
       "</div>"
      ],
      "text/plain": [
       "type                                     navis.VoxelNeuron\n",
       "name                JRC_SS86025_JRC_SS86025-20211112_49_B6\n",
       "units    [0.5189161 micrometer, 0.5189161 micrometer, 1...\n",
       "shape                                     (1210, 563, 364)\n",
       "dtype                                                  >u2\n",
       "dtype: object"
      ]
     },
     "execution_count": 27,
     "metadata": {},
     "output_type": "execute_result"
    }
   ],
   "source": [
    "# Open one of the Janelia confocals (I converted this to nrrd using ImageJ)\n",
    "vxl = navis.read_nrrd('~/Downloads/JRC_SS86025_JRC_SS86025-20211112_49_B6.nrrd')\n",
    "vxl"
   ]
  },
  {
   "cell_type": "raw",
   "id": "a4a35075-4f17-4a87-a42c-fbbfd9fa823a",
   "metadata": {
    "raw_mimetype": "text/restructuredtext",
    "tags": []
   },
   "source": [
    "If push comes to shove you can construct :class:`navis.VoxelNeuron` either from a dense 3-dimensional matrix or from sparse 2-dimensional voxel data:"
   ]
  },
  {
   "cell_type": "code",
   "execution_count": 21,
   "id": "a76f1a61-6f86-4d12-b50c-555b1de88646",
   "metadata": {},
   "outputs": [
    {
     "data": {
      "text/html": [
       "<div>\n",
       "<style scoped>\n",
       "    .dataframe tbody tr th:only-of-type {\n",
       "        vertical-align: middle;\n",
       "    }\n",
       "\n",
       "    .dataframe tbody tr th {\n",
       "        vertical-align: top;\n",
       "    }\n",
       "\n",
       "    .dataframe thead th {\n",
       "        text-align: right;\n",
       "    }\n",
       "</style>\n",
       "<table border=\"1\" class=\"dataframe\">\n",
       "  <thead>\n",
       "    <tr style=\"text-align: right;\">\n",
       "      <th></th>\n",
       "      <th></th>\n",
       "    </tr>\n",
       "  </thead>\n",
       "  <tbody>\n",
       "    <tr>\n",
       "      <th>type</th>\n",
       "      <td>navis.VoxelNeuron</td>\n",
       "    </tr>\n",
       "    <tr>\n",
       "      <th>name</th>\n",
       "      <td>None</td>\n",
       "    </tr>\n",
       "    <tr>\n",
       "      <th>units</th>\n",
       "      <td>1 dimensionless</td>\n",
       "    </tr>\n",
       "    <tr>\n",
       "      <th>shape</th>\n",
       "      <td>(7, 7, 7)</td>\n",
       "    </tr>\n",
       "    <tr>\n",
       "      <th>dtype</th>\n",
       "      <td>float64</td>\n",
       "    </tr>\n",
       "  </tbody>\n",
       "</table>\n",
       "</div>"
      ],
      "text/plain": [
       "type     navis.VoxelNeuron\n",
       "name                  None\n",
       "units      1 dimensionless\n",
       "shape            (7, 7, 7)\n",
       "dtype              float64\n",
       "dtype: object"
      ]
     },
     "execution_count": 21,
     "metadata": {},
     "output_type": "execute_result"
    }
   ],
   "source": [
    "import numpy as np\n",
    "\n",
    "# Create an empty 7x7x7 matrix\n",
    "dense = np.zeros((7, 7, 7))\n",
    "# Fill the center voxel\n",
    "dense[4, 4, 4] = 1\n",
    "\n",
    "# Create the neuron\n",
    "vxl = navis.VoxelNeuron(dense)\n",
    "vxl"
   ]
  },
  {
   "cell_type": "code",
   "execution_count": 26,
   "id": "b008e617-50be-490d-a5ea-aa75d29918a4",
   "metadata": {},
   "outputs": [
    {
     "data": {
      "text/html": [
       "<div>\n",
       "<style scoped>\n",
       "    .dataframe tbody tr th:only-of-type {\n",
       "        vertical-align: middle;\n",
       "    }\n",
       "\n",
       "    .dataframe tbody tr th {\n",
       "        vertical-align: top;\n",
       "    }\n",
       "\n",
       "    .dataframe thead th {\n",
       "        text-align: right;\n",
       "    }\n",
       "</style>\n",
       "<table border=\"1\" class=\"dataframe\">\n",
       "  <thead>\n",
       "    <tr style=\"text-align: right;\">\n",
       "      <th></th>\n",
       "      <th></th>\n",
       "    </tr>\n",
       "  </thead>\n",
       "  <tbody>\n",
       "    <tr>\n",
       "      <th>type</th>\n",
       "      <td>navis.VoxelNeuron</td>\n",
       "    </tr>\n",
       "    <tr>\n",
       "      <th>name</th>\n",
       "      <td>None</td>\n",
       "    </tr>\n",
       "    <tr>\n",
       "      <th>units</th>\n",
       "      <td>1 dimensionless</td>\n",
       "    </tr>\n",
       "    <tr>\n",
       "      <th>shape</th>\n",
       "      <td>(5, 5, 6)</td>\n",
       "    </tr>\n",
       "    <tr>\n",
       "      <th>dtype</th>\n",
       "      <td>int64</td>\n",
       "    </tr>\n",
       "  </tbody>\n",
       "</table>\n",
       "</div>"
      ],
      "text/plain": [
       "type     navis.VoxelNeuron\n",
       "name                  None\n",
       "units      1 dimensionless\n",
       "shape            (5, 5, 6)\n",
       "dtype                int64\n",
       "dtype: object"
      ]
     },
     "execution_count": 26,
     "metadata": {},
     "output_type": "execute_result"
    }
   ],
   "source": [
    "# Create an array with sparse x/y/z voxel coordinates\n",
    "sparse = np.array([[4, 4, 4],\n",
    "                   [4, 4, 5]])\n",
    "\n",
    "# Construct neuron\n",
    "vxl = navis.VoxelNeuron(sparse)\n",
    "vxl"
   ]
  },
  {
   "cell_type": "raw",
   "id": "9332a8b8-6b64-4ec3-8dc5-c2a9eeb4818c",
   "metadata": {
    "raw_mimetype": "text/restructuredtext",
    "tags": []
   },
   "source": [
    "Dotprops\n",
    "--------\n",
    "\n",
    ":class:`navis.Dotprops` are point clouds with associated principal vectors which are mostly used for NBLASTing. They are typically direvatives of skeletons or meshes but you can load them straight from confocal data using :func:`navis.read_nrrd`:"
   ]
  },
  {
   "cell_type": "code",
   "execution_count": 31,
   "id": "896cfc1a-b6a8-4394-a48d-d5a300b93fb6",
   "metadata": {},
   "outputs": [
    {
     "data": {
      "text/html": [
       "<div>\n",
       "<style scoped>\n",
       "    .dataframe tbody tr th:only-of-type {\n",
       "        vertical-align: middle;\n",
       "    }\n",
       "\n",
       "    .dataframe tbody tr th {\n",
       "        vertical-align: top;\n",
       "    }\n",
       "\n",
       "    .dataframe thead th {\n",
       "        text-align: right;\n",
       "    }\n",
       "</style>\n",
       "<table border=\"1\" class=\"dataframe\">\n",
       "  <thead>\n",
       "    <tr style=\"text-align: right;\">\n",
       "      <th></th>\n",
       "      <th></th>\n",
       "    </tr>\n",
       "  </thead>\n",
       "  <tbody>\n",
       "    <tr>\n",
       "      <th>type</th>\n",
       "      <td>navis.Dotprops</td>\n",
       "    </tr>\n",
       "    <tr>\n",
       "      <th>name</th>\n",
       "      <td>JRC_SS86025_JRC_SS86025-20211112_49_B6</td>\n",
       "    </tr>\n",
       "    <tr>\n",
       "      <th>k</th>\n",
       "      <td>20</td>\n",
       "    </tr>\n",
       "    <tr>\n",
       "      <th>units</th>\n",
       "      <td>1 micrometer</td>\n",
       "    </tr>\n",
       "    <tr>\n",
       "      <th>n_points</th>\n",
       "      <td>92416</td>\n",
       "    </tr>\n",
       "  </tbody>\n",
       "</table>\n",
       "</div>"
      ],
      "text/plain": [
       "type                                navis.Dotprops\n",
       "name        JRC_SS86025_JRC_SS86025-20211112_49_B6\n",
       "k                                               20\n",
       "units                                 1 micrometer\n",
       "n_points                                     92416\n",
       "dtype: object"
      ]
     },
     "execution_count": 31,
     "metadata": {},
     "output_type": "execute_result"
    }
   ],
   "source": [
    "# Load NRRD file into Dotprops instead of VoxelNeuron \n",
    "# Note the threshold parameter that determines which voxels\n",
    "# (by brightness) are used and which are ignored!\n",
    "dp = navis.read_nrrd('~/Downloads/JRC_SS86025_JRC_SS86025-20211112_49_B6.nrrd', output='dotprops', threshold=3000)\n",
    "dp"
   ]
  },
  {
   "cell_type": "raw",
   "id": "d70e7b69-64ba-4ce0-b3ce-c3793fa9b1a2",
   "metadata": {
    "raw_mimetype": "text/restructuredtext",
    "tags": []
   },
   "source": [
    "If not loaded from file, you would typically create ``Dotprops`` via :func:`navis.make_dotprops` but just like all other neuron types, :class:`~navis.Dotprops` can be constructed manually:"
   ]
  },
  {
   "cell_type": "code",
   "execution_count": 37,
   "id": "df638f8c-7843-4ed2-8b69-6db7241858a6",
   "metadata": {},
   "outputs": [
    {
     "data": {
      "text/html": [
       "<div>\n",
       "<style scoped>\n",
       "    .dataframe tbody tr th:only-of-type {\n",
       "        vertical-align: middle;\n",
       "    }\n",
       "\n",
       "    .dataframe tbody tr th {\n",
       "        vertical-align: top;\n",
       "    }\n",
       "\n",
       "    .dataframe thead th {\n",
       "        text-align: right;\n",
       "    }\n",
       "</style>\n",
       "<table border=\"1\" class=\"dataframe\">\n",
       "  <thead>\n",
       "    <tr style=\"text-align: right;\">\n",
       "      <th></th>\n",
       "      <th></th>\n",
       "    </tr>\n",
       "  </thead>\n",
       "  <tbody>\n",
       "    <tr>\n",
       "      <th>type</th>\n",
       "      <td>navis.Dotprops</td>\n",
       "    </tr>\n",
       "    <tr>\n",
       "      <th>name</th>\n",
       "      <td>None</td>\n",
       "    </tr>\n",
       "    <tr>\n",
       "      <th>k</th>\n",
       "      <td>None</td>\n",
       "    </tr>\n",
       "    <tr>\n",
       "      <th>units</th>\n",
       "      <td>1 dimensionless</td>\n",
       "    </tr>\n",
       "    <tr>\n",
       "      <th>n_points</th>\n",
       "      <td>3</td>\n",
       "    </tr>\n",
       "  </tbody>\n",
       "</table>\n",
       "</div>"
      ],
      "text/plain": [
       "type         navis.Dotprops\n",
       "name                   None\n",
       "k                      None\n",
       "units       1 dimensionless\n",
       "n_points                  3\n",
       "dtype: object"
      ]
     },
     "execution_count": 37,
     "metadata": {},
     "output_type": "execute_result"
    }
   ],
   "source": [
    "import numpy as np\n",
    "\n",
    "# Create some x/y/z coordinates \n",
    "points = np.array([[0,0,0],\n",
    "                   [1,1,1],\n",
    "                   [2,2,2]])\n",
    "\n",
    "# Create vectors for each point \n",
    "# You can skip this point and just provide the `k` parameter \n",
    "vect = np.array([[1,0,0],\n",
    "                 [0,1,0],\n",
    "                 [0,1,0]])\n",
    "\n",
    "dp = navis.Dotprops(points, k=None, vect=vect)\n",
    "dp"
   ]
  },
  {
   "cell_type": "raw",
   "id": "632f61a2-aad0-4198-8ae0-77751f5b2b24",
   "metadata": {
    "raw_mimetype": "text/restructuredtext",
    "tags": []
   },
   "source": [
    "There is no established format to store dotprops. But like all other neuron types in navis, you can pickle data for later (re)use - see below. \n",
    "\n",
    "Pickling\n",
    "--------\n",
    "All neuron types including :class:`navis.NeuronList` can be pickled. If you don't know what that is: pickling is storing the actual Python object as a bytes stream. This works very well for short-term storage but has a few downsides:\n",
    "\n",
    "1. Can only be re-opened in Python\n",
    "2. Is (sort of) specific to the current version of ``navis`` - i.e. may not work with future versions of navis\n",
    "\n",
    "With that in mind, pickling is incredibly easy:"
   ]
  },
  {
   "cell_type": "code",
   "execution_count": 33,
   "id": "7083e54b-9a41-4c03-b85b-1d6aa216bc9b",
   "metadata": {},
   "outputs": [],
   "source": [
    "import pickle\n",
    "\n",
    "# Load some example neurons \n",
    "nl = navis.example_neurons(3, kind='mesh')\n",
    "\n",
    "# Pickle neurons to file\n",
    "with open('/Users/philipps/Downloads//meshes.pkl', 'wb') as f:\n",
    "    pickle.dump(nl, f)"
   ]
  },
  {
   "cell_type": "code",
   "execution_count": 35,
   "id": "7857b6d1-38eb-4510-8886-a12a86b8d914",
   "metadata": {},
   "outputs": [
    {
     "data": {
      "text/html": [
       "&lt;class 'navis.core.neuronlist.NeuronList'&gt; containing 3 neurons (1.9MiB)<div>\n",
       "<style scoped>\n",
       "    .dataframe tbody tr th:only-of-type {\n",
       "        vertical-align: middle;\n",
       "    }\n",
       "\n",
       "    .dataframe tbody tr th {\n",
       "        vertical-align: top;\n",
       "    }\n",
       "\n",
       "    .dataframe thead th {\n",
       "        text-align: right;\n",
       "    }\n",
       "</style>\n",
       "<table border=\"1\" class=\"dataframe\">\n",
       "  <thead>\n",
       "    <tr style=\"text-align: right;\">\n",
       "      <th></th>\n",
       "      <th>type</th>\n",
       "      <th>name</th>\n",
       "      <th>id</th>\n",
       "      <th>units</th>\n",
       "      <th>n_vertices</th>\n",
       "      <th>n_faces</th>\n",
       "    </tr>\n",
       "  </thead>\n",
       "  <tbody>\n",
       "    <tr>\n",
       "      <th>0</th>\n",
       "      <td>navis.MeshNeuron</td>\n",
       "      <td>DA1_lPN_R</td>\n",
       "      <td>1734350788</td>\n",
       "      <td>8 nanometer</td>\n",
       "      <td>6309</td>\n",
       "      <td>13054</td>\n",
       "    </tr>\n",
       "    <tr>\n",
       "      <th>1</th>\n",
       "      <td>navis.MeshNeuron</td>\n",
       "      <td>DA1_lPN_R</td>\n",
       "      <td>1734350908</td>\n",
       "      <td>8 nanometer</td>\n",
       "      <td>7098</td>\n",
       "      <td>14620</td>\n",
       "    </tr>\n",
       "    <tr>\n",
       "      <th>2</th>\n",
       "      <td>navis.MeshNeuron</td>\n",
       "      <td>DA1_lPN_R</td>\n",
       "      <td>722817260</td>\n",
       "      <td>8 nanometer</td>\n",
       "      <td>6582</td>\n",
       "      <td>13772</td>\n",
       "    </tr>\n",
       "  </tbody>\n",
       "</table>\n",
       "</div>"
      ],
      "text/plain": [
       "<class 'navis.core.neuronlist.NeuronList'> containing 3 neurons (1.9MiB)\n",
       "               type       name          id        units  n_vertices  n_faces\n",
       "0  navis.MeshNeuron  DA1_lPN_R  1734350788  8 nanometer        6309    13054\n",
       "1  navis.MeshNeuron  DA1_lPN_R  1734350908  8 nanometer        7098    14620\n",
       "2  navis.MeshNeuron  DA1_lPN_R   722817260  8 nanometer        6582    13772"
      ]
     },
     "execution_count": 35,
     "metadata": {},
     "output_type": "execute_result"
    }
   ],
   "source": [
    "# Read neurons back from pickle file\n",
    "with open('/Users/philipps/Downloads//meshes.pkl', 'rb') as f:\n",
    "    nl = pickle.load(f)\n",
    "nl    "
   ]
  },
  {
   "cell_type": "raw",
   "id": "69776657-fd5f-47e7-971b-ea1fd6b81930",
   "metadata": {
    "raw_mimetype": "text/restructuredtext",
    "tags": []
   },
   "source": [
    "Hopefully the above has given you some entry points on how to load your data. Please keep in mind that you can also convert one neuron type into another - for example by skeletonizing ``MeshNeurons`` (see :ref:`neuron_conversion`). "
   ]
  }
 ],
 "metadata": {
  "kernelspec": {
   "display_name": "Python 3 (ipykernel)",
   "language": "python",
   "name": "python3"
  },
  "language_info": {
   "codemirror_mode": {
    "name": "ipython",
    "version": 3
   },
   "file_extension": ".py",
   "mimetype": "text/x-python",
   "name": "python",
   "nbconvert_exporter": "python",
   "pygments_lexer": "ipython3",
   "version": "3.9.9"
  },
  "widgets": {
   "application/vnd.jupyter.widget-state+json": {
    "state": {
     "1dcde711eaf04c5294122aa79a60a35b": {
      "model_module": "@jupyter-widgets/controls",
      "model_module_version": "1.5.0",
      "model_name": "FloatProgressModel",
      "state": {
       "layout": "IPY_MODEL_326db72b6d0c4fed8ba8defc32b4143d",
       "max": 3,
       "style": "IPY_MODEL_3d0e483d45354e198fd772c5f322e4bb",
       "value": 3
      }
     },
     "326db72b6d0c4fed8ba8defc32b4143d": {
      "model_module": "@jupyter-widgets/base",
      "model_module_version": "1.2.0",
      "model_name": "LayoutModel",
      "state": {}
     },
     "33d8f2ac439c4aaaab5329c93e5cef42": {
      "model_module": "@jupyter-widgets/controls",
      "model_module_version": "1.5.0",
      "model_name": "DescriptionStyleModel",
      "state": {
       "description_width": ""
      }
     },
     "3d0e483d45354e198fd772c5f322e4bb": {
      "model_module": "@jupyter-widgets/controls",
      "model_module_version": "1.5.0",
      "model_name": "ProgressStyleModel",
      "state": {
       "description_width": ""
      }
     },
     "5540acbc86af4a4bb349f6263bf1e121": {
      "model_module": "@jupyter-widgets/controls",
      "model_module_version": "1.5.0",
      "model_name": "HTMLModel",
      "state": {
       "layout": "IPY_MODEL_817df2ceccb44a5c9f011842b27706f0",
       "style": "IPY_MODEL_b40844464a894402a1683d57ade16d5d",
       "value": " 1/3 [00:00&lt;00:00,  5.25it/s]"
      }
     },
     "817df2ceccb44a5c9f011842b27706f0": {
      "model_module": "@jupyter-widgets/base",
      "model_module_version": "1.2.0",
      "model_name": "LayoutModel",
      "state": {}
     },
     "82337ae0d0c243ff884fa9f6ba5099ab": {
      "model_module": "@jupyter-widgets/controls",
      "model_module_version": "1.5.0",
      "model_name": "HTMLModel",
      "state": {
       "layout": "IPY_MODEL_d26fdea3b211433297ef46d654e41879",
       "style": "IPY_MODEL_33d8f2ac439c4aaaab5329c93e5cef42",
       "value": "Writing:  33%"
      }
     },
     "825b747eaf7243fcac28b08b1b4eccec": {
      "model_module": "@jupyter-widgets/base",
      "model_module_version": "1.2.0",
      "model_name": "LayoutModel",
      "state": {}
     },
     "b40844464a894402a1683d57ade16d5d": {
      "model_module": "@jupyter-widgets/controls",
      "model_module_version": "1.5.0",
      "model_name": "DescriptionStyleModel",
      "state": {
       "description_width": ""
      }
     },
     "d26fdea3b211433297ef46d654e41879": {
      "model_module": "@jupyter-widgets/base",
      "model_module_version": "1.2.0",
      "model_name": "LayoutModel",
      "state": {}
     }
    },
    "version_major": 2,
    "version_minor": 0
   }
  }
 },
 "nbformat": 4,
 "nbformat_minor": 5
}
