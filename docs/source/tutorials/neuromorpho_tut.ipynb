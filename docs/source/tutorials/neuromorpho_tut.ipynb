{
 "cells": [
  {
   "cell_type": "raw",
   "id": "a06e1f77",
   "metadata": {
    "raw_mimetype": "text/restructuredtext"
   },
   "source": [
    ".. _neuromorpho_tut:\n",
    "\n",
    "Neuromorpho\n",
    "***********\n",
    "\n",
    "`Neuromorpho <http://neuromorpho.org/>`_ is a searchable online repository for neuron morphologies. At the time of writing it contains over 168k neurons from 91 different species. While the website features a comprehensive search and some neat stats, it can be useful to download these data to run your own analyses or compare to other data sets.\n",
    "\n",
    "For that purpose, `navis` provides an interface to neuromorpho that wraps some of their API."
   ]
  },
  {
   "cell_type": "code",
   "execution_count": 1,
   "id": "b341734e",
   "metadata": {},
   "outputs": [],
   "source": [
    "# Import navis\n",
    "import navis\n",
    "\n",
    "# Import the actual neuromorpho interface\n",
    "import navis.interfaces.neuromorpho as nm"
   ]
  },
  {
   "cell_type": "raw",
   "id": "844ba864",
   "metadata": {
    "raw_mimetype": "text/restructuredtext"
   },
   "source": [
    "First we can use :func:`navis.interfaces.neuromorpho.get_neuron_fields` to figure out what we can search for:"
   ]
  },
  {
   "cell_type": "code",
   "execution_count": 7,
   "id": "013f795c",
   "metadata": {},
   "outputs": [
    {
     "data": {
      "text/plain": [
       "['neuron_id',\n",
       " 'neuron_name',\n",
       " 'archive',\n",
       " 'age_scale',\n",
       " 'gender',\n",
       " 'reference_pmid',\n",
       " 'reference_doi',\n",
       " 'note',\n",
       " 'age_classification',\n",
       " 'brain_region']"
      ]
     },
     "execution_count": 7,
     "metadata": {},
     "output_type": "execute_result"
    }
   ],
   "source": [
    "fields = nm.get_neuron_fields()\n",
    "fields[:10]"
   ]
  },
  {
   "cell_type": "raw",
   "id": "c85b3fdf",
   "metadata": {
    "raw_mimetype": "text/restructuredtext"
   },
   "source": [
    "Next, we will use :func:`navis.interfaces.neuromorpho.get_available_field_values` to get an idea of the possible values for a given field:"
   ]
  },
  {
   "cell_type": "code",
   "execution_count": 8,
   "id": "342de7b2",
   "metadata": {},
   "outputs": [
    {
     "data": {
      "text/plain": [
       "['mouse',\n",
       " 'rat',\n",
       " 'drosophila melanogaster',\n",
       " 'human',\n",
       " 'zebrafish',\n",
       " 'monkey',\n",
       " 'chimpanzee',\n",
       " 'Xenopus laevis',\n",
       " 'Semipalmated sandpiper',\n",
       " 'C. elegans']"
      ]
     },
     "execution_count": 8,
     "metadata": {},
     "output_type": "execute_result"
    }
   ],
   "source": [
    "species = nm.get_available_field_values('species')\n",
    "species[:10]"
   ]
  },
  {
   "cell_type": "raw",
   "id": "3d961819",
   "metadata": {
    "raw_mimetype": "text/restructuredtext"
   },
   "source": [
    "Let's find a couple human neurons, shall we?"
   ]
  },
  {
   "cell_type": "code",
   "execution_count": 9,
   "id": "27d759b3",
   "metadata": {},
   "outputs": [
    {
     "data": {
      "text/html": [
       "<div>\n",
       "<style scoped>\n",
       "    .dataframe tbody tr th:only-of-type {\n",
       "        vertical-align: middle;\n",
       "    }\n",
       "\n",
       "    .dataframe tbody tr th {\n",
       "        vertical-align: top;\n",
       "    }\n",
       "\n",
       "    .dataframe thead th {\n",
       "        text-align: right;\n",
       "    }\n",
       "</style>\n",
       "<table border=\"1\" class=\"dataframe\">\n",
       "  <thead>\n",
       "    <tr style=\"text-align: right;\">\n",
       "      <th></th>\n",
       "      <th>neuron_id</th>\n",
       "      <th>neuron_name</th>\n",
       "      <th>archive</th>\n",
       "      <th>note</th>\n",
       "      <th>age_scale</th>\n",
       "      <th>gender</th>\n",
       "      <th>age_classification</th>\n",
       "      <th>brain_region</th>\n",
       "      <th>cell_type</th>\n",
       "      <th>species</th>\n",
       "      <th>...</th>\n",
       "      <th>slicing_thickness</th>\n",
       "      <th>min_age</th>\n",
       "      <th>max_age</th>\n",
       "      <th>min_weight</th>\n",
       "      <th>max_weight</th>\n",
       "      <th>png_url</th>\n",
       "      <th>reference_pmid</th>\n",
       "      <th>reference_doi</th>\n",
       "      <th>physical_Integrity</th>\n",
       "      <th>_links</th>\n",
       "    </tr>\n",
       "  </thead>\n",
       "  <tbody>\n",
       "    <tr>\n",
       "      <th>0</th>\n",
       "      <td>102399</td>\n",
       "      <td>H17-03-010-11-13-01_656411100_m</td>\n",
       "      <td>Allen Cell Types</td>\n",
       "      <td></td>\n",
       "      <td>Year</td>\n",
       "      <td>Female</td>\n",
       "      <td>adult</td>\n",
       "      <td>[neocortex, occipital, middle temporal gyrus]</td>\n",
       "      <td>[interneuron, Aspiny]</td>\n",
       "      <td>human</td>\n",
       "      <td>...</td>\n",
       "      <td>350</td>\n",
       "      <td>38.0</td>\n",
       "      <td>38.0</td>\n",
       "      <td>Not Reported</td>\n",
       "      <td>Not Reported</td>\n",
       "      <td>http://neuromorpho.org/images/imageFiles/Allen...</td>\n",
       "      <td>[27810003]</td>\n",
       "      <td>[10.1016/j.neuron.2016.10.019]</td>\n",
       "      <td>Dendrites Complete, Axon Incomplete</td>\n",
       "      <td>{'self': {'href': 'http://neuromorpho.org/api/...</td>\n",
       "    </tr>\n",
       "    <tr>\n",
       "      <th>1</th>\n",
       "      <td>102400</td>\n",
       "      <td>H17-03-010-11-13-06_651089035_m</td>\n",
       "      <td>Allen Cell Types</td>\n",
       "      <td></td>\n",
       "      <td>Year</td>\n",
       "      <td>Female</td>\n",
       "      <td>adult</td>\n",
       "      <td>[neocortex, occipital, middle temporal gyrus]</td>\n",
       "      <td>[principal cell, Spiny]</td>\n",
       "      <td>human</td>\n",
       "      <td>...</td>\n",
       "      <td>350</td>\n",
       "      <td>38.0</td>\n",
       "      <td>38.0</td>\n",
       "      <td>Not Reported</td>\n",
       "      <td>Not Reported</td>\n",
       "      <td>http://neuromorpho.org/images/imageFiles/Allen...</td>\n",
       "      <td>[27810003]</td>\n",
       "      <td>[10.1016/j.neuron.2016.10.019]</td>\n",
       "      <td>Dendrites Complete, Axon Incomplete</td>\n",
       "      <td>{'self': {'href': 'http://neuromorpho.org/api/...</td>\n",
       "    </tr>\n",
       "    <tr>\n",
       "      <th>2</th>\n",
       "      <td>102401</td>\n",
       "      <td>H17-03-011-11-04-05_650978964_m</td>\n",
       "      <td>Allen Cell Types</td>\n",
       "      <td></td>\n",
       "      <td>Year</td>\n",
       "      <td>Male</td>\n",
       "      <td>adult</td>\n",
       "      <td>[neocortex, occipital, middle temporal gyrus]</td>\n",
       "      <td>[principal cell, Spiny]</td>\n",
       "      <td>human</td>\n",
       "      <td>...</td>\n",
       "      <td>350</td>\n",
       "      <td>30.0</td>\n",
       "      <td>30.0</td>\n",
       "      <td>Not Reported</td>\n",
       "      <td>Not Reported</td>\n",
       "      <td>http://neuromorpho.org/images/imageFiles/Allen...</td>\n",
       "      <td>[27810003]</td>\n",
       "      <td>[10.1016/j.neuron.2016.10.019]</td>\n",
       "      <td>Dendrites &amp; Axon Moderate</td>\n",
       "      <td>{'self': {'href': 'http://neuromorpho.org/api/...</td>\n",
       "    </tr>\n",
       "    <tr>\n",
       "      <th>3</th>\n",
       "      <td>102402</td>\n",
       "      <td>H17-03-011-11-09-04_648981937_m</td>\n",
       "      <td>Allen Cell Types</td>\n",
       "      <td></td>\n",
       "      <td>Year</td>\n",
       "      <td>Male</td>\n",
       "      <td>adult</td>\n",
       "      <td>[neocortex, occipital, middle temporal gyrus]</td>\n",
       "      <td>[principal cell, Spiny]</td>\n",
       "      <td>human</td>\n",
       "      <td>...</td>\n",
       "      <td>350</td>\n",
       "      <td>30.0</td>\n",
       "      <td>30.0</td>\n",
       "      <td>Not Reported</td>\n",
       "      <td>Not Reported</td>\n",
       "      <td>http://neuromorpho.org/images/imageFiles/Allen...</td>\n",
       "      <td>[27810003]</td>\n",
       "      <td>[10.1016/j.neuron.2016.10.019]</td>\n",
       "      <td>Dendrites &amp; Axon Moderate</td>\n",
       "      <td>{'self': {'href': 'http://neuromorpho.org/api/...</td>\n",
       "    </tr>\n",
       "    <tr>\n",
       "      <th>4</th>\n",
       "      <td>102403</td>\n",
       "      <td>H17-06-005-12-15-01_605485782_m</td>\n",
       "      <td>Allen Cell Types</td>\n",
       "      <td></td>\n",
       "      <td>Year</td>\n",
       "      <td>Male</td>\n",
       "      <td>adult</td>\n",
       "      <td>[neocortex, occipital, middle temporal gyrus]</td>\n",
       "      <td>[interneuron, Aspiny]</td>\n",
       "      <td>human</td>\n",
       "      <td>...</td>\n",
       "      <td>350</td>\n",
       "      <td>38.0</td>\n",
       "      <td>38.0</td>\n",
       "      <td>Not Reported</td>\n",
       "      <td>Not Reported</td>\n",
       "      <td>http://neuromorpho.org/images/imageFiles/Allen...</td>\n",
       "      <td>[27810003]</td>\n",
       "      <td>[10.1016/j.neuron.2016.10.019]</td>\n",
       "      <td>Dendrites &amp; Axon Complete</td>\n",
       "      <td>{'self': {'href': 'http://neuromorpho.org/api/...</td>\n",
       "    </tr>\n",
       "  </tbody>\n",
       "</table>\n",
       "<p>5 rows × 45 columns</p>\n",
       "</div>"
      ],
      "text/plain": [
       "   neuron_id                      neuron_name           archive note  \\\n",
       "0     102399  H17-03-010-11-13-01_656411100_m  Allen Cell Types        \n",
       "1     102400  H17-03-010-11-13-06_651089035_m  Allen Cell Types        \n",
       "2     102401  H17-03-011-11-04-05_650978964_m  Allen Cell Types        \n",
       "3     102402  H17-03-011-11-09-04_648981937_m  Allen Cell Types        \n",
       "4     102403  H17-06-005-12-15-01_605485782_m  Allen Cell Types        \n",
       "\n",
       "  age_scale  gender age_classification  \\\n",
       "0      Year  Female              adult   \n",
       "1      Year  Female              adult   \n",
       "2      Year    Male              adult   \n",
       "3      Year    Male              adult   \n",
       "4      Year    Male              adult   \n",
       "\n",
       "                                    brain_region                cell_type  \\\n",
       "0  [neocortex, occipital, middle temporal gyrus]    [interneuron, Aspiny]   \n",
       "1  [neocortex, occipital, middle temporal gyrus]  [principal cell, Spiny]   \n",
       "2  [neocortex, occipital, middle temporal gyrus]  [principal cell, Spiny]   \n",
       "3  [neocortex, occipital, middle temporal gyrus]  [principal cell, Spiny]   \n",
       "4  [neocortex, occipital, middle temporal gyrus]    [interneuron, Aspiny]   \n",
       "\n",
       "  species  ... slicing_thickness min_age max_age    min_weight    max_weight  \\\n",
       "0   human  ...               350    38.0    38.0  Not Reported  Not Reported   \n",
       "1   human  ...               350    38.0    38.0  Not Reported  Not Reported   \n",
       "2   human  ...               350    30.0    30.0  Not Reported  Not Reported   \n",
       "3   human  ...               350    30.0    30.0  Not Reported  Not Reported   \n",
       "4   human  ...               350    38.0    38.0  Not Reported  Not Reported   \n",
       "\n",
       "                                             png_url reference_pmid  \\\n",
       "0  http://neuromorpho.org/images/imageFiles/Allen...     [27810003]   \n",
       "1  http://neuromorpho.org/images/imageFiles/Allen...     [27810003]   \n",
       "2  http://neuromorpho.org/images/imageFiles/Allen...     [27810003]   \n",
       "3  http://neuromorpho.org/images/imageFiles/Allen...     [27810003]   \n",
       "4  http://neuromorpho.org/images/imageFiles/Allen...     [27810003]   \n",
       "\n",
       "                    reference_doi                   physical_Integrity  \\\n",
       "0  [10.1016/j.neuron.2016.10.019]  Dendrites Complete, Axon Incomplete   \n",
       "1  [10.1016/j.neuron.2016.10.019]  Dendrites Complete, Axon Incomplete   \n",
       "2  [10.1016/j.neuron.2016.10.019]            Dendrites & Axon Moderate   \n",
       "3  [10.1016/j.neuron.2016.10.019]            Dendrites & Axon Moderate   \n",
       "4  [10.1016/j.neuron.2016.10.019]            Dendrites & Axon Complete   \n",
       "\n",
       "                                              _links  \n",
       "0  {'self': {'href': 'http://neuromorpho.org/api/...  \n",
       "1  {'self': {'href': 'http://neuromorpho.org/api/...  \n",
       "2  {'self': {'href': 'http://neuromorpho.org/api/...  \n",
       "3  {'self': {'href': 'http://neuromorpho.org/api/...  \n",
       "4  {'self': {'href': 'http://neuromorpho.org/api/...  \n",
       "\n",
       "[5 rows x 45 columns]"
      ]
     },
     "execution_count": 9,
     "metadata": {},
     "output_type": "execute_result"
    }
   ],
   "source": [
    "# Note that we're only fetching the first couple results\n",
    "info = nm.find_neurons(species='human', page_limit=10)\n",
    "info.head()"
   ]
  },
  {
   "cell_type": "raw",
   "id": "78c27a2d",
   "metadata": {
    "raw_mimetype": "text/restructuredtext"
   },
   "source": [
    "Now on to fetching some actual neurons! The way you typically want to do this is by passing the `info` for your neurons of interest to :func:`navis.interfaces.neuromorpho.get_neuron`:"
   ]
  },
  {
   "cell_type": "code",
   "execution_count": 16,
   "id": "2e23739a",
   "metadata": {},
   "outputs": [
    {
     "name": "stdout",
     "output_type": "stream",
     "text": [
      "102701 generated an exception: 404 Client Error: Not Found for url: http://neuromorpho.org/dableFiles/ortega/CNG%20version/WT6_02.CNG.swc\n",
      "102706 generated an exception: 404 Client Error: Not Found for url: http://neuromorpho.org/dableFiles/ortega/CNG%20version/WT4_02.CNG.swc\n",
      "102709 generated an exception: 404 Client Error: Not Found for url: http://neuromorpho.org/dableFiles/ortega/CNG%20version/WT9_02.CNG.swc\n",
      "102719 generated an exception: 404 Client Error: Not Found for url: http://neuromorpho.org/dableFiles/ortega/CNG%20version/WT7_02.CNG.swc\n",
      "102726 generated an exception: 404 Client Error: Not Found for url: http://neuromorpho.org/dableFiles/ortega/CNG%20version/WT5_02.CNG.swc\n",
      "102728 generated an exception: 404 Client Error: Not Found for url: http://neuromorpho.org/dableFiles/ortega/CNG%20version/WT8_02.CNG.swc\n"
     ]
    },
    {
     "data": {
      "text/html": [
       "&lt;class 'navis.core.neuronlist.NeuronList'&gt; containing 494 neurons (26.0MiB)<div>\n",
       "<style scoped>\n",
       "    .dataframe tbody tr th:only-of-type {\n",
       "        vertical-align: middle;\n",
       "    }\n",
       "\n",
       "    .dataframe tbody tr th {\n",
       "        vertical-align: top;\n",
       "    }\n",
       "\n",
       "    .dataframe thead th {\n",
       "        text-align: right;\n",
       "    }\n",
       "</style>\n",
       "<table border=\"1\" class=\"dataframe\">\n",
       "  <thead>\n",
       "    <tr style=\"text-align: right;\">\n",
       "      <th></th>\n",
       "      <th>type</th>\n",
       "      <th>name</th>\n",
       "      <th>id</th>\n",
       "      <th>n_nodes</th>\n",
       "      <th>n_connectors</th>\n",
       "      <th>n_branches</th>\n",
       "      <th>n_leafs</th>\n",
       "      <th>cable_length</th>\n",
       "      <th>soma</th>\n",
       "      <th>units</th>\n",
       "    </tr>\n",
       "  </thead>\n",
       "  <tbody>\n",
       "    <tr>\n",
       "      <th>0</th>\n",
       "      <td>navis.TreeNeuron</td>\n",
       "      <td>H17-03-010-11-13-01_656411100_m</td>\n",
       "      <td>102399</td>\n",
       "      <td>1498</td>\n",
       "      <td>None</td>\n",
       "      <td>15</td>\n",
       "      <td>20</td>\n",
       "      <td>1684.614746</td>\n",
       "      <td>[1, 2, 3]</td>\n",
       "      <td>1 dimensionless</td>\n",
       "    </tr>\n",
       "    <tr>\n",
       "      <th>1</th>\n",
       "      <td>navis.TreeNeuron</td>\n",
       "      <td>H17-03-010-11-13-06_651089035_m</td>\n",
       "      <td>102400</td>\n",
       "      <td>10451</td>\n",
       "      <td>None</td>\n",
       "      <td>69</td>\n",
       "      <td>81</td>\n",
       "      <td>13138.289062</td>\n",
       "      <td>[1, 2, 3]</td>\n",
       "      <td>1 dimensionless</td>\n",
       "    </tr>\n",
       "    <tr>\n",
       "      <th>...</th>\n",
       "      <td>...</td>\n",
       "      <td>...</td>\n",
       "      <td>...</td>\n",
       "      <td>...</td>\n",
       "      <td>...</td>\n",
       "      <td>...</td>\n",
       "      <td>...</td>\n",
       "      <td>...</td>\n",
       "      <td>...</td>\n",
       "      <td>...</td>\n",
       "    </tr>\n",
       "    <tr>\n",
       "      <th>492</th>\n",
       "      <td>navis.TreeNeuron</td>\n",
       "      <td>H9-MECP2-T158M-T158M-CREB-17</td>\n",
       "      <td>103393</td>\n",
       "      <td>137</td>\n",
       "      <td>None</td>\n",
       "      <td>14</td>\n",
       "      <td>20</td>\n",
       "      <td>326.003082</td>\n",
       "      <td>[1, 2, 3]</td>\n",
       "      <td>1 dimensionless</td>\n",
       "    </tr>\n",
       "    <tr>\n",
       "      <th>493</th>\n",
       "      <td>navis.TreeNeuron</td>\n",
       "      <td>H9-MECP2-T158M-T158M-CREB-38</td>\n",
       "      <td>103394</td>\n",
       "      <td>172</td>\n",
       "      <td>None</td>\n",
       "      <td>43</td>\n",
       "      <td>52</td>\n",
       "      <td>324.924866</td>\n",
       "      <td>[1, 2, 3]</td>\n",
       "      <td>1 dimensionless</td>\n",
       "    </tr>\n",
       "  </tbody>\n",
       "</table>\n",
       "</div>"
      ],
      "text/plain": [
       "<class 'navis.core.neuronlist.NeuronList'> containing 494 neurons (26.0MiB)\n",
       "                 type                             name      id  n_nodes  \\\n",
       "0    navis.TreeNeuron  H17-03-010-11-13-01_656411100_m  102399     1498   \n",
       "1    navis.TreeNeuron  H17-03-010-11-13-06_651089035_m  102400    10451   \n",
       "..                ...                              ...     ...      ...   \n",
       "492  navis.TreeNeuron     H9-MECP2-T158M-T158M-CREB-17  103393      137   \n",
       "493  navis.TreeNeuron     H9-MECP2-T158M-T158M-CREB-38  103394      172   \n",
       "\n",
       "    n_connectors  n_branches  n_leafs  cable_length       soma  \\\n",
       "0           None          15       20   1684.614746  [1, 2, 3]   \n",
       "1           None          69       81  13138.289062  [1, 2, 3]   \n",
       "..           ...         ...      ...           ...        ...   \n",
       "492         None          14       20    326.003082  [1, 2, 3]   \n",
       "493         None          43       52    324.924866  [1, 2, 3]   \n",
       "\n",
       "               units  \n",
       "0    1 dimensionless  \n",
       "1    1 dimensionless  \n",
       "..               ...  \n",
       "492  1 dimensionless  \n",
       "493  1 dimensionless  "
      ]
     },
     "execution_count": 16,
     "metadata": {},
     "output_type": "execute_result"
    }
   ],
   "source": [
    "neurons = nm.get_neuron(info)\n",
    "neurons"
   ]
  },
  {
   "cell_type": "raw",
   "id": "600985fc",
   "metadata": {
    "raw_mimetype": "text/restructuredtext"
   },
   "source": [
    "As you can see some of these neurons are missing an SWC. That happens occasionally.\n",
    "\n",
    "Let's plot some of these!"
   ]
  },
  {
   "cell_type": "code",
   "execution_count": 23,
   "id": "ad0a5ba9",
   "metadata": {},
   "outputs": [
    {
     "data": {
      "image/png": "[encoded data removed]",
      "text/plain": [
       "<Figure size 1080x360 with 10 Axes>"
      ]
     },
     "metadata": {
      "needs_background": "light"
     },
     "output_type": "display_data"
    }
   ],
   "source": [
    "import matplotlib.pyplot as plt \n",
    "import seaborn as sns\n",
    "\n",
    "fig, axes = plt.subplots(1, 10, figsize=(15, 5))\n",
    "\n",
    "for n, c, ax in zip(neurons, sns.color_palette('muted', len(axes)), axes):\n",
    "    _ = navis.plot2d(n, method='2d', ax=ax, c=c)\n",
    "    ax.set_aspect('equal')\n",
    "    ax.set_axis_off()"
   ]
  },
  {
   "cell_type": "raw",
   "id": "a3f80c61",
   "metadata": {
    "raw_mimetype": "text/restructuredtext"
   },
   "source": [
    "That's all for now! "
   ]
  }
 ],
 "metadata": {
  "celltoolbar": "Raw Cell Format",
  "kernelspec": {
   "display_name": "Python 3 (ipykernel)",
   "language": "python",
   "name": "python3"
  },
  "language_info": {
   "codemirror_mode": {
    "name": "ipython",
    "version": 3
   },
   "file_extension": ".py",
   "mimetype": "text/x-python",
   "name": "python",
   "nbconvert_exporter": "python",
   "pygments_lexer": "ipython3",
   "version": "3.9.9"
  }
 },
 "nbformat": 4,
 "nbformat_minor": 5
}
