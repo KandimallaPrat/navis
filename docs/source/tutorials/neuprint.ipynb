{
 "cells": [
  {
   "cell_type": "raw",
   "metadata": {
    "raw_mimetype": "text/restructuredtext"
   },
   "source": [
    ".. _neuprint_intro:\n",
    "\n",
    "Neuprint\n",
    "--------\n",
    "\n",
    "`Neuprint <https://www.biorxiv.org/content/10.1101/2020.01.16.909465v1>`_ is a service for presenting and analyzing connectomics data. It is used to host the Janelia EM reconstructions from a Drosophila hemibrain at https://neuprint.janelia.org/. \n",
    "\n",
    "`neuprint-python <https://github.com/connectome-neuprint/neuprint-python>`_ is a Python library that lets you query data directly from a neuprint server. You can install it from PyPI::\n",
    "\n",
    "    pip install neuprint-python\n",
    "    \n",
    "``navis.interfaces.neuprint`` wraps ``neuprint-python`` and adds a few functions to fetch and convert data into navis objects."
   ]
  },
  {
   "cell_type": "code",
   "execution_count": 1,
   "metadata": {},
   "outputs": [
    {
     "data": {
      "text/html": [
       "        <script type=\"text/javascript\">\n",
       "        window.PlotlyConfig = {MathJaxConfig: 'local'};\n",
       "        if (window.MathJax) {MathJax.Hub.Config({SVG: {font: \"STIX-Web\"}});}\n",
       "        if (typeof require !== 'undefined') {\n",
       "        require.undef(\"plotly\");\n",
       "        requirejs.config({\n",
       "            paths: {\n",
       "                'plotly': ['https://cdn.plot.ly/plotly-latest.min']\n",
       "            }\n",
       "        });\n",
       "        require(['plotly'], function(Plotly) {\n",
       "            window._Plotly = Plotly;\n",
       "        });\n",
       "        }\n",
       "        </script>\n",
       "        "
      ]
     },
     "metadata": {},
     "output_type": "display_data"
    }
   ],
   "source": [
    "# Import neuprint wrapper by navis\n",
    "import navis.interfaces.neuprint as neu"
   ]
  },
  {
   "cell_type": "raw",
   "metadata": {
    "raw_mimetype": "text/restructuredtext"
   },
   "source": [
    "First set up the connection:\n",
    "You can either pass your API token directly or store as ``NEUPRINT_APPLICATION_CREDENTIALS`` environment variable. We will use the latter option here:"
   ]
  },
  {
   "cell_type": "code",
   "execution_count": 2,
   "metadata": {},
   "outputs": [],
   "source": [
    "client = neu.Client('https://neuprint.janelia.org/')"
   ]
  },
  {
   "cell_type": "raw",
   "metadata": {
    "raw_mimetype": "text/restructuredtext"
   },
   "source": [
    "You can use all of neuprint's functions:"
   ]
  },
  {
   "cell_type": "code",
   "execution_count": 6,
   "metadata": {},
   "outputs": [
    {
     "data": {
      "text/html": [
       "<div>\n",
       "<style scoped>\n",
       "    .dataframe tbody tr th:only-of-type {\n",
       "        vertical-align: middle;\n",
       "    }\n",
       "\n",
       "    .dataframe tbody tr th {\n",
       "        vertical-align: top;\n",
       "    }\n",
       "\n",
       "    .dataframe thead th {\n",
       "        text-align: right;\n",
       "    }\n",
       "</style>\n",
       "<table border=\"1\" class=\"dataframe\">\n",
       "  <thead>\n",
       "    <tr style=\"text-align: right;\">\n",
       "      <th></th>\n",
       "      <th>bodyId</th>\n",
       "      <th>instance</th>\n",
       "      <th>type</th>\n",
       "      <th>cellBodyFiber</th>\n",
       "      <th>pre</th>\n",
       "      <th>post</th>\n",
       "      <th>size</th>\n",
       "      <th>status</th>\n",
       "      <th>cropped</th>\n",
       "      <th>statusLabel</th>\n",
       "      <th>somaRadius</th>\n",
       "      <th>somaLocation</th>\n",
       "      <th>roiInfo</th>\n",
       "      <th>inputRois</th>\n",
       "      <th>outputRois</th>\n",
       "    </tr>\n",
       "  </thead>\n",
       "  <tbody>\n",
       "    <tr>\n",
       "      <th>0</th>\n",
       "      <td>300972942</td>\n",
       "      <td>MBON14(a3)_R</td>\n",
       "      <td>MBON14</td>\n",
       "      <td>NaN</td>\n",
       "      <td>543</td>\n",
       "      <td>13634</td>\n",
       "      <td>1563154937</td>\n",
       "      <td>Traced</td>\n",
       "      <td>False</td>\n",
       "      <td>Roughly traced</td>\n",
       "      <td>NaN</td>\n",
       "      <td>None</td>\n",
       "      <td>{'MB(R)': {'pre': 17, 'post': 13295}, 'aL(R)':...</td>\n",
       "      <td>[MB(+ACA)(R), MB(R), SIP(R), SLP(R), SMP(R), S...</td>\n",
       "      <td>[MB(+ACA)(R), MB(R), SIP(R), SLP(R), SMP(R), S...</td>\n",
       "    </tr>\n",
       "    <tr>\n",
       "      <th>1</th>\n",
       "      <td>394225044</td>\n",
       "      <td>MBON14(a3)_L</td>\n",
       "      <td>MBON14</td>\n",
       "      <td>NaN</td>\n",
       "      <td>175</td>\n",
       "      <td>4901</td>\n",
       "      <td>351913412</td>\n",
       "      <td>Traced</td>\n",
       "      <td>False</td>\n",
       "      <td>Roughly traced</td>\n",
       "      <td>NaN</td>\n",
       "      <td>None</td>\n",
       "      <td>{'MB(L)': {'pre': 173, 'post': 4872}, 'aL(L)':...</td>\n",
       "      <td>[MB(L), SIP(L), SNP(L), aL(L)]</td>\n",
       "      <td>[MB(L), SIP(L), SNP(L), aL(L)]</td>\n",
       "    </tr>\n",
       "    <tr>\n",
       "      <th>2</th>\n",
       "      <td>422725634</td>\n",
       "      <td>MBON06(B1&gt;a)(AVM07)_L</td>\n",
       "      <td>MBON06</td>\n",
       "      <td>NaN</td>\n",
       "      <td>1356</td>\n",
       "      <td>20978</td>\n",
       "      <td>3118269136</td>\n",
       "      <td>Traced</td>\n",
       "      <td>False</td>\n",
       "      <td>Roughly traced</td>\n",
       "      <td>NaN</td>\n",
       "      <td>None</td>\n",
       "      <td>{'MB(R)': {'pre': 777, 'post': 20368}, 'aL(R)'...</td>\n",
       "      <td>[CRE(-ROB,-RUB)(R), CRE(R), INP, MB(+ACA)(R), ...</td>\n",
       "      <td>[CRE(-ROB,-RUB)(R), CRE(R), INP, MB(+ACA)(R), ...</td>\n",
       "    </tr>\n",
       "  </tbody>\n",
       "</table>\n",
       "</div>"
      ],
      "text/plain": [
       "      bodyId               instance    type cellBodyFiber   pre   post  \\\n",
       "0  300972942           MBON14(a3)_R  MBON14           NaN   543  13634   \n",
       "1  394225044           MBON14(a3)_L  MBON14           NaN   175   4901   \n",
       "2  422725634  MBON06(B1>a)(AVM07)_L  MBON06           NaN  1356  20978   \n",
       "\n",
       "         size  status  cropped     statusLabel  somaRadius somaLocation  \\\n",
       "0  1563154937  Traced    False  Roughly traced         NaN         None   \n",
       "1   351913412  Traced    False  Roughly traced         NaN         None   \n",
       "2  3118269136  Traced    False  Roughly traced         NaN         None   \n",
       "\n",
       "                                             roiInfo  \\\n",
       "0  {'MB(R)': {'pre': 17, 'post': 13295}, 'aL(R)':...   \n",
       "1  {'MB(L)': {'pre': 173, 'post': 4872}, 'aL(L)':...   \n",
       "2  {'MB(R)': {'pre': 777, 'post': 20368}, 'aL(R)'...   \n",
       "\n",
       "                                           inputRois  \\\n",
       "0  [MB(+ACA)(R), MB(R), SIP(R), SLP(R), SMP(R), S...   \n",
       "1                     [MB(L), SIP(L), SNP(L), aL(L)]   \n",
       "2  [CRE(-ROB,-RUB)(R), CRE(R), INP, MB(+ACA)(R), ...   \n",
       "\n",
       "                                          outputRois  \n",
       "0  [MB(+ACA)(R), MB(R), SIP(R), SLP(R), SMP(R), S...  \n",
       "1                     [MB(L), SIP(L), SNP(L), aL(L)]  \n",
       "2  [CRE(-ROB,-RUB)(R), CRE(R), INP, MB(+ACA)(R), ...  "
      ]
     },
     "execution_count": 6,
     "metadata": {},
     "output_type": "execute_result"
    }
   ],
   "source": [
    "mbons, roi_info = neu.fetch_neurons(neu.SegmentCriteria(instance='.*MBON.*', regex=True))\n",
    "mbons.head(3)"
   ]
  },
  {
   "cell_type": "raw",
   "metadata": {
    "raw_mimetype": "text/restructuredtext"
   },
   "source": [
    "Navis has added two functions to ``neu``:\n",
    "  - ``fetch_roi``: returns a :class:`navis.Volume` from a ROI\n",
    "  - ``fetch_skeleton``: returns fully fledged :class:`navis.TreeNeuron` - nodes, synapses, soma and all"
   ]
  },
  {
   "cell_type": "code",
   "execution_count": 12,
   "metadata": {},
   "outputs": [
    {
     "data": {
      "text/plain": [
       "<class 'navis.core.volumes.Volume'> \"MB(R)\" at 0x1259bfa20: 115835 vertices, 231712 faces"
      ]
     },
     "execution_count": 12,
     "metadata": {},
     "output_type": "execute_result"
    }
   ],
   "source": [
    "mb = neu.fetch_roi('MB(R)')\n",
    "mb"
   ]
  },
  {
   "cell_type": "code",
   "execution_count": 9,
   "metadata": {},
   "outputs": [
    {
     "name": "stderr",
     "output_type": "stream",
     "text": [
      "                                                         \r"
     ]
    },
    {
     "data": {
      "text/html": [
       "<div>\n",
       "<style scoped>\n",
       "    .dataframe tbody tr th:only-of-type {\n",
       "        vertical-align: middle;\n",
       "    }\n",
       "\n",
       "    .dataframe tbody tr th {\n",
       "        vertical-align: top;\n",
       "    }\n",
       "\n",
       "    .dataframe thead th {\n",
       "        text-align: right;\n",
       "    }\n",
       "</style>\n",
       "<table border=\"1\" class=\"dataframe\">\n",
       "  <thead>\n",
       "    <tr style=\"text-align: right;\">\n",
       "      <th></th>\n",
       "      <th>n_branches</th>\n",
       "      <th>n_nodes</th>\n",
       "      <th>id</th>\n",
       "      <th>n_connectors</th>\n",
       "      <th>n_leafs</th>\n",
       "      <th>name</th>\n",
       "      <th>type</th>\n",
       "      <th>soma</th>\n",
       "      <th>cable_length</th>\n",
       "    </tr>\n",
       "  </thead>\n",
       "  <tbody>\n",
       "    <tr>\n",
       "      <th>0</th>\n",
       "      <td>2297</td>\n",
       "      <td>22834</td>\n",
       "      <td>300972942</td>\n",
       "      <td>62609</td>\n",
       "      <td>2369</td>\n",
       "      <td>None</td>\n",
       "      <td>TreeNeuron</td>\n",
       "      <td>NaN</td>\n",
       "      <td>7.582317e+05</td>\n",
       "    </tr>\n",
       "    <tr>\n",
       "      <th>1</th>\n",
       "      <td>1133</td>\n",
       "      <td>11863</td>\n",
       "      <td>394225044</td>\n",
       "      <td>11234</td>\n",
       "      <td>1155</td>\n",
       "      <td>None</td>\n",
       "      <td>TreeNeuron</td>\n",
       "      <td>NaN</td>\n",
       "      <td>2.960400e+05</td>\n",
       "    </tr>\n",
       "    <tr>\n",
       "      <th>2</th>\n",
       "      <td>4111</td>\n",
       "      <td>34795</td>\n",
       "      <td>422725634</td>\n",
       "      <td>110299</td>\n",
       "      <td>4213</td>\n",
       "      <td>None</td>\n",
       "      <td>TreeNeuron</td>\n",
       "      <td>NaN</td>\n",
       "      <td>1.397182e+06</td>\n",
       "    </tr>\n",
       "    <tr>\n",
       "      <th>3</th>\n",
       "      <td>1200</td>\n",
       "      <td>14172</td>\n",
       "      <td>423382015</td>\n",
       "      <td>32419</td>\n",
       "      <td>1226</td>\n",
       "      <td>None</td>\n",
       "      <td>TreeNeuron</td>\n",
       "      <td>2354.0</td>\n",
       "      <td>4.493329e+05</td>\n",
       "    </tr>\n",
       "    <tr>\n",
       "      <th>4</th>\n",
       "      <td>543</td>\n",
       "      <td>6932</td>\n",
       "      <td>423774471</td>\n",
       "      <td>10760</td>\n",
       "      <td>557</td>\n",
       "      <td>None</td>\n",
       "      <td>TreeNeuron</td>\n",
       "      <td>1777.0</td>\n",
       "      <td>2.461311e+05</td>\n",
       "    </tr>\n",
       "  </tbody>\n",
       "</table>\n",
       "</div>"
      ],
      "text/plain": [
       "   n_branches  n_nodes         id  n_connectors  n_leafs  name        type  \\\n",
       "0        2297    22834  300972942         62609     2369  None  TreeNeuron   \n",
       "1        1133    11863  394225044         11234     1155  None  TreeNeuron   \n",
       "2        4111    34795  422725634        110299     4213  None  TreeNeuron   \n",
       "3        1200    14172  423382015         32419     1226  None  TreeNeuron   \n",
       "4         543     6932  423774471         10760      557  None  TreeNeuron   \n",
       "\n",
       "     soma  cable_length  \n",
       "0     NaN  7.582317e+05  \n",
       "1     NaN  2.960400e+05  \n",
       "2     NaN  1.397182e+06  \n",
       "3  2354.0  4.493329e+05  \n",
       "4  1777.0  2.461311e+05  "
      ]
     },
     "execution_count": 9,
     "metadata": {},
     "output_type": "execute_result"
    }
   ],
   "source": [
    "mbon_skeletons = neu.fetch_skeletons(neu.SegmentCriteria(instance='.*MBON.*', regex=True))\n",
    "mbon_skeletons.head()"
   ]
  },
  {
   "cell_type": "code",
   "execution_count": 18,
   "metadata": {},
   "outputs": [],
   "source": [
    "import navis\n",
    "\n",
    "# Make a 3D plot\n",
    "fig = navis.plot3d([mbon_skeletons[0], mb])"
   ]
  },
  {
   "cell_type": "raw",
   "metadata": {
    "raw_mimetype": "text/restructuredtext"
   },
   "source": [
    ".. raw:: html\n",
    "   :file: figures/3d_neuprint.html\n",
    "\n",
    "|\n",
    "|\n",
    "|\n",
    "|"
   ]
  },
  {
   "cell_type": "code",
   "execution_count": 21,
   "metadata": {},
   "outputs": [
    {
     "data": {
      "image/png": "[encoded data removed]",
      "text/plain": [
       "<Figure size 432x432 with 1 Axes>"
      ]
     },
     "metadata": {
      "needs_background": "light"
     },
     "output_type": "display_data"
    }
   ],
   "source": [
    "# Make a 2d plot\n",
    "fig, ax = navis.plot2d([mbon_skeletons[0], mb], method='3d', connectors=True)\n",
    "\n",
    "# Rotate to frontal view\n",
    "ax.elev = -90\n",
    "ax.azim = -90\n",
    "ax.dist = 5"
   ]
  },
  {
   "cell_type": "raw",
   "metadata": {
    "raw_mimetype": "text/restructuredtext"
   },
   "source": [
    "All navis functions for analysis & visualization should work on these neurons. If not, please open an issue on Github."
   ]
  }
 ],
 "metadata": {
  "celltoolbar": "Raw Cell Format",
  "kernelspec": {
   "display_name": "Python 3",
   "language": "python",
   "name": "python3"
  },
  "language_info": {
   "codemirror_mode": {
    "name": "ipython",
    "version": 3
   },
   "file_extension": ".py",
   "mimetype": "text/x-python",
   "name": "python",
   "nbconvert_exporter": "python",
   "pygments_lexer": "ipython3",
   "version": "3.6.8"
  }
 },
 "nbformat": 4,
 "nbformat_minor": 2
}
