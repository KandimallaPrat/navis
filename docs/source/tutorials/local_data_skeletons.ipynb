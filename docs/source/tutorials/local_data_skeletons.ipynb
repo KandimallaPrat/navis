{
 "cells": [
  {
   "cell_type": "raw",
   "id": "70a60d6b-082e-4728-907a-af8a3e039d16",
   "metadata": {
    "raw_mimetype": "text/restructuredtext",
    "tags": []
   },
   "source": [
    ".. _local_data_skels_tut:\n",
    "\n",
    "Skeletons\n",
    "---------\n",
    "\n",
    "``navis`` lets you import neurons from a variety of local and remote sources. In this tutorial you will learn how to load skeletons from local data and - failing that - construct them from scratch. For loading remote data (e.g. the MICrONS, neuromorpho, Virtual Fly Brain or Janelia hemibrain datasets), ``navis`` has dedicated interfaces. See the :ref:`example gallery <example_gallery>` for tutorials on these.\n",
    "\n",
    "\n",
    "Skeletons in ``navis`` are represented by the :class:`navis.TreeNeuron` class. You can either construct these manually (see bottom of this page) or use one of the built-in functions to them from one of the various file formats:\n",
    "\n",
    "SWC files\n",
    "=========\n",
    "\n",
    "SWC is a common format for storing neuron skeletons. Thus ``navis`` provides functions to both read and write SWC files. To demo these, we will be using supplemental data from Bates, Schlegel et al. (Current Biology, 2020). If you want to follow along, please download Supplemental Data S1 (`link <https://doi.org/10.1016/j.cub.2020.06.042>`_). If you do, make sure to adjust the filepath accordingly."
   ]
  },
  {
   "cell_type": "code",
   "execution_count": null,
   "id": "4e030094-c71d-4292-b2c6-ec06c8677997",
   "metadata": {},
   "outputs": [],
   "source": [
    "import navis"
   ]
  },
  {
   "cell_type": "raw",
   "id": "4839d6af-648a-47e0-80d9-7395ae812282",
   "metadata": {
    "raw_mimetype": "text/restructuredtext",
    "tags": []
   },
   "source": [
    "I extracted the archive with the supplemental data inside my downloads folder. It contains a bunch of CSV files with meta data but the important file for us is the ``skeletons_swc.zip``. Now you could extract that zip archive too but ``navis`` can actually read directly from (and write to) zip files!"
   ]
  },
  {
   "cell_type": "code",
   "execution_count": 4,
   "id": "e895a85e-5626-43d1-8a3b-1eb899193f29",
   "metadata": {},
   "outputs": [
    {
     "data": {
      "application/vnd.jupyter.widget-view+json": {
       "model_id": "",
       "version_major": 2,
       "version_minor": 0
      },
      "text/plain": [
       "Importing:   0%|          | 0/480 [00:00<?, ?it/s]"
      ]
     },
     "metadata": {},
     "output_type": "display_data"
    },
    {
     "data": {
      "text/html": [
       "&lt;class 'navis.core.neuronlist.NeuronList'&gt; containing 480 neurons (101.1MiB)<div>\n",
       "<style scoped>\n",
       "    .dataframe tbody tr th:only-of-type {\n",
       "        vertical-align: middle;\n",
       "    }\n",
       "\n",
       "    .dataframe tbody tr th {\n",
       "        vertical-align: top;\n",
       "    }\n",
       "\n",
       "    .dataframe thead th {\n",
       "        text-align: right;\n",
       "    }\n",
       "</style>\n",
       "<table border=\"1\" class=\"dataframe\">\n",
       "  <thead>\n",
       "    <tr style=\"text-align: right;\">\n",
       "      <th></th>\n",
       "      <th>type</th>\n",
       "      <th>name</th>\n",
       "      <th>n_nodes</th>\n",
       "      <th>n_connectors</th>\n",
       "      <th>n_branches</th>\n",
       "      <th>n_leafs</th>\n",
       "      <th>cable_length</th>\n",
       "      <th>soma</th>\n",
       "      <th>units</th>\n",
       "      <th>created_at</th>\n",
       "      <th>origin</th>\n",
       "    </tr>\n",
       "  </thead>\n",
       "  <tbody>\n",
       "    <tr>\n",
       "      <th>0</th>\n",
       "      <td>navis.TreeNeuron</td>\n",
       "      <td>1313071</td>\n",
       "      <td>11634</td>\n",
       "      <td>None</td>\n",
       "      <td>600</td>\n",
       "      <td>611</td>\n",
       "      <td>2899338.75</td>\n",
       "      <td>None</td>\n",
       "      <td>1 dimensionless</td>\n",
       "      <td>2022-05-09 08:44:26.013419</td>\n",
       "      <td>/Users/philipps/Downloads/mmc2/skeletons_swc.zip</td>\n",
       "    </tr>\n",
       "    <tr>\n",
       "      <th>1</th>\n",
       "      <td>navis.TreeNeuron</td>\n",
       "      <td>5002989</td>\n",
       "      <td>1670</td>\n",
       "      <td>None</td>\n",
       "      <td>24</td>\n",
       "      <td>25</td>\n",
       "      <td>628291.75</td>\n",
       "      <td>None</td>\n",
       "      <td>1 dimensionless</td>\n",
       "      <td>2022-05-09 08:44:26.009716</td>\n",
       "      <td>/Users/philipps/Downloads/mmc2/skeletons_swc.zip</td>\n",
       "    </tr>\n",
       "    <tr>\n",
       "      <th>...</th>\n",
       "      <td>...</td>\n",
       "      <td>...</td>\n",
       "      <td>...</td>\n",
       "      <td>...</td>\n",
       "      <td>...</td>\n",
       "      <td>...</td>\n",
       "      <td>...</td>\n",
       "      <td>...</td>\n",
       "      <td>...</td>\n",
       "      <td>...</td>\n",
       "      <td>...</td>\n",
       "    </tr>\n",
       "    <tr>\n",
       "      <th>478</th>\n",
       "      <td>navis.TreeNeuron</td>\n",
       "      <td>11519759</td>\n",
       "      <td>14782</td>\n",
       "      <td>None</td>\n",
       "      <td>663</td>\n",
       "      <td>673</td>\n",
       "      <td>2714858.25</td>\n",
       "      <td>None</td>\n",
       "      <td>1 dimensionless</td>\n",
       "      <td>2022-05-09 08:44:29.017471</td>\n",
       "      <td>/Users/philipps/Downloads/mmc2/skeletons_swc.zip</td>\n",
       "    </tr>\n",
       "    <tr>\n",
       "      <th>479</th>\n",
       "      <td>navis.TreeNeuron</td>\n",
       "      <td>11543484</td>\n",
       "      <td>6256</td>\n",
       "      <td>None</td>\n",
       "      <td>367</td>\n",
       "      <td>371</td>\n",
       "      <td>1229948.00</td>\n",
       "      <td>None</td>\n",
       "      <td>1 dimensionless</td>\n",
       "      <td>2022-05-09 08:44:29.010490</td>\n",
       "      <td>/Users/philipps/Downloads/mmc2/skeletons_swc.zip</td>\n",
       "    </tr>\n",
       "  </tbody>\n",
       "</table>\n",
       "</div>"
      ],
      "text/plain": [
       "<class 'navis.core.neuronlist.NeuronList'> containing 480 neurons (101.1MiB)\n",
       "                 type      name  n_nodes n_connectors  n_branches  n_leafs  \\\n",
       "0    navis.TreeNeuron   1313071    11634         None         600      611   \n",
       "1    navis.TreeNeuron   5002989     1670         None          24       25   \n",
       "..                ...       ...      ...          ...         ...      ...   \n",
       "478  navis.TreeNeuron  11519759    14782         None         663      673   \n",
       "479  navis.TreeNeuron  11543484     6256         None         367      371   \n",
       "\n",
       "     cable_length  soma            units                  created_at  \\\n",
       "0      2899338.75  None  1 dimensionless  2022-05-09 08:44:26.013419   \n",
       "1       628291.75  None  1 dimensionless  2022-05-09 08:44:26.009716   \n",
       "..            ...   ...              ...                         ...   \n",
       "478    2714858.25  None  1 dimensionless  2022-05-09 08:44:29.017471   \n",
       "479    1229948.00  None  1 dimensionless  2022-05-09 08:44:29.010490   \n",
       "\n",
       "                                               origin  \n",
       "0    /Users/philipps/Downloads/mmc2/skeletons_swc.zip  \n",
       "1    /Users/philipps/Downloads/mmc2/skeletons_swc.zip  \n",
       "..                                                ...  \n",
       "478  /Users/philipps/Downloads/mmc2/skeletons_swc.zip  \n",
       "479  /Users/philipps/Downloads/mmc2/skeletons_swc.zip  "
      ]
     },
     "execution_count": 4,
     "metadata": {},
     "output_type": "execute_result"
    }
   ],
   "source": [
    "skeletons = navis.read_swc('~/Downloads/mmc2/skeletons_swc.zip', include_subdirs=True)\n",
    "skeletons"
   ]
  },
  {
   "cell_type": "raw",
   "id": "ad60af3b-697a-4198-9b95-1926933f4b90",
   "metadata": {
    "raw_mimetype": "text/restructuredtext",
    "tags": []
   },
   "source": [
    "Let's say you are looking at a huge collection of SWC files and you only want to sample a few of them:"
   ]
  },
  {
   "cell_type": "code",
   "execution_count": 5,
   "id": "c4d855de-d1d2-482e-8ac3-0923f1ab78a3",
   "metadata": {},
   "outputs": [
    {
     "data": {
      "application/vnd.jupyter.widget-view+json": {
       "model_id": "",
       "version_major": 2,
       "version_minor": 0
      },
      "text/plain": [
       "Importing:   0%|          | 0/10 [00:00<?, ?it/s]"
      ]
     },
     "metadata": {},
     "output_type": "display_data"
    },
    {
     "data": {
      "text/html": [
       "&lt;class 'navis.core.neuronlist.NeuronList'&gt; containing 10 neurons (1.1MiB)<div>\n",
       "<style scoped>\n",
       "    .dataframe tbody tr th:only-of-type {\n",
       "        vertical-align: middle;\n",
       "    }\n",
       "\n",
       "    .dataframe tbody tr th {\n",
       "        vertical-align: top;\n",
       "    }\n",
       "\n",
       "    .dataframe thead th {\n",
       "        text-align: right;\n",
       "    }\n",
       "</style>\n",
       "<table border=\"1\" class=\"dataframe\">\n",
       "  <thead>\n",
       "    <tr style=\"text-align: right;\">\n",
       "      <th></th>\n",
       "      <th>type</th>\n",
       "      <th>name</th>\n",
       "      <th>n_nodes</th>\n",
       "      <th>n_connectors</th>\n",
       "      <th>n_branches</th>\n",
       "      <th>n_leafs</th>\n",
       "      <th>cable_length</th>\n",
       "      <th>soma</th>\n",
       "      <th>units</th>\n",
       "      <th>created_at</th>\n",
       "      <th>origin</th>\n",
       "    </tr>\n",
       "  </thead>\n",
       "  <tbody>\n",
       "    <tr>\n",
       "      <th>0</th>\n",
       "      <td>navis.TreeNeuron</td>\n",
       "      <td>1313071</td>\n",
       "      <td>11634</td>\n",
       "      <td>None</td>\n",
       "      <td>600</td>\n",
       "      <td>611</td>\n",
       "      <td>2.899339e+06</td>\n",
       "      <td>None</td>\n",
       "      <td>1 dimensionless</td>\n",
       "      <td>2022-05-09 08:44:44.072213</td>\n",
       "      <td>/Users/philipps/Downloads/mmc2/skeletons_swc.zip</td>\n",
       "    </tr>\n",
       "    <tr>\n",
       "      <th>1</th>\n",
       "      <td>navis.TreeNeuron</td>\n",
       "      <td>5002989</td>\n",
       "      <td>1670</td>\n",
       "      <td>None</td>\n",
       "      <td>24</td>\n",
       "      <td>25</td>\n",
       "      <td>6.282918e+05</td>\n",
       "      <td>None</td>\n",
       "      <td>1 dimensionless</td>\n",
       "      <td>2022-05-09 08:44:44.099230</td>\n",
       "      <td>/Users/philipps/Downloads/mmc2/skeletons_swc.zip</td>\n",
       "    </tr>\n",
       "    <tr>\n",
       "      <th>...</th>\n",
       "      <td>...</td>\n",
       "      <td>...</td>\n",
       "      <td>...</td>\n",
       "      <td>...</td>\n",
       "      <td>...</td>\n",
       "      <td>...</td>\n",
       "      <td>...</td>\n",
       "      <td>...</td>\n",
       "      <td>...</td>\n",
       "      <td>...</td>\n",
       "      <td>...</td>\n",
       "    </tr>\n",
       "    <tr>\n",
       "      <th>8</th>\n",
       "      <td>navis.TreeNeuron</td>\n",
       "      <td>6082926</td>\n",
       "      <td>3112</td>\n",
       "      <td>None</td>\n",
       "      <td>164</td>\n",
       "      <td>171</td>\n",
       "      <td>8.933154e+05</td>\n",
       "      <td>None</td>\n",
       "      <td>1 dimensionless</td>\n",
       "      <td>2022-05-09 08:44:44.289857</td>\n",
       "      <td>/Users/philipps/Downloads/mmc2/skeletons_swc.zip</td>\n",
       "    </tr>\n",
       "    <tr>\n",
       "      <th>9</th>\n",
       "      <td>navis.TreeNeuron</td>\n",
       "      <td>2122447</td>\n",
       "      <td>2694</td>\n",
       "      <td>None</td>\n",
       "      <td>112</td>\n",
       "      <td>115</td>\n",
       "      <td>8.098385e+05</td>\n",
       "      <td>None</td>\n",
       "      <td>1 dimensionless</td>\n",
       "      <td>2022-05-09 08:44:44.312675</td>\n",
       "      <td>/Users/philipps/Downloads/mmc2/skeletons_swc.zip</td>\n",
       "    </tr>\n",
       "  </tbody>\n",
       "</table>\n",
       "</div>"
      ],
      "text/plain": [
       "<class 'navis.core.neuronlist.NeuronList'> containing 10 neurons (1.1MiB)\n",
       "                type     name  n_nodes n_connectors  n_branches  n_leafs  \\\n",
       "0   navis.TreeNeuron  1313071    11634         None         600      611   \n",
       "1   navis.TreeNeuron  5002989     1670         None          24       25   \n",
       "..               ...      ...      ...          ...         ...      ...   \n",
       "8   navis.TreeNeuron  6082926     3112         None         164      171   \n",
       "9   navis.TreeNeuron  2122447     2694         None         112      115   \n",
       "\n",
       "    cable_length  soma            units                  created_at  \\\n",
       "0   2.899339e+06  None  1 dimensionless  2022-05-09 08:44:44.072213   \n",
       "1   6.282918e+05  None  1 dimensionless  2022-05-09 08:44:44.099230   \n",
       "..           ...   ...              ...                         ...   \n",
       "8   8.933154e+05  None  1 dimensionless  2022-05-09 08:44:44.289857   \n",
       "9   8.098385e+05  None  1 dimensionless  2022-05-09 08:44:44.312675   \n",
       "\n",
       "                                              origin  \n",
       "0   /Users/philipps/Downloads/mmc2/skeletons_swc.zip  \n",
       "1   /Users/philipps/Downloads/mmc2/skeletons_swc.zip  \n",
       "..                                               ...  \n",
       "8   /Users/philipps/Downloads/mmc2/skeletons_swc.zip  \n",
       "9   /Users/philipps/Downloads/mmc2/skeletons_swc.zip  "
      ]
     },
     "execution_count": 5,
     "metadata": {},
     "output_type": "execute_result"
    }
   ],
   "source": [
    "# Load only the first 10 skeletons\n",
    "sample = navis.read_swc('~/Downloads/mmc2/skeletons_swc.zip', include_subdirs=True, limit=10)\n",
    "sample"
   ]
  },
  {
   "cell_type": "raw",
   "id": "ded60808-87cb-4e2b-8adc-a3c81147e2c7",
   "metadata": {
    "raw_mimetype": "text/restructuredtext",
    "tags": []
   },
   "source": [
    "We can also point :func:`navis.read_swc` at single files instead of folders or zip archives:"
   ]
  },
  {
   "cell_type": "code",
   "execution_count": 2,
   "id": "5577df6b-6388-417e-9712-b58b1ee37b70",
   "metadata": {},
   "outputs": [
    {
     "data": {
      "text/html": [
       "<div>\n",
       "<style scoped>\n",
       "    .dataframe tbody tr th:only-of-type {\n",
       "        vertical-align: middle;\n",
       "    }\n",
       "\n",
       "    .dataframe tbody tr th {\n",
       "        vertical-align: top;\n",
       "    }\n",
       "\n",
       "    .dataframe thead th {\n",
       "        text-align: right;\n",
       "    }\n",
       "</style>\n",
       "<table border=\"1\" class=\"dataframe\">\n",
       "  <thead>\n",
       "    <tr style=\"text-align: right;\">\n",
       "      <th></th>\n",
       "      <th></th>\n",
       "    </tr>\n",
       "  </thead>\n",
       "  <tbody>\n",
       "    <tr>\n",
       "      <th>type</th>\n",
       "      <td>navis.TreeNeuron</td>\n",
       "    </tr>\n",
       "    <tr>\n",
       "      <th>name</th>\n",
       "      <td>11519759</td>\n",
       "    </tr>\n",
       "    <tr>\n",
       "      <th>n_nodes</th>\n",
       "      <td>14782</td>\n",
       "    </tr>\n",
       "    <tr>\n",
       "      <th>n_connectors</th>\n",
       "      <td>None</td>\n",
       "    </tr>\n",
       "    <tr>\n",
       "      <th>n_branches</th>\n",
       "      <td>663</td>\n",
       "    </tr>\n",
       "    <tr>\n",
       "      <th>n_leafs</th>\n",
       "      <td>673</td>\n",
       "    </tr>\n",
       "    <tr>\n",
       "      <th>cable_length</th>\n",
       "      <td>2714858.25</td>\n",
       "    </tr>\n",
       "    <tr>\n",
       "      <th>soma</th>\n",
       "      <td>None</td>\n",
       "    </tr>\n",
       "    <tr>\n",
       "      <th>units</th>\n",
       "      <td>1 dimensionless</td>\n",
       "    </tr>\n",
       "    <tr>\n",
       "      <th>created_at</th>\n",
       "      <td>2022-04-14 22:01:20.455672</td>\n",
       "    </tr>\n",
       "    <tr>\n",
       "      <th>origin</th>\n",
       "      <td>/Users/philipps/Downloads/mmc2/swc/CENT/115197...</td>\n",
       "    </tr>\n",
       "  </tbody>\n",
       "</table>\n",
       "</div>"
      ],
      "text/plain": [
       "type                                             navis.TreeNeuron\n",
       "name                                                     11519759\n",
       "n_nodes                                                     14782\n",
       "n_connectors                                                 None\n",
       "n_branches                                                    663\n",
       "n_leafs                                                       673\n",
       "cable_length                                           2714858.25\n",
       "soma                                                         None\n",
       "units                                             1 dimensionless\n",
       "created_at                             2022-04-14 22:01:20.455672\n",
       "origin          /Users/philipps/Downloads/mmc2/swc/CENT/115197...\n",
       "dtype: object"
      ]
     },
     "execution_count": 2,
     "metadata": {},
     "output_type": "execute_result"
    }
   ],
   "source": [
    "# For this I extraced the skeletons_swc.zip archive\n",
    "s = navis.read_swc('~/Downloads/mmc2/swc/CENT/11519759.swc')\n",
    "s"
   ]
  },
  {
   "cell_type": "raw",
   "id": "2289f642-4c1d-42ac-9f2d-4e896b346f78",
   "metadata": {
    "raw_mimetype": "text/restructuredtext",
    "tags": []
   },
   "source": [
    "You can even use URLs directly:"
   ]
  },
  {
   "cell_type": "code",
   "execution_count": null,
   "id": "044bc687-56c0-4f8d-b090-71b7b4a21e30",
   "metadata": {},
   "outputs": [],
   "source": [
    "s = navis.read_swc('http://neuromorpho.org/dableFiles/jefferis/CNG%20version/AV4c1_140213c1.CNG.swc')"
   ]
  },
  {
   "cell_type": "raw",
   "id": "4d2e775b-28a0-4585-a6ec-a01a13666ecf",
   "metadata": {
    "raw_mimetype": "text/restructuredtext",
    "tags": []
   },
   "source": [
    "Now let's say you have skeletons and you want to save them to disk. Easy!"
   ]
  },
  {
   "cell_type": "code",
   "execution_count": 15,
   "id": "2cba5198-c3c4-41a6-8b29-3befbe828714",
   "metadata": {},
   "outputs": [],
   "source": [
    "# Write a single neuron \n",
    "navis.write_swc(s, '~/Downloads/mmc2/my_neuron.swc')"
   ]
  },
  {
   "cell_type": "code",
   "execution_count": 21,
   "id": "a760017e-3896-4861-8992-bd90a235f368",
   "metadata": {},
   "outputs": [
    {
     "data": {
      "application/vnd.jupyter.widget-view+json": {
       "model_id": "",
       "version_major": 2,
       "version_minor": 0
      },
      "text/plain": [
       "Writing:   0%|          | 0/10 [00:00<?, ?it/s]"
      ]
     },
     "metadata": {},
     "output_type": "display_data"
    }
   ],
   "source": [
    "# Write a whole list of skeletons to a folder and use the neurons' `name` property as filename\n",
    "navis.write_swc(sample, '~/Downloads/mmc2/{neuron.name}.swc')"
   ]
  },
  {
   "cell_type": "code",
   "execution_count": 4,
   "id": "cfb00192-bc05-44b5-b1f0-81f3f3535b2c",
   "metadata": {},
   "outputs": [
    {
     "data": {
      "application/vnd.jupyter.widget-view+json": {
       "model_id": "",
       "version_major": 2,
       "version_minor": 0
      },
      "text/plain": [
       "Writing:   0%|          | 0/10 [00:00<?, ?it/s]"
      ]
     },
     "metadata": {},
     "output_type": "display_data"
    }
   ],
   "source": [
    "# Write directly to a zip file \n",
    "navis.write_swc(sample, '~/Downloads/mmc2/skeletons.zip')"
   ]
  },
  {
   "cell_type": "code",
   "execution_count": 5,
   "id": "0cab14ca-7555-411d-b125-55f6f7dc7bb3",
   "metadata": {},
   "outputs": [
    {
     "data": {
      "application/vnd.jupyter.widget-view+json": {
       "model_id": "",
       "version_major": 2,
       "version_minor": 0
      },
      "text/plain": [
       "Writing:   0%|          | 0/10 [00:00<?, ?it/s]"
      ]
     },
     "metadata": {},
     "output_type": "display_data"
    }
   ],
   "source": [
    "# Write directly to a zip file and use the neuron name as filename\n",
    "navis.write_swc(sample, '~/Downloads/mmc2/{neuron.name}.swc@skeletons.zip')"
   ]
  },
  {
   "cell_type": "raw",
   "id": "c05b2e80-a8d0-4a74-baaa-89a8009fc223",
   "metadata": {
    "raw_mimetype": "text/restructuredtext",
    "tags": []
   },
   "source": [
    "See :func:`navis.write_swc` for further details! \n",
    "\n",
    "NMX files\n",
    "=========\n",
    "\n",
    "NMX is a xml-based format used e.g. by pyKNOSSOS to store skeletons (+ meta data). ``navis`` supports reading (but not writing) this format. If you want to follow along download `this dataset <https://doi.org/10.5281/zenodo.58985>`_ by Wanner et al. (2016). Same procedure as with the SWCs: I extracted the archive to my downloads folder. "
   ]
  },
  {
   "cell_type": "code",
   "execution_count": 2,
   "id": "19f4031c-6b7a-4b07-a103-90d9f7dc11cd",
   "metadata": {},
   "outputs": [
    {
     "data": {
      "text/html": [
       "<div>\n",
       "<style scoped>\n",
       "    .dataframe tbody tr th:only-of-type {\n",
       "        vertical-align: middle;\n",
       "    }\n",
       "\n",
       "    .dataframe tbody tr th {\n",
       "        vertical-align: top;\n",
       "    }\n",
       "\n",
       "    .dataframe thead th {\n",
       "        text-align: right;\n",
       "    }\n",
       "</style>\n",
       "<table border=\"1\" class=\"dataframe\">\n",
       "  <thead>\n",
       "    <tr style=\"text-align: right;\">\n",
       "      <th></th>\n",
       "      <th></th>\n",
       "    </tr>\n",
       "  </thead>\n",
       "  <tbody>\n",
       "    <tr>\n",
       "      <th>type</th>\n",
       "      <td>navis.TreeNeuron</td>\n",
       "    </tr>\n",
       "    <tr>\n",
       "      <th>name</th>\n",
       "      <td>NML</td>\n",
       "    </tr>\n",
       "    <tr>\n",
       "      <th>id</th>\n",
       "      <td>Neuron_id0001</td>\n",
       "    </tr>\n",
       "    <tr>\n",
       "      <th>n_nodes</th>\n",
       "      <td>3369</td>\n",
       "    </tr>\n",
       "    <tr>\n",
       "      <th>n_connectors</th>\n",
       "      <td>None</td>\n",
       "    </tr>\n",
       "    <tr>\n",
       "      <th>n_branches</th>\n",
       "      <td>64</td>\n",
       "    </tr>\n",
       "    <tr>\n",
       "      <th>n_leafs</th>\n",
       "      <td>69</td>\n",
       "    </tr>\n",
       "    <tr>\n",
       "      <th>cable_length</th>\n",
       "      <td>151639.171875</td>\n",
       "    </tr>\n",
       "    <tr>\n",
       "      <th>soma</th>\n",
       "      <td>None</td>\n",
       "    </tr>\n",
       "    <tr>\n",
       "      <th>units</th>\n",
       "      <td>1 dimensionless</td>\n",
       "    </tr>\n",
       "  </tbody>\n",
       "</table>\n",
       "</div>"
      ],
      "text/plain": [
       "type            navis.TreeNeuron\n",
       "name                         NML\n",
       "id                 Neuron_id0001\n",
       "n_nodes                     3369\n",
       "n_connectors                None\n",
       "n_branches                    64\n",
       "n_leafs                       69\n",
       "cable_length       151639.171875\n",
       "soma                        None\n",
       "units            1 dimensionless\n",
       "dtype: object"
      ]
     },
     "execution_count": 2,
     "metadata": {},
     "output_type": "execute_result"
    }
   ],
   "source": [
    "# Read a single file\n",
    "s = navis.read_nmx('~/Downloads/WannerAA201605_SkeletonsGlomeruli/Neuron_id0001.nmx')\n",
    "s"
   ]
  },
  {
   "cell_type": "code",
   "execution_count": 3,
   "id": "279d2ce7-0db9-4fea-bd19-2c650416c891",
   "metadata": {},
   "outputs": [
    {
     "data": {
      "application/vnd.jupyter.widget-view+json": {
       "model_id": "",
       "version_major": 2,
       "version_minor": 0
      },
      "text/plain": [
       "Importing:   0%|          | 0/1023 [00:00<?, ?it/s]"
      ]
     },
     "metadata": {},
     "output_type": "display_data"
    },
    {
     "name": "stderr",
     "output_type": "stream",
     "text": [
      "WARNING : Skipped \"Glomeruli.nmx\": failed to import skeleton. (navis)\n"
     ]
    },
    {
     "data": {
      "text/html": [
       "&lt;class 'navis.core.neuronlist.NeuronList'&gt; containing 1022 neurons (142.1MiB)<div>\n",
       "<style scoped>\n",
       "    .dataframe tbody tr th:only-of-type {\n",
       "        vertical-align: middle;\n",
       "    }\n",
       "\n",
       "    .dataframe tbody tr th {\n",
       "        vertical-align: top;\n",
       "    }\n",
       "\n",
       "    .dataframe thead th {\n",
       "        text-align: right;\n",
       "    }\n",
       "</style>\n",
       "<table border=\"1\" class=\"dataframe\">\n",
       "  <thead>\n",
       "    <tr style=\"text-align: right;\">\n",
       "      <th></th>\n",
       "      <th>type</th>\n",
       "      <th>name</th>\n",
       "      <th>id</th>\n",
       "      <th>n_nodes</th>\n",
       "      <th>n_connectors</th>\n",
       "      <th>n_branches</th>\n",
       "      <th>n_leafs</th>\n",
       "      <th>cable_length</th>\n",
       "      <th>soma</th>\n",
       "      <th>units</th>\n",
       "    </tr>\n",
       "  </thead>\n",
       "  <tbody>\n",
       "    <tr>\n",
       "      <th>0</th>\n",
       "      <td>navis.TreeNeuron</td>\n",
       "      <td>NML</td>\n",
       "      <td>Neuron_id0742</td>\n",
       "      <td>4351</td>\n",
       "      <td>None</td>\n",
       "      <td>91</td>\n",
       "      <td>96</td>\n",
       "      <td>200111.703125</td>\n",
       "      <td>None</td>\n",
       "      <td>1 dimensionless</td>\n",
       "    </tr>\n",
       "    <tr>\n",
       "      <th>1</th>\n",
       "      <td>navis.TreeNeuron</td>\n",
       "      <td>NML</td>\n",
       "      <td>Neuron_id0756</td>\n",
       "      <td>4779</td>\n",
       "      <td>None</td>\n",
       "      <td>0</td>\n",
       "      <td>3</td>\n",
       "      <td>9099.673828</td>\n",
       "      <td>None</td>\n",
       "      <td>1 dimensionless</td>\n",
       "    </tr>\n",
       "    <tr>\n",
       "      <th>...</th>\n",
       "      <td>...</td>\n",
       "      <td>...</td>\n",
       "      <td>...</td>\n",
       "      <td>...</td>\n",
       "      <td>...</td>\n",
       "      <td>...</td>\n",
       "      <td>...</td>\n",
       "      <td>...</td>\n",
       "      <td>...</td>\n",
       "      <td>...</td>\n",
       "    </tr>\n",
       "    <tr>\n",
       "      <th>1020</th>\n",
       "      <td>navis.TreeNeuron</td>\n",
       "      <td>NML</td>\n",
       "      <td>Neuron_id0997</td>\n",
       "      <td>2395</td>\n",
       "      <td>None</td>\n",
       "      <td>61</td>\n",
       "      <td>71</td>\n",
       "      <td>136052.546875</td>\n",
       "      <td>None</td>\n",
       "      <td>1 dimensionless</td>\n",
       "    </tr>\n",
       "    <tr>\n",
       "      <th>1021</th>\n",
       "      <td>navis.TreeNeuron</td>\n",
       "      <td>NML</td>\n",
       "      <td>Neuron_id0983</td>\n",
       "      <td>3332</td>\n",
       "      <td>None</td>\n",
       "      <td>115</td>\n",
       "      <td>123</td>\n",
       "      <td>223207.265625</td>\n",
       "      <td>None</td>\n",
       "      <td>1 dimensionless</td>\n",
       "    </tr>\n",
       "  </tbody>\n",
       "</table>\n",
       "</div>"
      ],
      "text/plain": [
       "<class 'navis.core.neuronlist.NeuronList'> containing 1022 neurons (142.1MiB)\n",
       "                  type name             id  n_nodes n_connectors  n_branches  \\\n",
       "0     navis.TreeNeuron  NML  Neuron_id0742     4351         None          91   \n",
       "1     navis.TreeNeuron  NML  Neuron_id0756     4779         None           0   \n",
       "...                ...  ...            ...      ...          ...         ...   \n",
       "1020  navis.TreeNeuron  NML  Neuron_id0997     2395         None          61   \n",
       "1021  navis.TreeNeuron  NML  Neuron_id0983     3332         None         115   \n",
       "\n",
       "      n_leafs   cable_length  soma            units  \n",
       "0          96  200111.703125  None  1 dimensionless  \n",
       "1           3    9099.673828  None  1 dimensionless  \n",
       "...       ...            ...   ...              ...  \n",
       "1020       71  136052.546875  None  1 dimensionless  \n",
       "1021      123  223207.265625  None  1 dimensionless  "
      ]
     },
     "execution_count": 3,
     "metadata": {},
     "output_type": "execute_result"
    }
   ],
   "source": [
    "# Read all files in folder\n",
    "nl = navis.read_nmx('~/Downloads/WannerAA201605_SkeletonsGlomeruli/')\n",
    "nl"
   ]
  },
  {
   "cell_type": "raw",
   "id": "6256a55c-d51a-4d42-8e6d-d6bd0c745cb1",
   "metadata": {
    "raw_mimetype": "text/restructuredtext",
    "tags": []
   },
   "source": [
    "Note the error message? NMX files don't always contain skeletons. If ``navis`` comes across one that can't be turned into a :class:`~navis.TreeNeuron`, it will skip the file and produce a warning.\n",
    "\n",
    "\n",
    "Neuroglancer precomputed format\n",
    "===============================\n",
    "\n",
    "Among other formats, neuroglancer supports a \"precomputed\" format for skeletons (see specs `here <https://github.com/google/neuroglancer/blob/master/src/neuroglancer/datasource/precomputed/skeletons.md>`_). This binary format is more compact than uncompressed SWC files but probably is not used outside of neuroglancer afaik. That said: ``navis`` lets you read and write skeletons from/to precomputed format using :func:`navis.read_precomputed` and :func:`navis.write_precomputed`. Note that these functions work on both precomputed skeletons and meshes.\n",
    "\n",
    "Manually constructing skeletons\n",
    "===============================\n",
    "\n",
    "What if you have some obscure data format for which ``navis`` does not have a read function? The data underlying a :class:`~navis.TreeNeuron` is a simple SWC table - so as long as you can produce that from your data, you can create your own skeletons. Here's a quick & dirty example:"
   ]
  },
  {
   "cell_type": "code",
   "execution_count": 5,
   "id": "cca96058-6bd4-4f47-b94c-b4de856edfe3",
   "metadata": {},
   "outputs": [
    {
     "data": {
      "text/html": [
       "<div>\n",
       "<style scoped>\n",
       "    .dataframe tbody tr th:only-of-type {\n",
       "        vertical-align: middle;\n",
       "    }\n",
       "\n",
       "    .dataframe tbody tr th {\n",
       "        vertical-align: top;\n",
       "    }\n",
       "\n",
       "    .dataframe thead th {\n",
       "        text-align: right;\n",
       "    }\n",
       "</style>\n",
       "<table border=\"1\" class=\"dataframe\">\n",
       "  <thead>\n",
       "    <tr style=\"text-align: right;\">\n",
       "      <th></th>\n",
       "      <th>node_id</th>\n",
       "      <th>parent_id</th>\n",
       "      <th>x</th>\n",
       "      <th>y</th>\n",
       "      <th>z</th>\n",
       "      <th>radius</th>\n",
       "    </tr>\n",
       "  </thead>\n",
       "  <tbody>\n",
       "    <tr>\n",
       "      <th>0</th>\n",
       "      <td>0</td>\n",
       "      <td>-1</td>\n",
       "      <td>0</td>\n",
       "      <td>0</td>\n",
       "      <td>0</td>\n",
       "      <td>0</td>\n",
       "    </tr>\n",
       "    <tr>\n",
       "      <th>1</th>\n",
       "      <td>1</td>\n",
       "      <td>0</td>\n",
       "      <td>1</td>\n",
       "      <td>1</td>\n",
       "      <td>1</td>\n",
       "      <td>0</td>\n",
       "    </tr>\n",
       "  </tbody>\n",
       "</table>\n",
       "</div>"
      ],
      "text/plain": [
       "   node_id  parent_id  x  y  z  radius\n",
       "0        0         -1  0  0  0       0\n",
       "1        1          0  1  1  1       0"
      ]
     },
     "execution_count": 5,
     "metadata": {},
     "output_type": "execute_result"
    }
   ],
   "source": [
    "import pandas as pd \n",
    "\n",
    "# Create a mock SWC table for a 2-node skeleton\n",
    "swc = pd.DataFrame()\n",
    "swc['node_id'] = [0, 1]\n",
    "swc['parent_id'] = [-1, 0]   # negative indices indicate roots \n",
    "swc['x'] = [0, 1]\n",
    "swc['y'] = [0, 1]\n",
    "swc['z'] = [0, 1]\n",
    "swc['radius'] = 0\n",
    "\n",
    "swc"
   ]
  },
  {
   "cell_type": "raw",
   "id": "cd9a9aa0-f9c2-4234-aa2e-7b150c4b55b4",
   "metadata": {
    "raw_mimetype": "text/restructuredtext",
    "tags": []
   },
   "source": [
    "This SWC can now be used to construct a :class:`~navis.TreeNeuron`:"
   ]
  },
  {
   "cell_type": "code",
   "execution_count": 7,
   "id": "eb733cbe-19b0-45dc-9cb0-2ceddb351adc",
   "metadata": {},
   "outputs": [
    {
     "data": {
      "text/html": [
       "<div>\n",
       "<style scoped>\n",
       "    .dataframe tbody tr th:only-of-type {\n",
       "        vertical-align: middle;\n",
       "    }\n",
       "\n",
       "    .dataframe tbody tr th {\n",
       "        vertical-align: top;\n",
       "    }\n",
       "\n",
       "    .dataframe thead th {\n",
       "        text-align: right;\n",
       "    }\n",
       "</style>\n",
       "<table border=\"1\" class=\"dataframe\">\n",
       "  <thead>\n",
       "    <tr style=\"text-align: right;\">\n",
       "      <th></th>\n",
       "      <th></th>\n",
       "    </tr>\n",
       "  </thead>\n",
       "  <tbody>\n",
       "    <tr>\n",
       "      <th>type</th>\n",
       "      <td>navis.TreeNeuron</td>\n",
       "    </tr>\n",
       "    <tr>\n",
       "      <th>name</th>\n",
       "      <td>my_neuron</td>\n",
       "    </tr>\n",
       "    <tr>\n",
       "      <th>n_nodes</th>\n",
       "      <td>2</td>\n",
       "    </tr>\n",
       "    <tr>\n",
       "      <th>n_connectors</th>\n",
       "      <td>None</td>\n",
       "    </tr>\n",
       "    <tr>\n",
       "      <th>n_branches</th>\n",
       "      <td>0</td>\n",
       "    </tr>\n",
       "    <tr>\n",
       "      <th>n_leafs</th>\n",
       "      <td>1</td>\n",
       "    </tr>\n",
       "    <tr>\n",
       "      <th>cable_length</th>\n",
       "      <td>1.732051</td>\n",
       "    </tr>\n",
       "    <tr>\n",
       "      <th>soma</th>\n",
       "      <td>None</td>\n",
       "    </tr>\n",
       "    <tr>\n",
       "      <th>units</th>\n",
       "      <td>1 micrometer</td>\n",
       "    </tr>\n",
       "  </tbody>\n",
       "</table>\n",
       "</div>"
      ],
      "text/plain": [
       "type            navis.TreeNeuron\n",
       "name                   my_neuron\n",
       "n_nodes                        2\n",
       "n_connectors                None\n",
       "n_branches                     0\n",
       "n_leafs                        1\n",
       "cable_length            1.732051\n",
       "soma                        None\n",
       "units               1 micrometer\n",
       "dtype: object"
      ]
     },
     "execution_count": 7,
     "metadata": {},
     "output_type": "execute_result"
    }
   ],
   "source": [
    "s = navis.TreeNeuron(swc, name='my_neuron', units='microns')\n",
    "s"
   ]
  },
  {
   "cell_type": "raw",
   "id": "a4b1560b-29e4-461c-97cc-f3d78f16b483",
   "metadata": {
    "raw_mimetype": "text/restructuredtext",
    "tags": []
   },
   "source": [
    "There are a few other ways to construct a :class:`navis.TreeNeuron` (e.g. using a graph) - see the docstring for details.\n",
    "\n",
    "Also note that all navis neurons can be stored to disk using ``pickle`` - see the :ref:`pickling tutorial <local_data_pickle_tut>`. \n",
    "\n",
    "Hopefully the above has given you some entry points on how to load your data. See also the :ref:`I/O API reference api_io>`. Please keep in mind that you can also convert one neuron type into another - for example by skeletonizing ``MeshNeurons`` (see :ref:`neuron_conversion`). "
   ]
  }
 ],
 "metadata": {
  "kernelspec": {
   "display_name": "Python 3 (ipykernel)",
   "language": "python",
   "name": "python3"
  },
  "language_info": {
   "codemirror_mode": {
    "name": "ipython",
    "version": 3
   },
   "file_extension": ".py",
   "mimetype": "text/x-python",
   "name": "python",
   "nbconvert_exporter": "python",
   "pygments_lexer": "ipython3",
   "version": "3.9.9"
  },
  "widgets": {
   "application/vnd.jupyter.widget-state+json": {
    "state": {},
    "version_major": 2,
    "version_minor": 0
   }
  }
 },
 "nbformat": 4,
 "nbformat_minor": 5
}
