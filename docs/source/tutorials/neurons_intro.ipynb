{
 "cells": [
  {
   "cell_type": "raw",
   "metadata": {
    "raw_mimetype": "text/restructuredtext"
   },
   "source": [
    ".. _neuron_overview:\n",
    "\n",
    "Neuron types\n",
    "============\n",
    "\n",
    "Neurons in ``navis`` come in four flavours:\n",
    "\n",
    ".. list-table::\n",
    "   :widths: 10 20 20\n",
    "   :header-rows: 1\n",
    "\n",
    "   * - Neuron type\n",
    "     - Description\n",
    "     - Core data\n",
    "   * - :class:`navis.TreeNeuron`\n",
    "     - A hierarchical skeleton consisting of nodes and edges.\n",
    "     - - ``.nodes``: the SWC node table \n",
    "   * - :class:`navis.MeshNeuron`\n",
    "     - A mesh with faces and vertices.\n",
    "     - - ``.vertices``: `(N, 3)` array of x/y/z vertex coordinates\n",
    "       - ``.faces``: `(M, 3)` array of faces\n",
    "   * - :class:`navis.VoxelNeuron`\n",
    "     - An image represented by either a 2d array of voxels or a 3d voxel grid.\n",
    "     - - ``.voxels``: `(N, 3)` array of voxels \n",
    "       - ``.values``: `(N, )` array of values (i.e. intensity)\n",
    "       - ``.grid``: `(N, M, K)` 3D voxelgrid\n",
    "   * - :class:`navis.Dotprops`\n",
    "     - A cloud of points, each with an associated local vector.\n",
    "     - - ``.points``: `(N, 3)` array of point coordinates \n",
    "       - ``.vect``: `(N, 3)` array of normalized vectors\n",
    "       \n",
    "Note that some functions in ``navis`` will work on some but not all neuron types (see this :ref:`table <api_func_matrix>` in the :ref:`API <api>` reference for details). If need be, ``navis`` also offers ways to convert between the different neuron types (see further below). For details on how to load/import your neurons into ``navis`` please see the other :ref:`tutorials <example_gallery>`.\n",
    "        \n",
    "\n",
    "TreeNeurons \n",
    "+++++++++++\n",
    "\n",
    "``TreeNeurons`` represent a neuron as a tree-like \"skeleton\" - effectively a directed acyclic graph, i.e. they consist of nodes and each node connects to at most 1 parent. This format is commonly used to describe a neuron's topology and often shared using `SWC <http://www.neuronland.org/NLMorphologyConverter/MorphologyFormats/SWC/Spec.html>`_ files. \n",
    "\n",
    "A :class:`~navis.TreeNeuron` is typically constructed from an SWC file (see :func:`navis.read_swc`) but you can also use a ``pandas.DataFrame`` or a ``networkx.DiGraph``. See the :ref:`skeleton I/O <local_data_skels_tut>` tutorial for details.\n",
    "\n",
    "``navis`` ships with a couple example *Drosophila* neurons from the Janelia hemibrain project published\n",
    "in `Scheffer et al. (2020) <https://elifesciences.org/articles/57443>`_ and available at https://neuprint.janelia.org (see also the :ref:`neuPrint tutorial <neuprint_intro>`):"
   ]
  },
  {
   "cell_type": "code",
   "execution_count": 2,
   "metadata": {},
   "outputs": [
    {
     "data": {
      "text/html": [
       "<div>\n",
       "<style scoped>\n",
       "    .dataframe tbody tr th:only-of-type {\n",
       "        vertical-align: middle;\n",
       "    }\n",
       "\n",
       "    .dataframe tbody tr th {\n",
       "        vertical-align: top;\n",
       "    }\n",
       "\n",
       "    .dataframe thead th {\n",
       "        text-align: right;\n",
       "    }\n",
       "</style>\n",
       "<table border=\"1\" class=\"dataframe\">\n",
       "  <thead>\n",
       "    <tr style=\"text-align: right;\">\n",
       "      <th></th>\n",
       "      <th></th>\n",
       "    </tr>\n",
       "  </thead>\n",
       "  <tbody>\n",
       "    <tr>\n",
       "      <th>type</th>\n",
       "      <td>navis.TreeNeuron</td>\n",
       "    </tr>\n",
       "    <tr>\n",
       "      <th>name</th>\n",
       "      <td>DA1_lPN_R</td>\n",
       "    </tr>\n",
       "    <tr>\n",
       "      <th>id</th>\n",
       "      <td>1734350788</td>\n",
       "    </tr>\n",
       "    <tr>\n",
       "      <th>n_nodes</th>\n",
       "      <td>4465</td>\n",
       "    </tr>\n",
       "    <tr>\n",
       "      <th>n_connectors</th>\n",
       "      <td>2705</td>\n",
       "    </tr>\n",
       "    <tr>\n",
       "      <th>n_branches</th>\n",
       "      <td>599</td>\n",
       "    </tr>\n",
       "    <tr>\n",
       "      <th>n_leafs</th>\n",
       "      <td>618</td>\n",
       "    </tr>\n",
       "    <tr>\n",
       "      <th>cable_length</th>\n",
       "      <td>266476.875</td>\n",
       "    </tr>\n",
       "    <tr>\n",
       "      <th>soma</th>\n",
       "      <td>[4177]</td>\n",
       "    </tr>\n",
       "    <tr>\n",
       "      <th>units</th>\n",
       "      <td>8 nanometer</td>\n",
       "    </tr>\n",
       "    <tr>\n",
       "      <th>created_at</th>\n",
       "      <td>2022-05-09 11:52:08.206993</td>\n",
       "    </tr>\n",
       "    <tr>\n",
       "      <th>id</th>\n",
       "      <td>1734350788</td>\n",
       "    </tr>\n",
       "    <tr>\n",
       "      <th>origin</th>\n",
       "      <td>/Users/philipps/Google Drive/Cloudbox/Github/n...</td>\n",
       "    </tr>\n",
       "  </tbody>\n",
       "</table>\n",
       "</div>"
      ],
      "text/plain": [
       "type                                             navis.TreeNeuron\n",
       "name                                                    DA1_lPN_R\n",
       "id                                                     1734350788\n",
       "n_nodes                                                      4465\n",
       "n_connectors                                                 2705\n",
       "n_branches                                                    599\n",
       "n_leafs                                                       618\n",
       "cable_length                                           266476.875\n",
       "soma                                                       [4177]\n",
       "units                                                 8 nanometer\n",
       "created_at                             2022-05-09 11:52:08.206993\n",
       "id                                                     1734350788\n",
       "origin          /Users/philipps/Google Drive/Cloudbox/Github/n...\n",
       "dtype: object"
      ]
     },
     "execution_count": 2,
     "metadata": {},
     "output_type": "execute_result"
    }
   ],
   "source": [
    "# Import navis \n",
    "import navis\n",
    "\n",
    "# Load one of the example neurons\n",
    "sk = navis.example_neurons(n=1, kind='skeleton')\n",
    "\n",
    "# Inspect the neuron\n",
    "sk"
   ]
  },
  {
   "cell_type": "raw",
   "metadata": {
    "raw_mimetype": "text/restructuredtext"
   },
   "source": [
    ":class:`~navis.TreeNeuron` stores nodes and other data as attached DataFrames:"
   ]
  },
  {
   "cell_type": "code",
   "execution_count": 2,
   "metadata": {},
   "outputs": [
    {
     "data": {
      "text/html": [
       "<div>\n",
       "<style scoped>\n",
       "    .dataframe tbody tr th:only-of-type {\n",
       "        vertical-align: middle;\n",
       "    }\n",
       "\n",
       "    .dataframe tbody tr th {\n",
       "        vertical-align: top;\n",
       "    }\n",
       "\n",
       "    .dataframe thead th {\n",
       "        text-align: right;\n",
       "    }\n",
       "</style>\n",
       "<table border=\"1\" class=\"dataframe\">\n",
       "  <thead>\n",
       "    <tr style=\"text-align: right;\">\n",
       "      <th></th>\n",
       "      <th>node_id</th>\n",
       "      <th>label</th>\n",
       "      <th>x</th>\n",
       "      <th>y</th>\n",
       "      <th>z</th>\n",
       "      <th>radius</th>\n",
       "      <th>parent_id</th>\n",
       "      <th>type</th>\n",
       "    </tr>\n",
       "  </thead>\n",
       "  <tbody>\n",
       "    <tr>\n",
       "      <th>0</th>\n",
       "      <td>1</td>\n",
       "      <td>0</td>\n",
       "      <td>15784.0</td>\n",
       "      <td>37250.0</td>\n",
       "      <td>28062.0</td>\n",
       "      <td>10.000000</td>\n",
       "      <td>-1</td>\n",
       "      <td>root</td>\n",
       "    </tr>\n",
       "    <tr>\n",
       "      <th>1</th>\n",
       "      <td>2</td>\n",
       "      <td>0</td>\n",
       "      <td>15764.0</td>\n",
       "      <td>37230.0</td>\n",
       "      <td>28082.0</td>\n",
       "      <td>18.284300</td>\n",
       "      <td>1</td>\n",
       "      <td>slab</td>\n",
       "    </tr>\n",
       "    <tr>\n",
       "      <th>2</th>\n",
       "      <td>3</td>\n",
       "      <td>0</td>\n",
       "      <td>15744.0</td>\n",
       "      <td>37190.0</td>\n",
       "      <td>28122.0</td>\n",
       "      <td>34.721401</td>\n",
       "      <td>2</td>\n",
       "      <td>slab</td>\n",
       "    </tr>\n",
       "    <tr>\n",
       "      <th>3</th>\n",
       "      <td>4</td>\n",
       "      <td>0</td>\n",
       "      <td>15744.0</td>\n",
       "      <td>37150.0</td>\n",
       "      <td>28202.0</td>\n",
       "      <td>34.721401</td>\n",
       "      <td>3</td>\n",
       "      <td>slab</td>\n",
       "    </tr>\n",
       "    <tr>\n",
       "      <th>4</th>\n",
       "      <td>5</td>\n",
       "      <td>0</td>\n",
       "      <td>15704.0</td>\n",
       "      <td>37130.0</td>\n",
       "      <td>28242.0</td>\n",
       "      <td>34.721401</td>\n",
       "      <td>4</td>\n",
       "      <td>slab</td>\n",
       "    </tr>\n",
       "  </tbody>\n",
       "</table>\n",
       "</div>"
      ],
      "text/plain": [
       "   node_id label        x        y        z     radius  parent_id  type\n",
       "0        1     0  15784.0  37250.0  28062.0  10.000000         -1  root\n",
       "1        2     0  15764.0  37230.0  28082.0  18.284300          1  slab\n",
       "2        3     0  15744.0  37190.0  28122.0  34.721401          2  slab\n",
       "3        4     0  15744.0  37150.0  28202.0  34.721401          3  slab\n",
       "4        5     0  15704.0  37130.0  28242.0  34.721401          4  slab"
      ]
     },
     "execution_count": 2,
     "metadata": {},
     "output_type": "execute_result"
    }
   ],
   "source": [
    "sk.nodes.head()"
   ]
  },
  {
   "cell_type": "raw",
   "metadata": {
    "raw_mimetype": "text/restructuredtext"
   },
   "source": [
    "MeshNeurons\n",
    "+++++++++++\n",
    "``MeshNeurons`` consist of vertices and faces, and are a typical output of e.g. image segmentation. \n",
    "\n",
    ":class:`~navis.MeshNeuron` can be constructed from any object that has ``.vertices`` and ``.faces`` properties, a dictionary of ``vertices`` and ``faces`` or a file that can be parsed by ``trimesh.load``. See the :ref:`mesh I/O <local_data_meshes_tut>` tutorial for details.\n",
    "\n",
    "Each of the example neurons in ``navis`` also comes as mesh representation:"
   ]
  },
  {
   "cell_type": "code",
   "execution_count": 3,
   "metadata": {},
   "outputs": [
    {
     "data": {
      "text/html": [
       "<div>\n",
       "<style scoped>\n",
       "    .dataframe tbody tr th:only-of-type {\n",
       "        vertical-align: middle;\n",
       "    }\n",
       "\n",
       "    .dataframe tbody tr th {\n",
       "        vertical-align: top;\n",
       "    }\n",
       "\n",
       "    .dataframe thead th {\n",
       "        text-align: right;\n",
       "    }\n",
       "</style>\n",
       "<table border=\"1\" class=\"dataframe\">\n",
       "  <thead>\n",
       "    <tr style=\"text-align: right;\">\n",
       "      <th></th>\n",
       "      <th></th>\n",
       "    </tr>\n",
       "  </thead>\n",
       "  <tbody>\n",
       "    <tr>\n",
       "      <th>type</th>\n",
       "      <td>navis.MeshNeuron</td>\n",
       "    </tr>\n",
       "    <tr>\n",
       "      <th>name</th>\n",
       "      <td>DA1_lPN_R</td>\n",
       "    </tr>\n",
       "    <tr>\n",
       "      <th>id</th>\n",
       "      <td>1734350788</td>\n",
       "    </tr>\n",
       "    <tr>\n",
       "      <th>units</th>\n",
       "      <td>8 nanometer</td>\n",
       "    </tr>\n",
       "    <tr>\n",
       "      <th>n_vertices</th>\n",
       "      <td>6309</td>\n",
       "    </tr>\n",
       "    <tr>\n",
       "      <th>n_faces</th>\n",
       "      <td>13054</td>\n",
       "    </tr>\n",
       "  </tbody>\n",
       "</table>\n",
       "</div>"
      ],
      "text/plain": [
       "type          navis.MeshNeuron\n",
       "name                 DA1_lPN_R\n",
       "id                  1734350788\n",
       "units              8 nanometer\n",
       "n_vertices                6309\n",
       "n_faces                  13054\n",
       "dtype: object"
      ]
     },
     "execution_count": 3,
     "metadata": {},
     "output_type": "execute_result"
    }
   ],
   "source": [
    "m = navis.example_neurons(n=1, kind='mesh')\n",
    "m"
   ]
  },
  {
   "cell_type": "raw",
   "metadata": {
    "raw_mimetype": "text/restructuredtext"
   },
   "source": [
    ":class:`~navis.MeshNeuron` stores vertices and faces as attached numpy arrays:"
   ]
  },
  {
   "cell_type": "code",
   "execution_count": 4,
   "metadata": {},
   "outputs": [
    {
     "data": {
      "text/plain": [
       "(TrackedArray([[16384.        , 34792.03125   , 24951.88085938],\n",
       "               [16384.        , 36872.0625    , 25847.89453125],\n",
       "               [16384.        , 36872.0625    , 25863.89453125],\n",
       "               ...,\n",
       "               [ 5328.08105469, 21400.07617188, 16039.99414062],\n",
       "               [ 6872.10498047, 19560.04882812, 13903.96191406],\n",
       "               [ 6872.10498047, 19488.046875  , 13927.96191406]]),\n",
       " TrackedArray([[3888, 3890, 3887],\n",
       "               [3890, 1508, 3887],\n",
       "               [1106, 1104, 1105],\n",
       "               ...,\n",
       "               [5394, 5426, 5548],\n",
       "               [5852, 5926, 6017],\n",
       "               [ 207,  217,  211]]))"
      ]
     },
     "execution_count": 4,
     "metadata": {},
     "output_type": "execute_result"
    }
   ],
   "source": [
    "m.vertices, m.faces"
   ]
  },
  {
   "cell_type": "raw",
   "metadata": {
    "raw_mimetype": "text/restructuredtext",
    "tags": []
   },
   "source": [
    "Dotprops\n",
    "++++++++\n",
    ":class:`~navis.Dotprops` represent neurons as point clouds where each point is associated with a vector describing the local orientation. This simple representation often comes from e.g. light-level data or as direvative of skeletons/meshes (see :func:`navis.make_dotprops`). Dotprops are used e.g. for :ref:`NBLAST<nblast_intro>`. See the :ref:`dotprops I/O <local_data_dotprops_tut>` tutorial for details.\n",
    "\n",
    ":class:`~navis.Dotprops` consist of ``.points`` and associated ``.vect`` (vectors). They are typically created from other types of neurons using :func:`navis.make_dotprops`:"
   ]
  },
  {
   "cell_type": "code",
   "execution_count": 4,
   "metadata": {},
   "outputs": [
    {
     "data": {
      "text/html": [
       "<div>\n",
       "<style scoped>\n",
       "    .dataframe tbody tr th:only-of-type {\n",
       "        vertical-align: middle;\n",
       "    }\n",
       "\n",
       "    .dataframe tbody tr th {\n",
       "        vertical-align: top;\n",
       "    }\n",
       "\n",
       "    .dataframe thead th {\n",
       "        text-align: right;\n",
       "    }\n",
       "</style>\n",
       "<table border=\"1\" class=\"dataframe\">\n",
       "  <thead>\n",
       "    <tr style=\"text-align: right;\">\n",
       "      <th></th>\n",
       "      <th></th>\n",
       "    </tr>\n",
       "  </thead>\n",
       "  <tbody>\n",
       "    <tr>\n",
       "      <th>type</th>\n",
       "      <td>navis.Dotprops</td>\n",
       "    </tr>\n",
       "    <tr>\n",
       "      <th>name</th>\n",
       "      <td>DA1_lPN_R</td>\n",
       "    </tr>\n",
       "    <tr>\n",
       "      <th>id</th>\n",
       "      <td>1734350788</td>\n",
       "    </tr>\n",
       "    <tr>\n",
       "      <th>k</th>\n",
       "      <td>5</td>\n",
       "    </tr>\n",
       "    <tr>\n",
       "      <th>units</th>\n",
       "      <td>8 nanometer</td>\n",
       "    </tr>\n",
       "    <tr>\n",
       "      <th>n_points</th>\n",
       "      <td>4465</td>\n",
       "    </tr>\n",
       "  </tbody>\n",
       "</table>\n",
       "</div>"
      ],
      "text/plain": [
       "type        navis.Dotprops\n",
       "name             DA1_lPN_R\n",
       "id              1734350788\n",
       "k                        5\n",
       "units          8 nanometer\n",
       "n_points              4465\n",
       "dtype: object"
      ]
     },
     "execution_count": 4,
     "metadata": {},
     "output_type": "execute_result"
    }
   ],
   "source": [
    "# Turn our above skeleton into dotprops\n",
    "dp = navis.make_dotprops(sk, k=5)\n",
    "\n",
    "dp"
   ]
  },
  {
   "cell_type": "code",
   "execution_count": 6,
   "metadata": {},
   "outputs": [
    {
     "data": {
      "text/plain": [
       "(array([[15784., 37250., 28062.],\n",
       "        [15764., 37230., 28082.],\n",
       "        [15744., 37190., 28122.],\n",
       "        ...,\n",
       "        [14544., 36430., 28422.],\n",
       "        [14944., 36510., 28282.],\n",
       "        [15264., 36870., 28282.]], dtype=float32),\n",
       " array([[-0.3002053 , -0.39364937,  0.8688596 ],\n",
       "        [-0.10845336, -0.2113751 ,  0.9713694 ],\n",
       "        [-0.0435693 , -0.45593134,  0.8889479 ],\n",
       "        ...,\n",
       "        [-0.38446087,  0.44485292, -0.80888546],\n",
       "        [-0.9457323 , -0.1827982 , -0.26865458],\n",
       "        [-0.79947734, -0.5164282 , -0.30681902]], dtype=float32))"
      ]
     },
     "execution_count": 6,
     "metadata": {},
     "output_type": "execute_result"
    }
   ],
   "source": [
    "dp.points, dp.vect"
   ]
  },
  {
   "cell_type": "raw",
   "metadata": {
    "raw_mimetype": "text/restructuredtext"
   },
   "source": [
    "Check out the NBLAST tutorial for further details on dotprops!\n",
    "\n",
    "\n",
    "VoxelNeurons\n",
    "++++++++++++\n",
    "``VoxelNeurons`` represent neurons as either 3d image or x/y/z voxel coordinates typically obtained from e.g. light-level microscopy.\n",
    "\n",
    "\n",
    ":class:`~navis.VoxelNeuron` consist of either a 3d ``(N, M, K)`` array (=\"grid\") or an 2d ``(N, 3)`` array of voxel coordinates. You will probably find yourself loading these data from image files (e.g. ``.nrrd`` via :func:`navis.read_nrrd`). That said we can also \"voxelize\" other neuron types to produce ``VoxelNeurons``:"
   ]
  },
  {
   "cell_type": "code",
   "execution_count": 5,
   "metadata": {},
   "outputs": [
    {
     "data": {
      "text/html": [
       "<div>\n",
       "<style scoped>\n",
       "    .dataframe tbody tr th:only-of-type {\n",
       "        vertical-align: middle;\n",
       "    }\n",
       "\n",
       "    .dataframe tbody tr th {\n",
       "        vertical-align: top;\n",
       "    }\n",
       "\n",
       "    .dataframe thead th {\n",
       "        text-align: right;\n",
       "    }\n",
       "</style>\n",
       "<table border=\"1\" class=\"dataframe\">\n",
       "  <thead>\n",
       "    <tr style=\"text-align: right;\">\n",
       "      <th></th>\n",
       "      <th></th>\n",
       "    </tr>\n",
       "  </thead>\n",
       "  <tbody>\n",
       "    <tr>\n",
       "      <th>type</th>\n",
       "      <td>navis.VoxelNeuron</td>\n",
       "    </tr>\n",
       "    <tr>\n",
       "      <th>name</th>\n",
       "      <td>DA1_lPN_R</td>\n",
       "    </tr>\n",
       "    <tr>\n",
       "      <th>id</th>\n",
       "      <td>1734350788</td>\n",
       "    </tr>\n",
       "    <tr>\n",
       "      <th>units</th>\n",
       "      <td>500.0 nanometer</td>\n",
       "    </tr>\n",
       "    <tr>\n",
       "      <th>shape</th>\n",
       "      <td>(298, 392, 286)</td>\n",
       "    </tr>\n",
       "    <tr>\n",
       "      <th>dtype</th>\n",
       "      <td>float32</td>\n",
       "    </tr>\n",
       "  </tbody>\n",
       "</table>\n",
       "</div>"
      ],
      "text/plain": [
       "type     navis.VoxelNeuron\n",
       "name             DA1_lPN_R\n",
       "id              1734350788\n",
       "units      500.0 nanometer\n",
       "shape      (298, 392, 286)\n",
       "dtype              float32\n",
       "dtype: object"
      ]
     },
     "execution_count": 5,
     "metadata": {},
     "output_type": "execute_result"
    }
   ],
   "source": [
    "# Load an example mesh\n",
    "m = navis.example_neurons(n=1, kind='mesh')\n",
    "\n",
    "# Voxelize:\n",
    "# - with a 0.5 micron voxel size\n",
    "# - some Gaussian smoothing \n",
    "# - use number of vertices (counts) for voxel values\n",
    "vx = navis.voxelize(m, pitch='0.5 microns', smooth=2, counts=True) \n",
    "\n",
    "vx"
   ]
  },
  {
   "cell_type": "code",
   "execution_count": 8,
   "metadata": {},
   "outputs": [
    {
     "data": {
      "text/plain": [
       "(297, 392, 286)"
      ]
     },
     "execution_count": 8,
     "metadata": {},
     "output_type": "execute_result"
    }
   ],
   "source": [
    "# The grid representation of the neuron\n",
    "vx.grid.shape"
   ]
  },
  {
   "cell_type": "code",
   "execution_count": 9,
   "metadata": {},
   "outputs": [
    {
     "data": {
      "text/plain": [
       "((641384, 3), (641384,))"
      ]
     },
     "execution_count": 9,
     "metadata": {},
     "output_type": "execute_result"
    }
   ],
   "source": [
    "# The (N, 3) voxel + (N, ) values representation of the neuron\n",
    "# -> this is the sparse representation of the neuron\n",
    "vx.voxels.shape, vx.values.shape"
   ]
  },
  {
   "cell_type": "raw",
   "metadata": {
    "raw_mimetype": "text/restructuredtext",
    "tags": []
   },
   "source": [
    ".. note::\n",
    "\n",
    "   You may have noticed that all neurons share some properties irrespective of their type,   \n",
    "   for example ``.id``, ``.name`` or ``.units``. These properties are optional and can \n",
    "   be set when you first create the neuron, or at a later point.\n",
    "   \n",
    "   In particular the ``.id`` property is important because many functions in ``navis``\n",
    "   will return results that are indexed by the neurons' IDs. If ``.id`` is not set \n",
    "   explicitly, it will default to some rather cryptic random UUID - you have been warned!\n",
    "\n",
    "\n",
    "Connectors\n",
    "++++++++++\n",
    "``navis`` was designed with connectivity data in mind! Therefore, each neuron - regardless of type - `can` have a ``.connectors`` table. Connectors are meant to bundle all kinds of connections: pre- & postsynapses, electrical synapses, gap junctions and so on. \n",
    "\n",
    "A connector table must minimally contain an `x/y/z` coordinate and a `type` for each connector:"
   ]
  },
  {
   "cell_type": "code",
   "execution_count": 3,
   "metadata": {},
   "outputs": [
    {
     "data": {
      "text/html": [
       "<div>\n",
       "<style scoped>\n",
       "    .dataframe tbody tr th:only-of-type {\n",
       "        vertical-align: middle;\n",
       "    }\n",
       "\n",
       "    .dataframe tbody tr th {\n",
       "        vertical-align: top;\n",
       "    }\n",
       "\n",
       "    .dataframe thead th {\n",
       "        text-align: right;\n",
       "    }\n",
       "</style>\n",
       "<table border=\"1\" class=\"dataframe\">\n",
       "  <thead>\n",
       "    <tr style=\"text-align: right;\">\n",
       "      <th></th>\n",
       "      <th>connector_id</th>\n",
       "      <th>node_id</th>\n",
       "      <th>type</th>\n",
       "      <th>x</th>\n",
       "      <th>y</th>\n",
       "      <th>z</th>\n",
       "      <th>roi</th>\n",
       "      <th>confidence</th>\n",
       "    </tr>\n",
       "  </thead>\n",
       "  <tbody>\n",
       "    <tr>\n",
       "      <th>0</th>\n",
       "      <td>0</td>\n",
       "      <td>1436</td>\n",
       "      <td>pre</td>\n",
       "      <td>6444</td>\n",
       "      <td>21608</td>\n",
       "      <td>14516</td>\n",
       "      <td>LH(R)</td>\n",
       "      <td>0.959</td>\n",
       "    </tr>\n",
       "    <tr>\n",
       "      <th>1</th>\n",
       "      <td>1</td>\n",
       "      <td>1436</td>\n",
       "      <td>pre</td>\n",
       "      <td>6457</td>\n",
       "      <td>21634</td>\n",
       "      <td>14474</td>\n",
       "      <td>LH(R)</td>\n",
       "      <td>0.997</td>\n",
       "    </tr>\n",
       "    <tr>\n",
       "      <th>2</th>\n",
       "      <td>2</td>\n",
       "      <td>2638</td>\n",
       "      <td>pre</td>\n",
       "      <td>4728</td>\n",
       "      <td>23538</td>\n",
       "      <td>14179</td>\n",
       "      <td>LH(R)</td>\n",
       "      <td>0.886</td>\n",
       "    </tr>\n",
       "    <tr>\n",
       "      <th>3</th>\n",
       "      <td>3</td>\n",
       "      <td>1441</td>\n",
       "      <td>pre</td>\n",
       "      <td>5296</td>\n",
       "      <td>22059</td>\n",
       "      <td>16048</td>\n",
       "      <td>LH(R)</td>\n",
       "      <td>0.967</td>\n",
       "    </tr>\n",
       "    <tr>\n",
       "      <th>4</th>\n",
       "      <td>4</td>\n",
       "      <td>1872</td>\n",
       "      <td>pre</td>\n",
       "      <td>4838</td>\n",
       "      <td>23114</td>\n",
       "      <td>15146</td>\n",
       "      <td>LH(R)</td>\n",
       "      <td>0.990</td>\n",
       "    </tr>\n",
       "  </tbody>\n",
       "</table>\n",
       "</div>"
      ],
      "text/plain": [
       "   connector_id  node_id type     x      y      z    roi  confidence\n",
       "0             0     1436  pre  6444  21608  14516  LH(R)       0.959\n",
       "1             1     1436  pre  6457  21634  14474  LH(R)       0.997\n",
       "2             2     2638  pre  4728  23538  14179  LH(R)       0.886\n",
       "3             3     1441  pre  5296  22059  16048  LH(R)       0.967\n",
       "4             4     1872  pre  4838  23114  15146  LH(R)       0.990"
      ]
     },
     "execution_count": 3,
     "metadata": {},
     "output_type": "execute_result"
    }
   ],
   "source": [
    "n = navis.example_neurons(1)\n",
    "n.connectors.head()"
   ]
  },
  {
   "cell_type": "raw",
   "metadata": {
    "raw_mimetype": "text/restructuredtext",
    "tags": []
   },
   "source": [
    "Connector tables aren't just passive meta data: certain functions in ``navis`` make use of or even require them. The most obvious example is probably for plotting."
   ]
  },
  {
   "cell_type": "code",
   "execution_count": 23,
   "metadata": {},
   "outputs": [
    {
     "data": {
      "image/png": "[encoded data removed]",
      "text/plain": [
       "<Figure size 432x432 with 1 Axes>"
      ]
     },
     "metadata": {
      "needs_background": "light"
     },
     "output_type": "display_data"
    }
   ],
   "source": [
    "# Plot neuron including its connectors\n",
    "# Note we're increasing connector size and decreasing line width\n",
    "# to illustrate emphasize connectors\n",
    "fig, ax = navis.plot2d(n, connectors=True, color='k', cn_size=10, lw=.25)\n",
    "ax.dist = 5"
   ]
  },
  {
   "cell_type": "raw",
   "metadata": {
    "raw_mimetype": "text/restructuredtext",
    "tags": []
   },
   "source": [
    "In above plot, red are presynapses (outputs) and cyan are postsynapses (inputs).\n",
    "\n",
    "\n",
    "Somas\n",
    "+++++\n",
    "Unless a neuron is truncated, it should have a soma somewhere. Knowing where the soma is can be very useful, e.g. as point of reference for distance calculations or for plotting. Therefore, ``navis`` have a ``.soma`` property:"
   ]
  },
  {
   "cell_type": "code",
   "execution_count": 24,
   "metadata": {},
   "outputs": [
    {
     "data": {
      "text/plain": [
       "array([4177], dtype=int32)"
      ]
     },
     "execution_count": 24,
     "metadata": {},
     "output_type": "execute_result"
    }
   ],
   "source": [
    "n = navis.example_neurons(1)\n",
    "n.soma"
   ]
  },
  {
   "cell_type": "raw",
   "metadata": {
    "raw_mimetype": "text/restructuredtext",
    "tags": []
   },
   "source": [
    "In case of this exemplary :class:`~navis.TreeNeuron`, the ``.soma`` points to an ID in the node table. We can also get the position:"
   ]
  },
  {
   "cell_type": "code",
   "execution_count": 25,
   "metadata": {},
   "outputs": [
    {
     "data": {
      "text/plain": [
       "array([[14957.1, 36540.7, 28432.4]], dtype=float32)"
      ]
     },
     "execution_count": 25,
     "metadata": {},
     "output_type": "execute_result"
    }
   ],
   "source": [
    "n.soma_pos"
   ]
  },
  {
   "cell_type": "raw",
   "metadata": {
    "raw_mimetype": "text/restructuredtext",
    "tags": []
   },
   "source": [
    "Other neuron types also support soma annotations but they may look slightly different. For a :class:`~navis.MeshNeuron` annotating a node position makes little sense. Instead, we track the x/y/z position directly:"
   ]
  },
  {
   "cell_type": "code",
   "execution_count": 29,
   "metadata": {
    "raw_mimetype": "text/restructuredtext",
    "tags": []
   },
   "outputs": [
    {
     "data": {
      "text/plain": [
       "[14957.1, 36540.7, 28432.4]"
      ]
     },
     "execution_count": 29,
     "metadata": {},
     "output_type": "execute_result"
    }
   ],
   "source": [
    "m = navis.example_neurons(1, kind='mesh')\n",
    "m.soma_pos"
   ]
  },
  {
   "cell_type": "raw",
   "metadata": {
    "raw_mimetype": "text/restructuredtext",
    "tags": []
   },
   "source": [
    "For the record: ``.soma`` / ``.soma_pos`` can be set manually like any other property (there are some checks and balances to avoid issues) and can also be ``None``:"
   ]
  },
  {
   "cell_type": "code",
   "execution_count": 32,
   "metadata": {},
   "outputs": [
    {
     "data": {
      "text/plain": [
       "1"
      ]
     },
     "execution_count": 32,
     "metadata": {},
     "output_type": "execute_result"
    }
   ],
   "source": [
    "# Set the skeleton's soma on node with ID 1\n",
    "n.soma = 1\n",
    "n.soma"
   ]
  },
  {
   "cell_type": "code",
   "execution_count": 33,
   "metadata": {},
   "outputs": [],
   "source": [
    "# Drop soma from MeshNeuron \n",
    "m.soma_pos = None"
   ]
  },
  {
   "cell_type": "raw",
   "metadata": {
    "raw_mimetype": "text/restructuredtext",
    "tags": []
   },
   "source": [
    "Lists of Neurons\n",
    "================\n",
    "\n",
    "Multiple neurons are typically collected in a :class:`~navis.NeuronList` as container:"
   ]
  },
  {
   "cell_type": "code",
   "execution_count": 6,
   "metadata": {},
   "outputs": [
    {
     "data": {
      "text/html": [
       "&lt;class 'navis.core.neuronlist.NeuronList'&gt; containing 3 neurons (875.1KiB)<div>\n",
       "<style scoped>\n",
       "    .dataframe tbody tr th:only-of-type {\n",
       "        vertical-align: middle;\n",
       "    }\n",
       "\n",
       "    .dataframe tbody tr th {\n",
       "        vertical-align: top;\n",
       "    }\n",
       "\n",
       "    .dataframe thead th {\n",
       "        text-align: right;\n",
       "    }\n",
       "</style>\n",
       "<table border=\"1\" class=\"dataframe\">\n",
       "  <thead>\n",
       "    <tr style=\"text-align: right;\">\n",
       "      <th></th>\n",
       "      <th>type</th>\n",
       "      <th>name</th>\n",
       "      <th>id</th>\n",
       "      <th>n_nodes</th>\n",
       "      <th>n_connectors</th>\n",
       "      <th>n_branches</th>\n",
       "      <th>n_leafs</th>\n",
       "      <th>cable_length</th>\n",
       "      <th>soma</th>\n",
       "      <th>units</th>\n",
       "    </tr>\n",
       "  </thead>\n",
       "  <tbody>\n",
       "    <tr>\n",
       "      <th>0</th>\n",
       "      <td>navis.TreeNeuron</td>\n",
       "      <td>DA1_lPN_R</td>\n",
       "      <td>1734350788</td>\n",
       "      <td>4465</td>\n",
       "      <td>2705</td>\n",
       "      <td>599</td>\n",
       "      <td>618</td>\n",
       "      <td>266476.87500</td>\n",
       "      <td>[4177]</td>\n",
       "      <td>8 nanometer</td>\n",
       "    </tr>\n",
       "    <tr>\n",
       "      <th>1</th>\n",
       "      <td>navis.TreeNeuron</td>\n",
       "      <td>DA1_lPN_R</td>\n",
       "      <td>1734350908</td>\n",
       "      <td>4847</td>\n",
       "      <td>3042</td>\n",
       "      <td>735</td>\n",
       "      <td>761</td>\n",
       "      <td>304332.65625</td>\n",
       "      <td>[6]</td>\n",
       "      <td>8 nanometer</td>\n",
       "    </tr>\n",
       "    <tr>\n",
       "      <th>2</th>\n",
       "      <td>navis.TreeNeuron</td>\n",
       "      <td>DA1_lPN_R</td>\n",
       "      <td>722817260</td>\n",
       "      <td>4332</td>\n",
       "      <td>3136</td>\n",
       "      <td>633</td>\n",
       "      <td>656</td>\n",
       "      <td>274703.37500</td>\n",
       "      <td>None</td>\n",
       "      <td>8 nanometer</td>\n",
       "    </tr>\n",
       "  </tbody>\n",
       "</table>\n",
       "</div>"
      ],
      "text/plain": [
       "<class 'navis.core.neuronlist.NeuronList'> containing 3 neurons (875.1KiB)\n",
       "               type       name          id  n_nodes  n_connectors  n_branches  \\\n",
       "0  navis.TreeNeuron  DA1_lPN_R  1734350788     4465          2705         599   \n",
       "1  navis.TreeNeuron  DA1_lPN_R  1734350908     4847          3042         735   \n",
       "2  navis.TreeNeuron  DA1_lPN_R   722817260     4332          3136         633   \n",
       "\n",
       "   n_leafs  cable_length    soma        units  \n",
       "0      618  266476.87500  [4177]  8 nanometer  \n",
       "1      761  304332.65625     [6]  8 nanometer  \n",
       "2      656  274703.37500    None  8 nanometer  "
      ]
     },
     "execution_count": 6,
     "metadata": {},
     "output_type": "execute_result"
    }
   ],
   "source": [
    "# Grab three example TreeNeurons\n",
    "nl = navis.example_neurons(n=3)\n",
    "nl"
   ]
  },
  {
   "cell_type": "raw",
   "metadata": {
    "raw_mimetype": "text/restructuredtext"
   },
   "source": [
    "A :class:`~navis.NeuronList` works similar to normal lists with a bunch of additional perks:"
   ]
  },
  {
   "cell_type": "code",
   "execution_count": 7,
   "metadata": {},
   "outputs": [
    {
     "data": {
      "text/html": [
       "<div>\n",
       "<style scoped>\n",
       "    .dataframe tbody tr th:only-of-type {\n",
       "        vertical-align: middle;\n",
       "    }\n",
       "\n",
       "    .dataframe tbody tr th {\n",
       "        vertical-align: top;\n",
       "    }\n",
       "\n",
       "    .dataframe thead th {\n",
       "        text-align: right;\n",
       "    }\n",
       "</style>\n",
       "<table border=\"1\" class=\"dataframe\">\n",
       "  <thead>\n",
       "    <tr style=\"text-align: right;\">\n",
       "      <th></th>\n",
       "      <th></th>\n",
       "    </tr>\n",
       "  </thead>\n",
       "  <tbody>\n",
       "    <tr>\n",
       "      <th>type</th>\n",
       "      <td>navis.TreeNeuron</td>\n",
       "    </tr>\n",
       "    <tr>\n",
       "      <th>name</th>\n",
       "      <td>DA1_lPN_R</td>\n",
       "    </tr>\n",
       "    <tr>\n",
       "      <th>id</th>\n",
       "      <td>1734350788</td>\n",
       "    </tr>\n",
       "    <tr>\n",
       "      <th>n_nodes</th>\n",
       "      <td>4465</td>\n",
       "    </tr>\n",
       "    <tr>\n",
       "      <th>n_connectors</th>\n",
       "      <td>2705</td>\n",
       "    </tr>\n",
       "    <tr>\n",
       "      <th>n_branches</th>\n",
       "      <td>599</td>\n",
       "    </tr>\n",
       "    <tr>\n",
       "      <th>n_leafs</th>\n",
       "      <td>618</td>\n",
       "    </tr>\n",
       "    <tr>\n",
       "      <th>cable_length</th>\n",
       "      <td>266476.875</td>\n",
       "    </tr>\n",
       "    <tr>\n",
       "      <th>soma</th>\n",
       "      <td>[4177]</td>\n",
       "    </tr>\n",
       "    <tr>\n",
       "      <th>units</th>\n",
       "      <td>8 nanometer</td>\n",
       "    </tr>\n",
       "  </tbody>\n",
       "</table>\n",
       "</div>"
      ],
      "text/plain": [
       "type            navis.TreeNeuron\n",
       "name                   DA1_lPN_R\n",
       "id                    1734350788\n",
       "n_nodes                     4465\n",
       "n_connectors                2705\n",
       "n_branches                   599\n",
       "n_leafs                      618\n",
       "cable_length          266476.875\n",
       "soma                      [4177]\n",
       "units                8 nanometer\n",
       "dtype: object"
      ]
     },
     "execution_count": 7,
     "metadata": {},
     "output_type": "execute_result"
    }
   ],
   "source": [
    "# Get the first neuron in the list\n",
    "nl[0]"
   ]
  },
  {
   "cell_type": "raw",
   "metadata": {
    "raw_mimetype": "text/restructuredtext"
   },
   "source": [
    "They also allow easy and fast access to data and across all neurons:"
   ]
  },
  {
   "cell_type": "code",
   "execution_count": 12,
   "metadata": {},
   "outputs": [
    {
     "data": {
      "text/plain": [
       "4465"
      ]
     },
     "execution_count": 12,
     "metadata": {},
     "output_type": "execute_result"
    }
   ],
   "source": [
    "# Get the number of nodes in the first skeleton\n",
    "nl[0].n_nodes"
   ]
  },
  {
   "cell_type": "code",
   "execution_count": 13,
   "metadata": {},
   "outputs": [
    {
     "data": {
      "text/plain": [
       "array([4465, 4847, 4332])"
      ]
     },
     "execution_count": 13,
     "metadata": {},
     "output_type": "execute_result"
    }
   ],
   "source": [
    "# Use the neuronlist to collect number of nodes across all neurons\n",
    "nl.n_nodes"
   ]
  },
  {
   "cell_type": "code",
   "execution_count": 14,
   "metadata": {},
   "outputs": [
    {
     "data": {
      "text/plain": [
       "array([266476.88, 304332.66, 274703.38], dtype=float32)"
      ]
     },
     "execution_count": 14,
     "metadata": {},
     "output_type": "execute_result"
    }
   ],
   "source": [
    "# Works on any neuron attribute\n",
    "nl.cable_length"
   ]
  },
  {
   "cell_type": "raw",
   "metadata": {
    "raw_mimetype": "text/restructuredtext"
   },
   "source": [
    "In addition to these **attributes**, both :class:`~navis.TreeNeuron` and :class:`~navis.NeuronList` have shortcuts (called **methods**) to other ``navis`` functions. These lines of code are equivalent:"
   ]
  },
  {
   "cell_type": "markdown",
   "metadata": {},
   "source": [
    "```python\n",
    "sk.reroot(sk.soma, inplace=True)\n",
    "navis.reroot_skeleton(sk, sk.soma, inplace=True)\n",
    "```"
   ]
  },
  {
   "cell_type": "markdown",
   "metadata": {},
   "source": [
    "```python\n",
    "sk.plot3d(color='red')\n",
    "navis.plot3d(sk, color='red')\n",
    "```"
   ]
  },
  {
   "cell_type": "markdown",
   "metadata": {},
   "source": [
    "```python\n",
    "lh = navis.example_volume('LH')\n",
    "sk.prune_by_volume(lh, inplace=True)\n",
    "navis.in_volume(sk, lh, inplace=True)\n",
    "```"
   ]
  },
  {
   "cell_type": "raw",
   "metadata": {
    "raw_mimetype": "text/restructuredtext"
   },
   "source": [
    ".. note::\n",
    "\n",
    "   The ``inplace`` parameter is part of many ``navis`` functions and works like e.g. in the pandas library:\n",
    "    - if ``inplace=True`` operations are performed on the original\n",
    "    - if ``inplace=False`` (default) operations are performed on a copy of the original which is then returned"
   ]
  },
  {
   "cell_type": "code",
   "execution_count": 18,
   "metadata": {},
   "outputs": [
    {
     "name": "stdout",
     "output_type": "stream",
     "text": [
      "4465 nodes before and 344 nodes after pruning\n"
     ]
    }
   ],
   "source": [
    "# Load a neuron\n",
    "n = navis.example_neurons(1)\n",
    "# Load an example neuropil\n",
    "lh = navis.example_volume('LH')\n",
    "\n",
    "# Prune neuron to neurpil but leave original intact\n",
    "n_lh = n.prune_by_volume(lh, inplace=False)\n",
    "\n",
    "print(f'{n.n_nodes} nodes before and {n_lh.n_nodes} nodes after pruning')"
   ]
  },
  {
   "cell_type": "raw",
   "metadata": {
    "raw_mimetype": "text/restructuredtext"
   },
   "source": [
    ".. _index_neuronlists:\n",
    "\n",
    "Index by position\n",
    "+++++++++++++++++\n",
    "\n",
    ":class:`~navis.NeuronList` are designed to behave similar to numpy arrays in that they allow some fancing\n",
    "indexing.\n",
    "\n",
    "You've already seen how to extract a single neuron from a :class:`~navis.NeuronList` using a single integer index. Like for numpy arrays, this also works for list of indices..."
   ]
  },
  {
   "cell_type": "code",
   "execution_count": 8,
   "metadata": {},
   "outputs": [
    {
     "data": {
      "text/html": [
       "&lt;class 'navis.core.neuronlist.NeuronList'&gt; containing 2 neurons (571.4KiB)<div>\n",
       "<style scoped>\n",
       "    .dataframe tbody tr th:only-of-type {\n",
       "        vertical-align: middle;\n",
       "    }\n",
       "\n",
       "    .dataframe tbody tr th {\n",
       "        vertical-align: top;\n",
       "    }\n",
       "\n",
       "    .dataframe thead th {\n",
       "        text-align: right;\n",
       "    }\n",
       "</style>\n",
       "<table border=\"1\" class=\"dataframe\">\n",
       "  <thead>\n",
       "    <tr style=\"text-align: right;\">\n",
       "      <th></th>\n",
       "      <th>type</th>\n",
       "      <th>name</th>\n",
       "      <th>id</th>\n",
       "      <th>n_nodes</th>\n",
       "      <th>n_connectors</th>\n",
       "      <th>n_branches</th>\n",
       "      <th>n_leafs</th>\n",
       "      <th>cable_length</th>\n",
       "      <th>soma</th>\n",
       "      <th>units</th>\n",
       "    </tr>\n",
       "  </thead>\n",
       "  <tbody>\n",
       "    <tr>\n",
       "      <th>0</th>\n",
       "      <td>navis.TreeNeuron</td>\n",
       "      <td>DA1_lPN_R</td>\n",
       "      <td>1734350788</td>\n",
       "      <td>4465</td>\n",
       "      <td>2705</td>\n",
       "      <td>599</td>\n",
       "      <td>618</td>\n",
       "      <td>266476.875</td>\n",
       "      <td>[4177]</td>\n",
       "      <td>8 nanometer</td>\n",
       "    </tr>\n",
       "    <tr>\n",
       "      <th>1</th>\n",
       "      <td>navis.TreeNeuron</td>\n",
       "      <td>DA1_lPN_R</td>\n",
       "      <td>722817260</td>\n",
       "      <td>4332</td>\n",
       "      <td>3136</td>\n",
       "      <td>633</td>\n",
       "      <td>656</td>\n",
       "      <td>274703.375</td>\n",
       "      <td>None</td>\n",
       "      <td>8 nanometer</td>\n",
       "    </tr>\n",
       "  </tbody>\n",
       "</table>\n",
       "</div>"
      ],
      "text/plain": [
       "<class 'navis.core.neuronlist.NeuronList'> containing 2 neurons (571.4KiB)\n",
       "               type       name          id  n_nodes  n_connectors  n_branches  \\\n",
       "0  navis.TreeNeuron  DA1_lPN_R  1734350788     4465          2705         599   \n",
       "1  navis.TreeNeuron  DA1_lPN_R   722817260     4332          3136         633   \n",
       "\n",
       "   n_leafs  cable_length    soma        units  \n",
       "0      618    266476.875  [4177]  8 nanometer  \n",
       "1      656    274703.375    None  8 nanometer  "
      ]
     },
     "execution_count": 8,
     "metadata": {},
     "output_type": "execute_result"
    }
   ],
   "source": [
    "nl = navis.example_neurons(n=3)\n",
    "\n",
    "nl[[0, 2]]"
   ]
  },
  {
   "cell_type": "raw",
   "metadata": {
    "raw_mimetype": "text/restructuredtext"
   },
   "source": [
    "... or slices"
   ]
  },
  {
   "cell_type": "code",
   "execution_count": 9,
   "metadata": {},
   "outputs": [
    {
     "data": {
      "text/html": [
       "&lt;class 'navis.core.neuronlist.NeuronList'&gt; containing 2 neurons (577.6KiB)<div>\n",
       "<style scoped>\n",
       "    .dataframe tbody tr th:only-of-type {\n",
       "        vertical-align: middle;\n",
       "    }\n",
       "\n",
       "    .dataframe tbody tr th {\n",
       "        vertical-align: top;\n",
       "    }\n",
       "\n",
       "    .dataframe thead th {\n",
       "        text-align: right;\n",
       "    }\n",
       "</style>\n",
       "<table border=\"1\" class=\"dataframe\">\n",
       "  <thead>\n",
       "    <tr style=\"text-align: right;\">\n",
       "      <th></th>\n",
       "      <th>type</th>\n",
       "      <th>name</th>\n",
       "      <th>id</th>\n",
       "      <th>n_nodes</th>\n",
       "      <th>n_connectors</th>\n",
       "      <th>n_branches</th>\n",
       "      <th>n_leafs</th>\n",
       "      <th>cable_length</th>\n",
       "      <th>soma</th>\n",
       "      <th>units</th>\n",
       "    </tr>\n",
       "  </thead>\n",
       "  <tbody>\n",
       "    <tr>\n",
       "      <th>0</th>\n",
       "      <td>navis.TreeNeuron</td>\n",
       "      <td>DA1_lPN_R</td>\n",
       "      <td>1734350788</td>\n",
       "      <td>4465</td>\n",
       "      <td>2705</td>\n",
       "      <td>599</td>\n",
       "      <td>618</td>\n",
       "      <td>266476.87500</td>\n",
       "      <td>[4177]</td>\n",
       "      <td>8 nanometer</td>\n",
       "    </tr>\n",
       "    <tr>\n",
       "      <th>1</th>\n",
       "      <td>navis.TreeNeuron</td>\n",
       "      <td>DA1_lPN_R</td>\n",
       "      <td>1734350908</td>\n",
       "      <td>4847</td>\n",
       "      <td>3042</td>\n",
       "      <td>735</td>\n",
       "      <td>761</td>\n",
       "      <td>304332.65625</td>\n",
       "      <td>[6]</td>\n",
       "      <td>8 nanometer</td>\n",
       "    </tr>\n",
       "  </tbody>\n",
       "</table>\n",
       "</div>"
      ],
      "text/plain": [
       "<class 'navis.core.neuronlist.NeuronList'> containing 2 neurons (577.6KiB)\n",
       "               type       name          id  n_nodes  n_connectors  n_branches  \\\n",
       "0  navis.TreeNeuron  DA1_lPN_R  1734350788     4465          2705         599   \n",
       "1  navis.TreeNeuron  DA1_lPN_R  1734350908     4847          3042         735   \n",
       "\n",
       "   n_leafs  cable_length    soma        units  \n",
       "0      618  266476.87500  [4177]  8 nanometer  \n",
       "1      761  304332.65625     [6]  8 nanometer  "
      ]
     },
     "execution_count": 9,
     "metadata": {},
     "output_type": "execute_result"
    }
   ],
   "source": [
    "nl[:2]"
   ]
  },
  {
   "cell_type": "raw",
   "metadata": {
    "raw_mimetype": "text/restructuredtext"
   },
   "source": [
    "Index by attributes\n",
    "+++++++++++++++++++\n",
    "\n",
    "You can index by :class:`~navis.NeuronList` by boolean ``numpy.arrays`` - that includes :class:`~navis.TreeNeuron` attributes, e.g. ``n_nodes``, ``cable_length``, ``soma``, etc.\n",
    "\n",
    "Index using node count:"
   ]
  },
  {
   "cell_type": "code",
   "execution_count": 10,
   "metadata": {},
   "outputs": [
    {
     "data": {
      "text/html": [
       "&lt;class 'navis.core.neuronlist.NeuronList'&gt; containing 1 neurons (303.8KiB)<div>\n",
       "<style scoped>\n",
       "    .dataframe tbody tr th:only-of-type {\n",
       "        vertical-align: middle;\n",
       "    }\n",
       "\n",
       "    .dataframe tbody tr th {\n",
       "        vertical-align: top;\n",
       "    }\n",
       "\n",
       "    .dataframe thead th {\n",
       "        text-align: right;\n",
       "    }\n",
       "</style>\n",
       "<table border=\"1\" class=\"dataframe\">\n",
       "  <thead>\n",
       "    <tr style=\"text-align: right;\">\n",
       "      <th></th>\n",
       "      <th>type</th>\n",
       "      <th>name</th>\n",
       "      <th>id</th>\n",
       "      <th>n_nodes</th>\n",
       "      <th>n_connectors</th>\n",
       "      <th>n_branches</th>\n",
       "      <th>n_leafs</th>\n",
       "      <th>cable_length</th>\n",
       "      <th>soma</th>\n",
       "      <th>units</th>\n",
       "    </tr>\n",
       "  </thead>\n",
       "  <tbody>\n",
       "    <tr>\n",
       "      <th>0</th>\n",
       "      <td>navis.TreeNeuron</td>\n",
       "      <td>DA1_lPN_R</td>\n",
       "      <td>1734350908</td>\n",
       "      <td>4847</td>\n",
       "      <td>3042</td>\n",
       "      <td>735</td>\n",
       "      <td>761</td>\n",
       "      <td>304332.65625</td>\n",
       "      <td>[6]</td>\n",
       "      <td>8 nanometer</td>\n",
       "    </tr>\n",
       "  </tbody>\n",
       "</table>\n",
       "</div>"
      ],
      "text/plain": [
       "<class 'navis.core.neuronlist.NeuronList'> containing 1 neurons (303.8KiB)\n",
       "               type       name          id  n_nodes  n_connectors  n_branches  \\\n",
       "0  navis.TreeNeuron  DA1_lPN_R  1734350908     4847          3042         735   \n",
       "\n",
       "   n_leafs  cable_length soma        units  \n",
       "0      761  304332.65625  [6]  8 nanometer  "
      ]
     },
     "execution_count": 10,
     "metadata": {},
     "output_type": "execute_result"
    }
   ],
   "source": [
    "subset = nl[nl.n_branches > 700]\n",
    "subset"
   ]
  },
  {
   "cell_type": "raw",
   "metadata": {
    "raw_mimetype": "text/restructuredtext"
   },
   "source": [
    "Here is an example where we subset to neurons that have a soma:"
   ]
  },
  {
   "cell_type": "code",
   "execution_count": 22,
   "metadata": {},
   "outputs": [
    {
     "data": {
      "text/plain": [
       "array([array([4177], dtype=int32), array([6], dtype=int32), None],\n",
       "      dtype=object)"
      ]
     },
     "execution_count": 22,
     "metadata": {},
     "output_type": "execute_result"
    }
   ],
   "source": [
    "nl.soma"
   ]
  },
  {
   "cell_type": "code",
   "execution_count": 23,
   "metadata": {},
   "outputs": [
    {
     "data": {
      "text/plain": [
       "array([ True,  True, False])"
      ]
     },
     "execution_count": 23,
     "metadata": {},
     "output_type": "execute_result"
    }
   ],
   "source": [
    "nl.soma != None"
   ]
  },
  {
   "cell_type": "code",
   "execution_count": 11,
   "metadata": {},
   "outputs": [
    {
     "data": {
      "text/html": [
       "&lt;class 'navis.core.neuronlist.NeuronList'&gt; containing 2 neurons (577.6KiB)<div>\n",
       "<style scoped>\n",
       "    .dataframe tbody tr th:only-of-type {\n",
       "        vertical-align: middle;\n",
       "    }\n",
       "\n",
       "    .dataframe tbody tr th {\n",
       "        vertical-align: top;\n",
       "    }\n",
       "\n",
       "    .dataframe thead th {\n",
       "        text-align: right;\n",
       "    }\n",
       "</style>\n",
       "<table border=\"1\" class=\"dataframe\">\n",
       "  <thead>\n",
       "    <tr style=\"text-align: right;\">\n",
       "      <th></th>\n",
       "      <th>type</th>\n",
       "      <th>name</th>\n",
       "      <th>id</th>\n",
       "      <th>n_nodes</th>\n",
       "      <th>n_connectors</th>\n",
       "      <th>n_branches</th>\n",
       "      <th>n_leafs</th>\n",
       "      <th>cable_length</th>\n",
       "      <th>soma</th>\n",
       "      <th>units</th>\n",
       "    </tr>\n",
       "  </thead>\n",
       "  <tbody>\n",
       "    <tr>\n",
       "      <th>0</th>\n",
       "      <td>navis.TreeNeuron</td>\n",
       "      <td>DA1_lPN_R</td>\n",
       "      <td>1734350788</td>\n",
       "      <td>4465</td>\n",
       "      <td>2705</td>\n",
       "      <td>599</td>\n",
       "      <td>618</td>\n",
       "      <td>266476.87500</td>\n",
       "      <td>[4177]</td>\n",
       "      <td>8 nanometer</td>\n",
       "    </tr>\n",
       "    <tr>\n",
       "      <th>1</th>\n",
       "      <td>navis.TreeNeuron</td>\n",
       "      <td>DA1_lPN_R</td>\n",
       "      <td>1734350908</td>\n",
       "      <td>4847</td>\n",
       "      <td>3042</td>\n",
       "      <td>735</td>\n",
       "      <td>761</td>\n",
       "      <td>304332.65625</td>\n",
       "      <td>[6]</td>\n",
       "      <td>8 nanometer</td>\n",
       "    </tr>\n",
       "  </tbody>\n",
       "</table>\n",
       "</div>"
      ],
      "text/plain": [
       "<class 'navis.core.neuronlist.NeuronList'> containing 2 neurons (577.6KiB)\n",
       "               type       name          id  n_nodes  n_connectors  n_branches  \\\n",
       "0  navis.TreeNeuron  DA1_lPN_R  1734350788     4465          2705         599   \n",
       "1  navis.TreeNeuron  DA1_lPN_R  1734350908     4847          3042         735   \n",
       "\n",
       "   n_leafs  cable_length    soma        units  \n",
       "0      618  266476.87500  [4177]  8 nanometer  \n",
       "1      761  304332.65625     [6]  8 nanometer  "
      ]
     },
     "execution_count": 11,
     "metadata": {},
     "output_type": "execute_result"
    }
   ],
   "source": [
    "subset = nl[nl.soma != None]\n",
    "subset"
   ]
  },
  {
   "cell_type": "raw",
   "metadata": {
    "raw_mimetype": "text/restructuredtext"
   },
   "source": [
    "Index by name\n",
    "+++++++++++++\n",
    "\n",
    ":class:`~navis.TreeNeuron` can (but don't have to) have names (``.name``). If you, for example, import neurons from SWC files they will inherit their name from the file by default.\n",
    "\n",
    "Our example neurons all have the same name, so to demo this feature we will need to make those names unique:"
   ]
  },
  {
   "cell_type": "code",
   "execution_count": 14,
   "metadata": {},
   "outputs": [
    {
     "data": {
      "text/html": [
       "&lt;class 'navis.core.neuronlist.NeuronList'&gt; containing 3 neurons (875.1KiB)<div>\n",
       "<style scoped>\n",
       "    .dataframe tbody tr th:only-of-type {\n",
       "        vertical-align: middle;\n",
       "    }\n",
       "\n",
       "    .dataframe tbody tr th {\n",
       "        vertical-align: top;\n",
       "    }\n",
       "\n",
       "    .dataframe thead th {\n",
       "        text-align: right;\n",
       "    }\n",
       "</style>\n",
       "<table border=\"1\" class=\"dataframe\">\n",
       "  <thead>\n",
       "    <tr style=\"text-align: right;\">\n",
       "      <th></th>\n",
       "      <th>type</th>\n",
       "      <th>name</th>\n",
       "      <th>id</th>\n",
       "      <th>n_nodes</th>\n",
       "      <th>n_connectors</th>\n",
       "      <th>n_branches</th>\n",
       "      <th>n_leafs</th>\n",
       "      <th>cable_length</th>\n",
       "      <th>soma</th>\n",
       "      <th>units</th>\n",
       "    </tr>\n",
       "  </thead>\n",
       "  <tbody>\n",
       "    <tr>\n",
       "      <th>0</th>\n",
       "      <td>navis.TreeNeuron</td>\n",
       "      <td>DA1_lPN_R1</td>\n",
       "      <td>1734350788</td>\n",
       "      <td>4465</td>\n",
       "      <td>2705</td>\n",
       "      <td>599</td>\n",
       "      <td>618</td>\n",
       "      <td>266476.87500</td>\n",
       "      <td>[4177]</td>\n",
       "      <td>8 nanometer</td>\n",
       "    </tr>\n",
       "    <tr>\n",
       "      <th>1</th>\n",
       "      <td>navis.TreeNeuron</td>\n",
       "      <td>DA1_lPN_R2</td>\n",
       "      <td>1734350908</td>\n",
       "      <td>4847</td>\n",
       "      <td>3042</td>\n",
       "      <td>735</td>\n",
       "      <td>761</td>\n",
       "      <td>304332.65625</td>\n",
       "      <td>[6]</td>\n",
       "      <td>8 nanometer</td>\n",
       "    </tr>\n",
       "    <tr>\n",
       "      <th>2</th>\n",
       "      <td>navis.TreeNeuron</td>\n",
       "      <td>DA1_lPN_R3</td>\n",
       "      <td>722817260</td>\n",
       "      <td>4332</td>\n",
       "      <td>3136</td>\n",
       "      <td>633</td>\n",
       "      <td>656</td>\n",
       "      <td>274703.37500</td>\n",
       "      <td>None</td>\n",
       "      <td>8 nanometer</td>\n",
       "    </tr>\n",
       "  </tbody>\n",
       "</table>\n",
       "</div>"
      ],
      "text/plain": [
       "<class 'navis.core.neuronlist.NeuronList'> containing 3 neurons (875.1KiB)\n",
       "               type        name          id  n_nodes  n_connectors  \\\n",
       "0  navis.TreeNeuron  DA1_lPN_R1  1734350788     4465          2705   \n",
       "1  navis.TreeNeuron  DA1_lPN_R2  1734350908     4847          3042   \n",
       "2  navis.TreeNeuron  DA1_lPN_R3   722817260     4332          3136   \n",
       "\n",
       "   n_branches  n_leafs  cable_length    soma        units  \n",
       "0         599      618  266476.87500  [4177]  8 nanometer  \n",
       "1         735      761  304332.65625     [6]  8 nanometer  \n",
       "2         633      656  274703.37500    None  8 nanometer  "
      ]
     },
     "execution_count": 14,
     "metadata": {},
     "output_type": "execute_result"
    }
   ],
   "source": [
    "for i, n in enumerate(nl):\n",
    "    n.name = n.name + str(i + 1)\n",
    "nl"
   ]
  },
  {
   "cell_type": "raw",
   "metadata": {
    "raw_mimetype": "text/restructuredtext",
    "tags": []
   },
   "source": [
    "You can index by single..."
   ]
  },
  {
   "cell_type": "code",
   "execution_count": 15,
   "metadata": {},
   "outputs": [
    {
     "data": {
      "text/html": [
       "&lt;class 'navis.core.neuronlist.NeuronList'&gt; containing 1 neurons (273.8KiB)<div>\n",
       "<style scoped>\n",
       "    .dataframe tbody tr th:only-of-type {\n",
       "        vertical-align: middle;\n",
       "    }\n",
       "\n",
       "    .dataframe tbody tr th {\n",
       "        vertical-align: top;\n",
       "    }\n",
       "\n",
       "    .dataframe thead th {\n",
       "        text-align: right;\n",
       "    }\n",
       "</style>\n",
       "<table border=\"1\" class=\"dataframe\">\n",
       "  <thead>\n",
       "    <tr style=\"text-align: right;\">\n",
       "      <th></th>\n",
       "      <th>type</th>\n",
       "      <th>name</th>\n",
       "      <th>id</th>\n",
       "      <th>n_nodes</th>\n",
       "      <th>n_connectors</th>\n",
       "      <th>n_branches</th>\n",
       "      <th>n_leafs</th>\n",
       "      <th>cable_length</th>\n",
       "      <th>soma</th>\n",
       "      <th>units</th>\n",
       "    </tr>\n",
       "  </thead>\n",
       "  <tbody>\n",
       "    <tr>\n",
       "      <th>0</th>\n",
       "      <td>navis.TreeNeuron</td>\n",
       "      <td>DA1_lPN_R1</td>\n",
       "      <td>1734350788</td>\n",
       "      <td>4465</td>\n",
       "      <td>2705</td>\n",
       "      <td>599</td>\n",
       "      <td>618</td>\n",
       "      <td>266476.875</td>\n",
       "      <td>[4177]</td>\n",
       "      <td>8 nanometer</td>\n",
       "    </tr>\n",
       "  </tbody>\n",
       "</table>\n",
       "</div>"
      ],
      "text/plain": [
       "<class 'navis.core.neuronlist.NeuronList'> containing 1 neurons (273.8KiB)\n",
       "               type        name          id  n_nodes  n_connectors  \\\n",
       "0  navis.TreeNeuron  DA1_lPN_R1  1734350788     4465          2705   \n",
       "\n",
       "   n_branches  n_leafs  cable_length    soma        units  \n",
       "0         599      618    266476.875  [4177]  8 nanometer  "
      ]
     },
     "execution_count": 15,
     "metadata": {},
     "output_type": "execute_result"
    }
   ],
   "source": [
    "nl['DA1_lPN_R1']"
   ]
  },
  {
   "cell_type": "raw",
   "metadata": {
    "raw_mimetype": "text/restructuredtext"
   },
   "source": [
    "... or multiple names:"
   ]
  },
  {
   "cell_type": "code",
   "execution_count": 16,
   "metadata": {},
   "outputs": [
    {
     "data": {
      "text/html": [
       "&lt;class 'navis.core.neuronlist.NeuronList'&gt; containing 2 neurons (577.6KiB)<div>\n",
       "<style scoped>\n",
       "    .dataframe tbody tr th:only-of-type {\n",
       "        vertical-align: middle;\n",
       "    }\n",
       "\n",
       "    .dataframe tbody tr th {\n",
       "        vertical-align: top;\n",
       "    }\n",
       "\n",
       "    .dataframe thead th {\n",
       "        text-align: right;\n",
       "    }\n",
       "</style>\n",
       "<table border=\"1\" class=\"dataframe\">\n",
       "  <thead>\n",
       "    <tr style=\"text-align: right;\">\n",
       "      <th></th>\n",
       "      <th>type</th>\n",
       "      <th>name</th>\n",
       "      <th>id</th>\n",
       "      <th>n_nodes</th>\n",
       "      <th>n_connectors</th>\n",
       "      <th>n_branches</th>\n",
       "      <th>n_leafs</th>\n",
       "      <th>cable_length</th>\n",
       "      <th>soma</th>\n",
       "      <th>units</th>\n",
       "    </tr>\n",
       "  </thead>\n",
       "  <tbody>\n",
       "    <tr>\n",
       "      <th>0</th>\n",
       "      <td>navis.TreeNeuron</td>\n",
       "      <td>DA1_lPN_R1</td>\n",
       "      <td>1734350788</td>\n",
       "      <td>4465</td>\n",
       "      <td>2705</td>\n",
       "      <td>599</td>\n",
       "      <td>618</td>\n",
       "      <td>266476.87500</td>\n",
       "      <td>[4177]</td>\n",
       "      <td>8 nanometer</td>\n",
       "    </tr>\n",
       "    <tr>\n",
       "      <th>1</th>\n",
       "      <td>navis.TreeNeuron</td>\n",
       "      <td>DA1_lPN_R2</td>\n",
       "      <td>1734350908</td>\n",
       "      <td>4847</td>\n",
       "      <td>3042</td>\n",
       "      <td>735</td>\n",
       "      <td>761</td>\n",
       "      <td>304332.65625</td>\n",
       "      <td>[6]</td>\n",
       "      <td>8 nanometer</td>\n",
       "    </tr>\n",
       "  </tbody>\n",
       "</table>\n",
       "</div>"
      ],
      "text/plain": [
       "<class 'navis.core.neuronlist.NeuronList'> containing 2 neurons (577.6KiB)\n",
       "               type        name          id  n_nodes  n_connectors  \\\n",
       "0  navis.TreeNeuron  DA1_lPN_R1  1734350788     4465          2705   \n",
       "1  navis.TreeNeuron  DA1_lPN_R2  1734350908     4847          3042   \n",
       "\n",
       "   n_branches  n_leafs  cable_length    soma        units  \n",
       "0         599      618  266476.87500  [4177]  8 nanometer  \n",
       "1         735      761  304332.65625     [6]  8 nanometer  "
      ]
     },
     "execution_count": 16,
     "metadata": {},
     "output_type": "execute_result"
    }
   ],
   "source": [
    "nl[['DA1_lPN_R1', 'DA1_lPN_R2']]"
   ]
  },
  {
   "cell_type": "raw",
   "metadata": {
    "raw_mimetype": "text/restructuredtext"
   },
   "source": [
    "Using regex\n",
    "***********\n",
    "\n",
    "Under the hood ``navis`` uses ``re.fullmatch`` to match neuron names - so you can use regex!"
   ]
  },
  {
   "cell_type": "code",
   "execution_count": 17,
   "metadata": {},
   "outputs": [
    {
     "data": {
      "text/html": [
       "&lt;class 'navis.core.neuronlist.NeuronList'&gt; containing 3 neurons (875.1KiB)<div>\n",
       "<style scoped>\n",
       "    .dataframe tbody tr th:only-of-type {\n",
       "        vertical-align: middle;\n",
       "    }\n",
       "\n",
       "    .dataframe tbody tr th {\n",
       "        vertical-align: top;\n",
       "    }\n",
       "\n",
       "    .dataframe thead th {\n",
       "        text-align: right;\n",
       "    }\n",
       "</style>\n",
       "<table border=\"1\" class=\"dataframe\">\n",
       "  <thead>\n",
       "    <tr style=\"text-align: right;\">\n",
       "      <th></th>\n",
       "      <th>type</th>\n",
       "      <th>name</th>\n",
       "      <th>id</th>\n",
       "      <th>n_nodes</th>\n",
       "      <th>n_connectors</th>\n",
       "      <th>n_branches</th>\n",
       "      <th>n_leafs</th>\n",
       "      <th>cable_length</th>\n",
       "      <th>soma</th>\n",
       "      <th>units</th>\n",
       "    </tr>\n",
       "  </thead>\n",
       "  <tbody>\n",
       "    <tr>\n",
       "      <th>0</th>\n",
       "      <td>navis.TreeNeuron</td>\n",
       "      <td>DA1_lPN_R1</td>\n",
       "      <td>1734350788</td>\n",
       "      <td>4465</td>\n",
       "      <td>2705</td>\n",
       "      <td>599</td>\n",
       "      <td>618</td>\n",
       "      <td>266476.87500</td>\n",
       "      <td>[4177]</td>\n",
       "      <td>8 nanometer</td>\n",
       "    </tr>\n",
       "    <tr>\n",
       "      <th>1</th>\n",
       "      <td>navis.TreeNeuron</td>\n",
       "      <td>DA1_lPN_R2</td>\n",
       "      <td>1734350908</td>\n",
       "      <td>4847</td>\n",
       "      <td>3042</td>\n",
       "      <td>735</td>\n",
       "      <td>761</td>\n",
       "      <td>304332.65625</td>\n",
       "      <td>[6]</td>\n",
       "      <td>8 nanometer</td>\n",
       "    </tr>\n",
       "    <tr>\n",
       "      <th>2</th>\n",
       "      <td>navis.TreeNeuron</td>\n",
       "      <td>DA1_lPN_R3</td>\n",
       "      <td>722817260</td>\n",
       "      <td>4332</td>\n",
       "      <td>3136</td>\n",
       "      <td>633</td>\n",
       "      <td>656</td>\n",
       "      <td>274703.37500</td>\n",
       "      <td>None</td>\n",
       "      <td>8 nanometer</td>\n",
       "    </tr>\n",
       "  </tbody>\n",
       "</table>\n",
       "</div>"
      ],
      "text/plain": [
       "<class 'navis.core.neuronlist.NeuronList'> containing 3 neurons (875.1KiB)\n",
       "               type        name          id  n_nodes  n_connectors  \\\n",
       "0  navis.TreeNeuron  DA1_lPN_R1  1734350788     4465          2705   \n",
       "1  navis.TreeNeuron  DA1_lPN_R2  1734350908     4847          3042   \n",
       "2  navis.TreeNeuron  DA1_lPN_R3   722817260     4332          3136   \n",
       "\n",
       "   n_branches  n_leafs  cable_length    soma        units  \n",
       "0         599      618  266476.87500  [4177]  8 nanometer  \n",
       "1         735      761  304332.65625     [6]  8 nanometer  \n",
       "2         633      656  274703.37500    None  8 nanometer  "
      ]
     },
     "execution_count": 17,
     "metadata": {},
     "output_type": "execute_result"
    }
   ],
   "source": [
    "nl['.*DA1.*']"
   ]
  },
  {
   "cell_type": "raw",
   "metadata": {
    "raw_mimetype": "text/restructuredtext"
   },
   "source": [
    "Index by ID\n",
    "+++++++++++\n",
    "\n",
    "All neurons have an ID - even if you don't explicitly assign one, a UUID will assigned under the hood. "
   ]
  },
  {
   "cell_type": "code",
   "execution_count": 18,
   "metadata": {},
   "outputs": [
    {
     "data": {
      "text/plain": [
       "1734350788"
      ]
     },
     "execution_count": 18,
     "metadata": {},
     "output_type": "execute_result"
    }
   ],
   "source": [
    "nl[0].id"
   ]
  },
  {
   "cell_type": "raw",
   "metadata": {
    "raw_mimetype": "text/restructuredtext"
   },
   "source": [
    "Neuron lists can be indexed by their ID (similar to ``.loc[]`` in pandas DataFrames) by using the ``.idx`` indexer:"
   ]
  },
  {
   "cell_type": "code",
   "execution_count": 19,
   "metadata": {},
   "outputs": [
    {
     "data": {
      "text/html": [
       "<div>\n",
       "<style scoped>\n",
       "    .dataframe tbody tr th:only-of-type {\n",
       "        vertical-align: middle;\n",
       "    }\n",
       "\n",
       "    .dataframe tbody tr th {\n",
       "        vertical-align: top;\n",
       "    }\n",
       "\n",
       "    .dataframe thead th {\n",
       "        text-align: right;\n",
       "    }\n",
       "</style>\n",
       "<table border=\"1\" class=\"dataframe\">\n",
       "  <thead>\n",
       "    <tr style=\"text-align: right;\">\n",
       "      <th></th>\n",
       "      <th></th>\n",
       "    </tr>\n",
       "  </thead>\n",
       "  <tbody>\n",
       "    <tr>\n",
       "      <th>type</th>\n",
       "      <td>navis.TreeNeuron</td>\n",
       "    </tr>\n",
       "    <tr>\n",
       "      <th>name</th>\n",
       "      <td>DA1_lPN_R2</td>\n",
       "    </tr>\n",
       "    <tr>\n",
       "      <th>id</th>\n",
       "      <td>1734350908</td>\n",
       "    </tr>\n",
       "    <tr>\n",
       "      <th>n_nodes</th>\n",
       "      <td>4847</td>\n",
       "    </tr>\n",
       "    <tr>\n",
       "      <th>n_connectors</th>\n",
       "      <td>3042</td>\n",
       "    </tr>\n",
       "    <tr>\n",
       "      <th>n_branches</th>\n",
       "      <td>735</td>\n",
       "    </tr>\n",
       "    <tr>\n",
       "      <th>n_leafs</th>\n",
       "      <td>761</td>\n",
       "    </tr>\n",
       "    <tr>\n",
       "      <th>cable_length</th>\n",
       "      <td>304332.65625</td>\n",
       "    </tr>\n",
       "    <tr>\n",
       "      <th>soma</th>\n",
       "      <td>[6]</td>\n",
       "    </tr>\n",
       "    <tr>\n",
       "      <th>units</th>\n",
       "      <td>8 nanometer</td>\n",
       "    </tr>\n",
       "  </tbody>\n",
       "</table>\n",
       "</div>"
      ],
      "text/plain": [
       "type            navis.TreeNeuron\n",
       "name                  DA1_lPN_R2\n",
       "id                    1734350908\n",
       "n_nodes                     4847\n",
       "n_connectors                3042\n",
       "n_branches                   735\n",
       "n_leafs                      761\n",
       "cable_length        304332.65625\n",
       "soma                         [6]\n",
       "units                8 nanometer\n",
       "dtype: object"
      ]
     },
     "execution_count": 19,
     "metadata": {},
     "output_type": "execute_result"
    }
   ],
   "source": [
    "nl.idx[1734350908]"
   ]
  },
  {
   "cell_type": "raw",
   "metadata": {
    "raw_mimetype": "text/restructuredtext"
   },
   "source": [
    ".. _neuron_math:\n",
    "\n",
    "Neuron Math\n",
    "===========\n",
    "``navis`` implements a very simple and intuitive syntax to add and remove items from a NeuronList:\n",
    "\n",
    "Addition\n",
    "++++++++\n",
    "To merge two lists in Python, you can simply add them:"
   ]
  },
  {
   "cell_type": "code",
   "execution_count": 32,
   "metadata": {},
   "outputs": [
    {
     "data": {
      "text/plain": [
       "[1, 3]"
      ]
     },
     "execution_count": 32,
     "metadata": {},
     "output_type": "execute_result"
    }
   ],
   "source": [
    "[1] + [3]"
   ]
  },
  {
   "cell_type": "raw",
   "metadata": {
    "raw_mimetype": "text/restructuredtext"
   },
   "source": [
    ":class:`~navis.NeuronList` works exactly the same:"
   ]
  },
  {
   "cell_type": "code",
   "execution_count": 20,
   "metadata": {},
   "outputs": [
    {
     "data": {
      "text/html": [
       "&lt;class 'navis.core.neuronlist.NeuronList'&gt; containing 3 neurons (875.1KiB)<div>\n",
       "<style scoped>\n",
       "    .dataframe tbody tr th:only-of-type {\n",
       "        vertical-align: middle;\n",
       "    }\n",
       "\n",
       "    .dataframe tbody tr th {\n",
       "        vertical-align: top;\n",
       "    }\n",
       "\n",
       "    .dataframe thead th {\n",
       "        text-align: right;\n",
       "    }\n",
       "</style>\n",
       "<table border=\"1\" class=\"dataframe\">\n",
       "  <thead>\n",
       "    <tr style=\"text-align: right;\">\n",
       "      <th></th>\n",
       "      <th>type</th>\n",
       "      <th>name</th>\n",
       "      <th>id</th>\n",
       "      <th>n_nodes</th>\n",
       "      <th>n_connectors</th>\n",
       "      <th>n_branches</th>\n",
       "      <th>n_leafs</th>\n",
       "      <th>cable_length</th>\n",
       "      <th>soma</th>\n",
       "      <th>units</th>\n",
       "    </tr>\n",
       "  </thead>\n",
       "  <tbody>\n",
       "    <tr>\n",
       "      <th>0</th>\n",
       "      <td>navis.TreeNeuron</td>\n",
       "      <td>DA1_lPN_R1</td>\n",
       "      <td>1734350788</td>\n",
       "      <td>4465</td>\n",
       "      <td>2705</td>\n",
       "      <td>599</td>\n",
       "      <td>618</td>\n",
       "      <td>266476.87500</td>\n",
       "      <td>[4177]</td>\n",
       "      <td>8 nanometer</td>\n",
       "    </tr>\n",
       "    <tr>\n",
       "      <th>1</th>\n",
       "      <td>navis.TreeNeuron</td>\n",
       "      <td>DA1_lPN_R2</td>\n",
       "      <td>1734350908</td>\n",
       "      <td>4847</td>\n",
       "      <td>3042</td>\n",
       "      <td>735</td>\n",
       "      <td>761</td>\n",
       "      <td>304332.65625</td>\n",
       "      <td>[6]</td>\n",
       "      <td>8 nanometer</td>\n",
       "    </tr>\n",
       "    <tr>\n",
       "      <th>2</th>\n",
       "      <td>navis.TreeNeuron</td>\n",
       "      <td>DA1_lPN_R3</td>\n",
       "      <td>722817260</td>\n",
       "      <td>4332</td>\n",
       "      <td>3136</td>\n",
       "      <td>633</td>\n",
       "      <td>656</td>\n",
       "      <td>274703.37500</td>\n",
       "      <td>None</td>\n",
       "      <td>8 nanometer</td>\n",
       "    </tr>\n",
       "  </tbody>\n",
       "</table>\n",
       "</div>"
      ],
      "text/plain": [
       "<class 'navis.core.neuronlist.NeuronList'> containing 3 neurons (875.1KiB)\n",
       "               type        name          id  n_nodes  n_connectors  \\\n",
       "0  navis.TreeNeuron  DA1_lPN_R1  1734350788     4465          2705   \n",
       "1  navis.TreeNeuron  DA1_lPN_R2  1734350908     4847          3042   \n",
       "2  navis.TreeNeuron  DA1_lPN_R3   722817260     4332          3136   \n",
       "\n",
       "   n_branches  n_leafs  cable_length    soma        units  \n",
       "0         599      618  266476.87500  [4177]  8 nanometer  \n",
       "1         735      761  304332.65625     [6]  8 nanometer  \n",
       "2         633      656  274703.37500    None  8 nanometer  "
      ]
     },
     "execution_count": 20,
     "metadata": {},
     "output_type": "execute_result"
    }
   ],
   "source": [
    "nl[:2] + nl[2:]"
   ]
  },
  {
   "cell_type": "raw",
   "metadata": {
    "raw_mimetype": "text/restructuredtext"
   },
   "source": [
    "This also works on with two single :class:`~navis.TreeNeurons`! You can use that to combine them into a list:"
   ]
  },
  {
   "cell_type": "code",
   "execution_count": 21,
   "metadata": {},
   "outputs": [
    {
     "data": {
      "text/html": [
       "&lt;class 'navis.core.neuronlist.NeuronList'&gt; containing 2 neurons (577.6KiB)<div>\n",
       "<style scoped>\n",
       "    .dataframe tbody tr th:only-of-type {\n",
       "        vertical-align: middle;\n",
       "    }\n",
       "\n",
       "    .dataframe tbody tr th {\n",
       "        vertical-align: top;\n",
       "    }\n",
       "\n",
       "    .dataframe thead th {\n",
       "        text-align: right;\n",
       "    }\n",
       "</style>\n",
       "<table border=\"1\" class=\"dataframe\">\n",
       "  <thead>\n",
       "    <tr style=\"text-align: right;\">\n",
       "      <th></th>\n",
       "      <th>type</th>\n",
       "      <th>name</th>\n",
       "      <th>id</th>\n",
       "      <th>n_nodes</th>\n",
       "      <th>n_connectors</th>\n",
       "      <th>n_branches</th>\n",
       "      <th>n_leafs</th>\n",
       "      <th>cable_length</th>\n",
       "      <th>soma</th>\n",
       "      <th>units</th>\n",
       "    </tr>\n",
       "  </thead>\n",
       "  <tbody>\n",
       "    <tr>\n",
       "      <th>0</th>\n",
       "      <td>navis.TreeNeuron</td>\n",
       "      <td>DA1_lPN_R1</td>\n",
       "      <td>1734350788</td>\n",
       "      <td>4465</td>\n",
       "      <td>2705</td>\n",
       "      <td>599</td>\n",
       "      <td>618</td>\n",
       "      <td>266476.87500</td>\n",
       "      <td>[4177]</td>\n",
       "      <td>8 nanometer</td>\n",
       "    </tr>\n",
       "    <tr>\n",
       "      <th>1</th>\n",
       "      <td>navis.TreeNeuron</td>\n",
       "      <td>DA1_lPN_R2</td>\n",
       "      <td>1734350908</td>\n",
       "      <td>4847</td>\n",
       "      <td>3042</td>\n",
       "      <td>735</td>\n",
       "      <td>761</td>\n",
       "      <td>304332.65625</td>\n",
       "      <td>[6]</td>\n",
       "      <td>8 nanometer</td>\n",
       "    </tr>\n",
       "  </tbody>\n",
       "</table>\n",
       "</div>"
      ],
      "text/plain": [
       "<class 'navis.core.neuronlist.NeuronList'> containing 2 neurons (577.6KiB)\n",
       "               type        name          id  n_nodes  n_connectors  \\\n",
       "0  navis.TreeNeuron  DA1_lPN_R1  1734350788     4465          2705   \n",
       "1  navis.TreeNeuron  DA1_lPN_R2  1734350908     4847          3042   \n",
       "\n",
       "   n_branches  n_leafs  cable_length    soma        units  \n",
       "0         599      618  266476.87500  [4177]  8 nanometer  \n",
       "1         735      761  304332.65625     [6]  8 nanometer  "
      ]
     },
     "execution_count": 21,
     "metadata": {},
     "output_type": "execute_result"
    }
   ],
   "source": [
    "nl[0] + nl[1]"
   ]
  },
  {
   "cell_type": "raw",
   "metadata": {
    "raw_mimetype": "text/restructuredtext"
   },
   "source": [
    "Substraction\n",
    "++++++++++++\n",
    "To remove an item from a Python list, you would call the ``.pop()`` method:"
   ]
  },
  {
   "cell_type": "code",
   "execution_count": 35,
   "metadata": {},
   "outputs": [
    {
     "data": {
      "text/plain": [
       "[1, 2]"
      ]
     },
     "execution_count": 35,
     "metadata": {},
     "output_type": "execute_result"
    }
   ],
   "source": [
    "l = [1, 2, 3]\n",
    "l.pop(2)\n",
    "l"
   ]
  },
  {
   "cell_type": "raw",
   "metadata": {
    "raw_mimetype": "text/restructuredtext"
   },
   "source": [
    "For :class:`~navis.NeuronList` you can use substraction:"
   ]
  },
  {
   "cell_type": "code",
   "execution_count": 22,
   "metadata": {},
   "outputs": [
    {
     "data": {
      "text/html": [
       "&lt;class 'navis.core.neuronlist.NeuronList'&gt; containing 2 neurons (577.6KiB)<div>\n",
       "<style scoped>\n",
       "    .dataframe tbody tr th:only-of-type {\n",
       "        vertical-align: middle;\n",
       "    }\n",
       "\n",
       "    .dataframe tbody tr th {\n",
       "        vertical-align: top;\n",
       "    }\n",
       "\n",
       "    .dataframe thead th {\n",
       "        text-align: right;\n",
       "    }\n",
       "</style>\n",
       "<table border=\"1\" class=\"dataframe\">\n",
       "  <thead>\n",
       "    <tr style=\"text-align: right;\">\n",
       "      <th></th>\n",
       "      <th>type</th>\n",
       "      <th>name</th>\n",
       "      <th>id</th>\n",
       "      <th>n_nodes</th>\n",
       "      <th>n_connectors</th>\n",
       "      <th>n_branches</th>\n",
       "      <th>n_leafs</th>\n",
       "      <th>cable_length</th>\n",
       "      <th>soma</th>\n",
       "      <th>units</th>\n",
       "    </tr>\n",
       "  </thead>\n",
       "  <tbody>\n",
       "    <tr>\n",
       "      <th>0</th>\n",
       "      <td>navis.TreeNeuron</td>\n",
       "      <td>DA1_lPN_R1</td>\n",
       "      <td>1734350788</td>\n",
       "      <td>4465</td>\n",
       "      <td>2705</td>\n",
       "      <td>599</td>\n",
       "      <td>618</td>\n",
       "      <td>266476.87500</td>\n",
       "      <td>[4177]</td>\n",
       "      <td>8 nanometer</td>\n",
       "    </tr>\n",
       "    <tr>\n",
       "      <th>1</th>\n",
       "      <td>navis.TreeNeuron</td>\n",
       "      <td>DA1_lPN_R2</td>\n",
       "      <td>1734350908</td>\n",
       "      <td>4847</td>\n",
       "      <td>3042</td>\n",
       "      <td>735</td>\n",
       "      <td>761</td>\n",
       "      <td>304332.65625</td>\n",
       "      <td>[6]</td>\n",
       "      <td>8 nanometer</td>\n",
       "    </tr>\n",
       "  </tbody>\n",
       "</table>\n",
       "</div>"
      ],
      "text/plain": [
       "<class 'navis.core.neuronlist.NeuronList'> containing 2 neurons (577.6KiB)\n",
       "               type        name          id  n_nodes  n_connectors  \\\n",
       "0  navis.TreeNeuron  DA1_lPN_R1  1734350788     4465          2705   \n",
       "1  navis.TreeNeuron  DA1_lPN_R2  1734350908     4847          3042   \n",
       "\n",
       "   n_branches  n_leafs  cable_length    soma        units  \n",
       "0         599      618  266476.87500  [4177]  8 nanometer  \n",
       "1         735      761  304332.65625     [6]  8 nanometer  "
      ]
     },
     "execution_count": 22,
     "metadata": {},
     "output_type": "execute_result"
    }
   ],
   "source": [
    "nl - nl[2]"
   ]
  },
  {
   "cell_type": "raw",
   "metadata": {
    "raw_mimetype": "text/restructuredtext"
   },
   "source": [
    "Bitwise AND\n",
    "+++++++++++\n",
    "To find the intersection between two lists, you would use ``sets`` and the ``&`` operator:"
   ]
  },
  {
   "cell_type": "code",
   "execution_count": 37,
   "metadata": {},
   "outputs": [
    {
     "data": {
      "text/plain": [
       "{2}"
      ]
     },
     "execution_count": 37,
     "metadata": {},
     "output_type": "execute_result"
    }
   ],
   "source": [
    "set([0, 1, 2]) &  set([2, 3, 4])"
   ]
  },
  {
   "cell_type": "raw",
   "metadata": {
    "raw_mimetype": "text/restructuredtext"
   },
   "source": [
    ":class:`~navis.NeuronList` work similarly:"
   ]
  },
  {
   "cell_type": "code",
   "execution_count": 23,
   "metadata": {},
   "outputs": [
    {
     "data": {
      "text/html": [
       "&lt;class 'navis.core.neuronlist.NeuronList'&gt; containing 1 neurons (303.8KiB)<div>\n",
       "<style scoped>\n",
       "    .dataframe tbody tr th:only-of-type {\n",
       "        vertical-align: middle;\n",
       "    }\n",
       "\n",
       "    .dataframe tbody tr th {\n",
       "        vertical-align: top;\n",
       "    }\n",
       "\n",
       "    .dataframe thead th {\n",
       "        text-align: right;\n",
       "    }\n",
       "</style>\n",
       "<table border=\"1\" class=\"dataframe\">\n",
       "  <thead>\n",
       "    <tr style=\"text-align: right;\">\n",
       "      <th></th>\n",
       "      <th>type</th>\n",
       "      <th>name</th>\n",
       "      <th>id</th>\n",
       "      <th>n_nodes</th>\n",
       "      <th>n_connectors</th>\n",
       "      <th>n_branches</th>\n",
       "      <th>n_leafs</th>\n",
       "      <th>cable_length</th>\n",
       "      <th>soma</th>\n",
       "      <th>units</th>\n",
       "    </tr>\n",
       "  </thead>\n",
       "  <tbody>\n",
       "    <tr>\n",
       "      <th>0</th>\n",
       "      <td>navis.TreeNeuron</td>\n",
       "      <td>DA1_lPN_R2</td>\n",
       "      <td>1734350908</td>\n",
       "      <td>4847</td>\n",
       "      <td>3042</td>\n",
       "      <td>735</td>\n",
       "      <td>761</td>\n",
       "      <td>304332.65625</td>\n",
       "      <td>[6]</td>\n",
       "      <td>8 nanometer</td>\n",
       "    </tr>\n",
       "  </tbody>\n",
       "</table>\n",
       "</div>"
      ],
      "text/plain": [
       "<class 'navis.core.neuronlist.NeuronList'> containing 1 neurons (303.8KiB)\n",
       "               type        name          id  n_nodes  n_connectors  \\\n",
       "0  navis.TreeNeuron  DA1_lPN_R2  1734350908     4847          3042   \n",
       "\n",
       "   n_branches  n_leafs  cable_length soma        units  \n",
       "0         735      761  304332.65625  [6]  8 nanometer  "
      ]
     },
     "execution_count": 23,
     "metadata": {},
     "output_type": "execute_result"
    }
   ],
   "source": [
    "nl[[0, 1]] & nl[[1, 2]]"
   ]
  },
  {
   "cell_type": "raw",
   "metadata": {
    "raw_mimetype": "text/restructuredtext"
   },
   "source": [
    "Multiplication and Division\n",
    "+++++++++++++++++++++++++++\n",
    "\n",
    "So far, all operations have led to changes in the structure of the :class:`~navis.NeuronList`. Multiplication and division are **different**! If you multiply/divide a :class:`~navis.TreeNeuron` or :class:`~navis.NeuronList` by a number, you will change the *coordinates* of nodes and connectors (including radii):"
   ]
  },
  {
   "cell_type": "code",
   "execution_count": 39,
   "metadata": {},
   "outputs": [
    {
     "data": {
      "text/html": [
       "<div>\n",
       "<style scoped>\n",
       "    .dataframe tbody tr th:only-of-type {\n",
       "        vertical-align: middle;\n",
       "    }\n",
       "\n",
       "    .dataframe tbody tr th {\n",
       "        vertical-align: top;\n",
       "    }\n",
       "\n",
       "    .dataframe thead th {\n",
       "        text-align: right;\n",
       "    }\n",
       "</style>\n",
       "<table border=\"1\" class=\"dataframe\">\n",
       "  <thead>\n",
       "    <tr style=\"text-align: right;\">\n",
       "      <th></th>\n",
       "      <th>node_id</th>\n",
       "      <th>label</th>\n",
       "      <th>x</th>\n",
       "      <th>y</th>\n",
       "      <th>z</th>\n",
       "      <th>radius</th>\n",
       "      <th>parent_id</th>\n",
       "      <th>type</th>\n",
       "    </tr>\n",
       "  </thead>\n",
       "  <tbody>\n",
       "    <tr>\n",
       "      <th>0</th>\n",
       "      <td>1</td>\n",
       "      <td>0</td>\n",
       "      <td>15784.0</td>\n",
       "      <td>37250.0</td>\n",
       "      <td>28062.0</td>\n",
       "      <td>10.000000</td>\n",
       "      <td>-1</td>\n",
       "      <td>root</td>\n",
       "    </tr>\n",
       "    <tr>\n",
       "      <th>1</th>\n",
       "      <td>2</td>\n",
       "      <td>0</td>\n",
       "      <td>15764.0</td>\n",
       "      <td>37230.0</td>\n",
       "      <td>28082.0</td>\n",
       "      <td>18.284300</td>\n",
       "      <td>1</td>\n",
       "      <td>slab</td>\n",
       "    </tr>\n",
       "    <tr>\n",
       "      <th>2</th>\n",
       "      <td>3</td>\n",
       "      <td>0</td>\n",
       "      <td>15744.0</td>\n",
       "      <td>37190.0</td>\n",
       "      <td>28122.0</td>\n",
       "      <td>34.721401</td>\n",
       "      <td>2</td>\n",
       "      <td>slab</td>\n",
       "    </tr>\n",
       "    <tr>\n",
       "      <th>3</th>\n",
       "      <td>4</td>\n",
       "      <td>0</td>\n",
       "      <td>15744.0</td>\n",
       "      <td>37150.0</td>\n",
       "      <td>28202.0</td>\n",
       "      <td>34.721401</td>\n",
       "      <td>3</td>\n",
       "      <td>slab</td>\n",
       "    </tr>\n",
       "    <tr>\n",
       "      <th>4</th>\n",
       "      <td>5</td>\n",
       "      <td>0</td>\n",
       "      <td>15704.0</td>\n",
       "      <td>37130.0</td>\n",
       "      <td>28242.0</td>\n",
       "      <td>34.721401</td>\n",
       "      <td>4</td>\n",
       "      <td>slab</td>\n",
       "    </tr>\n",
       "  </tbody>\n",
       "</table>\n",
       "</div>"
      ],
      "text/plain": [
       "   node_id label        x        y        z     radius  parent_id  type\n",
       "0        1     0  15784.0  37250.0  28062.0  10.000000         -1  root\n",
       "1        2     0  15764.0  37230.0  28082.0  18.284300          1  slab\n",
       "2        3     0  15744.0  37190.0  28122.0  34.721401          2  slab\n",
       "3        4     0  15744.0  37150.0  28202.0  34.721401          3  slab\n",
       "4        5     0  15704.0  37130.0  28242.0  34.721401          4  slab"
      ]
     },
     "execution_count": 39,
     "metadata": {},
     "output_type": "execute_result"
    }
   ],
   "source": [
    "n = nl[0]\n",
    "n.nodes.head()"
   ]
  },
  {
   "cell_type": "code",
   "execution_count": 41,
   "metadata": {},
   "outputs": [
    {
     "data": {
      "text/html": [
       "<div>\n",
       "<style scoped>\n",
       "    .dataframe tbody tr th:only-of-type {\n",
       "        vertical-align: middle;\n",
       "    }\n",
       "\n",
       "    .dataframe tbody tr th {\n",
       "        vertical-align: top;\n",
       "    }\n",
       "\n",
       "    .dataframe thead th {\n",
       "        text-align: right;\n",
       "    }\n",
       "</style>\n",
       "<table border=\"1\" class=\"dataframe\">\n",
       "  <thead>\n",
       "    <tr style=\"text-align: right;\">\n",
       "      <th></th>\n",
       "      <th>node_id</th>\n",
       "      <th>label</th>\n",
       "      <th>x</th>\n",
       "      <th>y</th>\n",
       "      <th>z</th>\n",
       "      <th>radius</th>\n",
       "      <th>parent_id</th>\n",
       "      <th>type</th>\n",
       "    </tr>\n",
       "  </thead>\n",
       "  <tbody>\n",
       "    <tr>\n",
       "      <th>0</th>\n",
       "      <td>1</td>\n",
       "      <td>0</td>\n",
       "      <td>15.784</td>\n",
       "      <td>37.250000</td>\n",
       "      <td>28.062000</td>\n",
       "      <td>0.010000</td>\n",
       "      <td>-1</td>\n",
       "      <td>root</td>\n",
       "    </tr>\n",
       "    <tr>\n",
       "      <th>1</th>\n",
       "      <td>2</td>\n",
       "      <td>0</td>\n",
       "      <td>15.764</td>\n",
       "      <td>37.230000</td>\n",
       "      <td>28.082001</td>\n",
       "      <td>0.018284</td>\n",
       "      <td>1</td>\n",
       "      <td>slab</td>\n",
       "    </tr>\n",
       "    <tr>\n",
       "      <th>2</th>\n",
       "      <td>3</td>\n",
       "      <td>0</td>\n",
       "      <td>15.744</td>\n",
       "      <td>37.189999</td>\n",
       "      <td>28.122000</td>\n",
       "      <td>0.034721</td>\n",
       "      <td>2</td>\n",
       "      <td>slab</td>\n",
       "    </tr>\n",
       "    <tr>\n",
       "      <th>3</th>\n",
       "      <td>4</td>\n",
       "      <td>0</td>\n",
       "      <td>15.744</td>\n",
       "      <td>37.150002</td>\n",
       "      <td>28.202000</td>\n",
       "      <td>0.034721</td>\n",
       "      <td>3</td>\n",
       "      <td>slab</td>\n",
       "    </tr>\n",
       "    <tr>\n",
       "      <th>4</th>\n",
       "      <td>5</td>\n",
       "      <td>0</td>\n",
       "      <td>15.704</td>\n",
       "      <td>37.130001</td>\n",
       "      <td>28.242001</td>\n",
       "      <td>0.034721</td>\n",
       "      <td>4</td>\n",
       "      <td>slab</td>\n",
       "    </tr>\n",
       "  </tbody>\n",
       "</table>\n",
       "</div>"
      ],
      "text/plain": [
       "   node_id label       x          y          z    radius  parent_id  type\n",
       "0        1     0  15.784  37.250000  28.062000  0.010000         -1  root\n",
       "1        2     0  15.764  37.230000  28.082001  0.018284          1  slab\n",
       "2        3     0  15.744  37.189999  28.122000  0.034721          2  slab\n",
       "3        4     0  15.744  37.150002  28.202000  0.034721          3  slab\n",
       "4        5     0  15.704  37.130001  28.242001  0.034721          4  slab"
      ]
     },
     "execution_count": 41,
     "metadata": {},
     "output_type": "execute_result"
    }
   ],
   "source": [
    "n2 = n / 1000\n",
    "n2.nodes.head()"
   ]
  },
  {
   "cell_type": "raw",
   "metadata": {
    "raw_mimetype": "text/restructuredtext",
    "tags": []
   },
   "source": [
    "Note that this also automatically adjusts the neuron's units (if it has any):"
   ]
  },
  {
   "cell_type": "code",
   "execution_count": 42,
   "metadata": {},
   "outputs": [
    {
     "name": "stdout",
     "output_type": "stream",
     "text": [
      "Before: 8 nanometer\n",
      "After: 8.0 micrometer\n"
     ]
    }
   ],
   "source": [
    "print('Before:', n.units)\n",
    "print('After:', n2.units)"
   ]
  },
  {
   "cell_type": "raw",
   "metadata": {
    "raw_mimetype": "text/restructuredtext"
   },
   "source": [
    ".. _compare_neurons:\n",
    "\n",
    "Comparing Neuron/Lists\n",
    "======================\n",
    ":class:`~navis.NeuronList` implements some of the basic arithmetic and comparison operators that you might know from standard ``lists`` or ``numpy.arrays``. Most this should be fairly intuitive (I hope) but there are a few things you should be aware of. The following examples will illustrate that.\n",
    "\n",
    "Comparisons\n",
    "+++++++++++\n",
    "In Python the ``==`` operator compares two elements:"
   ]
  },
  {
   "cell_type": "code",
   "execution_count": 17,
   "metadata": {},
   "outputs": [
    {
     "data": {
      "text/plain": [
       "True"
      ]
     },
     "execution_count": 17,
     "metadata": {},
     "output_type": "execute_result"
    }
   ],
   "source": [
    "1 == 1"
   ]
  },
  {
   "cell_type": "code",
   "execution_count": 18,
   "metadata": {},
   "outputs": [
    {
     "data": {
      "text/plain": [
       "False"
      ]
     },
     "execution_count": 18,
     "metadata": {},
     "output_type": "execute_result"
    }
   ],
   "source": [
    "2 == 1"
   ]
  },
  {
   "cell_type": "raw",
   "metadata": {
    "raw_mimetype": "text/restructuredtext"
   },
   "source": [
    "For :class:`~navis.TreeNeuron` this is comparison done by looking at the neurons' attribues: morphologies (soma & root nodes, cable length, etc) and meta data (name). "
   ]
  },
  {
   "cell_type": "code",
   "execution_count": 5,
   "metadata": {},
   "outputs": [
    {
     "data": {
      "text/plain": [
       "True"
      ]
     },
     "execution_count": 5,
     "metadata": {},
     "output_type": "execute_result"
    }
   ],
   "source": [
    "nl[0] == nl[0]"
   ]
  },
  {
   "cell_type": "code",
   "execution_count": 6,
   "metadata": {},
   "outputs": [
    {
     "data": {
      "text/plain": [
       "False"
      ]
     },
     "execution_count": 6,
     "metadata": {},
     "output_type": "execute_result"
    }
   ],
   "source": [
    "nl[0] == nl[1]"
   ]
  },
  {
   "cell_type": "raw",
   "metadata": {
    "raw_mimetype": "text/restructuredtext"
   },
   "source": [
    "To find out which attributes are compared, check out:"
   ]
  },
  {
   "cell_type": "code",
   "execution_count": 21,
   "metadata": {},
   "outputs": [
    {
     "data": {
      "text/plain": [
       "['n_nodes',\n",
       " 'n_connectors',\n",
       " 'soma',\n",
       " 'root',\n",
       " 'n_branches',\n",
       " 'n_leafs',\n",
       " 'cable_length',\n",
       " 'name']"
      ]
     },
     "execution_count": 21,
     "metadata": {},
     "output_type": "execute_result"
    }
   ],
   "source": [
    "navis.TreeNeuron.EQ_ATTRIBUTES"
   ]
  },
  {
   "cell_type": "raw",
   "metadata": {
    "raw_mimetype": "text/restructuredtext"
   },
   "source": [
    "Edit this list to establish your own criteria for equality.\n",
    "\n",
    "For :class:`~navis.NeuronList`, we do the same comparison pairwise between the neurons in both neuronlists:"
   ]
  },
  {
   "cell_type": "code",
   "execution_count": 7,
   "metadata": {},
   "outputs": [
    {
     "data": {
      "text/plain": [
       "True"
      ]
     },
     "execution_count": 7,
     "metadata": {},
     "output_type": "execute_result"
    }
   ],
   "source": [
    "nl == nl"
   ]
  },
  {
   "cell_type": "code",
   "execution_count": 4,
   "metadata": {},
   "outputs": [
    {
     "data": {
      "text/plain": [
       "False"
      ]
     },
     "execution_count": 4,
     "metadata": {},
     "output_type": "execute_result"
    }
   ],
   "source": [
    "nl == nl[:2]"
   ]
  },
  {
   "cell_type": "raw",
   "metadata": {
    "raw_mimetype": "text/restructuredtext"
   },
   "source": [
    "Because the comparison is done pairwise and **in order**, shuffling a :class:`~navis.NeuronList` will result in a failed comparison:"
   ]
  },
  {
   "cell_type": "code",
   "execution_count": 5,
   "metadata": {},
   "outputs": [
    {
     "data": {
      "text/plain": [
       "False"
      ]
     },
     "execution_count": 5,
     "metadata": {},
     "output_type": "execute_result"
    }
   ],
   "source": [
    "nl == nl[[2, 1, 0]]"
   ]
  },
  {
   "cell_type": "raw",
   "metadata": {
    "raw_mimetype": "text/restructuredtext"
   },
   "source": [
    "Comparisons are safe against copying but making any changes to the neurons will cause inequality:"
   ]
  },
  {
   "cell_type": "code",
   "execution_count": 6,
   "metadata": {},
   "outputs": [
    {
     "data": {
      "text/plain": [
       "True"
      ]
     },
     "execution_count": 6,
     "metadata": {},
     "output_type": "execute_result"
    }
   ],
   "source": [
    "nl[0] == nl[0].copy()"
   ]
  },
  {
   "cell_type": "code",
   "execution_count": 7,
   "metadata": {},
   "outputs": [
    {
     "data": {
      "text/plain": [
       "False"
      ]
     },
     "execution_count": 7,
     "metadata": {},
     "output_type": "execute_result"
    }
   ],
   "source": [
    "nl[0] == nl[0].downsample(2, inplace=False)"
   ]
  },
  {
   "cell_type": "raw",
   "metadata": {
    "raw_mimetype": "text/restructuredtext"
   },
   "source": [
    "You can also ask if a neuron is in a given ``NeuronList``:"
   ]
  },
  {
   "cell_type": "code",
   "execution_count": 8,
   "metadata": {},
   "outputs": [
    {
     "data": {
      "text/plain": [
       "True"
      ]
     },
     "execution_count": 8,
     "metadata": {},
     "output_type": "execute_result"
    }
   ],
   "source": [
    "nl[0] in nl"
   ]
  },
  {
   "cell_type": "code",
   "execution_count": 9,
   "metadata": {},
   "outputs": [
    {
     "data": {
      "text/plain": [
       "False"
      ]
     },
     "execution_count": 9,
     "metadata": {},
     "output_type": "execute_result"
    }
   ],
   "source": [
    "nl[0] in nl[1:]"
   ]
  },
  {
   "cell_type": "raw",
   "metadata": {
    "raw_mimetype": "text/restructuredtext"
   },
   "source": [
    "Making custom changes\n",
    "=====================\n",
    "\n",
    "Under the hood ``navis`` calculates certain properties when you load a neuron: e.g. it produces a graph representation (``.graph`` or ``.igraph``) and a list of linear segments (``.segments``) for ``TreeNeurons``. These data are attached to a neuron and are crucial for many functions. Therefore ``navis`` makes sure that any changes to a neuron automatically propagate into these derived properties. See this example:"
   ]
  },
  {
   "cell_type": "code",
   "execution_count": 37,
   "metadata": {},
   "outputs": [
    {
     "name": "stdout",
     "output_type": "stream",
     "text": [
      "Nodes in node table: 4465\n",
      "Nodes in graph: 4465\n"
     ]
    }
   ],
   "source": [
    "n = navis.example_neurons(1, kind='skeleton')\n",
    "\n",
    "print(f'Nodes in node table: {n.nodes.shape[0]}')\n",
    "print(f'Nodes in graph: {len(n.graph.nodes)}')"
   ]
  },
  {
   "cell_type": "raw",
   "metadata": {
    "raw_mimetype": "text/restructuredtext"
   },
   "source": [
    "Making changes will cause the graph representation to be regenerated:"
   ]
  },
  {
   "cell_type": "code",
   "execution_count": 38,
   "metadata": {},
   "outputs": [
    {
     "name": "stdout",
     "output_type": "stream",
     "text": [
      "Nodes in node table: 1770\n",
      "Nodes in graph: 1770\n"
     ]
    }
   ],
   "source": [
    "n.prune_by_strahler(1, inplace=True)\n",
    "\n",
    "print(f'Nodes in node table: {n.nodes.shape[0]}')\n",
    "print(f'Nodes in graph: {len(n.graph.nodes)}')"
   ]
  },
  {
   "cell_type": "raw",
   "metadata": {
    "raw_mimetype": "text/restructuredtext"
   },
   "source": [
    "If, however, you make changes to the neurons that do not use built-in functions there is a chance that ``navis`` won't know that things have changed and properties need to be regenerated!"
   ]
  },
  {
   "cell_type": "code",
   "execution_count": 4,
   "metadata": {},
   "outputs": [
    {
     "name": "stdout",
     "output_type": "stream",
     "text": [
      "Nodes in node table before: 4465\n",
      "Nodes in graph before: 4465\n",
      "\n",
      "Nodes in node table after: 4410\n",
      "Nodes in graph after: 4410\n"
     ]
    }
   ],
   "source": [
    "n = navis.example_neurons(1)\n",
    "\n",
    "print(f'Nodes in node table before: {n.nodes.shape[0]}')\n",
    "print(f'Nodes in graph before: {len(n.graph.nodes)}')\n",
    "\n",
    "# Truncate the node table by 55 nodes\n",
    "n.nodes = n.nodes.iloc[:-55]\n",
    "\n",
    "print(f'\\nNodes in node table after: {n.nodes.shape[0]}')\n",
    "print(f'Nodes in graph after: {len(n.graph.nodes)}')"
   ]
  },
  {
   "cell_type": "raw",
   "metadata": {
    "raw_mimetype": "text/restructuredtext"
   },
   "source": [
    "Here, the changes to the node table automatically triggered a regeneration of the graph. This works because ``navis`` generates and checks hash values for neurons to detect changes and because here the node table is the master. It would not work the other way around (i.e. changing the graph to change the node table).\n",
    "\n",
    "Again: as long as you are using built-in functions, you don't have to worry about this. If you do run some custom manipulation of neurons be aware that you might want to make sure that the data structure remains intact. If you ever need to manually trigger a regeneration you can do so like this:"
   ]
  },
  {
   "cell_type": "code",
   "execution_count": 5,
   "metadata": {},
   "outputs": [],
   "source": [
    "# Clear temporary attributes of the neuron\n",
    "n._clear_temp_attr()"
   ]
  },
  {
   "cell_type": "raw",
   "metadata": {
    "raw_mimetype": "text/restructuredtext",
    "tags": []
   },
   "source": [
    ".. _neuron_conversion:\n",
    "\n",
    "Converting neuron types\n",
    "=======================\n",
    "``navis`` provides a couple functions to move between neuron types:\n",
    "\n",
    ".. autosummary::\n",
    "    :toctree: generated/\n",
    "\n",
    "    navis.make_dotprops\n",
    "    navis.skeletonize\n",
    "    navis.mesh\n",
    "    navis.voxelize\n",
    "    \n",
    "In particular meshing and skeletonizing are non-trivial and you might have to play around with the parameters to optimize results with your data! Let's demonstrate on some example:"
   ]
  },
  {
   "cell_type": "code",
   "execution_count": 14,
   "metadata": {},
   "outputs": [],
   "source": [
    "# Start with a mesh neuron\n",
    "m = navis.example_neurons(1, kind='mesh')\n",
    "\n",
    "# Skeletonize the mesh\n",
    "s = navis.skeletonize(m)\n",
    "\n",
    "# Make dotprops (this works from any other neuron type\n",
    "dp = navis.make_dotprops(s, k=5)\n",
    "\n",
    "# Voxelize the mesh\n",
    "vx = navis.voxelize(m, pitch='2 microns', smooth=1, counts=True)\n",
    "\n",
    "# Mesh the voxels \n",
    "mm = navis.mesh(vx.threshold(.5))"
   ]
  },
  {
   "cell_type": "raw",
   "metadata": {
    "raw_mimetype": "text/restructuredtext",
    "tags": []
   },
   "source": [
    "Inspect the results:"
   ]
  },
  {
   "cell_type": "code",
   "execution_count": null,
   "metadata": {},
   "outputs": [],
   "source": [
    "# Co-visualize the mesh and the skeleton\n",
    "fig = navis.plot3d([m, s], color=[(1, 1, 1, .2), 'r'])"
   ]
  },
  {
   "cell_type": "raw",
   "metadata": {
    "raw_mimetype": "text/restructuredtext",
    "tags": []
   },
   "source": [
    ".. raw:: html\n",
    "   :file: figures/3d_mesh_skeleton.html\n",
    "\n",
    "|\n",
    "|\n",
    "|\n",
    "|"
   ]
  },
  {
   "cell_type": "code",
   "execution_count": null,
   "metadata": {},
   "outputs": [],
   "source": [
    "# Co-visualize the mesh and the dotprops\n",
    "fig = navis.plot3d([m, dp], color=[(1, 1, 1, .2), 'r'])"
   ]
  },
  {
   "cell_type": "raw",
   "metadata": {},
   "source": [
    ".. raw:: html\n",
    "   :file: figures/3d_mesh_dotprops.html\n",
    "\n",
    "|\n",
    "|\n",
    "|\n",
    "|"
   ]
  },
  {
   "cell_type": "code",
   "execution_count": null,
   "metadata": {},
   "outputs": [],
   "source": [
    "# Co-visualize the mesh and the dotprops\n",
    "# (note that plotly is not great at visualizing voxels)\n",
    "fig = navis.plot3d([m * 8, vx])"
   ]
  },
  {
   "cell_type": "raw",
   "metadata": {
    "raw_mimetype": "text/restructuredtext",
    "tags": []
   },
   "source": [
    ".. raw:: html\n",
    "   :file: figures/3d_mesh_voxels.html\n",
    "\n",
    "|\n",
    "|\n",
    "|\n",
    "|"
   ]
  },
  {
   "cell_type": "code",
   "execution_count": null,
   "metadata": {},
   "outputs": [],
   "source": [
    "# Co-visualize the original mesh and the meshed voxels\n",
    "fig = navis.plot3d([vx, mm])"
   ]
  },
  {
   "cell_type": "raw",
   "metadata": {
    "raw_mimetype": "text/restructuredtext",
    "tags": []
   },
   "source": [
    ".. raw:: html\n",
    "   :file: figures/3d_voxels_mesh.html\n",
    "\n",
    "|\n",
    "|\n",
    "|\n",
    "|"
   ]
  },
  {
   "cell_type": "raw",
   "metadata": {
    "raw_mimetype": "text/restructuredtext"
   },
   "source": [
    "Neuron attributes\n",
    "=================\n",
    "\n",
    "This is a *selection* of neuron class (i.e. :class:`~navis.TreeNeuron`, :class:`~navis.MeshNeuron`, etc.) attributes.\n",
    "\n",
    "All neurons have this:\n",
    "\n",
    "- ``name``: a name\n",
    "- ``id``: a (hopefully unique) identifier - defaults to random UUID if not set explicitly \n",
    "- ``bbox``: Bounding box of neuron\n",
    "- ``units`` (optional): spatial units (e.g. \"1 micrometer\" or \"8 nanometer\" voxels)\n",
    "- ``connectors`` (optional): connector table\n",
    "\n",
    "Only for ``TreeNeurons``:\n",
    "\n",
    "- ``nodes``: node table\n",
    "- ``cable_length``: cable length(s)\n",
    "- ``soma``: node ID(s) of soma (if applicable)\n",
    "- ``root``: root node ID(s)\n",
    "- ``segments``: list of linear segments\n",
    "- ``graph``: NetworkX graph representation of the neuron\n",
    "- ``igraph``: iGraph representation of the neuron (if library available)\n",
    "\n",
    "Only for ``MeshNeurons``:\n",
    "\n",
    "- ``vertices``/``faces``: vertices and faces\n",
    "\n",
    "Only for ``VoxelNeurons``:\n",
    "\n",
    "- ``voxels``: `(N, 3)` sparse representation \n",
    "- ``grid``: `(N, M, K)` voxel grid representation\n",
    "\n",
    "Only for ``Dotprops``:\n",
    "\n",
    "- ``points`` `(N, 3`) x/y/z points\n",
    "- ``vect``: `(N, 3)` array of the vector associated with each point\n",
    "\n",
    "All above attributes can be accessed via the ``NeuronList`` containing the neurons. In addition you can also get:\n",
    "\n",
    "- ``is_mixed``: returns ``True`` if list contains more than one neuron type\n",
    "- ``is_degenerated``: returns ``True`` if list contains neurons with non-unique IDs\n",
    "- ``types``: tuple with all types of neurons in the list\n",
    "- ``shape``: size of neuronlist ``(N, )`` \n",
    "\n",
    "All attributes and methods are accessible through auto-completion.\n",
    "\n",
    "Reference\n",
    "+++++++++\n",
    "\n",
    "See :class:`~navis.TreeNeuron`, :class:`~navis.MeshNeuron`, :class:`~navis.Dotprops`, :class:`~navis.VoxelNeuron`, :class:`~navis.NeuronList` or :ref:`API <api_neurons>` for a full list of attributes and methods."
   ]
  }
 ],
 "metadata": {
  "celltoolbar": "Raw Cell Format",
  "kernelspec": {
   "display_name": "Python 3 (ipykernel)",
   "language": "python",
   "name": "python3"
  },
  "language_info": {
   "codemirror_mode": {
    "name": "ipython",
    "version": 3
   },
   "file_extension": ".py",
   "mimetype": "text/x-python",
   "name": "python",
   "nbconvert_exporter": "python",
   "pygments_lexer": "ipython3",
   "version": "3.9.9"
  },
  "widgets": {
   "application/vnd.jupyter.widget-state+json": {
    "state": {},
    "version_major": 2,
    "version_minor": 0
   }
  }
 },
 "nbformat": 4,
 "nbformat_minor": 4
}
