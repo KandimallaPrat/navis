{
 "cells": [
  {
   "cell_type": "raw",
   "metadata": {
    "raw_mimetype": "text/restructuredtext"
   },
   "source": [
    ".. _neuron_overview:\n",
    "\n",
    "A primer on neuron objects\n",
    "==========================\n",
    "\n",
    "Single Neurons\n",
    "++++++++++++++\n",
    "\n",
    "Single neurons and lists of neurons are represented in ``navis`` by:\n",
    "\n",
    ".. autosummary::\n",
    "    :toctree: generated/\n",
    "\n",
    " \t~navis.TreeNeuron\n",
    " \t~navis.NeuronList\n",
    "\n",
    "NAVis comes with a couple example *Drosophila* neurons from the FAFB project published\n",
    "in `Zheng et al <http://www.cell.com/cell/retrieve/pii/S0092867418307876?_returnURL=https%3A%2F%2Flinkinghub.elsevier.com%2Fretrieve%2Fpii%2FS0092867418307876%3Fshowall%3Dtrue>`_\n",
    ", Cell (2018):"
   ]
  },
  {
   "cell_type": "code",
   "execution_count": 1,
   "metadata": {},
   "outputs": [
    {
     "data": {
      "text/html": [
       "        <script type=\"text/javascript\">\n",
       "        window.PlotlyConfig = {MathJaxConfig: 'local'};\n",
       "        if (window.MathJax) {MathJax.Hub.Config({SVG: {font: \"STIX-Web\"}});}\n",
       "        if (typeof require !== 'undefined') {\n",
       "        require.undef(\"plotly\");\n",
       "        requirejs.config({\n",
       "            paths: {\n",
       "                'plotly': ['https://cdn.plot.ly/plotly-latest.min']\n",
       "            }\n",
       "        });\n",
       "        require(['plotly'], function(Plotly) {\n",
       "            window._Plotly = Plotly;\n",
       "        });\n",
       "        }\n",
       "        </script>\n",
       "        "
      ]
     },
     "metadata": {},
     "output_type": "display_data"
    },
    {
     "data": {
      "text/html": [
       "<div>\n",
       "<style scoped>\n",
       "    .dataframe tbody tr th:only-of-type {\n",
       "        vertical-align: middle;\n",
       "    }\n",
       "\n",
       "    .dataframe tbody tr th {\n",
       "        vertical-align: top;\n",
       "    }\n",
       "\n",
       "    .dataframe thead th {\n",
       "        text-align: right;\n",
       "    }\n",
       "</style>\n",
       "<table border=\"1\" class=\"dataframe\">\n",
       "  <thead>\n",
       "    <tr style=\"text-align: right;\">\n",
       "      <th></th>\n",
       "      <th></th>\n",
       "    </tr>\n",
       "  </thead>\n",
       "  <tbody>\n",
       "    <tr>\n",
       "      <th>type</th>\n",
       "      <td>TreeNeuron</td>\n",
       "    </tr>\n",
       "    <tr>\n",
       "      <th>name</th>\n",
       "      <td>neuron_38885</td>\n",
       "    </tr>\n",
       "    <tr>\n",
       "      <th>n_nodes</th>\n",
       "      <td>6365</td>\n",
       "    </tr>\n",
       "    <tr>\n",
       "      <th>n_connectors</th>\n",
       "      <td>0</td>\n",
       "    </tr>\n",
       "    <tr>\n",
       "      <th>n_branches</th>\n",
       "      <td>235</td>\n",
       "    </tr>\n",
       "    <tr>\n",
       "      <th>n_leafs</th>\n",
       "      <td>243</td>\n",
       "    </tr>\n",
       "    <tr>\n",
       "      <th>cable_length</th>\n",
       "      <td>1.21335e+06</td>\n",
       "    </tr>\n",
       "    <tr>\n",
       "      <th>soma</th>\n",
       "      <td>[3490]</td>\n",
       "    </tr>\n",
       "  </tbody>\n",
       "</table>\n",
       "</div>"
      ],
      "text/plain": [
       "type              TreeNeuron\n",
       "name            neuron_38885\n",
       "n_nodes                 6365\n",
       "n_connectors               0\n",
       "n_branches               235\n",
       "n_leafs                  243\n",
       "cable_length     1.21335e+06\n",
       "soma                  [3490]\n",
       "dtype: object"
      ]
     },
     "execution_count": 1,
     "metadata": {},
     "output_type": "execute_result"
    }
   ],
   "source": [
    "import navis\n",
    "\n",
    "n = navis.example_neurons(n=1)\n",
    "n"
   ]
  },
  {
   "cell_type": "raw",
   "metadata": {
    "raw_mimetype": "text/restructuredtext"
   },
   "source": [
    ":class:`~navis.TreeNeuron` stores nodes and other data as attached DataFrames:"
   ]
  },
  {
   "cell_type": "code",
   "execution_count": 2,
   "metadata": {},
   "outputs": [
    {
     "data": {
      "text/html": [
       "<div>\n",
       "<style scoped>\n",
       "    .dataframe tbody tr th:only-of-type {\n",
       "        vertical-align: middle;\n",
       "    }\n",
       "\n",
       "    .dataframe tbody tr th {\n",
       "        vertical-align: top;\n",
       "    }\n",
       "\n",
       "    .dataframe thead th {\n",
       "        text-align: right;\n",
       "    }\n",
       "</style>\n",
       "<table border=\"1\" class=\"dataframe\">\n",
       "  <thead>\n",
       "    <tr style=\"text-align: right;\">\n",
       "      <th></th>\n",
       "      <th>node_id</th>\n",
       "      <th>label</th>\n",
       "      <th>x</th>\n",
       "      <th>y</th>\n",
       "      <th>z</th>\n",
       "      <th>radius</th>\n",
       "      <th>parent_id</th>\n",
       "      <th>type</th>\n",
       "    </tr>\n",
       "  </thead>\n",
       "  <tbody>\n",
       "    <tr>\n",
       "      <th>0</th>\n",
       "      <td>1</td>\n",
       "      <td>0</td>\n",
       "      <td>489192.0</td>\n",
       "      <td>186290.0</td>\n",
       "      <td>138040.0</td>\n",
       "      <td>0.0</td>\n",
       "      <td>-1</td>\n",
       "      <td>root</td>\n",
       "    </tr>\n",
       "    <tr>\n",
       "      <th>1</th>\n",
       "      <td>2</td>\n",
       "      <td>0</td>\n",
       "      <td>489233.0</td>\n",
       "      <td>186198.0</td>\n",
       "      <td>138080.0</td>\n",
       "      <td>0.0</td>\n",
       "      <td>1</td>\n",
       "      <td>slab</td>\n",
       "    </tr>\n",
       "    <tr>\n",
       "      <th>2</th>\n",
       "      <td>3</td>\n",
       "      <td>0</td>\n",
       "      <td>489235.0</td>\n",
       "      <td>186174.0</td>\n",
       "      <td>138120.0</td>\n",
       "      <td>0.0</td>\n",
       "      <td>2</td>\n",
       "      <td>slab</td>\n",
       "    </tr>\n",
       "    <tr>\n",
       "      <th>3</th>\n",
       "      <td>4</td>\n",
       "      <td>0</td>\n",
       "      <td>489229.0</td>\n",
       "      <td>186200.0</td>\n",
       "      <td>138160.0</td>\n",
       "      <td>0.0</td>\n",
       "      <td>3</td>\n",
       "      <td>slab</td>\n",
       "    </tr>\n",
       "    <tr>\n",
       "      <th>4</th>\n",
       "      <td>5</td>\n",
       "      <td>0</td>\n",
       "      <td>489251.0</td>\n",
       "      <td>186141.0</td>\n",
       "      <td>138200.0</td>\n",
       "      <td>0.0</td>\n",
       "      <td>4</td>\n",
       "      <td>slab</td>\n",
       "    </tr>\n",
       "  </tbody>\n",
       "</table>\n",
       "</div>"
      ],
      "text/plain": [
       "   node_id label         x         y         z  radius  parent_id  type\n",
       "0        1     0  489192.0  186290.0  138040.0     0.0         -1  root\n",
       "1        2     0  489233.0  186198.0  138080.0     0.0          1  slab\n",
       "2        3     0  489235.0  186174.0  138120.0     0.0          2  slab\n",
       "3        4     0  489229.0  186200.0  138160.0     0.0          3  slab\n",
       "4        5     0  489251.0  186141.0  138200.0     0.0          4  slab"
      ]
     },
     "execution_count": 2,
     "metadata": {},
     "output_type": "execute_result"
    }
   ],
   "source": [
    "n.nodes.head()"
   ]
  },
  {
   "cell_type": "raw",
   "metadata": {
    "raw_mimetype": "text/restructuredtext"
   },
   "source": [
    "Lists of Neurons\n",
    "++++++++++++++++\n",
    "\n",
    "List of neurons are represented as :class:`~navis.NeuronList`:"
   ]
  },
  {
   "cell_type": "code",
   "execution_count": 19,
   "metadata": {},
   "outputs": [
    {
     "data": {
      "text/html": [
       "<div>\n",
       "<style scoped>\n",
       "    .dataframe tbody tr th:only-of-type {\n",
       "        vertical-align: middle;\n",
       "    }\n",
       "\n",
       "    .dataframe tbody tr th {\n",
       "        vertical-align: top;\n",
       "    }\n",
       "\n",
       "    .dataframe thead th {\n",
       "        text-align: right;\n",
       "    }\n",
       "</style>\n",
       "<table border=\"1\" class=\"dataframe\">\n",
       "  <thead>\n",
       "    <tr style=\"text-align: right;\">\n",
       "      <th></th>\n",
       "      <th>type</th>\n",
       "      <th>name</th>\n",
       "      <th>n_nodes</th>\n",
       "      <th>n_connectors</th>\n",
       "      <th>n_branches</th>\n",
       "      <th>n_leafs</th>\n",
       "      <th>cable_length</th>\n",
       "      <th>soma</th>\n",
       "    </tr>\n",
       "  </thead>\n",
       "  <tbody>\n",
       "    <tr>\n",
       "      <th>0</th>\n",
       "      <td>TreeNeuron</td>\n",
       "      <td>neuron_38885</td>\n",
       "      <td>6365</td>\n",
       "      <td>0</td>\n",
       "      <td>235</td>\n",
       "      <td>243</td>\n",
       "      <td>1.213347e+06</td>\n",
       "      <td>[3490]</td>\n",
       "    </tr>\n",
       "    <tr>\n",
       "      <th>1</th>\n",
       "      <td>TreeNeuron</td>\n",
       "      <td>neuron_1785034</td>\n",
       "      <td>8187</td>\n",
       "      <td>0</td>\n",
       "      <td>305</td>\n",
       "      <td>322</td>\n",
       "      <td>1.447682e+06</td>\n",
       "      <td>[3604]</td>\n",
       "    </tr>\n",
       "    <tr>\n",
       "      <th>2</th>\n",
       "      <td>TreeNeuron</td>\n",
       "      <td>neuron_57418</td>\n",
       "      <td>3839</td>\n",
       "      <td>0</td>\n",
       "      <td>134</td>\n",
       "      <td>142</td>\n",
       "      <td>9.499755e+05</td>\n",
       "      <td>[2546]</td>\n",
       "    </tr>\n",
       "  </tbody>\n",
       "</table>\n",
       "</div>"
      ],
      "text/plain": [
       "<class 'navis.core.neuronlist.NeuronList'> of 3 neurons \n",
       "          type            name  n_nodes  n_connectors  n_branches  n_leafs  \\\n",
       "0  TreeNeuron    neuron_38885     6365             0         235      243   \n",
       "1  TreeNeuron  neuron_1785034     8187             0         305      322   \n",
       "2  TreeNeuron    neuron_57418     3839             0         134      142   \n",
       "\n",
       "   cable_length    soma  \n",
       "0  1.213347e+06  [3490]  \n",
       "1  1.447682e+06  [3604]  \n",
       "2  9.499755e+05  [2546]  "
      ]
     },
     "execution_count": 19,
     "metadata": {},
     "output_type": "execute_result"
    }
   ],
   "source": [
    "nl = navis.example_neurons(n=3)\n",
    "nl"
   ]
  },
  {
   "cell_type": "raw",
   "metadata": {
    "raw_mimetype": "text/restructuredtext"
   },
   "source": [
    "A :class:`~navis.NeuronList` works similar to normal lists with a few additional perks:"
   ]
  },
  {
   "cell_type": "code",
   "execution_count": 4,
   "metadata": {},
   "outputs": [
    {
     "data": {
      "text/html": [
       "<div>\n",
       "<style scoped>\n",
       "    .dataframe tbody tr th:only-of-type {\n",
       "        vertical-align: middle;\n",
       "    }\n",
       "\n",
       "    .dataframe tbody tr th {\n",
       "        vertical-align: top;\n",
       "    }\n",
       "\n",
       "    .dataframe thead th {\n",
       "        text-align: right;\n",
       "    }\n",
       "</style>\n",
       "<table border=\"1\" class=\"dataframe\">\n",
       "  <thead>\n",
       "    <tr style=\"text-align: right;\">\n",
       "      <th></th>\n",
       "      <th></th>\n",
       "    </tr>\n",
       "  </thead>\n",
       "  <tbody>\n",
       "    <tr>\n",
       "      <th>type</th>\n",
       "      <td>TreeNeuron</td>\n",
       "    </tr>\n",
       "    <tr>\n",
       "      <th>name</th>\n",
       "      <td>neuron_38885</td>\n",
       "    </tr>\n",
       "    <tr>\n",
       "      <th>n_nodes</th>\n",
       "      <td>6365</td>\n",
       "    </tr>\n",
       "    <tr>\n",
       "      <th>n_connectors</th>\n",
       "      <td>0</td>\n",
       "    </tr>\n",
       "    <tr>\n",
       "      <th>n_branches</th>\n",
       "      <td>235</td>\n",
       "    </tr>\n",
       "    <tr>\n",
       "      <th>n_leafs</th>\n",
       "      <td>243</td>\n",
       "    </tr>\n",
       "    <tr>\n",
       "      <th>cable_length</th>\n",
       "      <td>1.21335e+06</td>\n",
       "    </tr>\n",
       "    <tr>\n",
       "      <th>soma</th>\n",
       "      <td>[3490]</td>\n",
       "    </tr>\n",
       "  </tbody>\n",
       "</table>\n",
       "</div>"
      ],
      "text/plain": [
       "type              TreeNeuron\n",
       "name            neuron_38885\n",
       "n_nodes                 6365\n",
       "n_connectors               0\n",
       "n_branches               235\n",
       "n_leafs                  243\n",
       "cable_length     1.21335e+06\n",
       "soma                  [3490]\n",
       "dtype: object"
      ]
     },
     "execution_count": 4,
     "metadata": {},
     "output_type": "execute_result"
    }
   ],
   "source": [
    "nl[0]"
   ]
  },
  {
   "cell_type": "raw",
   "metadata": {
    "raw_mimetype": "text/restructuredtext"
   },
   "source": [
    "They allow easy and fast access to data and across all neurons:"
   ]
  },
  {
   "cell_type": "code",
   "execution_count": 4,
   "metadata": {},
   "outputs": [
    {
     "data": {
      "text/plain": [
       "array([6365, 8187, 3839])"
      ]
     },
     "execution_count": 4,
     "metadata": {},
     "output_type": "execute_result"
    }
   ],
   "source": [
    "nl.n_nodes"
   ]
  },
  {
   "cell_type": "code",
   "execution_count": 5,
   "metadata": {},
   "outputs": [
    {
     "data": {
      "text/plain": [
       "array([1213347.43506801, 1447681.63642537,  949975.4839264 ])"
      ]
     },
     "execution_count": 5,
     "metadata": {},
     "output_type": "execute_result"
    }
   ],
   "source": [
    "nl.cable_length"
   ]
  },
  {
   "cell_type": "raw",
   "metadata": {
    "raw_mimetype": "text/restructuredtext"
   },
   "source": [
    "In addition to these **attributes**, both :class:`~navis.TreeNeuron` and :class:`~navis.NeuronList` have shortcuts (called **methods**) to other navis functions. These lines of code are equivalent:"
   ]
  },
  {
   "cell_type": "code",
   "execution_count": null,
   "metadata": {},
   "outputs": [],
   "source": [
    "n.reroot(n.soma, inplace=True)\n",
    "navis.reroot_neuron(n, n.soma, inplace=True)"
   ]
  },
  {
   "cell_type": "code",
   "execution_count": null,
   "metadata": {},
   "outputs": [],
   "source": [
    "n.plot3d(color='red')\n",
    "navis.plot3d(n, color='red')"
   ]
  },
  {
   "cell_type": "code",
   "execution_count": null,
   "metadata": {},
   "outputs": [],
   "source": [
    "n.prune_by_volume('LH_R', inplace=True)\n",
    "navis.in_volume(n, 'LH_R', inplace=True)"
   ]
  },
  {
   "cell_type": "raw",
   "metadata": {
    "raw_mimetype": "text/restructuredtext"
   },
   "source": [
    "The ``inplace`` parameter is part of many navis functions and works like that in the excellent pandas library. If ``inplace=True`` operations are performed on the original. If ``inplace=False`` (default) operations are performed on a copy of the original which is then returned:"
   ]
  },
  {
   "cell_type": "code",
   "execution_count": 8,
   "metadata": {},
   "outputs": [
    {
     "name": "stdout",
     "output_type": "stream",
     "text": [
      "6365 nodes before and 1299 nodes after pruning\n"
     ]
    }
   ],
   "source": [
    "n = navis.example_neurons(1)\n",
    "lh = navis.example_volume('LH')\n",
    "n_lh = n.prune_by_volume(lh, inplace=False)\n",
    "print(f'{n.n_nodes} nodes before and {n_lh.n_nodes} nodes after pruning')"
   ]
  },
  {
   "cell_type": "raw",
   "metadata": {
    "raw_mimetype": "text/restructuredtext"
   },
   "source": [
    ".. _index_neuronlists:\n",
    "\n",
    "Indexing NeuronLists\n",
    "====================\n",
    ":class:`~navis.NeuronList` are designed to behave similar to pandas DataFrames in that they allow some fancing\n",
    "indexing.\n",
    "\n",
    "Index by index\n",
    "++++++++++++++\n",
    "\n",
    "You've already seen how to extract a single neuron from a :class:`~navis.NeuronList` using a single integer index. Like for numpy arrays, this also works for list of indices..."
   ]
  },
  {
   "cell_type": "code",
   "execution_count": 2,
   "metadata": {},
   "outputs": [
    {
     "data": {
      "text/html": [
       "<div>\n",
       "<style scoped>\n",
       "    .dataframe tbody tr th:only-of-type {\n",
       "        vertical-align: middle;\n",
       "    }\n",
       "\n",
       "    .dataframe tbody tr th {\n",
       "        vertical-align: top;\n",
       "    }\n",
       "\n",
       "    .dataframe thead th {\n",
       "        text-align: right;\n",
       "    }\n",
       "</style>\n",
       "<table border=\"1\" class=\"dataframe\">\n",
       "  <thead>\n",
       "    <tr style=\"text-align: right;\">\n",
       "      <th></th>\n",
       "      <th>type</th>\n",
       "      <th>name</th>\n",
       "      <th>n_nodes</th>\n",
       "      <th>n_connectors</th>\n",
       "      <th>n_branches</th>\n",
       "      <th>n_leafs</th>\n",
       "      <th>cable_length</th>\n",
       "      <th>soma</th>\n",
       "    </tr>\n",
       "  </thead>\n",
       "  <tbody>\n",
       "    <tr>\n",
       "      <th>0</th>\n",
       "      <td>TreeNeuron</td>\n",
       "      <td>neuron_38885</td>\n",
       "      <td>6365</td>\n",
       "      <td>0</td>\n",
       "      <td>235</td>\n",
       "      <td>243</td>\n",
       "      <td>1.213347e+06</td>\n",
       "      <td>[3490]</td>\n",
       "    </tr>\n",
       "    <tr>\n",
       "      <th>1</th>\n",
       "      <td>TreeNeuron</td>\n",
       "      <td>neuron_57418</td>\n",
       "      <td>3839</td>\n",
       "      <td>0</td>\n",
       "      <td>134</td>\n",
       "      <td>142</td>\n",
       "      <td>9.499755e+05</td>\n",
       "      <td>[2546]</td>\n",
       "    </tr>\n",
       "  </tbody>\n",
       "</table>\n",
       "</div>"
      ],
      "text/plain": [
       "<class 'navis.core.neuronlist.NeuronList'> of 2 neurons \n",
       "          type          name  n_nodes  n_connectors  n_branches  n_leafs  \\\n",
       "0  TreeNeuron  neuron_38885     6365             0         235      243   \n",
       "1  TreeNeuron  neuron_57418     3839             0         134      142   \n",
       "\n",
       "   cable_length    soma  \n",
       "0  1.213347e+06  [3490]  \n",
       "1  9.499755e+05  [2546]  "
      ]
     },
     "execution_count": 2,
     "metadata": {},
     "output_type": "execute_result"
    }
   ],
   "source": [
    "nl = navis.example_neurons(n=3)\n",
    "\n",
    "nl[[0, 2]]"
   ]
  },
  {
   "cell_type": "code",
   "execution_count": null,
   "metadata": {},
   "outputs": [],
   "source": [
    "... or slices"
   ]
  },
  {
   "cell_type": "code",
   "execution_count": 3,
   "metadata": {},
   "outputs": [
    {
     "data": {
      "text/html": [
       "<div>\n",
       "<style scoped>\n",
       "    .dataframe tbody tr th:only-of-type {\n",
       "        vertical-align: middle;\n",
       "    }\n",
       "\n",
       "    .dataframe tbody tr th {\n",
       "        vertical-align: top;\n",
       "    }\n",
       "\n",
       "    .dataframe thead th {\n",
       "        text-align: right;\n",
       "    }\n",
       "</style>\n",
       "<table border=\"1\" class=\"dataframe\">\n",
       "  <thead>\n",
       "    <tr style=\"text-align: right;\">\n",
       "      <th></th>\n",
       "      <th>type</th>\n",
       "      <th>name</th>\n",
       "      <th>n_nodes</th>\n",
       "      <th>n_connectors</th>\n",
       "      <th>n_branches</th>\n",
       "      <th>n_leafs</th>\n",
       "      <th>cable_length</th>\n",
       "      <th>soma</th>\n",
       "    </tr>\n",
       "  </thead>\n",
       "  <tbody>\n",
       "    <tr>\n",
       "      <th>0</th>\n",
       "      <td>TreeNeuron</td>\n",
       "      <td>neuron_38885</td>\n",
       "      <td>6365</td>\n",
       "      <td>0</td>\n",
       "      <td>235</td>\n",
       "      <td>243</td>\n",
       "      <td>1.213347e+06</td>\n",
       "      <td>[3490]</td>\n",
       "    </tr>\n",
       "    <tr>\n",
       "      <th>1</th>\n",
       "      <td>TreeNeuron</td>\n",
       "      <td>neuron_1785034</td>\n",
       "      <td>8187</td>\n",
       "      <td>0</td>\n",
       "      <td>305</td>\n",
       "      <td>322</td>\n",
       "      <td>1.447682e+06</td>\n",
       "      <td>[3604]</td>\n",
       "    </tr>\n",
       "  </tbody>\n",
       "</table>\n",
       "</div>"
      ],
      "text/plain": [
       "<class 'navis.core.neuronlist.NeuronList'> of 2 neurons \n",
       "          type            name  n_nodes  n_connectors  n_branches  n_leafs  \\\n",
       "0  TreeNeuron    neuron_38885     6365             0         235      243   \n",
       "1  TreeNeuron  neuron_1785034     8187             0         305      322   \n",
       "\n",
       "   cable_length    soma  \n",
       "0  1.213347e+06  [3490]  \n",
       "1  1.447682e+06  [3604]  "
      ]
     },
     "execution_count": 3,
     "metadata": {},
     "output_type": "execute_result"
    }
   ],
   "source": [
    "nl[:2]"
   ]
  },
  {
   "cell_type": "raw",
   "metadata": {
    "raw_mimetype": "text/restructuredtext"
   },
   "source": [
    "Index by attributes\n",
    "+++++++++++++++++++\n",
    "\n",
    "You can index by :class:`~navis.NeuronList` by boolean ``numpy.arrays`` - that includes :class:`~navis.TreeNeuron` attributes, e.g. ``n_nodes``, ``cable_length``, ``soma``, etc.\n",
    "\n",
    "Index using node count:"
   ]
  },
  {
   "cell_type": "code",
   "execution_count": 7,
   "metadata": {},
   "outputs": [
    {
     "data": {
      "text/html": [
       "<div>\n",
       "<style scoped>\n",
       "    .dataframe tbody tr th:only-of-type {\n",
       "        vertical-align: middle;\n",
       "    }\n",
       "\n",
       "    .dataframe tbody tr th {\n",
       "        vertical-align: top;\n",
       "    }\n",
       "\n",
       "    .dataframe thead th {\n",
       "        text-align: right;\n",
       "    }\n",
       "</style>\n",
       "<table border=\"1\" class=\"dataframe\">\n",
       "  <thead>\n",
       "    <tr style=\"text-align: right;\">\n",
       "      <th></th>\n",
       "      <th>type</th>\n",
       "      <th>name</th>\n",
       "      <th>n_nodes</th>\n",
       "      <th>n_connectors</th>\n",
       "      <th>n_branches</th>\n",
       "      <th>n_leafs</th>\n",
       "      <th>cable_length</th>\n",
       "      <th>soma</th>\n",
       "    </tr>\n",
       "  </thead>\n",
       "  <tbody>\n",
       "    <tr>\n",
       "      <th>0</th>\n",
       "      <td>TreeNeuron</td>\n",
       "      <td>neuron_1785034</td>\n",
       "      <td>8187</td>\n",
       "      <td>0</td>\n",
       "      <td>305</td>\n",
       "      <td>322</td>\n",
       "      <td>1.447682e+06</td>\n",
       "      <td>[3604]</td>\n",
       "    </tr>\n",
       "  </tbody>\n",
       "</table>\n",
       "</div>"
      ],
      "text/plain": [
       "<class 'navis.core.neuronlist.NeuronList'> of 1 neurons \n",
       "          type            name  n_nodes  n_connectors  n_branches  n_leafs  \\\n",
       "0  TreeNeuron  neuron_1785034     8187             0         305      322   \n",
       "\n",
       "   cable_length    soma  \n",
       "0  1.447682e+06  [3604]  "
      ]
     },
     "execution_count": 7,
     "metadata": {},
     "output_type": "execute_result"
    }
   ],
   "source": [
    "subset = nl[nl.n_nodes > 7000]\n",
    "subset"
   ]
  },
  {
   "cell_type": "raw",
   "metadata": {
    "raw_mimetype": "text/restructuredtext"
   },
   "source": [
    "Here is an example where we subset to neurons that have a soma:"
   ]
  },
  {
   "cell_type": "code",
   "execution_count": 15,
   "metadata": {},
   "outputs": [
    {
     "data": {
      "text/plain": [
       "array([[3490],\n",
       "       [3604],\n",
       "       [2546]])"
      ]
     },
     "execution_count": 15,
     "metadata": {},
     "output_type": "execute_result"
    }
   ],
   "source": [
    "nl.soma"
   ]
  },
  {
   "cell_type": "code",
   "execution_count": 8,
   "metadata": {},
   "outputs": [
    {
     "data": {
      "text/plain": [
       "array([ True,  True,  True])"
      ]
     },
     "execution_count": 8,
     "metadata": {},
     "output_type": "execute_result"
    }
   ],
   "source": [
    "import numpy as np\n",
    "\n",
    "np.any(nl.soma, axis=1)"
   ]
  },
  {
   "cell_type": "code",
   "execution_count": 9,
   "metadata": {},
   "outputs": [
    {
     "data": {
      "text/html": [
       "<div>\n",
       "<style scoped>\n",
       "    .dataframe tbody tr th:only-of-type {\n",
       "        vertical-align: middle;\n",
       "    }\n",
       "\n",
       "    .dataframe tbody tr th {\n",
       "        vertical-align: top;\n",
       "    }\n",
       "\n",
       "    .dataframe thead th {\n",
       "        text-align: right;\n",
       "    }\n",
       "</style>\n",
       "<table border=\"1\" class=\"dataframe\">\n",
       "  <thead>\n",
       "    <tr style=\"text-align: right;\">\n",
       "      <th></th>\n",
       "      <th>type</th>\n",
       "      <th>name</th>\n",
       "      <th>n_nodes</th>\n",
       "      <th>n_connectors</th>\n",
       "      <th>n_branches</th>\n",
       "      <th>n_leafs</th>\n",
       "      <th>cable_length</th>\n",
       "      <th>soma</th>\n",
       "    </tr>\n",
       "  </thead>\n",
       "  <tbody>\n",
       "    <tr>\n",
       "      <th>0</th>\n",
       "      <td>TreeNeuron</td>\n",
       "      <td>neuron_38885</td>\n",
       "      <td>6365</td>\n",
       "      <td>0</td>\n",
       "      <td>235</td>\n",
       "      <td>243</td>\n",
       "      <td>1.213347e+06</td>\n",
       "      <td>[3490]</td>\n",
       "    </tr>\n",
       "    <tr>\n",
       "      <th>1</th>\n",
       "      <td>TreeNeuron</td>\n",
       "      <td>neuron_1785034</td>\n",
       "      <td>8187</td>\n",
       "      <td>0</td>\n",
       "      <td>305</td>\n",
       "      <td>322</td>\n",
       "      <td>1.447682e+06</td>\n",
       "      <td>[3604]</td>\n",
       "    </tr>\n",
       "    <tr>\n",
       "      <th>2</th>\n",
       "      <td>TreeNeuron</td>\n",
       "      <td>neuron_57418</td>\n",
       "      <td>3839</td>\n",
       "      <td>0</td>\n",
       "      <td>134</td>\n",
       "      <td>142</td>\n",
       "      <td>9.499755e+05</td>\n",
       "      <td>[2546]</td>\n",
       "    </tr>\n",
       "  </tbody>\n",
       "</table>\n",
       "</div>"
      ],
      "text/plain": [
       "<class 'navis.core.neuronlist.NeuronList'> of 3 neurons \n",
       "          type            name  n_nodes  n_connectors  n_branches  n_leafs  \\\n",
       "0  TreeNeuron    neuron_38885     6365             0         235      243   \n",
       "1  TreeNeuron  neuron_1785034     8187             0         305      322   \n",
       "2  TreeNeuron    neuron_57418     3839             0         134      142   \n",
       "\n",
       "   cable_length    soma  \n",
       "0  1.213347e+06  [3490]  \n",
       "1  1.447682e+06  [3604]  \n",
       "2  9.499755e+05  [2546]  "
      ]
     },
     "execution_count": 9,
     "metadata": {},
     "output_type": "execute_result"
    }
   ],
   "source": [
    "subset = nl[np.any(nl.soma, axis=1)]\n",
    "subset"
   ]
  },
  {
   "cell_type": "raw",
   "metadata": {
    "raw_mimetype": "text/restructuredtext"
   },
   "source": [
    "Index by name\n",
    "+++++++++++++\n",
    "\n",
    ":class:`~navis.TreeNeuron` can (but don't have to) have names (``.name``). If you, for example, import neurons from SWC files they will inherit their name from the file by default.\n",
    "\n",
    "You can index by single..."
   ]
  },
  {
   "cell_type": "code",
   "execution_count": 10,
   "metadata": {},
   "outputs": [
    {
     "data": {
      "text/html": [
       "<div>\n",
       "<style scoped>\n",
       "    .dataframe tbody tr th:only-of-type {\n",
       "        vertical-align: middle;\n",
       "    }\n",
       "\n",
       "    .dataframe tbody tr th {\n",
       "        vertical-align: top;\n",
       "    }\n",
       "\n",
       "    .dataframe thead th {\n",
       "        text-align: right;\n",
       "    }\n",
       "</style>\n",
       "<table border=\"1\" class=\"dataframe\">\n",
       "  <thead>\n",
       "    <tr style=\"text-align: right;\">\n",
       "      <th></th>\n",
       "      <th>type</th>\n",
       "      <th>name</th>\n",
       "      <th>n_nodes</th>\n",
       "      <th>n_connectors</th>\n",
       "      <th>n_branches</th>\n",
       "      <th>n_leafs</th>\n",
       "      <th>cable_length</th>\n",
       "      <th>soma</th>\n",
       "    </tr>\n",
       "  </thead>\n",
       "  <tbody>\n",
       "    <tr>\n",
       "      <th>0</th>\n",
       "      <td>TreeNeuron</td>\n",
       "      <td>neuron_38885</td>\n",
       "      <td>6365</td>\n",
       "      <td>0</td>\n",
       "      <td>235</td>\n",
       "      <td>243</td>\n",
       "      <td>1.213347e+06</td>\n",
       "      <td>[3490]</td>\n",
       "    </tr>\n",
       "  </tbody>\n",
       "</table>\n",
       "</div>"
      ],
      "text/plain": [
       "<class 'navis.core.neuronlist.NeuronList'> of 1 neurons \n",
       "          type          name  n_nodes  n_connectors  n_branches  n_leafs  \\\n",
       "0  TreeNeuron  neuron_38885     6365             0         235      243   \n",
       "\n",
       "   cable_length    soma  \n",
       "0  1.213347e+06  [3490]  "
      ]
     },
     "execution_count": 10,
     "metadata": {},
     "output_type": "execute_result"
    }
   ],
   "source": [
    "nl['neuron_38885']"
   ]
  },
  {
   "cell_type": "raw",
   "metadata": {
    "raw_mimetype": "text/restructuredtext"
   },
   "source": [
    "... or multiple names:"
   ]
  },
  {
   "cell_type": "code",
   "execution_count": 11,
   "metadata": {},
   "outputs": [
    {
     "data": {
      "text/html": [
       "<div>\n",
       "<style scoped>\n",
       "    .dataframe tbody tr th:only-of-type {\n",
       "        vertical-align: middle;\n",
       "    }\n",
       "\n",
       "    .dataframe tbody tr th {\n",
       "        vertical-align: top;\n",
       "    }\n",
       "\n",
       "    .dataframe thead th {\n",
       "        text-align: right;\n",
       "    }\n",
       "</style>\n",
       "<table border=\"1\" class=\"dataframe\">\n",
       "  <thead>\n",
       "    <tr style=\"text-align: right;\">\n",
       "      <th></th>\n",
       "      <th>type</th>\n",
       "      <th>name</th>\n",
       "      <th>n_nodes</th>\n",
       "      <th>n_connectors</th>\n",
       "      <th>n_branches</th>\n",
       "      <th>n_leafs</th>\n",
       "      <th>cable_length</th>\n",
       "      <th>soma</th>\n",
       "    </tr>\n",
       "  </thead>\n",
       "  <tbody>\n",
       "    <tr>\n",
       "      <th>0</th>\n",
       "      <td>TreeNeuron</td>\n",
       "      <td>neuron_38885</td>\n",
       "      <td>6365</td>\n",
       "      <td>0</td>\n",
       "      <td>235</td>\n",
       "      <td>243</td>\n",
       "      <td>1.213347e+06</td>\n",
       "      <td>[3490]</td>\n",
       "    </tr>\n",
       "    <tr>\n",
       "      <th>1</th>\n",
       "      <td>TreeNeuron</td>\n",
       "      <td>neuron_57418</td>\n",
       "      <td>3839</td>\n",
       "      <td>0</td>\n",
       "      <td>134</td>\n",
       "      <td>142</td>\n",
       "      <td>9.499755e+05</td>\n",
       "      <td>[2546]</td>\n",
       "    </tr>\n",
       "  </tbody>\n",
       "</table>\n",
       "</div>"
      ],
      "text/plain": [
       "<class 'navis.core.neuronlist.NeuronList'> of 2 neurons \n",
       "          type          name  n_nodes  n_connectors  n_branches  n_leafs  \\\n",
       "0  TreeNeuron  neuron_38885     6365             0         235      243   \n",
       "1  TreeNeuron  neuron_57418     3839             0         134      142   \n",
       "\n",
       "   cable_length    soma  \n",
       "0  1.213347e+06  [3490]  \n",
       "1  9.499755e+05  [2546]  "
      ]
     },
     "execution_count": 11,
     "metadata": {},
     "output_type": "execute_result"
    }
   ],
   "source": [
    "nl[['neuron_38885', 'neuron_57418']]"
   ]
  },
  {
   "cell_type": "raw",
   "metadata": {
    "raw_mimetype": "text/restructuredtext"
   },
   "source": [
    "Using regex\n",
    "***********\n",
    "Under the hood, NAVis uses ``re.fullmatch`` to match neuron names - so you can use regex!"
   ]
  },
  {
   "cell_type": "code",
   "execution_count": 16,
   "metadata": {},
   "outputs": [
    {
     "data": {
      "text/html": [
       "<div>\n",
       "<style scoped>\n",
       "    .dataframe tbody tr th:only-of-type {\n",
       "        vertical-align: middle;\n",
       "    }\n",
       "\n",
       "    .dataframe tbody tr th {\n",
       "        vertical-align: top;\n",
       "    }\n",
       "\n",
       "    .dataframe thead th {\n",
       "        text-align: right;\n",
       "    }\n",
       "</style>\n",
       "<table border=\"1\" class=\"dataframe\">\n",
       "  <thead>\n",
       "    <tr style=\"text-align: right;\">\n",
       "      <th></th>\n",
       "      <th>type</th>\n",
       "      <th>name</th>\n",
       "      <th>n_nodes</th>\n",
       "      <th>n_connectors</th>\n",
       "      <th>n_branches</th>\n",
       "      <th>n_leafs</th>\n",
       "      <th>cable_length</th>\n",
       "      <th>soma</th>\n",
       "    </tr>\n",
       "  </thead>\n",
       "  <tbody>\n",
       "    <tr>\n",
       "      <th>0</th>\n",
       "      <td>TreeNeuron</td>\n",
       "      <td>neuron_38885</td>\n",
       "      <td>6365</td>\n",
       "      <td>0</td>\n",
       "      <td>235</td>\n",
       "      <td>243</td>\n",
       "      <td>1.213347e+06</td>\n",
       "      <td>[3490]</td>\n",
       "    </tr>\n",
       "    <tr>\n",
       "      <th>1</th>\n",
       "      <td>TreeNeuron</td>\n",
       "      <td>neuron_1785034</td>\n",
       "      <td>8187</td>\n",
       "      <td>0</td>\n",
       "      <td>305</td>\n",
       "      <td>322</td>\n",
       "      <td>1.447682e+06</td>\n",
       "      <td>[3604]</td>\n",
       "    </tr>\n",
       "  </tbody>\n",
       "</table>\n",
       "</div>"
      ],
      "text/plain": [
       "<class 'navis.core.neuronlist.NeuronList'> of 2 neurons \n",
       "          type            name  n_nodes  n_connectors  n_branches  n_leafs  \\\n",
       "0  TreeNeuron    neuron_38885     6365             0         235      243   \n",
       "1  TreeNeuron  neuron_1785034     8187             0         305      322   \n",
       "\n",
       "   cable_length    soma  \n",
       "0  1.213347e+06  [3490]  \n",
       "1  1.447682e+06  [3604]  "
      ]
     },
     "execution_count": 16,
     "metadata": {},
     "output_type": "execute_result"
    }
   ],
   "source": [
    "nl['.*85.*']"
   ]
  },
  {
   "cell_type": "raw",
   "metadata": {
    "raw_mimetype": "text/restructuredtext"
   },
   "source": [
    "Please note that whichever way you index your :class:`~navis.NeuronList`, each neuron will be returned only once!"
   ]
  },
  {
   "cell_type": "code",
   "execution_count": 9,
   "metadata": {},
   "outputs": [
    {
     "data": {
      "text/html": [
       "<div>\n",
       "<style scoped>\n",
       "    .dataframe tbody tr th:only-of-type {\n",
       "        vertical-align: middle;\n",
       "    }\n",
       "\n",
       "    .dataframe tbody tr th {\n",
       "        vertical-align: top;\n",
       "    }\n",
       "\n",
       "    .dataframe thead th {\n",
       "        text-align: right;\n",
       "    }\n",
       "</style>\n",
       "<table border=\"1\" class=\"dataframe\">\n",
       "  <thead>\n",
       "    <tr style=\"text-align: right;\">\n",
       "      <th></th>\n",
       "      <th>type</th>\n",
       "      <th>name</th>\n",
       "      <th>n_nodes</th>\n",
       "      <th>n_connectors</th>\n",
       "      <th>n_branches</th>\n",
       "      <th>n_leafs</th>\n",
       "      <th>cable_length</th>\n",
       "      <th>soma</th>\n",
       "    </tr>\n",
       "  </thead>\n",
       "  <tbody>\n",
       "    <tr>\n",
       "      <th>0</th>\n",
       "      <td>TreeNeuron</td>\n",
       "      <td>neuron_38885</td>\n",
       "      <td>6365</td>\n",
       "      <td>0</td>\n",
       "      <td>235</td>\n",
       "      <td>243</td>\n",
       "      <td>1.213347e+06</td>\n",
       "      <td>[3490]</td>\n",
       "    </tr>\n",
       "  </tbody>\n",
       "</table>\n",
       "</div>"
      ],
      "text/plain": [
       "<class 'navis.core.neuronlist.NeuronList'> of 1 neurons \n",
       "          type          name  n_nodes  n_connectors  n_branches  n_leafs  \\\n",
       "0  TreeNeuron  neuron_38885     6365             0         235      243   \n",
       "\n",
       "   cable_length    soma  \n",
       "0  1.213347e+06  [3490]  "
      ]
     },
     "execution_count": 9,
     "metadata": {},
     "output_type": "execute_result"
    }
   ],
   "source": [
    "nl[[0, 0]]"
   ]
  },
  {
   "cell_type": "code",
   "execution_count": 10,
   "metadata": {},
   "outputs": [
    {
     "data": {
      "text/html": [
       "<div>\n",
       "<style scoped>\n",
       "    .dataframe tbody tr th:only-of-type {\n",
       "        vertical-align: middle;\n",
       "    }\n",
       "\n",
       "    .dataframe tbody tr th {\n",
       "        vertical-align: top;\n",
       "    }\n",
       "\n",
       "    .dataframe thead th {\n",
       "        text-align: right;\n",
       "    }\n",
       "</style>\n",
       "<table border=\"1\" class=\"dataframe\">\n",
       "  <thead>\n",
       "    <tr style=\"text-align: right;\">\n",
       "      <th></th>\n",
       "      <th>type</th>\n",
       "      <th>name</th>\n",
       "      <th>n_nodes</th>\n",
       "      <th>n_connectors</th>\n",
       "      <th>n_branches</th>\n",
       "      <th>n_leafs</th>\n",
       "      <th>cable_length</th>\n",
       "      <th>soma</th>\n",
       "    </tr>\n",
       "  </thead>\n",
       "  <tbody>\n",
       "    <tr>\n",
       "      <th>0</th>\n",
       "      <td>TreeNeuron</td>\n",
       "      <td>neuron_38885</td>\n",
       "      <td>6365</td>\n",
       "      <td>0</td>\n",
       "      <td>235</td>\n",
       "      <td>243</td>\n",
       "      <td>1.213347e+06</td>\n",
       "      <td>[3490]</td>\n",
       "    </tr>\n",
       "  </tbody>\n",
       "</table>\n",
       "</div>"
      ],
      "text/plain": [
       "<class 'navis.core.neuronlist.NeuronList'> of 1 neurons \n",
       "          type          name  n_nodes  n_connectors  n_branches  n_leafs  \\\n",
       "0  TreeNeuron  neuron_38885     6365             0         235      243   \n",
       "\n",
       "   cable_length    soma  \n",
       "0  1.213347e+06  [3490]  "
      ]
     },
     "execution_count": 10,
     "metadata": {},
     "output_type": "execute_result"
    }
   ],
   "source": [
    "nl[[0, 'neuron_38885']]"
   ]
  },
  {
   "cell_type": "raw",
   "metadata": {
    "raw_mimetype": "text/restructuredtext"
   },
   "source": [
    ".. _neuron_math:\n",
    "\n",
    "Neuron Math\n",
    "===========\n",
    "NAVis implements a very simply and intuitive syntax to add and remove items from a NeuronList:\n",
    "\n",
    "Addition\n",
    "++++++++\n",
    "To merge two lists in Python, you can simply add them:"
   ]
  },
  {
   "cell_type": "code",
   "execution_count": 17,
   "metadata": {},
   "outputs": [
    {
     "data": {
      "text/plain": [
       "[1, 3]"
      ]
     },
     "execution_count": 17,
     "metadata": {},
     "output_type": "execute_result"
    }
   ],
   "source": [
    "[1] + [3]"
   ]
  },
  {
   "cell_type": "raw",
   "metadata": {
    "raw_mimetype": "text/restructuredtext"
   },
   "source": [
    ":class:`~navis.NeuronList` works exactly the same:"
   ]
  },
  {
   "cell_type": "code",
   "execution_count": 14,
   "metadata": {},
   "outputs": [
    {
     "data": {
      "text/html": [
       "<div>\n",
       "<style scoped>\n",
       "    .dataframe tbody tr th:only-of-type {\n",
       "        vertical-align: middle;\n",
       "    }\n",
       "\n",
       "    .dataframe tbody tr th {\n",
       "        vertical-align: top;\n",
       "    }\n",
       "\n",
       "    .dataframe thead th {\n",
       "        text-align: right;\n",
       "    }\n",
       "</style>\n",
       "<table border=\"1\" class=\"dataframe\">\n",
       "  <thead>\n",
       "    <tr style=\"text-align: right;\">\n",
       "      <th></th>\n",
       "      <th>type</th>\n",
       "      <th>name</th>\n",
       "      <th>n_nodes</th>\n",
       "      <th>n_connectors</th>\n",
       "      <th>n_branches</th>\n",
       "      <th>n_leafs</th>\n",
       "      <th>cable_length</th>\n",
       "      <th>soma</th>\n",
       "    </tr>\n",
       "  </thead>\n",
       "  <tbody>\n",
       "    <tr>\n",
       "      <th>0</th>\n",
       "      <td>TreeNeuron</td>\n",
       "      <td>neuron_38885</td>\n",
       "      <td>6365</td>\n",
       "      <td>0</td>\n",
       "      <td>235</td>\n",
       "      <td>243</td>\n",
       "      <td>1.213347e+06</td>\n",
       "      <td>[3490]</td>\n",
       "    </tr>\n",
       "    <tr>\n",
       "      <th>1</th>\n",
       "      <td>TreeNeuron</td>\n",
       "      <td>neuron_1785034</td>\n",
       "      <td>8187</td>\n",
       "      <td>0</td>\n",
       "      <td>305</td>\n",
       "      <td>322</td>\n",
       "      <td>1.447682e+06</td>\n",
       "      <td>[3604]</td>\n",
       "    </tr>\n",
       "    <tr>\n",
       "      <th>2</th>\n",
       "      <td>TreeNeuron</td>\n",
       "      <td>neuron_57418</td>\n",
       "      <td>3839</td>\n",
       "      <td>0</td>\n",
       "      <td>134</td>\n",
       "      <td>142</td>\n",
       "      <td>9.499755e+05</td>\n",
       "      <td>[2546]</td>\n",
       "    </tr>\n",
       "  </tbody>\n",
       "</table>\n",
       "</div>"
      ],
      "text/plain": [
       "<class 'navis.core.neuronlist.NeuronList'> of 3 neurons \n",
       "          type            name  n_nodes  n_connectors  n_branches  n_leafs  \\\n",
       "0  TreeNeuron    neuron_38885     6365             0         235      243   \n",
       "1  TreeNeuron  neuron_1785034     8187             0         305      322   \n",
       "2  TreeNeuron    neuron_57418     3839             0         134      142   \n",
       "\n",
       "   cable_length    soma  \n",
       "0  1.213347e+06  [3490]  \n",
       "1  1.447682e+06  [3604]  \n",
       "2  9.499755e+05  [2546]  "
      ]
     },
     "execution_count": 14,
     "metadata": {},
     "output_type": "execute_result"
    }
   ],
   "source": [
    "nl[:2] + nl[2:]"
   ]
  },
  {
   "cell_type": "raw",
   "metadata": {
    "raw_mimetype": "text/restructuredtext"
   },
   "source": [
    "This also works on with two single :class:`~navis.TreeNeurons`! You can use that to combine them into a list:"
   ]
  },
  {
   "cell_type": "code",
   "execution_count": 13,
   "metadata": {},
   "outputs": [
    {
     "data": {
      "text/html": [
       "<div>\n",
       "<style scoped>\n",
       "    .dataframe tbody tr th:only-of-type {\n",
       "        vertical-align: middle;\n",
       "    }\n",
       "\n",
       "    .dataframe tbody tr th {\n",
       "        vertical-align: top;\n",
       "    }\n",
       "\n",
       "    .dataframe thead th {\n",
       "        text-align: right;\n",
       "    }\n",
       "</style>\n",
       "<table border=\"1\" class=\"dataframe\">\n",
       "  <thead>\n",
       "    <tr style=\"text-align: right;\">\n",
       "      <th></th>\n",
       "      <th>type</th>\n",
       "      <th>name</th>\n",
       "      <th>n_nodes</th>\n",
       "      <th>n_connectors</th>\n",
       "      <th>n_branches</th>\n",
       "      <th>n_leafs</th>\n",
       "      <th>cable_length</th>\n",
       "      <th>soma</th>\n",
       "    </tr>\n",
       "  </thead>\n",
       "  <tbody>\n",
       "    <tr>\n",
       "      <th>0</th>\n",
       "      <td>TreeNeuron</td>\n",
       "      <td>neuron_38885</td>\n",
       "      <td>6365</td>\n",
       "      <td>0</td>\n",
       "      <td>235</td>\n",
       "      <td>243</td>\n",
       "      <td>1.213347e+06</td>\n",
       "      <td>[3490]</td>\n",
       "    </tr>\n",
       "    <tr>\n",
       "      <th>1</th>\n",
       "      <td>TreeNeuron</td>\n",
       "      <td>neuron_1785034</td>\n",
       "      <td>8187</td>\n",
       "      <td>0</td>\n",
       "      <td>305</td>\n",
       "      <td>322</td>\n",
       "      <td>1.447682e+06</td>\n",
       "      <td>[3604]</td>\n",
       "    </tr>\n",
       "  </tbody>\n",
       "</table>\n",
       "</div>"
      ],
      "text/plain": [
       "<class 'navis.core.neuronlist.NeuronList'> of 2 neurons \n",
       "          type            name  n_nodes  n_connectors  n_branches  n_leafs  \\\n",
       "0  TreeNeuron    neuron_38885     6365             0         235      243   \n",
       "1  TreeNeuron  neuron_1785034     8187             0         305      322   \n",
       "\n",
       "   cable_length    soma  \n",
       "0  1.213347e+06  [3490]  \n",
       "1  1.447682e+06  [3604]  "
      ]
     },
     "execution_count": 13,
     "metadata": {},
     "output_type": "execute_result"
    }
   ],
   "source": [
    "nl[0] + nl[1]"
   ]
  },
  {
   "cell_type": "raw",
   "metadata": {
    "raw_mimetype": "text/restructuredtext"
   },
   "source": [
    "Substraction\n",
    "++++++++++++\n",
    "To remove an item from a Python list, you would call the ``.pop()`` method:"
   ]
  },
  {
   "cell_type": "code",
   "execution_count": 16,
   "metadata": {},
   "outputs": [
    {
     "data": {
      "text/plain": [
       "[1, 2]"
      ]
     },
     "execution_count": 16,
     "metadata": {},
     "output_type": "execute_result"
    }
   ],
   "source": [
    "l = [1, 2, 3]\n",
    "l.pop(2)\n",
    "l"
   ]
  },
  {
   "cell_type": "raw",
   "metadata": {
    "raw_mimetype": "text/restructuredtext"
   },
   "source": [
    ":class:`~navis.NeuronList` lets you use substraction:"
   ]
  },
  {
   "cell_type": "code",
   "execution_count": 20,
   "metadata": {},
   "outputs": [
    {
     "data": {
      "text/html": [
       "<div>\n",
       "<style scoped>\n",
       "    .dataframe tbody tr th:only-of-type {\n",
       "        vertical-align: middle;\n",
       "    }\n",
       "\n",
       "    .dataframe tbody tr th {\n",
       "        vertical-align: top;\n",
       "    }\n",
       "\n",
       "    .dataframe thead th {\n",
       "        text-align: right;\n",
       "    }\n",
       "</style>\n",
       "<table border=\"1\" class=\"dataframe\">\n",
       "  <thead>\n",
       "    <tr style=\"text-align: right;\">\n",
       "      <th></th>\n",
       "      <th>type</th>\n",
       "      <th>name</th>\n",
       "      <th>n_nodes</th>\n",
       "      <th>n_connectors</th>\n",
       "      <th>n_branches</th>\n",
       "      <th>n_leafs</th>\n",
       "      <th>cable_length</th>\n",
       "      <th>soma</th>\n",
       "    </tr>\n",
       "  </thead>\n",
       "  <tbody>\n",
       "    <tr>\n",
       "      <th>0</th>\n",
       "      <td>TreeNeuron</td>\n",
       "      <td>neuron_38885</td>\n",
       "      <td>6365</td>\n",
       "      <td>0</td>\n",
       "      <td>235</td>\n",
       "      <td>243</td>\n",
       "      <td>1.213347e+06</td>\n",
       "      <td>[3490]</td>\n",
       "    </tr>\n",
       "    <tr>\n",
       "      <th>1</th>\n",
       "      <td>TreeNeuron</td>\n",
       "      <td>neuron_1785034</td>\n",
       "      <td>8187</td>\n",
       "      <td>0</td>\n",
       "      <td>305</td>\n",
       "      <td>322</td>\n",
       "      <td>1.447682e+06</td>\n",
       "      <td>[3604]</td>\n",
       "    </tr>\n",
       "  </tbody>\n",
       "</table>\n",
       "</div>"
      ],
      "text/plain": [
       "<class 'navis.core.neuronlist.NeuronList'> of 2 neurons \n",
       "          type            name  n_nodes  n_connectors  n_branches  n_leafs  \\\n",
       "0  TreeNeuron    neuron_38885     6365             0         235      243   \n",
       "1  TreeNeuron  neuron_1785034     8187             0         305      322   \n",
       "\n",
       "   cable_length    soma  \n",
       "0  1.213347e+06  [3490]  \n",
       "1  1.447682e+06  [3604]  "
      ]
     },
     "execution_count": 20,
     "metadata": {},
     "output_type": "execute_result"
    }
   ],
   "source": [
    "nl - nl[2]"
   ]
  },
  {
   "cell_type": "raw",
   "metadata": {
    "raw_mimetype": "text/restructuredtext"
   },
   "source": [
    "Bitwise AND\n",
    "+++++++++++\n",
    "To find the intersection between two lists, you would use ``sets`` and the ``&`` operator:"
   ]
  },
  {
   "cell_type": "code",
   "execution_count": 21,
   "metadata": {},
   "outputs": [
    {
     "data": {
      "text/plain": [
       "{2}"
      ]
     },
     "execution_count": 21,
     "metadata": {},
     "output_type": "execute_result"
    }
   ],
   "source": [
    "set([0, 1, 2]) &  set([2, 3, 4])"
   ]
  },
  {
   "cell_type": "raw",
   "metadata": {
    "raw_mimetype": "text/restructuredtext"
   },
   "source": [
    ":class:`~navis.NeuronList` work similarly:"
   ]
  },
  {
   "cell_type": "code",
   "execution_count": 22,
   "metadata": {},
   "outputs": [
    {
     "data": {
      "text/html": [
       "<div>\n",
       "<style scoped>\n",
       "    .dataframe tbody tr th:only-of-type {\n",
       "        vertical-align: middle;\n",
       "    }\n",
       "\n",
       "    .dataframe tbody tr th {\n",
       "        vertical-align: top;\n",
       "    }\n",
       "\n",
       "    .dataframe thead th {\n",
       "        text-align: right;\n",
       "    }\n",
       "</style>\n",
       "<table border=\"1\" class=\"dataframe\">\n",
       "  <thead>\n",
       "    <tr style=\"text-align: right;\">\n",
       "      <th></th>\n",
       "      <th>type</th>\n",
       "      <th>name</th>\n",
       "      <th>n_nodes</th>\n",
       "      <th>n_connectors</th>\n",
       "      <th>n_branches</th>\n",
       "      <th>n_leafs</th>\n",
       "      <th>cable_length</th>\n",
       "      <th>soma</th>\n",
       "    </tr>\n",
       "  </thead>\n",
       "  <tbody>\n",
       "    <tr>\n",
       "      <th>0</th>\n",
       "      <td>TreeNeuron</td>\n",
       "      <td>neuron_1785034</td>\n",
       "      <td>8187</td>\n",
       "      <td>0</td>\n",
       "      <td>305</td>\n",
       "      <td>322</td>\n",
       "      <td>1.447682e+06</td>\n",
       "      <td>[3604]</td>\n",
       "    </tr>\n",
       "  </tbody>\n",
       "</table>\n",
       "</div>"
      ],
      "text/plain": [
       "<class 'navis.core.neuronlist.NeuronList'> of 1 neurons \n",
       "          type            name  n_nodes  n_connectors  n_branches  n_leafs  \\\n",
       "0  TreeNeuron  neuron_1785034     8187             0         305      322   \n",
       "\n",
       "   cable_length    soma  \n",
       "0  1.447682e+06  [3604]  "
      ]
     },
     "execution_count": 22,
     "metadata": {},
     "output_type": "execute_result"
    }
   ],
   "source": [
    "nl[[0, 1]] & nl[[1, 2]]"
   ]
  },
  {
   "cell_type": "raw",
   "metadata": {
    "raw_mimetype": "text/restructuredtext"
   },
   "source": [
    "Multiplication and Division\n",
    "+++++++++++++++++++++++++++\n",
    "So far, all operations have led to changes in the structure of the :class:`~navis.NeuronList`. Multiplication and division are **different**! If you multiply/divide a :class:`~navis.TreeNeuron` or :class:`~navis.NeuronList` by a number, you will change the *coordinates* of nodes and connectors (including radii):"
   ]
  },
  {
   "cell_type": "code",
   "execution_count": 23,
   "metadata": {},
   "outputs": [
    {
     "data": {
      "text/html": [
       "<div>\n",
       "<style scoped>\n",
       "    .dataframe tbody tr th:only-of-type {\n",
       "        vertical-align: middle;\n",
       "    }\n",
       "\n",
       "    .dataframe tbody tr th {\n",
       "        vertical-align: top;\n",
       "    }\n",
       "\n",
       "    .dataframe thead th {\n",
       "        text-align: right;\n",
       "    }\n",
       "</style>\n",
       "<table border=\"1\" class=\"dataframe\">\n",
       "  <thead>\n",
       "    <tr style=\"text-align: right;\">\n",
       "      <th></th>\n",
       "      <th>node_id</th>\n",
       "      <th>label</th>\n",
       "      <th>x</th>\n",
       "      <th>y</th>\n",
       "      <th>z</th>\n",
       "      <th>radius</th>\n",
       "      <th>parent_id</th>\n",
       "      <th>type</th>\n",
       "    </tr>\n",
       "  </thead>\n",
       "  <tbody>\n",
       "    <tr>\n",
       "      <th>0</th>\n",
       "      <td>1</td>\n",
       "      <td>0</td>\n",
       "      <td>489192.0</td>\n",
       "      <td>186290.0</td>\n",
       "      <td>138040.0</td>\n",
       "      <td>0.0</td>\n",
       "      <td>-1</td>\n",
       "      <td>root</td>\n",
       "    </tr>\n",
       "    <tr>\n",
       "      <th>1</th>\n",
       "      <td>2</td>\n",
       "      <td>0</td>\n",
       "      <td>489233.0</td>\n",
       "      <td>186198.0</td>\n",
       "      <td>138080.0</td>\n",
       "      <td>0.0</td>\n",
       "      <td>1</td>\n",
       "      <td>slab</td>\n",
       "    </tr>\n",
       "    <tr>\n",
       "      <th>2</th>\n",
       "      <td>3</td>\n",
       "      <td>0</td>\n",
       "      <td>489235.0</td>\n",
       "      <td>186174.0</td>\n",
       "      <td>138120.0</td>\n",
       "      <td>0.0</td>\n",
       "      <td>2</td>\n",
       "      <td>slab</td>\n",
       "    </tr>\n",
       "    <tr>\n",
       "      <th>3</th>\n",
       "      <td>4</td>\n",
       "      <td>0</td>\n",
       "      <td>489229.0</td>\n",
       "      <td>186200.0</td>\n",
       "      <td>138160.0</td>\n",
       "      <td>0.0</td>\n",
       "      <td>3</td>\n",
       "      <td>slab</td>\n",
       "    </tr>\n",
       "    <tr>\n",
       "      <th>4</th>\n",
       "      <td>5</td>\n",
       "      <td>0</td>\n",
       "      <td>489251.0</td>\n",
       "      <td>186141.0</td>\n",
       "      <td>138200.0</td>\n",
       "      <td>0.0</td>\n",
       "      <td>4</td>\n",
       "      <td>slab</td>\n",
       "    </tr>\n",
       "  </tbody>\n",
       "</table>\n",
       "</div>"
      ],
      "text/plain": [
       "   node_id label         x         y         z  radius  parent_id  type\n",
       "0        1     0  489192.0  186290.0  138040.0     0.0         -1  root\n",
       "1        2     0  489233.0  186198.0  138080.0     0.0          1  slab\n",
       "2        3     0  489235.0  186174.0  138120.0     0.0          2  slab\n",
       "3        4     0  489229.0  186200.0  138160.0     0.0          3  slab\n",
       "4        5     0  489251.0  186141.0  138200.0     0.0          4  slab"
      ]
     },
     "execution_count": 23,
     "metadata": {},
     "output_type": "execute_result"
    }
   ],
   "source": [
    "n = nl[0]\n",
    "n.nodes.head()"
   ]
  },
  {
   "cell_type": "code",
   "execution_count": 24,
   "metadata": {},
   "outputs": [
    {
     "data": {
      "text/html": [
       "<div>\n",
       "<style scoped>\n",
       "    .dataframe tbody tr th:only-of-type {\n",
       "        vertical-align: middle;\n",
       "    }\n",
       "\n",
       "    .dataframe tbody tr th {\n",
       "        vertical-align: top;\n",
       "    }\n",
       "\n",
       "    .dataframe thead th {\n",
       "        text-align: right;\n",
       "    }\n",
       "</style>\n",
       "<table border=\"1\" class=\"dataframe\">\n",
       "  <thead>\n",
       "    <tr style=\"text-align: right;\">\n",
       "      <th></th>\n",
       "      <th>node_id</th>\n",
       "      <th>label</th>\n",
       "      <th>x</th>\n",
       "      <th>y</th>\n",
       "      <th>z</th>\n",
       "      <th>radius</th>\n",
       "      <th>parent_id</th>\n",
       "      <th>type</th>\n",
       "    </tr>\n",
       "  </thead>\n",
       "  <tbody>\n",
       "    <tr>\n",
       "      <th>0</th>\n",
       "      <td>1</td>\n",
       "      <td>0</td>\n",
       "      <td>489.192</td>\n",
       "      <td>186.290</td>\n",
       "      <td>138.04</td>\n",
       "      <td>0.0</td>\n",
       "      <td>-1</td>\n",
       "      <td>root</td>\n",
       "    </tr>\n",
       "    <tr>\n",
       "      <th>1</th>\n",
       "      <td>2</td>\n",
       "      <td>0</td>\n",
       "      <td>489.233</td>\n",
       "      <td>186.198</td>\n",
       "      <td>138.08</td>\n",
       "      <td>0.0</td>\n",
       "      <td>1</td>\n",
       "      <td>slab</td>\n",
       "    </tr>\n",
       "    <tr>\n",
       "      <th>2</th>\n",
       "      <td>3</td>\n",
       "      <td>0</td>\n",
       "      <td>489.235</td>\n",
       "      <td>186.174</td>\n",
       "      <td>138.12</td>\n",
       "      <td>0.0</td>\n",
       "      <td>2</td>\n",
       "      <td>slab</td>\n",
       "    </tr>\n",
       "    <tr>\n",
       "      <th>3</th>\n",
       "      <td>4</td>\n",
       "      <td>0</td>\n",
       "      <td>489.229</td>\n",
       "      <td>186.200</td>\n",
       "      <td>138.16</td>\n",
       "      <td>0.0</td>\n",
       "      <td>3</td>\n",
       "      <td>slab</td>\n",
       "    </tr>\n",
       "    <tr>\n",
       "      <th>4</th>\n",
       "      <td>5</td>\n",
       "      <td>0</td>\n",
       "      <td>489.251</td>\n",
       "      <td>186.141</td>\n",
       "      <td>138.20</td>\n",
       "      <td>0.0</td>\n",
       "      <td>4</td>\n",
       "      <td>slab</td>\n",
       "    </tr>\n",
       "  </tbody>\n",
       "</table>\n",
       "</div>"
      ],
      "text/plain": [
       "   node_id label        x        y       z  radius  parent_id  type\n",
       "0        1     0  489.192  186.290  138.04     0.0         -1  root\n",
       "1        2     0  489.233  186.198  138.08     0.0          1  slab\n",
       "2        3     0  489.235  186.174  138.12     0.0          2  slab\n",
       "3        4     0  489.229  186.200  138.16     0.0          3  slab\n",
       "4        5     0  489.251  186.141  138.20     0.0          4  slab"
      ]
     },
     "execution_count": 24,
     "metadata": {},
     "output_type": "execute_result"
    }
   ],
   "source": [
    "n2 = n / 1000\n",
    "n2.nodes.head()"
   ]
  },
  {
   "cell_type": "raw",
   "metadata": {
    "raw_mimetype": "text/restructuredtext"
   },
   "source": [
    ".. _compare_neurons:\n",
    "\n",
    "Comparing Neuron/Lists\n",
    "======================\n",
    ":class:`~navis.NeuronList` implements some of the basic arithmetic and comparison operators that you might know from standard ``lists`` or ``numpy.arrays``. Most this should be fairly intuitive (I hope) but there are a few things you should be aware of. The following examples will illustrate that.\n",
    "\n",
    "Comparisons\n",
    "+++++++++++\n",
    "In Python the ``==`` operator compares two elements:"
   ]
  },
  {
   "cell_type": "code",
   "execution_count": 17,
   "metadata": {},
   "outputs": [
    {
     "data": {
      "text/plain": [
       "True"
      ]
     },
     "execution_count": 17,
     "metadata": {},
     "output_type": "execute_result"
    }
   ],
   "source": [
    "1 == 1"
   ]
  },
  {
   "cell_type": "code",
   "execution_count": 18,
   "metadata": {},
   "outputs": [
    {
     "data": {
      "text/plain": [
       "False"
      ]
     },
     "execution_count": 18,
     "metadata": {},
     "output_type": "execute_result"
    }
   ],
   "source": [
    "2 == 1"
   ]
  },
  {
   "cell_type": "raw",
   "metadata": {
    "raw_mimetype": "text/restructuredtext"
   },
   "source": [
    "For :class:`~navis.Neuron` this is comparison done by looking at the neurons' attribues: morphologies (soma(s), root(s) nodes, cable length, ...) and meta data (name). "
   ]
  },
  {
   "cell_type": "code",
   "execution_count": 5,
   "metadata": {},
   "outputs": [
    {
     "data": {
      "text/plain": [
       "True"
      ]
     },
     "execution_count": 5,
     "metadata": {},
     "output_type": "execute_result"
    }
   ],
   "source": [
    "nl[0] == nl[0]"
   ]
  },
  {
   "cell_type": "code",
   "execution_count": 6,
   "metadata": {},
   "outputs": [
    {
     "data": {
      "text/plain": [
       "False"
      ]
     },
     "execution_count": 6,
     "metadata": {},
     "output_type": "execute_result"
    }
   ],
   "source": [
    "nl[0] == nl[1]"
   ]
  },
  {
   "cell_type": "raw",
   "metadata": {
    "raw_mimetype": "text/restructuredtext"
   },
   "source": [
    "To find out which attributes are compared, check out:"
   ]
  },
  {
   "cell_type": "code",
   "execution_count": 3,
   "metadata": {},
   "outputs": [
    {
     "data": {
      "text/plain": [
       "['n_nodes',\n",
       " 'n_connectors',\n",
       " 'soma',\n",
       " 'root',\n",
       " 'n_branches',\n",
       " 'n_leafs',\n",
       " 'cable_length',\n",
       " 'name']"
      ]
     },
     "execution_count": 3,
     "metadata": {},
     "output_type": "execute_result"
    }
   ],
   "source": [
    "navis.TreeNeuron.EQ_ATTRIBUTES"
   ]
  },
  {
   "cell_type": "raw",
   "metadata": {
    "raw_mimetype": "text/restructuredtext"
   },
   "source": [
    "Edit this list to establish your own criteria for equality.\n",
    "\n",
    "For :class:`~navis.NeuronList`, we do the same comparison pairwise between the neurons in both neuronlists:"
   ]
  },
  {
   "cell_type": "code",
   "execution_count": 7,
   "metadata": {},
   "outputs": [
    {
     "data": {
      "text/plain": [
       "True"
      ]
     },
     "execution_count": 7,
     "metadata": {},
     "output_type": "execute_result"
    }
   ],
   "source": [
    "nl == nl"
   ]
  },
  {
   "cell_type": "code",
   "execution_count": 4,
   "metadata": {},
   "outputs": [
    {
     "data": {
      "text/plain": [
       "False"
      ]
     },
     "execution_count": 4,
     "metadata": {},
     "output_type": "execute_result"
    }
   ],
   "source": [
    "nl == nl[:2]"
   ]
  },
  {
   "cell_type": "raw",
   "metadata": {
    "raw_mimetype": "text/restructuredtext"
   },
   "source": [
    "Because the comparison is done pairwise and **in order**, shuffling a :class:`~navis.NeuronList` will result in a failed comparison:"
   ]
  },
  {
   "cell_type": "code",
   "execution_count": 5,
   "metadata": {},
   "outputs": [
    {
     "data": {
      "text/plain": [
       "False"
      ]
     },
     "execution_count": 5,
     "metadata": {},
     "output_type": "execute_result"
    }
   ],
   "source": [
    "nl == nl[[2, 1, 0]]"
   ]
  },
  {
   "cell_type": "raw",
   "metadata": {
    "raw_mimetype": "text/restructuredtext"
   },
   "source": [
    "Comparisons are safe against copying but making any changes to the neurons will cause inequality:"
   ]
  },
  {
   "cell_type": "code",
   "execution_count": 6,
   "metadata": {},
   "outputs": [
    {
     "data": {
      "text/plain": [
       "True"
      ]
     },
     "execution_count": 6,
     "metadata": {},
     "output_type": "execute_result"
    }
   ],
   "source": [
    "nl[0] == nl[0].copy()"
   ]
  },
  {
   "cell_type": "code",
   "execution_count": 7,
   "metadata": {},
   "outputs": [
    {
     "data": {
      "text/plain": [
       "False"
      ]
     },
     "execution_count": 7,
     "metadata": {},
     "output_type": "execute_result"
    }
   ],
   "source": [
    "nl[0] == nl[0].downsample(2, inplace=False)"
   ]
  },
  {
   "cell_type": "raw",
   "metadata": {
    "raw_mimetype": "text/restructuredtext"
   },
   "source": [
    "You can also ask if a neuron is in a given ``NeuronList``:"
   ]
  },
  {
   "cell_type": "code",
   "execution_count": 8,
   "metadata": {},
   "outputs": [
    {
     "data": {
      "text/plain": [
       "True"
      ]
     },
     "execution_count": 8,
     "metadata": {},
     "output_type": "execute_result"
    }
   ],
   "source": [
    "nl[0] in nl"
   ]
  },
  {
   "cell_type": "code",
   "execution_count": 9,
   "metadata": {},
   "outputs": [
    {
     "data": {
      "text/plain": [
       "False"
      ]
     },
     "execution_count": 9,
     "metadata": {},
     "output_type": "execute_result"
    }
   ],
   "source": [
    "nl[0] in nl[1:]"
   ]
  },
  {
   "cell_type": "raw",
   "metadata": {
    "raw_mimetype": "text/restructuredtext"
   },
   "source": [
    "Making custom changes\n",
    "=====================\n",
    "\n",
    "Under the hood, NAVis generates properties when you load a neuron: e.g. a graph representation (``.graph`` or ``.igraph``) and a list of linear segments (``.segments``). These data are attached to a neuron and are crucial for most of NAVis' functions. Therefore NAVis make sure that any changes to a neuron automatically propagate into these data structures. See this example:"
   ]
  },
  {
   "cell_type": "code",
   "execution_count": 6,
   "metadata": {},
   "outputs": [
    {
     "name": "stdout",
     "output_type": "stream",
     "text": [
      "Nodes in node table: 6365\n",
      "Nodes in graph: 6365\n"
     ]
    }
   ],
   "source": [
    "n = navis.example_neurons(1)\n",
    "\n",
    "print(f'Nodes in node table: {n.nodes.shape[0]}')\n",
    "print(f'Nodes in graph: {len(n.graph.nodes)}')"
   ]
  },
  {
   "cell_type": "raw",
   "metadata": {
    "raw_mimetype": "text/restructuredtext"
   },
   "source": [
    "Making changes will cause the graph representation to be regenerated:"
   ]
  },
  {
   "cell_type": "code",
   "execution_count": 7,
   "metadata": {},
   "outputs": [
    {
     "name": "stdout",
     "output_type": "stream",
     "text": [
      "Nodes in node table: 4461\n",
      "Nodes in graph: 4461\n"
     ]
    }
   ],
   "source": [
    "n.prune_by_strahler(1, inplace=True)\n",
    "\n",
    "print(f'Nodes in node table: {n.nodes.shape[0]}')\n",
    "print(f'Nodes in graph: {len(n.graph.nodes)}')"
   ]
  },
  {
   "cell_type": "raw",
   "metadata": {
    "raw_mimetype": "text/restructuredtext"
   },
   "source": [
    "If, however, you make changes to the neurons that do not use built-in functions there is a chance that NAVis won't know that these properties need to be regenerated!"
   ]
  },
  {
   "cell_type": "code",
   "execution_count": 39,
   "metadata": {},
   "outputs": [
    {
     "name": "stdout",
     "output_type": "stream",
     "text": [
      "Nodes in node table before: 6365\n",
      "Nodes in graph before: 6365\n",
      "\n",
      "Nodes in node table after: 6310\n",
      "Nodes in graph after: 6365\n"
     ]
    }
   ],
   "source": [
    "n = navis.example_neurons(1)\n",
    "\n",
    "print(f'Nodes in node table before: {n.nodes.shape[0]}')\n",
    "print(f'Nodes in graph before: {len(n.graph.nodes)}')\n",
    "\n",
    "# Truncate the node table by 55 nodes\n",
    "n.nodes = n.nodes.iloc[:-55]\n",
    "\n",
    "print(f'\\nNodes in node table after: {n.nodes.shape[0]}')\n",
    "print(f'Nodes in graph after: {len(n.graph.nodes)}')"
   ]
  },
  {
   "cell_type": "raw",
   "metadata": {
    "raw_mimetype": "text/restructuredtext"
   },
   "source": [
    "See how the changes to the node table did not propagate to the graph representation of the neuron? For this to happen we have to manually trigger regeneration of temporary attributes such as the graph:"
   ]
  },
  {
   "cell_type": "code",
   "execution_count": 37,
   "metadata": {},
   "outputs": [
    {
     "name": "stdout",
     "output_type": "stream",
     "text": [
      "Nodes in node table after clear: 6310\n",
      "Nodes in graph after clear: 6310\n"
     ]
    }
   ],
   "source": [
    "# Clear temporary attributes of the neuron\n",
    "n._clear_temp_attr()\n",
    "\n",
    "print(f'Nodes in node table after clear: {n.nodes.shape[0]}')\n",
    "print(f'Nodes in graph after clear: {len(n.graph.nodes)}')"
   ]
  },
  {
   "cell_type": "raw",
   "metadata": {
    "raw_mimetype": "text/restructuredtext"
   },
   "source": [
    "Again: as long as you are using built-in functions, you don't have to worry about this. If you do run some custom manipulation of neurons be aware that you might have to clear temporary attributes."
   ]
  },
  {
   "cell_type": "raw",
   "metadata": {
    "raw_mimetype": "text/restructuredtext"
   },
   "source": [
    "Neuron attributes\n",
    "=================\n",
    "\n",
    "This is a *selection* of :class:`~navis.TreeNeuron` and\n",
    ":class:`~navis.NeuronList` class attributes:\n",
    "\n",
    "- ``name``: a name (optional)\n",
    "- ``id``: a unique identifier\n",
    "- ``nodes``: node table\n",
    "- ``connectors``: connector table (optional)\n",
    "- ``cable_length``: cable length(s)\n",
    "- ``soma``: node ID(s) of soma (if applicable)\n",
    "- ``root``: root node ID(s)\n",
    "- ``segments``: list of linear segments\n",
    "- ``graph``: NetworkX graph representation of the neuron\n",
    "- ``igraph``: iGraph representation of the neuron (if library available)\n",
    "- ``dps``: Vector (dotprops) representation of the neuron\n",
    "    \n",
    "\n",
    "All attributes and method are accessible through auto-completion.\n",
    "\n",
    "Reference\n",
    "+++++++++\n",
    "\n",
    "See :class:`~navis.TreeNeuron` or :ref:`API <api_neurons>`."
   ]
  }
 ],
 "metadata": {
  "celltoolbar": "Raw Cell Format",
  "kernelspec": {
   "display_name": "Python 3",
   "language": "python",
   "name": "python3"
  },
  "language_info": {
   "codemirror_mode": {
    "name": "ipython",
    "version": 3
   },
   "file_extension": ".py",
   "mimetype": "text/x-python",
   "name": "python",
   "nbconvert_exporter": "python",
   "pygments_lexer": "ipython3",
   "version": "3.6.7"
  }
 },
 "nbformat": 4,
 "nbformat_minor": 2
}
