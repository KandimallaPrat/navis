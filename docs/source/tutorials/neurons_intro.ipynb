{
 "cells": [
  {
   "cell_type": "raw",
   "metadata": {
    "raw_mimetype": "text/restructuredtext"
   },
   "source": [
    ".. _neuron_overview:\n",
    "\n",
    "A primer on neuron objects\n",
    "==========================\n",
    "\n",
    "Neuron types\n",
    "++++++++++++\n",
    "\n",
    "Neurons in ``navis`` come in four flavours:\n",
    "\n",
    ".. list-table::\n",
    "   :widths: 10 20 20\n",
    "   :header-rows: 1\n",
    "\n",
    "   * - neuron\n",
    "     - description\n",
    "     - core data\n",
    "   * - :class:`navis.TreeNeuron`\n",
    "     - a hierarchical skeleton \n",
    "     - - ``.nodes``: an SWC node table \n",
    "   * - :class:`navis.MeshNeuron`\n",
    "     - a mesh \n",
    "     - - ``.vertices``: `(N, 3)` array of x/y/z vertex coordinates\n",
    "       - ``.faces``: `(M, 3)` array of faces\n",
    "   * - :class:`navis.VoxelNeuron`\n",
    "     - an image\n",
    "     - - `.voxels`: `(N, 3)` array of voxels \n",
    "       - `.values`: `(N, )` array of values (i.e. intensity)\n",
    "       - `.grid`: `(N, M, K)` 3D voxelgrid\n",
    "   * - :class:`navis.Dotprops`\n",
    "     - a point cloud with associate local vectors\n",
    "     - - `.points`: `(N, 3)` array of point coordinates \n",
    "       - `.vect`: `(N, 3)` array of normalized vectors\n",
    "        \n",
    "    \n",
    "``TreeNeurons`` represent a neuron as a tree-like \"skeleton\" which is effectively a directed acyclic graph, i.e. they consist of nodes and each node connects to at most 1 parent. This format is typically used to describe a neurons topology and shared using the `SWC <http://www.neuronland.org/NLMorphologyConverter/MorphologyFormats/SWC/Spec.html>`_ format. \n",
    "\n",
    "``MeshNeurons`` consist of vertices and faces, and are a typical output of e.g. image segmentation. \n",
    "\n",
    "``VoxelNeurons`` represent neurons as either 3d image or x/y/z voxel coordinates typically obtained from e.g. light-level microscopy.\n",
    "\n",
    "``Dotprops`` represent neurons as point clouds where each point is associated with a vector describing the local orientation. This simple representation often comes from e.g. light-level data or as derivate from skeletons/meshes (see :func:`navis.make_dotprops`). Dotprops are used e.g. for :ref:`NBLAST<nblast_intro>`.\n",
    "\n",
    "Note that some functions in ``navis`` will work with some but not all neuron types (see this :ref:`table <api_func_matrix>` in the :ref:`API <api>` for details). ``navis`` also comes with ways to convert between the different neuron types (see further below).\n",
    "\n",
    "TreeNeurons \n",
    "+++++++++++\n",
    "A :class:`~navis.TreeNeuron` are typically constructed from an SWC file (see :func:`navis.read_swc`) but you can also use a ``pandas.DataFrame`` or a ``networkx.DiGraph``. \n",
    "\n",
    "``navis`` ships with a couple example *Drosophila* neurons from the Janelia hemibrain project published\n",
    "in `Scheffer et al. (2020) <https://elifesciences.org/articles/57443>`_ and available at https://neuprint.janelia.org (see also the :ref:`neuPrint tutorial <neuprint_intro>`):"
   ]
  },
  {
   "cell_type": "code",
   "execution_count": 1,
   "metadata": {},
   "outputs": [
    {
     "data": {
      "text/html": [
       "<div>\n",
       "<style scoped>\n",
       "    .dataframe tbody tr th:only-of-type {\n",
       "        vertical-align: middle;\n",
       "    }\n",
       "\n",
       "    .dataframe tbody tr th {\n",
       "        vertical-align: top;\n",
       "    }\n",
       "\n",
       "    .dataframe thead th {\n",
       "        text-align: right;\n",
       "    }\n",
       "</style>\n",
       "<table border=\"1\" class=\"dataframe\">\n",
       "  <thead>\n",
       "    <tr style=\"text-align: right;\">\n",
       "      <th></th>\n",
       "      <th></th>\n",
       "    </tr>\n",
       "  </thead>\n",
       "  <tbody>\n",
       "    <tr>\n",
       "      <th>type</th>\n",
       "      <td>navis.TreeNeuron</td>\n",
       "    </tr>\n",
       "    <tr>\n",
       "      <th>name</th>\n",
       "      <td>1734350788</td>\n",
       "    </tr>\n",
       "    <tr>\n",
       "      <th>id</th>\n",
       "      <td>1734350788</td>\n",
       "    </tr>\n",
       "    <tr>\n",
       "      <th>n_nodes</th>\n",
       "      <td>4465</td>\n",
       "    </tr>\n",
       "    <tr>\n",
       "      <th>n_connectors</th>\n",
       "      <td>2705</td>\n",
       "    </tr>\n",
       "    <tr>\n",
       "      <th>n_branches</th>\n",
       "      <td>599</td>\n",
       "    </tr>\n",
       "    <tr>\n",
       "      <th>n_leafs</th>\n",
       "      <td>618</td>\n",
       "    </tr>\n",
       "    <tr>\n",
       "      <th>cable_length</th>\n",
       "      <td>266476.875</td>\n",
       "    </tr>\n",
       "    <tr>\n",
       "      <th>soma</th>\n",
       "      <td>[4177]</td>\n",
       "    </tr>\n",
       "    <tr>\n",
       "      <th>units</th>\n",
       "      <td>8 nanometer</td>\n",
       "    </tr>\n",
       "  </tbody>\n",
       "</table>\n",
       "</div>"
      ],
      "text/plain": [
       "type            navis.TreeNeuron\n",
       "name                  1734350788\n",
       "id                    1734350788\n",
       "n_nodes                     4465\n",
       "n_connectors                2705\n",
       "n_branches                   599\n",
       "n_leafs                      618\n",
       "cable_length          266476.875\n",
       "soma                      [4177]\n",
       "units                8 nanometer\n",
       "dtype: object"
      ]
     },
     "execution_count": 1,
     "metadata": {},
     "output_type": "execute_result"
    }
   ],
   "source": [
    "# Import navis \n",
    "import navis\n",
    "\n",
    "# Load one of the example neurons\n",
    "sk = navis.example_neurons(n=1, kind='skeleton')\n",
    "\n",
    "# Inspect the neuron\n",
    "sk"
   ]
  },
  {
   "cell_type": "raw",
   "metadata": {
    "raw_mimetype": "text/restructuredtext"
   },
   "source": [
    ":class:`~navis.TreeNeuron` stores nodes and other data as attached DataFrames:"
   ]
  },
  {
   "cell_type": "code",
   "execution_count": 2,
   "metadata": {},
   "outputs": [
    {
     "data": {
      "text/html": [
       "<div>\n",
       "<style scoped>\n",
       "    .dataframe tbody tr th:only-of-type {\n",
       "        vertical-align: middle;\n",
       "    }\n",
       "\n",
       "    .dataframe tbody tr th {\n",
       "        vertical-align: top;\n",
       "    }\n",
       "\n",
       "    .dataframe thead th {\n",
       "        text-align: right;\n",
       "    }\n",
       "</style>\n",
       "<table border=\"1\" class=\"dataframe\">\n",
       "  <thead>\n",
       "    <tr style=\"text-align: right;\">\n",
       "      <th></th>\n",
       "      <th>node_id</th>\n",
       "      <th>label</th>\n",
       "      <th>x</th>\n",
       "      <th>y</th>\n",
       "      <th>z</th>\n",
       "      <th>radius</th>\n",
       "      <th>parent_id</th>\n",
       "      <th>type</th>\n",
       "    </tr>\n",
       "  </thead>\n",
       "  <tbody>\n",
       "    <tr>\n",
       "      <th>0</th>\n",
       "      <td>1</td>\n",
       "      <td>0</td>\n",
       "      <td>15784.0</td>\n",
       "      <td>37250.0</td>\n",
       "      <td>28062.0</td>\n",
       "      <td>10.000000</td>\n",
       "      <td>-1</td>\n",
       "      <td>root</td>\n",
       "    </tr>\n",
       "    <tr>\n",
       "      <th>1</th>\n",
       "      <td>2</td>\n",
       "      <td>0</td>\n",
       "      <td>15764.0</td>\n",
       "      <td>37230.0</td>\n",
       "      <td>28082.0</td>\n",
       "      <td>18.284300</td>\n",
       "      <td>1</td>\n",
       "      <td>slab</td>\n",
       "    </tr>\n",
       "    <tr>\n",
       "      <th>2</th>\n",
       "      <td>3</td>\n",
       "      <td>0</td>\n",
       "      <td>15744.0</td>\n",
       "      <td>37190.0</td>\n",
       "      <td>28122.0</td>\n",
       "      <td>34.721401</td>\n",
       "      <td>2</td>\n",
       "      <td>slab</td>\n",
       "    </tr>\n",
       "    <tr>\n",
       "      <th>3</th>\n",
       "      <td>4</td>\n",
       "      <td>0</td>\n",
       "      <td>15744.0</td>\n",
       "      <td>37150.0</td>\n",
       "      <td>28202.0</td>\n",
       "      <td>34.721401</td>\n",
       "      <td>3</td>\n",
       "      <td>slab</td>\n",
       "    </tr>\n",
       "    <tr>\n",
       "      <th>4</th>\n",
       "      <td>5</td>\n",
       "      <td>0</td>\n",
       "      <td>15704.0</td>\n",
       "      <td>37130.0</td>\n",
       "      <td>28242.0</td>\n",
       "      <td>34.721401</td>\n",
       "      <td>4</td>\n",
       "      <td>slab</td>\n",
       "    </tr>\n",
       "  </tbody>\n",
       "</table>\n",
       "</div>"
      ],
      "text/plain": [
       "   node_id label        x        y        z     radius  parent_id  type\n",
       "0        1     0  15784.0  37250.0  28062.0  10.000000         -1  root\n",
       "1        2     0  15764.0  37230.0  28082.0  18.284300          1  slab\n",
       "2        3     0  15744.0  37190.0  28122.0  34.721401          2  slab\n",
       "3        4     0  15744.0  37150.0  28202.0  34.721401          3  slab\n",
       "4        5     0  15704.0  37130.0  28242.0  34.721401          4  slab"
      ]
     },
     "execution_count": 2,
     "metadata": {},
     "output_type": "execute_result"
    }
   ],
   "source": [
    "sk.nodes.head()"
   ]
  },
  {
   "cell_type": "raw",
   "metadata": {
    "raw_mimetype": "text/restructuredtext"
   },
   "source": [
    "MeshNeurons\n",
    "+++++++++++\n",
    ":class:`~navis.MeshNeuron` can be constructed from any object that has ``.vertices`` and ``.faces`` properties, a dictionary of ``vertices`` and ``faces`` or a file that can be parsed by ``trimesh.load``.\n",
    "\n",
    "Each of the example neurons also comes as mesh representation:"
   ]
  },
  {
   "cell_type": "code",
   "execution_count": 3,
   "metadata": {},
   "outputs": [
    {
     "data": {
      "text/html": [
       "<div>\n",
       "<style scoped>\n",
       "    .dataframe tbody tr th:only-of-type {\n",
       "        vertical-align: middle;\n",
       "    }\n",
       "\n",
       "    .dataframe tbody tr th {\n",
       "        vertical-align: top;\n",
       "    }\n",
       "\n",
       "    .dataframe thead th {\n",
       "        text-align: right;\n",
       "    }\n",
       "</style>\n",
       "<table border=\"1\" class=\"dataframe\">\n",
       "  <thead>\n",
       "    <tr style=\"text-align: right;\">\n",
       "      <th></th>\n",
       "      <th></th>\n",
       "    </tr>\n",
       "  </thead>\n",
       "  <tbody>\n",
       "    <tr>\n",
       "      <th>type</th>\n",
       "      <td>navis.MeshNeuron</td>\n",
       "    </tr>\n",
       "    <tr>\n",
       "      <th>name</th>\n",
       "      <td>1734350788</td>\n",
       "    </tr>\n",
       "    <tr>\n",
       "      <th>id</th>\n",
       "      <td>1734350788</td>\n",
       "    </tr>\n",
       "    <tr>\n",
       "      <th>units</th>\n",
       "      <td>8 nanometer</td>\n",
       "    </tr>\n",
       "    <tr>\n",
       "      <th>n_vertices</th>\n",
       "      <td>6309</td>\n",
       "    </tr>\n",
       "    <tr>\n",
       "      <th>n_faces</th>\n",
       "      <td>13054</td>\n",
       "    </tr>\n",
       "  </tbody>\n",
       "</table>\n",
       "</div>"
      ],
      "text/plain": [
       "type          navis.MeshNeuron\n",
       "name                1734350788\n",
       "id                  1734350788\n",
       "units              8 nanometer\n",
       "n_vertices                6309\n",
       "n_faces                  13054\n",
       "dtype: object"
      ]
     },
     "execution_count": 3,
     "metadata": {},
     "output_type": "execute_result"
    }
   ],
   "source": [
    "m = navis.example_neurons(n=1, kind='mesh')\n",
    "m"
   ]
  },
  {
   "cell_type": "raw",
   "metadata": {
    "raw_mimetype": "text/restructuredtext"
   },
   "source": [
    ":class:`~navis.MeshNeuron` stores vertices and faces as attached numpy arrays:"
   ]
  },
  {
   "cell_type": "code",
   "execution_count": 4,
   "metadata": {},
   "outputs": [
    {
     "data": {
      "text/plain": [
       "(TrackedArray([[16384.        , 34792.03125   , 24951.88085938],\n",
       "               [16384.        , 36872.0625    , 25847.89453125],\n",
       "               [16384.        , 36872.0625    , 25863.89453125],\n",
       "               ...,\n",
       "               [ 5328.08105469, 21400.07617188, 16039.99414062],\n",
       "               [ 6872.10498047, 19560.04882812, 13903.96191406],\n",
       "               [ 6872.10498047, 19488.046875  , 13927.96191406]]),\n",
       " TrackedArray([[3888, 3890, 3887],\n",
       "               [3890, 1508, 3887],\n",
       "               [1106, 1104, 1105],\n",
       "               ...,\n",
       "               [5394, 5426, 5548],\n",
       "               [5852, 5926, 6017],\n",
       "               [ 207,  217,  211]]))"
      ]
     },
     "execution_count": 4,
     "metadata": {},
     "output_type": "execute_result"
    }
   ],
   "source": [
    "m.vertices, m.faces"
   ]
  },
  {
   "cell_type": "raw",
   "metadata": {
    "raw_mimetype": "text/restructuredtext",
    "tags": []
   },
   "source": [
    "Dotprops\n",
    "++++++++\n",
    ":class:`~navis.Dotprops` consist of ``.points`` and associated ``.vect`` (vectors). They are typically created from other types of neurons using :func:`navis.make_dotprops`:"
   ]
  },
  {
   "cell_type": "code",
   "execution_count": 5,
   "metadata": {},
   "outputs": [
    {
     "data": {
      "text/html": [
       "<div>\n",
       "<style scoped>\n",
       "    .dataframe tbody tr th:only-of-type {\n",
       "        vertical-align: middle;\n",
       "    }\n",
       "\n",
       "    .dataframe tbody tr th {\n",
       "        vertical-align: top;\n",
       "    }\n",
       "\n",
       "    .dataframe thead th {\n",
       "        text-align: right;\n",
       "    }\n",
       "</style>\n",
       "<table border=\"1\" class=\"dataframe\">\n",
       "  <thead>\n",
       "    <tr style=\"text-align: right;\">\n",
       "      <th></th>\n",
       "      <th></th>\n",
       "    </tr>\n",
       "  </thead>\n",
       "  <tbody>\n",
       "    <tr>\n",
       "      <th>type</th>\n",
       "      <td>navis.Dotprops</td>\n",
       "    </tr>\n",
       "    <tr>\n",
       "      <th>name</th>\n",
       "      <td>1734350788</td>\n",
       "    </tr>\n",
       "    <tr>\n",
       "      <th>id</th>\n",
       "      <td>1734350788</td>\n",
       "    </tr>\n",
       "    <tr>\n",
       "      <th>k</th>\n",
       "      <td>5</td>\n",
       "    </tr>\n",
       "    <tr>\n",
       "      <th>units</th>\n",
       "      <td>8 nanometer</td>\n",
       "    </tr>\n",
       "    <tr>\n",
       "      <th>n_points</th>\n",
       "      <td>4465</td>\n",
       "    </tr>\n",
       "  </tbody>\n",
       "</table>\n",
       "</div>"
      ],
      "text/plain": [
       "type        navis.Dotprops\n",
       "name            1734350788\n",
       "id              1734350788\n",
       "k                        5\n",
       "units          8 nanometer\n",
       "n_points              4465\n",
       "dtype: object"
      ]
     },
     "execution_count": 5,
     "metadata": {},
     "output_type": "execute_result"
    }
   ],
   "source": [
    "# Turn our above skeleton into dotprops\n",
    "dp = navis.make_dotprops(sk, k=5)\n",
    "\n",
    "dp"
   ]
  },
  {
   "cell_type": "code",
   "execution_count": 6,
   "metadata": {},
   "outputs": [
    {
     "data": {
      "text/plain": [
       "(array([[15784., 37250., 28062.],\n",
       "        [15764., 37230., 28082.],\n",
       "        [15744., 37190., 28122.],\n",
       "        ...,\n",
       "        [14544., 36430., 28422.],\n",
       "        [14944., 36510., 28282.],\n",
       "        [15264., 36870., 28282.]], dtype=float32),\n",
       " array([[-0.3002053 , -0.39364937,  0.8688596 ],\n",
       "        [-0.10845336, -0.2113751 ,  0.9713694 ],\n",
       "        [-0.0435693 , -0.45593134,  0.8889479 ],\n",
       "        ...,\n",
       "        [-0.38446087,  0.44485292, -0.80888546],\n",
       "        [-0.9457323 , -0.1827982 , -0.26865458],\n",
       "        [-0.79947734, -0.5164282 , -0.30681902]], dtype=float32))"
      ]
     },
     "execution_count": 6,
     "metadata": {},
     "output_type": "execute_result"
    }
   ],
   "source": [
    "dp.points, dp.vect"
   ]
  },
  {
   "cell_type": "raw",
   "metadata": {
    "raw_mimetype": "text/restructuredtext"
   },
   "source": [
    "Check out the NBLAST tutorial for further details on dotprops!\n",
    "\n",
    "\n",
    "VoxelNeurons\n",
    "++++++++++++\n",
    ":class:`~navis.VoxelNeuron` consist of either a 3d ``(N, M, K)`` array (=\"grid\") or an 2d ``(N, 3)`` array of voxel coordinates. You will probably find yourself loading these data from image files (e.g. ``.nrrd`` via :func:`navis.read_nrrd`). That said we can also \"voxelize\" other neuron types to produce ``VoxelNeurons``:"
   ]
  },
  {
   "cell_type": "code",
   "execution_count": 7,
   "metadata": {},
   "outputs": [
    {
     "data": {
      "text/html": [
       "<div>\n",
       "<style scoped>\n",
       "    .dataframe tbody tr th:only-of-type {\n",
       "        vertical-align: middle;\n",
       "    }\n",
       "\n",
       "    .dataframe tbody tr th {\n",
       "        vertical-align: top;\n",
       "    }\n",
       "\n",
       "    .dataframe thead th {\n",
       "        text-align: right;\n",
       "    }\n",
       "</style>\n",
       "<table border=\"1\" class=\"dataframe\">\n",
       "  <thead>\n",
       "    <tr style=\"text-align: right;\">\n",
       "      <th></th>\n",
       "      <th></th>\n",
       "    </tr>\n",
       "  </thead>\n",
       "  <tbody>\n",
       "    <tr>\n",
       "      <th>type</th>\n",
       "      <td>navis.VoxelNeuron</td>\n",
       "    </tr>\n",
       "    <tr>\n",
       "      <th>name</th>\n",
       "      <td>1734350788</td>\n",
       "    </tr>\n",
       "    <tr>\n",
       "      <th>id</th>\n",
       "      <td>1734350788</td>\n",
       "    </tr>\n",
       "    <tr>\n",
       "      <th>units</th>\n",
       "      <td>500.0 nanometer</td>\n",
       "    </tr>\n",
       "    <tr>\n",
       "      <th>shape</th>\n",
       "      <td>(297, 392, 286)</td>\n",
       "    </tr>\n",
       "    <tr>\n",
       "      <th>data_type</th>\n",
       "      <td>float32</td>\n",
       "    </tr>\n",
       "  </tbody>\n",
       "</table>\n",
       "</div>"
      ],
      "text/plain": [
       "type         navis.VoxelNeuron\n",
       "name                1734350788\n",
       "id                  1734350788\n",
       "units          500.0 nanometer\n",
       "shape          (297, 392, 286)\n",
       "data_type              float32\n",
       "dtype: object"
      ]
     },
     "execution_count": 7,
     "metadata": {},
     "output_type": "execute_result"
    }
   ],
   "source": [
    "# Load an example mesh\n",
    "m = navis.example_neurons(n=1, kind='mesh')\n",
    "\n",
    "# Voxelize:\n",
    "# - with a 0.5 micron voxel size\n",
    "# - some Gaussian smoothing \n",
    "# - use number of vertices (counts) for voxel values\n",
    "vx = navis.voxelize(m, pitch='0.5 microns', smooth=2, counts=True) \n",
    "\n",
    "vx"
   ]
  },
  {
   "cell_type": "code",
   "execution_count": 8,
   "metadata": {},
   "outputs": [
    {
     "data": {
      "text/plain": [
       "(297, 392, 286)"
      ]
     },
     "execution_count": 8,
     "metadata": {},
     "output_type": "execute_result"
    }
   ],
   "source": [
    "# The grid representation of the neuron\n",
    "vx.grid.shape"
   ]
  },
  {
   "cell_type": "code",
   "execution_count": 9,
   "metadata": {},
   "outputs": [
    {
     "data": {
      "text/plain": [
       "((641384, 3), (641384,))"
      ]
     },
     "execution_count": 9,
     "metadata": {},
     "output_type": "execute_result"
    }
   ],
   "source": [
    "# The (N, 3) voxel + (N, ) values representation of the neuron\n",
    "# -> this is the sparse representation of the neuron\n",
    "vx.voxels.shape, vx.values.shape"
   ]
  },
  {
   "cell_type": "raw",
   "metadata": {
    "raw_mimetype": "text/restructuredtext",
    "tags": []
   },
   "source": [
    "Lists of Neurons\n",
    "++++++++++++++++\n",
    "\n",
    "Multiple neurons are typically collected in a :class:`~navis.NeuronList` as container:"
   ]
  },
  {
   "cell_type": "code",
   "execution_count": 10,
   "metadata": {},
   "outputs": [
    {
     "data": {
      "text/html": [
       "&lt;class 'navis.core.neuronlist.NeuronList'&gt; containing 3 neurons (875.1KiB)<div>\n",
       "<style scoped>\n",
       "    .dataframe tbody tr th:only-of-type {\n",
       "        vertical-align: middle;\n",
       "    }\n",
       "\n",
       "    .dataframe tbody tr th {\n",
       "        vertical-align: top;\n",
       "    }\n",
       "\n",
       "    .dataframe thead th {\n",
       "        text-align: right;\n",
       "    }\n",
       "</style>\n",
       "<table border=\"1\" class=\"dataframe\">\n",
       "  <thead>\n",
       "    <tr style=\"text-align: right;\">\n",
       "      <th></th>\n",
       "      <th>type</th>\n",
       "      <th>name</th>\n",
       "      <th>id</th>\n",
       "      <th>n_nodes</th>\n",
       "      <th>n_connectors</th>\n",
       "      <th>n_branches</th>\n",
       "      <th>n_leafs</th>\n",
       "      <th>cable_length</th>\n",
       "      <th>soma</th>\n",
       "      <th>units</th>\n",
       "    </tr>\n",
       "  </thead>\n",
       "  <tbody>\n",
       "    <tr>\n",
       "      <th>0</th>\n",
       "      <td>navis.TreeNeuron</td>\n",
       "      <td>1734350788</td>\n",
       "      <td>1734350788</td>\n",
       "      <td>4465</td>\n",
       "      <td>2705</td>\n",
       "      <td>599</td>\n",
       "      <td>618</td>\n",
       "      <td>266476.87500</td>\n",
       "      <td>[4177]</td>\n",
       "      <td>8 nanometer</td>\n",
       "    </tr>\n",
       "    <tr>\n",
       "      <th>1</th>\n",
       "      <td>navis.TreeNeuron</td>\n",
       "      <td>1734350908</td>\n",
       "      <td>1734350908</td>\n",
       "      <td>4847</td>\n",
       "      <td>3042</td>\n",
       "      <td>735</td>\n",
       "      <td>761</td>\n",
       "      <td>304332.65625</td>\n",
       "      <td>[6]</td>\n",
       "      <td>8 nanometer</td>\n",
       "    </tr>\n",
       "    <tr>\n",
       "      <th>2</th>\n",
       "      <td>navis.TreeNeuron</td>\n",
       "      <td>722817260</td>\n",
       "      <td>722817260</td>\n",
       "      <td>4332</td>\n",
       "      <td>3136</td>\n",
       "      <td>633</td>\n",
       "      <td>656</td>\n",
       "      <td>274703.37500</td>\n",
       "      <td>None</td>\n",
       "      <td>8 nanometer</td>\n",
       "    </tr>\n",
       "  </tbody>\n",
       "</table>\n",
       "</div>"
      ],
      "text/plain": [
       "<class 'navis.core.neuronlist.NeuronList'> containing 3 neurons (875.1KiB)\n",
       "               type        name          id  n_nodes  n_connectors  \\\n",
       "0  navis.TreeNeuron  1734350788  1734350788     4465          2705   \n",
       "1  navis.TreeNeuron  1734350908  1734350908     4847          3042   \n",
       "2  navis.TreeNeuron   722817260   722817260     4332          3136   \n",
       "\n",
       "   n_branches  n_leafs  cable_length    soma        units  \n",
       "0         599      618  266476.87500  [4177]  8 nanometer  \n",
       "1         735      761  304332.65625     [6]  8 nanometer  \n",
       "2         633      656  274703.37500    None  8 nanometer  "
      ]
     },
     "execution_count": 10,
     "metadata": {},
     "output_type": "execute_result"
    }
   ],
   "source": [
    "# Grab three example TreeNeurons\n",
    "nl = navis.example_neurons(n=3)\n",
    "nl"
   ]
  },
  {
   "cell_type": "raw",
   "metadata": {
    "raw_mimetype": "text/restructuredtext"
   },
   "source": [
    "A :class:`~navis.NeuronList` works similar to normal lists with a bunch of additional perks:"
   ]
  },
  {
   "cell_type": "code",
   "execution_count": 11,
   "metadata": {},
   "outputs": [
    {
     "data": {
      "text/html": [
       "<div>\n",
       "<style scoped>\n",
       "    .dataframe tbody tr th:only-of-type {\n",
       "        vertical-align: middle;\n",
       "    }\n",
       "\n",
       "    .dataframe tbody tr th {\n",
       "        vertical-align: top;\n",
       "    }\n",
       "\n",
       "    .dataframe thead th {\n",
       "        text-align: right;\n",
       "    }\n",
       "</style>\n",
       "<table border=\"1\" class=\"dataframe\">\n",
       "  <thead>\n",
       "    <tr style=\"text-align: right;\">\n",
       "      <th></th>\n",
       "      <th></th>\n",
       "    </tr>\n",
       "  </thead>\n",
       "  <tbody>\n",
       "    <tr>\n",
       "      <th>type</th>\n",
       "      <td>navis.TreeNeuron</td>\n",
       "    </tr>\n",
       "    <tr>\n",
       "      <th>name</th>\n",
       "      <td>1734350788</td>\n",
       "    </tr>\n",
       "    <tr>\n",
       "      <th>id</th>\n",
       "      <td>1734350788</td>\n",
       "    </tr>\n",
       "    <tr>\n",
       "      <th>n_nodes</th>\n",
       "      <td>4465</td>\n",
       "    </tr>\n",
       "    <tr>\n",
       "      <th>n_connectors</th>\n",
       "      <td>2705</td>\n",
       "    </tr>\n",
       "    <tr>\n",
       "      <th>n_branches</th>\n",
       "      <td>599</td>\n",
       "    </tr>\n",
       "    <tr>\n",
       "      <th>n_leafs</th>\n",
       "      <td>618</td>\n",
       "    </tr>\n",
       "    <tr>\n",
       "      <th>cable_length</th>\n",
       "      <td>266476.875</td>\n",
       "    </tr>\n",
       "    <tr>\n",
       "      <th>soma</th>\n",
       "      <td>[4177]</td>\n",
       "    </tr>\n",
       "    <tr>\n",
       "      <th>units</th>\n",
       "      <td>8 nanometer</td>\n",
       "    </tr>\n",
       "  </tbody>\n",
       "</table>\n",
       "</div>"
      ],
      "text/plain": [
       "type            navis.TreeNeuron\n",
       "name                  1734350788\n",
       "id                    1734350788\n",
       "n_nodes                     4465\n",
       "n_connectors                2705\n",
       "n_branches                   599\n",
       "n_leafs                      618\n",
       "cable_length          266476.875\n",
       "soma                      [4177]\n",
       "units                8 nanometer\n",
       "dtype: object"
      ]
     },
     "execution_count": 11,
     "metadata": {},
     "output_type": "execute_result"
    }
   ],
   "source": [
    "# Get the first neuron in the list\n",
    "nl[0]"
   ]
  },
  {
   "cell_type": "raw",
   "metadata": {
    "raw_mimetype": "text/restructuredtext"
   },
   "source": [
    "They also allow easy and fast access to data and across all neurons:"
   ]
  },
  {
   "cell_type": "code",
   "execution_count": 12,
   "metadata": {},
   "outputs": [
    {
     "data": {
      "text/plain": [
       "4465"
      ]
     },
     "execution_count": 12,
     "metadata": {},
     "output_type": "execute_result"
    }
   ],
   "source": [
    "# Get the number of nodes in the first skeleton\n",
    "nl[0].n_nodes"
   ]
  },
  {
   "cell_type": "code",
   "execution_count": 13,
   "metadata": {},
   "outputs": [
    {
     "data": {
      "text/plain": [
       "array([4465, 4847, 4332])"
      ]
     },
     "execution_count": 13,
     "metadata": {},
     "output_type": "execute_result"
    }
   ],
   "source": [
    "# Use the neuronlist to collect number of nodes across all neurons\n",
    "nl.n_nodes"
   ]
  },
  {
   "cell_type": "code",
   "execution_count": 14,
   "metadata": {},
   "outputs": [
    {
     "data": {
      "text/plain": [
       "array([266476.88, 304332.66, 274703.38], dtype=float32)"
      ]
     },
     "execution_count": 14,
     "metadata": {},
     "output_type": "execute_result"
    }
   ],
   "source": [
    "# Works on any neuron attribute\n",
    "nl.cable_length"
   ]
  },
  {
   "cell_type": "raw",
   "metadata": {
    "raw_mimetype": "text/restructuredtext"
   },
   "source": [
    "In addition to these **attributes**, both :class:`~navis.TreeNeuron` and :class:`~navis.NeuronList` have shortcuts (called **methods**) to other ``navis`` functions. These lines of code are equivalent:"
   ]
  },
  {
   "cell_type": "markdown",
   "metadata": {},
   "source": [
    "```python\n",
    "sk.reroot(sk.soma, inplace=True)\n",
    "navis.reroot_skeleton(sk, sk.soma, inplace=True)\n",
    "```"
   ]
  },
  {
   "cell_type": "markdown",
   "metadata": {},
   "source": [
    "```python\n",
    "sk.plot3d(color='red')\n",
    "navis.plot3d(sk, color='red')\n",
    "```"
   ]
  },
  {
   "cell_type": "markdown",
   "metadata": {},
   "source": [
    "```python\n",
    "lh = navis.example_volume('LH')\n",
    "sk.prune_by_volume(lh, inplace=True)\n",
    "navis.in_volume(sk, lh, inplace=True)\n",
    "```"
   ]
  },
  {
   "cell_type": "raw",
   "metadata": {
    "raw_mimetype": "text/restructuredtext"
   },
   "source": [
    "The ``inplace`` parameter is part of many navis functions and works like e.g. in the pandas library:\n",
    " - if ``inplace=True`` operations are performed on the original\n",
    " - if ``inplace=False`` (default) operations are performed on a copy of the original which is then returned"
   ]
  },
  {
   "cell_type": "code",
   "execution_count": 18,
   "metadata": {},
   "outputs": [
    {
     "name": "stdout",
     "output_type": "stream",
     "text": [
      "4465 nodes before and 344 nodes after pruning\n"
     ]
    }
   ],
   "source": [
    "# Load a neuron\n",
    "n = navis.example_neurons(1)\n",
    "# Load an example neuropil\n",
    "lh = navis.example_volume('LH')\n",
    "\n",
    "# Prune neuron to neurpil but leave original intact\n",
    "n_lh = n.prune_by_volume(lh, inplace=False)\n",
    "\n",
    "print(f'{n.n_nodes} nodes before and {n_lh.n_nodes} nodes after pruning')"
   ]
  },
  {
   "cell_type": "raw",
   "metadata": {
    "raw_mimetype": "text/restructuredtext"
   },
   "source": [
    ".. _index_neuronlists:\n",
    "\n",
    "Indexing NeuronLists\n",
    "====================\n",
    ":class:`~navis.NeuronList` are designed to behave similar to pandas DataFrames in that they allow some fancing\n",
    "indexing.\n",
    "\n",
    "Index by index\n",
    "++++++++++++++\n",
    "\n",
    "You've already seen how to extract a single neuron from a :class:`~navis.NeuronList` using a single integer index. Like for numpy arrays, this also works for list of indices..."
   ]
  },
  {
   "cell_type": "code",
   "execution_count": 19,
   "metadata": {},
   "outputs": [
    {
     "data": {
      "text/html": [
       "&lt;class 'navis.core.neuronlist.NeuronList'&gt; containing 2 neurons (571.4KiB)<div>\n",
       "<style scoped>\n",
       "    .dataframe tbody tr th:only-of-type {\n",
       "        vertical-align: middle;\n",
       "    }\n",
       "\n",
       "    .dataframe tbody tr th {\n",
       "        vertical-align: top;\n",
       "    }\n",
       "\n",
       "    .dataframe thead th {\n",
       "        text-align: right;\n",
       "    }\n",
       "</style>\n",
       "<table border=\"1\" class=\"dataframe\">\n",
       "  <thead>\n",
       "    <tr style=\"text-align: right;\">\n",
       "      <th></th>\n",
       "      <th>type</th>\n",
       "      <th>name</th>\n",
       "      <th>id</th>\n",
       "      <th>n_nodes</th>\n",
       "      <th>n_connectors</th>\n",
       "      <th>n_branches</th>\n",
       "      <th>n_leafs</th>\n",
       "      <th>cable_length</th>\n",
       "      <th>soma</th>\n",
       "      <th>units</th>\n",
       "    </tr>\n",
       "  </thead>\n",
       "  <tbody>\n",
       "    <tr>\n",
       "      <th>0</th>\n",
       "      <td>navis.TreeNeuron</td>\n",
       "      <td>1734350788</td>\n",
       "      <td>1734350788</td>\n",
       "      <td>4465</td>\n",
       "      <td>2705</td>\n",
       "      <td>599</td>\n",
       "      <td>618</td>\n",
       "      <td>266476.875</td>\n",
       "      <td>[4177]</td>\n",
       "      <td>8 nanometer</td>\n",
       "    </tr>\n",
       "    <tr>\n",
       "      <th>1</th>\n",
       "      <td>navis.TreeNeuron</td>\n",
       "      <td>722817260</td>\n",
       "      <td>722817260</td>\n",
       "      <td>4332</td>\n",
       "      <td>3136</td>\n",
       "      <td>633</td>\n",
       "      <td>656</td>\n",
       "      <td>274703.375</td>\n",
       "      <td>None</td>\n",
       "      <td>8 nanometer</td>\n",
       "    </tr>\n",
       "  </tbody>\n",
       "</table>\n",
       "</div>"
      ],
      "text/plain": [
       "<class 'navis.core.neuronlist.NeuronList'> containing 2 neurons (571.4KiB)\n",
       "               type        name          id  n_nodes  n_connectors  \\\n",
       "0  navis.TreeNeuron  1734350788  1734350788     4465          2705   \n",
       "1  navis.TreeNeuron   722817260   722817260     4332          3136   \n",
       "\n",
       "   n_branches  n_leafs  cable_length    soma        units  \n",
       "0         599      618    266476.875  [4177]  8 nanometer  \n",
       "1         633      656    274703.375    None  8 nanometer  "
      ]
     },
     "execution_count": 19,
     "metadata": {},
     "output_type": "execute_result"
    }
   ],
   "source": [
    "nl = navis.example_neurons(n=3)\n",
    "\n",
    "nl[[0, 2]]"
   ]
  },
  {
   "cell_type": "raw",
   "metadata": {
    "raw_mimetype": "text/restructuredtext"
   },
   "source": [
    "... or slices"
   ]
  },
  {
   "cell_type": "code",
   "execution_count": 20,
   "metadata": {},
   "outputs": [
    {
     "data": {
      "text/html": [
       "&lt;class 'navis.core.neuronlist.NeuronList'&gt; containing 2 neurons (577.6KiB)<div>\n",
       "<style scoped>\n",
       "    .dataframe tbody tr th:only-of-type {\n",
       "        vertical-align: middle;\n",
       "    }\n",
       "\n",
       "    .dataframe tbody tr th {\n",
       "        vertical-align: top;\n",
       "    }\n",
       "\n",
       "    .dataframe thead th {\n",
       "        text-align: right;\n",
       "    }\n",
       "</style>\n",
       "<table border=\"1\" class=\"dataframe\">\n",
       "  <thead>\n",
       "    <tr style=\"text-align: right;\">\n",
       "      <th></th>\n",
       "      <th>type</th>\n",
       "      <th>name</th>\n",
       "      <th>id</th>\n",
       "      <th>n_nodes</th>\n",
       "      <th>n_connectors</th>\n",
       "      <th>n_branches</th>\n",
       "      <th>n_leafs</th>\n",
       "      <th>cable_length</th>\n",
       "      <th>soma</th>\n",
       "      <th>units</th>\n",
       "    </tr>\n",
       "  </thead>\n",
       "  <tbody>\n",
       "    <tr>\n",
       "      <th>0</th>\n",
       "      <td>navis.TreeNeuron</td>\n",
       "      <td>1734350788</td>\n",
       "      <td>1734350788</td>\n",
       "      <td>4465</td>\n",
       "      <td>2705</td>\n",
       "      <td>599</td>\n",
       "      <td>618</td>\n",
       "      <td>266476.87500</td>\n",
       "      <td>[4177]</td>\n",
       "      <td>8 nanometer</td>\n",
       "    </tr>\n",
       "    <tr>\n",
       "      <th>1</th>\n",
       "      <td>navis.TreeNeuron</td>\n",
       "      <td>1734350908</td>\n",
       "      <td>1734350908</td>\n",
       "      <td>4847</td>\n",
       "      <td>3042</td>\n",
       "      <td>735</td>\n",
       "      <td>761</td>\n",
       "      <td>304332.65625</td>\n",
       "      <td>[6]</td>\n",
       "      <td>8 nanometer</td>\n",
       "    </tr>\n",
       "  </tbody>\n",
       "</table>\n",
       "</div>"
      ],
      "text/plain": [
       "<class 'navis.core.neuronlist.NeuronList'> containing 2 neurons (577.6KiB)\n",
       "               type        name          id  n_nodes  n_connectors  \\\n",
       "0  navis.TreeNeuron  1734350788  1734350788     4465          2705   \n",
       "1  navis.TreeNeuron  1734350908  1734350908     4847          3042   \n",
       "\n",
       "   n_branches  n_leafs  cable_length    soma        units  \n",
       "0         599      618  266476.87500  [4177]  8 nanometer  \n",
       "1         735      761  304332.65625     [6]  8 nanometer  "
      ]
     },
     "execution_count": 20,
     "metadata": {},
     "output_type": "execute_result"
    }
   ],
   "source": [
    "nl[:2]"
   ]
  },
  {
   "cell_type": "raw",
   "metadata": {
    "raw_mimetype": "text/restructuredtext"
   },
   "source": [
    "Index by attributes\n",
    "+++++++++++++++++++\n",
    "\n",
    "You can index by :class:`~navis.NeuronList` by boolean ``numpy.arrays`` - that includes :class:`~navis.TreeNeuron` attributes, e.g. ``n_nodes``, ``cable_length``, ``soma``, etc.\n",
    "\n",
    "Index using node count:"
   ]
  },
  {
   "cell_type": "code",
   "execution_count": 21,
   "metadata": {},
   "outputs": [
    {
     "data": {
      "text/html": [
       "&lt;class 'navis.core.neuronlist.NeuronList'&gt; containing 1 neurons (303.8KiB)<div>\n",
       "<style scoped>\n",
       "    .dataframe tbody tr th:only-of-type {\n",
       "        vertical-align: middle;\n",
       "    }\n",
       "\n",
       "    .dataframe tbody tr th {\n",
       "        vertical-align: top;\n",
       "    }\n",
       "\n",
       "    .dataframe thead th {\n",
       "        text-align: right;\n",
       "    }\n",
       "</style>\n",
       "<table border=\"1\" class=\"dataframe\">\n",
       "  <thead>\n",
       "    <tr style=\"text-align: right;\">\n",
       "      <th></th>\n",
       "      <th>type</th>\n",
       "      <th>name</th>\n",
       "      <th>id</th>\n",
       "      <th>n_nodes</th>\n",
       "      <th>n_connectors</th>\n",
       "      <th>n_branches</th>\n",
       "      <th>n_leafs</th>\n",
       "      <th>cable_length</th>\n",
       "      <th>soma</th>\n",
       "      <th>units</th>\n",
       "    </tr>\n",
       "  </thead>\n",
       "  <tbody>\n",
       "    <tr>\n",
       "      <th>0</th>\n",
       "      <td>navis.TreeNeuron</td>\n",
       "      <td>1734350908</td>\n",
       "      <td>1734350908</td>\n",
       "      <td>4847</td>\n",
       "      <td>3042</td>\n",
       "      <td>735</td>\n",
       "      <td>761</td>\n",
       "      <td>304332.65625</td>\n",
       "      <td>[6]</td>\n",
       "      <td>8 nanometer</td>\n",
       "    </tr>\n",
       "  </tbody>\n",
       "</table>\n",
       "</div>"
      ],
      "text/plain": [
       "<class 'navis.core.neuronlist.NeuronList'> containing 1 neurons (303.8KiB)\n",
       "               type        name          id  n_nodes  n_connectors  \\\n",
       "0  navis.TreeNeuron  1734350908  1734350908     4847          3042   \n",
       "\n",
       "   n_branches  n_leafs  cable_length soma        units  \n",
       "0         735      761  304332.65625  [6]  8 nanometer  "
      ]
     },
     "execution_count": 21,
     "metadata": {},
     "output_type": "execute_result"
    }
   ],
   "source": [
    "subset = nl[nl.n_branches > 700]\n",
    "subset"
   ]
  },
  {
   "cell_type": "raw",
   "metadata": {
    "raw_mimetype": "text/restructuredtext"
   },
   "source": [
    "Here is an example where we subset to neurons that have a soma:"
   ]
  },
  {
   "cell_type": "code",
   "execution_count": 22,
   "metadata": {},
   "outputs": [
    {
     "data": {
      "text/plain": [
       "array([array([4177], dtype=int32), array([6], dtype=int32), None],\n",
       "      dtype=object)"
      ]
     },
     "execution_count": 22,
     "metadata": {},
     "output_type": "execute_result"
    }
   ],
   "source": [
    "nl.soma"
   ]
  },
  {
   "cell_type": "code",
   "execution_count": 23,
   "metadata": {},
   "outputs": [
    {
     "data": {
      "text/plain": [
       "array([ True,  True, False])"
      ]
     },
     "execution_count": 23,
     "metadata": {},
     "output_type": "execute_result"
    }
   ],
   "source": [
    "nl.soma != None"
   ]
  },
  {
   "cell_type": "code",
   "execution_count": 24,
   "metadata": {},
   "outputs": [
    {
     "data": {
      "text/html": [
       "&lt;class 'navis.core.neuronlist.NeuronList'&gt; containing 2 neurons (577.6KiB)<div>\n",
       "<style scoped>\n",
       "    .dataframe tbody tr th:only-of-type {\n",
       "        vertical-align: middle;\n",
       "    }\n",
       "\n",
       "    .dataframe tbody tr th {\n",
       "        vertical-align: top;\n",
       "    }\n",
       "\n",
       "    .dataframe thead th {\n",
       "        text-align: right;\n",
       "    }\n",
       "</style>\n",
       "<table border=\"1\" class=\"dataframe\">\n",
       "  <thead>\n",
       "    <tr style=\"text-align: right;\">\n",
       "      <th></th>\n",
       "      <th>type</th>\n",
       "      <th>name</th>\n",
       "      <th>id</th>\n",
       "      <th>n_nodes</th>\n",
       "      <th>n_connectors</th>\n",
       "      <th>n_branches</th>\n",
       "      <th>n_leafs</th>\n",
       "      <th>cable_length</th>\n",
       "      <th>soma</th>\n",
       "      <th>units</th>\n",
       "    </tr>\n",
       "  </thead>\n",
       "  <tbody>\n",
       "    <tr>\n",
       "      <th>0</th>\n",
       "      <td>navis.TreeNeuron</td>\n",
       "      <td>1734350788</td>\n",
       "      <td>1734350788</td>\n",
       "      <td>4465</td>\n",
       "      <td>2705</td>\n",
       "      <td>599</td>\n",
       "      <td>618</td>\n",
       "      <td>266476.87500</td>\n",
       "      <td>[4177]</td>\n",
       "      <td>8 nanometer</td>\n",
       "    </tr>\n",
       "    <tr>\n",
       "      <th>1</th>\n",
       "      <td>navis.TreeNeuron</td>\n",
       "      <td>1734350908</td>\n",
       "      <td>1734350908</td>\n",
       "      <td>4847</td>\n",
       "      <td>3042</td>\n",
       "      <td>735</td>\n",
       "      <td>761</td>\n",
       "      <td>304332.65625</td>\n",
       "      <td>[6]</td>\n",
       "      <td>8 nanometer</td>\n",
       "    </tr>\n",
       "  </tbody>\n",
       "</table>\n",
       "</div>"
      ],
      "text/plain": [
       "<class 'navis.core.neuronlist.NeuronList'> containing 2 neurons (577.6KiB)\n",
       "               type        name          id  n_nodes  n_connectors  \\\n",
       "0  navis.TreeNeuron  1734350788  1734350788     4465          2705   \n",
       "1  navis.TreeNeuron  1734350908  1734350908     4847          3042   \n",
       "\n",
       "   n_branches  n_leafs  cable_length    soma        units  \n",
       "0         599      618  266476.87500  [4177]  8 nanometer  \n",
       "1         735      761  304332.65625     [6]  8 nanometer  "
      ]
     },
     "execution_count": 24,
     "metadata": {},
     "output_type": "execute_result"
    }
   ],
   "source": [
    "subset = nl[nl.soma != None]\n",
    "subset"
   ]
  },
  {
   "cell_type": "raw",
   "metadata": {
    "raw_mimetype": "text/restructuredtext"
   },
   "source": [
    "Index by name\n",
    "+++++++++++++\n",
    "\n",
    ":class:`~navis.TreeNeuron` can (but don't have to) have names (``.name``). If you, for example, import neurons from SWC files they will inherit their name from the file by default.\n",
    "\n",
    "You can index by single..."
   ]
  },
  {
   "cell_type": "code",
   "execution_count": 25,
   "metadata": {},
   "outputs": [
    {
     "data": {
      "text/html": [
       "&lt;class 'navis.core.neuronlist.NeuronList'&gt; containing 1 neurons (273.8KiB)<div>\n",
       "<style scoped>\n",
       "    .dataframe tbody tr th:only-of-type {\n",
       "        vertical-align: middle;\n",
       "    }\n",
       "\n",
       "    .dataframe tbody tr th {\n",
       "        vertical-align: top;\n",
       "    }\n",
       "\n",
       "    .dataframe thead th {\n",
       "        text-align: right;\n",
       "    }\n",
       "</style>\n",
       "<table border=\"1\" class=\"dataframe\">\n",
       "  <thead>\n",
       "    <tr style=\"text-align: right;\">\n",
       "      <th></th>\n",
       "      <th>type</th>\n",
       "      <th>name</th>\n",
       "      <th>id</th>\n",
       "      <th>n_nodes</th>\n",
       "      <th>n_connectors</th>\n",
       "      <th>n_branches</th>\n",
       "      <th>n_leafs</th>\n",
       "      <th>cable_length</th>\n",
       "      <th>soma</th>\n",
       "      <th>units</th>\n",
       "    </tr>\n",
       "  </thead>\n",
       "  <tbody>\n",
       "    <tr>\n",
       "      <th>0</th>\n",
       "      <td>navis.TreeNeuron</td>\n",
       "      <td>1734350788</td>\n",
       "      <td>1734350788</td>\n",
       "      <td>4465</td>\n",
       "      <td>2705</td>\n",
       "      <td>599</td>\n",
       "      <td>618</td>\n",
       "      <td>266476.875</td>\n",
       "      <td>[4177]</td>\n",
       "      <td>8 nanometer</td>\n",
       "    </tr>\n",
       "  </tbody>\n",
       "</table>\n",
       "</div>"
      ],
      "text/plain": [
       "<class 'navis.core.neuronlist.NeuronList'> containing 1 neurons (273.8KiB)\n",
       "               type        name          id  n_nodes  n_connectors  \\\n",
       "0  navis.TreeNeuron  1734350788  1734350788     4465          2705   \n",
       "\n",
       "   n_branches  n_leafs  cable_length    soma        units  \n",
       "0         599      618    266476.875  [4177]  8 nanometer  "
      ]
     },
     "execution_count": 25,
     "metadata": {},
     "output_type": "execute_result"
    }
   ],
   "source": [
    "nl['1734350788']"
   ]
  },
  {
   "cell_type": "raw",
   "metadata": {
    "raw_mimetype": "text/restructuredtext"
   },
   "source": [
    "... or multiple names:"
   ]
  },
  {
   "cell_type": "code",
   "execution_count": 26,
   "metadata": {},
   "outputs": [
    {
     "data": {
      "text/html": [
       "&lt;class 'navis.core.neuronlist.NeuronList'&gt; containing 2 neurons (577.6KiB)<div>\n",
       "<style scoped>\n",
       "    .dataframe tbody tr th:only-of-type {\n",
       "        vertical-align: middle;\n",
       "    }\n",
       "\n",
       "    .dataframe tbody tr th {\n",
       "        vertical-align: top;\n",
       "    }\n",
       "\n",
       "    .dataframe thead th {\n",
       "        text-align: right;\n",
       "    }\n",
       "</style>\n",
       "<table border=\"1\" class=\"dataframe\">\n",
       "  <thead>\n",
       "    <tr style=\"text-align: right;\">\n",
       "      <th></th>\n",
       "      <th>type</th>\n",
       "      <th>name</th>\n",
       "      <th>id</th>\n",
       "      <th>n_nodes</th>\n",
       "      <th>n_connectors</th>\n",
       "      <th>n_branches</th>\n",
       "      <th>n_leafs</th>\n",
       "      <th>cable_length</th>\n",
       "      <th>soma</th>\n",
       "      <th>units</th>\n",
       "    </tr>\n",
       "  </thead>\n",
       "  <tbody>\n",
       "    <tr>\n",
       "      <th>0</th>\n",
       "      <td>navis.TreeNeuron</td>\n",
       "      <td>1734350788</td>\n",
       "      <td>1734350788</td>\n",
       "      <td>4465</td>\n",
       "      <td>2705</td>\n",
       "      <td>599</td>\n",
       "      <td>618</td>\n",
       "      <td>266476.87500</td>\n",
       "      <td>[4177]</td>\n",
       "      <td>8 nanometer</td>\n",
       "    </tr>\n",
       "    <tr>\n",
       "      <th>1</th>\n",
       "      <td>navis.TreeNeuron</td>\n",
       "      <td>1734350908</td>\n",
       "      <td>1734350908</td>\n",
       "      <td>4847</td>\n",
       "      <td>3042</td>\n",
       "      <td>735</td>\n",
       "      <td>761</td>\n",
       "      <td>304332.65625</td>\n",
       "      <td>[6]</td>\n",
       "      <td>8 nanometer</td>\n",
       "    </tr>\n",
       "  </tbody>\n",
       "</table>\n",
       "</div>"
      ],
      "text/plain": [
       "<class 'navis.core.neuronlist.NeuronList'> containing 2 neurons (577.6KiB)\n",
       "               type        name          id  n_nodes  n_connectors  \\\n",
       "0  navis.TreeNeuron  1734350788  1734350788     4465          2705   \n",
       "1  navis.TreeNeuron  1734350908  1734350908     4847          3042   \n",
       "\n",
       "   n_branches  n_leafs  cable_length    soma        units  \n",
       "0         599      618  266476.87500  [4177]  8 nanometer  \n",
       "1         735      761  304332.65625     [6]  8 nanometer  "
      ]
     },
     "execution_count": 26,
     "metadata": {},
     "output_type": "execute_result"
    }
   ],
   "source": [
    "nl[['1734350788', '1734350908']]"
   ]
  },
  {
   "cell_type": "raw",
   "metadata": {
    "raw_mimetype": "text/restructuredtext"
   },
   "source": [
    "Using regex\n",
    "***********\n",
    "Under the hood ``navis`` uses ``re.fullmatch`` to match neuron names - so you can use regex!"
   ]
  },
  {
   "cell_type": "code",
   "execution_count": 27,
   "metadata": {},
   "outputs": [
    {
     "data": {
      "text/html": [
       "&lt;class 'navis.core.neuronlist.NeuronList'&gt; containing 2 neurons (577.6KiB)<div>\n",
       "<style scoped>\n",
       "    .dataframe tbody tr th:only-of-type {\n",
       "        vertical-align: middle;\n",
       "    }\n",
       "\n",
       "    .dataframe tbody tr th {\n",
       "        vertical-align: top;\n",
       "    }\n",
       "\n",
       "    .dataframe thead th {\n",
       "        text-align: right;\n",
       "    }\n",
       "</style>\n",
       "<table border=\"1\" class=\"dataframe\">\n",
       "  <thead>\n",
       "    <tr style=\"text-align: right;\">\n",
       "      <th></th>\n",
       "      <th>type</th>\n",
       "      <th>name</th>\n",
       "      <th>id</th>\n",
       "      <th>n_nodes</th>\n",
       "      <th>n_connectors</th>\n",
       "      <th>n_branches</th>\n",
       "      <th>n_leafs</th>\n",
       "      <th>cable_length</th>\n",
       "      <th>soma</th>\n",
       "      <th>units</th>\n",
       "    </tr>\n",
       "  </thead>\n",
       "  <tbody>\n",
       "    <tr>\n",
       "      <th>0</th>\n",
       "      <td>navis.TreeNeuron</td>\n",
       "      <td>1734350788</td>\n",
       "      <td>1734350788</td>\n",
       "      <td>4465</td>\n",
       "      <td>2705</td>\n",
       "      <td>599</td>\n",
       "      <td>618</td>\n",
       "      <td>266476.87500</td>\n",
       "      <td>[4177]</td>\n",
       "      <td>8 nanometer</td>\n",
       "    </tr>\n",
       "    <tr>\n",
       "      <th>1</th>\n",
       "      <td>navis.TreeNeuron</td>\n",
       "      <td>1734350908</td>\n",
       "      <td>1734350908</td>\n",
       "      <td>4847</td>\n",
       "      <td>3042</td>\n",
       "      <td>735</td>\n",
       "      <td>761</td>\n",
       "      <td>304332.65625</td>\n",
       "      <td>[6]</td>\n",
       "      <td>8 nanometer</td>\n",
       "    </tr>\n",
       "  </tbody>\n",
       "</table>\n",
       "</div>"
      ],
      "text/plain": [
       "<class 'navis.core.neuronlist.NeuronList'> containing 2 neurons (577.6KiB)\n",
       "               type        name          id  n_nodes  n_connectors  \\\n",
       "0  navis.TreeNeuron  1734350788  1734350788     4465          2705   \n",
       "1  navis.TreeNeuron  1734350908  1734350908     4847          3042   \n",
       "\n",
       "   n_branches  n_leafs  cable_length    soma        units  \n",
       "0         599      618  266476.87500  [4177]  8 nanometer  \n",
       "1         735      761  304332.65625     [6]  8 nanometer  "
      ]
     },
     "execution_count": 27,
     "metadata": {},
     "output_type": "execute_result"
    }
   ],
   "source": [
    "nl['.*350.*']"
   ]
  },
  {
   "cell_type": "raw",
   "metadata": {
    "raw_mimetype": "text/restructuredtext"
   },
   "source": [
    "Please note that whichever way you index your :class:`~navis.NeuronList`, each neuron will be returned only once!"
   ]
  },
  {
   "cell_type": "code",
   "execution_count": 28,
   "metadata": {},
   "outputs": [
    {
     "data": {
      "text/html": [
       "&lt;class 'navis.core.neuronlist.NeuronList'&gt; containing 2 neurons (547.5KiB)<div>\n",
       "<style scoped>\n",
       "    .dataframe tbody tr th:only-of-type {\n",
       "        vertical-align: middle;\n",
       "    }\n",
       "\n",
       "    .dataframe tbody tr th {\n",
       "        vertical-align: top;\n",
       "    }\n",
       "\n",
       "    .dataframe thead th {\n",
       "        text-align: right;\n",
       "    }\n",
       "</style>\n",
       "<table border=\"1\" class=\"dataframe\">\n",
       "  <thead>\n",
       "    <tr style=\"text-align: right;\">\n",
       "      <th></th>\n",
       "      <th>type</th>\n",
       "      <th>name</th>\n",
       "      <th>id</th>\n",
       "      <th>n_nodes</th>\n",
       "      <th>n_connectors</th>\n",
       "      <th>n_branches</th>\n",
       "      <th>n_leafs</th>\n",
       "      <th>cable_length</th>\n",
       "      <th>soma</th>\n",
       "      <th>units</th>\n",
       "    </tr>\n",
       "  </thead>\n",
       "  <tbody>\n",
       "    <tr>\n",
       "      <th>0</th>\n",
       "      <td>navis.TreeNeuron</td>\n",
       "      <td>1734350788</td>\n",
       "      <td>1734350788</td>\n",
       "      <td>4465</td>\n",
       "      <td>2705</td>\n",
       "      <td>599</td>\n",
       "      <td>618</td>\n",
       "      <td>266476.875</td>\n",
       "      <td>[4177]</td>\n",
       "      <td>8 nanometer</td>\n",
       "    </tr>\n",
       "    <tr>\n",
       "      <th>1</th>\n",
       "      <td>navis.TreeNeuron</td>\n",
       "      <td>1734350788</td>\n",
       "      <td>1734350788</td>\n",
       "      <td>4465</td>\n",
       "      <td>2705</td>\n",
       "      <td>599</td>\n",
       "      <td>618</td>\n",
       "      <td>266476.875</td>\n",
       "      <td>[4177]</td>\n",
       "      <td>8 nanometer</td>\n",
       "    </tr>\n",
       "  </tbody>\n",
       "</table>\n",
       "</div>"
      ],
      "text/plain": [
       "<class 'navis.core.neuronlist.NeuronList'> containing 2 neurons (547.5KiB)\n",
       "               type        name          id  n_nodes  n_connectors  \\\n",
       "0  navis.TreeNeuron  1734350788  1734350788     4465          2705   \n",
       "1  navis.TreeNeuron  1734350788  1734350788     4465          2705   \n",
       "\n",
       "   n_branches  n_leafs  cable_length    soma        units  \n",
       "0         599      618    266476.875  [4177]  8 nanometer  \n",
       "1         599      618    266476.875  [4177]  8 nanometer  "
      ]
     },
     "execution_count": 28,
     "metadata": {},
     "output_type": "execute_result"
    }
   ],
   "source": [
    "nl[[0, 0]]"
   ]
  },
  {
   "cell_type": "code",
   "execution_count": 29,
   "metadata": {},
   "outputs": [
    {
     "data": {
      "text/html": [
       "&lt;class 'navis.core.neuronlist.NeuronList'&gt; containing 2 neurons (547.5KiB)<div>\n",
       "<style scoped>\n",
       "    .dataframe tbody tr th:only-of-type {\n",
       "        vertical-align: middle;\n",
       "    }\n",
       "\n",
       "    .dataframe tbody tr th {\n",
       "        vertical-align: top;\n",
       "    }\n",
       "\n",
       "    .dataframe thead th {\n",
       "        text-align: right;\n",
       "    }\n",
       "</style>\n",
       "<table border=\"1\" class=\"dataframe\">\n",
       "  <thead>\n",
       "    <tr style=\"text-align: right;\">\n",
       "      <th></th>\n",
       "      <th>type</th>\n",
       "      <th>name</th>\n",
       "      <th>id</th>\n",
       "      <th>n_nodes</th>\n",
       "      <th>n_connectors</th>\n",
       "      <th>n_branches</th>\n",
       "      <th>n_leafs</th>\n",
       "      <th>cable_length</th>\n",
       "      <th>soma</th>\n",
       "      <th>units</th>\n",
       "    </tr>\n",
       "  </thead>\n",
       "  <tbody>\n",
       "    <tr>\n",
       "      <th>0</th>\n",
       "      <td>navis.TreeNeuron</td>\n",
       "      <td>1734350788</td>\n",
       "      <td>1734350788</td>\n",
       "      <td>4465</td>\n",
       "      <td>2705</td>\n",
       "      <td>599</td>\n",
       "      <td>618</td>\n",
       "      <td>266476.875</td>\n",
       "      <td>[4177]</td>\n",
       "      <td>8 nanometer</td>\n",
       "    </tr>\n",
       "    <tr>\n",
       "      <th>1</th>\n",
       "      <td>navis.TreeNeuron</td>\n",
       "      <td>1734350788</td>\n",
       "      <td>1734350788</td>\n",
       "      <td>4465</td>\n",
       "      <td>2705</td>\n",
       "      <td>599</td>\n",
       "      <td>618</td>\n",
       "      <td>266476.875</td>\n",
       "      <td>[4177]</td>\n",
       "      <td>8 nanometer</td>\n",
       "    </tr>\n",
       "  </tbody>\n",
       "</table>\n",
       "</div>"
      ],
      "text/plain": [
       "<class 'navis.core.neuronlist.NeuronList'> containing 2 neurons (547.5KiB)\n",
       "               type        name          id  n_nodes  n_connectors  \\\n",
       "0  navis.TreeNeuron  1734350788  1734350788     4465          2705   \n",
       "1  navis.TreeNeuron  1734350788  1734350788     4465          2705   \n",
       "\n",
       "   n_branches  n_leafs  cable_length    soma        units  \n",
       "0         599      618    266476.875  [4177]  8 nanometer  \n",
       "1         599      618    266476.875  [4177]  8 nanometer  "
      ]
     },
     "execution_count": 29,
     "metadata": {},
     "output_type": "execute_result"
    }
   ],
   "source": [
    "nl[[0, '1734350788']]"
   ]
  },
  {
   "cell_type": "raw",
   "metadata": {
    "raw_mimetype": "text/restructuredtext"
   },
   "source": [
    "Index by ID\n",
    "+++++++++++\n",
    "\n",
    "All neurons have an ID - even if you don't explicitly assign one, a UUID will assigned under the hood. "
   ]
  },
  {
   "cell_type": "code",
   "execution_count": 30,
   "metadata": {},
   "outputs": [
    {
     "data": {
      "text/plain": [
       "1734350788"
      ]
     },
     "execution_count": 30,
     "metadata": {},
     "output_type": "execute_result"
    }
   ],
   "source": [
    "nl[0].id"
   ]
  },
  {
   "cell_type": "raw",
   "metadata": {
    "raw_mimetype": "text/restructuredtext"
   },
   "source": [
    "Neuron lists can be indexed by their ID - this works similar to e.g. the ``.loc`` indexer in pandas DataFrames."
   ]
  },
  {
   "cell_type": "code",
   "execution_count": 31,
   "metadata": {},
   "outputs": [
    {
     "data": {
      "text/html": [
       "<div>\n",
       "<style scoped>\n",
       "    .dataframe tbody tr th:only-of-type {\n",
       "        vertical-align: middle;\n",
       "    }\n",
       "\n",
       "    .dataframe tbody tr th {\n",
       "        vertical-align: top;\n",
       "    }\n",
       "\n",
       "    .dataframe thead th {\n",
       "        text-align: right;\n",
       "    }\n",
       "</style>\n",
       "<table border=\"1\" class=\"dataframe\">\n",
       "  <thead>\n",
       "    <tr style=\"text-align: right;\">\n",
       "      <th></th>\n",
       "      <th></th>\n",
       "    </tr>\n",
       "  </thead>\n",
       "  <tbody>\n",
       "    <tr>\n",
       "      <th>type</th>\n",
       "      <td>navis.TreeNeuron</td>\n",
       "    </tr>\n",
       "    <tr>\n",
       "      <th>name</th>\n",
       "      <td>1734350908</td>\n",
       "    </tr>\n",
       "    <tr>\n",
       "      <th>id</th>\n",
       "      <td>1734350908</td>\n",
       "    </tr>\n",
       "    <tr>\n",
       "      <th>n_nodes</th>\n",
       "      <td>4847</td>\n",
       "    </tr>\n",
       "    <tr>\n",
       "      <th>n_connectors</th>\n",
       "      <td>3042</td>\n",
       "    </tr>\n",
       "    <tr>\n",
       "      <th>n_branches</th>\n",
       "      <td>735</td>\n",
       "    </tr>\n",
       "    <tr>\n",
       "      <th>n_leafs</th>\n",
       "      <td>761</td>\n",
       "    </tr>\n",
       "    <tr>\n",
       "      <th>cable_length</th>\n",
       "      <td>304332.65625</td>\n",
       "    </tr>\n",
       "    <tr>\n",
       "      <th>soma</th>\n",
       "      <td>[6]</td>\n",
       "    </tr>\n",
       "    <tr>\n",
       "      <th>units</th>\n",
       "      <td>8 nanometer</td>\n",
       "    </tr>\n",
       "  </tbody>\n",
       "</table>\n",
       "</div>"
      ],
      "text/plain": [
       "type            navis.TreeNeuron\n",
       "name                  1734350908\n",
       "id                    1734350908\n",
       "n_nodes                     4847\n",
       "n_connectors                3042\n",
       "n_branches                   735\n",
       "n_leafs                      761\n",
       "cable_length        304332.65625\n",
       "soma                         [6]\n",
       "units                8 nanometer\n",
       "dtype: object"
      ]
     },
     "execution_count": 31,
     "metadata": {},
     "output_type": "execute_result"
    }
   ],
   "source": [
    "nl.idx[1734350908]"
   ]
  },
  {
   "cell_type": "raw",
   "metadata": {
    "raw_mimetype": "text/restructuredtext"
   },
   "source": [
    ".. _neuron_math:\n",
    "\n",
    "Neuron Math\n",
    "===========\n",
    "``navis`` implements a very simple and intuitive syntax to add and remove items from a NeuronList:\n",
    "\n",
    "Addition\n",
    "++++++++\n",
    "To merge two lists in Python, you can simply add them:"
   ]
  },
  {
   "cell_type": "code",
   "execution_count": 32,
   "metadata": {},
   "outputs": [
    {
     "data": {
      "text/plain": [
       "[1, 3]"
      ]
     },
     "execution_count": 32,
     "metadata": {},
     "output_type": "execute_result"
    }
   ],
   "source": [
    "[1] + [3]"
   ]
  },
  {
   "cell_type": "raw",
   "metadata": {
    "raw_mimetype": "text/restructuredtext"
   },
   "source": [
    ":class:`~navis.NeuronList` works exactly the same:"
   ]
  },
  {
   "cell_type": "code",
   "execution_count": 33,
   "metadata": {},
   "outputs": [
    {
     "data": {
      "text/html": [
       "&lt;class 'navis.core.neuronlist.NeuronList'&gt; containing 3 neurons (875.1KiB)<div>\n",
       "<style scoped>\n",
       "    .dataframe tbody tr th:only-of-type {\n",
       "        vertical-align: middle;\n",
       "    }\n",
       "\n",
       "    .dataframe tbody tr th {\n",
       "        vertical-align: top;\n",
       "    }\n",
       "\n",
       "    .dataframe thead th {\n",
       "        text-align: right;\n",
       "    }\n",
       "</style>\n",
       "<table border=\"1\" class=\"dataframe\">\n",
       "  <thead>\n",
       "    <tr style=\"text-align: right;\">\n",
       "      <th></th>\n",
       "      <th>type</th>\n",
       "      <th>name</th>\n",
       "      <th>id</th>\n",
       "      <th>n_nodes</th>\n",
       "      <th>n_connectors</th>\n",
       "      <th>n_branches</th>\n",
       "      <th>n_leafs</th>\n",
       "      <th>cable_length</th>\n",
       "      <th>soma</th>\n",
       "      <th>units</th>\n",
       "    </tr>\n",
       "  </thead>\n",
       "  <tbody>\n",
       "    <tr>\n",
       "      <th>0</th>\n",
       "      <td>navis.TreeNeuron</td>\n",
       "      <td>1734350788</td>\n",
       "      <td>1734350788</td>\n",
       "      <td>4465</td>\n",
       "      <td>2705</td>\n",
       "      <td>599</td>\n",
       "      <td>618</td>\n",
       "      <td>266476.87500</td>\n",
       "      <td>[4177]</td>\n",
       "      <td>8 nanometer</td>\n",
       "    </tr>\n",
       "    <tr>\n",
       "      <th>1</th>\n",
       "      <td>navis.TreeNeuron</td>\n",
       "      <td>1734350908</td>\n",
       "      <td>1734350908</td>\n",
       "      <td>4847</td>\n",
       "      <td>3042</td>\n",
       "      <td>735</td>\n",
       "      <td>761</td>\n",
       "      <td>304332.65625</td>\n",
       "      <td>[6]</td>\n",
       "      <td>8 nanometer</td>\n",
       "    </tr>\n",
       "    <tr>\n",
       "      <th>2</th>\n",
       "      <td>navis.TreeNeuron</td>\n",
       "      <td>722817260</td>\n",
       "      <td>722817260</td>\n",
       "      <td>4332</td>\n",
       "      <td>3136</td>\n",
       "      <td>633</td>\n",
       "      <td>656</td>\n",
       "      <td>274703.37500</td>\n",
       "      <td>None</td>\n",
       "      <td>8 nanometer</td>\n",
       "    </tr>\n",
       "  </tbody>\n",
       "</table>\n",
       "</div>"
      ],
      "text/plain": [
       "<class 'navis.core.neuronlist.NeuronList'> containing 3 neurons (875.1KiB)\n",
       "               type        name          id  n_nodes  n_connectors  \\\n",
       "0  navis.TreeNeuron  1734350788  1734350788     4465          2705   \n",
       "1  navis.TreeNeuron  1734350908  1734350908     4847          3042   \n",
       "2  navis.TreeNeuron   722817260   722817260     4332          3136   \n",
       "\n",
       "   n_branches  n_leafs  cable_length    soma        units  \n",
       "0         599      618  266476.87500  [4177]  8 nanometer  \n",
       "1         735      761  304332.65625     [6]  8 nanometer  \n",
       "2         633      656  274703.37500    None  8 nanometer  "
      ]
     },
     "execution_count": 33,
     "metadata": {},
     "output_type": "execute_result"
    }
   ],
   "source": [
    "nl[:2] + nl[2:]"
   ]
  },
  {
   "cell_type": "raw",
   "metadata": {
    "raw_mimetype": "text/restructuredtext"
   },
   "source": [
    "This also works on with two single :class:`~navis.TreeNeurons`! You can use that to combine them into a list:"
   ]
  },
  {
   "cell_type": "code",
   "execution_count": 34,
   "metadata": {},
   "outputs": [
    {
     "data": {
      "text/html": [
       "&lt;class 'navis.core.neuronlist.NeuronList'&gt; containing 2 neurons (577.6KiB)<div>\n",
       "<style scoped>\n",
       "    .dataframe tbody tr th:only-of-type {\n",
       "        vertical-align: middle;\n",
       "    }\n",
       "\n",
       "    .dataframe tbody tr th {\n",
       "        vertical-align: top;\n",
       "    }\n",
       "\n",
       "    .dataframe thead th {\n",
       "        text-align: right;\n",
       "    }\n",
       "</style>\n",
       "<table border=\"1\" class=\"dataframe\">\n",
       "  <thead>\n",
       "    <tr style=\"text-align: right;\">\n",
       "      <th></th>\n",
       "      <th>type</th>\n",
       "      <th>name</th>\n",
       "      <th>id</th>\n",
       "      <th>n_nodes</th>\n",
       "      <th>n_connectors</th>\n",
       "      <th>n_branches</th>\n",
       "      <th>n_leafs</th>\n",
       "      <th>cable_length</th>\n",
       "      <th>soma</th>\n",
       "      <th>units</th>\n",
       "    </tr>\n",
       "  </thead>\n",
       "  <tbody>\n",
       "    <tr>\n",
       "      <th>0</th>\n",
       "      <td>navis.TreeNeuron</td>\n",
       "      <td>1734350788</td>\n",
       "      <td>1734350788</td>\n",
       "      <td>4465</td>\n",
       "      <td>2705</td>\n",
       "      <td>599</td>\n",
       "      <td>618</td>\n",
       "      <td>266476.87500</td>\n",
       "      <td>[4177]</td>\n",
       "      <td>8 nanometer</td>\n",
       "    </tr>\n",
       "    <tr>\n",
       "      <th>1</th>\n",
       "      <td>navis.TreeNeuron</td>\n",
       "      <td>1734350908</td>\n",
       "      <td>1734350908</td>\n",
       "      <td>4847</td>\n",
       "      <td>3042</td>\n",
       "      <td>735</td>\n",
       "      <td>761</td>\n",
       "      <td>304332.65625</td>\n",
       "      <td>[6]</td>\n",
       "      <td>8 nanometer</td>\n",
       "    </tr>\n",
       "  </tbody>\n",
       "</table>\n",
       "</div>"
      ],
      "text/plain": [
       "<class 'navis.core.neuronlist.NeuronList'> containing 2 neurons (577.6KiB)\n",
       "               type        name          id  n_nodes  n_connectors  \\\n",
       "0  navis.TreeNeuron  1734350788  1734350788     4465          2705   \n",
       "1  navis.TreeNeuron  1734350908  1734350908     4847          3042   \n",
       "\n",
       "   n_branches  n_leafs  cable_length    soma        units  \n",
       "0         599      618  266476.87500  [4177]  8 nanometer  \n",
       "1         735      761  304332.65625     [6]  8 nanometer  "
      ]
     },
     "execution_count": 34,
     "metadata": {},
     "output_type": "execute_result"
    }
   ],
   "source": [
    "nl[0] + nl[1]"
   ]
  },
  {
   "cell_type": "raw",
   "metadata": {
    "raw_mimetype": "text/restructuredtext"
   },
   "source": [
    "Substraction\n",
    "++++++++++++\n",
    "To remove an item from a Python list, you would call the ``.pop()`` method:"
   ]
  },
  {
   "cell_type": "code",
   "execution_count": 35,
   "metadata": {},
   "outputs": [
    {
     "data": {
      "text/plain": [
       "[1, 2]"
      ]
     },
     "execution_count": 35,
     "metadata": {},
     "output_type": "execute_result"
    }
   ],
   "source": [
    "l = [1, 2, 3]\n",
    "l.pop(2)\n",
    "l"
   ]
  },
  {
   "cell_type": "raw",
   "metadata": {
    "raw_mimetype": "text/restructuredtext"
   },
   "source": [
    "For :class:`~navis.NeuronList` you can use substraction:"
   ]
  },
  {
   "cell_type": "code",
   "execution_count": 36,
   "metadata": {},
   "outputs": [
    {
     "data": {
      "text/html": [
       "&lt;class 'navis.core.neuronlist.NeuronList'&gt; containing 2 neurons (577.6KiB)<div>\n",
       "<style scoped>\n",
       "    .dataframe tbody tr th:only-of-type {\n",
       "        vertical-align: middle;\n",
       "    }\n",
       "\n",
       "    .dataframe tbody tr th {\n",
       "        vertical-align: top;\n",
       "    }\n",
       "\n",
       "    .dataframe thead th {\n",
       "        text-align: right;\n",
       "    }\n",
       "</style>\n",
       "<table border=\"1\" class=\"dataframe\">\n",
       "  <thead>\n",
       "    <tr style=\"text-align: right;\">\n",
       "      <th></th>\n",
       "      <th>type</th>\n",
       "      <th>name</th>\n",
       "      <th>id</th>\n",
       "      <th>n_nodes</th>\n",
       "      <th>n_connectors</th>\n",
       "      <th>n_branches</th>\n",
       "      <th>n_leafs</th>\n",
       "      <th>cable_length</th>\n",
       "      <th>soma</th>\n",
       "      <th>units</th>\n",
       "    </tr>\n",
       "  </thead>\n",
       "  <tbody>\n",
       "    <tr>\n",
       "      <th>0</th>\n",
       "      <td>navis.TreeNeuron</td>\n",
       "      <td>1734350788</td>\n",
       "      <td>1734350788</td>\n",
       "      <td>4465</td>\n",
       "      <td>2705</td>\n",
       "      <td>599</td>\n",
       "      <td>618</td>\n",
       "      <td>266476.87500</td>\n",
       "      <td>[4177]</td>\n",
       "      <td>8 nanometer</td>\n",
       "    </tr>\n",
       "    <tr>\n",
       "      <th>1</th>\n",
       "      <td>navis.TreeNeuron</td>\n",
       "      <td>1734350908</td>\n",
       "      <td>1734350908</td>\n",
       "      <td>4847</td>\n",
       "      <td>3042</td>\n",
       "      <td>735</td>\n",
       "      <td>761</td>\n",
       "      <td>304332.65625</td>\n",
       "      <td>[6]</td>\n",
       "      <td>8 nanometer</td>\n",
       "    </tr>\n",
       "  </tbody>\n",
       "</table>\n",
       "</div>"
      ],
      "text/plain": [
       "<class 'navis.core.neuronlist.NeuronList'> containing 2 neurons (577.6KiB)\n",
       "               type        name          id  n_nodes  n_connectors  \\\n",
       "0  navis.TreeNeuron  1734350788  1734350788     4465          2705   \n",
       "1  navis.TreeNeuron  1734350908  1734350908     4847          3042   \n",
       "\n",
       "   n_branches  n_leafs  cable_length    soma        units  \n",
       "0         599      618  266476.87500  [4177]  8 nanometer  \n",
       "1         735      761  304332.65625     [6]  8 nanometer  "
      ]
     },
     "execution_count": 36,
     "metadata": {},
     "output_type": "execute_result"
    }
   ],
   "source": [
    "nl - nl[2]"
   ]
  },
  {
   "cell_type": "raw",
   "metadata": {
    "raw_mimetype": "text/restructuredtext"
   },
   "source": [
    "Bitwise AND\n",
    "+++++++++++\n",
    "To find the intersection between two lists, you would use ``sets`` and the ``&`` operator:"
   ]
  },
  {
   "cell_type": "code",
   "execution_count": 37,
   "metadata": {},
   "outputs": [
    {
     "data": {
      "text/plain": [
       "{2}"
      ]
     },
     "execution_count": 37,
     "metadata": {},
     "output_type": "execute_result"
    }
   ],
   "source": [
    "set([0, 1, 2]) &  set([2, 3, 4])"
   ]
  },
  {
   "cell_type": "raw",
   "metadata": {
    "raw_mimetype": "text/restructuredtext"
   },
   "source": [
    ":class:`~navis.NeuronList` work similarly:"
   ]
  },
  {
   "cell_type": "code",
   "execution_count": 38,
   "metadata": {},
   "outputs": [
    {
     "data": {
      "text/html": [
       "&lt;class 'navis.core.neuronlist.NeuronList'&gt; containing 1 neurons (303.8KiB)<div>\n",
       "<style scoped>\n",
       "    .dataframe tbody tr th:only-of-type {\n",
       "        vertical-align: middle;\n",
       "    }\n",
       "\n",
       "    .dataframe tbody tr th {\n",
       "        vertical-align: top;\n",
       "    }\n",
       "\n",
       "    .dataframe thead th {\n",
       "        text-align: right;\n",
       "    }\n",
       "</style>\n",
       "<table border=\"1\" class=\"dataframe\">\n",
       "  <thead>\n",
       "    <tr style=\"text-align: right;\">\n",
       "      <th></th>\n",
       "      <th>type</th>\n",
       "      <th>name</th>\n",
       "      <th>id</th>\n",
       "      <th>n_nodes</th>\n",
       "      <th>n_connectors</th>\n",
       "      <th>n_branches</th>\n",
       "      <th>n_leafs</th>\n",
       "      <th>cable_length</th>\n",
       "      <th>soma</th>\n",
       "      <th>units</th>\n",
       "    </tr>\n",
       "  </thead>\n",
       "  <tbody>\n",
       "    <tr>\n",
       "      <th>0</th>\n",
       "      <td>navis.TreeNeuron</td>\n",
       "      <td>1734350908</td>\n",
       "      <td>1734350908</td>\n",
       "      <td>4847</td>\n",
       "      <td>3042</td>\n",
       "      <td>735</td>\n",
       "      <td>761</td>\n",
       "      <td>304332.65625</td>\n",
       "      <td>[6]</td>\n",
       "      <td>8 nanometer</td>\n",
       "    </tr>\n",
       "  </tbody>\n",
       "</table>\n",
       "</div>"
      ],
      "text/plain": [
       "<class 'navis.core.neuronlist.NeuronList'> containing 1 neurons (303.8KiB)\n",
       "               type        name          id  n_nodes  n_connectors  \\\n",
       "0  navis.TreeNeuron  1734350908  1734350908     4847          3042   \n",
       "\n",
       "   n_branches  n_leafs  cable_length soma        units  \n",
       "0         735      761  304332.65625  [6]  8 nanometer  "
      ]
     },
     "execution_count": 38,
     "metadata": {},
     "output_type": "execute_result"
    }
   ],
   "source": [
    "nl[[0, 1]] & nl[[1, 2]]"
   ]
  },
  {
   "cell_type": "raw",
   "metadata": {
    "raw_mimetype": "text/restructuredtext"
   },
   "source": [
    "Multiplication and Division\n",
    "+++++++++++++++++++++++++++\n",
    "So far, all operations have led to changes in the structure of the :class:`~navis.NeuronList`. Multiplication and division are **different**! If you multiply/divide a :class:`~navis.TreeNeuron` or :class:`~navis.NeuronList` by a number, you will change the *coordinates* of nodes and connectors (including radii):"
   ]
  },
  {
   "cell_type": "code",
   "execution_count": 39,
   "metadata": {},
   "outputs": [
    {
     "data": {
      "text/html": [
       "<div>\n",
       "<style scoped>\n",
       "    .dataframe tbody tr th:only-of-type {\n",
       "        vertical-align: middle;\n",
       "    }\n",
       "\n",
       "    .dataframe tbody tr th {\n",
       "        vertical-align: top;\n",
       "    }\n",
       "\n",
       "    .dataframe thead th {\n",
       "        text-align: right;\n",
       "    }\n",
       "</style>\n",
       "<table border=\"1\" class=\"dataframe\">\n",
       "  <thead>\n",
       "    <tr style=\"text-align: right;\">\n",
       "      <th></th>\n",
       "      <th>node_id</th>\n",
       "      <th>label</th>\n",
       "      <th>x</th>\n",
       "      <th>y</th>\n",
       "      <th>z</th>\n",
       "      <th>radius</th>\n",
       "      <th>parent_id</th>\n",
       "      <th>type</th>\n",
       "    </tr>\n",
       "  </thead>\n",
       "  <tbody>\n",
       "    <tr>\n",
       "      <th>0</th>\n",
       "      <td>1</td>\n",
       "      <td>0</td>\n",
       "      <td>15784.0</td>\n",
       "      <td>37250.0</td>\n",
       "      <td>28062.0</td>\n",
       "      <td>10.000000</td>\n",
       "      <td>-1</td>\n",
       "      <td>root</td>\n",
       "    </tr>\n",
       "    <tr>\n",
       "      <th>1</th>\n",
       "      <td>2</td>\n",
       "      <td>0</td>\n",
       "      <td>15764.0</td>\n",
       "      <td>37230.0</td>\n",
       "      <td>28082.0</td>\n",
       "      <td>18.284300</td>\n",
       "      <td>1</td>\n",
       "      <td>slab</td>\n",
       "    </tr>\n",
       "    <tr>\n",
       "      <th>2</th>\n",
       "      <td>3</td>\n",
       "      <td>0</td>\n",
       "      <td>15744.0</td>\n",
       "      <td>37190.0</td>\n",
       "      <td>28122.0</td>\n",
       "      <td>34.721401</td>\n",
       "      <td>2</td>\n",
       "      <td>slab</td>\n",
       "    </tr>\n",
       "    <tr>\n",
       "      <th>3</th>\n",
       "      <td>4</td>\n",
       "      <td>0</td>\n",
       "      <td>15744.0</td>\n",
       "      <td>37150.0</td>\n",
       "      <td>28202.0</td>\n",
       "      <td>34.721401</td>\n",
       "      <td>3</td>\n",
       "      <td>slab</td>\n",
       "    </tr>\n",
       "    <tr>\n",
       "      <th>4</th>\n",
       "      <td>5</td>\n",
       "      <td>0</td>\n",
       "      <td>15704.0</td>\n",
       "      <td>37130.0</td>\n",
       "      <td>28242.0</td>\n",
       "      <td>34.721401</td>\n",
       "      <td>4</td>\n",
       "      <td>slab</td>\n",
       "    </tr>\n",
       "  </tbody>\n",
       "</table>\n",
       "</div>"
      ],
      "text/plain": [
       "   node_id label        x        y        z     radius  parent_id  type\n",
       "0        1     0  15784.0  37250.0  28062.0  10.000000         -1  root\n",
       "1        2     0  15764.0  37230.0  28082.0  18.284300          1  slab\n",
       "2        3     0  15744.0  37190.0  28122.0  34.721401          2  slab\n",
       "3        4     0  15744.0  37150.0  28202.0  34.721401          3  slab\n",
       "4        5     0  15704.0  37130.0  28242.0  34.721401          4  slab"
      ]
     },
     "execution_count": 39,
     "metadata": {},
     "output_type": "execute_result"
    }
   ],
   "source": [
    "n = nl[0]\n",
    "n.nodes.head()"
   ]
  },
  {
   "cell_type": "code",
   "execution_count": 41,
   "metadata": {},
   "outputs": [
    {
     "data": {
      "text/html": [
       "<div>\n",
       "<style scoped>\n",
       "    .dataframe tbody tr th:only-of-type {\n",
       "        vertical-align: middle;\n",
       "    }\n",
       "\n",
       "    .dataframe tbody tr th {\n",
       "        vertical-align: top;\n",
       "    }\n",
       "\n",
       "    .dataframe thead th {\n",
       "        text-align: right;\n",
       "    }\n",
       "</style>\n",
       "<table border=\"1\" class=\"dataframe\">\n",
       "  <thead>\n",
       "    <tr style=\"text-align: right;\">\n",
       "      <th></th>\n",
       "      <th>node_id</th>\n",
       "      <th>label</th>\n",
       "      <th>x</th>\n",
       "      <th>y</th>\n",
       "      <th>z</th>\n",
       "      <th>radius</th>\n",
       "      <th>parent_id</th>\n",
       "      <th>type</th>\n",
       "    </tr>\n",
       "  </thead>\n",
       "  <tbody>\n",
       "    <tr>\n",
       "      <th>0</th>\n",
       "      <td>1</td>\n",
       "      <td>0</td>\n",
       "      <td>15.784</td>\n",
       "      <td>37.250000</td>\n",
       "      <td>28.062000</td>\n",
       "      <td>0.010000</td>\n",
       "      <td>-1</td>\n",
       "      <td>root</td>\n",
       "    </tr>\n",
       "    <tr>\n",
       "      <th>1</th>\n",
       "      <td>2</td>\n",
       "      <td>0</td>\n",
       "      <td>15.764</td>\n",
       "      <td>37.230000</td>\n",
       "      <td>28.082001</td>\n",
       "      <td>0.018284</td>\n",
       "      <td>1</td>\n",
       "      <td>slab</td>\n",
       "    </tr>\n",
       "    <tr>\n",
       "      <th>2</th>\n",
       "      <td>3</td>\n",
       "      <td>0</td>\n",
       "      <td>15.744</td>\n",
       "      <td>37.189999</td>\n",
       "      <td>28.122000</td>\n",
       "      <td>0.034721</td>\n",
       "      <td>2</td>\n",
       "      <td>slab</td>\n",
       "    </tr>\n",
       "    <tr>\n",
       "      <th>3</th>\n",
       "      <td>4</td>\n",
       "      <td>0</td>\n",
       "      <td>15.744</td>\n",
       "      <td>37.150002</td>\n",
       "      <td>28.202000</td>\n",
       "      <td>0.034721</td>\n",
       "      <td>3</td>\n",
       "      <td>slab</td>\n",
       "    </tr>\n",
       "    <tr>\n",
       "      <th>4</th>\n",
       "      <td>5</td>\n",
       "      <td>0</td>\n",
       "      <td>15.704</td>\n",
       "      <td>37.130001</td>\n",
       "      <td>28.242001</td>\n",
       "      <td>0.034721</td>\n",
       "      <td>4</td>\n",
       "      <td>slab</td>\n",
       "    </tr>\n",
       "  </tbody>\n",
       "</table>\n",
       "</div>"
      ],
      "text/plain": [
       "   node_id label       x          y          z    radius  parent_id  type\n",
       "0        1     0  15.784  37.250000  28.062000  0.010000         -1  root\n",
       "1        2     0  15.764  37.230000  28.082001  0.018284          1  slab\n",
       "2        3     0  15.744  37.189999  28.122000  0.034721          2  slab\n",
       "3        4     0  15.744  37.150002  28.202000  0.034721          3  slab\n",
       "4        5     0  15.704  37.130001  28.242001  0.034721          4  slab"
      ]
     },
     "execution_count": 41,
     "metadata": {},
     "output_type": "execute_result"
    }
   ],
   "source": [
    "n2 = n / 1000\n",
    "n2.nodes.head()"
   ]
  },
  {
   "cell_type": "raw",
   "metadata": {
    "raw_mimetype": "text/restructuredtext",
    "tags": []
   },
   "source": [
    "Note that his also automatically adjust the neuron's units (if it has any):"
   ]
  },
  {
   "cell_type": "code",
   "execution_count": 42,
   "metadata": {},
   "outputs": [
    {
     "name": "stdout",
     "output_type": "stream",
     "text": [
      "Before: 8 nanometer\n",
      "After: 8.0 micrometer\n"
     ]
    }
   ],
   "source": [
    "print('Before:', n.units)\n",
    "print('After:', n2.units)"
   ]
  },
  {
   "cell_type": "raw",
   "metadata": {
    "raw_mimetype": "text/restructuredtext"
   },
   "source": [
    ".. _compare_neurons:\n",
    "\n",
    "Comparing Neuron/Lists\n",
    "======================\n",
    ":class:`~navis.NeuronList` implements some of the basic arithmetic and comparison operators that you might know from standard ``lists`` or ``numpy.arrays``. Most this should be fairly intuitive (I hope) but there are a few things you should be aware of. The following examples will illustrate that.\n",
    "\n",
    "Comparisons\n",
    "+++++++++++\n",
    "In Python the ``==`` operator compares two elements:"
   ]
  },
  {
   "cell_type": "code",
   "execution_count": 17,
   "metadata": {},
   "outputs": [
    {
     "data": {
      "text/plain": [
       "True"
      ]
     },
     "execution_count": 17,
     "metadata": {},
     "output_type": "execute_result"
    }
   ],
   "source": [
    "1 == 1"
   ]
  },
  {
   "cell_type": "code",
   "execution_count": 18,
   "metadata": {},
   "outputs": [
    {
     "data": {
      "text/plain": [
       "False"
      ]
     },
     "execution_count": 18,
     "metadata": {},
     "output_type": "execute_result"
    }
   ],
   "source": [
    "2 == 1"
   ]
  },
  {
   "cell_type": "raw",
   "metadata": {
    "raw_mimetype": "text/restructuredtext"
   },
   "source": [
    "For :class:`~navis.TreeNeuron` this is comparison done by looking at the neurons' attribues: morphologies (soma & root nodes, cable length, etc) and meta data (name). "
   ]
  },
  {
   "cell_type": "code",
   "execution_count": 5,
   "metadata": {},
   "outputs": [
    {
     "data": {
      "text/plain": [
       "True"
      ]
     },
     "execution_count": 5,
     "metadata": {},
     "output_type": "execute_result"
    }
   ],
   "source": [
    "nl[0] == nl[0]"
   ]
  },
  {
   "cell_type": "code",
   "execution_count": 6,
   "metadata": {},
   "outputs": [
    {
     "data": {
      "text/plain": [
       "False"
      ]
     },
     "execution_count": 6,
     "metadata": {},
     "output_type": "execute_result"
    }
   ],
   "source": [
    "nl[0] == nl[1]"
   ]
  },
  {
   "cell_type": "raw",
   "metadata": {
    "raw_mimetype": "text/restructuredtext"
   },
   "source": [
    "To find out which attributes are compared, check out:"
   ]
  },
  {
   "cell_type": "code",
   "execution_count": 21,
   "metadata": {},
   "outputs": [
    {
     "data": {
      "text/plain": [
       "['n_nodes',\n",
       " 'n_connectors',\n",
       " 'soma',\n",
       " 'root',\n",
       " 'n_branches',\n",
       " 'n_leafs',\n",
       " 'cable_length',\n",
       " 'name']"
      ]
     },
     "execution_count": 21,
     "metadata": {},
     "output_type": "execute_result"
    }
   ],
   "source": [
    "navis.TreeNeuron.EQ_ATTRIBUTES"
   ]
  },
  {
   "cell_type": "raw",
   "metadata": {
    "raw_mimetype": "text/restructuredtext"
   },
   "source": [
    "Edit this list to establish your own criteria for equality.\n",
    "\n",
    "For :class:`~navis.NeuronList`, we do the same comparison pairwise between the neurons in both neuronlists:"
   ]
  },
  {
   "cell_type": "code",
   "execution_count": 7,
   "metadata": {},
   "outputs": [
    {
     "data": {
      "text/plain": [
       "True"
      ]
     },
     "execution_count": 7,
     "metadata": {},
     "output_type": "execute_result"
    }
   ],
   "source": [
    "nl == nl"
   ]
  },
  {
   "cell_type": "code",
   "execution_count": 4,
   "metadata": {},
   "outputs": [
    {
     "data": {
      "text/plain": [
       "False"
      ]
     },
     "execution_count": 4,
     "metadata": {},
     "output_type": "execute_result"
    }
   ],
   "source": [
    "nl == nl[:2]"
   ]
  },
  {
   "cell_type": "raw",
   "metadata": {
    "raw_mimetype": "text/restructuredtext"
   },
   "source": [
    "Because the comparison is done pairwise and **in order**, shuffling a :class:`~navis.NeuronList` will result in a failed comparison:"
   ]
  },
  {
   "cell_type": "code",
   "execution_count": 5,
   "metadata": {},
   "outputs": [
    {
     "data": {
      "text/plain": [
       "False"
      ]
     },
     "execution_count": 5,
     "metadata": {},
     "output_type": "execute_result"
    }
   ],
   "source": [
    "nl == nl[[2, 1, 0]]"
   ]
  },
  {
   "cell_type": "raw",
   "metadata": {
    "raw_mimetype": "text/restructuredtext"
   },
   "source": [
    "Comparisons are safe against copying but making any changes to the neurons will cause inequality:"
   ]
  },
  {
   "cell_type": "code",
   "execution_count": 6,
   "metadata": {},
   "outputs": [
    {
     "data": {
      "text/plain": [
       "True"
      ]
     },
     "execution_count": 6,
     "metadata": {},
     "output_type": "execute_result"
    }
   ],
   "source": [
    "nl[0] == nl[0].copy()"
   ]
  },
  {
   "cell_type": "code",
   "execution_count": 7,
   "metadata": {},
   "outputs": [
    {
     "data": {
      "text/plain": [
       "False"
      ]
     },
     "execution_count": 7,
     "metadata": {},
     "output_type": "execute_result"
    }
   ],
   "source": [
    "nl[0] == nl[0].downsample(2, inplace=False)"
   ]
  },
  {
   "cell_type": "raw",
   "metadata": {
    "raw_mimetype": "text/restructuredtext"
   },
   "source": [
    "You can also ask if a neuron is in a given ``NeuronList``:"
   ]
  },
  {
   "cell_type": "code",
   "execution_count": 8,
   "metadata": {},
   "outputs": [
    {
     "data": {
      "text/plain": [
       "True"
      ]
     },
     "execution_count": 8,
     "metadata": {},
     "output_type": "execute_result"
    }
   ],
   "source": [
    "nl[0] in nl"
   ]
  },
  {
   "cell_type": "code",
   "execution_count": 9,
   "metadata": {},
   "outputs": [
    {
     "data": {
      "text/plain": [
       "False"
      ]
     },
     "execution_count": 9,
     "metadata": {},
     "output_type": "execute_result"
    }
   ],
   "source": [
    "nl[0] in nl[1:]"
   ]
  },
  {
   "cell_type": "raw",
   "metadata": {
    "raw_mimetype": "text/restructuredtext"
   },
   "source": [
    "Making custom changes\n",
    "=====================\n",
    "\n",
    "Under the hood ``navis`` calculates certain properties when you load a neuron: e.g. it produces a graph representation (``.graph`` or ``.igraph``) and a list of linear segments (``.segments``) for ``TreeNeurons``. These data are attached to a neuron and are crucial for many functions. Therefore ``navis`` makes sure that any changes to a neuron automatically propagate into these data structures. See this example:"
   ]
  },
  {
   "cell_type": "code",
   "execution_count": 37,
   "metadata": {},
   "outputs": [
    {
     "name": "stdout",
     "output_type": "stream",
     "text": [
      "Nodes in node table: 4465\n",
      "Nodes in graph: 4465\n"
     ]
    }
   ],
   "source": [
    "n = navis.example_neurons(1, kind='skeleton')\n",
    "\n",
    "print(f'Nodes in node table: {n.nodes.shape[0]}')\n",
    "print(f'Nodes in graph: {len(n.graph.nodes)}')"
   ]
  },
  {
   "cell_type": "raw",
   "metadata": {
    "raw_mimetype": "text/restructuredtext"
   },
   "source": [
    "Making changes will cause the graph representation to be regenerated:"
   ]
  },
  {
   "cell_type": "code",
   "execution_count": 38,
   "metadata": {},
   "outputs": [
    {
     "name": "stdout",
     "output_type": "stream",
     "text": [
      "Nodes in node table: 1770\n",
      "Nodes in graph: 1770\n"
     ]
    }
   ],
   "source": [
    "n.prune_by_strahler(1, inplace=True)\n",
    "\n",
    "print(f'Nodes in node table: {n.nodes.shape[0]}')\n",
    "print(f'Nodes in graph: {len(n.graph.nodes)}')"
   ]
  },
  {
   "cell_type": "raw",
   "metadata": {
    "raw_mimetype": "text/restructuredtext"
   },
   "source": [
    "If, however, you make changes to the neurons that do not use built-in functions there is a chance that ``navis`` won't know that things have change properties need to be regenerated!"
   ]
  },
  {
   "cell_type": "code",
   "execution_count": 4,
   "metadata": {},
   "outputs": [
    {
     "name": "stdout",
     "output_type": "stream",
     "text": [
      "Nodes in node table before: 4465\n",
      "Nodes in graph before: 4465\n",
      "\n",
      "Nodes in node table after: 4410\n",
      "Nodes in graph after: 4410\n"
     ]
    }
   ],
   "source": [
    "n = navis.example_neurons(1)\n",
    "\n",
    "print(f'Nodes in node table before: {n.nodes.shape[0]}')\n",
    "print(f'Nodes in graph before: {len(n.graph.nodes)}')\n",
    "\n",
    "# Truncate the node table by 55 nodes\n",
    "n.nodes = n.nodes.iloc[:-55]\n",
    "\n",
    "print(f'\\nNodes in node table after: {n.nodes.shape[0]}')\n",
    "print(f'Nodes in graph after: {len(n.graph.nodes)}')"
   ]
  },
  {
   "cell_type": "raw",
   "metadata": {
    "raw_mimetype": "text/restructuredtext"
   },
   "source": [
    "Here, the changes to the node table automatically triggered a regeneration of the graph. This works because navis generates and checks hash values for neurons to detect changes and because here the node table is the master. It would not work the other way around (i.e. changing the graph to change the node table).\n",
    "\n",
    "Again: as long as you are using built-in functions, you don't have to worry about this. If you do run some custom manipulation of neurons be aware that you might want to make sure that the data structure remains intact. If you ever need to manually trigger a regeneration you can do so like this:"
   ]
  },
  {
   "cell_type": "code",
   "execution_count": 5,
   "metadata": {},
   "outputs": [],
   "source": [
    "# Clear temporary attributes of the neuron\n",
    "n._clear_temp_attr()"
   ]
  },
  {
   "cell_type": "raw",
   "metadata": {
    "raw_mimetype": "text/restructuredtext",
    "tags": []
   },
   "source": [
    "Converting neuron types\n",
    "=======================\n",
    "``navis`` provides a couple functions to move between neuron types:\n",
    "\n",
    ".. autosummary::\n",
    "    :toctree: generated/\n",
    "\n",
    "    navis.make_dotprops\n",
    "    navis.skeletonize\n",
    "    navis.mesh\n",
    "    navis.voxelize\n",
    "    \n",
    "In particular meshing and skeletonizing are non-trivial and you might have to play around with the parameters to optimize results with your data! Let's demonstrate on some example:"
   ]
  },
  {
   "cell_type": "code",
   "execution_count": 14,
   "metadata": {},
   "outputs": [],
   "source": [
    "# Start with a mesh neuron\n",
    "m = navis.example_neurons(1, kind='mesh')\n",
    "\n",
    "# Skeletonize the mesh\n",
    "s = navis.skeletonize(m)\n",
    "\n",
    "# Make dotprops (this works from any other neuron type\n",
    "dp = navis.make_dotprops(s, k=5)\n",
    "\n",
    "# Voxelize the mesh\n",
    "vx = navis.voxelize(m, pitch='2 microns', smooth=1, counts=True)\n",
    "\n",
    "# Mesh the voxels \n",
    "mm = navis.mesh(vx.threshold(.5))"
   ]
  },
  {
   "cell_type": "raw",
   "metadata": {
    "raw_mimetype": "text/restructuredtext",
    "tags": []
   },
   "source": [
    "Inspect the results:"
   ]
  },
  {
   "cell_type": "code",
   "execution_count": null,
   "metadata": {},
   "outputs": [],
   "source": [
    "# Co-visualize the mesh and the skeleton\n",
    "fig = navis.plot3d([m, s], color=[(1, 1, 1, .2), 'r'])"
   ]
  },
  {
   "cell_type": "raw",
   "metadata": {
    "raw_mimetype": "text/restructuredtext",
    "tags": []
   },
   "source": [
    ".. raw:: html\n",
    "   :file: figures/3d_mesh_skeleton.html\n",
    "\n",
    "|\n",
    "|\n",
    "|\n",
    "|"
   ]
  },
  {
   "cell_type": "code",
   "execution_count": null,
   "metadata": {},
   "outputs": [],
   "source": [
    "# Co-visualize the mesh and the dotprops\n",
    "fig = navis.plot3d([m, dp], color=[(1, 1, 1, .2), 'r'])"
   ]
  },
  {
   "cell_type": "raw",
   "metadata": {},
   "source": [
    ".. raw:: html\n",
    "   :file: figures/3d_mesh_dotprops.html\n",
    "\n",
    "|\n",
    "|\n",
    "|\n",
    "|"
   ]
  },
  {
   "cell_type": "code",
   "execution_count": null,
   "metadata": {},
   "outputs": [],
   "source": [
    "# Co-visualize the mesh and the dotprops\n",
    "# (note that plotly is not great at visualizing voxels)\n",
    "fig = navis.plot3d([m * 8, vx])"
   ]
  },
  {
   "cell_type": "raw",
   "metadata": {
    "raw_mimetype": "text/restructuredtext",
    "tags": []
   },
   "source": [
    ".. raw:: html\n",
    "   :file: figures/3d_mesh_voxels.html\n",
    "\n",
    "|\n",
    "|\n",
    "|\n",
    "|"
   ]
  },
  {
   "cell_type": "code",
   "execution_count": null,
   "metadata": {},
   "outputs": [],
   "source": [
    "# Co-visualize the original mesh and the meshed voxels\n",
    "fig = navis.plot3d([vx, mm])"
   ]
  },
  {
   "cell_type": "raw",
   "metadata": {
    "raw_mimetype": "text/restructuredtext",
    "tags": []
   },
   "source": [
    ".. raw:: html\n",
    "   :file: figures/3d_voxels_mesh.html\n",
    "\n",
    "|\n",
    "|\n",
    "|\n",
    "|"
   ]
  },
  {
   "cell_type": "raw",
   "metadata": {
    "raw_mimetype": "text/restructuredtext"
   },
   "source": [
    "Neuron attributes\n",
    "=================\n",
    "\n",
    "This is a *selection* of neuron class (i.e. :class:`~navis.TreeNeuron`, :class:`~navis.MeshNeuron`, etc.) attributes.\n",
    "\n",
    "All neurons have this:\n",
    "\n",
    "- ``name``: a name\n",
    "- ``id``: a (unique) identifier\n",
    "- ``bbox``: Bounding box of neuron\n",
    "- ``connectors`` (optional): connector table\n",
    "\n",
    "Only for ``TreeNeurons``:\n",
    "\n",
    "- ``nodes``: node table\n",
    "- ``cable_length``: cable length(s)\n",
    "- ``soma``: node ID(s) of soma (if applicable)\n",
    "- ``root``: root node ID(s)\n",
    "- ``segments``: list of linear segments\n",
    "- ``graph``: NetworkX graph representation of the neuron\n",
    "- ``igraph``: iGraph representation of the neuron (if library available)\n",
    "\n",
    "Only for ``MeshNeurons``:\n",
    "\n",
    "- ``vertices``/``faces``: vertices and faces\n",
    "\n",
    "Only for ``VoxelNeurons``:\n",
    "\n",
    "- ``voxels``: `(N, 3)` sparse representation \n",
    "- ``grid``: `(N, M, K)` voxel grid representation\n",
    "\n",
    "Only for ``Dotprops``:\n",
    "\n",
    "- ``points`` `(N, 3`) x/y/z points\n",
    "- ``vect``: `(N, 3)` array of the vector associated with each point\n",
    "\n",
    "All above attributes can be accessed via the ``NeuronList`` containing the neurons. In addition you can also get:\n",
    "\n",
    "- ``is_mixed``: returns ``True`` if list contains more than one neuron type\n",
    "- ``is_degenerated``: returns ``True`` if list contains neurons with non-unique IDs\n",
    "- ``types``: tuple with all types of neurons in the list\n",
    "- ``shape``: size of neuronlist ``(N, )`` \n",
    "\n",
    "All attributes and method are accessible through auto-completion.\n",
    "\n",
    "Reference\n",
    "+++++++++\n",
    "\n",
    "See :class:`~navis.TreeNeuron`, :class:`~navis.MeshNeuron`, :class:`~navis.Dotprops`, :class:`~navis.VoxelNeuron`, :class:`~navis.NeuronList` or :ref:`API <api_neurons>` for a full list of attributes and methods."
   ]
  }
 ],
 "metadata": {
  "celltoolbar": "Raw Cell Format",
  "kernelspec": {
   "display_name": "Python 3",
   "language": "python",
   "name": "python3"
  },
  "language_info": {
   "codemirror_mode": {
    "name": "ipython",
    "version": 3
   },
   "file_extension": ".py",
   "mimetype": "text/x-python",
   "name": "python",
   "nbconvert_exporter": "python",
   "pygments_lexer": "ipython3",
   "version": "3.7.5"
  },
  "widgets": {
   "application/vnd.jupyter.widget-state+json": {
    "state": {},
    "version_major": 2,
    "version_minor": 0
   }
  }
 },
 "nbformat": 4,
 "nbformat_minor": 4
}
