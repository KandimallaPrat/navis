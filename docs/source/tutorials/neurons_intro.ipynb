{
 "cells": [
  {
   "cell_type": "raw",
   "metadata": {
    "raw_mimetype": "text/restructuredtext"
   },
   "source": [
    ".. _neuron_overview:\n",
    "\n",
    "A primer on neuron objects\n",
    "==========================\n",
    "\n",
    "Neuron types\n",
    "++++++++++++\n",
    "\n",
    "Neurons in ``navis`` come in three flavours:\n",
    "\n",
    ".. autosummary::\n",
    "    :toctree: generated/\n",
    "\n",
    " \t~navis.TreeNeuron\n",
    "    ~navis.MeshNeuron       \n",
    "    ~navis.Dotprops\n",
    "    \n",
    "Fundamentally, ``TreeNeurons`` represent a neuron as a tree-like \"skeleton\" which is effectively a directed acyclic graph, i.e. they consist of nodes and each node connects to at most 1 parent. This format is typically used to describe a neurons topology and shared using the `SWC <http://www.neuronland.org/NLMorphologyConverter/MorphologyFormats/SWC/Spec.html>`_ format. \n",
    "\n",
    "``MeshNeurons`` consist of vertices and faces, and are typically the product of e.g. image segmentation. This neuron class is relatively new to ``navis`` and additional functions to analyse and convert (e.g. skeletonize) ``MeshNeurons`` are in the making.\n",
    "\n",
    "``Dotprops`` represent neurons point clouds. Each point can be associated with a vector and an alpha value. This simple representation often comes from e.g. light-level data or as derivate from skeletons/meshes (see e.g. :func:`navis.make_dotprops`). Dotprops are used e.g. for :ref:`NBLAST<nblast_intro>`.\n",
    "\n",
    "Some functions in ``navis`` will work with one but not the other neuron type. Let's have a look, shall we?\n",
    "\n",
    "TreeNeurons \n",
    "+++++++++++\n",
    "A :class:`~navis.TreeNeuron` are typically constructed from an SWC file (see :func:`navis.read_swc`) but you can also use a ``pandas.DataFrame`` or a ``networkx.DiGraph``. \n",
    "\n",
    "``navis`` ships with a couple example *Drosophila* neurons from the Janelia hemibrain project published\n",
    "in `Scheffer et al. (2020) <https://elifesciences.org/articles/57443>`_ and available at https://neuprint.janelia.org (see also the :ref:`neuPrint tutorial <neuprint_intro>`):"
   ]
  },
  {
   "cell_type": "code",
   "execution_count": 1,
   "metadata": {},
   "outputs": [
    {
     "data": {
      "text/html": [
       "<div>\n",
       "<style scoped>\n",
       "    .dataframe tbody tr th:only-of-type {\n",
       "        vertical-align: middle;\n",
       "    }\n",
       "\n",
       "    .dataframe tbody tr th {\n",
       "        vertical-align: top;\n",
       "    }\n",
       "\n",
       "    .dataframe thead th {\n",
       "        text-align: right;\n",
       "    }\n",
       "</style>\n",
       "<table border=\"1\" class=\"dataframe\">\n",
       "  <thead>\n",
       "    <tr style=\"text-align: right;\">\n",
       "      <th></th>\n",
       "      <th></th>\n",
       "    </tr>\n",
       "  </thead>\n",
       "  <tbody>\n",
       "    <tr>\n",
       "      <th>type</th>\n",
       "      <td>navis.TreeNeuron</td>\n",
       "    </tr>\n",
       "    <tr>\n",
       "      <th>name</th>\n",
       "      <td>1734350788</td>\n",
       "    </tr>\n",
       "    <tr>\n",
       "      <th>id</th>\n",
       "      <td>1734350788</td>\n",
       "    </tr>\n",
       "    <tr>\n",
       "      <th>n_nodes</th>\n",
       "      <td>4465</td>\n",
       "    </tr>\n",
       "    <tr>\n",
       "      <th>n_connectors</th>\n",
       "      <td>2705</td>\n",
       "    </tr>\n",
       "    <tr>\n",
       "      <th>n_branches</th>\n",
       "      <td>599</td>\n",
       "    </tr>\n",
       "    <tr>\n",
       "      <th>n_leafs</th>\n",
       "      <td>618</td>\n",
       "    </tr>\n",
       "    <tr>\n",
       "      <th>cable_length</th>\n",
       "      <td>266476.875</td>\n",
       "    </tr>\n",
       "    <tr>\n",
       "      <th>soma</th>\n",
       "      <td>[4177]</td>\n",
       "    </tr>\n",
       "    <tr>\n",
       "      <th>units</th>\n",
       "      <td>8 nanometer</td>\n",
       "    </tr>\n",
       "  </tbody>\n",
       "</table>\n",
       "</div>"
      ],
      "text/plain": [
       "type            navis.TreeNeuron\n",
       "name                  1734350788\n",
       "id                    1734350788\n",
       "n_nodes                     4465\n",
       "n_connectors                2705\n",
       "n_branches                   599\n",
       "n_leafs                      618\n",
       "cable_length          266476.875\n",
       "soma                      [4177]\n",
       "units                8 nanometer\n",
       "dtype: object"
      ]
     },
     "execution_count": 1,
     "metadata": {},
     "output_type": "execute_result"
    }
   ],
   "source": [
    "# Import navis \n",
    "import navis\n",
    "\n",
    "# Load one of the example neurons\n",
    "sk = navis.example_neurons(n=1, kind='skeleton')\n",
    "\n",
    "# Inspect the neuron\n",
    "sk"
   ]
  },
  {
   "cell_type": "raw",
   "metadata": {
    "raw_mimetype": "text/restructuredtext"
   },
   "source": [
    ":class:`~navis.TreeNeuron` stores nodes and other data as attached DataFrames:"
   ]
  },
  {
   "cell_type": "code",
   "execution_count": 2,
   "metadata": {},
   "outputs": [
    {
     "data": {
      "text/html": [
       "<div>\n",
       "<style scoped>\n",
       "    .dataframe tbody tr th:only-of-type {\n",
       "        vertical-align: middle;\n",
       "    }\n",
       "\n",
       "    .dataframe tbody tr th {\n",
       "        vertical-align: top;\n",
       "    }\n",
       "\n",
       "    .dataframe thead th {\n",
       "        text-align: right;\n",
       "    }\n",
       "</style>\n",
       "<table border=\"1\" class=\"dataframe\">\n",
       "  <thead>\n",
       "    <tr style=\"text-align: right;\">\n",
       "      <th></th>\n",
       "      <th>node_id</th>\n",
       "      <th>label</th>\n",
       "      <th>x</th>\n",
       "      <th>y</th>\n",
       "      <th>z</th>\n",
       "      <th>radius</th>\n",
       "      <th>parent_id</th>\n",
       "      <th>type</th>\n",
       "    </tr>\n",
       "  </thead>\n",
       "  <tbody>\n",
       "    <tr>\n",
       "      <th>0</th>\n",
       "      <td>1</td>\n",
       "      <td>0</td>\n",
       "      <td>15784.0</td>\n",
       "      <td>37250.0</td>\n",
       "      <td>28102.0</td>\n",
       "      <td>10.0000</td>\n",
       "      <td>-1</td>\n",
       "      <td>root</td>\n",
       "    </tr>\n",
       "    <tr>\n",
       "      <th>1</th>\n",
       "      <td>2</td>\n",
       "      <td>0</td>\n",
       "      <td>15764.0</td>\n",
       "      <td>37230.0</td>\n",
       "      <td>28102.0</td>\n",
       "      <td>18.2843</td>\n",
       "      <td>1</td>\n",
       "      <td>slab</td>\n",
       "    </tr>\n",
       "    <tr>\n",
       "      <th>2</th>\n",
       "      <td>3</td>\n",
       "      <td>0</td>\n",
       "      <td>15744.0</td>\n",
       "      <td>37190.0</td>\n",
       "      <td>28142.0</td>\n",
       "      <td>34.7214</td>\n",
       "      <td>2</td>\n",
       "      <td>slab</td>\n",
       "    </tr>\n",
       "    <tr>\n",
       "      <th>3</th>\n",
       "      <td>4</td>\n",
       "      <td>0</td>\n",
       "      <td>15744.0</td>\n",
       "      <td>37150.0</td>\n",
       "      <td>28182.0</td>\n",
       "      <td>34.7214</td>\n",
       "      <td>3</td>\n",
       "      <td>slab</td>\n",
       "    </tr>\n",
       "    <tr>\n",
       "      <th>4</th>\n",
       "      <td>5</td>\n",
       "      <td>0</td>\n",
       "      <td>15704.0</td>\n",
       "      <td>37130.0</td>\n",
       "      <td>28242.0</td>\n",
       "      <td>34.7214</td>\n",
       "      <td>4</td>\n",
       "      <td>slab</td>\n",
       "    </tr>\n",
       "  </tbody>\n",
       "</table>\n",
       "</div>"
      ],
      "text/plain": [
       "   node_id label        x        y        z   radius  parent_id  type\n",
       "0        1     0  15784.0  37250.0  28102.0  10.0000         -1  root\n",
       "1        2     0  15764.0  37230.0  28102.0  18.2843          1  slab\n",
       "2        3     0  15744.0  37190.0  28142.0  34.7214          2  slab\n",
       "3        4     0  15744.0  37150.0  28182.0  34.7214          3  slab\n",
       "4        5     0  15704.0  37130.0  28242.0  34.7214          4  slab"
      ]
     },
     "execution_count": 2,
     "metadata": {},
     "output_type": "execute_result"
    }
   ],
   "source": [
    "sk.nodes.head()"
   ]
  },
  {
   "cell_type": "raw",
   "metadata": {
    "raw_mimetype": "text/restructuredtext"
   },
   "source": [
    "MeshNeurons\n",
    "+++++++++++\n",
    ":class:`~navis.MeshNeuron` can be constructed from any object that has ``.vertices`` and ``.faces`` properties, a dictionary of ``vertices`` and ``faces`` or a file that can be parsed by ``trimesh.load``.\n",
    "\n",
    "Let's have a look at the example neurons:"
   ]
  },
  {
   "cell_type": "code",
   "execution_count": 3,
   "metadata": {},
   "outputs": [
    {
     "data": {
      "text/html": [
       "<div>\n",
       "<style scoped>\n",
       "    .dataframe tbody tr th:only-of-type {\n",
       "        vertical-align: middle;\n",
       "    }\n",
       "\n",
       "    .dataframe tbody tr th {\n",
       "        vertical-align: top;\n",
       "    }\n",
       "\n",
       "    .dataframe thead th {\n",
       "        text-align: right;\n",
       "    }\n",
       "</style>\n",
       "<table border=\"1\" class=\"dataframe\">\n",
       "  <thead>\n",
       "    <tr style=\"text-align: right;\">\n",
       "      <th></th>\n",
       "      <th></th>\n",
       "    </tr>\n",
       "  </thead>\n",
       "  <tbody>\n",
       "    <tr>\n",
       "      <th>type</th>\n",
       "      <td>MeshNeuron</td>\n",
       "    </tr>\n",
       "    <tr>\n",
       "      <th>name</th>\n",
       "      <td>None</td>\n",
       "    </tr>\n",
       "    <tr>\n",
       "      <th>id</th>\n",
       "      <td>1734350788</td>\n",
       "    </tr>\n",
       "    <tr>\n",
       "      <th>units</th>\n",
       "      <td>8 nanometer</td>\n",
       "    </tr>\n",
       "    <tr>\n",
       "      <th>n_vertices</th>\n",
       "      <td>6309</td>\n",
       "    </tr>\n",
       "    <tr>\n",
       "      <th>n_faces</th>\n",
       "      <td>13054</td>\n",
       "    </tr>\n",
       "  </tbody>\n",
       "</table>\n",
       "</div>"
      ],
      "text/plain": [
       "type           MeshNeuron\n",
       "name                 None\n",
       "id             1734350788\n",
       "units         8 nanometer\n",
       "n_vertices           6309\n",
       "n_faces             13054\n",
       "dtype: object"
      ]
     },
     "execution_count": 3,
     "metadata": {},
     "output_type": "execute_result"
    }
   ],
   "source": [
    "m = navis.example_neurons(n=1, kind='mesh')\n",
    "m"
   ]
  },
  {
   "cell_type": "raw",
   "metadata": {
    "raw_mimetype": "text/restructuredtext"
   },
   "source": [
    ":class:`~navis.MeshNeuron` stores vertices and faces as attached numpy arrays:"
   ]
  },
  {
   "cell_type": "code",
   "execution_count": 5,
   "metadata": {},
   "outputs": [
    {
     "data": {
      "text/plain": [
       "(TrackedArray([[16384.        , 34792.03125   , 24951.88085938],\n",
       "               [16384.        , 36872.0625    , 25847.89453125],\n",
       "               [16384.        , 36872.0625    , 25863.89453125],\n",
       "               ...,\n",
       "               [ 5328.08105469, 21400.07617188, 16039.99414062],\n",
       "               [ 6872.10498047, 19560.04882812, 13903.96191406],\n",
       "               [ 6872.10498047, 19488.046875  , 13927.96191406]]),\n",
       " TrackedArray([[3888, 3890, 3887],\n",
       "               [3890, 1508, 3887],\n",
       "               [1106, 1104, 1105],\n",
       "               ...,\n",
       "               [5394, 5426, 5548],\n",
       "               [5852, 5926, 6017],\n",
       "               [ 207,  217,  211]]))"
      ]
     },
     "execution_count": 5,
     "metadata": {},
     "output_type": "execute_result"
    }
   ],
   "source": [
    "m.vertices, m.faces"
   ]
  },
  {
   "cell_type": "raw",
   "metadata": {
    "raw_mimetype": "text/restructuredtext"
   },
   "source": [
    "Lists of Neurons\n",
    "++++++++++++++++\n",
    "\n",
    "Multiple neurons are typically collected in a :class:`~navis.NeuronList` as container:"
   ]
  },
  {
   "cell_type": "code",
   "execution_count": 2,
   "metadata": {},
   "outputs": [
    {
     "data": {
      "text/html": [
       "&lt;class 'navis.core.neuronlist.NeuronList'&gt; containing 3 neurons (875.1KiB)<div>\n",
       "<style scoped>\n",
       "    .dataframe tbody tr th:only-of-type {\n",
       "        vertical-align: middle;\n",
       "    }\n",
       "\n",
       "    .dataframe tbody tr th {\n",
       "        vertical-align: top;\n",
       "    }\n",
       "\n",
       "    .dataframe thead th {\n",
       "        text-align: right;\n",
       "    }\n",
       "</style>\n",
       "<table border=\"1\" class=\"dataframe\">\n",
       "  <thead>\n",
       "    <tr style=\"text-align: right;\">\n",
       "      <th></th>\n",
       "      <th>type</th>\n",
       "      <th>name</th>\n",
       "      <th>id</th>\n",
       "      <th>n_nodes</th>\n",
       "      <th>n_connectors</th>\n",
       "      <th>n_branches</th>\n",
       "      <th>n_leafs</th>\n",
       "      <th>cable_length</th>\n",
       "      <th>soma</th>\n",
       "      <th>units</th>\n",
       "    </tr>\n",
       "  </thead>\n",
       "  <tbody>\n",
       "    <tr>\n",
       "      <th>0</th>\n",
       "      <td>navis.TreeNeuron</td>\n",
       "      <td>1734350788</td>\n",
       "      <td>1734350788</td>\n",
       "      <td>4465</td>\n",
       "      <td>2705</td>\n",
       "      <td>599</td>\n",
       "      <td>618</td>\n",
       "      <td>266476.87500</td>\n",
       "      <td>[4177]</td>\n",
       "      <td>8 nanometer</td>\n",
       "    </tr>\n",
       "    <tr>\n",
       "      <th>1</th>\n",
       "      <td>navis.TreeNeuron</td>\n",
       "      <td>1734350908</td>\n",
       "      <td>1734350908</td>\n",
       "      <td>4847</td>\n",
       "      <td>3042</td>\n",
       "      <td>735</td>\n",
       "      <td>761</td>\n",
       "      <td>304332.65625</td>\n",
       "      <td>[6]</td>\n",
       "      <td>8 nanometer</td>\n",
       "    </tr>\n",
       "    <tr>\n",
       "      <th>2</th>\n",
       "      <td>navis.TreeNeuron</td>\n",
       "      <td>722817260</td>\n",
       "      <td>722817260</td>\n",
       "      <td>4332</td>\n",
       "      <td>3136</td>\n",
       "      <td>633</td>\n",
       "      <td>656</td>\n",
       "      <td>274703.37500</td>\n",
       "      <td>None</td>\n",
       "      <td>8 nanometer</td>\n",
       "    </tr>\n",
       "  </tbody>\n",
       "</table>\n",
       "</div>"
      ],
      "text/plain": [
       "<class 'navis.core.neuronlist.NeuronList'> containing 3 neurons (875.1KiB)\n",
       "               type        name          id  n_nodes  n_connectors  \\\n",
       "0  navis.TreeNeuron  1734350788  1734350788     4465          2705   \n",
       "1  navis.TreeNeuron  1734350908  1734350908     4847          3042   \n",
       "2  navis.TreeNeuron   722817260   722817260     4332          3136   \n",
       "\n",
       "   n_branches  n_leafs  cable_length    soma        units  \n",
       "0         599      618  266476.87500  [4177]  8 nanometer  \n",
       "1         735      761  304332.65625     [6]  8 nanometer  \n",
       "2         633      656  274703.37500    None  8 nanometer  "
      ]
     },
     "execution_count": 2,
     "metadata": {},
     "output_type": "execute_result"
    }
   ],
   "source": [
    "# Grab three example TreeNeurons\n",
    "nl = navis.example_neurons(n=3)\n",
    "nl"
   ]
  },
  {
   "cell_type": "raw",
   "metadata": {
    "raw_mimetype": "text/restructuredtext"
   },
   "source": [
    "A :class:`~navis.NeuronList` works similar to normal lists with a bunch of additional perks:"
   ]
  },
  {
   "cell_type": "code",
   "execution_count": 7,
   "metadata": {},
   "outputs": [
    {
     "data": {
      "text/html": [
       "<div>\n",
       "<style scoped>\n",
       "    .dataframe tbody tr th:only-of-type {\n",
       "        vertical-align: middle;\n",
       "    }\n",
       "\n",
       "    .dataframe tbody tr th {\n",
       "        vertical-align: top;\n",
       "    }\n",
       "\n",
       "    .dataframe thead th {\n",
       "        text-align: right;\n",
       "    }\n",
       "</style>\n",
       "<table border=\"1\" class=\"dataframe\">\n",
       "  <thead>\n",
       "    <tr style=\"text-align: right;\">\n",
       "      <th></th>\n",
       "      <th></th>\n",
       "    </tr>\n",
       "  </thead>\n",
       "  <tbody>\n",
       "    <tr>\n",
       "      <th>type</th>\n",
       "      <td>TreeNeuron</td>\n",
       "    </tr>\n",
       "    <tr>\n",
       "      <th>name</th>\n",
       "      <td>1734350788</td>\n",
       "    </tr>\n",
       "    <tr>\n",
       "      <th>id</th>\n",
       "      <td>1734350788</td>\n",
       "    </tr>\n",
       "    <tr>\n",
       "      <th>n_nodes</th>\n",
       "      <td>4465</td>\n",
       "    </tr>\n",
       "    <tr>\n",
       "      <th>n_connectors</th>\n",
       "      <td>None</td>\n",
       "    </tr>\n",
       "    <tr>\n",
       "      <th>n_branches</th>\n",
       "      <td>603</td>\n",
       "    </tr>\n",
       "    <tr>\n",
       "      <th>n_leafs</th>\n",
       "      <td>619</td>\n",
       "    </tr>\n",
       "    <tr>\n",
       "      <th>cable_length</th>\n",
       "      <td>266458</td>\n",
       "    </tr>\n",
       "    <tr>\n",
       "      <th>soma</th>\n",
       "      <td>[4176]</td>\n",
       "    </tr>\n",
       "    <tr>\n",
       "      <th>units</th>\n",
       "      <td>8 nanometer</td>\n",
       "    </tr>\n",
       "  </tbody>\n",
       "</table>\n",
       "</div>"
      ],
      "text/plain": [
       "type             TreeNeuron\n",
       "name             1734350788\n",
       "id               1734350788\n",
       "n_nodes                4465\n",
       "n_connectors           None\n",
       "n_branches              603\n",
       "n_leafs                 619\n",
       "cable_length         266458\n",
       "soma                 [4176]\n",
       "units           8 nanometer\n",
       "dtype: object"
      ]
     },
     "execution_count": 7,
     "metadata": {},
     "output_type": "execute_result"
    }
   ],
   "source": [
    "# Get the first neuron in the list\n",
    "nl[0]"
   ]
  },
  {
   "cell_type": "raw",
   "metadata": {
    "raw_mimetype": "text/restructuredtext"
   },
   "source": [
    "They also allow easy and fast access to data and across all neurons:"
   ]
  },
  {
   "cell_type": "code",
   "execution_count": 3,
   "metadata": {},
   "outputs": [
    {
     "data": {
      "text/plain": [
       "4465"
      ]
     },
     "execution_count": 3,
     "metadata": {},
     "output_type": "execute_result"
    }
   ],
   "source": [
    "# Get the number of nodes in the first skeleton\n",
    "nl[0].n_nodes"
   ]
  },
  {
   "cell_type": "code",
   "execution_count": 8,
   "metadata": {},
   "outputs": [
    {
     "data": {
      "text/plain": [
       "array([4465, 4845, 4336])"
      ]
     },
     "execution_count": 8,
     "metadata": {},
     "output_type": "execute_result"
    }
   ],
   "source": [
    "# Use the neuronlist to collect number of nodes across all neurons\n",
    "nl.n_nodes"
   ]
  },
  {
   "cell_type": "code",
   "execution_count": 9,
   "metadata": {},
   "outputs": [
    {
     "data": {
      "text/plain": [
       "array([266458.00615559, 304277.01267831, 274910.5606301 ])"
      ]
     },
     "execution_count": 9,
     "metadata": {},
     "output_type": "execute_result"
    }
   ],
   "source": [
    "# Works on any neuron attribute\n",
    "nl.cable_length"
   ]
  },
  {
   "cell_type": "raw",
   "metadata": {
    "raw_mimetype": "text/restructuredtext"
   },
   "source": [
    "In addition to these **attributes**, both :class:`~navis.TreeNeuron` and :class:`~navis.NeuronList` have shortcuts (called **methods**) to other ``navis`` functions. These lines of code are equivalent:"
   ]
  },
  {
   "cell_type": "code",
   "execution_count": null,
   "metadata": {},
   "outputs": [],
   "source": [
    "s.reroot(s.soma, inplace=True)\n",
    "navis.reroot_neuron(s, s.soma, inplace=True)"
   ]
  },
  {
   "cell_type": "code",
   "execution_count": null,
   "metadata": {},
   "outputs": [],
   "source": [
    "s.plot3d(color='red')\n",
    "navis.plot3d(s, color='red')"
   ]
  },
  {
   "cell_type": "code",
   "execution_count": null,
   "metadata": {},
   "outputs": [],
   "source": [
    "lh = navis.example_volume('LH')\n",
    "s.prune_by_volume(lh, inplace=True)\n",
    "navis.in_volume(s, lh, inplace=True)"
   ]
  },
  {
   "cell_type": "raw",
   "metadata": {
    "raw_mimetype": "text/restructuredtext"
   },
   "source": [
    "The ``inplace`` parameter is part of many navis functions and works like e.g. in the pandas library:\n",
    " - if ``inplace=True`` operations are performed on the original\n",
    " - if ``inplace=False`` (default) operations are performed on a copy of the original which is then returned"
   ]
  },
  {
   "cell_type": "code",
   "execution_count": 11,
   "metadata": {},
   "outputs": [
    {
     "name": "stdout",
     "output_type": "stream",
     "text": [
      "4465 nodes before and 344 nodes after pruning\n"
     ]
    }
   ],
   "source": [
    "# Load a neuron\n",
    "n = navis.example_neurons(1)\n",
    "# Load an example neuropil\n",
    "lh = navis.example_volume('LH')\n",
    "\n",
    "# Prune neuron to neurpil but leave original intact\n",
    "n_lh = n.prune_by_volume(lh, inplace=False)\n",
    "\n",
    "print(f'{n.n_nodes} nodes before and {n_lh.n_nodes} nodes after pruning')"
   ]
  },
  {
   "cell_type": "raw",
   "metadata": {
    "raw_mimetype": "text/restructuredtext"
   },
   "source": [
    ".. _index_neuronlists:\n",
    "\n",
    "Indexing NeuronLists\n",
    "====================\n",
    ":class:`~navis.NeuronList` are designed to behave similar to pandas DataFrames in that they allow some fancing\n",
    "indexing.\n",
    "\n",
    "Index by index\n",
    "++++++++++++++\n",
    "\n",
    "You've already seen how to extract a single neuron from a :class:`~navis.NeuronList` using a single integer index. Like for numpy arrays, this also works for list of indices..."
   ]
  },
  {
   "cell_type": "code",
   "execution_count": 8,
   "metadata": {},
   "outputs": [
    {
     "data": {
      "text/html": [
       "<div>\n",
       "<style scoped>\n",
       "    .dataframe tbody tr th:only-of-type {\n",
       "        vertical-align: middle;\n",
       "    }\n",
       "\n",
       "    .dataframe tbody tr th {\n",
       "        vertical-align: top;\n",
       "    }\n",
       "\n",
       "    .dataframe thead th {\n",
       "        text-align: right;\n",
       "    }\n",
       "</style>\n",
       "<table border=\"1\" class=\"dataframe\">\n",
       "  <thead>\n",
       "    <tr style=\"text-align: right;\">\n",
       "      <th></th>\n",
       "      <th>type</th>\n",
       "      <th>name</th>\n",
       "      <th>id</th>\n",
       "      <th>n_nodes</th>\n",
       "      <th>n_connectors</th>\n",
       "      <th>n_branches</th>\n",
       "      <th>n_leafs</th>\n",
       "      <th>cable_length</th>\n",
       "      <th>soma</th>\n",
       "      <th>units</th>\n",
       "    </tr>\n",
       "  </thead>\n",
       "  <tbody>\n",
       "    <tr>\n",
       "      <th>0</th>\n",
       "      <td>TreeNeuron</td>\n",
       "      <td>1734350788</td>\n",
       "      <td>1734350788</td>\n",
       "      <td>4465</td>\n",
       "      <td>None</td>\n",
       "      <td>603</td>\n",
       "      <td>619</td>\n",
       "      <td>266458.006156</td>\n",
       "      <td>[4176]</td>\n",
       "      <td>8 nanometer</td>\n",
       "    </tr>\n",
       "    <tr>\n",
       "      <th>1</th>\n",
       "      <td>TreeNeuron</td>\n",
       "      <td>722817260</td>\n",
       "      <td>722817260</td>\n",
       "      <td>4336</td>\n",
       "      <td>None</td>\n",
       "      <td>635</td>\n",
       "      <td>658</td>\n",
       "      <td>274910.560630</td>\n",
       "      <td>None</td>\n",
       "      <td>8 nanometer</td>\n",
       "    </tr>\n",
       "  </tbody>\n",
       "</table>\n",
       "</div>"
      ],
      "text/plain": [
       "<class 'navis.core.neuronlist.NeuronList'> of 2 neurons \n",
       "          type        name          id  n_nodes n_connectors  n_branches  \\\n",
       "0  TreeNeuron  1734350788  1734350788     4465         None         603   \n",
       "1  TreeNeuron   722817260   722817260     4336         None         635   \n",
       "\n",
       "   n_leafs   cable_length    soma        units  \n",
       "0      619  266458.006156  [4176]  8 nanometer  \n",
       "1      658  274910.560630    None  8 nanometer  "
      ]
     },
     "execution_count": 8,
     "metadata": {},
     "output_type": "execute_result"
    }
   ],
   "source": [
    "nl = navis.example_neurons(n=3)\n",
    "\n",
    "nl[[0, 2]]"
   ]
  },
  {
   "cell_type": "raw",
   "metadata": {
    "raw_mimetype": "text/restructuredtext"
   },
   "source": [
    "... or slices"
   ]
  },
  {
   "cell_type": "code",
   "execution_count": 9,
   "metadata": {},
   "outputs": [
    {
     "data": {
      "text/html": [
       "<div>\n",
       "<style scoped>\n",
       "    .dataframe tbody tr th:only-of-type {\n",
       "        vertical-align: middle;\n",
       "    }\n",
       "\n",
       "    .dataframe tbody tr th {\n",
       "        vertical-align: top;\n",
       "    }\n",
       "\n",
       "    .dataframe thead th {\n",
       "        text-align: right;\n",
       "    }\n",
       "</style>\n",
       "<table border=\"1\" class=\"dataframe\">\n",
       "  <thead>\n",
       "    <tr style=\"text-align: right;\">\n",
       "      <th></th>\n",
       "      <th>type</th>\n",
       "      <th>name</th>\n",
       "      <th>id</th>\n",
       "      <th>n_nodes</th>\n",
       "      <th>n_connectors</th>\n",
       "      <th>n_branches</th>\n",
       "      <th>n_leafs</th>\n",
       "      <th>cable_length</th>\n",
       "      <th>soma</th>\n",
       "      <th>units</th>\n",
       "    </tr>\n",
       "  </thead>\n",
       "  <tbody>\n",
       "    <tr>\n",
       "      <th>0</th>\n",
       "      <td>TreeNeuron</td>\n",
       "      <td>1734350788</td>\n",
       "      <td>1734350788</td>\n",
       "      <td>4465</td>\n",
       "      <td>None</td>\n",
       "      <td>603</td>\n",
       "      <td>619</td>\n",
       "      <td>266458.006156</td>\n",
       "      <td>[4176]</td>\n",
       "      <td>8 nanometer</td>\n",
       "    </tr>\n",
       "    <tr>\n",
       "      <th>1</th>\n",
       "      <td>TreeNeuron</td>\n",
       "      <td>1734350908</td>\n",
       "      <td>1734350908</td>\n",
       "      <td>4845</td>\n",
       "      <td>None</td>\n",
       "      <td>733</td>\n",
       "      <td>760</td>\n",
       "      <td>304277.012678</td>\n",
       "      <td>[6]</td>\n",
       "      <td>8 nanometer</td>\n",
       "    </tr>\n",
       "  </tbody>\n",
       "</table>\n",
       "</div>"
      ],
      "text/plain": [
       "<class 'navis.core.neuronlist.NeuronList'> of 2 neurons \n",
       "          type        name          id  n_nodes n_connectors  n_branches  \\\n",
       "0  TreeNeuron  1734350788  1734350788     4465         None         603   \n",
       "1  TreeNeuron  1734350908  1734350908     4845         None         733   \n",
       "\n",
       "   n_leafs   cable_length    soma        units  \n",
       "0      619  266458.006156  [4176]  8 nanometer  \n",
       "1      760  304277.012678     [6]  8 nanometer  "
      ]
     },
     "execution_count": 9,
     "metadata": {},
     "output_type": "execute_result"
    }
   ],
   "source": [
    "nl[:2]"
   ]
  },
  {
   "cell_type": "raw",
   "metadata": {
    "raw_mimetype": "text/restructuredtext"
   },
   "source": [
    "Index by attributes\n",
    "+++++++++++++++++++\n",
    "\n",
    "You can index by :class:`~navis.NeuronList` by boolean ``numpy.arrays`` - that includes :class:`~navis.TreeNeuron` attributes, e.g. ``n_nodes``, ``cable_length``, ``soma``, etc.\n",
    "\n",
    "Index using node count:"
   ]
  },
  {
   "cell_type": "code",
   "execution_count": 10,
   "metadata": {},
   "outputs": [
    {
     "data": {
      "text/html": [
       "<div>\n",
       "<style scoped>\n",
       "    .dataframe tbody tr th:only-of-type {\n",
       "        vertical-align: middle;\n",
       "    }\n",
       "\n",
       "    .dataframe tbody tr th {\n",
       "        vertical-align: top;\n",
       "    }\n",
       "\n",
       "    .dataframe thead th {\n",
       "        text-align: right;\n",
       "    }\n",
       "</style>\n",
       "<table border=\"1\" class=\"dataframe\">\n",
       "  <thead>\n",
       "    <tr style=\"text-align: right;\">\n",
       "      <th></th>\n",
       "      <th>type</th>\n",
       "      <th>name</th>\n",
       "      <th>id</th>\n",
       "      <th>n_nodes</th>\n",
       "      <th>n_connectors</th>\n",
       "      <th>n_branches</th>\n",
       "      <th>n_leafs</th>\n",
       "      <th>cable_length</th>\n",
       "      <th>soma</th>\n",
       "      <th>units</th>\n",
       "    </tr>\n",
       "  </thead>\n",
       "  <tbody>\n",
       "    <tr>\n",
       "      <th>0</th>\n",
       "      <td>TreeNeuron</td>\n",
       "      <td>1734350908</td>\n",
       "      <td>1734350908</td>\n",
       "      <td>4845</td>\n",
       "      <td>None</td>\n",
       "      <td>733</td>\n",
       "      <td>760</td>\n",
       "      <td>304277.012678</td>\n",
       "      <td>[6]</td>\n",
       "      <td>8 nanometer</td>\n",
       "    </tr>\n",
       "  </tbody>\n",
       "</table>\n",
       "</div>"
      ],
      "text/plain": [
       "<class 'navis.core.neuronlist.NeuronList'> of 1 neurons \n",
       "          type        name          id  n_nodes n_connectors  n_branches  \\\n",
       "0  TreeNeuron  1734350908  1734350908     4845         None         733   \n",
       "\n",
       "   n_leafs   cable_length soma        units  \n",
       "0      760  304277.012678  [6]  8 nanometer  "
      ]
     },
     "execution_count": 10,
     "metadata": {},
     "output_type": "execute_result"
    }
   ],
   "source": [
    "subset = nl[nl.n_branches > 700]\n",
    "subset"
   ]
  },
  {
   "cell_type": "raw",
   "metadata": {
    "raw_mimetype": "text/restructuredtext"
   },
   "source": [
    "Here is an example where we subset to neurons that have a soma:"
   ]
  },
  {
   "cell_type": "code",
   "execution_count": 11,
   "metadata": {},
   "outputs": [
    {
     "data": {
      "text/plain": [
       "array([array([4176]), array([6]), None], dtype=object)"
      ]
     },
     "execution_count": 11,
     "metadata": {},
     "output_type": "execute_result"
    }
   ],
   "source": [
    "nl.soma"
   ]
  },
  {
   "cell_type": "code",
   "execution_count": 12,
   "metadata": {},
   "outputs": [
    {
     "data": {
      "text/plain": [
       "array([ True,  True, False])"
      ]
     },
     "execution_count": 12,
     "metadata": {},
     "output_type": "execute_result"
    }
   ],
   "source": [
    "nl.soma != None"
   ]
  },
  {
   "cell_type": "code",
   "execution_count": 13,
   "metadata": {},
   "outputs": [
    {
     "data": {
      "text/html": [
       "<div>\n",
       "<style scoped>\n",
       "    .dataframe tbody tr th:only-of-type {\n",
       "        vertical-align: middle;\n",
       "    }\n",
       "\n",
       "    .dataframe tbody tr th {\n",
       "        vertical-align: top;\n",
       "    }\n",
       "\n",
       "    .dataframe thead th {\n",
       "        text-align: right;\n",
       "    }\n",
       "</style>\n",
       "<table border=\"1\" class=\"dataframe\">\n",
       "  <thead>\n",
       "    <tr style=\"text-align: right;\">\n",
       "      <th></th>\n",
       "      <th>type</th>\n",
       "      <th>name</th>\n",
       "      <th>id</th>\n",
       "      <th>n_nodes</th>\n",
       "      <th>n_connectors</th>\n",
       "      <th>n_branches</th>\n",
       "      <th>n_leafs</th>\n",
       "      <th>cable_length</th>\n",
       "      <th>soma</th>\n",
       "      <th>units</th>\n",
       "    </tr>\n",
       "  </thead>\n",
       "  <tbody>\n",
       "    <tr>\n",
       "      <th>0</th>\n",
       "      <td>TreeNeuron</td>\n",
       "      <td>1734350788</td>\n",
       "      <td>1734350788</td>\n",
       "      <td>4465</td>\n",
       "      <td>None</td>\n",
       "      <td>603</td>\n",
       "      <td>619</td>\n",
       "      <td>266458.006156</td>\n",
       "      <td>[4176]</td>\n",
       "      <td>8 nanometer</td>\n",
       "    </tr>\n",
       "    <tr>\n",
       "      <th>1</th>\n",
       "      <td>TreeNeuron</td>\n",
       "      <td>1734350908</td>\n",
       "      <td>1734350908</td>\n",
       "      <td>4845</td>\n",
       "      <td>None</td>\n",
       "      <td>733</td>\n",
       "      <td>760</td>\n",
       "      <td>304277.012678</td>\n",
       "      <td>[6]</td>\n",
       "      <td>8 nanometer</td>\n",
       "    </tr>\n",
       "  </tbody>\n",
       "</table>\n",
       "</div>"
      ],
      "text/plain": [
       "<class 'navis.core.neuronlist.NeuronList'> of 2 neurons \n",
       "          type        name          id  n_nodes n_connectors  n_branches  \\\n",
       "0  TreeNeuron  1734350788  1734350788     4465         None         603   \n",
       "1  TreeNeuron  1734350908  1734350908     4845         None         733   \n",
       "\n",
       "   n_leafs   cable_length    soma        units  \n",
       "0      619  266458.006156  [4176]  8 nanometer  \n",
       "1      760  304277.012678     [6]  8 nanometer  "
      ]
     },
     "execution_count": 13,
     "metadata": {},
     "output_type": "execute_result"
    }
   ],
   "source": [
    "subset = nl[nl.soma != None]\n",
    "subset"
   ]
  },
  {
   "cell_type": "raw",
   "metadata": {
    "raw_mimetype": "text/restructuredtext"
   },
   "source": [
    "Index by name\n",
    "+++++++++++++\n",
    "\n",
    ":class:`~navis.TreeNeuron` can (but don't have to) have names (``.name``). If you, for example, import neurons from SWC files they will inherit their name from the file by default.\n",
    "\n",
    "You can index by single..."
   ]
  },
  {
   "cell_type": "code",
   "execution_count": 14,
   "metadata": {},
   "outputs": [
    {
     "data": {
      "text/html": [
       "<div>\n",
       "<style scoped>\n",
       "    .dataframe tbody tr th:only-of-type {\n",
       "        vertical-align: middle;\n",
       "    }\n",
       "\n",
       "    .dataframe tbody tr th {\n",
       "        vertical-align: top;\n",
       "    }\n",
       "\n",
       "    .dataframe thead th {\n",
       "        text-align: right;\n",
       "    }\n",
       "</style>\n",
       "<table border=\"1\" class=\"dataframe\">\n",
       "  <thead>\n",
       "    <tr style=\"text-align: right;\">\n",
       "      <th></th>\n",
       "      <th>type</th>\n",
       "      <th>name</th>\n",
       "      <th>id</th>\n",
       "      <th>n_nodes</th>\n",
       "      <th>n_connectors</th>\n",
       "      <th>n_branches</th>\n",
       "      <th>n_leafs</th>\n",
       "      <th>cable_length</th>\n",
       "      <th>soma</th>\n",
       "      <th>units</th>\n",
       "    </tr>\n",
       "  </thead>\n",
       "  <tbody>\n",
       "    <tr>\n",
       "      <th>0</th>\n",
       "      <td>TreeNeuron</td>\n",
       "      <td>1734350788</td>\n",
       "      <td>1734350788</td>\n",
       "      <td>4465</td>\n",
       "      <td>None</td>\n",
       "      <td>603</td>\n",
       "      <td>619</td>\n",
       "      <td>266458.006156</td>\n",
       "      <td>[4176]</td>\n",
       "      <td>8 nanometer</td>\n",
       "    </tr>\n",
       "  </tbody>\n",
       "</table>\n",
       "</div>"
      ],
      "text/plain": [
       "<class 'navis.core.neuronlist.NeuronList'> of 1 neurons \n",
       "          type        name          id  n_nodes n_connectors  n_branches  \\\n",
       "0  TreeNeuron  1734350788  1734350788     4465         None         603   \n",
       "\n",
       "   n_leafs   cable_length    soma        units  \n",
       "0      619  266458.006156  [4176]  8 nanometer  "
      ]
     },
     "execution_count": 14,
     "metadata": {},
     "output_type": "execute_result"
    }
   ],
   "source": [
    "nl['1734350788']"
   ]
  },
  {
   "cell_type": "raw",
   "metadata": {
    "raw_mimetype": "text/restructuredtext"
   },
   "source": [
    "... or multiple names:"
   ]
  },
  {
   "cell_type": "code",
   "execution_count": 15,
   "metadata": {},
   "outputs": [
    {
     "data": {
      "text/html": [
       "<div>\n",
       "<style scoped>\n",
       "    .dataframe tbody tr th:only-of-type {\n",
       "        vertical-align: middle;\n",
       "    }\n",
       "\n",
       "    .dataframe tbody tr th {\n",
       "        vertical-align: top;\n",
       "    }\n",
       "\n",
       "    .dataframe thead th {\n",
       "        text-align: right;\n",
       "    }\n",
       "</style>\n",
       "<table border=\"1\" class=\"dataframe\">\n",
       "  <thead>\n",
       "    <tr style=\"text-align: right;\">\n",
       "      <th></th>\n",
       "      <th>type</th>\n",
       "      <th>name</th>\n",
       "      <th>id</th>\n",
       "      <th>n_nodes</th>\n",
       "      <th>n_connectors</th>\n",
       "      <th>n_branches</th>\n",
       "      <th>n_leafs</th>\n",
       "      <th>cable_length</th>\n",
       "      <th>soma</th>\n",
       "      <th>units</th>\n",
       "    </tr>\n",
       "  </thead>\n",
       "  <tbody>\n",
       "    <tr>\n",
       "      <th>0</th>\n",
       "      <td>TreeNeuron</td>\n",
       "      <td>1734350788</td>\n",
       "      <td>1734350788</td>\n",
       "      <td>4465</td>\n",
       "      <td>None</td>\n",
       "      <td>603</td>\n",
       "      <td>619</td>\n",
       "      <td>266458.006156</td>\n",
       "      <td>[4176]</td>\n",
       "      <td>8 nanometer</td>\n",
       "    </tr>\n",
       "    <tr>\n",
       "      <th>1</th>\n",
       "      <td>TreeNeuron</td>\n",
       "      <td>1734350908</td>\n",
       "      <td>1734350908</td>\n",
       "      <td>4845</td>\n",
       "      <td>None</td>\n",
       "      <td>733</td>\n",
       "      <td>760</td>\n",
       "      <td>304277.012678</td>\n",
       "      <td>[6]</td>\n",
       "      <td>8 nanometer</td>\n",
       "    </tr>\n",
       "  </tbody>\n",
       "</table>\n",
       "</div>"
      ],
      "text/plain": [
       "<class 'navis.core.neuronlist.NeuronList'> of 2 neurons \n",
       "          type        name          id  n_nodes n_connectors  n_branches  \\\n",
       "0  TreeNeuron  1734350788  1734350788     4465         None         603   \n",
       "1  TreeNeuron  1734350908  1734350908     4845         None         733   \n",
       "\n",
       "   n_leafs   cable_length    soma        units  \n",
       "0      619  266458.006156  [4176]  8 nanometer  \n",
       "1      760  304277.012678     [6]  8 nanometer  "
      ]
     },
     "execution_count": 15,
     "metadata": {},
     "output_type": "execute_result"
    }
   ],
   "source": [
    "nl[['1734350788', '1734350908']]"
   ]
  },
  {
   "cell_type": "raw",
   "metadata": {
    "raw_mimetype": "text/restructuredtext"
   },
   "source": [
    "Using regex\n",
    "***********\n",
    "Under the hood ``navis`` uses ``re.fullmatch`` to match neuron names - so you can use regex!"
   ]
  },
  {
   "cell_type": "code",
   "execution_count": 16,
   "metadata": {},
   "outputs": [
    {
     "data": {
      "text/html": [
       "<div>\n",
       "<style scoped>\n",
       "    .dataframe tbody tr th:only-of-type {\n",
       "        vertical-align: middle;\n",
       "    }\n",
       "\n",
       "    .dataframe tbody tr th {\n",
       "        vertical-align: top;\n",
       "    }\n",
       "\n",
       "    .dataframe thead th {\n",
       "        text-align: right;\n",
       "    }\n",
       "</style>\n",
       "<table border=\"1\" class=\"dataframe\">\n",
       "  <thead>\n",
       "    <tr style=\"text-align: right;\">\n",
       "      <th></th>\n",
       "      <th>type</th>\n",
       "      <th>name</th>\n",
       "      <th>id</th>\n",
       "      <th>n_nodes</th>\n",
       "      <th>n_connectors</th>\n",
       "      <th>n_branches</th>\n",
       "      <th>n_leafs</th>\n",
       "      <th>cable_length</th>\n",
       "      <th>soma</th>\n",
       "      <th>units</th>\n",
       "    </tr>\n",
       "  </thead>\n",
       "  <tbody>\n",
       "    <tr>\n",
       "      <th>0</th>\n",
       "      <td>TreeNeuron</td>\n",
       "      <td>1734350788</td>\n",
       "      <td>1734350788</td>\n",
       "      <td>4465</td>\n",
       "      <td>None</td>\n",
       "      <td>603</td>\n",
       "      <td>619</td>\n",
       "      <td>266458.006156</td>\n",
       "      <td>[4176]</td>\n",
       "      <td>8 nanometer</td>\n",
       "    </tr>\n",
       "    <tr>\n",
       "      <th>1</th>\n",
       "      <td>TreeNeuron</td>\n",
       "      <td>1734350908</td>\n",
       "      <td>1734350908</td>\n",
       "      <td>4845</td>\n",
       "      <td>None</td>\n",
       "      <td>733</td>\n",
       "      <td>760</td>\n",
       "      <td>304277.012678</td>\n",
       "      <td>[6]</td>\n",
       "      <td>8 nanometer</td>\n",
       "    </tr>\n",
       "  </tbody>\n",
       "</table>\n",
       "</div>"
      ],
      "text/plain": [
       "<class 'navis.core.neuronlist.NeuronList'> of 2 neurons \n",
       "          type        name          id  n_nodes n_connectors  n_branches  \\\n",
       "0  TreeNeuron  1734350788  1734350788     4465         None         603   \n",
       "1  TreeNeuron  1734350908  1734350908     4845         None         733   \n",
       "\n",
       "   n_leafs   cable_length    soma        units  \n",
       "0      619  266458.006156  [4176]  8 nanometer  \n",
       "1      760  304277.012678     [6]  8 nanometer  "
      ]
     },
     "execution_count": 16,
     "metadata": {},
     "output_type": "execute_result"
    }
   ],
   "source": [
    "nl['.*350.*']"
   ]
  },
  {
   "cell_type": "raw",
   "metadata": {
    "raw_mimetype": "text/restructuredtext"
   },
   "source": [
    "Please note that whichever way you index your :class:`~navis.NeuronList`, each neuron will be returned only once!"
   ]
  },
  {
   "cell_type": "code",
   "execution_count": 17,
   "metadata": {},
   "outputs": [
    {
     "data": {
      "text/html": [
       "<div>\n",
       "<style scoped>\n",
       "    .dataframe tbody tr th:only-of-type {\n",
       "        vertical-align: middle;\n",
       "    }\n",
       "\n",
       "    .dataframe tbody tr th {\n",
       "        vertical-align: top;\n",
       "    }\n",
       "\n",
       "    .dataframe thead th {\n",
       "        text-align: right;\n",
       "    }\n",
       "</style>\n",
       "<table border=\"1\" class=\"dataframe\">\n",
       "  <thead>\n",
       "    <tr style=\"text-align: right;\">\n",
       "      <th></th>\n",
       "      <th>type</th>\n",
       "      <th>name</th>\n",
       "      <th>id</th>\n",
       "      <th>n_nodes</th>\n",
       "      <th>n_connectors</th>\n",
       "      <th>n_branches</th>\n",
       "      <th>n_leafs</th>\n",
       "      <th>cable_length</th>\n",
       "      <th>soma</th>\n",
       "      <th>units</th>\n",
       "    </tr>\n",
       "  </thead>\n",
       "  <tbody>\n",
       "    <tr>\n",
       "      <th>0</th>\n",
       "      <td>TreeNeuron</td>\n",
       "      <td>1734350788</td>\n",
       "      <td>1734350788</td>\n",
       "      <td>4465</td>\n",
       "      <td>None</td>\n",
       "      <td>603</td>\n",
       "      <td>619</td>\n",
       "      <td>266458.006156</td>\n",
       "      <td>[4176]</td>\n",
       "      <td>8 nanometer</td>\n",
       "    </tr>\n",
       "  </tbody>\n",
       "</table>\n",
       "</div>"
      ],
      "text/plain": [
       "<class 'navis.core.neuronlist.NeuronList'> of 1 neurons \n",
       "          type        name          id  n_nodes n_connectors  n_branches  \\\n",
       "0  TreeNeuron  1734350788  1734350788     4465         None         603   \n",
       "\n",
       "   n_leafs   cable_length    soma        units  \n",
       "0      619  266458.006156  [4176]  8 nanometer  "
      ]
     },
     "execution_count": 17,
     "metadata": {},
     "output_type": "execute_result"
    }
   ],
   "source": [
    "nl[[0, 0]]"
   ]
  },
  {
   "cell_type": "code",
   "execution_count": 18,
   "metadata": {},
   "outputs": [
    {
     "data": {
      "text/html": [
       "<div>\n",
       "<style scoped>\n",
       "    .dataframe tbody tr th:only-of-type {\n",
       "        vertical-align: middle;\n",
       "    }\n",
       "\n",
       "    .dataframe tbody tr th {\n",
       "        vertical-align: top;\n",
       "    }\n",
       "\n",
       "    .dataframe thead th {\n",
       "        text-align: right;\n",
       "    }\n",
       "</style>\n",
       "<table border=\"1\" class=\"dataframe\">\n",
       "  <thead>\n",
       "    <tr style=\"text-align: right;\">\n",
       "      <th></th>\n",
       "      <th>type</th>\n",
       "      <th>name</th>\n",
       "      <th>id</th>\n",
       "      <th>n_nodes</th>\n",
       "      <th>n_connectors</th>\n",
       "      <th>n_branches</th>\n",
       "      <th>n_leafs</th>\n",
       "      <th>cable_length</th>\n",
       "      <th>soma</th>\n",
       "      <th>units</th>\n",
       "    </tr>\n",
       "  </thead>\n",
       "  <tbody>\n",
       "    <tr>\n",
       "      <th>0</th>\n",
       "      <td>TreeNeuron</td>\n",
       "      <td>1734350788</td>\n",
       "      <td>1734350788</td>\n",
       "      <td>4465</td>\n",
       "      <td>None</td>\n",
       "      <td>603</td>\n",
       "      <td>619</td>\n",
       "      <td>266458.006156</td>\n",
       "      <td>[4176]</td>\n",
       "      <td>8 nanometer</td>\n",
       "    </tr>\n",
       "  </tbody>\n",
       "</table>\n",
       "</div>"
      ],
      "text/plain": [
       "<class 'navis.core.neuronlist.NeuronList'> of 1 neurons \n",
       "          type        name          id  n_nodes n_connectors  n_branches  \\\n",
       "0  TreeNeuron  1734350788  1734350788     4465         None         603   \n",
       "\n",
       "   n_leafs   cable_length    soma        units  \n",
       "0      619  266458.006156  [4176]  8 nanometer  "
      ]
     },
     "execution_count": 18,
     "metadata": {},
     "output_type": "execute_result"
    }
   ],
   "source": [
    "nl[[0, '1734350788']]"
   ]
  },
  {
   "cell_type": "raw",
   "metadata": {
    "raw_mimetype": "text/restructuredtext"
   },
   "source": [
    "Index by ID\n",
    "+++++++++++\n",
    "\n",
    "All neurons have an ID - even if you don't explicitly assign one, a UUID will assigned under the hood. "
   ]
  },
  {
   "cell_type": "code",
   "execution_count": 19,
   "metadata": {},
   "outputs": [
    {
     "data": {
      "text/plain": [
       "1734350788"
      ]
     },
     "execution_count": 19,
     "metadata": {},
     "output_type": "execute_result"
    }
   ],
   "source": [
    "nl[0].id"
   ]
  },
  {
   "cell_type": "raw",
   "metadata": {
    "raw_mimetype": "text/restructuredtext"
   },
   "source": [
    "Neuron lists can be indexed by their ID - this works similar to e.g. the ``.loc`` indexer in pandas DataFrames."
   ]
  },
  {
   "cell_type": "code",
   "execution_count": 20,
   "metadata": {},
   "outputs": [
    {
     "data": {
      "text/html": [
       "<div>\n",
       "<style scoped>\n",
       "    .dataframe tbody tr th:only-of-type {\n",
       "        vertical-align: middle;\n",
       "    }\n",
       "\n",
       "    .dataframe tbody tr th {\n",
       "        vertical-align: top;\n",
       "    }\n",
       "\n",
       "    .dataframe thead th {\n",
       "        text-align: right;\n",
       "    }\n",
       "</style>\n",
       "<table border=\"1\" class=\"dataframe\">\n",
       "  <thead>\n",
       "    <tr style=\"text-align: right;\">\n",
       "      <th></th>\n",
       "      <th></th>\n",
       "    </tr>\n",
       "  </thead>\n",
       "  <tbody>\n",
       "    <tr>\n",
       "      <th>type</th>\n",
       "      <td>TreeNeuron</td>\n",
       "    </tr>\n",
       "    <tr>\n",
       "      <th>name</th>\n",
       "      <td>1734350908</td>\n",
       "    </tr>\n",
       "    <tr>\n",
       "      <th>id</th>\n",
       "      <td>1734350908</td>\n",
       "    </tr>\n",
       "    <tr>\n",
       "      <th>n_nodes</th>\n",
       "      <td>4845</td>\n",
       "    </tr>\n",
       "    <tr>\n",
       "      <th>n_connectors</th>\n",
       "      <td>None</td>\n",
       "    </tr>\n",
       "    <tr>\n",
       "      <th>n_branches</th>\n",
       "      <td>733</td>\n",
       "    </tr>\n",
       "    <tr>\n",
       "      <th>n_leafs</th>\n",
       "      <td>760</td>\n",
       "    </tr>\n",
       "    <tr>\n",
       "      <th>cable_length</th>\n",
       "      <td>304277</td>\n",
       "    </tr>\n",
       "    <tr>\n",
       "      <th>soma</th>\n",
       "      <td>[6]</td>\n",
       "    </tr>\n",
       "    <tr>\n",
       "      <th>units</th>\n",
       "      <td>8 nanometer</td>\n",
       "    </tr>\n",
       "  </tbody>\n",
       "</table>\n",
       "</div>"
      ],
      "text/plain": [
       "type             TreeNeuron\n",
       "name             1734350908\n",
       "id               1734350908\n",
       "n_nodes                4845\n",
       "n_connectors           None\n",
       "n_branches              733\n",
       "n_leafs                 760\n",
       "cable_length         304277\n",
       "soma                    [6]\n",
       "units           8 nanometer\n",
       "dtype: object"
      ]
     },
     "execution_count": 20,
     "metadata": {},
     "output_type": "execute_result"
    }
   ],
   "source": [
    "nl.idx[1734350908]"
   ]
  },
  {
   "cell_type": "raw",
   "metadata": {
    "raw_mimetype": "text/restructuredtext"
   },
   "source": [
    ".. _neuron_math:\n",
    "\n",
    "Neuron Math\n",
    "===========\n",
    "``navis`` implements a very simply and intuitive syntax to add and remove items from a NeuronList:\n",
    "\n",
    "Addition\n",
    "++++++++\n",
    "To merge two lists in Python, you can simply add them:"
   ]
  },
  {
   "cell_type": "code",
   "execution_count": 27,
   "metadata": {},
   "outputs": [
    {
     "data": {
      "text/plain": [
       "[1, 3]"
      ]
     },
     "execution_count": 27,
     "metadata": {},
     "output_type": "execute_result"
    }
   ],
   "source": [
    "[1] + [3]"
   ]
  },
  {
   "cell_type": "raw",
   "metadata": {
    "raw_mimetype": "text/restructuredtext"
   },
   "source": [
    ":class:`~navis.NeuronList` works exactly the same:"
   ]
  },
  {
   "cell_type": "code",
   "execution_count": 28,
   "metadata": {},
   "outputs": [
    {
     "data": {
      "text/html": [
       "<div>\n",
       "<style scoped>\n",
       "    .dataframe tbody tr th:only-of-type {\n",
       "        vertical-align: middle;\n",
       "    }\n",
       "\n",
       "    .dataframe tbody tr th {\n",
       "        vertical-align: top;\n",
       "    }\n",
       "\n",
       "    .dataframe thead th {\n",
       "        text-align: right;\n",
       "    }\n",
       "</style>\n",
       "<table border=\"1\" class=\"dataframe\">\n",
       "  <thead>\n",
       "    <tr style=\"text-align: right;\">\n",
       "      <th></th>\n",
       "      <th>type</th>\n",
       "      <th>name</th>\n",
       "      <th>n_nodes</th>\n",
       "      <th>n_connectors</th>\n",
       "      <th>n_branches</th>\n",
       "      <th>n_leafs</th>\n",
       "      <th>cable_length</th>\n",
       "      <th>soma</th>\n",
       "      <th>units</th>\n",
       "    </tr>\n",
       "  </thead>\n",
       "  <tbody>\n",
       "    <tr>\n",
       "      <th>0</th>\n",
       "      <td>TreeNeuron</td>\n",
       "      <td>1734350788</td>\n",
       "      <td>4465</td>\n",
       "      <td>None</td>\n",
       "      <td>603</td>\n",
       "      <td>619</td>\n",
       "      <td>266458.006156</td>\n",
       "      <td>[4176]</td>\n",
       "      <td>8 nanometer</td>\n",
       "    </tr>\n",
       "    <tr>\n",
       "      <th>1</th>\n",
       "      <td>TreeNeuron</td>\n",
       "      <td>1734350908</td>\n",
       "      <td>4845</td>\n",
       "      <td>None</td>\n",
       "      <td>733</td>\n",
       "      <td>760</td>\n",
       "      <td>304277.012678</td>\n",
       "      <td>[6]</td>\n",
       "      <td>8 nanometer</td>\n",
       "    </tr>\n",
       "    <tr>\n",
       "      <th>2</th>\n",
       "      <td>TreeNeuron</td>\n",
       "      <td>722817260</td>\n",
       "      <td>4336</td>\n",
       "      <td>None</td>\n",
       "      <td>635</td>\n",
       "      <td>658</td>\n",
       "      <td>274910.560630</td>\n",
       "      <td>None</td>\n",
       "      <td>8 nanometer</td>\n",
       "    </tr>\n",
       "  </tbody>\n",
       "</table>\n",
       "</div>"
      ],
      "text/plain": [
       "<class 'navis.core.neuronlist.NeuronList'> of 3 neurons \n",
       "          type        name  n_nodes n_connectors  n_branches  n_leafs  \\\n",
       "0  TreeNeuron  1734350788     4465         None         603      619   \n",
       "1  TreeNeuron  1734350908     4845         None         733      760   \n",
       "2  TreeNeuron   722817260     4336         None         635      658   \n",
       "\n",
       "    cable_length    soma        units  \n",
       "0  266458.006156  [4176]  8 nanometer  \n",
       "1  304277.012678     [6]  8 nanometer  \n",
       "2  274910.560630    None  8 nanometer  "
      ]
     },
     "execution_count": 28,
     "metadata": {},
     "output_type": "execute_result"
    }
   ],
   "source": [
    "nl[:2] + nl[2:]"
   ]
  },
  {
   "cell_type": "raw",
   "metadata": {
    "raw_mimetype": "text/restructuredtext"
   },
   "source": [
    "This also works on with two single :class:`~navis.TreeNeurons`! You can use that to combine them into a list:"
   ]
  },
  {
   "cell_type": "code",
   "execution_count": 29,
   "metadata": {},
   "outputs": [
    {
     "data": {
      "text/html": [
       "<div>\n",
       "<style scoped>\n",
       "    .dataframe tbody tr th:only-of-type {\n",
       "        vertical-align: middle;\n",
       "    }\n",
       "\n",
       "    .dataframe tbody tr th {\n",
       "        vertical-align: top;\n",
       "    }\n",
       "\n",
       "    .dataframe thead th {\n",
       "        text-align: right;\n",
       "    }\n",
       "</style>\n",
       "<table border=\"1\" class=\"dataframe\">\n",
       "  <thead>\n",
       "    <tr style=\"text-align: right;\">\n",
       "      <th></th>\n",
       "      <th>type</th>\n",
       "      <th>name</th>\n",
       "      <th>n_nodes</th>\n",
       "      <th>n_connectors</th>\n",
       "      <th>n_branches</th>\n",
       "      <th>n_leafs</th>\n",
       "      <th>cable_length</th>\n",
       "      <th>soma</th>\n",
       "      <th>units</th>\n",
       "    </tr>\n",
       "  </thead>\n",
       "  <tbody>\n",
       "    <tr>\n",
       "      <th>0</th>\n",
       "      <td>TreeNeuron</td>\n",
       "      <td>1734350788</td>\n",
       "      <td>4465</td>\n",
       "      <td>None</td>\n",
       "      <td>603</td>\n",
       "      <td>619</td>\n",
       "      <td>266458.006156</td>\n",
       "      <td>[4176]</td>\n",
       "      <td>8 nanometer</td>\n",
       "    </tr>\n",
       "    <tr>\n",
       "      <th>1</th>\n",
       "      <td>TreeNeuron</td>\n",
       "      <td>1734350908</td>\n",
       "      <td>4845</td>\n",
       "      <td>None</td>\n",
       "      <td>733</td>\n",
       "      <td>760</td>\n",
       "      <td>304277.012678</td>\n",
       "      <td>[6]</td>\n",
       "      <td>8 nanometer</td>\n",
       "    </tr>\n",
       "  </tbody>\n",
       "</table>\n",
       "</div>"
      ],
      "text/plain": [
       "<class 'navis.core.neuronlist.NeuronList'> of 2 neurons \n",
       "          type        name  n_nodes n_connectors  n_branches  n_leafs  \\\n",
       "0  TreeNeuron  1734350788     4465         None         603      619   \n",
       "1  TreeNeuron  1734350908     4845         None         733      760   \n",
       "\n",
       "    cable_length    soma        units  \n",
       "0  266458.006156  [4176]  8 nanometer  \n",
       "1  304277.012678     [6]  8 nanometer  "
      ]
     },
     "execution_count": 29,
     "metadata": {},
     "output_type": "execute_result"
    }
   ],
   "source": [
    "nl[0] + nl[1]"
   ]
  },
  {
   "cell_type": "raw",
   "metadata": {
    "raw_mimetype": "text/restructuredtext"
   },
   "source": [
    "Substraction\n",
    "++++++++++++\n",
    "To remove an item from a Python list, you would call the ``.pop()`` method:"
   ]
  },
  {
   "cell_type": "code",
   "execution_count": 30,
   "metadata": {},
   "outputs": [
    {
     "data": {
      "text/plain": [
       "[1, 2]"
      ]
     },
     "execution_count": 30,
     "metadata": {},
     "output_type": "execute_result"
    }
   ],
   "source": [
    "l = [1, 2, 3]\n",
    "l.pop(2)\n",
    "l"
   ]
  },
  {
   "cell_type": "raw",
   "metadata": {
    "raw_mimetype": "text/restructuredtext"
   },
   "source": [
    "For :class:`~navis.NeuronList` you can use substraction:"
   ]
  },
  {
   "cell_type": "code",
   "execution_count": 31,
   "metadata": {},
   "outputs": [
    {
     "data": {
      "text/html": [
       "<div>\n",
       "<style scoped>\n",
       "    .dataframe tbody tr th:only-of-type {\n",
       "        vertical-align: middle;\n",
       "    }\n",
       "\n",
       "    .dataframe tbody tr th {\n",
       "        vertical-align: top;\n",
       "    }\n",
       "\n",
       "    .dataframe thead th {\n",
       "        text-align: right;\n",
       "    }\n",
       "</style>\n",
       "<table border=\"1\" class=\"dataframe\">\n",
       "  <thead>\n",
       "    <tr style=\"text-align: right;\">\n",
       "      <th></th>\n",
       "      <th>type</th>\n",
       "      <th>name</th>\n",
       "      <th>n_nodes</th>\n",
       "      <th>n_connectors</th>\n",
       "      <th>n_branches</th>\n",
       "      <th>n_leafs</th>\n",
       "      <th>cable_length</th>\n",
       "      <th>soma</th>\n",
       "      <th>units</th>\n",
       "    </tr>\n",
       "  </thead>\n",
       "  <tbody>\n",
       "    <tr>\n",
       "      <th>0</th>\n",
       "      <td>TreeNeuron</td>\n",
       "      <td>1734350788</td>\n",
       "      <td>4465</td>\n",
       "      <td>None</td>\n",
       "      <td>603</td>\n",
       "      <td>619</td>\n",
       "      <td>266458.006156</td>\n",
       "      <td>[4176]</td>\n",
       "      <td>8 nanometer</td>\n",
       "    </tr>\n",
       "    <tr>\n",
       "      <th>1</th>\n",
       "      <td>TreeNeuron</td>\n",
       "      <td>1734350908</td>\n",
       "      <td>4845</td>\n",
       "      <td>None</td>\n",
       "      <td>733</td>\n",
       "      <td>760</td>\n",
       "      <td>304277.012678</td>\n",
       "      <td>[6]</td>\n",
       "      <td>8 nanometer</td>\n",
       "    </tr>\n",
       "  </tbody>\n",
       "</table>\n",
       "</div>"
      ],
      "text/plain": [
       "<class 'navis.core.neuronlist.NeuronList'> of 2 neurons \n",
       "          type        name  n_nodes n_connectors  n_branches  n_leafs  \\\n",
       "0  TreeNeuron  1734350788     4465         None         603      619   \n",
       "1  TreeNeuron  1734350908     4845         None         733      760   \n",
       "\n",
       "    cable_length    soma        units  \n",
       "0  266458.006156  [4176]  8 nanometer  \n",
       "1  304277.012678     [6]  8 nanometer  "
      ]
     },
     "execution_count": 31,
     "metadata": {},
     "output_type": "execute_result"
    }
   ],
   "source": [
    "nl - nl[2]"
   ]
  },
  {
   "cell_type": "raw",
   "metadata": {
    "raw_mimetype": "text/restructuredtext"
   },
   "source": [
    "Bitwise AND\n",
    "+++++++++++\n",
    "To find the intersection between two lists, you would use ``sets`` and the ``&`` operator:"
   ]
  },
  {
   "cell_type": "code",
   "execution_count": 32,
   "metadata": {},
   "outputs": [
    {
     "data": {
      "text/plain": [
       "{2}"
      ]
     },
     "execution_count": 32,
     "metadata": {},
     "output_type": "execute_result"
    }
   ],
   "source": [
    "set([0, 1, 2]) &  set([2, 3, 4])"
   ]
  },
  {
   "cell_type": "raw",
   "metadata": {
    "raw_mimetype": "text/restructuredtext"
   },
   "source": [
    ":class:`~navis.NeuronList` work similarly:"
   ]
  },
  {
   "cell_type": "code",
   "execution_count": 33,
   "metadata": {},
   "outputs": [
    {
     "data": {
      "text/html": [
       "<div>\n",
       "<style scoped>\n",
       "    .dataframe tbody tr th:only-of-type {\n",
       "        vertical-align: middle;\n",
       "    }\n",
       "\n",
       "    .dataframe tbody tr th {\n",
       "        vertical-align: top;\n",
       "    }\n",
       "\n",
       "    .dataframe thead th {\n",
       "        text-align: right;\n",
       "    }\n",
       "</style>\n",
       "<table border=\"1\" class=\"dataframe\">\n",
       "  <thead>\n",
       "    <tr style=\"text-align: right;\">\n",
       "      <th></th>\n",
       "      <th>type</th>\n",
       "      <th>name</th>\n",
       "      <th>n_nodes</th>\n",
       "      <th>n_connectors</th>\n",
       "      <th>n_branches</th>\n",
       "      <th>n_leafs</th>\n",
       "      <th>cable_length</th>\n",
       "      <th>soma</th>\n",
       "      <th>units</th>\n",
       "    </tr>\n",
       "  </thead>\n",
       "  <tbody>\n",
       "    <tr>\n",
       "      <th>0</th>\n",
       "      <td>TreeNeuron</td>\n",
       "      <td>1734350908</td>\n",
       "      <td>4845</td>\n",
       "      <td>None</td>\n",
       "      <td>733</td>\n",
       "      <td>760</td>\n",
       "      <td>304277.012678</td>\n",
       "      <td>[6]</td>\n",
       "      <td>8 nanometer</td>\n",
       "    </tr>\n",
       "  </tbody>\n",
       "</table>\n",
       "</div>"
      ],
      "text/plain": [
       "<class 'navis.core.neuronlist.NeuronList'> of 1 neurons \n",
       "          type        name  n_nodes n_connectors  n_branches  n_leafs  \\\n",
       "0  TreeNeuron  1734350908     4845         None         733      760   \n",
       "\n",
       "    cable_length soma        units  \n",
       "0  304277.012678  [6]  8 nanometer  "
      ]
     },
     "execution_count": 33,
     "metadata": {},
     "output_type": "execute_result"
    }
   ],
   "source": [
    "nl[[0, 1]] & nl[[1, 2]]"
   ]
  },
  {
   "cell_type": "raw",
   "metadata": {
    "raw_mimetype": "text/restructuredtext"
   },
   "source": [
    "Multiplication and Division\n",
    "+++++++++++++++++++++++++++\n",
    "So far, all operations have led to changes in the structure of the :class:`~navis.NeuronList`. Multiplication and division are **different**! If you multiply/divide a :class:`~navis.TreeNeuron` or :class:`~navis.NeuronList` by a number, you will change the *coordinates* of nodes and connectors (including radii):"
   ]
  },
  {
   "cell_type": "code",
   "execution_count": 34,
   "metadata": {},
   "outputs": [
    {
     "data": {
      "text/html": [
       "<div>\n",
       "<style scoped>\n",
       "    .dataframe tbody tr th:only-of-type {\n",
       "        vertical-align: middle;\n",
       "    }\n",
       "\n",
       "    .dataframe tbody tr th {\n",
       "        vertical-align: top;\n",
       "    }\n",
       "\n",
       "    .dataframe thead th {\n",
       "        text-align: right;\n",
       "    }\n",
       "</style>\n",
       "<table border=\"1\" class=\"dataframe\">\n",
       "  <thead>\n",
       "    <tr style=\"text-align: right;\">\n",
       "      <th></th>\n",
       "      <th>node_id</th>\n",
       "      <th>label</th>\n",
       "      <th>x</th>\n",
       "      <th>y</th>\n",
       "      <th>z</th>\n",
       "      <th>radius</th>\n",
       "      <th>parent_id</th>\n",
       "      <th>type</th>\n",
       "    </tr>\n",
       "  </thead>\n",
       "  <tbody>\n",
       "    <tr>\n",
       "      <th>0</th>\n",
       "      <td>1</td>\n",
       "      <td>0</td>\n",
       "      <td>15784.0</td>\n",
       "      <td>37250.0</td>\n",
       "      <td>28102.0</td>\n",
       "      <td>10.0000</td>\n",
       "      <td>-1</td>\n",
       "      <td>root</td>\n",
       "    </tr>\n",
       "    <tr>\n",
       "      <th>1</th>\n",
       "      <td>2</td>\n",
       "      <td>0</td>\n",
       "      <td>15764.0</td>\n",
       "      <td>37230.0</td>\n",
       "      <td>28102.0</td>\n",
       "      <td>18.2843</td>\n",
       "      <td>1</td>\n",
       "      <td>slab</td>\n",
       "    </tr>\n",
       "    <tr>\n",
       "      <th>2</th>\n",
       "      <td>3</td>\n",
       "      <td>0</td>\n",
       "      <td>15744.0</td>\n",
       "      <td>37190.0</td>\n",
       "      <td>28142.0</td>\n",
       "      <td>34.7214</td>\n",
       "      <td>2</td>\n",
       "      <td>slab</td>\n",
       "    </tr>\n",
       "    <tr>\n",
       "      <th>3</th>\n",
       "      <td>4</td>\n",
       "      <td>0</td>\n",
       "      <td>15744.0</td>\n",
       "      <td>37150.0</td>\n",
       "      <td>28182.0</td>\n",
       "      <td>34.7214</td>\n",
       "      <td>3</td>\n",
       "      <td>slab</td>\n",
       "    </tr>\n",
       "    <tr>\n",
       "      <th>4</th>\n",
       "      <td>5</td>\n",
       "      <td>0</td>\n",
       "      <td>15704.0</td>\n",
       "      <td>37130.0</td>\n",
       "      <td>28242.0</td>\n",
       "      <td>34.7214</td>\n",
       "      <td>4</td>\n",
       "      <td>slab</td>\n",
       "    </tr>\n",
       "  </tbody>\n",
       "</table>\n",
       "</div>"
      ],
      "text/plain": [
       "   node_id label        x        y        z   radius  parent_id  type\n",
       "0        1     0  15784.0  37250.0  28102.0  10.0000         -1  root\n",
       "1        2     0  15764.0  37230.0  28102.0  18.2843          1  slab\n",
       "2        3     0  15744.0  37190.0  28142.0  34.7214          2  slab\n",
       "3        4     0  15744.0  37150.0  28182.0  34.7214          3  slab\n",
       "4        5     0  15704.0  37130.0  28242.0  34.7214          4  slab"
      ]
     },
     "execution_count": 34,
     "metadata": {},
     "output_type": "execute_result"
    }
   ],
   "source": [
    "n = nl[0]\n",
    "n.nodes.head()"
   ]
  },
  {
   "cell_type": "code",
   "execution_count": 35,
   "metadata": {},
   "outputs": [
    {
     "data": {
      "text/html": [
       "<div>\n",
       "<style scoped>\n",
       "    .dataframe tbody tr th:only-of-type {\n",
       "        vertical-align: middle;\n",
       "    }\n",
       "\n",
       "    .dataframe tbody tr th {\n",
       "        vertical-align: top;\n",
       "    }\n",
       "\n",
       "    .dataframe thead th {\n",
       "        text-align: right;\n",
       "    }\n",
       "</style>\n",
       "<table border=\"1\" class=\"dataframe\">\n",
       "  <thead>\n",
       "    <tr style=\"text-align: right;\">\n",
       "      <th></th>\n",
       "      <th>node_id</th>\n",
       "      <th>label</th>\n",
       "      <th>x</th>\n",
       "      <th>y</th>\n",
       "      <th>z</th>\n",
       "      <th>radius</th>\n",
       "      <th>parent_id</th>\n",
       "      <th>type</th>\n",
       "    </tr>\n",
       "  </thead>\n",
       "  <tbody>\n",
       "    <tr>\n",
       "      <th>0</th>\n",
       "      <td>1</td>\n",
       "      <td>0</td>\n",
       "      <td>15.784</td>\n",
       "      <td>37.25</td>\n",
       "      <td>28.102</td>\n",
       "      <td>0.010000</td>\n",
       "      <td>-1</td>\n",
       "      <td>root</td>\n",
       "    </tr>\n",
       "    <tr>\n",
       "      <th>1</th>\n",
       "      <td>2</td>\n",
       "      <td>0</td>\n",
       "      <td>15.764</td>\n",
       "      <td>37.23</td>\n",
       "      <td>28.102</td>\n",
       "      <td>0.018284</td>\n",
       "      <td>1</td>\n",
       "      <td>slab</td>\n",
       "    </tr>\n",
       "    <tr>\n",
       "      <th>2</th>\n",
       "      <td>3</td>\n",
       "      <td>0</td>\n",
       "      <td>15.744</td>\n",
       "      <td>37.19</td>\n",
       "      <td>28.142</td>\n",
       "      <td>0.034721</td>\n",
       "      <td>2</td>\n",
       "      <td>slab</td>\n",
       "    </tr>\n",
       "    <tr>\n",
       "      <th>3</th>\n",
       "      <td>4</td>\n",
       "      <td>0</td>\n",
       "      <td>15.744</td>\n",
       "      <td>37.15</td>\n",
       "      <td>28.182</td>\n",
       "      <td>0.034721</td>\n",
       "      <td>3</td>\n",
       "      <td>slab</td>\n",
       "    </tr>\n",
       "    <tr>\n",
       "      <th>4</th>\n",
       "      <td>5</td>\n",
       "      <td>0</td>\n",
       "      <td>15.704</td>\n",
       "      <td>37.13</td>\n",
       "      <td>28.242</td>\n",
       "      <td>0.034721</td>\n",
       "      <td>4</td>\n",
       "      <td>slab</td>\n",
       "    </tr>\n",
       "  </tbody>\n",
       "</table>\n",
       "</div>"
      ],
      "text/plain": [
       "   node_id label       x      y       z    radius  parent_id  type\n",
       "0        1     0  15.784  37.25  28.102  0.010000         -1  root\n",
       "1        2     0  15.764  37.23  28.102  0.018284          1  slab\n",
       "2        3     0  15.744  37.19  28.142  0.034721          2  slab\n",
       "3        4     0  15.744  37.15  28.182  0.034721          3  slab\n",
       "4        5     0  15.704  37.13  28.242  0.034721          4  slab"
      ]
     },
     "execution_count": 35,
     "metadata": {},
     "output_type": "execute_result"
    }
   ],
   "source": [
    "n2 = n / 1000\n",
    "n2.nodes.head()"
   ]
  },
  {
   "cell_type": "raw",
   "metadata": {
    "raw_mimetype": "text/restructuredtext"
   },
   "source": [
    ".. _compare_neurons:\n",
    "\n",
    "Comparing Neuron/Lists\n",
    "======================\n",
    ":class:`~navis.NeuronList` implements some of the basic arithmetic and comparison operators that you might know from standard ``lists`` or ``numpy.arrays``. Most this should be fairly intuitive (I hope) but there are a few things you should be aware of. The following examples will illustrate that.\n",
    "\n",
    "Comparisons\n",
    "+++++++++++\n",
    "In Python the ``==`` operator compares two elements:"
   ]
  },
  {
   "cell_type": "code",
   "execution_count": 17,
   "metadata": {},
   "outputs": [
    {
     "data": {
      "text/plain": [
       "True"
      ]
     },
     "execution_count": 17,
     "metadata": {},
     "output_type": "execute_result"
    }
   ],
   "source": [
    "1 == 1"
   ]
  },
  {
   "cell_type": "code",
   "execution_count": 18,
   "metadata": {},
   "outputs": [
    {
     "data": {
      "text/plain": [
       "False"
      ]
     },
     "execution_count": 18,
     "metadata": {},
     "output_type": "execute_result"
    }
   ],
   "source": [
    "2 == 1"
   ]
  },
  {
   "cell_type": "raw",
   "metadata": {
    "raw_mimetype": "text/restructuredtext"
   },
   "source": [
    "For :class:`~navis.TreeNeuron` this is comparison done by looking at the neurons' attribues: morphologies (soma & root nodes, cable length, etc) and meta data (name). "
   ]
  },
  {
   "cell_type": "code",
   "execution_count": 5,
   "metadata": {},
   "outputs": [
    {
     "data": {
      "text/plain": [
       "True"
      ]
     },
     "execution_count": 5,
     "metadata": {},
     "output_type": "execute_result"
    }
   ],
   "source": [
    "nl[0] == nl[0]"
   ]
  },
  {
   "cell_type": "code",
   "execution_count": 6,
   "metadata": {},
   "outputs": [
    {
     "data": {
      "text/plain": [
       "False"
      ]
     },
     "execution_count": 6,
     "metadata": {},
     "output_type": "execute_result"
    }
   ],
   "source": [
    "nl[0] == nl[1]"
   ]
  },
  {
   "cell_type": "raw",
   "metadata": {
    "raw_mimetype": "text/restructuredtext"
   },
   "source": [
    "To find out which attributes are compared, check out:"
   ]
  },
  {
   "cell_type": "code",
   "execution_count": 21,
   "metadata": {},
   "outputs": [
    {
     "data": {
      "text/plain": [
       "['n_nodes',\n",
       " 'n_connectors',\n",
       " 'soma',\n",
       " 'root',\n",
       " 'n_branches',\n",
       " 'n_leafs',\n",
       " 'cable_length',\n",
       " 'name']"
      ]
     },
     "execution_count": 21,
     "metadata": {},
     "output_type": "execute_result"
    }
   ],
   "source": [
    "navis.TreeNeuron.EQ_ATTRIBUTES"
   ]
  },
  {
   "cell_type": "raw",
   "metadata": {
    "raw_mimetype": "text/restructuredtext"
   },
   "source": [
    "Edit this list to establish your own criteria for equality.\n",
    "\n",
    "For :class:`~navis.NeuronList`, we do the same comparison pairwise between the neurons in both neuronlists:"
   ]
  },
  {
   "cell_type": "code",
   "execution_count": 7,
   "metadata": {},
   "outputs": [
    {
     "data": {
      "text/plain": [
       "True"
      ]
     },
     "execution_count": 7,
     "metadata": {},
     "output_type": "execute_result"
    }
   ],
   "source": [
    "nl == nl"
   ]
  },
  {
   "cell_type": "code",
   "execution_count": 4,
   "metadata": {},
   "outputs": [
    {
     "data": {
      "text/plain": [
       "False"
      ]
     },
     "execution_count": 4,
     "metadata": {},
     "output_type": "execute_result"
    }
   ],
   "source": [
    "nl == nl[:2]"
   ]
  },
  {
   "cell_type": "raw",
   "metadata": {
    "raw_mimetype": "text/restructuredtext"
   },
   "source": [
    "Because the comparison is done pairwise and **in order**, shuffling a :class:`~navis.NeuronList` will result in a failed comparison:"
   ]
  },
  {
   "cell_type": "code",
   "execution_count": 5,
   "metadata": {},
   "outputs": [
    {
     "data": {
      "text/plain": [
       "False"
      ]
     },
     "execution_count": 5,
     "metadata": {},
     "output_type": "execute_result"
    }
   ],
   "source": [
    "nl == nl[[2, 1, 0]]"
   ]
  },
  {
   "cell_type": "raw",
   "metadata": {
    "raw_mimetype": "text/restructuredtext"
   },
   "source": [
    "Comparisons are safe against copying but making any changes to the neurons will cause inequality:"
   ]
  },
  {
   "cell_type": "code",
   "execution_count": 6,
   "metadata": {},
   "outputs": [
    {
     "data": {
      "text/plain": [
       "True"
      ]
     },
     "execution_count": 6,
     "metadata": {},
     "output_type": "execute_result"
    }
   ],
   "source": [
    "nl[0] == nl[0].copy()"
   ]
  },
  {
   "cell_type": "code",
   "execution_count": 7,
   "metadata": {},
   "outputs": [
    {
     "data": {
      "text/plain": [
       "False"
      ]
     },
     "execution_count": 7,
     "metadata": {},
     "output_type": "execute_result"
    }
   ],
   "source": [
    "nl[0] == nl[0].downsample(2, inplace=False)"
   ]
  },
  {
   "cell_type": "raw",
   "metadata": {
    "raw_mimetype": "text/restructuredtext"
   },
   "source": [
    "You can also ask if a neuron is in a given ``NeuronList``:"
   ]
  },
  {
   "cell_type": "code",
   "execution_count": 8,
   "metadata": {},
   "outputs": [
    {
     "data": {
      "text/plain": [
       "True"
      ]
     },
     "execution_count": 8,
     "metadata": {},
     "output_type": "execute_result"
    }
   ],
   "source": [
    "nl[0] in nl"
   ]
  },
  {
   "cell_type": "code",
   "execution_count": 9,
   "metadata": {},
   "outputs": [
    {
     "data": {
      "text/plain": [
       "False"
      ]
     },
     "execution_count": 9,
     "metadata": {},
     "output_type": "execute_result"
    }
   ],
   "source": [
    "nl[0] in nl[1:]"
   ]
  },
  {
   "cell_type": "raw",
   "metadata": {
    "raw_mimetype": "text/restructuredtext"
   },
   "source": [
    "Making custom changes\n",
    "=====================\n",
    "\n",
    "Under the hood ``navis`` calculates certain properties when you load a neuron: e.g. it produces a graph representation (``.graph`` or ``.igraph``) and a list of linear segments (``.segments``) for ``TreeNeurons``. These data are attached to a neuron and are crucial for many functions. Therefore ``navis`` make sure that any changes to a neuron automatically propagate into these data structures. See this example:"
   ]
  },
  {
   "cell_type": "code",
   "execution_count": 37,
   "metadata": {},
   "outputs": [
    {
     "name": "stdout",
     "output_type": "stream",
     "text": [
      "Nodes in node table: 4465\n",
      "Nodes in graph: 4465\n"
     ]
    }
   ],
   "source": [
    "n = navis.example_neurons(1, kind='skeleton')\n",
    "\n",
    "print(f'Nodes in node table: {n.nodes.shape[0]}')\n",
    "print(f'Nodes in graph: {len(n.graph.nodes)}')"
   ]
  },
  {
   "cell_type": "raw",
   "metadata": {
    "raw_mimetype": "text/restructuredtext"
   },
   "source": [
    "Making changes will cause the graph representation to be regenerated:"
   ]
  },
  {
   "cell_type": "code",
   "execution_count": 38,
   "metadata": {},
   "outputs": [
    {
     "name": "stdout",
     "output_type": "stream",
     "text": [
      "Nodes in node table: 1770\n",
      "Nodes in graph: 1770\n"
     ]
    }
   ],
   "source": [
    "n.prune_by_strahler(1, inplace=True)\n",
    "\n",
    "print(f'Nodes in node table: {n.nodes.shape[0]}')\n",
    "print(f'Nodes in graph: {len(n.graph.nodes)}')"
   ]
  },
  {
   "cell_type": "raw",
   "metadata": {
    "raw_mimetype": "text/restructuredtext"
   },
   "source": [
    "If, however, you make changes to the neurons that do not use built-in functions there is a chance that ``navis`` won't know that things have change properties need to be regenerated!"
   ]
  },
  {
   "cell_type": "code",
   "execution_count": 4,
   "metadata": {},
   "outputs": [
    {
     "name": "stdout",
     "output_type": "stream",
     "text": [
      "Nodes in node table before: 4465\n",
      "Nodes in graph before: 4465\n",
      "\n",
      "Nodes in node table after: 4410\n",
      "Nodes in graph after: 4410\n"
     ]
    }
   ],
   "source": [
    "n = navis.example_neurons(1)\n",
    "\n",
    "print(f'Nodes in node table before: {n.nodes.shape[0]}')\n",
    "print(f'Nodes in graph before: {len(n.graph.nodes)}')\n",
    "\n",
    "# Truncate the node table by 55 nodes\n",
    "n.nodes = n.nodes.iloc[:-55]\n",
    "\n",
    "print(f'\\nNodes in node table after: {n.nodes.shape[0]}')\n",
    "print(f'Nodes in graph after: {len(n.graph.nodes)}')"
   ]
  },
  {
   "cell_type": "raw",
   "metadata": {
    "raw_mimetype": "text/restructuredtext"
   },
   "source": [
    "Here, the changes to the node table automatically triggered a regeneration of the graph. This works because navis generates and checks hash values for neurons to detect changes and because here the node table is the master. It would not work the other way around (i.e. changing the graph to change the node table).\n",
    "\n",
    "Again: as long as you are using built-in functions, you don't have to worry about this. If you do run some custom manipulation of neurons be aware that you might want to make sure that the data structure remains intact. If you ever need to manually trigger a regeneration you can do so like this:"
   ]
  },
  {
   "cell_type": "code",
   "execution_count": 5,
   "metadata": {},
   "outputs": [],
   "source": [
    "# Clear temporary attributes of the neuron\n",
    "n._clear_temp_attr()"
   ]
  },
  {
   "cell_type": "raw",
   "metadata": {
    "raw_mimetype": "text/restructuredtext"
   },
   "source": [
    "Neuron attributes\n",
    "=================\n",
    "\n",
    "This is a *selection* of :class:`~navis.TreeNeuron` and :class:`~navis.MeshNeuron` class attributes.\n",
    "\n",
    "For both:\n",
    "\n",
    "- ``name``: a name\n",
    "- ``id``: a (unique) identifier\n",
    "- ``bbox``: Bounding box of neuron(list)\n",
    "- ``connectors``: connector table (optional)\n",
    "- ``volume``: volume of the neuron\n",
    "\n",
    "Only for ``TreeNeurons``:\n",
    "\n",
    "- ``nodes``: node table\n",
    "- ``cable_length``: cable length(s)\n",
    "- ``soma``: node ID(s) of soma (if applicable)\n",
    "- ``root``: root node ID(s)\n",
    "- ``segments``: list of linear segments\n",
    "- ``graph``: NetworkX graph representation of the neuron\n",
    "- ``igraph``: iGraph representation of the neuron (if library available)\n",
    "\n",
    "Only for ``MeshNeurons``:\n",
    "\n",
    "- ``vertices``/``faces``: vertices and faces\n",
    "\n",
    "All above attributes can be accessed via the ``NeuronList`` containing the neurons. In addition you can also get:\n",
    "\n",
    "- ``is_mixed``: returns ``True`` if list contains more than one neuron type\n",
    "- ``is_degenerated``: returns ``True`` if list contains neurons with non-unique IDs\n",
    "- ``types``: tuple with all types of neurons in the list\n",
    "- ``shape``: size of neuronlist ``(N, )`` \n",
    "\n",
    "All attributes and method are accessible through auto-completion.\n",
    "\n",
    "Reference\n",
    "+++++++++\n",
    "\n",
    "See :class:`~navis.TreeNeuron`, :class:`~navis.MeshNeuron`, :class:`~navis.Dotprops`, :class:`~navis.NeuronList` or :ref:`API <api_neurons>`."
   ]
  }
 ],
 "metadata": {
  "celltoolbar": "Raw Cell Format",
  "kernelspec": {
   "display_name": "Python 3",
   "language": "python",
   "name": "python3"
  },
  "language_info": {
   "codemirror_mode": {
    "name": "ipython",
    "version": 3
   },
   "file_extension": ".py",
   "mimetype": "text/x-python",
   "name": "python",
   "nbconvert_exporter": "python",
   "pygments_lexer": "ipython3",
   "version": "3.7.5"
  },
  "widgets": {
   "application/vnd.jupyter.widget-state+json": {
    "state": {},
    "version_major": 2,
    "version_minor": 0
   }
  }
 },
 "nbformat": 4,
 "nbformat_minor": 4
}
