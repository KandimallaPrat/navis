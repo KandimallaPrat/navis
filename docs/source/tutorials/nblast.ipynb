{
 "cells": [
  {
   "cell_type": "raw",
   "metadata": {
    "raw_mimetype": "text/restructuredtext"
   },
   "source": [
    "NBLAST\n",
    "******\n",
    "\n",
    "As of version 0.4.0 navis has a native implementation of NBLAST (Costa et al., 2016) that matches that in R's `nat.nblast`.\n",
    "\n",
    ".. autosummary::\n",
    "\n",
    "    navis.nblast\n",
    "    navis.nblast_allbyall\n",
    "    \n",
    "What is NBLAST?\n",
    "---------------\n",
    "A brief introduction (modified from Jefferis lab's `website <http://flybrain.mrc-lmb.cam.ac.uk/si/nblast/www/>`_):\n",
    "\n",
    "NBLAST works by decomposing neurons into point and tangent vector representations - so called \"dotprops\". Similarity between a given query and a given target neuron is determined by:\n",
    "\n",
    "1. For each point + tangent vector of the query neuron, find the closest point + tangent vector on the target neuron (a simple nearest neighbor search using Euclidean distance, see image).\n",
    "2. Produce a raw score from the distance :math:`d_{i}` between the points in each pair and the absolute dot product of the two tangent vectors :math:`| \\vec{u_i} \\cdot \\vec{v_i} |` (the absolute dot product is used because the orientation of the tangent vectors has no meaning in our data representation). A suitable scoring function :math:`f` was determined empirically (see the NBLAST `paper <http://flybrain.mrc-lmb.cam.ac.uk/si/nblast/www/paper/>`_) and is shipped with ``navis`` as scoring matrices. \n",
    "3. Sum up the raw scores over all point + tangent vector pairs.\n",
    "4. Optionally normalize the raw score - typically using the raw score from a self-self comparison of the query neuron.\n",
    "\n",
    ".. image:: ../../_static/NBLAST_neuron_comparison.png\n",
    "   :width: 500\n",
    "   :align: center\n",
    "\n",
    "Putting it all together, the formula for the raw score :math:`S` is:\n",
    "\n",
    ".. math::\n",
    "\n",
    "   S(query,target)=\\sum_{i=1}^{n}f(d_{i}, |\\vec{u_i} \\cdot \\vec{v_i}|) \n",
    " \n",
    "\n",
    "There are two broad applications for NBLAST:\n",
    "\n",
    "1. Matching neurons neurons between two datasets \n",
    "2. Clustering neurons into morphologically similar groups\n",
    "\n",
    "Running NBLAST\n",
    "--------------\n",
    "Before we get our feet wet some things to keep in mind:\n",
    "\n",
    "- neurons should be in microns as this is what NBLAST's scoring matrices have been optimized for \n",
    "- neurons should have similar sampling resolution (i.e. points per unit of cable) \n",
    "- for a small speed boost (~2x in my hands), install `pykdtree <https://github.com/storpipfugl/pykdtree>`_ library: ``pip3 install pykdtree`` \n",
    "\n",
    "OK, let's get started!"
   ]
  },
  {
   "cell_type": "code",
   "execution_count": 1,
   "metadata": {},
   "outputs": [],
   "source": [
    "import navis"
   ]
  },
  {
   "cell_type": "raw",
   "metadata": {
    "raw_mimetype": "text/restructuredtext"
   },
   "source": [
    "We will use the example neurons that come with ``navis``. These are all of the same type, so we don't expect to find very useful clusters - good enough to demo though!"
   ]
  },
  {
   "cell_type": "code",
   "execution_count": 2,
   "metadata": {},
   "outputs": [],
   "source": [
    "# Load example neurons\n",
    "nl = navis.example_neurons()"
   ]
  },
  {
   "cell_type": "raw",
   "metadata": {
    "raw_mimetype": "text/restructuredtext"
   },
   "source": [
    "NBLAST works on dotprops - these consist of points and tangent vectors decribing the shape of a neuron and are represented by :class:`navis.Dotprops` in ``navis``. You can either generate those dotprops explicitly (more control) or let ``navis.nblast`` take care of that (more convenient):"
   ]
  },
  {
   "cell_type": "code",
   "execution_count": 9,
   "metadata": {},
   "outputs": [
    {
     "data": {
      "text/html": [
       "<div>\n",
       "<style scoped>\n",
       "    .dataframe tbody tr th:only-of-type {\n",
       "        vertical-align: middle;\n",
       "    }\n",
       "\n",
       "    .dataframe tbody tr th {\n",
       "        vertical-align: top;\n",
       "    }\n",
       "\n",
       "    .dataframe thead th {\n",
       "        text-align: right;\n",
       "    }\n",
       "</style>\n",
       "<table border=\"1\" class=\"dataframe\">\n",
       "  <thead>\n",
       "    <tr style=\"text-align: right;\">\n",
       "      <th></th>\n",
       "      <th>754534424</th>\n",
       "      <th>754538881</th>\n",
       "    </tr>\n",
       "  </thead>\n",
       "  <tbody>\n",
       "    <tr>\n",
       "      <th>1734350788</th>\n",
       "      <td>0.732750</td>\n",
       "      <td>0.769846</td>\n",
       "    </tr>\n",
       "    <tr>\n",
       "      <th>1734350908</th>\n",
       "      <td>0.763332</td>\n",
       "      <td>0.753758</td>\n",
       "    </tr>\n",
       "    <tr>\n",
       "      <th>722817260</th>\n",
       "      <td>0.742435</td>\n",
       "      <td>0.794035</td>\n",
       "    </tr>\n",
       "  </tbody>\n",
       "</table>\n",
       "</div>"
      ],
      "text/plain": [
       "            754534424  754538881\n",
       "1734350788   0.732750   0.769846\n",
       "1734350908   0.763332   0.753758\n",
       "722817260    0.742435   0.794035"
      ]
     },
     "execution_count": 9,
     "metadata": {},
     "output_type": "execute_result"
    }
   ],
   "source": [
    "# Convert neurons into microns (they are 8nm)\n",
    "nl_um = nl / (1000 / 8)\n",
    "\n",
    "# Generate dotprops yourself \n",
    "dps = navis.make_dotprops(nl_um, k=5, resample=False)\n",
    "nbl = navis.nblast(dps[:3], dps[3:], progress=False)\n",
    "nbl"
   ]
  },
  {
   "cell_type": "code",
   "execution_count": 11,
   "metadata": {},
   "outputs": [
    {
     "data": {
      "text/html": [
       "<div>\n",
       "<style scoped>\n",
       "    .dataframe tbody tr th:only-of-type {\n",
       "        vertical-align: middle;\n",
       "    }\n",
       "\n",
       "    .dataframe tbody tr th {\n",
       "        vertical-align: top;\n",
       "    }\n",
       "\n",
       "    .dataframe thead th {\n",
       "        text-align: right;\n",
       "    }\n",
       "</style>\n",
       "<table border=\"1\" class=\"dataframe\">\n",
       "  <thead>\n",
       "    <tr style=\"text-align: right;\">\n",
       "      <th></th>\n",
       "      <th>754534424</th>\n",
       "      <th>754538881</th>\n",
       "    </tr>\n",
       "  </thead>\n",
       "  <tbody>\n",
       "    <tr>\n",
       "      <th>1734350788</th>\n",
       "      <td>0.732750</td>\n",
       "      <td>0.769846</td>\n",
       "    </tr>\n",
       "    <tr>\n",
       "      <th>1734350908</th>\n",
       "      <td>0.763332</td>\n",
       "      <td>0.753758</td>\n",
       "    </tr>\n",
       "    <tr>\n",
       "      <th>722817260</th>\n",
       "      <td>0.742435</td>\n",
       "      <td>0.794035</td>\n",
       "    </tr>\n",
       "  </tbody>\n",
       "</table>\n",
       "</div>"
      ],
      "text/plain": [
       "            754534424  754538881\n",
       "1734350788   0.732750   0.769846\n",
       "1734350908   0.763332   0.753758\n",
       "722817260    0.742435   0.794035"
      ]
     },
     "execution_count": 11,
     "metadata": {},
     "output_type": "execute_result"
    }
   ],
   "source": [
    "# Alternatively:\n",
    "nbl = navis.nblast(nl_um[:3], nl_um[3:], k=5, progress=False)\n",
    "nbl"
   ]
  },
  {
   "cell_type": "raw",
   "metadata": {
    "raw_mimetype": "text/restructuredtext"
   },
   "source": [
    "Painless, wasn't it? By default, scores are normalized such that 1 is a perfect match (i.e. from a sel-self comparison). We can demonstrate this by running a all-by-all nblast:"
   ]
  },
  {
   "cell_type": "code",
   "execution_count": 12,
   "metadata": {},
   "outputs": [
    {
     "data": {
      "text/html": [
       "<div>\n",
       "<style scoped>\n",
       "    .dataframe tbody tr th:only-of-type {\n",
       "        vertical-align: middle;\n",
       "    }\n",
       "\n",
       "    .dataframe tbody tr th {\n",
       "        vertical-align: top;\n",
       "    }\n",
       "\n",
       "    .dataframe thead th {\n",
       "        text-align: right;\n",
       "    }\n",
       "</style>\n",
       "<table border=\"1\" class=\"dataframe\">\n",
       "  <thead>\n",
       "    <tr style=\"text-align: right;\">\n",
       "      <th></th>\n",
       "      <th>1734350788</th>\n",
       "      <th>1734350908</th>\n",
       "      <th>722817260</th>\n",
       "      <th>754534424</th>\n",
       "      <th>754538881</th>\n",
       "    </tr>\n",
       "  </thead>\n",
       "  <tbody>\n",
       "    <tr>\n",
       "      <th>1734350788</th>\n",
       "      <td>1.000000</td>\n",
       "      <td>0.745212</td>\n",
       "      <td>0.752570</td>\n",
       "      <td>0.732750</td>\n",
       "      <td>0.769846</td>\n",
       "    </tr>\n",
       "    <tr>\n",
       "      <th>1734350908</th>\n",
       "      <td>0.734082</td>\n",
       "      <td>1.000000</td>\n",
       "      <td>0.680336</td>\n",
       "      <td>0.763332</td>\n",
       "      <td>0.753758</td>\n",
       "    </tr>\n",
       "    <tr>\n",
       "      <th>722817260</th>\n",
       "      <td>0.773668</td>\n",
       "      <td>0.743125</td>\n",
       "      <td>1.000000</td>\n",
       "      <td>0.742435</td>\n",
       "      <td>0.794035</td>\n",
       "    </tr>\n",
       "    <tr>\n",
       "      <th>754534424</th>\n",
       "      <td>0.764980</td>\n",
       "      <td>0.767250</td>\n",
       "      <td>0.715229</td>\n",
       "      <td>1.000000</td>\n",
       "      <td>0.784735</td>\n",
       "    </tr>\n",
       "    <tr>\n",
       "      <th>754538881</th>\n",
       "      <td>0.760658</td>\n",
       "      <td>0.753321</td>\n",
       "      <td>0.753230</td>\n",
       "      <td>0.762976</td>\n",
       "      <td>1.000000</td>\n",
       "    </tr>\n",
       "  </tbody>\n",
       "</table>\n",
       "</div>"
      ],
      "text/plain": [
       "            1734350788  1734350908  722817260   754534424   754538881 \n",
       "1734350788    1.000000    0.745212    0.752570    0.732750    0.769846\n",
       "1734350908    0.734082    1.000000    0.680336    0.763332    0.753758\n",
       "722817260     0.773668    0.743125    1.000000    0.742435    0.794035\n",
       "754534424     0.764980    0.767250    0.715229    1.000000    0.784735\n",
       "754538881     0.760658    0.753321    0.753230    0.762976    1.000000"
      ]
     },
     "execution_count": 12,
     "metadata": {},
     "output_type": "execute_result"
    }
   ],
   "source": [
    "aba = navis.nblast_allbyall(dps, progress=False)\n",
    "aba"
   ]
  },
  {
   "cell_type": "raw",
   "metadata": {
    "raw_mimetype": "text/restructuredtext"
   },
   "source": [
    "Let's run some quick & dirty analysis. In above score matrices, the rows are the queries and the columns are the targets. Forward and reverse scores never exactly the same. For hierarchical clustering we need the matrix to be symmetrical:"
   ]
  },
  {
   "cell_type": "code",
   "execution_count": 13,
   "metadata": {},
   "outputs": [],
   "source": [
    "aba_mean = (aba + aba.T) / 2"
   ]
  },
  {
   "cell_type": "raw",
   "metadata": {
    "raw_mimetype": "text/restructuredtext"
   },
   "source": [
    "We also need distances instead of similarities"
   ]
  },
  {
   "cell_type": "code",
   "execution_count": 14,
   "metadata": {},
   "outputs": [
    {
     "data": {
      "text/html": [
       "<div>\n",
       "<style scoped>\n",
       "    .dataframe tbody tr th:only-of-type {\n",
       "        vertical-align: middle;\n",
       "    }\n",
       "\n",
       "    .dataframe tbody tr th {\n",
       "        vertical-align: top;\n",
       "    }\n",
       "\n",
       "    .dataframe thead th {\n",
       "        text-align: right;\n",
       "    }\n",
       "</style>\n",
       "<table border=\"1\" class=\"dataframe\">\n",
       "  <thead>\n",
       "    <tr style=\"text-align: right;\">\n",
       "      <th></th>\n",
       "      <th>1734350788</th>\n",
       "      <th>1734350908</th>\n",
       "      <th>722817260</th>\n",
       "      <th>754534424</th>\n",
       "      <th>754538881</th>\n",
       "    </tr>\n",
       "  </thead>\n",
       "  <tbody>\n",
       "    <tr>\n",
       "      <th>1734350788</th>\n",
       "      <td>-0.000000</td>\n",
       "      <td>0.260353</td>\n",
       "      <td>0.236881</td>\n",
       "      <td>0.251135</td>\n",
       "      <td>0.234748</td>\n",
       "    </tr>\n",
       "    <tr>\n",
       "      <th>1734350908</th>\n",
       "      <td>0.260353</td>\n",
       "      <td>-0.000000</td>\n",
       "      <td>0.288269</td>\n",
       "      <td>0.234709</td>\n",
       "      <td>0.246460</td>\n",
       "    </tr>\n",
       "    <tr>\n",
       "      <th>722817260</th>\n",
       "      <td>0.236881</td>\n",
       "      <td>0.288269</td>\n",
       "      <td>-0.000000</td>\n",
       "      <td>0.271168</td>\n",
       "      <td>0.226368</td>\n",
       "    </tr>\n",
       "    <tr>\n",
       "      <th>754534424</th>\n",
       "      <td>0.251135</td>\n",
       "      <td>0.234709</td>\n",
       "      <td>0.271168</td>\n",
       "      <td>-0.000000</td>\n",
       "      <td>0.226144</td>\n",
       "    </tr>\n",
       "    <tr>\n",
       "      <th>754538881</th>\n",
       "      <td>0.234748</td>\n",
       "      <td>0.246460</td>\n",
       "      <td>0.226368</td>\n",
       "      <td>0.226144</td>\n",
       "      <td>-0.000000</td>\n",
       "    </tr>\n",
       "  </tbody>\n",
       "</table>\n",
       "</div>"
      ],
      "text/plain": [
       "            1734350788  1734350908  722817260   754534424   754538881 \n",
       "1734350788   -0.000000    0.260353    0.236881    0.251135    0.234748\n",
       "1734350908    0.260353   -0.000000    0.288269    0.234709    0.246460\n",
       "722817260     0.236881    0.288269   -0.000000    0.271168    0.226368\n",
       "754534424     0.251135    0.234709    0.271168   -0.000000    0.226144\n",
       "754538881     0.234748    0.246460    0.226368    0.226144   -0.000000"
      ]
     },
     "execution_count": 14,
     "metadata": {},
     "output_type": "execute_result"
    }
   ],
   "source": [
    "aba_dist = (aba_mean - 1) * -1\n",
    "aba_dist"
   ]
  },
  {
   "cell_type": "code",
   "execution_count": 15,
   "metadata": {},
   "outputs": [
    {
     "data": {
      "image/png": "[encoded data removed]",
      "text/plain": [
       "<Figure size 432x288 with 1 Axes>"
      ]
     },
     "metadata": {
      "needs_background": "light"
     },
     "output_type": "display_data"
    }
   ],
   "source": [
    "from scipy.spatial.distance import squareform\n",
    "from scipy.cluster.hierarchy import linkage, dendrogram, set_link_color_palette\n",
    "\n",
    "import matplotlib.pyplot as plt\n",
    "import matplotlib.colors as mcl\n",
    "import seaborn as sns\n",
    "\n",
    "set_link_color_palette([mcl.to_hex(c) for c in sns.color_palette('muted', 10)])\n",
    "\n",
    "# To generate a linkage, we have to bring the matrix from square-form to vector-form\n",
    "aba_vec = squareform(aba_dist, checks=False)\n",
    "\n",
    "# Generate linkage\n",
    "Z = linkage(aba_vec, method='ward')\n",
    "\n",
    "# Plot a dendrogram\n",
    "dn = dendrogram(Z, labels=aba_mean.columns)\n",
    "\n",
    "ax = plt.gca()\n",
    "ax.set_xticklabels(ax.get_xticklabels(), rotation=30, ha='right')\n",
    "\n",
    "sns.despine(trim=True, bottom=True)"
   ]
  },
  {
   "cell_type": "raw",
   "metadata": {
    "raw_mimetype": "text/restructuredtext",
    "tags": []
   },
   "source": [
    "What is syNBLAST?\n",
    "-----------------\n",
    "SyNBLAST is synapse-based NBLAST: instead of turning neurons into dotprops, we use their synapses to perform NBLAST (minus the vector component). This is generally faster because we avoid having to generate dotprops. It also focusses the attention on the synapse-bearing axons and dendrites, effectively ignoring the backbone. See :func:`navis.synblast` for details. \n",
    "\n",
    "Let's try the above but with syNBLAST."
   ]
  },
  {
   "cell_type": "code",
   "execution_count": 17,
   "metadata": {},
   "outputs": [
    {
     "data": {
      "text/html": [
       "<div>\n",
       "<style scoped>\n",
       "    .dataframe tbody tr th:only-of-type {\n",
       "        vertical-align: middle;\n",
       "    }\n",
       "\n",
       "    .dataframe tbody tr th {\n",
       "        vertical-align: top;\n",
       "    }\n",
       "\n",
       "    .dataframe thead th {\n",
       "        text-align: right;\n",
       "    }\n",
       "</style>\n",
       "<table border=\"1\" class=\"dataframe\">\n",
       "  <thead>\n",
       "    <tr style=\"text-align: right;\">\n",
       "      <th></th>\n",
       "      <th>1734350788</th>\n",
       "      <th>1734350908</th>\n",
       "      <th>722817260</th>\n",
       "      <th>754534424</th>\n",
       "      <th>754538881</th>\n",
       "    </tr>\n",
       "  </thead>\n",
       "  <tbody>\n",
       "    <tr>\n",
       "      <th>1734350788</th>\n",
       "      <td>1.000000</td>\n",
       "      <td>0.831690</td>\n",
       "      <td>0.828234</td>\n",
       "      <td>0.820261</td>\n",
       "      <td>0.849559</td>\n",
       "    </tr>\n",
       "    <tr>\n",
       "      <th>1734350908</th>\n",
       "      <td>0.831721</td>\n",
       "      <td>1.000000</td>\n",
       "      <td>0.741676</td>\n",
       "      <td>0.857372</td>\n",
       "      <td>0.833785</td>\n",
       "    </tr>\n",
       "    <tr>\n",
       "      <th>722817260</th>\n",
       "      <td>0.842672</td>\n",
       "      <td>0.827759</td>\n",
       "      <td>1.000000</td>\n",
       "      <td>0.815891</td>\n",
       "      <td>0.853005</td>\n",
       "    </tr>\n",
       "    <tr>\n",
       "      <th>754534424</th>\n",
       "      <td>0.862494</td>\n",
       "      <td>0.853088</td>\n",
       "      <td>0.793840</td>\n",
       "      <td>1.000000</td>\n",
       "      <td>0.866798</td>\n",
       "    </tr>\n",
       "    <tr>\n",
       "      <th>754538881</th>\n",
       "      <td>0.845366</td>\n",
       "      <td>0.833463</td>\n",
       "      <td>0.829094</td>\n",
       "      <td>0.844647</td>\n",
       "      <td>1.000000</td>\n",
       "    </tr>\n",
       "  </tbody>\n",
       "</table>\n",
       "</div>"
      ],
      "text/plain": [
       "            1734350788  1734350908  722817260   754534424   754538881 \n",
       "1734350788    1.000000    0.831690    0.828234    0.820261    0.849559\n",
       "1734350908    0.831721    1.000000    0.741676    0.857372    0.833785\n",
       "722817260     0.842672    0.827759    1.000000    0.815891    0.853005\n",
       "754534424     0.862494    0.853088    0.793840    1.000000    0.866798\n",
       "754538881     0.845366    0.833463    0.829094    0.844647    1.000000"
      ]
     },
     "execution_count": 17,
     "metadata": {},
     "output_type": "execute_result"
    }
   ],
   "source": [
    "# Note that we still want to use data in microns \n",
    "# as the scoring function is the same\n",
    "synbl = navis.synblast(nl_um, nl_um, by_type=True, progress=False)\n",
    "synbl"
   ]
  },
  {
   "cell_type": "code",
   "execution_count": 18,
   "metadata": {},
   "outputs": [
    {
     "data": {
      "image/png": "[encoded data removed]",
      "text/plain": [
       "<Figure size 432x288 with 1 Axes>"
      ]
     },
     "metadata": {
      "needs_background": "light"
     },
     "output_type": "display_data"
    }
   ],
   "source": [
    "# Generate the linear vector\n",
    "aba_vec = squareform(((synbl + synbl.T) / 2 - 1) * -1, checks=False)\n",
    "\n",
    "# Generate linkage\n",
    "Z = linkage(aba_vec, method='ward')\n",
    "\n",
    "# Plot a dendrogram\n",
    "dn = dendrogram(Z, labels=synbl.columns)\n",
    "\n",
    "ax = plt.gca()\n",
    "ax.set_xticklabels(ax.get_xticklabels(), rotation=30, ha='right')\n",
    "\n",
    "sns.despine(trim=True, bottom=True)"
   ]
  },
  {
   "cell_type": "raw",
   "metadata": {
    "raw_mimetype": "text/restructuredtext",
    "tags": []
   },
   "source": [
    "A real-world example\n",
    "--------------------\n",
    "The toy data above is not really suited to demonstrate NBLAST because these neurons are of the same type (i.e. we do not expect to see differences).\n",
    "\n",
    "Let's try something more elaborate and pull some hemibrain neurons from `neuprint <https://neuprint.janelia.org/>`_. For this you need to install ``neuprint-python`` (``pip3 install neuprint-python``), make a neuPrint account and generate/set an authentication token. Sounds complicated but is all pretty painless - see their `documentation <https://connectome-neuprint.github.io/neuprint-python/docs/quickstart.html>`_ for details. There is also a separate navis tutorial on neuprint.\n",
    "\n",
    "Once you did that, we can get started by importing the neuPrint interfaces from navis:"
   ]
  },
  {
   "cell_type": "code",
   "execution_count": 3,
   "metadata": {},
   "outputs": [],
   "source": [
    "import navis.interfaces.neuprint as neu\n",
    "\n",
    "# Set a client \n",
    "client = neu.Client('https://neuprint.janelia.org', dataset='hemibrain:v1.2')"
   ]
  },
  {
   "cell_type": "raw",
   "metadata": {
    "raw_mimetype": "text/restructuredtext",
    "tags": []
   },
   "source": [
    "Next we will fetch all olfactory projection neurons of the lateral lineage using a regex pattern."
   ]
  },
  {
   "cell_type": "code",
   "execution_count": 6,
   "metadata": {},
   "outputs": [
    {
     "data": {
      "text/html": [
       "<div>\n",
       "<style scoped>\n",
       "    .dataframe tbody tr th:only-of-type {\n",
       "        vertical-align: middle;\n",
       "    }\n",
       "\n",
       "    .dataframe tbody tr th {\n",
       "        vertical-align: top;\n",
       "    }\n",
       "\n",
       "    .dataframe thead th {\n",
       "        text-align: right;\n",
       "    }\n",
       "</style>\n",
       "<table border=\"1\" class=\"dataframe\">\n",
       "  <thead>\n",
       "    <tr style=\"text-align: right;\">\n",
       "      <th></th>\n",
       "      <th>type</th>\n",
       "      <th>name</th>\n",
       "      <th>id</th>\n",
       "      <th>n_nodes</th>\n",
       "      <th>n_connectors</th>\n",
       "      <th>n_branches</th>\n",
       "      <th>n_leafs</th>\n",
       "      <th>cable_length</th>\n",
       "      <th>soma</th>\n",
       "      <th>units</th>\n",
       "    </tr>\n",
       "  </thead>\n",
       "  <tbody>\n",
       "    <tr>\n",
       "      <th>0</th>\n",
       "      <td>navis.TreeNeuron</td>\n",
       "      <td>VA5_lPN_R</td>\n",
       "      <td>574032862</td>\n",
       "      <td>4509</td>\n",
       "      <td>2849</td>\n",
       "      <td>739</td>\n",
       "      <td>763</td>\n",
       "      <td>3.023454e+05</td>\n",
       "      <td>9</td>\n",
       "      <td>8 nanometer</td>\n",
       "    </tr>\n",
       "    <tr>\n",
       "      <th>1</th>\n",
       "      <td>navis.TreeNeuron</td>\n",
       "      <td>VA5_lPN_R</td>\n",
       "      <td>574037281</td>\n",
       "      <td>4365</td>\n",
       "      <td>2891</td>\n",
       "      <td>719</td>\n",
       "      <td>756</td>\n",
       "      <td>2.994139e+05</td>\n",
       "      <td>19</td>\n",
       "      <td>8 nanometer</td>\n",
       "    </tr>\n",
       "    <tr>\n",
       "      <th>2</th>\n",
       "      <td>navis.TreeNeuron</td>\n",
       "      <td>VA5_lPN_R</td>\n",
       "      <td>574374051</td>\n",
       "      <td>4480</td>\n",
       "      <td>3000</td>\n",
       "      <td>751</td>\n",
       "      <td>786</td>\n",
       "      <td>3.098901e+05</td>\n",
       "      <td>6</td>\n",
       "      <td>8 nanometer</td>\n",
       "    </tr>\n",
       "    <tr>\n",
       "      <th>3</th>\n",
       "      <td>navis.TreeNeuron</td>\n",
       "      <td>DM5_lPN_R</td>\n",
       "      <td>635416407</td>\n",
       "      <td>2589</td>\n",
       "      <td>1443</td>\n",
       "      <td>330</td>\n",
       "      <td>346</td>\n",
       "      <td>1.972500e+05</td>\n",
       "      <td>1507</td>\n",
       "      <td>8 nanometer</td>\n",
       "    </tr>\n",
       "    <tr>\n",
       "      <th>4</th>\n",
       "      <td>navis.TreeNeuron</td>\n",
       "      <td>DM1_lPN_R</td>\n",
       "      <td>542634818</td>\n",
       "      <td>16273</td>\n",
       "      <td>15317</td>\n",
       "      <td>3216</td>\n",
       "      <td>3369</td>\n",
       "      <td>1.167167e+06</td>\n",
       "      <td>15873</td>\n",
       "      <td>8 nanometer</td>\n",
       "    </tr>\n",
       "  </tbody>\n",
       "</table>\n",
       "</div>"
      ],
      "text/plain": [
       "               type       name         id  n_nodes  n_connectors  n_branches  \\\n",
       "0  navis.TreeNeuron  VA5_lPN_R  574032862     4509          2849         739   \n",
       "1  navis.TreeNeuron  VA5_lPN_R  574037281     4365          2891         719   \n",
       "2  navis.TreeNeuron  VA5_lPN_R  574374051     4480          3000         751   \n",
       "3  navis.TreeNeuron  DM5_lPN_R  635416407     2589          1443         330   \n",
       "4  navis.TreeNeuron  DM1_lPN_R  542634818    16273         15317        3216   \n",
       "\n",
       "   n_leafs  cable_length   soma        units  \n",
       "0      763  3.023454e+05      9  8 nanometer  \n",
       "1      756  2.994139e+05     19  8 nanometer  \n",
       "2      786  3.098901e+05      6  8 nanometer  \n",
       "3      346  1.972500e+05   1507  8 nanometer  \n",
       "4     3369  1.167167e+06  15873  8 nanometer  "
      ]
     },
     "execution_count": 6,
     "metadata": {},
     "output_type": "execute_result"
    }
   ],
   "source": [
    "pns = neu.fetch_skeletons(neu.NeuronCriteria(type='.*lPN.*', regex=True), with_synapses=True)\n",
    "pns.head()"
   ]
  },
  {
   "cell_type": "raw",
   "metadata": {
    "raw_mimetype": "text/restructuredtext",
    "tags": []
   },
   "source": [
    "Generate dotprops and convert to microns"
   ]
  },
  {
   "cell_type": "code",
   "execution_count": 7,
   "metadata": {},
   "outputs": [
    {
     "data": {
      "text/html": [
       "&lt;class 'navis.core.neuronlist.NeuronList'&gt; containing 58 neurons (0.0B)<div>\n",
       "<style scoped>\n",
       "    .dataframe tbody tr th:only-of-type {\n",
       "        vertical-align: middle;\n",
       "    }\n",
       "\n",
       "    .dataframe tbody tr th {\n",
       "        vertical-align: top;\n",
       "    }\n",
       "\n",
       "    .dataframe thead th {\n",
       "        text-align: right;\n",
       "    }\n",
       "</style>\n",
       "<table border=\"1\" class=\"dataframe\">\n",
       "  <thead>\n",
       "    <tr style=\"text-align: right;\">\n",
       "      <th></th>\n",
       "      <th>type</th>\n",
       "      <th>name</th>\n",
       "      <th>id</th>\n",
       "      <th>k</th>\n",
       "      <th>units</th>\n",
       "      <th>n_points</th>\n",
       "    </tr>\n",
       "  </thead>\n",
       "  <tbody>\n",
       "    <tr>\n",
       "      <th>0</th>\n",
       "      <td>navis.Dotprops</td>\n",
       "      <td>VA5_lPN_R</td>\n",
       "      <td>574032862</td>\n",
       "      <td>5</td>\n",
       "      <td>1.0 micrometer</td>\n",
       "      <td>4509</td>\n",
       "    </tr>\n",
       "    <tr>\n",
       "      <th>1</th>\n",
       "      <td>navis.Dotprops</td>\n",
       "      <td>VA5_lPN_R</td>\n",
       "      <td>574037281</td>\n",
       "      <td>5</td>\n",
       "      <td>1.0 micrometer</td>\n",
       "      <td>4365</td>\n",
       "    </tr>\n",
       "    <tr>\n",
       "      <th>...</th>\n",
       "      <td>...</td>\n",
       "      <td>...</td>\n",
       "      <td>...</td>\n",
       "      <td>...</td>\n",
       "      <td>...</td>\n",
       "      <td>...</td>\n",
       "    </tr>\n",
       "    <tr>\n",
       "      <th>56</th>\n",
       "      <td>navis.Dotprops</td>\n",
       "      <td>DM1_lPN_L</td>\n",
       "      <td>5813061392</td>\n",
       "      <td>5</td>\n",
       "      <td>1.0 micrometer</td>\n",
       "      <td>25676</td>\n",
       "    </tr>\n",
       "    <tr>\n",
       "      <th>57</th>\n",
       "      <td>navis.Dotprops</td>\n",
       "      <td>DM2_lPN_L</td>\n",
       "      <td>5813054061</td>\n",
       "      <td>5</td>\n",
       "      <td>1.0 micrometer</td>\n",
       "      <td>10675</td>\n",
       "    </tr>\n",
       "  </tbody>\n",
       "</table>\n",
       "</div>"
      ],
      "text/plain": [
       "<class 'navis.core.neuronlist.NeuronList'> containing 58 neurons (0.0B)\n",
       "              type       name          id  k           units  n_points\n",
       "0   navis.Dotprops  VA5_lPN_R   574032862  5  1.0 micrometer      4509\n",
       "1   navis.Dotprops  VA5_lPN_R   574037281  5  1.0 micrometer      4365\n",
       "..             ...        ...         ... ..             ...       ...\n",
       "56  navis.Dotprops  DM1_lPN_L  5813061392  5  1.0 micrometer     25676\n",
       "57  navis.Dotprops  DM2_lPN_L  5813054061  5  1.0 micrometer     10675"
      ]
     },
     "execution_count": 7,
     "metadata": {},
     "output_type": "execute_result"
    }
   ],
   "source": [
    "pns_um = pns / (1000 / 8)\n",
    "pns_dps = navis.make_dotprops(pns_um, k=5) \n",
    "pns_dps"
   ]
  },
  {
   "cell_type": "code",
   "execution_count": 19,
   "metadata": {},
   "outputs": [
    {
     "data": {
      "image/png": "[encoded data removed]",
      "text/plain": [
       "<Figure size 864x360 with 2 Axes>"
      ]
     },
     "metadata": {
      "needs_background": "light"
     },
     "output_type": "display_data"
    }
   ],
   "source": [
    "# Run an all-by-all NBLAST and synNBLAST\n",
    "pns_nbl = navis.nblast_allbyall(pns_dps, progress=False)\n",
    "pns_synbl = navis.synblast(pns_um, pns_um, by_type=True, progress=False)\n",
    "\n",
    "# Generate the linear vectors\n",
    "nbl_vec = squareform(((pns_nbl + pns_nbl.T) / 2 - 1) * -1, checks=False)\n",
    "synbl_vec = squareform(((pns_synbl + pns_synbl.T) / 2 - 1) * -1, checks=False)\n",
    "\n",
    "# Generate linkages\n",
    "Z_nbl = linkage(nbl_vec, method='ward', optimal_ordering=True)\n",
    "Z_synbl = linkage(synbl_vec, method='ward', optimal_ordering=True)\n",
    "\n",
    "# Plot dendrograms\n",
    "fig, axes = plt.subplots(1, 2, figsize=(12, 5))\n",
    "\n",
    "dn1 = dendrogram(Z_nbl, no_labels=True, color_threshold=1.5, ax=axes[0])\n",
    "dn2 = dendrogram(Z_synbl, no_labels=True, color_threshold=1.5, ax=axes[1])\n",
    "\n",
    "axes[0].set_title('NBLAST')\n",
    "axes[1].set_title('synNBLAST')\n",
    "\n",
    "sns.despine(trim=True, bottom=True)"
   ]
  },
  {
   "cell_type": "raw",
   "metadata": {
    "raw_mimetype": "text/restructuredtext",
    "tags": []
   },
   "source": [
    "While we don't know which leaf is which, the structure in both dendrograms looks similar. If we wanted to take it further than that, we could use `tanglegram <https://github.com/schlegelp/tanglegram>`_ to line up the two clusterings and investigate differences.\n",
    "\n",
    "But let's save that for another day and instead do some plotting:"
   ]
  },
  {
   "cell_type": "code",
   "execution_count": 37,
   "metadata": {},
   "outputs": [
    {
     "data": {
      "text/plain": [
       "array([ 5,  5,  5,  4,  8,  8,  8,  6,  8, 11,  4,  7, 11, 11,  3,  2,  2,\n",
       "        4, 10, 10,  3, 10,  6,  1,  2,  2, 11,  7, 11, 11,  7,  7,  7,  2,\n",
       "        2,  6,  1,  6,  2,  6,  2,  2,  3,  4,  4,  1,  3,  1,  4,  9, 11,\n",
       "        3,  6,  9,  6,  9,  9,  8], dtype=int32)"
      ]
     },
     "execution_count": 37,
     "metadata": {},
     "output_type": "execute_result"
    }
   ],
   "source": [
    "# Generate clusters\n",
    "from scipy.cluster.hierarchy import fcluster\n",
    "cl = fcluster(Z_synbl, t=1.5, criterion='distance')\n",
    "cl"
   ]
  },
  {
   "cell_type": "code",
   "execution_count": 69,
   "metadata": {},
   "outputs": [
    {
     "name": "stderr",
     "output_type": "stream",
     "text": [
      "                                                           \r"
     ]
    },
    {
     "data": {
      "image/png": "[encoded data removed]",
      "text/plain": [
       "<Figure size 1440x1080 with 12 Axes>"
      ]
     },
     "metadata": {
      "needs_background": "light"
     },
     "output_type": "display_data"
    }
   ],
   "source": [
    "# Now plot each cluster\n",
    "# For simplicity we are plotting in 2D here \n",
    "n_clusters = max(cl)\n",
    "rows = 4\n",
    "cols = n_clusters % 4\n",
    "fig, axes = plt.subplots(rows, cols,\n",
    "                         figsize=(20, 5 * cols))\n",
    "# Flatten axes\n",
    "axes = [ax for l in axes for ax in l]\n",
    "\n",
    "# Generate colors \n",
    "pal = sns.color_palette('muted', n_clusters)\n",
    "\n",
    "for i in range(n_clusters):\n",
    "    ax = axes[i]    \n",
    "    ax.set_title(f'cluster {i + 1}')\n",
    "    # Get the neurons in this cluster\n",
    "    this = pns[cl == (i + 1)]\n",
    "    \n",
    "    navis.plot2d(this, method='2d', ax=ax, color=pal[i], lw=1.5, view=('x', '-z'), alpha=.5)\n",
    "    \n",
    "for ax in axes:    \n",
    "    ax.set_aspect('equal')\n",
    "    ax.set_axis_off()\n",
    "    \n",
    "    # Set all axes to the same limits\n",
    "    bbox = pns.bbox\n",
    "    ax.set_xlim(bbox[0][0], bbox[0][1])\n",
    "    ax.set_ylim(-bbox[2][1], -bbox[2][0])"
   ]
  },
  {
   "cell_type": "raw",
   "metadata": {},
   "source": [
    "Note how cluster 9 looks odd? That's because these neurons are actually from the left-hand-side of the brain and are truncated in the hemibrain dataset. \n",
    "\n",
    "Likewise clusters 4, 6 and 8 look like they contain more than one type of neuron: look e.g. at the grey cluster in the syNBLAST dendrogram above. We should probably have gone with a finer clustering. But this little demo should be enough to get you started!"
   ]
  },
  {
   "cell_type": "raw",
   "metadata": {
    "raw_mimetype": "text/restructuredtext"
   },
   "source": [
    "References\n",
    "==========\n",
    "*NBLAST: Rapid, Sensitive Comparison of Neuronal Structure and Construction of Neuron Family Databases.*\n",
    "Costa M, Manton JD, Ostrovsky AD, Prohaska S, Jefferis GSXE. Neuron. 2016 doi: 10.1016/j.neuron.2016.06.012"
   ]
  }
 ],
 "metadata": {
  "celltoolbar": "Raw Cell Format",
  "kernelspec": {
   "display_name": "Python 3",
   "language": "python",
   "name": "python3"
  },
  "language_info": {
   "codemirror_mode": {
    "name": "ipython",
    "version": 3
   },
   "file_extension": ".py",
   "mimetype": "text/x-python",
   "name": "python",
   "nbconvert_exporter": "python",
   "pygments_lexer": "ipython3",
   "version": "3.7.5"
  }
 },
 "nbformat": 4,
 "nbformat_minor": 4
}
