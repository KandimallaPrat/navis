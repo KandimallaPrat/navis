{
 "cells": [
  {
   "cell_type": "raw",
   "metadata": {
    "raw_mimetype": "text/restructuredtext"
   },
   "source": [
    "NBLAST\n",
    "******\n",
    "\n",
    "As of version 0.4.0 navis has a native implementation of NBLAST (Costa et al., 2016) that mimicks those in R's `nat.nblast`.\n",
    "\n",
    ".. autosummary::\n",
    "    :toctree: generated/\n",
    "\n",
    "    navis.nblast\n",
    "    navis.nblast_allbyall\n",
    "\n",
    "Before we get started some important things to keep in mind:\n",
    "1. Neurons should be in microns as this is what NBLAST's scoring matrices have been optimized for \n",
    "2. Neurons should have similar sampling resolution (i.e. points per unit of cable) "
   ]
  },
  {
   "cell_type": "code",
   "execution_count": 1,
   "metadata": {},
   "outputs": [
    {
     "data": {
      "text/html": [
       "        <script type=\"text/javascript\">\n",
       "        window.PlotlyConfig = {MathJaxConfig: 'local'};\n",
       "        if (window.MathJax) {MathJax.Hub.Config({SVG: {font: \"STIX-Web\"}});}\n",
       "        if (typeof require !== 'undefined') {\n",
       "        require.undef(\"plotly\");\n",
       "        requirejs.config({\n",
       "            paths: {\n",
       "                'plotly': ['https://cdn.plot.ly/plotly-latest.min']\n",
       "            }\n",
       "        });\n",
       "        require(['plotly'], function(Plotly) {\n",
       "            window._Plotly = Plotly;\n",
       "        });\n",
       "        }\n",
       "        </script>\n",
       "        "
      ]
     },
     "metadata": {},
     "output_type": "display_data"
    }
   ],
   "source": [
    "import navis"
   ]
  },
  {
   "cell_type": "raw",
   "metadata": {
    "raw_mimetype": "text/restructuredtext"
   },
   "source": [
    "We will use the example neurons that come with ``navis``. These are all of the same type, so we don't expect to find very useful clusters - good enough to demo though!"
   ]
  },
  {
   "cell_type": "code",
   "execution_count": 2,
   "metadata": {},
   "outputs": [],
   "source": [
    "# Load example neurons\n",
    "nl = navis.example_neurons()"
   ]
  },
  {
   "cell_type": "raw",
   "metadata": {
    "raw_mimetype": "text/restructuredtext"
   },
   "source": [
    "NBLAST works on dotprops - these consist of points and tangent vectors decribing the shape of a neuron. You can either generate those dotprops explicitly (more control) or let ``navis.nblast`` take care of that (more convenient):"
   ]
  },
  {
   "cell_type": "code",
   "execution_count": 3,
   "metadata": {},
   "outputs": [
    {
     "data": {
      "application/vnd.jupyter.widget-view+json": {
       "model_id": "",
       "version_major": 2,
       "version_minor": 0
      },
      "text/plain": [
       "HBox(children=(HTML(value='Dotprops'), FloatProgress(value=0.0, max=5.0), HTML(value='')))"
      ]
     },
     "metadata": {},
     "output_type": "display_data"
    },
    {
     "data": {
      "application/vnd.jupyter.widget-view+json": {
       "model_id": "",
       "version_major": 2,
       "version_minor": 0
      },
      "text/plain": [
       "HBox(children=(HTML(value='Dotprops'), FloatProgress(value=0.0, max=3.0), HTML(value='')))"
      ]
     },
     "metadata": {},
     "output_type": "display_data"
    },
    {
     "data": {
      "application/vnd.jupyter.widget-view+json": {
       "model_id": "",
       "version_major": 2,
       "version_minor": 0
      },
      "text/plain": [
       "HBox(children=(HTML(value='Dotprops'), FloatProgress(value=0.0, max=2.0), HTML(value='')))"
      ]
     },
     "metadata": {},
     "output_type": "display_data"
    },
    {
     "data": {
      "text/html": [
       "<div>\n",
       "<style scoped>\n",
       "    .dataframe tbody tr th:only-of-type {\n",
       "        vertical-align: middle;\n",
       "    }\n",
       "\n",
       "    .dataframe tbody tr th {\n",
       "        vertical-align: top;\n",
       "    }\n",
       "\n",
       "    .dataframe thead th {\n",
       "        text-align: right;\n",
       "    }\n",
       "</style>\n",
       "<table border=\"1\" class=\"dataframe\">\n",
       "  <thead>\n",
       "    <tr style=\"text-align: right;\">\n",
       "      <th></th>\n",
       "      <th>754534424</th>\n",
       "      <th>754538881</th>\n",
       "    </tr>\n",
       "  </thead>\n",
       "  <tbody>\n",
       "    <tr>\n",
       "      <th>1734350788</th>\n",
       "      <td>0.732714</td>\n",
       "      <td>0.769592</td>\n",
       "    </tr>\n",
       "    <tr>\n",
       "      <th>1734350908</th>\n",
       "      <td>0.763147</td>\n",
       "      <td>0.753472</td>\n",
       "    </tr>\n",
       "    <tr>\n",
       "      <th>722817260</th>\n",
       "      <td>0.742386</td>\n",
       "      <td>0.793638</td>\n",
       "    </tr>\n",
       "  </tbody>\n",
       "</table>\n",
       "</div>"
      ],
      "text/plain": [
       "            754534424  754538881\n",
       "1734350788   0.732714   0.769592\n",
       "1734350908   0.763147   0.753472\n",
       "722817260    0.742386   0.793638"
      ]
     },
     "execution_count": 3,
     "metadata": {},
     "output_type": "execute_result"
    }
   ],
   "source": [
    "# Convert neurons into microns (they are 8nm)\n",
    "nl_um = nl / (1000 / 8)\n",
    "\n",
    "# Generate dotprops yourself \n",
    "dps = navis.make_dotprops(nl_um, k=5, resample=False)\n",
    "nbl = navis.nblast(dps[:3], dps[3:])\n",
    "nbl"
   ]
  },
  {
   "cell_type": "code",
   "execution_count": 4,
   "metadata": {},
   "outputs": [
    {
     "data": {
      "application/vnd.jupyter.widget-view+json": {
       "model_id": "",
       "version_major": 2,
       "version_minor": 0
      },
      "text/plain": [
       "HBox(children=(HTML(value='Dotprops'), FloatProgress(value=0.0, max=3.0), HTML(value='')))"
      ]
     },
     "metadata": {},
     "output_type": "display_data"
    },
    {
     "data": {
      "application/vnd.jupyter.widget-view+json": {
       "model_id": "",
       "version_major": 2,
       "version_minor": 0
      },
      "text/plain": [
       "HBox(children=(HTML(value='Dotprops'), FloatProgress(value=0.0, max=2.0), HTML(value='')))"
      ]
     },
     "metadata": {},
     "output_type": "display_data"
    },
    {
     "data": {
      "text/html": [
       "<div>\n",
       "<style scoped>\n",
       "    .dataframe tbody tr th:only-of-type {\n",
       "        vertical-align: middle;\n",
       "    }\n",
       "\n",
       "    .dataframe tbody tr th {\n",
       "        vertical-align: top;\n",
       "    }\n",
       "\n",
       "    .dataframe thead th {\n",
       "        text-align: right;\n",
       "    }\n",
       "</style>\n",
       "<table border=\"1\" class=\"dataframe\">\n",
       "  <thead>\n",
       "    <tr style=\"text-align: right;\">\n",
       "      <th></th>\n",
       "      <th>754534424</th>\n",
       "      <th>754538881</th>\n",
       "    </tr>\n",
       "  </thead>\n",
       "  <tbody>\n",
       "    <tr>\n",
       "      <th>1734350788</th>\n",
       "      <td>0.732714</td>\n",
       "      <td>0.769592</td>\n",
       "    </tr>\n",
       "    <tr>\n",
       "      <th>1734350908</th>\n",
       "      <td>0.763147</td>\n",
       "      <td>0.753472</td>\n",
       "    </tr>\n",
       "    <tr>\n",
       "      <th>722817260</th>\n",
       "      <td>0.742386</td>\n",
       "      <td>0.793638</td>\n",
       "    </tr>\n",
       "  </tbody>\n",
       "</table>\n",
       "</div>"
      ],
      "text/plain": [
       "            754534424  754538881\n",
       "1734350788   0.732714   0.769592\n",
       "1734350908   0.763147   0.753472\n",
       "722817260    0.742386   0.793638"
      ]
     },
     "execution_count": 4,
     "metadata": {},
     "output_type": "execute_result"
    }
   ],
   "source": [
    "# Alternatively\n",
    "nbl = navis.nblast(nl_um[:3], nl_um[3:], k=5)\n",
    "nbl"
   ]
  },
  {
   "cell_type": "raw",
   "metadata": {
    "raw_mimetype": "text/restructuredtext"
   },
   "source": [
    "Painless, wasn't it? By default, scores are normalized such that 1 is a perfect match (i.e. from a sel-self comparison). We can demonstrate this by running a all-by-all nblast:"
   ]
  },
  {
   "cell_type": "code",
   "execution_count": 5,
   "metadata": {},
   "outputs": [
    {
     "data": {
      "application/vnd.jupyter.widget-view+json": {
       "model_id": "",
       "version_major": 2,
       "version_minor": 0
      },
      "text/plain": [
       "HBox(children=(HTML(value='Dotprops'), FloatProgress(value=0.0, max=5.0), HTML(value='')))"
      ]
     },
     "metadata": {},
     "output_type": "display_data"
    },
    {
     "data": {
      "text/html": [
       "<div>\n",
       "<style scoped>\n",
       "    .dataframe tbody tr th:only-of-type {\n",
       "        vertical-align: middle;\n",
       "    }\n",
       "\n",
       "    .dataframe tbody tr th {\n",
       "        vertical-align: top;\n",
       "    }\n",
       "\n",
       "    .dataframe thead th {\n",
       "        text-align: right;\n",
       "    }\n",
       "</style>\n",
       "<table border=\"1\" class=\"dataframe\">\n",
       "  <thead>\n",
       "    <tr style=\"text-align: right;\">\n",
       "      <th></th>\n",
       "      <th>1734350788</th>\n",
       "      <th>1734350908</th>\n",
       "      <th>722817260</th>\n",
       "      <th>754534424</th>\n",
       "      <th>754538881</th>\n",
       "    </tr>\n",
       "  </thead>\n",
       "  <tbody>\n",
       "    <tr>\n",
       "      <th>1734350788</th>\n",
       "      <td>1.000000</td>\n",
       "      <td>0.745376</td>\n",
       "      <td>0.752172</td>\n",
       "      <td>0.732714</td>\n",
       "      <td>0.769592</td>\n",
       "    </tr>\n",
       "    <tr>\n",
       "      <th>1734350908</th>\n",
       "      <td>0.734747</td>\n",
       "      <td>1.000000</td>\n",
       "      <td>0.680395</td>\n",
       "      <td>0.763147</td>\n",
       "      <td>0.753472</td>\n",
       "    </tr>\n",
       "    <tr>\n",
       "      <th>722817260</th>\n",
       "      <td>0.773471</td>\n",
       "      <td>0.743139</td>\n",
       "      <td>1.000000</td>\n",
       "      <td>0.742386</td>\n",
       "      <td>0.793638</td>\n",
       "    </tr>\n",
       "    <tr>\n",
       "      <th>754534424</th>\n",
       "      <td>0.764972</td>\n",
       "      <td>0.767277</td>\n",
       "      <td>0.714959</td>\n",
       "      <td>1.000000</td>\n",
       "      <td>0.784669</td>\n",
       "    </tr>\n",
       "    <tr>\n",
       "      <th>754538881</th>\n",
       "      <td>0.761478</td>\n",
       "      <td>0.753786</td>\n",
       "      <td>0.753204</td>\n",
       "      <td>0.763031</td>\n",
       "      <td>1.000000</td>\n",
       "    </tr>\n",
       "  </tbody>\n",
       "</table>\n",
       "</div>"
      ],
      "text/plain": [
       "            1734350788  1734350908  722817260   754534424   754538881 \n",
       "1734350788    1.000000    0.745376    0.752172    0.732714    0.769592\n",
       "1734350908    0.734747    1.000000    0.680395    0.763147    0.753472\n",
       "722817260     0.773471    0.743139    1.000000    0.742386    0.793638\n",
       "754534424     0.764972    0.767277    0.714959    1.000000    0.784669\n",
       "754538881     0.761478    0.753786    0.753204    0.763031    1.000000"
      ]
     },
     "execution_count": 5,
     "metadata": {},
     "output_type": "execute_result"
    }
   ],
   "source": [
    "aba = navis.nblast_allbyall(dps, k=5)\n",
    "aba"
   ]
  },
  {
   "cell_type": "raw",
   "metadata": {
    "raw_mimetype": "text/restructuredtext"
   },
   "source": [
    "Let's run some quick&dirty analysis. In above score matrices, the rows are the queries and the columns are the targets. Forward and reverse scores never exactly the same. For hierarchical clustering we need the matrix to be symmetrical:"
   ]
  },
  {
   "cell_type": "code",
   "execution_count": 9,
   "metadata": {},
   "outputs": [],
   "source": [
    "aba_mean = (aba + aba.T) / 2"
   ]
  },
  {
   "cell_type": "raw",
   "metadata": {
    "raw_mimetype": "text/restructuredtext"
   },
   "source": [
    "We also need distances instead of similarities"
   ]
  },
  {
   "cell_type": "code",
   "execution_count": 15,
   "metadata": {},
   "outputs": [
    {
     "data": {
      "text/html": [
       "<div>\n",
       "<style scoped>\n",
       "    .dataframe tbody tr th:only-of-type {\n",
       "        vertical-align: middle;\n",
       "    }\n",
       "\n",
       "    .dataframe tbody tr th {\n",
       "        vertical-align: top;\n",
       "    }\n",
       "\n",
       "    .dataframe thead th {\n",
       "        text-align: right;\n",
       "    }\n",
       "</style>\n",
       "<table border=\"1\" class=\"dataframe\">\n",
       "  <thead>\n",
       "    <tr style=\"text-align: right;\">\n",
       "      <th></th>\n",
       "      <th>1734350788</th>\n",
       "      <th>1734350908</th>\n",
       "      <th>722817260</th>\n",
       "      <th>754534424</th>\n",
       "      <th>754538881</th>\n",
       "    </tr>\n",
       "  </thead>\n",
       "  <tbody>\n",
       "    <tr>\n",
       "      <th>1734350788</th>\n",
       "      <td>-0.000000</td>\n",
       "      <td>0.259938</td>\n",
       "      <td>0.237178</td>\n",
       "      <td>0.251157</td>\n",
       "      <td>0.234465</td>\n",
       "    </tr>\n",
       "    <tr>\n",
       "      <th>1734350908</th>\n",
       "      <td>0.259938</td>\n",
       "      <td>-0.000000</td>\n",
       "      <td>0.288233</td>\n",
       "      <td>0.234788</td>\n",
       "      <td>0.246371</td>\n",
       "    </tr>\n",
       "    <tr>\n",
       "      <th>722817260</th>\n",
       "      <td>0.237178</td>\n",
       "      <td>0.288233</td>\n",
       "      <td>-0.000000</td>\n",
       "      <td>0.271327</td>\n",
       "      <td>0.226579</td>\n",
       "    </tr>\n",
       "    <tr>\n",
       "      <th>754534424</th>\n",
       "      <td>0.251157</td>\n",
       "      <td>0.234788</td>\n",
       "      <td>0.271327</td>\n",
       "      <td>-0.000000</td>\n",
       "      <td>0.226150</td>\n",
       "    </tr>\n",
       "    <tr>\n",
       "      <th>754538881</th>\n",
       "      <td>0.234465</td>\n",
       "      <td>0.246371</td>\n",
       "      <td>0.226579</td>\n",
       "      <td>0.226150</td>\n",
       "      <td>-0.000000</td>\n",
       "    </tr>\n",
       "  </tbody>\n",
       "</table>\n",
       "</div>"
      ],
      "text/plain": [
       "            1734350788  1734350908  722817260   754534424   754538881 \n",
       "1734350788   -0.000000    0.259938    0.237178    0.251157    0.234465\n",
       "1734350908    0.259938   -0.000000    0.288233    0.234788    0.246371\n",
       "722817260     0.237178    0.288233   -0.000000    0.271327    0.226579\n",
       "754534424     0.251157    0.234788    0.271327   -0.000000    0.226150\n",
       "754538881     0.234465    0.246371    0.226579    0.226150   -0.000000"
      ]
     },
     "execution_count": 15,
     "metadata": {},
     "output_type": "execute_result"
    }
   ],
   "source": [
    "aba_dist = (aba_mean - 1) * -1\n",
    "aba_dist"
   ]
  },
  {
   "cell_type": "code",
   "execution_count": 25,
   "metadata": {},
   "outputs": [
    {
     "data": {
      "image/png": "[encoded data removed]",
      "text/plain": [
       "<Figure size 432x288 with 1 Axes>"
      ]
     },
     "metadata": {
      "needs_background": "light"
     },
     "output_type": "display_data"
    }
   ],
   "source": [
    "from scipy.spatial.distance import squareform\n",
    "from scipy.cluster.hierarchy import linkage, dendrogram\n",
    "\n",
    "import matplotlib.pyplot as plt\n",
    "import seaborn as sns\n",
    "\n",
    "# To generate a linkage, we have to bring the matrix from square-form to vector-form\n",
    "aba_vec = squareform(aba_mean, checks=False)\n",
    "\n",
    "# Generate linkage\n",
    "Z = linkage(aba_vec, method='ward')\n",
    "\n",
    "# Plot a dendrogram\n",
    "dn = dendrogram(Z, labels=aba_mean.columns)\n",
    "\n",
    "ax = plt.gca()\n",
    "ax.set_xticklabels(ax.get_xticklabels(), rotation=30, ha='right')\n",
    "\n",
    "sns.despine(trim=True, bottom=True)"
   ]
  },
  {
   "cell_type": "raw",
   "metadata": {
    "raw_mimetype": "text/restructuredtext"
   },
   "source": [
    "References\n",
    "==========\n",
    "*NBLAST: Rapid, Sensitive Comparison of Neuronal Structure and Construction of Neuron Family Databases.*\n",
    "Costa M, Manton JD, Ostrovsky AD, Prohaska S, Jefferis GSXE. Neuron. 2016 doi: 10.1016/j.neuron.2016.06.012"
   ]
  }
 ],
 "metadata": {
  "celltoolbar": "Raw Cell Format",
  "kernelspec": {
   "display_name": "Python 3",
   "language": "python",
   "name": "python3"
  },
  "language_info": {
   "codemirror_mode": {
    "name": "ipython",
    "version": 3
   },
   "file_extension": ".py",
   "mimetype": "text/x-python",
   "name": "python",
   "nbconvert_exporter": "python",
   "pygments_lexer": "ipython3",
   "version": "3.7.5"
  }
 },
 "nbformat": 4,
 "nbformat_minor": 2
}
