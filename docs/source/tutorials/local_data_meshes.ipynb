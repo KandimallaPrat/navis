{
 "cells": [
  {
   "cell_type": "raw",
   "id": "a4b1560b-29e4-461c-97cc-f3d78f16b483",
   "metadata": {
    "raw_mimetype": "text/restructuredtext",
    "tags": []
   },
   "source": [
    ".. _local_data_meshes_tut:\n",
    "\n",
    "Meshes\n",
    "------\n",
    "\n",
    "``navis`` lets you import neurons from a variety of local and remote sources. In this tutorial you will learn how to load meshes from local data and - failing that - construct them from scratch. For loading remote data (e.g. the MICrONS, neuromorpho, Virtual Fly Brain or Janelia hemibrain datasets), ``navis`` has dedicated interfaces. See the :ref:`example gallery <example_gallery>` for tutorials on these.\n",
    "\n",
    "``navis`` knows two types of meshes: :class:`navis.MeshNeuron` for neurons and :class:`navis.Volume` for e.g. neuropil or brain meshes. \n",
    "\n",
    "For reading run-of-the-mill files containing meshes, ``navis`` provides a single function: :func:`navis.read_mesh`. Under the hood, that function uses ``trimesh.load_mesh`` which supports most of the common formats (`.obj`, `.ply`, `.stl`, etc.). "
   ]
  },
  {
   "cell_type": "code",
   "execution_count": null,
   "id": "4e030094-c71d-4292-b2c6-ec06c8677997",
   "metadata": {},
   "outputs": [],
   "source": [
    "import navis"
   ]
  },
  {
   "cell_type": "code",
   "execution_count": 8,
   "id": "d14d2399-bb68-4f02-a94f-ed22b8e3cce7",
   "metadata": {},
   "outputs": [
    {
     "data": {
      "text/html": [
       "<div>\n",
       "<style scoped>\n",
       "    .dataframe tbody tr th:only-of-type {\n",
       "        vertical-align: middle;\n",
       "    }\n",
       "\n",
       "    .dataframe tbody tr th {\n",
       "        vertical-align: top;\n",
       "    }\n",
       "\n",
       "    .dataframe thead th {\n",
       "        text-align: right;\n",
       "    }\n",
       "</style>\n",
       "<table border=\"1\" class=\"dataframe\">\n",
       "  <thead>\n",
       "    <tr style=\"text-align: right;\">\n",
       "      <th></th>\n",
       "      <th></th>\n",
       "    </tr>\n",
       "  </thead>\n",
       "  <tbody>\n",
       "    <tr>\n",
       "      <th>type</th>\n",
       "      <td>navis.MeshNeuron</td>\n",
       "    </tr>\n",
       "    <tr>\n",
       "      <th>name</th>\n",
       "      <td>test_neuron</td>\n",
       "    </tr>\n",
       "    <tr>\n",
       "      <th>id</th>\n",
       "      <td>720575940633212055</td>\n",
       "    </tr>\n",
       "    <tr>\n",
       "      <th>units</th>\n",
       "      <td>1 dimensionless</td>\n",
       "    </tr>\n",
       "    <tr>\n",
       "      <th>n_vertices</th>\n",
       "      <td>40905</td>\n",
       "    </tr>\n",
       "    <tr>\n",
       "      <th>n_faces</th>\n",
       "      <td>82126</td>\n",
       "    </tr>\n",
       "  </tbody>\n",
       "</table>\n",
       "</div>"
      ],
      "text/plain": [
       "type            navis.MeshNeuron\n",
       "name                 test_neuron\n",
       "id            720575940633212055\n",
       "units            1 dimensionless\n",
       "n_vertices                 40905\n",
       "n_faces                    82126\n",
       "dtype: object"
      ]
     },
     "execution_count": 8,
     "metadata": {},
     "output_type": "execute_result"
    }
   ],
   "source": [
    "# Load an example file (here a FlyWire neuron I downloaded and saved locally)\n",
    "mesh = navis.read_mesh('~/Downloads/test_neuron.stl')\n",
    "mesh"
   ]
  },
  {
   "cell_type": "raw",
   "id": "165105f5-a2f4-4f0d-a741-6aa93a1778e0",
   "metadata": {
    "raw_mimetype": "text/restructuredtext",
    "tags": []
   },
   "source": [
    "The interface is similar to ``read_swc`` in that you can point :func:`navis.read_mesh` at single file or at folders with multiple files:"
   ]
  },
  {
   "cell_type": "code",
   "execution_count": 5,
   "id": "a81b8c45-ca48-496a-ab0b-0b5b59ec14e8",
   "metadata": {},
   "outputs": [
    {
     "data": {
      "application/vnd.jupyter.widget-view+json": {
       "model_id": "",
       "version_major": 2,
       "version_minor": 0
      },
      "text/plain": [
       "Importing:   0%|          | 0/8 [00:00<?, ?it/s]"
      ]
     },
     "metadata": {},
     "output_type": "display_data"
    },
    {
     "data": {
      "text/html": [
       "&lt;class 'navis.core.neuronlist.NeuronList'&gt; containing 8 neurons (30.1MiB)<div>\n",
       "<style scoped>\n",
       "    .dataframe tbody tr th:only-of-type {\n",
       "        vertical-align: middle;\n",
       "    }\n",
       "\n",
       "    .dataframe tbody tr th {\n",
       "        vertical-align: top;\n",
       "    }\n",
       "\n",
       "    .dataframe thead th {\n",
       "        text-align: right;\n",
       "    }\n",
       "</style>\n",
       "<table border=\"1\" class=\"dataframe\">\n",
       "  <thead>\n",
       "    <tr style=\"text-align: right;\">\n",
       "      <th></th>\n",
       "      <th>type</th>\n",
       "      <th>name</th>\n",
       "      <th>units</th>\n",
       "      <th>n_vertices</th>\n",
       "      <th>n_faces</th>\n",
       "    </tr>\n",
       "  </thead>\n",
       "  <tbody>\n",
       "    <tr>\n",
       "      <th>0</th>\n",
       "      <td>navis.MeshNeuron</td>\n",
       "      <td>720575940614739286</td>\n",
       "      <td>1 dimensionless</td>\n",
       "      <td>59628</td>\n",
       "      <td>119270</td>\n",
       "    </tr>\n",
       "    <tr>\n",
       "      <th>1</th>\n",
       "      <td>navis.MeshNeuron</td>\n",
       "      <td>720575940632670433</td>\n",
       "      <td>1 dimensionless</td>\n",
       "      <td>60880</td>\n",
       "      <td>121759</td>\n",
       "    </tr>\n",
       "    <tr>\n",
       "      <th>...</th>\n",
       "      <td>...</td>\n",
       "      <td>...</td>\n",
       "      <td>...</td>\n",
       "      <td>...</td>\n",
       "      <td>...</td>\n",
       "    </tr>\n",
       "    <tr>\n",
       "      <th>6</th>\n",
       "      <td>navis.MeshNeuron</td>\n",
       "      <td>720575940633280107</td>\n",
       "      <td>1 dimensionless</td>\n",
       "      <td>43403</td>\n",
       "      <td>85888</td>\n",
       "    </tr>\n",
       "    <tr>\n",
       "      <th>7</th>\n",
       "      <td>navis.MeshNeuron</td>\n",
       "      <td>720575940615856345</td>\n",
       "      <td>1 dimensionless</td>\n",
       "      <td>83919</td>\n",
       "      <td>167793</td>\n",
       "    </tr>\n",
       "  </tbody>\n",
       "</table>\n",
       "</div>"
      ],
      "text/plain": [
       "<class 'navis.core.neuronlist.NeuronList'> containing 8 neurons (30.1MiB)\n",
       "                type                name            units  n_vertices  n_faces\n",
       "0   navis.MeshNeuron  720575940614739286  1 dimensionless       59628   119270\n",
       "1   navis.MeshNeuron  720575940632670433  1 dimensionless       60880   121759\n",
       "..               ...                 ...              ...         ...      ...\n",
       "6   navis.MeshNeuron  720575940633280107  1 dimensionless       43403    85888\n",
       "7   navis.MeshNeuron  720575940615856345  1 dimensionless       83919   167793"
      ]
     },
     "execution_count": 5,
     "metadata": {},
     "output_type": "execute_result"
    }
   ],
   "source": [
    "# When reading all files in folder you have to specificy the file extension (e.g. *.stl)\n",
    "meshes = navis.read_mesh('~/Downloads/neurons/*.stl')\n",
    "meshes"
   ]
  },
  {
   "cell_type": "raw",
   "id": "36ad0eff-0908-4b6b-89bc-65a786eaa29d",
   "metadata": {
    "raw_mimetype": "text/restructuredtext",
    "tags": []
   },
   "source": [
    "By default, :func:`navis.read_mesh` will return neurons. Use the ``output`` parameter to get  a :class:`navis.Volume` (or a ``trimesh.Trimesh``) instead:"
   ]
  },
  {
   "cell_type": "code",
   "execution_count": 6,
   "id": "60e2b533-25e1-4800-ba02-5dd1f795a22b",
   "metadata": {},
   "outputs": [
    {
     "data": {
      "text/plain": [
       "<navis.Volume(name=test_neuron, color=(0.85, 0.85, 0.85, 0.2), vertices.shape=(40905, 3), faces.shape=(82126, 3))>"
      ]
     },
     "execution_count": 6,
     "metadata": {},
     "output_type": "execute_result"
    }
   ],
   "source": [
    "# Load a mesh file into a Volume\n",
    "vol = navis.read_mesh('~/Downloads/test_mesh.stl', output='volume')\n",
    "vol"
   ]
  },
  {
   "cell_type": "raw",
   "id": "5e4ee2ab-4dfd-4b8d-9a0b-5dc8c6686dde",
   "metadata": {
    "raw_mimetype": "text/restructuredtext",
    "tags": []
   },
   "source": [
    "For saving :class:`~navis.MeshNeuron` or :class:`~navis.Volume` to disk, use :func:`navis.write_mesh`:"
   ]
  },
  {
   "cell_type": "code",
   "execution_count": 3,
   "id": "8e300a26-8a18-4438-9c3b-68820054a71c",
   "metadata": {},
   "outputs": [],
   "source": [
    "# Save single neuron to file \n",
    "m = navis.example_neurons(1, kind='mesh')\n",
    "navis.write_mesh(m, '~/Downloads/neuron.obj')"
   ]
  },
  {
   "cell_type": "code",
   "execution_count": 4,
   "id": "9c1592dc-06ad-4358-b595-7552977f6f68",
   "metadata": {},
   "outputs": [
    {
     "data": {
      "application/vnd.jupyter.widget-view+json": {
       "model_id": "",
       "version_major": 2,
       "version_minor": 0
      },
      "text/plain": [
       "Writing:   0%|          | 0/3 [00:00<?, ?it/s]"
      ]
     },
     "metadata": {},
     "output_type": "display_data"
    }
   ],
   "source": [
    "# Save a bunch of neurons to mesh \n",
    "nl = navis.example_neurons(3, kind='mesh')\n",
    "navis.write_mesh(nl, '~/Downloads/', filetype='obj')"
   ]
  },
  {
   "cell_type": "raw",
   "id": "0952b6d9-c7d8-49d0-b3f0-8082fae8d855",
   "metadata": {
    "raw_mimetype": "text/restructuredtext",
    "tags": []
   },
   "source": [
    "Manually constructing meshes\n",
    "============================\n",
    "\n",
    "It's super easy to construct :class:`~navis.MeshNeuron` and :class:`~navis.Volume` from scratch - they are just vertices and faces after all. So if e.g. your mesh file format is not covered by :func:`~navis.read_mesh` or you created the mesh yourself using a marching cube algorithm, just create the neuron/volume yourself:"
   ]
  },
  {
   "cell_type": "code",
   "execution_count": 12,
   "id": "8dc2da3d-95d0-4aa1-abed-0ed0333c2122",
   "metadata": {},
   "outputs": [],
   "source": [
    "import numpy as np\n",
    "\n",
    "# Create some mock vertices\n",
    "vertices = np.array([[1, 0, 0],\n",
    "                     [0, 1, 0],\n",
    "                     [0, 0, 1]])\n",
    "# Make a single triangular face using the vertex indices\n",
    "faces = np.array([[0, 1, 2]])"
   ]
  },
  {
   "cell_type": "code",
   "execution_count": 14,
   "id": "04d7b564-e101-41df-8dc8-c6e44ed93c89",
   "metadata": {},
   "outputs": [
    {
     "data": {
      "text/html": [
       "<div>\n",
       "<style scoped>\n",
       "    .dataframe tbody tr th:only-of-type {\n",
       "        vertical-align: middle;\n",
       "    }\n",
       "\n",
       "    .dataframe tbody tr th {\n",
       "        vertical-align: top;\n",
       "    }\n",
       "\n",
       "    .dataframe thead th {\n",
       "        text-align: right;\n",
       "    }\n",
       "</style>\n",
       "<table border=\"1\" class=\"dataframe\">\n",
       "  <thead>\n",
       "    <tr style=\"text-align: right;\">\n",
       "      <th></th>\n",
       "      <th></th>\n",
       "    </tr>\n",
       "  </thead>\n",
       "  <tbody>\n",
       "    <tr>\n",
       "      <th>type</th>\n",
       "      <td>navis.MeshNeuron</td>\n",
       "    </tr>\n",
       "    <tr>\n",
       "      <th>name</th>\n",
       "      <td>my_mesh</td>\n",
       "    </tr>\n",
       "    <tr>\n",
       "      <th>units</th>\n",
       "      <td>1 micrometer</td>\n",
       "    </tr>\n",
       "    <tr>\n",
       "      <th>n_vertices</th>\n",
       "      <td>3</td>\n",
       "    </tr>\n",
       "    <tr>\n",
       "      <th>n_faces</th>\n",
       "      <td>1</td>\n",
       "    </tr>\n",
       "  </tbody>\n",
       "</table>\n",
       "</div>"
      ],
      "text/plain": [
       "type          navis.MeshNeuron\n",
       "name                   my_mesh\n",
       "units             1 micrometer\n",
       "n_vertices                   3\n",
       "n_faces                      1\n",
       "dtype: object"
      ]
     },
     "execution_count": 14,
     "metadata": {},
     "output_type": "execute_result"
    }
   ],
   "source": [
    "# Turn into MeshNeuron\n",
    "m = navis.MeshNeuron((vertices, faces), name='my_mesh', units='microns')\n",
    "m"
   ]
  },
  {
   "cell_type": "code",
   "execution_count": 15,
   "id": "19eecc86-d5ee-4759-a8ba-85f5502f0803",
   "metadata": {},
   "outputs": [
    {
     "data": {
      "text/plain": [
       "<navis.Volume(name=my_volume, color=(0.85, 0.85, 0.85, 0.2), vertices.shape=(3, 3), faces.shape=(1, 3))>"
      ]
     },
     "execution_count": 15,
     "metadata": {},
     "output_type": "execute_result"
    }
   ],
   "source": [
    "vol = navis.Volume(vertices, faces, name='my_volume')\n",
    "vol"
   ]
  },
  {
   "cell_type": "raw",
   "id": "9c7e5940-ec92-4f18-a489-54595516ae0a",
   "metadata": {
    "raw_mimetype": "text/restructuredtext",
    "tags": []
   },
   "source": [
    "One thing to keep in mind here is that ``navis`` only works with triangular faces (i.e. no quads or polygons)! Please see the docstring of :class:`navis.MeshNeuron` and :class:`navis.Volume` for details.\n",
    "\n",
    "Also note that all navis neurons can be stored to disk using ``pickle`` - see the :ref:`pickling tutorial <local_data_pickle_tut>`. \n",
    "\n",
    "Hopefully the above has given you some entry points on how to load/save your data. See also the :ref:`I/O API reference api_io>`. Keep in mind that you can also convert one neuron type into another - for example by skeletonizing ``MeshNeurons`` (see :ref:`neuron_conversion`). "
   ]
  }
 ],
 "metadata": {
  "kernelspec": {
   "display_name": "Python 3 (ipykernel)",
   "language": "python",
   "name": "python3"
  },
  "language_info": {
   "codemirror_mode": {
    "name": "ipython",
    "version": 3
   },
   "file_extension": ".py",
   "mimetype": "text/x-python",
   "name": "python",
   "nbconvert_exporter": "python",
   "pygments_lexer": "ipython3",
   "version": "3.9.9"
  },
  "widgets": {
   "application/vnd.jupyter.widget-state+json": {
    "state": {},
    "version_major": 2,
    "version_minor": 0
   }
  }
 },
 "nbformat": 4,
 "nbformat_minor": 5
}
