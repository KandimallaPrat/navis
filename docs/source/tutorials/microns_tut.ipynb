{
 "cells": [
  {
   "cell_type": "raw",
   "metadata": {
    "raw_mimetype": "text/restructuredtext",
    "tags": []
   },
   "source": [
    ".. _microns_tut:\n",
    "\n",
    "MICrONS Datasets\n",
    "****************\n",
    "\n",
    "The Allen Institute released two large connecotmics dataset:\n",
    "    1. A \"Cortical mm^3\" of mouse visual cortex (broken into two portions, \"65\" and \"35\")\n",
    "    2. A smaller \"Layer 2/3\" dataset of mouse visual cortex\n",
    "    \n",
    "Both of these can be browsed via the `MICrONS Explorer <https://www.microns-explorer.org/>`_ using neuroglancer. These data are public and thanks to the excellent ``cloud-volume`` and the ``caveclient`` libraries (developed by William Silversmith, Forrest Collman, Sven Dorkenwald, Casey Schneider-Mizell and others) we can easily fetch neurons and their connectivity. \n",
    "\n",
    "For easier interaction, `navis` ships with a small interface to these datasets. To use it, we will have to make sure ``caveclient`` (and with it ``cloud-volume``) is installed:\n",
    "\n",
    ".. code-block:: bash\n",
    "\n",
    "   pip3 install caveclient -U\n",
    "   \n",
    "The first time you run below code, you might have to get & set a client secret. Simply follow the instructions in the terminal and when in doubt, check out the section about authentication in the `docs <https://caveclient.readthedocs.io/en/latest/guide/authentication.html>`_.\n",
    "\n",
    "Let's get started:"
   ]
  },
  {
   "cell_type": "code",
   "execution_count": 1,
   "metadata": {},
   "outputs": [],
   "source": [
    "import navis\n",
    "import navis.interfaces.microns as mi"
   ]
  },
  {
   "cell_type": "raw",
   "metadata": {
    "raw_mimetype": "text/restructuredtext",
    "tags": []
   },
   "source": [
    "You will find that most functions in the interface accept a ``datastack`` parameter. At the time of writing, the available stacks are:\n",
    "\n",
    " - `cortex65` (also called \"minnie65\") is the anterior portion of the cortical mm^3 dataset\n",
    " - `cortex35` (also called \"minnie35\") is the (smaller) posterior portion of the cortical mm^3 dataset\n",
    " - `layer 2/3` (also called \"pinky100\") is the earlier, smaller cortical dataset \n",
    " \n",
    "If not specified, the default is `cortex65`! Let's start with some basic queries using ``caveclient``:"
   ]
  },
  {
   "cell_type": "code",
   "execution_count": 2,
   "metadata": {},
   "outputs": [
    {
     "data": {
      "text/plain": [
       "['nucleus_detection_v0',\n",
       " 'synapses_pni_2',\n",
       " 'nucleus_neuron_svm',\n",
       " 'proofreading_status_public_release',\n",
       " 'func_unit_em_match_release',\n",
       " 'allen_soma_ei_class_model_v1',\n",
       " 'allen_visp_column_soma_coarse_types_v1']"
      ]
     },
     "execution_count": 2,
     "metadata": {},
     "output_type": "execute_result"
    }
   ],
   "source": [
    "# Initialize the client for the 65 part of cortical mm^3 (i.e. \"Minnie\")\n",
    "client = mi.get_cave_client(datastack='cortex65')\n",
    "\n",
    "# Fetch available annotation tables\n",
    "client.materialize.get_tables()"
   ]
  },
  {
   "cell_type": "raw",
   "metadata": {
    "raw_mimetype": "text/restructuredtext",
    "tags": []
   },
   "source": [
    "These are the available public tables which we can use to fetch soma meta data. Let's check out `allen_soma_ei_class_model_v1`:"
   ]
  },
  {
   "cell_type": "code",
   "execution_count": 3,
   "metadata": {},
   "outputs": [
    {
     "data": {
      "text/html": [
       "<div>\n",
       "<style scoped>\n",
       "    .dataframe tbody tr th:only-of-type {\n",
       "        vertical-align: middle;\n",
       "    }\n",
       "\n",
       "    .dataframe tbody tr th {\n",
       "        vertical-align: top;\n",
       "    }\n",
       "\n",
       "    .dataframe thead th {\n",
       "        text-align: right;\n",
       "    }\n",
       "</style>\n",
       "<table border=\"1\" class=\"dataframe\">\n",
       "  <thead>\n",
       "    <tr style=\"text-align: right;\">\n",
       "      <th></th>\n",
       "      <th>id</th>\n",
       "      <th>valid</th>\n",
       "      <th>classification_system</th>\n",
       "      <th>cell_type</th>\n",
       "      <th>pt_supervoxel_id</th>\n",
       "      <th>pt_root_id</th>\n",
       "      <th>pt_position</th>\n",
       "    </tr>\n",
       "  </thead>\n",
       "  <tbody>\n",
       "    <tr>\n",
       "      <th>0</th>\n",
       "      <td>485509</td>\n",
       "      <td>t</td>\n",
       "      <td>aibs_coarse_excitatory</td>\n",
       "      <td>excitatory</td>\n",
       "      <td>103588564537113366</td>\n",
       "      <td>864691136740606812</td>\n",
       "      <td>[282608, 103808, 20318]</td>\n",
       "    </tr>\n",
       "    <tr>\n",
       "      <th>1</th>\n",
       "      <td>113721</td>\n",
       "      <td>t</td>\n",
       "      <td>aibs_coarse_excitatory</td>\n",
       "      <td>excitatory</td>\n",
       "      <td>79951332685465031</td>\n",
       "      <td>864691135366988025</td>\n",
       "      <td>[110208, 153664, 23546]</td>\n",
       "    </tr>\n",
       "    <tr>\n",
       "      <th>2</th>\n",
       "      <td>263203</td>\n",
       "      <td>t</td>\n",
       "      <td>aibs_coarse_excitatory</td>\n",
       "      <td>excitatory</td>\n",
       "      <td>87694643458256575</td>\n",
       "      <td>864691135181741826</td>\n",
       "      <td>[166512, 174176, 24523]</td>\n",
       "    </tr>\n",
       "    <tr>\n",
       "      <th>3</th>\n",
       "      <td>456177</td>\n",
       "      <td>t</td>\n",
       "      <td>aibs_coarse_excitatory</td>\n",
       "      <td>excitatory</td>\n",
       "      <td>102677963354799688</td>\n",
       "      <td>864691135337690598</td>\n",
       "      <td>[275616, 135120, 24873]</td>\n",
       "    </tr>\n",
       "    <tr>\n",
       "      <th>4</th>\n",
       "      <td>364447</td>\n",
       "      <td>t</td>\n",
       "      <td>aibs_coarse_excitatory</td>\n",
       "      <td>excitatory</td>\n",
       "      <td>94449079618306553</td>\n",
       "      <td>864691136883828334</td>\n",
       "      <td>[216064, 166800, 15025]</td>\n",
       "    </tr>\n",
       "  </tbody>\n",
       "</table>\n",
       "</div>"
      ],
      "text/plain": [
       "       id valid   classification_system   cell_type    pt_supervoxel_id  \\\n",
       "0  485509     t  aibs_coarse_excitatory  excitatory  103588564537113366   \n",
       "1  113721     t  aibs_coarse_excitatory  excitatory   79951332685465031   \n",
       "2  263203     t  aibs_coarse_excitatory  excitatory   87694643458256575   \n",
       "3  456177     t  aibs_coarse_excitatory  excitatory  102677963354799688   \n",
       "4  364447     t  aibs_coarse_excitatory  excitatory   94449079618306553   \n",
       "\n",
       "           pt_root_id              pt_position  \n",
       "0  864691136740606812  [282608, 103808, 20318]  \n",
       "1  864691135366988025  [110208, 153664, 23546]  \n",
       "2  864691135181741826  [166512, 174176, 24523]  \n",
       "3  864691135337690598  [275616, 135120, 24873]  \n",
       "4  864691136883828334  [216064, 166800, 15025]  "
      ]
     },
     "execution_count": 3,
     "metadata": {},
     "output_type": "execute_result"
    }
   ],
   "source": [
    "ct = client.materialize.query_table('allen_soma_ei_class_model_v1')\n",
    "ct.head()"
   ]
  },
  {
   "cell_type": "code",
   "execution_count": 17,
   "metadata": {},
   "outputs": [
    {
     "data": {
      "text/plain": [
       "array(['excitatory', 'inhibitory'], dtype=object)"
      ]
     },
     "execution_count": 17,
     "metadata": {},
     "output_type": "execute_result"
    }
   ],
   "source": [
    "ct.cell_type.unique()"
   ]
  },
  {
   "cell_type": "raw",
   "metadata": {
    "raw_mimetype": "text/restructuredtext",
    "tags": []
   },
   "source": [
    "Looks like at this point there is only a rather coarse public classification. Nevertheless, let's fetch a couple excitatory and inhibitory neurons:"
   ]
  },
  {
   "cell_type": "code",
   "execution_count": 4,
   "metadata": {},
   "outputs": [
    {
     "data": {
      "text/html": [
       "<div>\n",
       "<style scoped>\n",
       "    .dataframe tbody tr th:only-of-type {\n",
       "        vertical-align: middle;\n",
       "    }\n",
       "\n",
       "    .dataframe tbody tr th {\n",
       "        vertical-align: top;\n",
       "    }\n",
       "\n",
       "    .dataframe thead th {\n",
       "        text-align: right;\n",
       "    }\n",
       "</style>\n",
       "<table border=\"1\" class=\"dataframe\">\n",
       "  <thead>\n",
       "    <tr style=\"text-align: right;\">\n",
       "      <th></th>\n",
       "      <th>id</th>\n",
       "      <th>valid</th>\n",
       "      <th>pt_supervoxel_id</th>\n",
       "      <th>pt_root_id</th>\n",
       "      <th>valid_id</th>\n",
       "      <th>status_dendrite</th>\n",
       "      <th>status_axon</th>\n",
       "      <th>pt_position</th>\n",
       "    </tr>\n",
       "  </thead>\n",
       "  <tbody>\n",
       "    <tr>\n",
       "      <th>0</th>\n",
       "      <td>1</td>\n",
       "      <td>t</td>\n",
       "      <td>89529934389098311</td>\n",
       "      <td>864691136296964635</td>\n",
       "      <td>864691136296964635</td>\n",
       "      <td>extended</td>\n",
       "      <td>non</td>\n",
       "      <td>[179808, 216672, 23361]</td>\n",
       "    </tr>\n",
       "    <tr>\n",
       "      <th>1</th>\n",
       "      <td>2</td>\n",
       "      <td>t</td>\n",
       "      <td>90584228533843146</td>\n",
       "      <td>864691136311986237</td>\n",
       "      <td>864691136311986237</td>\n",
       "      <td>extended</td>\n",
       "      <td>non</td>\n",
       "      <td>[187840, 207232, 22680]</td>\n",
       "    </tr>\n",
       "    <tr>\n",
       "      <th>2</th>\n",
       "      <td>3</td>\n",
       "      <td>t</td>\n",
       "      <td>89528353773943370</td>\n",
       "      <td>864691135355207119</td>\n",
       "      <td>864691135355207119</td>\n",
       "      <td>extended</td>\n",
       "      <td>non</td>\n",
       "      <td>[180016, 204592, 22798]</td>\n",
       "    </tr>\n",
       "    <tr>\n",
       "      <th>3</th>\n",
       "      <td>4</td>\n",
       "      <td>t</td>\n",
       "      <td>91077153340676495</td>\n",
       "      <td>864691135355207375</td>\n",
       "      <td>864691135355207375</td>\n",
       "      <td>extended</td>\n",
       "      <td>non</td>\n",
       "      <td>[191424, 209888, 22845]</td>\n",
       "    </tr>\n",
       "    <tr>\n",
       "      <th>4</th>\n",
       "      <td>5</td>\n",
       "      <td>t</td>\n",
       "      <td>88897234233461709</td>\n",
       "      <td>864691136422983727</td>\n",
       "      <td>864691136422983727</td>\n",
       "      <td>extended</td>\n",
       "      <td>non</td>\n",
       "      <td>[175248, 220944, 23561]</td>\n",
       "    </tr>\n",
       "  </tbody>\n",
       "</table>\n",
       "</div>"
      ],
      "text/plain": [
       "   id valid   pt_supervoxel_id          pt_root_id            valid_id  \\\n",
       "0   1     t  89529934389098311  864691136296964635  864691136296964635   \n",
       "1   2     t  90584228533843146  864691136311986237  864691136311986237   \n",
       "2   3     t  89528353773943370  864691135355207119  864691135355207119   \n",
       "3   4     t  91077153340676495  864691135355207375  864691135355207375   \n",
       "4   5     t  88897234233461709  864691136422983727  864691136422983727   \n",
       "\n",
       "  status_dendrite status_axon              pt_position  \n",
       "0        extended         non  [179808, 216672, 23361]  \n",
       "1        extended         non  [187840, 207232, 22680]  \n",
       "2        extended         non  [180016, 204592, 22798]  \n",
       "3        extended         non  [191424, 209888, 22845]  \n",
       "4        extended         non  [175248, 220944, 23561]  "
      ]
     },
     "execution_count": 4,
     "metadata": {},
     "output_type": "execute_result"
    }
   ],
   "source": [
    "# Fetch proof-reading status\n",
    "pr = client.materialize.query_table('proofreading_status_public_release')\n",
    "pr.head()"
   ]
  },
  {
   "cell_type": "code",
   "execution_count": 5,
   "metadata": {},
   "outputs": [
    {
     "data": {
      "text/plain": [
       "(167, 7)"
      ]
     },
     "execution_count": 5,
     "metadata": {},
     "output_type": "execute_result"
    }
   ],
   "source": [
    "# Subset to those neurons that have been proof read\n",
    "proofread = pr[pr.status_dendrite.isin(['extented', 'clean']) & pr.status_axon.isin(['extented', 'clean'])].pt_root_id.values\n",
    "\n",
    "ct = ct[ct.pt_root_id.isin(proofread)]\n",
    "ct.shape"
   ]
  },
  {
   "cell_type": "code",
   "execution_count": 6,
   "metadata": {},
   "outputs": [],
   "source": [
    "# Pick 20 \"root IDs\" (sometimes also called segment IDs) each\n",
    "inh_ids = ct[ct.cell_type == 'inhibitory'].pt_root_id.values[: 20]\n",
    "exc_ids = ct[ct.cell_type == 'excitatory'].pt_root_id.values[: 20]"
   ]
  },
  {
   "cell_type": "raw",
   "metadata": {
    "raw_mimetype": "text/restructuredtext",
    "tags": []
   },
   "source": [
    "Next, we will fetch the meshes including the synapses for these neurons:"
   ]
  },
  {
   "cell_type": "code",
   "execution_count": 7,
   "metadata": {},
   "outputs": [
    {
     "data": {
      "application/vnd.jupyter.widget-view+json": {
       "model_id": "",
       "version_major": 2,
       "version_minor": 0
      },
      "text/plain": [
       "Fetching:   0%|          | 0/20 [00:00<?, ?it/s]"
      ]
     },
     "metadata": {},
     "output_type": "display_data"
    },
    {
     "data": {
      "application/vnd.jupyter.widget-view+json": {
       "model_id": "",
       "version_major": 2,
       "version_minor": 0
      },
      "text/plain": [
       "Fetching:   0%|          | 0/20 [00:00<?, ?it/s]"
      ]
     },
     "metadata": {},
     "output_type": "display_data"
    },
    {
     "data": {
      "text/html": [
       "&lt;class 'navis.core.neuronlist.NeuronList'&gt; containing 20 neurons (279.1MiB)<div>\n",
       "<style scoped>\n",
       "    .dataframe tbody tr th:only-of-type {\n",
       "        vertical-align: middle;\n",
       "    }\n",
       "\n",
       "    .dataframe tbody tr th {\n",
       "        vertical-align: top;\n",
       "    }\n",
       "\n",
       "    .dataframe thead th {\n",
       "        text-align: right;\n",
       "    }\n",
       "</style>\n",
       "<table border=\"1\" class=\"dataframe\">\n",
       "  <thead>\n",
       "    <tr style=\"text-align: right;\">\n",
       "      <th></th>\n",
       "      <th>type</th>\n",
       "      <th>name</th>\n",
       "      <th>id</th>\n",
       "      <th>units</th>\n",
       "      <th>n_vertices</th>\n",
       "      <th>n_faces</th>\n",
       "    </tr>\n",
       "  </thead>\n",
       "  <tbody>\n",
       "    <tr>\n",
       "      <th>0</th>\n",
       "      <td>navis.MeshNeuron</td>\n",
       "      <td>None</td>\n",
       "      <td>864691135994731946</td>\n",
       "      <td>1 nanometer</td>\n",
       "      <td>118433</td>\n",
       "      <td>238637</td>\n",
       "    </tr>\n",
       "    <tr>\n",
       "      <th>1</th>\n",
       "      <td>navis.MeshNeuron</td>\n",
       "      <td>None</td>\n",
       "      <td>864691135974528623</td>\n",
       "      <td>1 nanometer</td>\n",
       "      <td>145727</td>\n",
       "      <td>293750</td>\n",
       "    </tr>\n",
       "    <tr>\n",
       "      <th>...</th>\n",
       "      <td>...</td>\n",
       "      <td>...</td>\n",
       "      <td>...</td>\n",
       "      <td>...</td>\n",
       "      <td>...</td>\n",
       "      <td>...</td>\n",
       "    </tr>\n",
       "    <tr>\n",
       "      <th>18</th>\n",
       "      <td>navis.MeshNeuron</td>\n",
       "      <td>None</td>\n",
       "      <td>864691135446864980</td>\n",
       "      <td>1 nanometer</td>\n",
       "      <td>318941</td>\n",
       "      <td>640681</td>\n",
       "    </tr>\n",
       "    <tr>\n",
       "      <th>19</th>\n",
       "      <td>navis.MeshNeuron</td>\n",
       "      <td>None</td>\n",
       "      <td>864691135428608048</td>\n",
       "      <td>1 nanometer</td>\n",
       "      <td>397265</td>\n",
       "      <td>799150</td>\n",
       "    </tr>\n",
       "  </tbody>\n",
       "</table>\n",
       "</div>"
      ],
      "text/plain": [
       "<class 'navis.core.neuronlist.NeuronList'> containing 20 neurons (279.1MiB)\n",
       "                type  name                  id        units  n_vertices  \\\n",
       "0   navis.MeshNeuron  None  864691135994731946  1 nanometer      118433   \n",
       "1   navis.MeshNeuron  None  864691135974528623  1 nanometer      145727   \n",
       "..               ...   ...                 ...          ...         ...   \n",
       "18  navis.MeshNeuron  None  864691135446864980  1 nanometer      318941   \n",
       "19  navis.MeshNeuron  None  864691135428608048  1 nanometer      397265   \n",
       "\n",
       "    n_faces  \n",
       "0    238637  \n",
       "1    293750  \n",
       "..      ...  \n",
       "18   640681  \n",
       "19   799150  "
      ]
     },
     "execution_count": 7,
     "metadata": {},
     "output_type": "execute_result"
    }
   ],
   "source": [
    "# Fetch neurons\n",
    "inh = mi.fetch_neurons(inh_ids, lod=2)\n",
    "exc = mi.fetch_neurons(exc_ids, lod=2)\n",
    "\n",
    "# Inspect\n",
    "inh"
   ]
  },
  {
   "cell_type": "raw",
   "metadata": {},
   "source": [
    "These neurons are fairly large despite us using a large ``lod`` (level of detail, higher = coarser). For visualization of such large meshes it can be useful to simplify them a little. For this, you need either ``open3d`` (``pip3 install open3d``), ``pymeshlab`` (``pip3 install pymeshlab``) or Blender 3D on your computer."
   ]
  },
  {
   "cell_type": "code",
   "execution_count": 8,
   "metadata": {},
   "outputs": [
    {
     "data": {
      "application/vnd.jupyter.widget-view+json": {
       "model_id": "",
       "version_major": 2,
       "version_minor": 0
      },
      "text/plain": [
       "Simplifying:   0%|          | 0/20 [00:00<?, ?it/s]"
      ]
     },
     "metadata": {},
     "output_type": "display_data"
    },
    {
     "data": {
      "application/vnd.jupyter.widget-view+json": {
       "model_id": "",
       "version_major": 2,
       "version_minor": 0
      },
      "text/plain": [
       "Simplifying:   0%|          | 0/20 [00:00<?, ?it/s]"
      ]
     },
     "metadata": {},
     "output_type": "display_data"
    },
    {
     "data": {
      "text/html": [
       "&lt;class 'navis.core.neuronlist.NeuronList'&gt; containing 20 neurons (69.4MiB)<div>\n",
       "<style scoped>\n",
       "    .dataframe tbody tr th:only-of-type {\n",
       "        vertical-align: middle;\n",
       "    }\n",
       "\n",
       "    .dataframe tbody tr th {\n",
       "        vertical-align: top;\n",
       "    }\n",
       "\n",
       "    .dataframe thead th {\n",
       "        text-align: right;\n",
       "    }\n",
       "</style>\n",
       "<table border=\"1\" class=\"dataframe\">\n",
       "  <thead>\n",
       "    <tr style=\"text-align: right;\">\n",
       "      <th></th>\n",
       "      <th>type</th>\n",
       "      <th>name</th>\n",
       "      <th>id</th>\n",
       "      <th>units</th>\n",
       "      <th>n_vertices</th>\n",
       "      <th>n_faces</th>\n",
       "    </tr>\n",
       "  </thead>\n",
       "  <tbody>\n",
       "    <tr>\n",
       "      <th>0</th>\n",
       "      <td>navis.MeshNeuron</td>\n",
       "      <td>None</td>\n",
       "      <td>864691135994731946</td>\n",
       "      <td>1 nanometer</td>\n",
       "      <td>40887</td>\n",
       "      <td>79545</td>\n",
       "    </tr>\n",
       "    <tr>\n",
       "      <th>1</th>\n",
       "      <td>navis.MeshNeuron</td>\n",
       "      <td>None</td>\n",
       "      <td>864691135974528623</td>\n",
       "      <td>1 nanometer</td>\n",
       "      <td>50585</td>\n",
       "      <td>97915</td>\n",
       "    </tr>\n",
       "    <tr>\n",
       "      <th>...</th>\n",
       "      <td>...</td>\n",
       "      <td>...</td>\n",
       "      <td>...</td>\n",
       "      <td>...</td>\n",
       "      <td>...</td>\n",
       "      <td>...</td>\n",
       "    </tr>\n",
       "    <tr>\n",
       "      <th>18</th>\n",
       "      <td>navis.MeshNeuron</td>\n",
       "      <td>None</td>\n",
       "      <td>864691135446864980</td>\n",
       "      <td>1 nanometer</td>\n",
       "      <td>108886</td>\n",
       "      <td>213560</td>\n",
       "    </tr>\n",
       "    <tr>\n",
       "      <th>19</th>\n",
       "      <td>navis.MeshNeuron</td>\n",
       "      <td>None</td>\n",
       "      <td>864691135428608048</td>\n",
       "      <td>1 nanometer</td>\n",
       "      <td>136145</td>\n",
       "      <td>266382</td>\n",
       "    </tr>\n",
       "  </tbody>\n",
       "</table>\n",
       "</div>"
      ],
      "text/plain": [
       "<class 'navis.core.neuronlist.NeuronList'> containing 20 neurons (69.4MiB)\n",
       "                type  name                  id        units  n_vertices  \\\n",
       "0   navis.MeshNeuron  None  864691135994731946  1 nanometer       40887   \n",
       "1   navis.MeshNeuron  None  864691135974528623  1 nanometer       50585   \n",
       "..               ...   ...                 ...          ...         ...   \n",
       "18  navis.MeshNeuron  None  864691135446864980  1 nanometer      108886   \n",
       "19  navis.MeshNeuron  None  864691135428608048  1 nanometer      136145   \n",
       "\n",
       "    n_faces  \n",
       "0     79545  \n",
       "1     97915  \n",
       "..      ...  \n",
       "18   213560  \n",
       "19   266382  "
      ]
     },
     "execution_count": 8,
     "metadata": {},
     "output_type": "execute_result"
    }
   ],
   "source": [
    "# Reduce face counts to 1/3 of the original\n",
    "inh_ds = navis.simplify_mesh(inh, F=1/3)\n",
    "exc_ds = navis.simplify_mesh(exc, F=1/3)\n",
    "\n",
    "# Inspect (note the lower face/vertex counts)\n",
    "inh_ds"
   ]
  },
  {
   "cell_type": "raw",
   "metadata": {
    "raw_mimetype": "text/restructuredtext",
    "tags": []
   },
   "source": [
    "Let's visualize the neurons before running analyses"
   ]
  },
  {
   "cell_type": "code",
   "execution_count": null,
   "metadata": {},
   "outputs": [],
   "source": [
    "# Create some colors: reds for excitatory, blue for inhibitory\n",
    "import seaborn as sns\n",
    "colors = {n.id: sns.color_palette('Reds', 5)[i] for i, n in enumerate(exc[:5])}\n",
    "colors.update({n.id: sns.color_palette('Blues', 5)[i] for i, n in enumerate(inh[:5])})\n",
    "\n",
    "# Plot the first 5 neurons each\n",
    "fig = navis.plot3d([inh_ds[:5], exc_ds[:5]], color=colors)"
   ]
  },
  {
   "cell_type": "raw",
   "metadata": {
    "raw_mimetype": "text/restructuredtext",
    "tags": []
   },
   "source": [
    ".. raw:: html\n",
    "   :file: figures/3d_microns.html\n",
    "   \n",
    "|\n",
    "|\n",
    "|\n",
    "|   \n",
    "\n",
    "Note that some of these neurons look truncated (i.e. extend outside the imaged volume). We need to keep that in mind when running our analyses! \n",
    "\n",
    "First, let's check cable length. For this, we need to roughly skeletonize these meshes:"
   ]
  },
  {
   "cell_type": "code",
   "execution_count": 11,
   "metadata": {},
   "outputs": [
    {
     "data": {
      "application/vnd.jupyter.widget-view+json": {
       "model_id": "",
       "version_major": 2,
       "version_minor": 0
      },
      "text/plain": [
       "Skeletonizing:   0%|          | 0/20 [00:00<?, ?it/s]"
      ]
     },
     "metadata": {},
     "output_type": "display_data"
    },
    {
     "data": {
      "application/vnd.jupyter.widget-view+json": {
       "model_id": "",
       "version_major": 2,
       "version_minor": 0
      },
      "text/plain": [
       "Skeletonizing:   0%|          | 0/20 [00:00<?, ?it/s]"
      ]
     },
     "metadata": {},
     "output_type": "display_data"
    },
    {
     "data": {
      "text/html": [
       "&lt;class 'navis.core.neuronlist.NeuronList'&gt; containing 20 neurons (57.7MiB)<div>\n",
       "<style scoped>\n",
       "    .dataframe tbody tr th:only-of-type {\n",
       "        vertical-align: middle;\n",
       "    }\n",
       "\n",
       "    .dataframe tbody tr th {\n",
       "        vertical-align: top;\n",
       "    }\n",
       "\n",
       "    .dataframe thead th {\n",
       "        text-align: right;\n",
       "    }\n",
       "</style>\n",
       "<table border=\"1\" class=\"dataframe\">\n",
       "  <thead>\n",
       "    <tr style=\"text-align: right;\">\n",
       "      <th></th>\n",
       "      <th>type</th>\n",
       "      <th>name</th>\n",
       "      <th>id</th>\n",
       "      <th>n_nodes</th>\n",
       "      <th>n_connectors</th>\n",
       "      <th>n_branches</th>\n",
       "      <th>n_leafs</th>\n",
       "      <th>cable_length</th>\n",
       "      <th>soma</th>\n",
       "      <th>units</th>\n",
       "    </tr>\n",
       "  </thead>\n",
       "  <tbody>\n",
       "    <tr>\n",
       "      <th>0</th>\n",
       "      <td>navis.TreeNeuron</td>\n",
       "      <td>None</td>\n",
       "      <td>864691135994731946</td>\n",
       "      <td>19099</td>\n",
       "      <td>None</td>\n",
       "      <td>482</td>\n",
       "      <td>591</td>\n",
       "      <td>1.064628e+07</td>\n",
       "      <td>11789</td>\n",
       "      <td>1 nanometer</td>\n",
       "    </tr>\n",
       "    <tr>\n",
       "      <th>1</th>\n",
       "      <td>navis.TreeNeuron</td>\n",
       "      <td>None</td>\n",
       "      <td>864691135974528623</td>\n",
       "      <td>24333</td>\n",
       "      <td>None</td>\n",
       "      <td>728</td>\n",
       "      <td>831</td>\n",
       "      <td>1.349213e+07</td>\n",
       "      <td>13008</td>\n",
       "      <td>1 nanometer</td>\n",
       "    </tr>\n",
       "    <tr>\n",
       "      <th>...</th>\n",
       "      <td>...</td>\n",
       "      <td>...</td>\n",
       "      <td>...</td>\n",
       "      <td>...</td>\n",
       "      <td>...</td>\n",
       "      <td>...</td>\n",
       "      <td>...</td>\n",
       "      <td>...</td>\n",
       "      <td>...</td>\n",
       "      <td>...</td>\n",
       "    </tr>\n",
       "    <tr>\n",
       "      <th>18</th>\n",
       "      <td>navis.TreeNeuron</td>\n",
       "      <td>None</td>\n",
       "      <td>864691135446864980</td>\n",
       "      <td>47564</td>\n",
       "      <td>None</td>\n",
       "      <td>949</td>\n",
       "      <td>1693</td>\n",
       "      <td>2.593271e+07</td>\n",
       "      <td>20234</td>\n",
       "      <td>1 nanometer</td>\n",
       "    </tr>\n",
       "    <tr>\n",
       "      <th>19</th>\n",
       "      <td>navis.TreeNeuron</td>\n",
       "      <td>None</td>\n",
       "      <td>864691135428608048</td>\n",
       "      <td>62330</td>\n",
       "      <td>None</td>\n",
       "      <td>1109</td>\n",
       "      <td>1707</td>\n",
       "      <td>3.432125e+07</td>\n",
       "      <td>29927</td>\n",
       "      <td>1 nanometer</td>\n",
       "    </tr>\n",
       "  </tbody>\n",
       "</table>\n",
       "</div>"
      ],
      "text/plain": [
       "<class 'navis.core.neuronlist.NeuronList'> containing 20 neurons (57.7MiB)\n",
       "                type  name                  id  n_nodes n_connectors  \\\n",
       "0   navis.TreeNeuron  None  864691135994731946    19099         None   \n",
       "1   navis.TreeNeuron  None  864691135974528623    24333         None   \n",
       "..               ...   ...                 ...      ...          ...   \n",
       "18  navis.TreeNeuron  None  864691135446864980    47564         None   \n",
       "19  navis.TreeNeuron  None  864691135428608048    62330         None   \n",
       "\n",
       "    n_branches  n_leafs  cable_length   soma        units  \n",
       "0         1371      591  1.064628e+07  11789  1 nanometer  \n",
       "1         1763      831  1.349213e+07  13008  1 nanometer  \n",
       "..         ...      ...           ...    ...          ...  \n",
       "18        3083     1693  2.593271e+07  20234  1 nanometer  \n",
       "19        3674     1707  3.432125e+07  29927  1 nanometer  "
      ]
     },
     "execution_count": 11,
     "metadata": {},
     "output_type": "execute_result"
    }
   ],
   "source": [
    "inh_sk = navis.skeletonize(inh, parallel=True)\n",
    "exc_sk = navis.skeletonize(exc, parallel=True)\n",
    "\n",
    "# Inspect \n",
    "inh_sk"
   ]
  },
  {
   "cell_type": "code",
   "execution_count": null,
   "metadata": {},
   "outputs": [],
   "source": [
    "# Plot one example (zoom in for details)\n",
    "fig = navis.plot3d([inh_sk[0], inh[0]], color=[(1, 0, 0), (1, 1, 1, .5)])"
   ]
  },
  {
   "cell_type": "raw",
   "metadata": {},
   "source": [
    ".. raw:: html\n",
    "   :file: figures/3d_microns_skeleton.html\n",
    "   \n",
    "|\n",
    "|\n",
    "|\n",
    "|   \n",
    "\n",
    "That looks reasonable! Now we can compare cable lengths and other stats:"
   ]
  },
  {
   "cell_type": "code",
   "execution_count": 13,
   "metadata": {},
   "outputs": [
    {
     "data": {
      "text/html": [
       "<div>\n",
       "<style scoped>\n",
       "    .dataframe tbody tr th:only-of-type {\n",
       "        vertical-align: middle;\n",
       "    }\n",
       "\n",
       "    .dataframe tbody tr th {\n",
       "        vertical-align: top;\n",
       "    }\n",
       "\n",
       "    .dataframe thead th {\n",
       "        text-align: right;\n",
       "    }\n",
       "</style>\n",
       "<table border=\"1\" class=\"dataframe\">\n",
       "  <thead>\n",
       "    <tr style=\"text-align: right;\">\n",
       "      <th></th>\n",
       "      <th>type</th>\n",
       "      <th>name</th>\n",
       "      <th>id</th>\n",
       "      <th>n_nodes</th>\n",
       "      <th>n_connectors</th>\n",
       "      <th>n_branches</th>\n",
       "      <th>n_leafs</th>\n",
       "      <th>cable_length</th>\n",
       "      <th>soma</th>\n",
       "      <th>units</th>\n",
       "    </tr>\n",
       "  </thead>\n",
       "  <tbody>\n",
       "    <tr>\n",
       "      <th>0</th>\n",
       "      <td>inhibitory</td>\n",
       "      <td>None</td>\n",
       "      <td>864691135994731946</td>\n",
       "      <td>19099</td>\n",
       "      <td>None</td>\n",
       "      <td>482</td>\n",
       "      <td>591</td>\n",
       "      <td>1.064628e+07</td>\n",
       "      <td>11789</td>\n",
       "      <td>1 nanometer</td>\n",
       "    </tr>\n",
       "    <tr>\n",
       "      <th>1</th>\n",
       "      <td>inhibitory</td>\n",
       "      <td>None</td>\n",
       "      <td>864691135974528623</td>\n",
       "      <td>24333</td>\n",
       "      <td>None</td>\n",
       "      <td>728</td>\n",
       "      <td>831</td>\n",
       "      <td>1.349213e+07</td>\n",
       "      <td>13008</td>\n",
       "      <td>1 nanometer</td>\n",
       "    </tr>\n",
       "    <tr>\n",
       "      <th>2</th>\n",
       "      <td>inhibitory</td>\n",
       "      <td>None</td>\n",
       "      <td>864691135113360025</td>\n",
       "      <td>31313</td>\n",
       "      <td>None</td>\n",
       "      <td>698</td>\n",
       "      <td>1188</td>\n",
       "      <td>1.733779e+07</td>\n",
       "      <td>18923</td>\n",
       "      <td>1 nanometer</td>\n",
       "    </tr>\n",
       "    <tr>\n",
       "      <th>3</th>\n",
       "      <td>inhibitory</td>\n",
       "      <td>None</td>\n",
       "      <td>864691135700443515</td>\n",
       "      <td>45083</td>\n",
       "      <td>None</td>\n",
       "      <td>2484</td>\n",
       "      <td>1255</td>\n",
       "      <td>2.423469e+07</td>\n",
       "      <td>24681</td>\n",
       "      <td>1 nanometer</td>\n",
       "    </tr>\n",
       "    <tr>\n",
       "      <th>4</th>\n",
       "      <td>inhibitory</td>\n",
       "      <td>None</td>\n",
       "      <td>864691135584084344</td>\n",
       "      <td>20643</td>\n",
       "      <td>None</td>\n",
       "      <td>2167</td>\n",
       "      <td>1232</td>\n",
       "      <td>1.145568e+07</td>\n",
       "      <td>16868</td>\n",
       "      <td>1 nanometer</td>\n",
       "    </tr>\n",
       "  </tbody>\n",
       "</table>\n",
       "</div>"
      ],
      "text/plain": [
       "         type  name                  id  n_nodes n_connectors  n_branches  \\\n",
       "0  inhibitory  None  864691135994731946    19099         None         482   \n",
       "1  inhibitory  None  864691135974528623    24333         None         728   \n",
       "2  inhibitory  None  864691135113360025    31313         None         698   \n",
       "3  inhibitory  None  864691135700443515    45083         None        2484   \n",
       "4  inhibitory  None  864691135584084344    20643         None        2167   \n",
       "\n",
       "   n_leafs  cable_length   soma        units  \n",
       "0      591  1.064628e+07  11789  1 nanometer  \n",
       "1      831  1.349213e+07  13008  1 nanometer  \n",
       "2     1188  1.733779e+07  18923  1 nanometer  \n",
       "3     1255  2.423469e+07  24681  1 nanometer  \n",
       "4     1232  1.145568e+07  16868  1 nanometer  "
      ]
     },
     "execution_count": 13,
     "metadata": {},
     "output_type": "execute_result"
    }
   ],
   "source": [
    "# Create a combined DataFrame \n",
    "import pandas as pd \n",
    "\n",
    "inh_stats = inh_sk.summary()\n",
    "inh_stats['type'] = 'inhibitory'\n",
    "\n",
    "exc_stats = exc_sk.summary()\n",
    "exc_stats['type'] = 'excitatory'\n",
    "\n",
    "stats = pd.concat([inh_stats, exc_stats], axis=0)\n",
    "stats.head()"
   ]
  },
  {
   "cell_type": "code",
   "execution_count": 18,
   "metadata": {},
   "outputs": [
    {
     "data": {
      "image/png": "[encoded data removed]",
      "text/plain": [
       "<Figure size 1200x500 with 3 Axes>"
      ]
     },
     "metadata": {
      "needs_background": "dark"
     },
     "output_type": "display_data"
    }
   ],
   "source": [
    "import matplotlib.pyplot as plt\n",
    "\n",
    "sns.set_color_codes('muted')\n",
    "plt.style.use('dark_background')\n",
    "\n",
    "fig, axes = plt.subplots(1, 3, figsize=(12, 5))\n",
    "fig.patch.set_color((0,0,0,0))\n",
    "\n",
    "for col, label, ax in zip(['cable_length', 'n_branches', 'n_leafs'],\n",
    "                          ['cable length  [nm]', '# of branch points', '# of leafs (tips)'],\n",
    "                          axes):\n",
    "    sns.boxplot(data=stats, y=col, x='type', ax=ax, palette=['b', 'r'])\n",
    "    ax.set_ylabel(label)\n",
    "    ax.set_xlabel('')\n",
    "    ax.patch.set_color((0,0,0,0))\n",
    "    \n",
    "sns.despine(trim=True)\n",
    "plt.tight_layout()\n",
    "plt.show()"
   ]
  },
  {
   "cell_type": "raw",
   "metadata": {
    "raw_mimetype": "text/restructuredtext",
    "tags": []
   },
   "source": [
    "Again take this with a grain of salt since we only sample 20 neurons each and it looked like there was a bias towards inhibitory neuron being more likely truncated! However, based on the above analysis inhibitory neurons are larger and branch less compared to excitatory cortical neurons.\n",
    "\n",
    "\n",
    "Videos\n",
    "------\n",
    "Beautiful data like the MICrONS datasets lend themselves to visualizations. For making high quality videos (and renderings) I recommend you check out the tutorial on navis' Blender :ref:`interface <blender3d>`. Here's a little taster:\n",
    "\n",
    ".. raw:: html\n",
    "  \n",
    "   <iframe width=\"560\" height=\"315\" src=\"https://www.youtube.com/embed/wl3sFG7WQJc\" title=\"YouTube video player\" frameborder=\"0\" allow=\"accelerometer; autoplay; clipboard-write; encrypted-media; gyroscope; picture-in-picture\" allowfullscreen></iframe>"
   ]
  }
 ],
 "metadata": {
  "kernelspec": {
   "display_name": "Python 3",
   "language": "python",
   "name": "python3"
  },
  "language_info": {
   "codemirror_mode": {
    "name": "ipython",
    "version": 3
   },
   "file_extension": ".py",
   "mimetype": "text/x-python",
   "name": "python",
   "nbconvert_exporter": "python",
   "pygments_lexer": "ipython3",
   "version": "3.7.5"
  },
  "widgets": {
   "application/vnd.jupyter.widget-state+json": {
    "state": {},
    "version_major": 2,
    "version_minor": 0
   }
  }
 },
 "nbformat": 4,
 "nbformat_minor": 4
}
