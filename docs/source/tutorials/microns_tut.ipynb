{
 "cells": [
  {
   "cell_type": "raw",
   "metadata": {
    "raw_mimetype": "text/restructuredtext",
    "tags": []
   },
   "source": [
    ".. _microns_tut:\n",
    "\n",
    "Microns Datasets\n",
    "****************\n",
    "\n",
    "The Allen Institute released two large connecotmics dataset:\n",
    "    1. A \"Cortical mm^3\" of mouse visual cortex (broken into two portions, \"65\" and \"35\")\n",
    "    2. A smaller \"Layer 2/3\" dataset of mouse visual cortex\n",
    "    \n",
    "Both of these can be browsed via the `Microns Explorer <https://www.microns-explorer.org/>`_ using neuroglancer. These data are public and thanks to the excellent ``cloud-volume`` and the ``caveclient`` libraries (developed by William Silversmith, Forrest Collman, Sven Dorkenwald, Casey Schneider-Mizell and others) we can easily fetch neurons and their connectivity. \n",
    "\n",
    "For easier interaction, `navis` ships with a small interface to these datasets. To use it, we will have to make sure ``caveclient`` (and with it ``cloud-volume``) is installed:\n",
    "\n",
    ".. code-block:: bash\n",
    "\n",
    "   pip3 install caveclient -U\n",
    "   \n",
    "The first time you run below code, you might have to get & set a client secret. Simply follow the instructions in the terminal and when in doubt, check out the section about authentication in the `docs <https://caveclient.readthedocs.io/en/latest/guide/authentication.html>`_.\n",
    "\n",
    "Let's get started:"
   ]
  },
  {
   "cell_type": "code",
   "execution_count": 2,
   "metadata": {},
   "outputs": [],
   "source": [
    "import navis\n",
    "import navis.interfaces.microns as mi"
   ]
  },
  {
   "cell_type": "raw",
   "metadata": {
    "raw_mimetype": "text/restructuredtext",
    "tags": []
   },
   "source": [
    "You will find that most functions in the interface accept a ``datastack`` parameter. At the time of writing, the available stacks are:\n",
    "\n",
    " - `cortex65` (also called \"minnie65\") is the anterior portion of the cortical mm^3 dataset\n",
    " - `cortex35` (also called \"minnie35\") is the (smaller) posterior portion of the cortical mm^3 dataset\n",
    " - `layer 2/3` (also called \"pinky100\") is the earlier, smaller cortical dataset \n",
    " \n",
    "If not specified, the default is `cortex65`! Let's start with some basic queries using ``caveclient``:"
   ]
  },
  {
   "cell_type": "code",
   "execution_count": 10,
   "metadata": {},
   "outputs": [
    {
     "data": {
      "text/plain": [
       "['nucleus_detection_v0',\n",
       " 'synapses_pni_2',\n",
       " 'nucleus_neuron_svm',\n",
       " 'proofreading_status_public_release',\n",
       " 'func_unit_em_match_release',\n",
       " 'allen_soma_ei_class_model_v1',\n",
       " 'allen_visp_column_soma_coarse_types_v1']"
      ]
     },
     "execution_count": 10,
     "metadata": {},
     "output_type": "execute_result"
    }
   ],
   "source": [
    "# Initialize the client for the 65 part of cortical mm^3 (i.e. \"Minnie\")\n",
    "client = mi.get_cave_client(datastack='cortex65')\n",
    "\n",
    "# Fetch available annotation tables\n",
    "client.materialize.get_tables()"
   ]
  },
  {
   "cell_type": "raw",
   "metadata": {
    "raw_mimetype": "text/restructuredtext",
    "tags": []
   },
   "source": [
    "These are the available public tables which we can use to fetch soma meta data. Let's check out `allen_soma_ei_class_model_v1`:"
   ]
  },
  {
   "cell_type": "code",
   "execution_count": 16,
   "metadata": {},
   "outputs": [
    {
     "data": {
      "text/html": [
       "<div>\n",
       "<style scoped>\n",
       "    .dataframe tbody tr th:only-of-type {\n",
       "        vertical-align: middle;\n",
       "    }\n",
       "\n",
       "    .dataframe tbody tr th {\n",
       "        vertical-align: top;\n",
       "    }\n",
       "\n",
       "    .dataframe thead th {\n",
       "        text-align: right;\n",
       "    }\n",
       "</style>\n",
       "<table border=\"1\" class=\"dataframe\">\n",
       "  <thead>\n",
       "    <tr style=\"text-align: right;\">\n",
       "      <th></th>\n",
       "      <th>id</th>\n",
       "      <th>valid</th>\n",
       "      <th>classification_system</th>\n",
       "      <th>cell_type</th>\n",
       "      <th>pt_supervoxel_id</th>\n",
       "      <th>pt_root_id</th>\n",
       "      <th>pt_position</th>\n",
       "    </tr>\n",
       "  </thead>\n",
       "  <tbody>\n",
       "    <tr>\n",
       "      <th>0</th>\n",
       "      <td>485509</td>\n",
       "      <td>t</td>\n",
       "      <td>aibs_coarse_excitatory</td>\n",
       "      <td>excitatory</td>\n",
       "      <td>103588564537113366</td>\n",
       "      <td>864691136740606812</td>\n",
       "      <td>[282608, 103808, 20318]</td>\n",
       "    </tr>\n",
       "    <tr>\n",
       "      <th>1</th>\n",
       "      <td>113721</td>\n",
       "      <td>t</td>\n",
       "      <td>aibs_coarse_excitatory</td>\n",
       "      <td>excitatory</td>\n",
       "      <td>79951332685465031</td>\n",
       "      <td>864691135366988025</td>\n",
       "      <td>[110208, 153664, 23546]</td>\n",
       "    </tr>\n",
       "    <tr>\n",
       "      <th>2</th>\n",
       "      <td>263203</td>\n",
       "      <td>t</td>\n",
       "      <td>aibs_coarse_excitatory</td>\n",
       "      <td>excitatory</td>\n",
       "      <td>87694643458256575</td>\n",
       "      <td>864691135181741826</td>\n",
       "      <td>[166512, 174176, 24523]</td>\n",
       "    </tr>\n",
       "    <tr>\n",
       "      <th>3</th>\n",
       "      <td>456177</td>\n",
       "      <td>t</td>\n",
       "      <td>aibs_coarse_excitatory</td>\n",
       "      <td>excitatory</td>\n",
       "      <td>102677963354799688</td>\n",
       "      <td>864691135337690598</td>\n",
       "      <td>[275616, 135120, 24873]</td>\n",
       "    </tr>\n",
       "    <tr>\n",
       "      <th>4</th>\n",
       "      <td>364447</td>\n",
       "      <td>t</td>\n",
       "      <td>aibs_coarse_excitatory</td>\n",
       "      <td>excitatory</td>\n",
       "      <td>94449079618306553</td>\n",
       "      <td>864691136883828334</td>\n",
       "      <td>[216064, 166800, 15025]</td>\n",
       "    </tr>\n",
       "  </tbody>\n",
       "</table>\n",
       "</div>"
      ],
      "text/plain": [
       "       id valid   classification_system   cell_type    pt_supervoxel_id  \\\n",
       "0  485509     t  aibs_coarse_excitatory  excitatory  103588564537113366   \n",
       "1  113721     t  aibs_coarse_excitatory  excitatory   79951332685465031   \n",
       "2  263203     t  aibs_coarse_excitatory  excitatory   87694643458256575   \n",
       "3  456177     t  aibs_coarse_excitatory  excitatory  102677963354799688   \n",
       "4  364447     t  aibs_coarse_excitatory  excitatory   94449079618306553   \n",
       "\n",
       "           pt_root_id              pt_position  \n",
       "0  864691136740606812  [282608, 103808, 20318]  \n",
       "1  864691135366988025  [110208, 153664, 23546]  \n",
       "2  864691135181741826  [166512, 174176, 24523]  \n",
       "3  864691135337690598  [275616, 135120, 24873]  \n",
       "4  864691136883828334  [216064, 166800, 15025]  "
      ]
     },
     "execution_count": 16,
     "metadata": {},
     "output_type": "execute_result"
    }
   ],
   "source": [
    "ct = client.materialize.query_table('allen_soma_ei_class_model_v1')\n",
    "ct.head()"
   ]
  },
  {
   "cell_type": "code",
   "execution_count": 17,
   "metadata": {},
   "outputs": [
    {
     "data": {
      "text/plain": [
       "array(['excitatory', 'inhibitory'], dtype=object)"
      ]
     },
     "execution_count": 17,
     "metadata": {},
     "output_type": "execute_result"
    }
   ],
   "source": [
    "ct.cell_type.unique()"
   ]
  },
  {
   "cell_type": "raw",
   "metadata": {
    "raw_mimetype": "text/restructuredtext",
    "tags": []
   },
   "source": [
    "Looks like at this point there is only a rather coarse public classification. Nevertheless, let's fetch a couple excitatory and inhibitory neurons:"
   ]
  },
  {
   "cell_type": "code",
   "execution_count": 25,
   "metadata": {},
   "outputs": [
    {
     "data": {
      "text/html": [
       "<div>\n",
       "<style scoped>\n",
       "    .dataframe tbody tr th:only-of-type {\n",
       "        vertical-align: middle;\n",
       "    }\n",
       "\n",
       "    .dataframe tbody tr th {\n",
       "        vertical-align: top;\n",
       "    }\n",
       "\n",
       "    .dataframe thead th {\n",
       "        text-align: right;\n",
       "    }\n",
       "</style>\n",
       "<table border=\"1\" class=\"dataframe\">\n",
       "  <thead>\n",
       "    <tr style=\"text-align: right;\">\n",
       "      <th></th>\n",
       "      <th>id</th>\n",
       "      <th>valid</th>\n",
       "      <th>pt_supervoxel_id</th>\n",
       "      <th>pt_root_id</th>\n",
       "      <th>valid_id</th>\n",
       "      <th>status_dendrite</th>\n",
       "      <th>status_axon</th>\n",
       "      <th>pt_position</th>\n",
       "    </tr>\n",
       "  </thead>\n",
       "  <tbody>\n",
       "    <tr>\n",
       "      <th>0</th>\n",
       "      <td>1</td>\n",
       "      <td>t</td>\n",
       "      <td>89529934389098311</td>\n",
       "      <td>864691136296964635</td>\n",
       "      <td>864691136296964635</td>\n",
       "      <td>extended</td>\n",
       "      <td>non</td>\n",
       "      <td>[179808, 216672, 23361]</td>\n",
       "    </tr>\n",
       "    <tr>\n",
       "      <th>1</th>\n",
       "      <td>2</td>\n",
       "      <td>t</td>\n",
       "      <td>90584228533843146</td>\n",
       "      <td>864691136311986237</td>\n",
       "      <td>864691136311986237</td>\n",
       "      <td>extended</td>\n",
       "      <td>non</td>\n",
       "      <td>[187840, 207232, 22680]</td>\n",
       "    </tr>\n",
       "    <tr>\n",
       "      <th>2</th>\n",
       "      <td>3</td>\n",
       "      <td>t</td>\n",
       "      <td>89528353773943370</td>\n",
       "      <td>864691135355207119</td>\n",
       "      <td>864691135355207119</td>\n",
       "      <td>extended</td>\n",
       "      <td>non</td>\n",
       "      <td>[180016, 204592, 22798]</td>\n",
       "    </tr>\n",
       "    <tr>\n",
       "      <th>3</th>\n",
       "      <td>4</td>\n",
       "      <td>t</td>\n",
       "      <td>91077153340676495</td>\n",
       "      <td>864691135355207375</td>\n",
       "      <td>864691135355207375</td>\n",
       "      <td>extended</td>\n",
       "      <td>non</td>\n",
       "      <td>[191424, 209888, 22845]</td>\n",
       "    </tr>\n",
       "    <tr>\n",
       "      <th>4</th>\n",
       "      <td>5</td>\n",
       "      <td>t</td>\n",
       "      <td>88897234233461709</td>\n",
       "      <td>864691136422983727</td>\n",
       "      <td>864691136422983727</td>\n",
       "      <td>extended</td>\n",
       "      <td>non</td>\n",
       "      <td>[175248, 220944, 23561]</td>\n",
       "    </tr>\n",
       "  </tbody>\n",
       "</table>\n",
       "</div>"
      ],
      "text/plain": [
       "   id valid   pt_supervoxel_id          pt_root_id            valid_id  \\\n",
       "0   1     t  89529934389098311  864691136296964635  864691136296964635   \n",
       "1   2     t  90584228533843146  864691136311986237  864691136311986237   \n",
       "2   3     t  89528353773943370  864691135355207119  864691135355207119   \n",
       "3   4     t  91077153340676495  864691135355207375  864691135355207375   \n",
       "4   5     t  88897234233461709  864691136422983727  864691136422983727   \n",
       "\n",
       "  status_dendrite status_axon              pt_position  \n",
       "0        extended         non  [179808, 216672, 23361]  \n",
       "1        extended         non  [187840, 207232, 22680]  \n",
       "2        extended         non  [180016, 204592, 22798]  \n",
       "3        extended         non  [191424, 209888, 22845]  \n",
       "4        extended         non  [175248, 220944, 23561]  "
      ]
     },
     "execution_count": 25,
     "metadata": {},
     "output_type": "execute_result"
    }
   ],
   "source": [
    "# Fetch proof-reading status\n",
    "pr = client.materialize.query_table('proofreading_status_public_release')\n",
    "pr.head()"
   ]
  },
  {
   "cell_type": "code",
   "execution_count": 29,
   "metadata": {},
   "outputs": [
    {
     "data": {
      "text/plain": [
       "(167, 7)"
      ]
     },
     "execution_count": 29,
     "metadata": {},
     "output_type": "execute_result"
    }
   ],
   "source": [
    "# Subset to those neurons that have been proof read\n",
    "proofread = pr[pr.status_dendrite.isin(['extented', 'clean']) & pr.status_axon.isin(['extented', 'clean'])].pt_root_id.values\n",
    "\n",
    "ct = ct[ct.pt_root_id.isin(proofread)]\n",
    "ct.shape"
   ]
  },
  {
   "cell_type": "code",
   "execution_count": 30,
   "metadata": {},
   "outputs": [],
   "source": [
    "# Pick 20 \"root IDs\" (sometimes also called segment IDs) each\n",
    "inh_ids = ct[ct.cell_type == 'inhibitory'].pt_root_id.values[: 20]\n",
    "exc_ids = ct[ct.cell_type == 'excitatory'].pt_root_id.values[: 20]"
   ]
  },
  {
   "cell_type": "raw",
   "metadata": {
    "raw_mimetype": "text/restructuredtext",
    "tags": []
   },
   "source": [
    "Next, we will fetch the meshes including the synapses for these neurons:"
   ]
  },
  {
   "cell_type": "code",
   "execution_count": 33,
   "metadata": {},
   "outputs": [
    {
     "data": {
      "application/vnd.jupyter.widget-view+json": {
       "model_id": "",
       "version_major": 2,
       "version_minor": 0
      },
      "text/plain": [
       "Fetching:   0%|          | 0/20 [00:00<?, ?it/s]"
      ]
     },
     "metadata": {},
     "output_type": "display_data"
    },
    {
     "data": {
      "application/vnd.jupyter.widget-view+json": {
       "model_id": "",
       "version_major": 2,
       "version_minor": 0
      },
      "text/plain": [
       "Fetching:   0%|          | 0/20 [00:00<?, ?it/s]"
      ]
     },
     "metadata": {},
     "output_type": "display_data"
    },
    {
     "data": {
      "text/html": [
       "&lt;class 'navis.core.neuronlist.NeuronList'&gt; containing 20 neurons (64.4MiB)<div>\n",
       "<style scoped>\n",
       "    .dataframe tbody tr th:only-of-type {\n",
       "        vertical-align: middle;\n",
       "    }\n",
       "\n",
       "    .dataframe tbody tr th {\n",
       "        vertical-align: top;\n",
       "    }\n",
       "\n",
       "    .dataframe thead th {\n",
       "        text-align: right;\n",
       "    }\n",
       "</style>\n",
       "<table border=\"1\" class=\"dataframe\">\n",
       "  <thead>\n",
       "    <tr style=\"text-align: right;\">\n",
       "      <th></th>\n",
       "      <th>type</th>\n",
       "      <th>name</th>\n",
       "      <th>id</th>\n",
       "      <th>units</th>\n",
       "      <th>n_vertices</th>\n",
       "      <th>n_faces</th>\n",
       "    </tr>\n",
       "  </thead>\n",
       "  <tbody>\n",
       "    <tr>\n",
       "      <th>0</th>\n",
       "      <td>navis.MeshNeuron</td>\n",
       "      <td>None</td>\n",
       "      <td>864691135700443515</td>\n",
       "      <td>1 nanometer</td>\n",
       "      <td>59139</td>\n",
       "      <td>120939</td>\n",
       "    </tr>\n",
       "    <tr>\n",
       "      <th>1</th>\n",
       "      <td>navis.MeshNeuron</td>\n",
       "      <td>None</td>\n",
       "      <td>864691135974528623</td>\n",
       "      <td>1 nanometer</td>\n",
       "      <td>31271</td>\n",
       "      <td>64092</td>\n",
       "    </tr>\n",
       "    <tr>\n",
       "      <th>...</th>\n",
       "      <td>...</td>\n",
       "      <td>...</td>\n",
       "      <td>...</td>\n",
       "      <td>...</td>\n",
       "      <td>...</td>\n",
       "      <td>...</td>\n",
       "    </tr>\n",
       "    <tr>\n",
       "      <th>18</th>\n",
       "      <td>navis.MeshNeuron</td>\n",
       "      <td>None</td>\n",
       "      <td>864691135446864980</td>\n",
       "      <td>1 nanometer</td>\n",
       "      <td>64187</td>\n",
       "      <td>131427</td>\n",
       "    </tr>\n",
       "    <tr>\n",
       "      <th>19</th>\n",
       "      <td>navis.MeshNeuron</td>\n",
       "      <td>None</td>\n",
       "      <td>864691135428608048</td>\n",
       "      <td>1 nanometer</td>\n",
       "      <td>82187</td>\n",
       "      <td>168650</td>\n",
       "    </tr>\n",
       "  </tbody>\n",
       "</table>\n",
       "</div>"
      ],
      "text/plain": [
       "<class 'navis.core.neuronlist.NeuronList'> containing 20 neurons (64.4MiB)\n",
       "                type  name                  id        units  n_vertices  \\\n",
       "0   navis.MeshNeuron  None  864691135700443515  1 nanometer       59139   \n",
       "1   navis.MeshNeuron  None  864691135974528623  1 nanometer       31271   \n",
       "..               ...   ...                 ...          ...         ...   \n",
       "18  navis.MeshNeuron  None  864691135446864980  1 nanometer       64187   \n",
       "19  navis.MeshNeuron  None  864691135428608048  1 nanometer       82187   \n",
       "\n",
       "    n_faces  \n",
       "0    120939  \n",
       "1     64092  \n",
       "..      ...  \n",
       "18   131427  \n",
       "19   168650  "
      ]
     },
     "execution_count": 33,
     "metadata": {},
     "output_type": "execute_result"
    }
   ],
   "source": [
    "# Fetch neurons\n",
    "inh = mi.fetch_neurons(inh_ids, lod=3)\n",
    "exc = mi.fetch_neurons(exc_ids, lod=3)\n",
    "\n",
    "# Inspect\n",
    "inh"
   ]
  },
  {
   "cell_type": "raw",
   "metadata": {},
   "source": [
    "These neurons are fairly large despite us using a large ``lod`` (level of detail, higher = coarser). For visualization of such large meshes it can be useful to simplify them a little. For this, you need either ``open3d`` (``pip3 install open3d``), ``pymeshlab`` (``pip3 install pymeshlab``) or Blender 3D on your computer."
   ]
  },
  {
   "cell_type": "code",
   "execution_count": 37,
   "metadata": {},
   "outputs": [
    {
     "data": {
      "text/html": [
       "&lt;class 'navis.core.neuronlist.NeuronList'&gt; containing 20 neurons (22.0MiB)<div>\n",
       "<style scoped>\n",
       "    .dataframe tbody tr th:only-of-type {\n",
       "        vertical-align: middle;\n",
       "    }\n",
       "\n",
       "    .dataframe tbody tr th {\n",
       "        vertical-align: top;\n",
       "    }\n",
       "\n",
       "    .dataframe thead th {\n",
       "        text-align: right;\n",
       "    }\n",
       "</style>\n",
       "<table border=\"1\" class=\"dataframe\">\n",
       "  <thead>\n",
       "    <tr style=\"text-align: right;\">\n",
       "      <th></th>\n",
       "      <th>type</th>\n",
       "      <th>name</th>\n",
       "      <th>id</th>\n",
       "      <th>units</th>\n",
       "      <th>n_vertices</th>\n",
       "      <th>n_faces</th>\n",
       "    </tr>\n",
       "  </thead>\n",
       "  <tbody>\n",
       "    <tr>\n",
       "      <th>0</th>\n",
       "      <td>navis.MeshNeuron</td>\n",
       "      <td>None</td>\n",
       "      <td>864691135700443515</td>\n",
       "      <td>1 nanometer</td>\n",
       "      <td>23082</td>\n",
       "      <td>40313</td>\n",
       "    </tr>\n",
       "    <tr>\n",
       "      <th>1</th>\n",
       "      <td>navis.MeshNeuron</td>\n",
       "      <td>None</td>\n",
       "      <td>864691135974528623</td>\n",
       "      <td>1 nanometer</td>\n",
       "      <td>12688</td>\n",
       "      <td>21364</td>\n",
       "    </tr>\n",
       "    <tr>\n",
       "      <th>...</th>\n",
       "      <td>...</td>\n",
       "      <td>...</td>\n",
       "      <td>...</td>\n",
       "      <td>...</td>\n",
       "      <td>...</td>\n",
       "      <td>...</td>\n",
       "    </tr>\n",
       "    <tr>\n",
       "      <th>18</th>\n",
       "      <td>navis.MeshNeuron</td>\n",
       "      <td>None</td>\n",
       "      <td>864691135446864980</td>\n",
       "      <td>1 nanometer</td>\n",
       "      <td>25401</td>\n",
       "      <td>43809</td>\n",
       "    </tr>\n",
       "    <tr>\n",
       "      <th>19</th>\n",
       "      <td>navis.MeshNeuron</td>\n",
       "      <td>None</td>\n",
       "      <td>864691135428608048</td>\n",
       "      <td>1 nanometer</td>\n",
       "      <td>32873</td>\n",
       "      <td>56215</td>\n",
       "    </tr>\n",
       "  </tbody>\n",
       "</table>\n",
       "</div>"
      ],
      "text/plain": [
       "<class 'navis.core.neuronlist.NeuronList'> containing 20 neurons (22.0MiB)\n",
       "                type  name                  id        units  n_vertices  \\\n",
       "0   navis.MeshNeuron  None  864691135700443515  1 nanometer       23082   \n",
       "1   navis.MeshNeuron  None  864691135974528623  1 nanometer       12688   \n",
       "..               ...   ...                 ...          ...         ...   \n",
       "18  navis.MeshNeuron  None  864691135446864980  1 nanometer       25401   \n",
       "19  navis.MeshNeuron  None  864691135428608048  1 nanometer       32873   \n",
       "\n",
       "    n_faces  \n",
       "0     40313  \n",
       "1     21364  \n",
       "..      ...  \n",
       "18    43809  \n",
       "19    56215  "
      ]
     },
     "execution_count": 37,
     "metadata": {},
     "output_type": "execute_result"
    }
   ],
   "source": [
    "# Reduce face counts to 1/3 of original\n",
    "inh_ds = navis.simplify_mesh(inh, F=1/3)\n",
    "exc_ds = navis.simplify_mesh(exc, F=1/3)\n",
    "\n",
    "# Inspect (note the lower face/vertex counts)\n",
    "inh_ds"
   ]
  },
  {
   "cell_type": "raw",
   "metadata": {
    "raw_mimetype": "text/restructuredtext",
    "tags": []
   },
   "source": [
    "Let's visualize the neurons before running analyses"
   ]
  },
  {
   "cell_type": "code",
   "execution_count": null,
   "metadata": {},
   "outputs": [],
   "source": [
    "# Create some colors: reds for excitatory, blue for inhibitory\n",
    "import seaborn as sns\n",
    "colors = {n.id: sns.color_palette('Reds', len(exc))[i] for i, n in enumerate(exc)}\n",
    "colors.update({n.id: sns.color_palette('Blues', len(inh))[i] for i, n in enumerate(inh)})\n",
    "\n",
    "# Plot the first 10 neurons each\n",
    "fig = navis.plot3d([inh_ds[:10], exc_ds[:10]], color=colors)"
   ]
  },
  {
   "cell_type": "raw",
   "metadata": {
    "raw_mimetype": "text/restructuredtext",
    "tags": []
   },
   "source": [
    ".. raw:: html\n",
    "   :file: figures/3d_microns.html\n",
    "   \n",
    "|\n",
    "|\n",
    "|\n",
    "|   \n",
    "\n",
    "Note that some of these neurons look truncated - we need to keep that in mind when running our analyses! \n",
    "\n",
    "First, let's check cable length. For this, we need to roughly skeletonize these meshes:"
   ]
  },
  {
   "cell_type": "code",
   "execution_count": 49,
   "metadata": {},
   "outputs": [
    {
     "data": {
      "application/vnd.jupyter.widget-view+json": {
       "model_id": "",
       "version_major": 2,
       "version_minor": 0
      },
      "text/plain": [
       "Skeletonizing:   0%|          | 0/20 [00:00<?, ?it/s]"
      ]
     },
     "metadata": {},
     "output_type": "display_data"
    },
    {
     "data": {
      "application/vnd.jupyter.widget-view+json": {
       "model_id": "",
       "version_major": 2,
       "version_minor": 0
      },
      "text/plain": [
       "Skeletonizing:   0%|          | 0/20 [00:00<?, ?it/s]"
      ]
     },
     "metadata": {},
     "output_type": "display_data"
    },
    {
     "data": {
      "text/html": [
       "&lt;class 'navis.core.neuronlist.NeuronList'&gt; containing 20 neurons (14.9MiB)<div>\n",
       "<style scoped>\n",
       "    .dataframe tbody tr th:only-of-type {\n",
       "        vertical-align: middle;\n",
       "    }\n",
       "\n",
       "    .dataframe tbody tr th {\n",
       "        vertical-align: top;\n",
       "    }\n",
       "\n",
       "    .dataframe thead th {\n",
       "        text-align: right;\n",
       "    }\n",
       "</style>\n",
       "<table border=\"1\" class=\"dataframe\">\n",
       "  <thead>\n",
       "    <tr style=\"text-align: right;\">\n",
       "      <th></th>\n",
       "      <th>type</th>\n",
       "      <th>name</th>\n",
       "      <th>id</th>\n",
       "      <th>n_nodes</th>\n",
       "      <th>n_connectors</th>\n",
       "      <th>n_branches</th>\n",
       "      <th>n_leafs</th>\n",
       "      <th>cable_length</th>\n",
       "      <th>soma</th>\n",
       "      <th>units</th>\n",
       "    </tr>\n",
       "  </thead>\n",
       "  <tbody>\n",
       "    <tr>\n",
       "      <th>0</th>\n",
       "      <td>navis.TreeNeuron</td>\n",
       "      <td>None</td>\n",
       "      <td>864691135700443515</td>\n",
       "      <td>14557</td>\n",
       "      <td>None</td>\n",
       "      <td>353</td>\n",
       "      <td>430</td>\n",
       "      <td>2.273385e+07</td>\n",
       "      <td>7978</td>\n",
       "      <td>1 nanometer</td>\n",
       "    </tr>\n",
       "    <tr>\n",
       "      <th>1</th>\n",
       "      <td>navis.TreeNeuron</td>\n",
       "      <td>None</td>\n",
       "      <td>864691135974528623</td>\n",
       "      <td>7643</td>\n",
       "      <td>None</td>\n",
       "      <td>312</td>\n",
       "      <td>335</td>\n",
       "      <td>1.208148e+07</td>\n",
       "      <td>4073</td>\n",
       "      <td>1 nanometer</td>\n",
       "    </tr>\n",
       "    <tr>\n",
       "      <th>...</th>\n",
       "      <td>...</td>\n",
       "      <td>...</td>\n",
       "      <td>...</td>\n",
       "      <td>...</td>\n",
       "      <td>...</td>\n",
       "      <td>...</td>\n",
       "      <td>...</td>\n",
       "      <td>...</td>\n",
       "      <td>...</td>\n",
       "      <td>...</td>\n",
       "    </tr>\n",
       "    <tr>\n",
       "      <th>18</th>\n",
       "      <td>navis.TreeNeuron</td>\n",
       "      <td>None</td>\n",
       "      <td>864691135446864980</td>\n",
       "      <td>15049</td>\n",
       "      <td>None</td>\n",
       "      <td>382</td>\n",
       "      <td>433</td>\n",
       "      <td>2.369541e+07</td>\n",
       "      <td>6270</td>\n",
       "      <td>1 nanometer</td>\n",
       "    </tr>\n",
       "    <tr>\n",
       "      <th>19</th>\n",
       "      <td>navis.TreeNeuron</td>\n",
       "      <td>None</td>\n",
       "      <td>864691135428608048</td>\n",
       "      <td>20007</td>\n",
       "      <td>None</td>\n",
       "      <td>584</td>\n",
       "      <td>648</td>\n",
       "      <td>3.176056e+07</td>\n",
       "      <td>9397</td>\n",
       "      <td>1 nanometer</td>\n",
       "    </tr>\n",
       "  </tbody>\n",
       "</table>\n",
       "</div>"
      ],
      "text/plain": [
       "<class 'navis.core.neuronlist.NeuronList'> containing 20 neurons (14.9MiB)\n",
       "                type  name                  id  n_nodes n_connectors  \\\n",
       "0   navis.TreeNeuron  None  864691135700443515    14557         None   \n",
       "1   navis.TreeNeuron  None  864691135974528623     7643         None   \n",
       "..               ...   ...                 ...      ...          ...   \n",
       "18  navis.TreeNeuron  None  864691135446864980    15049         None   \n",
       "19  navis.TreeNeuron  None  864691135428608048    20007         None   \n",
       "\n",
       "    n_branches  n_leafs  cable_length  soma        units  \n",
       "0          893      430  2.273385e+07  7978  1 nanometer  \n",
       "1          683      335  1.208148e+07  4073  1 nanometer  \n",
       "..         ...      ...           ...   ...          ...  \n",
       "18        1124      433  2.369541e+07  6270  1 nanometer  \n",
       "19        1422      648  3.176056e+07  9397  1 nanometer  "
      ]
     },
     "execution_count": 49,
     "metadata": {},
     "output_type": "execute_result"
    }
   ],
   "source": [
    "inh_sk = navis.skeletonize(inh, parallel=True)\n",
    "exc_sk = navis.skeletonize(exc, parallel=True)\n",
    "\n",
    "# Inspect \n",
    "inh_sk"
   ]
  },
  {
   "cell_type": "code",
   "execution_count": 52,
   "metadata": {},
   "outputs": [],
   "source": [
    "# Plot one example (zoom in for details)\n",
    "fig = navis.plot3d([inh_sk[0], inh[0]], color=[(1, 0, 0), (1, 1, 1, .5)])"
   ]
  },
  {
   "cell_type": "raw",
   "metadata": {},
   "source": [
    ".. raw:: html\n",
    "   :file: figures/3d_microns_skeleton.html\n",
    "   \n",
    "|\n",
    "|\n",
    "|\n",
    "|   \n",
    "\n",
    "That looks reasonable! Now we can compare cable lengths and other stats:"
   ]
  },
  {
   "cell_type": "code",
   "execution_count": 55,
   "metadata": {},
   "outputs": [
    {
     "data": {
      "text/html": [
       "<div>\n",
       "<style scoped>\n",
       "    .dataframe tbody tr th:only-of-type {\n",
       "        vertical-align: middle;\n",
       "    }\n",
       "\n",
       "    .dataframe tbody tr th {\n",
       "        vertical-align: top;\n",
       "    }\n",
       "\n",
       "    .dataframe thead th {\n",
       "        text-align: right;\n",
       "    }\n",
       "</style>\n",
       "<table border=\"1\" class=\"dataframe\">\n",
       "  <thead>\n",
       "    <tr style=\"text-align: right;\">\n",
       "      <th></th>\n",
       "      <th>type</th>\n",
       "      <th>name</th>\n",
       "      <th>id</th>\n",
       "      <th>n_nodes</th>\n",
       "      <th>n_connectors</th>\n",
       "      <th>n_branches</th>\n",
       "      <th>n_leafs</th>\n",
       "      <th>cable_length</th>\n",
       "      <th>soma</th>\n",
       "      <th>units</th>\n",
       "    </tr>\n",
       "  </thead>\n",
       "  <tbody>\n",
       "    <tr>\n",
       "      <th>0</th>\n",
       "      <td>inhibitory</td>\n",
       "      <td>None</td>\n",
       "      <td>864691135700443515</td>\n",
       "      <td>14557</td>\n",
       "      <td>None</td>\n",
       "      <td>353</td>\n",
       "      <td>430</td>\n",
       "      <td>2.273385e+07</td>\n",
       "      <td>7978</td>\n",
       "      <td>1 nanometer</td>\n",
       "    </tr>\n",
       "    <tr>\n",
       "      <th>1</th>\n",
       "      <td>inhibitory</td>\n",
       "      <td>None</td>\n",
       "      <td>864691135974528623</td>\n",
       "      <td>7643</td>\n",
       "      <td>None</td>\n",
       "      <td>312</td>\n",
       "      <td>335</td>\n",
       "      <td>1.208148e+07</td>\n",
       "      <td>4073</td>\n",
       "      <td>1 nanometer</td>\n",
       "    </tr>\n",
       "    <tr>\n",
       "      <th>2</th>\n",
       "      <td>inhibitory</td>\n",
       "      <td>None</td>\n",
       "      <td>864691135113360025</td>\n",
       "      <td>9893</td>\n",
       "      <td>None</td>\n",
       "      <td>262</td>\n",
       "      <td>317</td>\n",
       "      <td>1.565088e+07</td>\n",
       "      <td>6036</td>\n",
       "      <td>1 nanometer</td>\n",
       "    </tr>\n",
       "    <tr>\n",
       "      <th>3</th>\n",
       "      <td>inhibitory</td>\n",
       "      <td>None</td>\n",
       "      <td>864691135994731946</td>\n",
       "      <td>6008</td>\n",
       "      <td>None</td>\n",
       "      <td>470</td>\n",
       "      <td>193</td>\n",
       "      <td>9.496682e+06</td>\n",
       "      <td>3768</td>\n",
       "      <td>1 nanometer</td>\n",
       "    </tr>\n",
       "    <tr>\n",
       "      <th>4</th>\n",
       "      <td>inhibitory</td>\n",
       "      <td>None</td>\n",
       "      <td>864691136521811345</td>\n",
       "      <td>3174</td>\n",
       "      <td>None</td>\n",
       "      <td>280</td>\n",
       "      <td>115</td>\n",
       "      <td>5.027150e+06</td>\n",
       "      <td>2008</td>\n",
       "      <td>1 nanometer</td>\n",
       "    </tr>\n",
       "  </tbody>\n",
       "</table>\n",
       "</div>"
      ],
      "text/plain": [
       "         type  name                  id  n_nodes n_connectors  n_branches  \\\n",
       "0  inhibitory  None  864691135700443515    14557         None         353   \n",
       "1  inhibitory  None  864691135974528623     7643         None         312   \n",
       "2  inhibitory  None  864691135113360025     9893         None         262   \n",
       "3  inhibitory  None  864691135994731946     6008         None         470   \n",
       "4  inhibitory  None  864691136521811345     3174         None         280   \n",
       "\n",
       "   n_leafs  cable_length  soma        units  \n",
       "0      430  2.273385e+07  7978  1 nanometer  \n",
       "1      335  1.208148e+07  4073  1 nanometer  \n",
       "2      317  1.565088e+07  6036  1 nanometer  \n",
       "3      193  9.496682e+06  3768  1 nanometer  \n",
       "4      115  5.027150e+06  2008  1 nanometer  "
      ]
     },
     "execution_count": 55,
     "metadata": {},
     "output_type": "execute_result"
    }
   ],
   "source": [
    "# Create a combined DataFrame \n",
    "import pandas as pd \n",
    "\n",
    "inh_stats = inh_sk.summary()\n",
    "inh_stats['type'] = 'inhibitory'\n",
    "\n",
    "exc_stats = exc_sk.summary()\n",
    "exc_stats['type'] = 'excitatory'\n",
    "\n",
    "stats = pd.concat([inh_stats, exc_stats], axis=0)\n",
    "stats.head()"
   ]
  },
  {
   "cell_type": "code",
   "execution_count": 91,
   "metadata": {},
   "outputs": [
    {
     "data": {
      "image/png": "[encoded data removed]",
      "text/plain": [
       "<Figure size 1080x360 with 3 Axes>"
      ]
     },
     "metadata": {
      "needs_background": "dark"
     },
     "output_type": "display_data"
    }
   ],
   "source": [
    "import matplotlib.pyplot as plt\n",
    "\n",
    "sns.set_color_codes('muted')\n",
    "plt.style.use('dark_background')\n",
    "\n",
    "fig, axes = plt.subplots(1, 3, figsize=(15, 5))\n",
    "fig.patch.set_color((0,0,0,0))\n",
    "\n",
    "for col, label, ax in zip(['cable_length', 'n_branches', 'n_leafs'],\n",
    "                          ['cable length  [nm]', '# of branch points', '# of leafs (tips)'],\n",
    "                          axes):\n",
    "    sns.boxplot(data=stats, y=col, x='type', ax=ax, palette=['b', 'r'])\n",
    "    ax.set_ylabel(label)\n",
    "    ax.set_xlabel('')\n",
    "    ax.patch.set_color((0,0,0,0))\n",
    "    \n",
    "sns.despine(trim=True)"
   ]
  },
  {
   "cell_type": "raw",
   "metadata": {
    "raw_mimetype": "text/restructuredtext",
    "tags": []
   },
   "source": [
    "Again take this with a grain of salt since we only sample 20 neurons each and it looked like there was a bias towards inhibitory neuron being more likely truncated! However, based on the above analysis inhibitory neurons are larger and branch less compared with excitatory cortical neurons."
   ]
  }
 ],
 "metadata": {
  "kernelspec": {
   "display_name": "Python 3",
   "language": "python",
   "name": "python3"
  },
  "language_info": {
   "codemirror_mode": {
    "name": "ipython",
    "version": 3
   },
   "file_extension": ".py",
   "mimetype": "text/x-python",
   "name": "python",
   "nbconvert_exporter": "python",
   "pygments_lexer": "ipython3",
   "version": "3.7.5"
  },
  "widgets": {
   "application/vnd.jupyter.widget-state+json": {
    "state": {
     "01bcb11af32d423fa1e97b4f06576aac": {
      "model_module": "@jupyter-widgets/base",
      "model_module_version": "1.2.0",
      "model_name": "LayoutModel",
      "state": {}
     },
     "050141a12fe34766bc9375c88f1b51ad": {
      "model_module": "@jupyter-widgets/base",
      "model_module_version": "1.2.0",
      "model_name": "LayoutModel",
      "state": {}
     },
     "059e825ac8f04bdb96366b7bf56e897c": {
      "model_module": "@jupyter-widgets/controls",
      "model_module_version": "1.5.0",
      "model_name": "ProgressStyleModel",
      "state": {
       "description_width": ""
      }
     },
     "063abf648e3f4c86b9d93557b5ee810d": {
      "model_module": "@jupyter-widgets/base",
      "model_module_version": "1.2.0",
      "model_name": "LayoutModel",
      "state": {}
     },
     "067ba42220f547668068054106dfe05f": {
      "model_module": "@jupyter-widgets/base",
      "model_module_version": "1.2.0",
      "model_name": "LayoutModel",
      "state": {}
     },
     "0a46f168177344d296a68fa353138c53": {
      "model_module": "@jupyter-widgets/base",
      "model_module_version": "1.2.0",
      "model_name": "LayoutModel",
      "state": {}
     },
     "0daf7d5807c841139648b4c9e92d9dab": {
      "model_module": "@jupyter-widgets/controls",
      "model_module_version": "1.5.0",
      "model_name": "ProgressStyleModel",
      "state": {
       "description_width": ""
      }
     },
     "0e439c64e55246b9989cae498275d896": {
      "model_module": "@jupyter-widgets/controls",
      "model_module_version": "1.5.0",
      "model_name": "ProgressStyleModel",
      "state": {
       "description_width": ""
      }
     },
     "0f7c4b468981490fb60c63923fd817aa": {
      "model_module": "@jupyter-widgets/base",
      "model_module_version": "1.2.0",
      "model_name": "LayoutModel",
      "state": {}
     },
     "102f8275802046659b913c57573e810f": {
      "model_module": "@jupyter-widgets/controls",
      "model_module_version": "1.5.0",
      "model_name": "FloatProgressModel",
      "state": {
       "layout": "IPY_MODEL_ee4e2a7aab1f48ebb943de5af5a4f7a8",
       "max": 20,
       "style": "IPY_MODEL_3c620319bace42429cbbf40b2ccce39a",
       "value": 20
      }
     },
     "126f1226bcf143a3883ade318679b1f0": {
      "model_module": "@jupyter-widgets/controls",
      "model_module_version": "1.5.0",
      "model_name": "DescriptionStyleModel",
      "state": {
       "description_width": ""
      }
     },
     "1535ddcec6574345bfa1525d6d480959": {
      "model_module": "@jupyter-widgets/controls",
      "model_module_version": "1.5.0",
      "model_name": "HTMLModel",
      "state": {
       "layout": "IPY_MODEL_77e8a6d7e64045328d5e34e580d77856",
       "style": "IPY_MODEL_665821cccc6e473e9a7cd3951780986e",
       "value": " 20/20 [00:10&lt;00:00,  1.29it/s]"
      }
     },
     "161dcce978ae44f793726d0774701637": {
      "model_module": "@jupyter-widgets/controls",
      "model_module_version": "1.5.0",
      "model_name": "ProgressStyleModel",
      "state": {
       "description_width": ""
      }
     },
     "1711f37b3ad34c2a940b28dd90036e68": {
      "model_module": "@jupyter-widgets/base",
      "model_module_version": "1.2.0",
      "model_name": "LayoutModel",
      "state": {}
     },
     "1742ca8406c245668db4d63d060294a3": {
      "model_module": "@jupyter-widgets/controls",
      "model_module_version": "1.5.0",
      "model_name": "HTMLModel",
      "state": {
       "layout": "IPY_MODEL_d2401a9313144b9fa0ac502a54341200",
       "style": "IPY_MODEL_3e6656778fca4a67b93e799d6aca4b01",
       "value": " 19/20 [00:08&lt;00:00,  2.88it/s]"
      }
     },
     "1c85c580d44945278ae17eb17360ca2d": {
      "model_module": "@jupyter-widgets/base",
      "model_module_version": "1.2.0",
      "model_name": "LayoutModel",
      "state": {}
     },
     "208ac0961d8d4c68b7629d67bc8d4464": {
      "model_module": "@jupyter-widgets/controls",
      "model_module_version": "1.5.0",
      "model_name": "HTMLModel",
      "state": {
       "layout": "IPY_MODEL_063abf648e3f4c86b9d93557b5ee810d",
       "style": "IPY_MODEL_52802a462a6643c0b503c15dd579f6d8",
       "value": "Skeletonizing: 100%"
      }
     },
     "2091610fbf154960a97baaa78140042b": {
      "model_module": "@jupyter-widgets/base",
      "model_module_version": "1.2.0",
      "model_name": "LayoutModel",
      "state": {}
     },
     "25b6b333189b4fc5ab97d420516f25f4": {
      "model_module": "@jupyter-widgets/controls",
      "model_module_version": "1.5.0",
      "model_name": "ProgressStyleModel",
      "state": {
       "description_width": ""
      }
     },
     "26ad67613bcb4d3995674dea9c842017": {
      "model_module": "@jupyter-widgets/controls",
      "model_module_version": "1.5.0",
      "model_name": "DescriptionStyleModel",
      "state": {
       "description_width": ""
      }
     },
     "2771977c3c6144f7bda456fb80260660": {
      "model_module": "@jupyter-widgets/controls",
      "model_module_version": "1.5.0",
      "model_name": "HTMLModel",
      "state": {
       "layout": "IPY_MODEL_5faa7dc1c2db4abc95ecc263d7ac8c24",
       "style": "IPY_MODEL_fa416c70b07a471c9afba64c888a52b4",
       "value": " 20/20 [01:02&lt;00:00,  3.40s/it]"
      }
     },
     "2c27af4ce0d444cf9464edac9f830035": {
      "model_module": "@jupyter-widgets/controls",
      "model_module_version": "1.5.0",
      "model_name": "DescriptionStyleModel",
      "state": {
       "description_width": ""
      }
     },
     "2c4e0f5ebd6b47248417a77c5b9b6264": {
      "model_module": "@jupyter-widgets/controls",
      "model_module_version": "1.5.0",
      "model_name": "FloatProgressModel",
      "state": {
       "layout": "IPY_MODEL_df5b7d1c30a644ae877611033d66c49b",
       "max": 20,
       "style": "IPY_MODEL_d5c21032ee164b15b269c5d920493914",
       "value": 20
      }
     },
     "305986892642408fa22084a299288e36": {
      "model_module": "@jupyter-widgets/base",
      "model_module_version": "1.2.0",
      "model_name": "LayoutModel",
      "state": {}
     },
     "341ff7c22cf14155a3949233649dc477": {
      "model_module": "@jupyter-widgets/controls",
      "model_module_version": "1.5.0",
      "model_name": "DescriptionStyleModel",
      "state": {
       "description_width": ""
      }
     },
     "36a44c671b6f4b32accade362c3a6dfe": {
      "model_module": "@jupyter-widgets/controls",
      "model_module_version": "1.5.0",
      "model_name": "HTMLModel",
      "state": {
       "layout": "IPY_MODEL_6477b3ed7546447089c2c3a47f635f47",
       "style": "IPY_MODEL_384807df179b4487b9ec8145abccd0c9",
       "value": " 20/20 [00:11&lt;00:00,  1.91it/s]"
      }
     },
     "384807df179b4487b9ec8145abccd0c9": {
      "model_module": "@jupyter-widgets/controls",
      "model_module_version": "1.5.0",
      "model_name": "DescriptionStyleModel",
      "state": {
       "description_width": ""
      }
     },
     "3a6cc7ae1e91497287b9d18ce126412f": {
      "model_module": "@jupyter-widgets/base",
      "model_module_version": "1.2.0",
      "model_name": "LayoutModel",
      "state": {}
     },
     "3c620319bace42429cbbf40b2ccce39a": {
      "model_module": "@jupyter-widgets/controls",
      "model_module_version": "1.5.0",
      "model_name": "ProgressStyleModel",
      "state": {
       "description_width": ""
      }
     },
     "3cab508fc09d4b70a31225215a28e02b": {
      "model_module": "@jupyter-widgets/controls",
      "model_module_version": "1.5.0",
      "model_name": "HBoxModel",
      "state": {
       "children": [
        "IPY_MODEL_dc5f811fde98466d93cd90f483c500de",
        "IPY_MODEL_fb8ec9eb762041da8a98e333e010a514",
        "IPY_MODEL_4b6e0ebe41cb43fcb0d79b70e0280c64"
       ],
       "layout": "IPY_MODEL_5c2859817196427a855d397ad47a0e92"
      }
     },
     "3d3327250b564fe9adbbad18b148959b": {
      "model_module": "@jupyter-widgets/controls",
      "model_module_version": "1.5.0",
      "model_name": "ProgressStyleModel",
      "state": {
       "description_width": ""
      }
     },
     "3e6656778fca4a67b93e799d6aca4b01": {
      "model_module": "@jupyter-widgets/controls",
      "model_module_version": "1.5.0",
      "model_name": "DescriptionStyleModel",
      "state": {
       "description_width": ""
      }
     },
     "417ad72c8609425ba4ea1d66309ec413": {
      "model_module": "@jupyter-widgets/controls",
      "model_module_version": "1.5.0",
      "model_name": "HTMLModel",
      "state": {
       "layout": "IPY_MODEL_f80d14fb21ba4e519712c525e7e35782",
       "style": "IPY_MODEL_d0e8b58cfca64e84af078967b8a4f306",
       "value": " 20/20 [00:34&lt;00:00,  1.76s/it]"
      }
     },
     "41ac674d38ca4c9aa6c9ea5d00b7535f": {
      "model_module": "@jupyter-widgets/controls",
      "model_module_version": "1.5.0",
      "model_name": "DescriptionStyleModel",
      "state": {
       "description_width": ""
      }
     },
     "45a2fecbed8544b7a1f3f1e335ede955": {
      "model_module": "@jupyter-widgets/base",
      "model_module_version": "1.2.0",
      "model_name": "LayoutModel",
      "state": {}
     },
     "4a6513a03c3e4ef19972b5903724ec89": {
      "model_module": "@jupyter-widgets/controls",
      "model_module_version": "1.5.0",
      "model_name": "HTMLModel",
      "state": {
       "layout": "IPY_MODEL_b36c4995d45b41bea339802e679baecc",
       "style": "IPY_MODEL_a4a244091ba7422983c1a70e39d86594",
       "value": "Fetching: 100%"
      }
     },
     "4b27d4e807ad4898afa54343b047d4d7": {
      "model_module": "@jupyter-widgets/base",
      "model_module_version": "1.2.0",
      "model_name": "LayoutModel",
      "state": {}
     },
     "4b6e0ebe41cb43fcb0d79b70e0280c64": {
      "model_module": "@jupyter-widgets/controls",
      "model_module_version": "1.5.0",
      "model_name": "HTMLModel",
      "state": {
       "layout": "IPY_MODEL_01bcb11af32d423fa1e97b4f06576aac",
       "style": "IPY_MODEL_126f1226bcf143a3883ade318679b1f0",
       "value": " 8/20 [00:18&lt;00:25,  2.12s/it]"
      }
     },
     "4bef876894ca4b66b3373bda8a509ff2": {
      "model_module": "@jupyter-widgets/controls",
      "model_module_version": "1.5.0",
      "model_name": "DescriptionStyleModel",
      "state": {
       "description_width": ""
      }
     },
     "4cc7933e63384b51acaeb6d66b7556e0": {
      "model_module": "@jupyter-widgets/controls",
      "model_module_version": "1.5.0",
      "model_name": "HTMLModel",
      "state": {
       "layout": "IPY_MODEL_4dc025d42526406f98766b763031e40b",
       "style": "IPY_MODEL_f73a289c6a924dfb883c17261a2b195d",
       "value": "Smoothing: 100%"
      }
     },
     "4dc025d42526406f98766b763031e40b": {
      "model_module": "@jupyter-widgets/base",
      "model_module_version": "1.2.0",
      "model_name": "LayoutModel",
      "state": {}
     },
     "500e5b233dfe4122a5df70baa647234a": {
      "model_module": "@jupyter-widgets/controls",
      "model_module_version": "1.5.0",
      "model_name": "DescriptionStyleModel",
      "state": {
       "description_width": ""
      }
     },
     "52802a462a6643c0b503c15dd579f6d8": {
      "model_module": "@jupyter-widgets/controls",
      "model_module_version": "1.5.0",
      "model_name": "DescriptionStyleModel",
      "state": {
       "description_width": ""
      }
     },
     "55202fbefc9d46bf9eb748b32258facd": {
      "model_module": "@jupyter-widgets/controls",
      "model_module_version": "1.5.0",
      "model_name": "ProgressStyleModel",
      "state": {
       "description_width": ""
      }
     },
     "5a1875f1690044cb91b3ece97374c9a1": {
      "model_module": "@jupyter-widgets/base",
      "model_module_version": "1.2.0",
      "model_name": "LayoutModel",
      "state": {}
     },
     "5a34455b067d4ae880c420c1c9094e68": {
      "model_module": "@jupyter-widgets/controls",
      "model_module_version": "1.5.0",
      "model_name": "HTMLModel",
      "state": {
       "layout": "IPY_MODEL_de7382569f70446c9a2884ecac4a49f9",
       "style": "IPY_MODEL_81ca29807fec4b83afceafdc2cc7e83d",
       "value": "Skeletonizing:  95%"
      }
     },
     "5b0fe514aefc40bf8ce020e159d4dd7b": {
      "model_module": "@jupyter-widgets/controls",
      "model_module_version": "1.5.0",
      "model_name": "ProgressStyleModel",
      "state": {
       "description_width": ""
      }
     },
     "5c2859817196427a855d397ad47a0e92": {
      "model_module": "@jupyter-widgets/base",
      "model_module_version": "1.2.0",
      "model_name": "LayoutModel",
      "state": {}
     },
     "5faa7dc1c2db4abc95ecc263d7ac8c24": {
      "model_module": "@jupyter-widgets/base",
      "model_module_version": "1.2.0",
      "model_name": "LayoutModel",
      "state": {}
     },
     "62fbef1367be4f1788579121939dcd8e": {
      "model_module": "@jupyter-widgets/base",
      "model_module_version": "1.2.0",
      "model_name": "LayoutModel",
      "state": {}
     },
     "63d8440c25c64ac993f372966ccad0f4": {
      "model_module": "@jupyter-widgets/controls",
      "model_module_version": "1.5.0",
      "model_name": "HTMLModel",
      "state": {
       "layout": "IPY_MODEL_84be0dbb08a5449e96f988c22fdc7ac4",
       "style": "IPY_MODEL_edf59775068b4f35a3013609ca594f47",
       "value": "Fetching: 100%"
      }
     },
     "64517747182841129cbb690a4f99d489": {
      "model_module": "@jupyter-widgets/controls",
      "model_module_version": "1.5.0",
      "model_name": "FloatProgressModel",
      "state": {
       "layout": "IPY_MODEL_305986892642408fa22084a299288e36",
       "max": 20,
       "style": "IPY_MODEL_c9543e787f734975bca48769fbf2bd39",
       "value": 20
      }
     },
     "6477b3ed7546447089c2c3a47f635f47": {
      "model_module": "@jupyter-widgets/base",
      "model_module_version": "1.2.0",
      "model_name": "LayoutModel",
      "state": {}
     },
     "65ff89325d9a45b9bbbbe3e8e9118cf9": {
      "model_module": "@jupyter-widgets/controls",
      "model_module_version": "1.5.0",
      "model_name": "FloatProgressModel",
      "state": {
       "layout": "IPY_MODEL_afe038e270f44ec4be75d5670c58a068",
       "max": 20,
       "style": "IPY_MODEL_161dcce978ae44f793726d0774701637",
       "value": 20
      }
     },
     "665821cccc6e473e9a7cd3951780986e": {
      "model_module": "@jupyter-widgets/controls",
      "model_module_version": "1.5.0",
      "model_name": "DescriptionStyleModel",
      "state": {
       "description_width": ""
      }
     },
     "6689ef77e2f34e5e8ee5b9157413ba28": {
      "model_module": "@jupyter-widgets/controls",
      "model_module_version": "1.5.0",
      "model_name": "FloatProgressModel",
      "state": {
       "layout": "IPY_MODEL_e08110dccc22474b9353a53076361998",
       "max": 20,
       "style": "IPY_MODEL_55202fbefc9d46bf9eb748b32258facd",
       "value": 20
      }
     },
     "67d04c9d219441ff8b97508e9cd432a5": {
      "model_module": "@jupyter-widgets/base",
      "model_module_version": "1.2.0",
      "model_name": "LayoutModel",
      "state": {}
     },
     "6c7870509d2f4fdda48fc76a44459726": {
      "model_module": "@jupyter-widgets/base",
      "model_module_version": "1.2.0",
      "model_name": "LayoutModel",
      "state": {}
     },
     "6c9f07cd5b2b4c718dbded6204008617": {
      "model_module": "@jupyter-widgets/base",
      "model_module_version": "1.2.0",
      "model_name": "LayoutModel",
      "state": {}
     },
     "71e34b5d61c74da09d874c2ddbc95c92": {
      "model_module": "@jupyter-widgets/controls",
      "model_module_version": "1.5.0",
      "model_name": "HTMLModel",
      "state": {
       "layout": "IPY_MODEL_99797dffef904083956ea0227ad4d849",
       "style": "IPY_MODEL_ceddb4674f634287b2cbd15cf587df91",
       "value": " 20/20 [00:11&lt;00:00,  1.37it/s]"
      }
     },
     "72043f150683456f86e6bce6b2ad2662": {
      "model_module": "@jupyter-widgets/base",
      "model_module_version": "1.2.0",
      "model_name": "LayoutModel",
      "state": {}
     },
     "76f925cd9a984ffb85c651e3316941f9": {
      "model_module": "@jupyter-widgets/base",
      "model_module_version": "1.2.0",
      "model_name": "LayoutModel",
      "state": {}
     },
     "77e8a6d7e64045328d5e34e580d77856": {
      "model_module": "@jupyter-widgets/base",
      "model_module_version": "1.2.0",
      "model_name": "LayoutModel",
      "state": {}
     },
     "7d4e8ad2802144fcbe5975b88a946fc6": {
      "model_module": "@jupyter-widgets/controls",
      "model_module_version": "1.5.0",
      "model_name": "ProgressStyleModel",
      "state": {
       "description_width": ""
      }
     },
     "7daaf1110298444c89a5ed26ae04ce9e": {
      "model_module": "@jupyter-widgets/base",
      "model_module_version": "1.2.0",
      "model_name": "LayoutModel",
      "state": {}
     },
     "7f2dfe6428014ed3899882f560f5af0d": {
      "model_module": "@jupyter-widgets/controls",
      "model_module_version": "1.5.0",
      "model_name": "DescriptionStyleModel",
      "state": {
       "description_width": ""
      }
     },
     "8075782449924e1f980375117d7cb1b6": {
      "model_module": "@jupyter-widgets/controls",
      "model_module_version": "1.5.0",
      "model_name": "HTMLModel",
      "state": {
       "layout": "IPY_MODEL_7daaf1110298444c89a5ed26ae04ce9e",
       "style": "IPY_MODEL_341ff7c22cf14155a3949233649dc477",
       "value": " 20/20 [00:16&lt;00:00,  1.28s/it]"
      }
     },
     "81043f846e1545deac8ea128ea321c94": {
      "model_module": "@jupyter-widgets/base",
      "model_module_version": "1.2.0",
      "model_name": "LayoutModel",
      "state": {}
     },
     "81ca29807fec4b83afceafdc2cc7e83d": {
      "model_module": "@jupyter-widgets/controls",
      "model_module_version": "1.5.0",
      "model_name": "DescriptionStyleModel",
      "state": {
       "description_width": ""
      }
     },
     "84be0dbb08a5449e96f988c22fdc7ac4": {
      "model_module": "@jupyter-widgets/base",
      "model_module_version": "1.2.0",
      "model_name": "LayoutModel",
      "state": {}
     },
     "879a5ff586db42e1af86fe21e0af6f6e": {
      "model_module": "@jupyter-widgets/controls",
      "model_module_version": "1.5.0",
      "model_name": "HTMLModel",
      "state": {
       "layout": "IPY_MODEL_b61e8e26f18d4f14b63af0ca09ac6264",
       "style": "IPY_MODEL_d771b6eccfb746a1ba1eebea44aaa2a5",
       "value": " 20/20 [00:18&lt;00:00,  1.24s/it]"
      }
     },
     "8db7c55b91964e05804212e24e32289d": {
      "model_module": "@jupyter-widgets/controls",
      "model_module_version": "1.5.0",
      "model_name": "HTMLModel",
      "state": {
       "layout": "IPY_MODEL_1c85c580d44945278ae17eb17360ca2d",
       "style": "IPY_MODEL_97d6f8baa6724f4aba6148f464152aa8",
       "value": "Fetching: 100%"
      }
     },
     "97d6f8baa6724f4aba6148f464152aa8": {
      "model_module": "@jupyter-widgets/controls",
      "model_module_version": "1.5.0",
      "model_name": "DescriptionStyleModel",
      "state": {
       "description_width": ""
      }
     },
     "9887e54a8eea45e79850793fca7c7bd5": {
      "model_module": "@jupyter-widgets/controls",
      "model_module_version": "1.5.0",
      "model_name": "HTMLModel",
      "state": {
       "layout": "IPY_MODEL_9bdcc8a1f48c46e2be0f9ba146d1f6bd",
       "style": "IPY_MODEL_a1eb52bae0304e769340856a3717fdd2",
       "value": " 20/20 [01:12&lt;00:00,  8.31s/it]"
      }
     },
     "99797dffef904083956ea0227ad4d849": {
      "model_module": "@jupyter-widgets/base",
      "model_module_version": "1.2.0",
      "model_name": "LayoutModel",
      "state": {}
     },
     "9bdcc8a1f48c46e2be0f9ba146d1f6bd": {
      "model_module": "@jupyter-widgets/base",
      "model_module_version": "1.2.0",
      "model_name": "LayoutModel",
      "state": {}
     },
     "9bed91918ce94aee8beec94edf33485f": {
      "model_module": "@jupyter-widgets/controls",
      "model_module_version": "1.5.0",
      "model_name": "HTMLModel",
      "state": {
       "layout": "IPY_MODEL_b3214fc2b4b7409998ae22d1714f535e",
       "style": "IPY_MODEL_ecc5e496c84d4e71b94b1e8999780e40",
       "value": "Fetching: 100%"
      }
     },
     "9cc27eaeca0e4f2bb0ee4a594ac60f17": {
      "model_module": "@jupyter-widgets/controls",
      "model_module_version": "1.5.0",
      "model_name": "FloatProgressModel",
      "state": {
       "layout": "IPY_MODEL_3a6cc7ae1e91497287b9d18ce126412f",
       "max": 20,
       "style": "IPY_MODEL_0e439c64e55246b9989cae498275d896",
       "value": 20
      }
     },
     "9f22529d088847d2a297334236fa1af8": {
      "model_module": "@jupyter-widgets/controls",
      "model_module_version": "1.5.0",
      "model_name": "FloatProgressModel",
      "state": {
       "layout": "IPY_MODEL_0f7c4b468981490fb60c63923fd817aa",
       "max": 20,
       "style": "IPY_MODEL_059e825ac8f04bdb96366b7bf56e897c",
       "value": 20
      }
     },
     "a095fb306676453681a5cc06cdcec3a3": {
      "model_module": "@jupyter-widgets/base",
      "model_module_version": "1.2.0",
      "model_name": "LayoutModel",
      "state": {}
     },
     "a1eb52bae0304e769340856a3717fdd2": {
      "model_module": "@jupyter-widgets/controls",
      "model_module_version": "1.5.0",
      "model_name": "DescriptionStyleModel",
      "state": {
       "description_width": ""
      }
     },
     "a4a244091ba7422983c1a70e39d86594": {
      "model_module": "@jupyter-widgets/controls",
      "model_module_version": "1.5.0",
      "model_name": "DescriptionStyleModel",
      "state": {
       "description_width": ""
      }
     },
     "a52b9394726c48f0bbf251d179da6212": {
      "model_module": "@jupyter-widgets/controls",
      "model_module_version": "1.5.0",
      "model_name": "FloatProgressModel",
      "state": {
       "layout": "IPY_MODEL_72043f150683456f86e6bce6b2ad2662",
       "max": 20,
       "style": "IPY_MODEL_3d3327250b564fe9adbbad18b148959b",
       "value": 20
      }
     },
     "a96ea332e206482c8b938a661d2d6427": {
      "model_module": "@jupyter-widgets/base",
      "model_module_version": "1.2.0",
      "model_name": "LayoutModel",
      "state": {}
     },
     "ab1c28ec546a49c8924aa34089061804": {
      "model_module": "@jupyter-widgets/base",
      "model_module_version": "1.2.0",
      "model_name": "LayoutModel",
      "state": {}
     },
     "afe038e270f44ec4be75d5670c58a068": {
      "model_module": "@jupyter-widgets/base",
      "model_module_version": "1.2.0",
      "model_name": "LayoutModel",
      "state": {}
     },
     "b0a5670f62ee469bb000fc3dc4da34d4": {
      "model_module": "@jupyter-widgets/controls",
      "model_module_version": "1.5.0",
      "model_name": "HTMLModel",
      "state": {
       "layout": "IPY_MODEL_45a2fecbed8544b7a1f3f1e335ede955",
       "style": "IPY_MODEL_f93166bf2d014b97a01b90e98c44853b",
       "value": "Fetching: 100%"
      }
     },
     "b2621faca79b4268ba24b74c70d0d447": {
      "model_module": "@jupyter-widgets/controls",
      "model_module_version": "1.5.0",
      "model_name": "FloatProgressModel",
      "state": {
       "layout": "IPY_MODEL_ebb8e4b8bea74caa93b68f30c3cb94f2",
       "max": 20,
       "style": "IPY_MODEL_25b6b333189b4fc5ab97d420516f25f4",
       "value": 20
      }
     },
     "b2bb944bb6ff47d09196811cbab75f42": {
      "model_module": "@jupyter-widgets/base",
      "model_module_version": "1.2.0",
      "model_name": "LayoutModel",
      "state": {}
     },
     "b3214fc2b4b7409998ae22d1714f535e": {
      "model_module": "@jupyter-widgets/base",
      "model_module_version": "1.2.0",
      "model_name": "LayoutModel",
      "state": {}
     },
     "b364e690240b4ac6ba138128896257ef": {
      "model_module": "@jupyter-widgets/controls",
      "model_module_version": "1.5.0",
      "model_name": "DescriptionStyleModel",
      "state": {
       "description_width": ""
      }
     },
     "b36c4995d45b41bea339802e679baecc": {
      "model_module": "@jupyter-widgets/base",
      "model_module_version": "1.2.0",
      "model_name": "LayoutModel",
      "state": {}
     },
     "b61e8e26f18d4f14b63af0ca09ac6264": {
      "model_module": "@jupyter-widgets/base",
      "model_module_version": "1.2.0",
      "model_name": "LayoutModel",
      "state": {}
     },
     "b7c8a9f450d842a1bdd587c4afb01120": {
      "model_module": "@jupyter-widgets/base",
      "model_module_version": "1.2.0",
      "model_name": "LayoutModel",
      "state": {}
     },
     "b8fc4cd2db5f4541a44ea8c6b2c92079": {
      "model_module": "@jupyter-widgets/base",
      "model_module_version": "1.2.0",
      "model_name": "LayoutModel",
      "state": {}
     },
     "bde758496ddd4cfeae0e04683f0b665b": {
      "model_module": "@jupyter-widgets/controls",
      "model_module_version": "1.5.0",
      "model_name": "HTMLModel",
      "state": {
       "layout": "IPY_MODEL_de06fcf2c65b4f12bbcae3603c68e3a2",
       "style": "IPY_MODEL_4bef876894ca4b66b3373bda8a509ff2",
       "value": " 20/20 [00:14&lt;00:00,  1.73it/s]"
      }
     },
     "c3abd79e6b054be78cf2f21533cebcf3": {
      "model_module": "@jupyter-widgets/controls",
      "model_module_version": "1.5.0",
      "model_name": "FloatProgressModel",
      "state": {
       "layout": "IPY_MODEL_67d04c9d219441ff8b97508e9cd432a5",
       "max": 20,
       "style": "IPY_MODEL_0daf7d5807c841139648b4c9e92d9dab",
       "value": 20
      }
     },
     "c4399085d3f5485d9bbdb39b52bb49b4": {
      "model_module": "@jupyter-widgets/controls",
      "model_module_version": "1.5.0",
      "model_name": "FloatProgressModel",
      "state": {
       "layout": "IPY_MODEL_f804e8bbd18f41caab09caef64ce09f7",
       "max": 20,
       "style": "IPY_MODEL_7d4e8ad2802144fcbe5975b88a946fc6",
       "value": 20
      }
     },
     "c76edbe377c0438bb58d6d503d50f553": {
      "model_module": "@jupyter-widgets/base",
      "model_module_version": "1.2.0",
      "model_name": "LayoutModel",
      "state": {}
     },
     "c9543e787f734975bca48769fbf2bd39": {
      "model_module": "@jupyter-widgets/controls",
      "model_module_version": "1.5.0",
      "model_name": "ProgressStyleModel",
      "state": {
       "description_width": ""
      }
     },
     "ce3328b1ce084f359fc487ca39d29116": {
      "model_module": "@jupyter-widgets/controls",
      "model_module_version": "1.5.0",
      "model_name": "HTMLModel",
      "state": {
       "layout": "IPY_MODEL_ab1c28ec546a49c8924aa34089061804",
       "style": "IPY_MODEL_b364e690240b4ac6ba138128896257ef",
       "value": "Smoothing: 100%"
      }
     },
     "ceddb4674f634287b2cbd15cf587df91": {
      "model_module": "@jupyter-widgets/controls",
      "model_module_version": "1.5.0",
      "model_name": "DescriptionStyleModel",
      "state": {
       "description_width": ""
      }
     },
     "d0e8b58cfca64e84af078967b8a4f306": {
      "model_module": "@jupyter-widgets/controls",
      "model_module_version": "1.5.0",
      "model_name": "DescriptionStyleModel",
      "state": {
       "description_width": ""
      }
     },
     "d2401a9313144b9fa0ac502a54341200": {
      "model_module": "@jupyter-widgets/base",
      "model_module_version": "1.2.0",
      "model_name": "LayoutModel",
      "state": {}
     },
     "d5c21032ee164b15b269c5d920493914": {
      "model_module": "@jupyter-widgets/controls",
      "model_module_version": "1.5.0",
      "model_name": "ProgressStyleModel",
      "state": {
       "description_width": ""
      }
     },
     "d771b6eccfb746a1ba1eebea44aaa2a5": {
      "model_module": "@jupyter-widgets/controls",
      "model_module_version": "1.5.0",
      "model_name": "DescriptionStyleModel",
      "state": {
       "description_width": ""
      }
     },
     "d960ab0413ac433ca691c8083705f66e": {
      "model_module": "@jupyter-widgets/controls",
      "model_module_version": "1.5.0",
      "model_name": "HTMLModel",
      "state": {
       "layout": "IPY_MODEL_4b27d4e807ad4898afa54343b047d4d7",
       "style": "IPY_MODEL_e59e98f118f7498b96549b2a8d89b443",
       "value": "Fetching: 100%"
      }
     },
     "dc5f811fde98466d93cd90f483c500de": {
      "model_module": "@jupyter-widgets/controls",
      "model_module_version": "1.5.0",
      "model_name": "HTMLModel",
      "state": {
       "layout": "IPY_MODEL_6c7870509d2f4fdda48fc76a44459726",
       "style": "IPY_MODEL_500e5b233dfe4122a5df70baa647234a",
       "value": "Skeletonizing:  40%"
      }
     },
     "de06fcf2c65b4f12bbcae3603c68e3a2": {
      "model_module": "@jupyter-widgets/base",
      "model_module_version": "1.2.0",
      "model_name": "LayoutModel",
      "state": {}
     },
     "de7382569f70446c9a2884ecac4a49f9": {
      "model_module": "@jupyter-widgets/base",
      "model_module_version": "1.2.0",
      "model_name": "LayoutModel",
      "state": {}
     },
     "df5b7d1c30a644ae877611033d66c49b": {
      "model_module": "@jupyter-widgets/base",
      "model_module_version": "1.2.0",
      "model_name": "LayoutModel",
      "state": {}
     },
     "e02dcf8ef7c1475a965cad6fd8f34988": {
      "model_module": "@jupyter-widgets/controls",
      "model_module_version": "1.5.0",
      "model_name": "HTMLModel",
      "state": {
       "layout": "IPY_MODEL_050141a12fe34766bc9375c88f1b51ad",
       "style": "IPY_MODEL_7f2dfe6428014ed3899882f560f5af0d",
       "value": " 20/20 [00:34&lt;00:00,  2.90s/it]"
      }
     },
     "e08110dccc22474b9353a53076361998": {
      "model_module": "@jupyter-widgets/base",
      "model_module_version": "1.2.0",
      "model_name": "LayoutModel",
      "state": {}
     },
     "e43e05b444dd41a2807d3c558027cf09": {
      "model_module": "@jupyter-widgets/controls",
      "model_module_version": "1.5.0",
      "model_name": "HTMLModel",
      "state": {
       "layout": "IPY_MODEL_62fbef1367be4f1788579121939dcd8e",
       "style": "IPY_MODEL_41ac674d38ca4c9aa6c9ea5d00b7535f",
       "value": "Fetching: 100%"
      }
     },
     "e59e98f118f7498b96549b2a8d89b443": {
      "model_module": "@jupyter-widgets/controls",
      "model_module_version": "1.5.0",
      "model_name": "DescriptionStyleModel",
      "state": {
       "description_width": ""
      }
     },
     "ebb8e4b8bea74caa93b68f30c3cb94f2": {
      "model_module": "@jupyter-widgets/base",
      "model_module_version": "1.2.0",
      "model_name": "LayoutModel",
      "state": {}
     },
     "ecc5e496c84d4e71b94b1e8999780e40": {
      "model_module": "@jupyter-widgets/controls",
      "model_module_version": "1.5.0",
      "model_name": "DescriptionStyleModel",
      "state": {
       "description_width": ""
      }
     },
     "ed73a92cf21640d69c185cd3e5a6f5fd": {
      "model_module": "@jupyter-widgets/base",
      "model_module_version": "1.2.0",
      "model_name": "LayoutModel",
      "state": {}
     },
     "edf59775068b4f35a3013609ca594f47": {
      "model_module": "@jupyter-widgets/controls",
      "model_module_version": "1.5.0",
      "model_name": "DescriptionStyleModel",
      "state": {
       "description_width": ""
      }
     },
     "ee4e2a7aab1f48ebb943de5af5a4f7a8": {
      "model_module": "@jupyter-widgets/base",
      "model_module_version": "1.2.0",
      "model_name": "LayoutModel",
      "state": {}
     },
     "f2aa78ee26f84dcc920f2f67bef9b674": {
      "model_module": "@jupyter-widgets/controls",
      "model_module_version": "1.5.0",
      "model_name": "HTMLModel",
      "state": {
       "layout": "IPY_MODEL_a095fb306676453681a5cc06cdcec3a3",
       "style": "IPY_MODEL_26ad67613bcb4d3995674dea9c842017",
       "value": " 20/20 [00:12&lt;00:00,  1.37it/s]"
      }
     },
     "f2ece8626376492285d64c823ee5a1a1": {
      "model_module": "@jupyter-widgets/controls",
      "model_module_version": "1.5.0",
      "model_name": "ProgressStyleModel",
      "state": {
       "description_width": ""
      }
     },
     "f346b2fdcae74ac08fdf4ca6170121fe": {
      "model_module": "@jupyter-widgets/controls",
      "model_module_version": "1.5.0",
      "model_name": "HTMLModel",
      "state": {
       "layout": "IPY_MODEL_76f925cd9a984ffb85c651e3316941f9",
       "style": "IPY_MODEL_2c27af4ce0d444cf9464edac9f830035",
       "value": "Fetching: 100%"
      }
     },
     "f581af611b9c4c48b3534bd2829290f9": {
      "model_module": "@jupyter-widgets/controls",
      "model_module_version": "1.5.0",
      "model_name": "FloatProgressModel",
      "state": {
       "layout": "IPY_MODEL_f84d10866fb64d479ce537b8a3638991",
       "max": 20,
       "style": "IPY_MODEL_f2ece8626376492285d64c823ee5a1a1",
       "value": 20
      }
     },
     "f73a289c6a924dfb883c17261a2b195d": {
      "model_module": "@jupyter-widgets/controls",
      "model_module_version": "1.5.0",
      "model_name": "DescriptionStyleModel",
      "state": {
       "description_width": ""
      }
     },
     "f804e8bbd18f41caab09caef64ce09f7": {
      "model_module": "@jupyter-widgets/base",
      "model_module_version": "1.2.0",
      "model_name": "LayoutModel",
      "state": {}
     },
     "f80d14fb21ba4e519712c525e7e35782": {
      "model_module": "@jupyter-widgets/base",
      "model_module_version": "1.2.0",
      "model_name": "LayoutModel",
      "state": {}
     },
     "f84d10866fb64d479ce537b8a3638991": {
      "model_module": "@jupyter-widgets/base",
      "model_module_version": "1.2.0",
      "model_name": "LayoutModel",
      "state": {}
     },
     "f93166bf2d014b97a01b90e98c44853b": {
      "model_module": "@jupyter-widgets/controls",
      "model_module_version": "1.5.0",
      "model_name": "DescriptionStyleModel",
      "state": {
       "description_width": ""
      }
     },
     "fa416c70b07a471c9afba64c888a52b4": {
      "model_module": "@jupyter-widgets/controls",
      "model_module_version": "1.5.0",
      "model_name": "DescriptionStyleModel",
      "state": {
       "description_width": ""
      }
     },
     "fb8ec9eb762041da8a98e333e010a514": {
      "model_module": "@jupyter-widgets/controls",
      "model_module_version": "1.5.0",
      "model_name": "FloatProgressModel",
      "state": {
       "bar_style": "danger",
       "layout": "IPY_MODEL_ed73a92cf21640d69c185cd3e5a6f5fd",
       "max": 20,
       "style": "IPY_MODEL_5b0fe514aefc40bf8ce020e159d4dd7b",
       "value": 8
      }
     }
    },
    "version_major": 2,
    "version_minor": 0
   }
  }
 },
 "nbformat": 4,
 "nbformat_minor": 4
}
