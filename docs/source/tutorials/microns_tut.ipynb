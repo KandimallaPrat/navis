{
 "cells": [
  {
   "cell_type": "raw",
   "metadata": {
    "raw_mimetype": "text/restructuredtext",
    "tags": []
   },
   "source": [
    ".. _microns_tut:\n",
    "\n",
    "MICrONS Datasets\n",
    "****************\n",
    "\n",
    "The Allen Institute released two large connecotmics dataset:\n",
    "    1. A \"Cortical mm^3\" of mouse visual cortex (broken into two portions, \"65\" and \"35\")\n",
    "    2. A smaller \"Layer 2/3\" dataset of mouse visual cortex\n",
    "    \n",
    "Both of these can be browsed via the `MICrONS Explorer <https://www.microns-explorer.org/>`_ using neuroglancer. These data are public and thanks to the excellent ``cloud-volume`` and the ``caveclient`` libraries (developed by William Silversmith, Forrest Collman, Sven Dorkenwald, Casey Schneider-Mizell and others) we can easily fetch neurons and their connectivity. \n",
    "\n",
    "For easier interaction, `navis` ships with a small interface to these datasets. To use it, we will have to make sure ``caveclient`` (and with it ``cloud-volume``) is installed:\n",
    "\n",
    ".. code-block:: bash\n",
    "\n",
    "   pip3 install caveclient -U\n",
    "   \n",
    "The first time you run below code, you might have to get & set a client secret. Simply follow the instructions in the terminal and when in doubt, check out the section about authentication in the `docs <https://caveclient.readthedocs.io/en/latest/guide/authentication.html>`_.\n",
    "\n",
    "Let's get started:"
   ]
  },
  {
   "cell_type": "code",
   "execution_count": 1,
   "metadata": {},
   "outputs": [],
   "source": [
    "import navis\n",
    "import navis.interfaces.microns as mi"
   ]
  },
  {
   "cell_type": "raw",
   "metadata": {
    "raw_mimetype": "text/restructuredtext",
    "tags": []
   },
   "source": [
    "You will find that most functions in the interface accept a ``datastack`` parameter. At the time of writing, the available stacks are:\n",
    "\n",
    " - `cortex65` (also called \"minnie65\") is the anterior portion of the cortical mm^3 dataset\n",
    " - `cortex35` (also called \"minnie35\") is the (smaller) posterior portion of the cortical mm^3 dataset\n",
    " - `layer 2/3` (also called \"pinky100\") is the earlier, smaller cortical dataset \n",
    " \n",
    "If not specified, the default is `cortex65`! Let's start with some basic queries using ``caveclient``:"
   ]
  },
  {
   "cell_type": "code",
   "execution_count": 2,
   "metadata": {},
   "outputs": [
    {
     "data": {
      "text/plain": [
       "['nucleus_detection_v0',\n",
       " 'synapses_pni_2',\n",
       " 'nucleus_neuron_svm',\n",
       " 'proofreading_status_public_release',\n",
       " 'func_unit_em_match_release',\n",
       " 'allen_soma_ei_class_model_v1',\n",
       " 'allen_visp_column_soma_coarse_types_v1']"
      ]
     },
     "execution_count": 2,
     "metadata": {},
     "output_type": "execute_result"
    }
   ],
   "source": [
    "# Initialize the client for the 65 part of cortical mm^3 (i.e. \"Minnie\")\n",
    "client = mi.get_cave_client(datastack='cortex65')\n",
    "\n",
    "# Fetch available annotation tables\n",
    "client.materialize.get_tables()"
   ]
  },
  {
   "cell_type": "raw",
   "metadata": {
    "raw_mimetype": "text/restructuredtext",
    "tags": []
   },
   "source": [
    "These are the available public tables which we can use to fetch soma meta data. Let's check out `allen_soma_ei_class_model_v1`:"
   ]
  },
  {
   "cell_type": "code",
   "execution_count": 3,
   "metadata": {},
   "outputs": [
    {
     "data": {
      "text/html": [
       "<div>\n",
       "<style scoped>\n",
       "    .dataframe tbody tr th:only-of-type {\n",
       "        vertical-align: middle;\n",
       "    }\n",
       "\n",
       "    .dataframe tbody tr th {\n",
       "        vertical-align: top;\n",
       "    }\n",
       "\n",
       "    .dataframe thead th {\n",
       "        text-align: right;\n",
       "    }\n",
       "</style>\n",
       "<table border=\"1\" class=\"dataframe\">\n",
       "  <thead>\n",
       "    <tr style=\"text-align: right;\">\n",
       "      <th></th>\n",
       "      <th>id</th>\n",
       "      <th>valid</th>\n",
       "      <th>classification_system</th>\n",
       "      <th>cell_type</th>\n",
       "      <th>pt_supervoxel_id</th>\n",
       "      <th>pt_root_id</th>\n",
       "      <th>pt_position</th>\n",
       "    </tr>\n",
       "  </thead>\n",
       "  <tbody>\n",
       "    <tr>\n",
       "      <th>0</th>\n",
       "      <td>485509</td>\n",
       "      <td>t</td>\n",
       "      <td>aibs_coarse_excitatory</td>\n",
       "      <td>excitatory</td>\n",
       "      <td>103588564537113366</td>\n",
       "      <td>864691136740606812</td>\n",
       "      <td>[282608, 103808, 20318]</td>\n",
       "    </tr>\n",
       "    <tr>\n",
       "      <th>1</th>\n",
       "      <td>113721</td>\n",
       "      <td>t</td>\n",
       "      <td>aibs_coarse_excitatory</td>\n",
       "      <td>excitatory</td>\n",
       "      <td>79951332685465031</td>\n",
       "      <td>864691135366988025</td>\n",
       "      <td>[110208, 153664, 23546]</td>\n",
       "    </tr>\n",
       "    <tr>\n",
       "      <th>2</th>\n",
       "      <td>263203</td>\n",
       "      <td>t</td>\n",
       "      <td>aibs_coarse_excitatory</td>\n",
       "      <td>excitatory</td>\n",
       "      <td>87694643458256575</td>\n",
       "      <td>864691135181741826</td>\n",
       "      <td>[166512, 174176, 24523]</td>\n",
       "    </tr>\n",
       "    <tr>\n",
       "      <th>3</th>\n",
       "      <td>456177</td>\n",
       "      <td>t</td>\n",
       "      <td>aibs_coarse_excitatory</td>\n",
       "      <td>excitatory</td>\n",
       "      <td>102677963354799688</td>\n",
       "      <td>864691135337690598</td>\n",
       "      <td>[275616, 135120, 24873]</td>\n",
       "    </tr>\n",
       "    <tr>\n",
       "      <th>4</th>\n",
       "      <td>364447</td>\n",
       "      <td>t</td>\n",
       "      <td>aibs_coarse_excitatory</td>\n",
       "      <td>excitatory</td>\n",
       "      <td>94449079618306553</td>\n",
       "      <td>864691136883828334</td>\n",
       "      <td>[216064, 166800, 15025]</td>\n",
       "    </tr>\n",
       "  </tbody>\n",
       "</table>\n",
       "</div>"
      ],
      "text/plain": [
       "       id valid   classification_system   cell_type    pt_supervoxel_id  \\\n",
       "0  485509     t  aibs_coarse_excitatory  excitatory  103588564537113366   \n",
       "1  113721     t  aibs_coarse_excitatory  excitatory   79951332685465031   \n",
       "2  263203     t  aibs_coarse_excitatory  excitatory   87694643458256575   \n",
       "3  456177     t  aibs_coarse_excitatory  excitatory  102677963354799688   \n",
       "4  364447     t  aibs_coarse_excitatory  excitatory   94449079618306553   \n",
       "\n",
       "           pt_root_id              pt_position  \n",
       "0  864691136740606812  [282608, 103808, 20318]  \n",
       "1  864691135366988025  [110208, 153664, 23546]  \n",
       "2  864691135181741826  [166512, 174176, 24523]  \n",
       "3  864691135337690598  [275616, 135120, 24873]  \n",
       "4  864691136883828334  [216064, 166800, 15025]  "
      ]
     },
     "execution_count": 3,
     "metadata": {},
     "output_type": "execute_result"
    }
   ],
   "source": [
    "ct = client.materialize.query_table('allen_soma_ei_class_model_v1')\n",
    "ct.head()"
   ]
  },
  {
   "cell_type": "code",
   "execution_count": 4,
   "metadata": {},
   "outputs": [
    {
     "data": {
      "text/plain": [
       "array(['excitatory', 'inhibitory'], dtype=object)"
      ]
     },
     "execution_count": 4,
     "metadata": {},
     "output_type": "execute_result"
    }
   ],
   "source": [
    "ct.cell_type.unique()"
   ]
  },
  {
   "cell_type": "raw",
   "metadata": {
    "raw_mimetype": "text/restructuredtext",
    "tags": []
   },
   "source": [
    "Looks like at this point there is only a rather coarse public classification. Nevertheless, let's fetch a couple excitatory and inhibitory neurons:"
   ]
  },
  {
   "cell_type": "code",
   "execution_count": 5,
   "metadata": {},
   "outputs": [
    {
     "data": {
      "text/html": [
       "<div>\n",
       "<style scoped>\n",
       "    .dataframe tbody tr th:only-of-type {\n",
       "        vertical-align: middle;\n",
       "    }\n",
       "\n",
       "    .dataframe tbody tr th {\n",
       "        vertical-align: top;\n",
       "    }\n",
       "\n",
       "    .dataframe thead th {\n",
       "        text-align: right;\n",
       "    }\n",
       "</style>\n",
       "<table border=\"1\" class=\"dataframe\">\n",
       "  <thead>\n",
       "    <tr style=\"text-align: right;\">\n",
       "      <th></th>\n",
       "      <th>id</th>\n",
       "      <th>valid</th>\n",
       "      <th>pt_supervoxel_id</th>\n",
       "      <th>pt_root_id</th>\n",
       "      <th>valid_id</th>\n",
       "      <th>status_dendrite</th>\n",
       "      <th>status_axon</th>\n",
       "      <th>pt_position</th>\n",
       "    </tr>\n",
       "  </thead>\n",
       "  <tbody>\n",
       "    <tr>\n",
       "      <th>0</th>\n",
       "      <td>1</td>\n",
       "      <td>t</td>\n",
       "      <td>89529934389098311</td>\n",
       "      <td>864691136296964635</td>\n",
       "      <td>864691136296964635</td>\n",
       "      <td>extended</td>\n",
       "      <td>non</td>\n",
       "      <td>[179808, 216672, 23361]</td>\n",
       "    </tr>\n",
       "    <tr>\n",
       "      <th>1</th>\n",
       "      <td>2</td>\n",
       "      <td>t</td>\n",
       "      <td>90584228533843146</td>\n",
       "      <td>864691136311986237</td>\n",
       "      <td>864691136311986237</td>\n",
       "      <td>extended</td>\n",
       "      <td>non</td>\n",
       "      <td>[187840, 207232, 22680]</td>\n",
       "    </tr>\n",
       "    <tr>\n",
       "      <th>2</th>\n",
       "      <td>3</td>\n",
       "      <td>t</td>\n",
       "      <td>89528353773943370</td>\n",
       "      <td>864691135355207119</td>\n",
       "      <td>864691135355207119</td>\n",
       "      <td>extended</td>\n",
       "      <td>non</td>\n",
       "      <td>[180016, 204592, 22798]</td>\n",
       "    </tr>\n",
       "    <tr>\n",
       "      <th>3</th>\n",
       "      <td>4</td>\n",
       "      <td>t</td>\n",
       "      <td>91077153340676495</td>\n",
       "      <td>864691135355207375</td>\n",
       "      <td>864691135355207375</td>\n",
       "      <td>extended</td>\n",
       "      <td>non</td>\n",
       "      <td>[191424, 209888, 22845]</td>\n",
       "    </tr>\n",
       "    <tr>\n",
       "      <th>4</th>\n",
       "      <td>5</td>\n",
       "      <td>t</td>\n",
       "      <td>88897234233461709</td>\n",
       "      <td>864691136422983727</td>\n",
       "      <td>864691136422983727</td>\n",
       "      <td>extended</td>\n",
       "      <td>non</td>\n",
       "      <td>[175248, 220944, 23561]</td>\n",
       "    </tr>\n",
       "  </tbody>\n",
       "</table>\n",
       "</div>"
      ],
      "text/plain": [
       "   id valid   pt_supervoxel_id          pt_root_id            valid_id  \\\n",
       "0   1     t  89529934389098311  864691136296964635  864691136296964635   \n",
       "1   2     t  90584228533843146  864691136311986237  864691136311986237   \n",
       "2   3     t  89528353773943370  864691135355207119  864691135355207119   \n",
       "3   4     t  91077153340676495  864691135355207375  864691135355207375   \n",
       "4   5     t  88897234233461709  864691136422983727  864691136422983727   \n",
       "\n",
       "  status_dendrite status_axon              pt_position  \n",
       "0        extended         non  [179808, 216672, 23361]  \n",
       "1        extended         non  [187840, 207232, 22680]  \n",
       "2        extended         non  [180016, 204592, 22798]  \n",
       "3        extended         non  [191424, 209888, 22845]  \n",
       "4        extended         non  [175248, 220944, 23561]  "
      ]
     },
     "execution_count": 5,
     "metadata": {},
     "output_type": "execute_result"
    }
   ],
   "source": [
    "# Fetch proof-reading status\n",
    "pr = client.materialize.query_table('proofreading_status_public_release')\n",
    "pr.head()"
   ]
  },
  {
   "cell_type": "code",
   "execution_count": 6,
   "metadata": {},
   "outputs": [
    {
     "data": {
      "text/plain": [
       "(167, 7)"
      ]
     },
     "execution_count": 6,
     "metadata": {},
     "output_type": "execute_result"
    }
   ],
   "source": [
    "# Subset to those neurons that have been proof read\n",
    "proofread = pr[pr.status_dendrite.isin(['extented', 'clean']) & pr.status_axon.isin(['extented', 'clean'])].pt_root_id.values\n",
    "\n",
    "ct = ct[ct.pt_root_id.isin(proofread)]\n",
    "ct.shape"
   ]
  },
  {
   "cell_type": "code",
   "execution_count": 7,
   "metadata": {},
   "outputs": [],
   "source": [
    "# Pick 20 \"root IDs\" (sometimes also called segment IDs) each\n",
    "inh_ids = ct[ct.cell_type == 'inhibitory'].pt_root_id.values[: 20]\n",
    "exc_ids = ct[ct.cell_type == 'excitatory'].pt_root_id.values[: 20]"
   ]
  },
  {
   "cell_type": "raw",
   "metadata": {
    "raw_mimetype": "text/restructuredtext",
    "tags": []
   },
   "source": [
    "Next, we will fetch the meshes including the synapses for these neurons:"
   ]
  },
  {
   "cell_type": "code",
   "execution_count": 8,
   "metadata": {},
   "outputs": [
    {
     "data": {
      "application/vnd.jupyter.widget-view+json": {
       "model_id": "",
       "version_major": 2,
       "version_minor": 0
      },
      "text/plain": [
       "Fetching:   0%|          | 0/20 [00:00<?, ?it/s]"
      ]
     },
     "metadata": {},
     "output_type": "display_data"
    },
    {
     "data": {
      "application/vnd.jupyter.widget-view+json": {
       "model_id": "",
       "version_major": 2,
       "version_minor": 0
      },
      "text/plain": [
       "Fetching:   0%|          | 0/20 [00:00<?, ?it/s]"
      ]
     },
     "metadata": {},
     "output_type": "display_data"
    },
    {
     "data": {
      "text/html": [
       "&lt;class 'navis.core.neuronlist.NeuronList'&gt; containing 20 neurons (279.1MiB)<div>\n",
       "<style scoped>\n",
       "    .dataframe tbody tr th:only-of-type {\n",
       "        vertical-align: middle;\n",
       "    }\n",
       "\n",
       "    .dataframe tbody tr th {\n",
       "        vertical-align: top;\n",
       "    }\n",
       "\n",
       "    .dataframe thead th {\n",
       "        text-align: right;\n",
       "    }\n",
       "</style>\n",
       "<table border=\"1\" class=\"dataframe\">\n",
       "  <thead>\n",
       "    <tr style=\"text-align: right;\">\n",
       "      <th></th>\n",
       "      <th>type</th>\n",
       "      <th>name</th>\n",
       "      <th>id</th>\n",
       "      <th>units</th>\n",
       "      <th>n_vertices</th>\n",
       "      <th>n_faces</th>\n",
       "    </tr>\n",
       "  </thead>\n",
       "  <tbody>\n",
       "    <tr>\n",
       "      <th>0</th>\n",
       "      <td>navis.MeshNeuron</td>\n",
       "      <td>None</td>\n",
       "      <td>864691135994731946</td>\n",
       "      <td>1 nanometer</td>\n",
       "      <td>118433</td>\n",
       "      <td>238637</td>\n",
       "    </tr>\n",
       "    <tr>\n",
       "      <th>1</th>\n",
       "      <td>navis.MeshNeuron</td>\n",
       "      <td>None</td>\n",
       "      <td>864691135974528623</td>\n",
       "      <td>1 nanometer</td>\n",
       "      <td>145727</td>\n",
       "      <td>293750</td>\n",
       "    </tr>\n",
       "    <tr>\n",
       "      <th>...</th>\n",
       "      <td>...</td>\n",
       "      <td>...</td>\n",
       "      <td>...</td>\n",
       "      <td>...</td>\n",
       "      <td>...</td>\n",
       "      <td>...</td>\n",
       "    </tr>\n",
       "    <tr>\n",
       "      <th>18</th>\n",
       "      <td>navis.MeshNeuron</td>\n",
       "      <td>None</td>\n",
       "      <td>864691135446864980</td>\n",
       "      <td>1 nanometer</td>\n",
       "      <td>318941</td>\n",
       "      <td>640681</td>\n",
       "    </tr>\n",
       "    <tr>\n",
       "      <th>19</th>\n",
       "      <td>navis.MeshNeuron</td>\n",
       "      <td>None</td>\n",
       "      <td>864691135428608048</td>\n",
       "      <td>1 nanometer</td>\n",
       "      <td>397265</td>\n",
       "      <td>799150</td>\n",
       "    </tr>\n",
       "  </tbody>\n",
       "</table>\n",
       "</div>"
      ],
      "text/plain": [
       "<class 'navis.core.neuronlist.NeuronList'> containing 20 neurons (279.1MiB)\n",
       "                type  name                  id        units  n_vertices  \\\n",
       "0   navis.MeshNeuron  None  864691135994731946  1 nanometer      118433   \n",
       "1   navis.MeshNeuron  None  864691135974528623  1 nanometer      145727   \n",
       "..               ...   ...                 ...          ...         ...   \n",
       "18  navis.MeshNeuron  None  864691135446864980  1 nanometer      318941   \n",
       "19  navis.MeshNeuron  None  864691135428608048  1 nanometer      397265   \n",
       "\n",
       "    n_faces  \n",
       "0    238637  \n",
       "1    293750  \n",
       "..      ...  \n",
       "18   640681  \n",
       "19   799150  "
      ]
     },
     "execution_count": 8,
     "metadata": {},
     "output_type": "execute_result"
    }
   ],
   "source": [
    "# Fetch neurons\n",
    "inh = mi.fetch_neurons(inh_ids, lod=2)\n",
    "exc = mi.fetch_neurons(exc_ids, lod=2)\n",
    "\n",
    "# Inspect\n",
    "inh"
   ]
  },
  {
   "cell_type": "raw",
   "metadata": {},
   "source": [
    "These neurons are fairly large despite us using a large ``lod`` (level of detail, higher = coarser). For visualization of such large meshes it can be useful to simplify them a little. For this, you need either ``open3d`` (``pip3 install open3d``), ``pymeshlab`` (``pip3 install pymeshlab``) or Blender 3D on your computer."
   ]
  },
  {
   "cell_type": "code",
   "execution_count": 8,
   "metadata": {},
   "outputs": [
    {
     "data": {
      "application/vnd.jupyter.widget-view+json": {
       "model_id": "",
       "version_major": 2,
       "version_minor": 0
      },
      "text/plain": [
       "Simplifying:   0%|          | 0/20 [00:00<?, ?it/s]"
      ]
     },
     "metadata": {},
     "output_type": "display_data"
    },
    {
     "data": {
      "application/vnd.jupyter.widget-view+json": {
       "model_id": "",
       "version_major": 2,
       "version_minor": 0
      },
      "text/plain": [
       "Simplifying:   0%|          | 0/20 [00:00<?, ?it/s]"
      ]
     },
     "metadata": {},
     "output_type": "display_data"
    },
    {
     "data": {
      "text/html": [
       "&lt;class 'navis.core.neuronlist.NeuronList'&gt; containing 20 neurons (69.4MiB)<div>\n",
       "<style scoped>\n",
       "    .dataframe tbody tr th:only-of-type {\n",
       "        vertical-align: middle;\n",
       "    }\n",
       "\n",
       "    .dataframe tbody tr th {\n",
       "        vertical-align: top;\n",
       "    }\n",
       "\n",
       "    .dataframe thead th {\n",
       "        text-align: right;\n",
       "    }\n",
       "</style>\n",
       "<table border=\"1\" class=\"dataframe\">\n",
       "  <thead>\n",
       "    <tr style=\"text-align: right;\">\n",
       "      <th></th>\n",
       "      <th>type</th>\n",
       "      <th>name</th>\n",
       "      <th>id</th>\n",
       "      <th>units</th>\n",
       "      <th>n_vertices</th>\n",
       "      <th>n_faces</th>\n",
       "    </tr>\n",
       "  </thead>\n",
       "  <tbody>\n",
       "    <tr>\n",
       "      <th>0</th>\n",
       "      <td>navis.MeshNeuron</td>\n",
       "      <td>None</td>\n",
       "      <td>864691135994731946</td>\n",
       "      <td>1 nanometer</td>\n",
       "      <td>40887</td>\n",
       "      <td>79545</td>\n",
       "    </tr>\n",
       "    <tr>\n",
       "      <th>1</th>\n",
       "      <td>navis.MeshNeuron</td>\n",
       "      <td>None</td>\n",
       "      <td>864691135974528623</td>\n",
       "      <td>1 nanometer</td>\n",
       "      <td>50585</td>\n",
       "      <td>97915</td>\n",
       "    </tr>\n",
       "    <tr>\n",
       "      <th>...</th>\n",
       "      <td>...</td>\n",
       "      <td>...</td>\n",
       "      <td>...</td>\n",
       "      <td>...</td>\n",
       "      <td>...</td>\n",
       "      <td>...</td>\n",
       "    </tr>\n",
       "    <tr>\n",
       "      <th>18</th>\n",
       "      <td>navis.MeshNeuron</td>\n",
       "      <td>None</td>\n",
       "      <td>864691135446864980</td>\n",
       "      <td>1 nanometer</td>\n",
       "      <td>108886</td>\n",
       "      <td>213560</td>\n",
       "    </tr>\n",
       "    <tr>\n",
       "      <th>19</th>\n",
       "      <td>navis.MeshNeuron</td>\n",
       "      <td>None</td>\n",
       "      <td>864691135428608048</td>\n",
       "      <td>1 nanometer</td>\n",
       "      <td>136145</td>\n",
       "      <td>266382</td>\n",
       "    </tr>\n",
       "  </tbody>\n",
       "</table>\n",
       "</div>"
      ],
      "text/plain": [
       "<class 'navis.core.neuronlist.NeuronList'> containing 20 neurons (69.4MiB)\n",
       "                type  name                  id        units  n_vertices  \\\n",
       "0   navis.MeshNeuron  None  864691135994731946  1 nanometer       40887   \n",
       "1   navis.MeshNeuron  None  864691135974528623  1 nanometer       50585   \n",
       "..               ...   ...                 ...          ...         ...   \n",
       "18  navis.MeshNeuron  None  864691135446864980  1 nanometer      108886   \n",
       "19  navis.MeshNeuron  None  864691135428608048  1 nanometer      136145   \n",
       "\n",
       "    n_faces  \n",
       "0     79545  \n",
       "1     97915  \n",
       "..      ...  \n",
       "18   213560  \n",
       "19   266382  "
      ]
     },
     "execution_count": 8,
     "metadata": {},
     "output_type": "execute_result"
    }
   ],
   "source": [
    "# Reduce face counts to 1/3 of the original\n",
    "inh_ds = navis.simplify_mesh(inh, F=1/3)\n",
    "exc_ds = navis.simplify_mesh(exc, F=1/3)\n",
    "\n",
    "# Inspect (note the lower face/vertex counts)\n",
    "inh_ds"
   ]
  },
  {
   "cell_type": "raw",
   "metadata": {
    "raw_mimetype": "text/restructuredtext",
    "tags": []
   },
   "source": [
    "Let's visualize the neurons before running analyses"
   ]
  },
  {
   "cell_type": "code",
   "execution_count": null,
   "metadata": {},
   "outputs": [],
   "source": [
    "# Create some colors: reds for excitatory, blue for inhibitory\n",
    "import seaborn as sns\n",
    "colors = {n.id: sns.color_palette('Reds', 5)[i] for i, n in enumerate(exc[:5])}\n",
    "colors.update({n.id: sns.color_palette('Blues', 5)[i] for i, n in enumerate(inh[:5])})\n",
    "\n",
    "# Plot the first 5 neurons each\n",
    "fig = navis.plot3d([inh_ds[:5], exc_ds[:5]], color=colors)"
   ]
  },
  {
   "cell_type": "raw",
   "metadata": {
    "raw_mimetype": "text/restructuredtext",
    "tags": []
   },
   "source": [
    ".. raw:: html\n",
    "   :file: figures/3d_microns.html\n",
    "   \n",
    "|\n",
    "|\n",
    "|\n",
    "|   \n",
    "\n",
    "Note that some of these neurons look truncated (i.e. extend outside the imaged volume). We need to keep that in mind when running our analyses! \n",
    "\n",
    "First, let's check cable length. For this, we need to roughly skeletonize these meshes:"
   ]
  },
  {
   "cell_type": "code",
   "execution_count": 11,
   "metadata": {},
   "outputs": [
    {
     "data": {
      "application/vnd.jupyter.widget-view+json": {
       "model_id": "",
       "version_major": 2,
       "version_minor": 0
      },
      "text/plain": [
       "Skeletonizing:   0%|          | 0/20 [00:00<?, ?it/s]"
      ]
     },
     "metadata": {},
     "output_type": "display_data"
    },
    {
     "data": {
      "application/vnd.jupyter.widget-view+json": {
       "model_id": "",
       "version_major": 2,
       "version_minor": 0
      },
      "text/plain": [
       "Skeletonizing:   0%|          | 0/20 [00:00<?, ?it/s]"
      ]
     },
     "metadata": {},
     "output_type": "display_data"
    },
    {
     "data": {
      "text/html": [
       "&lt;class 'navis.core.neuronlist.NeuronList'&gt; containing 20 neurons (57.7MiB)<div>\n",
       "<style scoped>\n",
       "    .dataframe tbody tr th:only-of-type {\n",
       "        vertical-align: middle;\n",
       "    }\n",
       "\n",
       "    .dataframe tbody tr th {\n",
       "        vertical-align: top;\n",
       "    }\n",
       "\n",
       "    .dataframe thead th {\n",
       "        text-align: right;\n",
       "    }\n",
       "</style>\n",
       "<table border=\"1\" class=\"dataframe\">\n",
       "  <thead>\n",
       "    <tr style=\"text-align: right;\">\n",
       "      <th></th>\n",
       "      <th>type</th>\n",
       "      <th>name</th>\n",
       "      <th>id</th>\n",
       "      <th>n_nodes</th>\n",
       "      <th>n_connectors</th>\n",
       "      <th>n_branches</th>\n",
       "      <th>n_leafs</th>\n",
       "      <th>cable_length</th>\n",
       "      <th>soma</th>\n",
       "      <th>units</th>\n",
       "    </tr>\n",
       "  </thead>\n",
       "  <tbody>\n",
       "    <tr>\n",
       "      <th>0</th>\n",
       "      <td>navis.TreeNeuron</td>\n",
       "      <td>None</td>\n",
       "      <td>864691135994731946</td>\n",
       "      <td>19099</td>\n",
       "      <td>None</td>\n",
       "      <td>482</td>\n",
       "      <td>591</td>\n",
       "      <td>1.064628e+07</td>\n",
       "      <td>11789</td>\n",
       "      <td>1 nanometer</td>\n",
       "    </tr>\n",
       "    <tr>\n",
       "      <th>1</th>\n",
       "      <td>navis.TreeNeuron</td>\n",
       "      <td>None</td>\n",
       "      <td>864691135974528623</td>\n",
       "      <td>24333</td>\n",
       "      <td>None</td>\n",
       "      <td>728</td>\n",
       "      <td>831</td>\n",
       "      <td>1.349213e+07</td>\n",
       "      <td>13008</td>\n",
       "      <td>1 nanometer</td>\n",
       "    </tr>\n",
       "    <tr>\n",
       "      <th>...</th>\n",
       "      <td>...</td>\n",
       "      <td>...</td>\n",
       "      <td>...</td>\n",
       "      <td>...</td>\n",
       "      <td>...</td>\n",
       "      <td>...</td>\n",
       "      <td>...</td>\n",
       "      <td>...</td>\n",
       "      <td>...</td>\n",
       "      <td>...</td>\n",
       "    </tr>\n",
       "    <tr>\n",
       "      <th>18</th>\n",
       "      <td>navis.TreeNeuron</td>\n",
       "      <td>None</td>\n",
       "      <td>864691135446864980</td>\n",
       "      <td>47564</td>\n",
       "      <td>None</td>\n",
       "      <td>949</td>\n",
       "      <td>1693</td>\n",
       "      <td>2.593271e+07</td>\n",
       "      <td>20234</td>\n",
       "      <td>1 nanometer</td>\n",
       "    </tr>\n",
       "    <tr>\n",
       "      <th>19</th>\n",
       "      <td>navis.TreeNeuron</td>\n",
       "      <td>None</td>\n",
       "      <td>864691135428608048</td>\n",
       "      <td>62330</td>\n",
       "      <td>None</td>\n",
       "      <td>1109</td>\n",
       "      <td>1707</td>\n",
       "      <td>3.432125e+07</td>\n",
       "      <td>29927</td>\n",
       "      <td>1 nanometer</td>\n",
       "    </tr>\n",
       "  </tbody>\n",
       "</table>\n",
       "</div>"
      ],
      "text/plain": [
       "<class 'navis.core.neuronlist.NeuronList'> containing 20 neurons (57.7MiB)\n",
       "                type  name                  id  n_nodes n_connectors  \\\n",
       "0   navis.TreeNeuron  None  864691135994731946    19099         None   \n",
       "1   navis.TreeNeuron  None  864691135974528623    24333         None   \n",
       "..               ...   ...                 ...      ...          ...   \n",
       "18  navis.TreeNeuron  None  864691135446864980    47564         None   \n",
       "19  navis.TreeNeuron  None  864691135428608048    62330         None   \n",
       "\n",
       "    n_branches  n_leafs  cable_length   soma        units  \n",
       "0         1371      591  1.064628e+07  11789  1 nanometer  \n",
       "1         1763      831  1.349213e+07  13008  1 nanometer  \n",
       "..         ...      ...           ...    ...          ...  \n",
       "18        3083     1693  2.593271e+07  20234  1 nanometer  \n",
       "19        3674     1707  3.432125e+07  29927  1 nanometer  "
      ]
     },
     "execution_count": 11,
     "metadata": {},
     "output_type": "execute_result"
    }
   ],
   "source": [
    "inh_sk = navis.skeletonize(inh, parallel=True)\n",
    "exc_sk = navis.skeletonize(exc, parallel=True)\n",
    "\n",
    "# Inspect \n",
    "inh_sk"
   ]
  },
  {
   "cell_type": "code",
   "execution_count": null,
   "metadata": {},
   "outputs": [],
   "source": [
    "# Plot one example (zoom in for details)\n",
    "fig = navis.plot3d([inh_sk[0], inh[0]], color=[(1, 0, 0), (1, 1, 1, .5)])"
   ]
  },
  {
   "cell_type": "raw",
   "metadata": {},
   "source": [
    ".. raw:: html\n",
    "   :file: figures/3d_microns_skeleton.html\n",
    "   \n",
    "|\n",
    "|\n",
    "|\n",
    "|   \n",
    "\n",
    "That looks reasonable! Now we can compare cable lengths and other stats:"
   ]
  },
  {
   "cell_type": "code",
   "execution_count": 13,
   "metadata": {},
   "outputs": [
    {
     "data": {
      "text/html": [
       "<div>\n",
       "<style scoped>\n",
       "    .dataframe tbody tr th:only-of-type {\n",
       "        vertical-align: middle;\n",
       "    }\n",
       "\n",
       "    .dataframe tbody tr th {\n",
       "        vertical-align: top;\n",
       "    }\n",
       "\n",
       "    .dataframe thead th {\n",
       "        text-align: right;\n",
       "    }\n",
       "</style>\n",
       "<table border=\"1\" class=\"dataframe\">\n",
       "  <thead>\n",
       "    <tr style=\"text-align: right;\">\n",
       "      <th></th>\n",
       "      <th>type</th>\n",
       "      <th>name</th>\n",
       "      <th>id</th>\n",
       "      <th>n_nodes</th>\n",
       "      <th>n_connectors</th>\n",
       "      <th>n_branches</th>\n",
       "      <th>n_leafs</th>\n",
       "      <th>cable_length</th>\n",
       "      <th>soma</th>\n",
       "      <th>units</th>\n",
       "    </tr>\n",
       "  </thead>\n",
       "  <tbody>\n",
       "    <tr>\n",
       "      <th>0</th>\n",
       "      <td>inhibitory</td>\n",
       "      <td>None</td>\n",
       "      <td>864691135994731946</td>\n",
       "      <td>19099</td>\n",
       "      <td>None</td>\n",
       "      <td>482</td>\n",
       "      <td>591</td>\n",
       "      <td>1.064628e+07</td>\n",
       "      <td>11789</td>\n",
       "      <td>1 nanometer</td>\n",
       "    </tr>\n",
       "    <tr>\n",
       "      <th>1</th>\n",
       "      <td>inhibitory</td>\n",
       "      <td>None</td>\n",
       "      <td>864691135974528623</td>\n",
       "      <td>24333</td>\n",
       "      <td>None</td>\n",
       "      <td>728</td>\n",
       "      <td>831</td>\n",
       "      <td>1.349213e+07</td>\n",
       "      <td>13008</td>\n",
       "      <td>1 nanometer</td>\n",
       "    </tr>\n",
       "    <tr>\n",
       "      <th>2</th>\n",
       "      <td>inhibitory</td>\n",
       "      <td>None</td>\n",
       "      <td>864691135113360025</td>\n",
       "      <td>31313</td>\n",
       "      <td>None</td>\n",
       "      <td>698</td>\n",
       "      <td>1188</td>\n",
       "      <td>1.733779e+07</td>\n",
       "      <td>18923</td>\n",
       "      <td>1 nanometer</td>\n",
       "    </tr>\n",
       "    <tr>\n",
       "      <th>3</th>\n",
       "      <td>inhibitory</td>\n",
       "      <td>None</td>\n",
       "      <td>864691135700443515</td>\n",
       "      <td>45083</td>\n",
       "      <td>None</td>\n",
       "      <td>2484</td>\n",
       "      <td>1255</td>\n",
       "      <td>2.423469e+07</td>\n",
       "      <td>24681</td>\n",
       "      <td>1 nanometer</td>\n",
       "    </tr>\n",
       "    <tr>\n",
       "      <th>4</th>\n",
       "      <td>inhibitory</td>\n",
       "      <td>None</td>\n",
       "      <td>864691135584084344</td>\n",
       "      <td>20643</td>\n",
       "      <td>None</td>\n",
       "      <td>2167</td>\n",
       "      <td>1232</td>\n",
       "      <td>1.145568e+07</td>\n",
       "      <td>16868</td>\n",
       "      <td>1 nanometer</td>\n",
       "    </tr>\n",
       "  </tbody>\n",
       "</table>\n",
       "</div>"
      ],
      "text/plain": [
       "         type  name                  id  n_nodes n_connectors  n_branches  \\\n",
       "0  inhibitory  None  864691135994731946    19099         None         482   \n",
       "1  inhibitory  None  864691135974528623    24333         None         728   \n",
       "2  inhibitory  None  864691135113360025    31313         None         698   \n",
       "3  inhibitory  None  864691135700443515    45083         None        2484   \n",
       "4  inhibitory  None  864691135584084344    20643         None        2167   \n",
       "\n",
       "   n_leafs  cable_length   soma        units  \n",
       "0      591  1.064628e+07  11789  1 nanometer  \n",
       "1      831  1.349213e+07  13008  1 nanometer  \n",
       "2     1188  1.733779e+07  18923  1 nanometer  \n",
       "3     1255  2.423469e+07  24681  1 nanometer  \n",
       "4     1232  1.145568e+07  16868  1 nanometer  "
      ]
     },
     "execution_count": 13,
     "metadata": {},
     "output_type": "execute_result"
    }
   ],
   "source": [
    "# Create a combined DataFrame \n",
    "import pandas as pd \n",
    "\n",
    "inh_stats = inh_sk.summary()\n",
    "inh_stats['type'] = 'inhibitory'\n",
    "\n",
    "exc_stats = exc_sk.summary()\n",
    "exc_stats['type'] = 'excitatory'\n",
    "\n",
    "stats = pd.concat([inh_stats, exc_stats], axis=0)\n",
    "stats.head()"
   ]
  },
  {
   "cell_type": "code",
   "execution_count": 18,
   "metadata": {},
   "outputs": [
    {
     "data": {
      "image/png": "[encoded data removed]",
      "text/plain": [
       "<Figure size 1200x500 with 3 Axes>"
      ]
     },
     "metadata": {
      "needs_background": "dark"
     },
     "output_type": "display_data"
    }
   ],
   "source": [
    "import matplotlib.pyplot as plt\n",
    "\n",
    "sns.set_color_codes('muted')\n",
    "plt.style.use('dark_background')\n",
    "\n",
    "fig, axes = plt.subplots(1, 3, figsize=(12, 5))\n",
    "fig.patch.set_color((0,0,0,0))\n",
    "\n",
    "for col, label, ax in zip(['cable_length', 'n_branches', 'n_leafs'],\n",
    "                          ['cable length  [nm]', '# of branch points', '# of leafs (tips)'],\n",
    "                          axes):\n",
    "    sns.boxplot(data=stats, y=col, x='type', ax=ax, palette=['b', 'r'])\n",
    "    ax.set_ylabel(label)\n",
    "    ax.set_xlabel('')\n",
    "    ax.patch.set_color((0,0,0,0))\n",
    "    \n",
    "sns.despine(trim=True)\n",
    "plt.tight_layout()\n",
    "plt.show()"
   ]
  },
  {
   "cell_type": "raw",
   "metadata": {
    "raw_mimetype": "text/restructuredtext",
    "tags": []
   },
   "source": [
    ".. _sholl: \n",
    "\n",
    "Let's try something a bit more sophisticated: a Sholl analysis. \n",
    "\n",
    ".. note::\n",
    "\n",
    "   Currently the Sholl analysis requires the dev version of navis from Github."
   ]
  },
  {
   "cell_type": "code",
   "execution_count": 49,
   "metadata": {},
   "outputs": [
    {
     "data": {
      "text/html": [
       "<div>\n",
       "<style scoped>\n",
       "    .dataframe tbody tr th:only-of-type {\n",
       "        vertical-align: middle;\n",
       "    }\n",
       "\n",
       "    .dataframe tbody tr th {\n",
       "        vertical-align: top;\n",
       "    }\n",
       "\n",
       "    .dataframe thead th {\n",
       "        text-align: right;\n",
       "    }\n",
       "</style>\n",
       "<table border=\"1\" class=\"dataframe\">\n",
       "  <thead>\n",
       "    <tr style=\"text-align: right;\">\n",
       "      <th></th>\n",
       "      <th>intersections</th>\n",
       "      <th>cable_length</th>\n",
       "      <th>branch_points</th>\n",
       "    </tr>\n",
       "    <tr>\n",
       "      <th>radius</th>\n",
       "      <th></th>\n",
       "      <th></th>\n",
       "      <th></th>\n",
       "    </tr>\n",
       "  </thead>\n",
       "  <tbody>\n",
       "    <tr>\n",
       "      <th>5025.125628</th>\n",
       "      <td>5</td>\n",
       "      <td>38364.963752</td>\n",
       "      <td>15</td>\n",
       "    </tr>\n",
       "    <tr>\n",
       "      <th>10050.251256</th>\n",
       "      <td>2</td>\n",
       "      <td>200485.343897</td>\n",
       "      <td>7</td>\n",
       "    </tr>\n",
       "    <tr>\n",
       "      <th>15075.376884</th>\n",
       "      <td>4</td>\n",
       "      <td>70893.601194</td>\n",
       "      <td>4</td>\n",
       "    </tr>\n",
       "    <tr>\n",
       "      <th>20100.502513</th>\n",
       "      <td>5</td>\n",
       "      <td>120444.934439</td>\n",
       "      <td>13</td>\n",
       "    </tr>\n",
       "    <tr>\n",
       "      <th>25125.628141</th>\n",
       "      <td>8</td>\n",
       "      <td>231928.170524</td>\n",
       "      <td>19</td>\n",
       "    </tr>\n",
       "  </tbody>\n",
       "</table>\n",
       "</div>"
      ],
      "text/plain": [
       "              intersections   cable_length  branch_points\n",
       "radius                                                   \n",
       "5025.125628               5   38364.963752             15\n",
       "10050.251256              2  200485.343897              7\n",
       "15075.376884              4   70893.601194              4\n",
       "20100.502513              5  120444.934439             13\n",
       "25125.628141              8  231928.170524             19"
      ]
     },
     "execution_count": 49,
     "metadata": {},
     "output_type": "execute_result"
    }
   ],
   "source": [
    "# Perform Sholl analysis\n",
    "import numpy as np\n",
    "inh_sha = navis.sholl_analysis(inh, center='soma', radii=np.linspace(0, 1e6, 200), parallel=True)\n",
    "exc_sha = navis.sholl_analysis(exc, center='soma', radii=np.linspace(0, 1e6, 200), parallel=True)\n",
    "\n",
    "# The results are lists of DataFrames:\n",
    "inh_sha[0].head()"
   ]
  },
  {
   "cell_type": "code",
   "execution_count": 56,
   "metadata": {},
   "outputs": [
    {
     "data": {
      "text/html": [
       "<div>\n",
       "<style scoped>\n",
       "    .dataframe tbody tr th:only-of-type {\n",
       "        vertical-align: middle;\n",
       "    }\n",
       "\n",
       "    .dataframe tbody tr th {\n",
       "        vertical-align: top;\n",
       "    }\n",
       "\n",
       "    .dataframe thead th {\n",
       "        text-align: right;\n",
       "    }\n",
       "</style>\n",
       "<table border=\"1\" class=\"dataframe\">\n",
       "  <thead>\n",
       "    <tr style=\"text-align: right;\">\n",
       "      <th></th>\n",
       "      <th>intersections</th>\n",
       "      <th>cable_length</th>\n",
       "      <th>branch_points</th>\n",
       "    </tr>\n",
       "    <tr>\n",
       "      <th>radius</th>\n",
       "      <th></th>\n",
       "      <th></th>\n",
       "      <th></th>\n",
       "    </tr>\n",
       "  </thead>\n",
       "  <tbody>\n",
       "    <tr>\n",
       "      <th>5025.125628</th>\n",
       "      <td>4.05</td>\n",
       "      <td>34586.760812</td>\n",
       "      <td>16.90</td>\n",
       "    </tr>\n",
       "    <tr>\n",
       "      <th>10050.251256</th>\n",
       "      <td>1.95</td>\n",
       "      <td>118360.897060</td>\n",
       "      <td>18.05</td>\n",
       "    </tr>\n",
       "    <tr>\n",
       "      <th>15075.376884</th>\n",
       "      <td>2.60</td>\n",
       "      <td>78204.741723</td>\n",
       "      <td>12.40</td>\n",
       "    </tr>\n",
       "    <tr>\n",
       "      <th>20100.502513</th>\n",
       "      <td>4.25</td>\n",
       "      <td>104355.972463</td>\n",
       "      <td>20.30</td>\n",
       "    </tr>\n",
       "    <tr>\n",
       "      <th>25125.628141</th>\n",
       "      <td>5.65</td>\n",
       "      <td>150967.093900</td>\n",
       "      <td>25.80</td>\n",
       "    </tr>\n",
       "  </tbody>\n",
       "</table>\n",
       "</div>"
      ],
      "text/plain": [
       "              intersections   cable_length  branch_points\n",
       "radius                                                   \n",
       "5025.125628            4.05   34586.760812          16.90\n",
       "10050.251256           1.95  118360.897060          18.05\n",
       "15075.376884           2.60   78204.741723          12.40\n",
       "20100.502513           4.25  104355.972463          20.30\n",
       "25125.628141           5.65  150967.093900          25.80"
      ]
     },
     "execution_count": 56,
     "metadata": {},
     "output_type": "execute_result"
    }
   ],
   "source": [
    "# Average across inhibitory and excitatory analyses\n",
    "inh_sha_mean = inh_sha[0].copy()\n",
    "for i in range(1, len(inh_sha)):\n",
    "    inh_sha_mean += inh_sha[i].values\n",
    "inh_sha_mean /= len(inh_sha)\n",
    "\n",
    "exc_sha_mean = exc_sha[0].copy()\n",
    "for i in range(1, len(exc_sha)):\n",
    "    exc_sha_mean += exc_sha[i].values\n",
    "exc_sha_mean /= len(exc_sha)\n",
    "\n",
    "inh_sha_mean.head()"
   ]
  },
  {
   "cell_type": "code",
   "execution_count": 60,
   "metadata": {},
   "outputs": [
    {
     "data": {
      "image/png": "[encoded data removed]",
      "text/plain": [
       "<Figure size 720x360 with 1 Axes>"
      ]
     },
     "metadata": {},
     "output_type": "display_data"
    }
   ],
   "source": [
    "# Plot\n",
    "fig, ax = plt.subplots(figsize=(10, 5))\n",
    "\n",
    "inh_sha_mean.intersections.plot(c='r', label='inhibitory')\n",
    "exc_sha_mean.intersections.plot(c='b', label='excitatory')\n",
    "\n",
    "ax.set_ylabel('# of intersections')\n",
    "ax.legend()\n",
    "\n",
    "plt.tight_layout()\n",
    "\n",
    "plt.show()"
   ]
  },
  {
   "cell_type": "raw",
   "metadata": {
    "raw_mimetype": "text/restructuredtext",
    "tags": []
   },
   "source": [
    "See :func:`navis.sholl_analysis` for ways to fine tune the analysis. Last but not least a quick visualization for one of the neurons:"
   ]
  },
  {
   "cell_type": "code",
   "execution_count": 106,
   "metadata": {},
   "outputs": [
    {
     "data": {
      "image/png": "[encoded data removed]",
      "text/plain": [
       "<Figure size 720x720 with 1 Axes>"
      ]
     },
     "metadata": {
      "needs_background": "dark"
     },
     "output_type": "display_data"
    }
   ],
   "source": [
    "# Plot one of the inhibitory neurons\n",
    "fig, ax = navis.plot2d(inh[0], view=('x', 'y'), figsize=(10, 10), c='w', method='2d')\n",
    "\n",
    "cmap = plt.get_cmap('viridis')\n",
    "\n",
    "# Plot every third Sholl circle & color by number of intersections\n",
    "for r in inh_sha[0].index.values:\n",
    "    ints = inh_sha[0].loc[r, 'intersections']\n",
    "    color = cmap(ints / (inh_sha[0].intersections.max() + 1))\n",
    "\n",
    "    \n",
    "    c = plt.Circle((inh[0].soma_pos[0], inh[0].soma_pos[1]), r, ec=color, fc='none')\n",
    "    ax.add_patch(c)\n",
    "\n",
    "plt.show()"
   ]
  },
  {
   "cell_type": "raw",
   "metadata": {
    "raw_mimetype": "text/restructuredtext",
    "tags": []
   },
   "source": [
    "Again: take this with a grain of salt since we only sample 20 neurons each and it looked like there was a bias towards inhibitory neuron being more likely truncated! However, based on the above analysis inhibitory neurons tend to be larger and branch less compared to excitatory cortical neurons.\n",
    "\n",
    "\n",
    "Videos\n",
    "------\n",
    "Beautiful data like the MICrONS datasets lend themselves to visualizations. For making high quality videos (and renderings) I recommend you check out the tutorial on navis' Blender :ref:`interface <blender3d>`. Here's a little taster:\n",
    "\n",
    ".. raw:: html\n",
    "  \n",
    "   <iframe width=\"560\" height=\"315\" src=\"https://www.youtube.com/embed/wl3sFG7WQJc\" title=\"YouTube video player\" frameborder=\"0\" allow=\"accelerometer; autoplay; clipboard-write; encrypted-media; gyroscope; picture-in-picture\" allowfullscreen></iframe>"
   ]
  }
 ],
 "metadata": {
  "kernelspec": {
   "display_name": "Python 3 (ipykernel)",
   "language": "python",
   "name": "python3"
  },
  "language_info": {
   "codemirror_mode": {
    "name": "ipython",
    "version": 3
   },
   "file_extension": ".py",
   "mimetype": "text/x-python",
   "name": "python",
   "nbconvert_exporter": "python",
   "pygments_lexer": "ipython3",
   "version": "3.7.5"
  },
  "widgets": {
   "application/vnd.jupyter.widget-state+json": {
    "state": {
     "00f00d5cccd34c03aae26ea40285b2e8": {
      "model_module": "@jupyter-widgets/controls",
      "model_module_version": "1.5.0",
      "model_name": "FloatProgressModel",
      "state": {
       "layout": "IPY_MODEL_927807a9befd4aea9763367ac90c4063",
       "max": 20,
       "style": "IPY_MODEL_feb1c3379ada453fb0bf4fc24aa78b6c",
       "value": 20
      }
     },
     "00f9b2f872244043bbd8a38f2d1b55d7": {
      "model_module": "@jupyter-widgets/controls",
      "model_module_version": "1.5.0",
      "model_name": "FloatProgressModel",
      "state": {
       "layout": "IPY_MODEL_07209c7bf69f481f831290fb8faffbd4",
       "max": 20,
       "style": "IPY_MODEL_20a2e3fdfd36407580ab072f68d4a93a",
       "value": 20
      }
     },
     "033849fed84e453f8d98472546c52a73": {
      "model_module": "@jupyter-widgets/base",
      "model_module_version": "1.2.0",
      "model_name": "LayoutModel",
      "state": {}
     },
     "06046133174d4efcae956f9d69543d2f": {
      "model_module": "@jupyter-widgets/controls",
      "model_module_version": "1.5.0",
      "model_name": "ProgressStyleModel",
      "state": {
       "description_width": ""
      }
     },
     "07209c7bf69f481f831290fb8faffbd4": {
      "model_module": "@jupyter-widgets/base",
      "model_module_version": "1.2.0",
      "model_name": "LayoutModel",
      "state": {}
     },
     "08677f2ad8f149878b6c653a8f7bbea7": {
      "model_module": "@jupyter-widgets/controls",
      "model_module_version": "1.5.0",
      "model_name": "DescriptionStyleModel",
      "state": {
       "description_width": ""
      }
     },
     "0891cd52461846ecaf8ba4631730132f": {
      "model_module": "@jupyter-widgets/controls",
      "model_module_version": "1.5.0",
      "model_name": "DescriptionStyleModel",
      "state": {
       "description_width": ""
      }
     },
     "0c6a6caa6084484b8363cecb5fb26bbe": {
      "model_module": "@jupyter-widgets/base",
      "model_module_version": "1.2.0",
      "model_name": "LayoutModel",
      "state": {}
     },
     "0f2f5538d4be4f79b30b84220a3acfd1": {
      "model_module": "@jupyter-widgets/controls",
      "model_module_version": "1.5.0",
      "model_name": "DescriptionStyleModel",
      "state": {
       "description_width": ""
      }
     },
     "10d1278624324fc1842452d6bc5d4aff": {
      "model_module": "@jupyter-widgets/controls",
      "model_module_version": "1.5.0",
      "model_name": "HTMLModel",
      "state": {
       "layout": "IPY_MODEL_4eeb1d7231c24049b54e5ae20be889e5",
       "style": "IPY_MODEL_5ed389ffd2444ef28780ffe875ff7317",
       "value": "Sholl analysis: 100%"
      }
     },
     "11535c24ff8645229b47996391bf97eb": {
      "model_module": "@jupyter-widgets/base",
      "model_module_version": "1.2.0",
      "model_name": "LayoutModel",
      "state": {}
     },
     "1159ee7aa58b4e63b65e11de13b776cb": {
      "model_module": "@jupyter-widgets/controls",
      "model_module_version": "1.5.0",
      "model_name": "HTMLModel",
      "state": {
       "layout": "IPY_MODEL_eec34c5b97c24b6685a7865f8834e6a0",
       "style": "IPY_MODEL_8f5168b7731040a0b7eed6e64e04ce84",
       "value": " 0/20 [16:36&lt;?, ?it/s]"
      }
     },
     "11ab9a399bbb4c9c83b3ebb1cc494029": {
      "model_module": "@jupyter-widgets/base",
      "model_module_version": "1.2.0",
      "model_name": "LayoutModel",
      "state": {}
     },
     "124f72d8e09742a898dc09a5569d47ae": {
      "model_module": "@jupyter-widgets/controls",
      "model_module_version": "1.5.0",
      "model_name": "DescriptionStyleModel",
      "state": {
       "description_width": ""
      }
     },
     "1a5aeba1a308453f8512eb391281f9da": {
      "model_module": "@jupyter-widgets/base",
      "model_module_version": "1.2.0",
      "model_name": "LayoutModel",
      "state": {}
     },
     "1a5d41d98d7f43b8ba237b530c101369": {
      "model_module": "@jupyter-widgets/controls",
      "model_module_version": "1.5.0",
      "model_name": "HBoxModel",
      "state": {
       "children": [
        "IPY_MODEL_2375f66720ef403792beffac45779c7d",
        "IPY_MODEL_e4bd10eb2f834d94b88caa0438e730db",
        "IPY_MODEL_a1e6162561a942cdbc54027873926b21"
       ],
       "layout": "IPY_MODEL_8f96a02968a94d6e8490b8a136ed3b31"
      }
     },
     "20a2e3fdfd36407580ab072f68d4a93a": {
      "model_module": "@jupyter-widgets/controls",
      "model_module_version": "1.5.0",
      "model_name": "ProgressStyleModel",
      "state": {
       "description_width": ""
      }
     },
     "2375f66720ef403792beffac45779c7d": {
      "model_module": "@jupyter-widgets/controls",
      "model_module_version": "1.5.0",
      "model_name": "HTMLModel",
      "state": {
       "layout": "IPY_MODEL_8699d30ddf42469eb8d309ccb5b7213f",
       "style": "IPY_MODEL_38806a3450884d53b4fad2a6c8c27736",
       "value": "Sholl analysis:  10%"
      }
     },
     "2382673d1c72486187d7cac13681c5b0": {
      "model_module": "@jupyter-widgets/controls",
      "model_module_version": "1.5.0",
      "model_name": "DescriptionStyleModel",
      "state": {
       "description_width": ""
      }
     },
     "266e9bfac7414b67a55cb87d822ebf2a": {
      "model_module": "@jupyter-widgets/controls",
      "model_module_version": "1.5.0",
      "model_name": "FloatProgressModel",
      "state": {
       "bar_style": "danger",
       "layout": "IPY_MODEL_0c6a6caa6084484b8363cecb5fb26bbe",
       "max": 20,
       "style": "IPY_MODEL_6732492804274c1fb2a1e660ec1cf7b4"
      }
     },
     "290c3e60581844f5a7635d7b579931b3": {
      "model_module": "@jupyter-widgets/controls",
      "model_module_version": "1.5.0",
      "model_name": "DescriptionStyleModel",
      "state": {
       "description_width": ""
      }
     },
     "2935227ac4a44eb69f484f1f69327965": {
      "model_module": "@jupyter-widgets/controls",
      "model_module_version": "1.5.0",
      "model_name": "HTMLModel",
      "state": {
       "layout": "IPY_MODEL_033849fed84e453f8d98472546c52a73",
       "style": "IPY_MODEL_7a1102743472491199dd71c80ac9a182",
       "value": "Sholl analysis: 100%"
      }
     },
     "2982211d7aad40cf8ff44038c496068e": {
      "model_module": "@jupyter-widgets/controls",
      "model_module_version": "1.5.0",
      "model_name": "HTMLModel",
      "state": {
       "layout": "IPY_MODEL_7e3f3c5a900a4f7d8434898adfd7eb5e",
       "style": "IPY_MODEL_525d1edf17eb486da6ae71247e64f11b",
       "value": "Sholl analysis:  50%"
      }
     },
     "2e5b796bb388412191f3992f67394ee3": {
      "model_module": "@jupyter-widgets/base",
      "model_module_version": "1.2.0",
      "model_name": "LayoutModel",
      "state": {}
     },
     "31c85de4c0f24057a50ce3dcd085c045": {
      "model_module": "@jupyter-widgets/controls",
      "model_module_version": "1.5.0",
      "model_name": "DescriptionStyleModel",
      "state": {
       "description_width": ""
      }
     },
     "32b05d26d725412482107aca0c19ceea": {
      "model_module": "@jupyter-widgets/base",
      "model_module_version": "1.2.0",
      "model_name": "LayoutModel",
      "state": {}
     },
     "337b80bf8edf423ab1bf297b306764f5": {
      "model_module": "@jupyter-widgets/base",
      "model_module_version": "1.2.0",
      "model_name": "LayoutModel",
      "state": {}
     },
     "3681701ce81b4bddb26442a730ac3e33": {
      "model_module": "@jupyter-widgets/base",
      "model_module_version": "1.2.0",
      "model_name": "LayoutModel",
      "state": {}
     },
     "369588eaeeea4079a81a7c2ea79b72a9": {
      "model_module": "@jupyter-widgets/base",
      "model_module_version": "1.2.0",
      "model_name": "LayoutModel",
      "state": {}
     },
     "36e9bfab4fb44682a3a892703a9dec78": {
      "model_module": "@jupyter-widgets/controls",
      "model_module_version": "1.5.0",
      "model_name": "HTMLModel",
      "state": {
       "layout": "IPY_MODEL_cfefec15b3284064a818ec6ca292cd3a",
       "style": "IPY_MODEL_c2da6db6e4f446669930e5e5614f55c7",
       "value": "Sholl analysis: 100%"
      }
     },
     "38806a3450884d53b4fad2a6c8c27736": {
      "model_module": "@jupyter-widgets/controls",
      "model_module_version": "1.5.0",
      "model_name": "DescriptionStyleModel",
      "state": {
       "description_width": ""
      }
     },
     "3a611ffe122147eab70b36fd0c7d660b": {
      "model_module": "@jupyter-widgets/controls",
      "model_module_version": "1.5.0",
      "model_name": "FloatProgressModel",
      "state": {
       "layout": "IPY_MODEL_5d3b6e7c3d4d4e1fbba538e2f90fd589",
       "max": 2,
       "style": "IPY_MODEL_69e182651e7a45619f7201c9e1ec83c5",
       "value": 2
      }
     },
     "3dffb19206b946608e81a44f348ce729": {
      "model_module": "@jupyter-widgets/base",
      "model_module_version": "1.2.0",
      "model_name": "LayoutModel",
      "state": {}
     },
     "3f71efcb4c4146dab371cefcd25e0827": {
      "model_module": "@jupyter-widgets/controls",
      "model_module_version": "1.5.0",
      "model_name": "DescriptionStyleModel",
      "state": {
       "description_width": ""
      }
     },
     "3fa10de108b948d1aab1a927b9d6f2e4": {
      "model_module": "@jupyter-widgets/controls",
      "model_module_version": "1.5.0",
      "model_name": "ProgressStyleModel",
      "state": {
       "description_width": ""
      }
     },
     "404f55a6bd4e451ebba7dd636f02fc83": {
      "model_module": "@jupyter-widgets/controls",
      "model_module_version": "1.5.0",
      "model_name": "HTMLModel",
      "state": {
       "layout": "IPY_MODEL_3dffb19206b946608e81a44f348ce729",
       "style": "IPY_MODEL_ff6a2fad901749d092819c51ba05b2f8",
       "value": " 1/2 [00:00&lt;00:00,  8.94it/s]"
      }
     },
     "47777fa452504f46880c0a46c4a74e60": {
      "model_module": "@jupyter-widgets/base",
      "model_module_version": "1.2.0",
      "model_name": "LayoutModel",
      "state": {}
     },
     "4eeb1d7231c24049b54e5ae20be889e5": {
      "model_module": "@jupyter-widgets/base",
      "model_module_version": "1.2.0",
      "model_name": "LayoutModel",
      "state": {}
     },
     "4efc03728ff24009b28dbe2fab6014a6": {
      "model_module": "@jupyter-widgets/controls",
      "model_module_version": "1.5.0",
      "model_name": "HBoxModel",
      "state": {
       "children": [
        "IPY_MODEL_f40122e562a94a2eb98398e78335fddc",
        "IPY_MODEL_89b73810364e4bb291b3787571c41071",
        "IPY_MODEL_1159ee7aa58b4e63b65e11de13b776cb"
       ],
       "layout": "IPY_MODEL_9d85fb3ec16040cb8ff6228fdeaa918f"
      }
     },
     "525d1edf17eb486da6ae71247e64f11b": {
      "model_module": "@jupyter-widgets/controls",
      "model_module_version": "1.5.0",
      "model_name": "DescriptionStyleModel",
      "state": {
       "description_width": ""
      }
     },
     "5269e0e655004bc6b1fca20bd08e532d": {
      "model_module": "@jupyter-widgets/controls",
      "model_module_version": "1.5.0",
      "model_name": "ProgressStyleModel",
      "state": {
       "description_width": ""
      }
     },
     "53c3039cac2347fe97d81cb89d5c6638": {
      "model_module": "@jupyter-widgets/base",
      "model_module_version": "1.2.0",
      "model_name": "LayoutModel",
      "state": {}
     },
     "55be7f527b5f48b1b06c7d93d0808dba": {
      "model_module": "@jupyter-widgets/controls",
      "model_module_version": "1.5.0",
      "model_name": "ProgressStyleModel",
      "state": {
       "description_width": ""
      }
     },
     "5d3b6e7c3d4d4e1fbba538e2f90fd589": {
      "model_module": "@jupyter-widgets/base",
      "model_module_version": "1.2.0",
      "model_name": "LayoutModel",
      "state": {}
     },
     "5d742c1c431a41958a0175d0b589ce08": {
      "model_module": "@jupyter-widgets/base",
      "model_module_version": "1.2.0",
      "model_name": "LayoutModel",
      "state": {}
     },
     "5ed389ffd2444ef28780ffe875ff7317": {
      "model_module": "@jupyter-widgets/controls",
      "model_module_version": "1.5.0",
      "model_name": "DescriptionStyleModel",
      "state": {
       "description_width": ""
      }
     },
     "5f4bea63e93a4439bfcc3ce6b5ee1ed3": {
      "model_module": "@jupyter-widgets/controls",
      "model_module_version": "1.5.0",
      "model_name": "HBoxModel",
      "state": {
       "children": [
        "IPY_MODEL_a06d2a710bae4a01a648caab2a955f47",
        "IPY_MODEL_266e9bfac7414b67a55cb87d822ebf2a",
        "IPY_MODEL_f02062037e734f80a0b8f480329ea81d"
       ],
       "layout": "IPY_MODEL_c75b2461dbdc421fbed66dd60a81c26c"
      }
     },
     "61361167318b401689a9e770fb5feaf6": {
      "model_module": "@jupyter-widgets/controls",
      "model_module_version": "1.5.0",
      "model_name": "DescriptionStyleModel",
      "state": {
       "description_width": ""
      }
     },
     "623bc035e73a4f0aa37f75169788f915": {
      "model_module": "@jupyter-widgets/base",
      "model_module_version": "1.2.0",
      "model_name": "LayoutModel",
      "state": {}
     },
     "645ede4d0e564612add03ec2aeda012b": {
      "model_module": "@jupyter-widgets/controls",
      "model_module_version": "1.5.0",
      "model_name": "HTMLModel",
      "state": {
       "layout": "IPY_MODEL_b1233d4cf7064d02b47448be0ce8b03c",
       "style": "IPY_MODEL_f2ad996e3c834f51b0d153f5360e3fce",
       "value": "Fetching: 100%"
      }
     },
     "64ff315716c14e6d99e1b0b60d93abc9": {
      "model_module": "@jupyter-widgets/base",
      "model_module_version": "1.2.0",
      "model_name": "LayoutModel",
      "state": {}
     },
     "6732492804274c1fb2a1e660ec1cf7b4": {
      "model_module": "@jupyter-widgets/controls",
      "model_module_version": "1.5.0",
      "model_name": "ProgressStyleModel",
      "state": {
       "description_width": ""
      }
     },
     "69e182651e7a45619f7201c9e1ec83c5": {
      "model_module": "@jupyter-widgets/controls",
      "model_module_version": "1.5.0",
      "model_name": "ProgressStyleModel",
      "state": {
       "description_width": ""
      }
     },
     "6a09f813bcee4bee9349a284bfeecc56": {
      "model_module": "@jupyter-widgets/controls",
      "model_module_version": "1.5.0",
      "model_name": "FloatProgressModel",
      "state": {
       "bar_style": "danger",
       "layout": "IPY_MODEL_aaf924aedb814e63b2acb36b75bfceba",
       "max": 20,
       "style": "IPY_MODEL_a9d28dcad0e74d75ad84fa03456c724c"
      }
     },
     "6b31935826724b8e8781474789a4d60b": {
      "model_module": "@jupyter-widgets/controls",
      "model_module_version": "1.5.0",
      "model_name": "HTMLModel",
      "state": {
       "layout": "IPY_MODEL_99a758e77d4942bba6b5e0296852e7ca",
       "style": "IPY_MODEL_d0936fc620d34e24be0818fbfa1a70a0",
       "value": " 20/20 [00:36&lt;00:00,  1.80s/it]"
      }
     },
     "701f3ae9fe6a4205ae0adaca0ea5f8d9": {
      "model_module": "@jupyter-widgets/base",
      "model_module_version": "1.2.0",
      "model_name": "LayoutModel",
      "state": {}
     },
     "7202338a0284450b99f949b077f7d946": {
      "model_module": "@jupyter-widgets/controls",
      "model_module_version": "1.5.0",
      "model_name": "HTMLModel",
      "state": {
       "layout": "IPY_MODEL_fdec75eca26e46a68890bd210d41a6e0",
       "style": "IPY_MODEL_3f71efcb4c4146dab371cefcd25e0827",
       "value": " 20/20 [01:02&lt;00:00,  4.03s/it]"
      }
     },
     "74f2501812a04a82827f6b383eefed1f": {
      "model_module": "@jupyter-widgets/controls",
      "model_module_version": "1.5.0",
      "model_name": "HTMLModel",
      "state": {
       "layout": "IPY_MODEL_eb07b4dc1952428c889e6cd8f0d71ed0",
       "style": "IPY_MODEL_d9c4f7d1843d4bbf8c8614022e77b4ea",
       "value": " 20/20 [01:46&lt;00:00,  3.57s/it]"
      }
     },
     "7a1102743472491199dd71c80ac9a182": {
      "model_module": "@jupyter-widgets/controls",
      "model_module_version": "1.5.0",
      "model_name": "DescriptionStyleModel",
      "state": {
       "description_width": ""
      }
     },
     "7c1c1f14590748cb958eb7d151c30b14": {
      "model_module": "@jupyter-widgets/controls",
      "model_module_version": "1.5.0",
      "model_name": "DescriptionStyleModel",
      "state": {
       "description_width": ""
      }
     },
     "7e3f3c5a900a4f7d8434898adfd7eb5e": {
      "model_module": "@jupyter-widgets/base",
      "model_module_version": "1.2.0",
      "model_name": "LayoutModel",
      "state": {}
     },
     "81a7d0574159446b85cdf3b0326f6d3f": {
      "model_module": "@jupyter-widgets/base",
      "model_module_version": "1.2.0",
      "model_name": "LayoutModel",
      "state": {}
     },
     "82643fe2bdaf4424a4394e0b86762126": {
      "model_module": "@jupyter-widgets/base",
      "model_module_version": "1.2.0",
      "model_name": "LayoutModel",
      "state": {}
     },
     "867db9ebafe34d8286347356cc1f2d04": {
      "model_module": "@jupyter-widgets/base",
      "model_module_version": "1.2.0",
      "model_name": "LayoutModel",
      "state": {}
     },
     "8699d30ddf42469eb8d309ccb5b7213f": {
      "model_module": "@jupyter-widgets/base",
      "model_module_version": "1.2.0",
      "model_name": "LayoutModel",
      "state": {}
     },
     "89b73810364e4bb291b3787571c41071": {
      "model_module": "@jupyter-widgets/controls",
      "model_module_version": "1.5.0",
      "model_name": "FloatProgressModel",
      "state": {
       "bar_style": "danger",
       "layout": "IPY_MODEL_f73ad76da3ff45d7b5b092e9828ae2fb",
       "max": 20,
       "style": "IPY_MODEL_b2b47c04a6d14117bde8a088dcc6a551"
      }
     },
     "8f5168b7731040a0b7eed6e64e04ce84": {
      "model_module": "@jupyter-widgets/controls",
      "model_module_version": "1.5.0",
      "model_name": "DescriptionStyleModel",
      "state": {
       "description_width": ""
      }
     },
     "8f96a02968a94d6e8490b8a136ed3b31": {
      "model_module": "@jupyter-widgets/base",
      "model_module_version": "1.2.0",
      "model_name": "LayoutModel",
      "state": {}
     },
     "927807a9befd4aea9763367ac90c4063": {
      "model_module": "@jupyter-widgets/base",
      "model_module_version": "1.2.0",
      "model_name": "LayoutModel",
      "state": {}
     },
     "937d5b9c578c4f50a894ee55b1d82bd7": {
      "model_module": "@jupyter-widgets/base",
      "model_module_version": "1.2.0",
      "model_name": "LayoutModel",
      "state": {}
     },
     "9710da0f11c34e49ac801ce6c276a84d": {
      "model_module": "@jupyter-widgets/controls",
      "model_module_version": "1.5.0",
      "model_name": "FloatProgressModel",
      "state": {
       "layout": "IPY_MODEL_32b05d26d725412482107aca0c19ceea",
       "max": 20,
       "style": "IPY_MODEL_c59d1efc19a44626bbd7c04fe0018ac7",
       "value": 20
      }
     },
     "975b76c5908d451fbb8c277c76fa4217": {
      "model_module": "@jupyter-widgets/controls",
      "model_module_version": "1.5.0",
      "model_name": "HTMLModel",
      "state": {
       "layout": "IPY_MODEL_f854601becec47bf87025d0cb2bb821d",
       "style": "IPY_MODEL_0f2f5538d4be4f79b30b84220a3acfd1",
       "value": " 20/20 [01:25&lt;00:00,  3.17s/it]"
      }
     },
     "980297a9873b469ea180d3bdf51ba757": {
      "model_module": "@jupyter-widgets/controls",
      "model_module_version": "1.5.0",
      "model_name": "FloatProgressModel",
      "state": {
       "layout": "IPY_MODEL_337b80bf8edf423ab1bf297b306764f5",
       "max": 20,
       "style": "IPY_MODEL_5269e0e655004bc6b1fca20bd08e532d",
       "value": 20
      }
     },
     "99a758e77d4942bba6b5e0296852e7ca": {
      "model_module": "@jupyter-widgets/base",
      "model_module_version": "1.2.0",
      "model_name": "LayoutModel",
      "state": {}
     },
     "9b010e58a4d549ab8a7960469dbee4e3": {
      "model_module": "@jupyter-widgets/base",
      "model_module_version": "1.2.0",
      "model_name": "LayoutModel",
      "state": {}
     },
     "9bdd51c26be4491a946e8bc8158642cd": {
      "model_module": "@jupyter-widgets/controls",
      "model_module_version": "1.5.0",
      "model_name": "ProgressStyleModel",
      "state": {
       "description_width": ""
      }
     },
     "9be50dc749234376b42ff880b57ffd6e": {
      "model_module": "@jupyter-widgets/controls",
      "model_module_version": "1.5.0",
      "model_name": "HTMLModel",
      "state": {
       "layout": "IPY_MODEL_e88f33be9cd9421ca4c658b4ba5e8170",
       "style": "IPY_MODEL_2382673d1c72486187d7cac13681c5b0",
       "value": " 20/20 [01:39&lt;00:00,  3.40s/it]"
      }
     },
     "9d85fb3ec16040cb8ff6228fdeaa918f": {
      "model_module": "@jupyter-widgets/base",
      "model_module_version": "1.2.0",
      "model_name": "LayoutModel",
      "state": {}
     },
     "9e21e61db6e844ad8cf86ff7a03b0f73": {
      "model_module": "@jupyter-widgets/base",
      "model_module_version": "1.2.0",
      "model_name": "LayoutModel",
      "state": {}
     },
     "a02f3b2d59dd40109c36de24c76327df": {
      "model_module": "@jupyter-widgets/controls",
      "model_module_version": "1.5.0",
      "model_name": "HBoxModel",
      "state": {
       "children": [
        "IPY_MODEL_f08c5d057d1241868d59405eda01f616",
        "IPY_MODEL_6a09f813bcee4bee9349a284bfeecc56",
        "IPY_MODEL_dcaedeb159e446eb91a3a795844a5546"
       ],
       "layout": "IPY_MODEL_d5af3cfcdd9543f38c6ddf199df3ade5"
      }
     },
     "a06d2a710bae4a01a648caab2a955f47": {
      "model_module": "@jupyter-widgets/controls",
      "model_module_version": "1.5.0",
      "model_name": "HTMLModel",
      "state": {
       "layout": "IPY_MODEL_64ff315716c14e6d99e1b0b60d93abc9",
       "style": "IPY_MODEL_b06525b29f3f41f99569ae473dff270b",
       "value": "Sholl analysis:   0%"
      }
     },
     "a15e432e095b4cd8a6cf2b8e70131719": {
      "model_module": "@jupyter-widgets/base",
      "model_module_version": "1.2.0",
      "model_name": "LayoutModel",
      "state": {}
     },
     "a1cee4e4033248dbbee92f2594eb09d0": {
      "model_module": "@jupyter-widgets/controls",
      "model_module_version": "1.5.0",
      "model_name": "HTMLModel",
      "state": {
       "layout": "IPY_MODEL_f8040864f92745ff8c1ab05c30ff0f9e",
       "style": "IPY_MODEL_c15ed397a6684cc4b0666e72dfda5d68",
       "value": "Fetching: 100%"
      }
     },
     "a1e6162561a942cdbc54027873926b21": {
      "model_module": "@jupyter-widgets/controls",
      "model_module_version": "1.5.0",
      "model_name": "HTMLModel",
      "state": {
       "layout": "IPY_MODEL_5d742c1c431a41958a0175d0b589ce08",
       "style": "IPY_MODEL_0891cd52461846ecaf8ba4631730132f",
       "value": " 2/20 [00:15&lt;01:40,  5.60s/it]"
      }
     },
     "a29a9f3b54264d24b13634cc84bcd05b": {
      "model_module": "@jupyter-widgets/controls",
      "model_module_version": "1.5.0",
      "model_name": "HTMLModel",
      "state": {
       "layout": "IPY_MODEL_f86b2e053bc74e0ab7dcb131f424209e",
       "style": "IPY_MODEL_b43d268425804b9ba5acbdaf83f7434e",
       "value": "Sholl analysis: 100%"
      }
     },
     "a32c76bde4b44e41bcf78065edb06196": {
      "model_module": "@jupyter-widgets/controls",
      "model_module_version": "1.5.0",
      "model_name": "FloatProgressModel",
      "state": {
       "layout": "IPY_MODEL_701f3ae9fe6a4205ae0adaca0ea5f8d9",
       "max": 2,
       "style": "IPY_MODEL_b5616fb0cc2b42d9bbf9fd83a3ed578c",
       "value": 2
      }
     },
     "a536abca82d342bea6e8d2eff3c17992": {
      "model_module": "@jupyter-widgets/base",
      "model_module_version": "1.2.0",
      "model_name": "LayoutModel",
      "state": {}
     },
     "a95c5a3db259425abaae10abab4fce37": {
      "model_module": "@jupyter-widgets/controls",
      "model_module_version": "1.5.0",
      "model_name": "DescriptionStyleModel",
      "state": {
       "description_width": ""
      }
     },
     "a9d28dcad0e74d75ad84fa03456c724c": {
      "model_module": "@jupyter-widgets/controls",
      "model_module_version": "1.5.0",
      "model_name": "ProgressStyleModel",
      "state": {
       "description_width": ""
      }
     },
     "aaf924aedb814e63b2acb36b75bfceba": {
      "model_module": "@jupyter-widgets/base",
      "model_module_version": "1.2.0",
      "model_name": "LayoutModel",
      "state": {}
     },
     "aca2a8984155430790657404df250abf": {
      "model_module": "@jupyter-widgets/controls",
      "model_module_version": "1.5.0",
      "model_name": "FloatProgressModel",
      "state": {
       "layout": "IPY_MODEL_d50ed6ad33ed44b48fb09fd9635d790e",
       "max": 2,
       "style": "IPY_MODEL_06046133174d4efcae956f9d69543d2f",
       "value": 2
      }
     },
     "ad27326c9cbf4bb8a557ec6ac6f6c1eb": {
      "model_module": "@jupyter-widgets/controls",
      "model_module_version": "1.5.0",
      "model_name": "HTMLModel",
      "state": {
       "layout": "IPY_MODEL_a536abca82d342bea6e8d2eff3c17992",
       "style": "IPY_MODEL_290c3e60581844f5a7635d7b579931b3",
       "value": " 2/2 [00:00&lt;00:00,  7.91it/s]"
      }
     },
     "b06525b29f3f41f99569ae473dff270b": {
      "model_module": "@jupyter-widgets/controls",
      "model_module_version": "1.5.0",
      "model_name": "DescriptionStyleModel",
      "state": {
       "description_width": ""
      }
     },
     "b1233d4cf7064d02b47448be0ce8b03c": {
      "model_module": "@jupyter-widgets/base",
      "model_module_version": "1.2.0",
      "model_name": "LayoutModel",
      "state": {}
     },
     "b2b47c04a6d14117bde8a088dcc6a551": {
      "model_module": "@jupyter-widgets/controls",
      "model_module_version": "1.5.0",
      "model_name": "ProgressStyleModel",
      "state": {
       "description_width": ""
      }
     },
     "b43d268425804b9ba5acbdaf83f7434e": {
      "model_module": "@jupyter-widgets/controls",
      "model_module_version": "1.5.0",
      "model_name": "DescriptionStyleModel",
      "state": {
       "description_width": ""
      }
     },
     "b5616fb0cc2b42d9bbf9fd83a3ed578c": {
      "model_module": "@jupyter-widgets/controls",
      "model_module_version": "1.5.0",
      "model_name": "ProgressStyleModel",
      "state": {
       "description_width": ""
      }
     },
     "b846abdcb5dc495a8088223f47c0f42f": {
      "model_module": "@jupyter-widgets/controls",
      "model_module_version": "1.5.0",
      "model_name": "HTMLModel",
      "state": {
       "layout": "IPY_MODEL_369588eaeeea4079a81a7c2ea79b72a9",
       "style": "IPY_MODEL_61361167318b401689a9e770fb5feaf6",
       "value": " 20/20 [01:08&lt;00:00,  2.42s/it]"
      }
     },
     "c15ed397a6684cc4b0666e72dfda5d68": {
      "model_module": "@jupyter-widgets/controls",
      "model_module_version": "1.5.0",
      "model_name": "DescriptionStyleModel",
      "state": {
       "description_width": ""
      }
     },
     "c2da6db6e4f446669930e5e5614f55c7": {
      "model_module": "@jupyter-widgets/controls",
      "model_module_version": "1.5.0",
      "model_name": "DescriptionStyleModel",
      "state": {
       "description_width": ""
      }
     },
     "c59d1efc19a44626bbd7c04fe0018ac7": {
      "model_module": "@jupyter-widgets/controls",
      "model_module_version": "1.5.0",
      "model_name": "ProgressStyleModel",
      "state": {
       "description_width": ""
      }
     },
     "c71ec254f3f24a908374e8cb0b95e521": {
      "model_module": "@jupyter-widgets/controls",
      "model_module_version": "1.5.0",
      "model_name": "HTMLModel",
      "state": {
       "layout": "IPY_MODEL_937d5b9c578c4f50a894ee55b1d82bd7",
       "style": "IPY_MODEL_e9b0cb7f41be4f2988a5ff1ba98eabc2",
       "value": " 2/2 [00:00&lt;00:00,  7.82it/s]"
      }
     },
     "c75b2461dbdc421fbed66dd60a81c26c": {
      "model_module": "@jupyter-widgets/base",
      "model_module_version": "1.2.0",
      "model_name": "LayoutModel",
      "state": {}
     },
     "c9291f46f27f4d0aa47a32fcf5aed908": {
      "model_module": "@jupyter-widgets/controls",
      "model_module_version": "1.5.0",
      "model_name": "HTMLModel",
      "state": {
       "layout": "IPY_MODEL_ee1e7a8b4bdd4b65b016e10314ecc4a3",
       "style": "IPY_MODEL_124f72d8e09742a898dc09a5569d47ae",
       "value": "Sholl analysis: 100%"
      }
     },
     "c9da0a15b7b94d4a84f672d72cfbf6c3": {
      "model_module": "@jupyter-widgets/controls",
      "model_module_version": "1.5.0",
      "model_name": "HTMLModel",
      "state": {
       "layout": "IPY_MODEL_47777fa452504f46880c0a46c4a74e60",
       "style": "IPY_MODEL_fb67e21b717e4ce281283dd9c1c2e10c",
       "value": "Sholl analysis: 100%"
      }
     },
     "cf4b87b2d11a4af49745f36bdd2b1ebc": {
      "model_module": "@jupyter-widgets/controls",
      "model_module_version": "1.5.0",
      "model_name": "ProgressStyleModel",
      "state": {
       "description_width": ""
      }
     },
     "cfefec15b3284064a818ec6ca292cd3a": {
      "model_module": "@jupyter-widgets/base",
      "model_module_version": "1.2.0",
      "model_name": "LayoutModel",
      "state": {}
     },
     "d04cf8b072f747099076875dc6e52f25": {
      "model_module": "@jupyter-widgets/controls",
      "model_module_version": "1.5.0",
      "model_name": "FloatProgressModel",
      "state": {
       "layout": "IPY_MODEL_867db9ebafe34d8286347356cc1f2d04",
       "max": 20,
       "style": "IPY_MODEL_cf4b87b2d11a4af49745f36bdd2b1ebc",
       "value": 20
      }
     },
     "d0936fc620d34e24be0818fbfa1a70a0": {
      "model_module": "@jupyter-widgets/controls",
      "model_module_version": "1.5.0",
      "model_name": "DescriptionStyleModel",
      "state": {
       "description_width": ""
      }
     },
     "d27132043d574294855eccbbde504cda": {
      "model_module": "@jupyter-widgets/controls",
      "model_module_version": "1.5.0",
      "model_name": "DescriptionStyleModel",
      "state": {
       "description_width": ""
      }
     },
     "d50ed6ad33ed44b48fb09fd9635d790e": {
      "model_module": "@jupyter-widgets/base",
      "model_module_version": "1.2.0",
      "model_name": "LayoutModel",
      "state": {}
     },
     "d5af3cfcdd9543f38c6ddf199df3ade5": {
      "model_module": "@jupyter-widgets/base",
      "model_module_version": "1.2.0",
      "model_name": "LayoutModel",
      "state": {}
     },
     "d9c4f7d1843d4bbf8c8614022e77b4ea": {
      "model_module": "@jupyter-widgets/controls",
      "model_module_version": "1.5.0",
      "model_name": "DescriptionStyleModel",
      "state": {
       "description_width": ""
      }
     },
     "dcaedeb159e446eb91a3a795844a5546": {
      "model_module": "@jupyter-widgets/controls",
      "model_module_version": "1.5.0",
      "model_name": "HTMLModel",
      "state": {
       "layout": "IPY_MODEL_e172094a134e41688b2abb25f3a540cf",
       "style": "IPY_MODEL_fce21d6005f14c1787a14a78609bfbb4",
       "value": " 0/20 [00:00&lt;?, ?it/s]"
      }
     },
     "ddcbf249d1da4ed2b0ec61af82283cc4": {
      "model_module": "@jupyter-widgets/base",
      "model_module_version": "1.2.0",
      "model_name": "LayoutModel",
      "state": {}
     },
     "dfb6f017e5d045e29a21ed09d128483e": {
      "model_module": "@jupyter-widgets/base",
      "model_module_version": "1.2.0",
      "model_name": "LayoutModel",
      "state": {}
     },
     "e172094a134e41688b2abb25f3a540cf": {
      "model_module": "@jupyter-widgets/base",
      "model_module_version": "1.2.0",
      "model_name": "LayoutModel",
      "state": {}
     },
     "e3b74a1eb5b543dfb3e3c4dd775aeb0a": {
      "model_module": "@jupyter-widgets/controls",
      "model_module_version": "1.5.0",
      "model_name": "HTMLModel",
      "state": {
       "layout": "IPY_MODEL_e5787a4b93ce4334b4ffb2ca70b54e6a",
       "style": "IPY_MODEL_a95c5a3db259425abaae10abab4fce37",
       "value": " 2/2 [00:01&lt;00:00,  1.89it/s]"
      }
     },
     "e4bd10eb2f834d94b88caa0438e730db": {
      "model_module": "@jupyter-widgets/controls",
      "model_module_version": "1.5.0",
      "model_name": "FloatProgressModel",
      "state": {
       "bar_style": "danger",
       "layout": "IPY_MODEL_11535c24ff8645229b47996391bf97eb",
       "max": 20,
       "style": "IPY_MODEL_55be7f527b5f48b1b06c7d93d0808dba",
       "value": 2
      }
     },
     "e5787a4b93ce4334b4ffb2ca70b54e6a": {
      "model_module": "@jupyter-widgets/base",
      "model_module_version": "1.2.0",
      "model_name": "LayoutModel",
      "state": {}
     },
     "e88f33be9cd9421ca4c658b4ba5e8170": {
      "model_module": "@jupyter-widgets/base",
      "model_module_version": "1.2.0",
      "model_name": "LayoutModel",
      "state": {}
     },
     "e9b0cb7f41be4f2988a5ff1ba98eabc2": {
      "model_module": "@jupyter-widgets/controls",
      "model_module_version": "1.5.0",
      "model_name": "DescriptionStyleModel",
      "state": {
       "description_width": ""
      }
     },
     "e9b5f2c0bbe24157bb70248e08d42471": {
      "model_module": "@jupyter-widgets/base",
      "model_module_version": "1.2.0",
      "model_name": "LayoutModel",
      "state": {}
     },
     "eb07b4dc1952428c889e6cd8f0d71ed0": {
      "model_module": "@jupyter-widgets/base",
      "model_module_version": "1.2.0",
      "model_name": "LayoutModel",
      "state": {}
     },
     "ec0edb7358154e22a7548de86a95f774": {
      "model_module": "@jupyter-widgets/controls",
      "model_module_version": "1.5.0",
      "model_name": "FloatProgressModel",
      "state": {
       "layout": "IPY_MODEL_e9b5f2c0bbe24157bb70248e08d42471",
       "max": 2,
       "style": "IPY_MODEL_9bdd51c26be4491a946e8bc8158642cd",
       "value": 2
      }
     },
     "edc197fd34574f31ad6ad2248838dfe8": {
      "model_module": "@jupyter-widgets/base",
      "model_module_version": "1.2.0",
      "model_name": "LayoutModel",
      "state": {}
     },
     "ee1e7a8b4bdd4b65b016e10314ecc4a3": {
      "model_module": "@jupyter-widgets/base",
      "model_module_version": "1.2.0",
      "model_name": "LayoutModel",
      "state": {}
     },
     "eea3f4b8e7ce4d3d8422ace1d2552f54": {
      "model_module": "@jupyter-widgets/controls",
      "model_module_version": "1.5.0",
      "model_name": "HTMLModel",
      "state": {
       "layout": "IPY_MODEL_edc197fd34574f31ad6ad2248838dfe8",
       "style": "IPY_MODEL_31c85de4c0f24057a50ce3dcd085c045",
       "value": "Sholl analysis: 100%"
      }
     },
     "eec34c5b97c24b6685a7865f8834e6a0": {
      "model_module": "@jupyter-widgets/base",
      "model_module_version": "1.2.0",
      "model_name": "LayoutModel",
      "state": {}
     },
     "f02062037e734f80a0b8f480329ea81d": {
      "model_module": "@jupyter-widgets/controls",
      "model_module_version": "1.5.0",
      "model_name": "HTMLModel",
      "state": {
       "layout": "IPY_MODEL_82643fe2bdaf4424a4394e0b86762126",
       "style": "IPY_MODEL_7c1c1f14590748cb958eb7d151c30b14",
       "value": " 0/20 [00:00&lt;?, ?it/s]"
      }
     },
     "f08c5d057d1241868d59405eda01f616": {
      "model_module": "@jupyter-widgets/controls",
      "model_module_version": "1.5.0",
      "model_name": "HTMLModel",
      "state": {
       "layout": "IPY_MODEL_9b010e58a4d549ab8a7960469dbee4e3",
       "style": "IPY_MODEL_d27132043d574294855eccbbde504cda",
       "value": "Sholl analysis:   0%"
      }
     },
     "f2ad996e3c834f51b0d153f5360e3fce": {
      "model_module": "@jupyter-widgets/controls",
      "model_module_version": "1.5.0",
      "model_name": "DescriptionStyleModel",
      "state": {
       "description_width": ""
      }
     },
     "f40122e562a94a2eb98398e78335fddc": {
      "model_module": "@jupyter-widgets/controls",
      "model_module_version": "1.5.0",
      "model_name": "HTMLModel",
      "state": {
       "layout": "IPY_MODEL_11ab9a399bbb4c9c83b3ebb1cc494029",
       "style": "IPY_MODEL_08677f2ad8f149878b6c653a8f7bbea7",
       "value": "Sholl anal.:   0%"
      }
     },
     "f73ad76da3ff45d7b5b092e9828ae2fb": {
      "model_module": "@jupyter-widgets/base",
      "model_module_version": "1.2.0",
      "model_name": "LayoutModel",
      "state": {}
     },
     "f8040864f92745ff8c1ab05c30ff0f9e": {
      "model_module": "@jupyter-widgets/base",
      "model_module_version": "1.2.0",
      "model_name": "LayoutModel",
      "state": {}
     },
     "f854601becec47bf87025d0cb2bb821d": {
      "model_module": "@jupyter-widgets/base",
      "model_module_version": "1.2.0",
      "model_name": "LayoutModel",
      "state": {}
     },
     "f86b2e053bc74e0ab7dcb131f424209e": {
      "model_module": "@jupyter-widgets/base",
      "model_module_version": "1.2.0",
      "model_name": "LayoutModel",
      "state": {}
     },
     "fb67e21b717e4ce281283dd9c1c2e10c": {
      "model_module": "@jupyter-widgets/controls",
      "model_module_version": "1.5.0",
      "model_name": "DescriptionStyleModel",
      "state": {
       "description_width": ""
      }
     },
     "fca1ac35bebb40fdbaa4bd5f0f25fa60": {
      "model_module": "@jupyter-widgets/controls",
      "model_module_version": "1.5.0",
      "model_name": "FloatProgressModel",
      "state": {
       "layout": "IPY_MODEL_a15e432e095b4cd8a6cf2b8e70131719",
       "max": 20,
       "style": "IPY_MODEL_3fa10de108b948d1aab1a927b9d6f2e4",
       "value": 20
      }
     },
     "fce21d6005f14c1787a14a78609bfbb4": {
      "model_module": "@jupyter-widgets/controls",
      "model_module_version": "1.5.0",
      "model_name": "DescriptionStyleModel",
      "state": {
       "description_width": ""
      }
     },
     "fdec75eca26e46a68890bd210d41a6e0": {
      "model_module": "@jupyter-widgets/base",
      "model_module_version": "1.2.0",
      "model_name": "LayoutModel",
      "state": {}
     },
     "feb1c3379ada453fb0bf4fc24aa78b6c": {
      "model_module": "@jupyter-widgets/controls",
      "model_module_version": "1.5.0",
      "model_name": "ProgressStyleModel",
      "state": {
       "description_width": ""
      }
     },
     "ff21ce562d194be7a01461cc3638bf1b": {
      "model_module": "@jupyter-widgets/base",
      "model_module_version": "1.2.0",
      "model_name": "LayoutModel",
      "state": {}
     },
     "ff6a2fad901749d092819c51ba05b2f8": {
      "model_module": "@jupyter-widgets/controls",
      "model_module_version": "1.5.0",
      "model_name": "DescriptionStyleModel",
      "state": {
       "description_width": ""
      }
     }
    },
    "version_major": 2,
    "version_minor": 0
   }
  }
 },
 "nbformat": 4,
 "nbformat_minor": 4
}
