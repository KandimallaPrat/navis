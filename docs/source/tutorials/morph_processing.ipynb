{
 "cells": [
  {
   "cell_type": "raw",
   "metadata": {
    "raw_mimetype": "text/restructuredtext"
   },
   "source": [
    "This tutorial will give you an impression of how to process and manipulate your neurons' morphology. See the :ref:`API reference <api_morph>` for a complete list of available functions.\n",
    "\n",
    "As you might imagine some manipulations (e.g. smoothing or simplification) will work on all/most neuron types while others will only work on specific types. For example rerooting only makes sense on a ``TreeNeuron``.\n",
    "\n",
    "The rule of thumb is this: if a function is called e.g. ``simplify_neuron`` it should work with multiple if not all neuron types while specialized functions will be called e.g. ``reroot_skeleton``. So depending on what data you are working with and what you want to get out of it, you might have to explicitly convert between neuron types. See the respective function's docstring for details!"
   ]
  },
  {
   "cell_type": "raw",
   "metadata": {
    "raw_mimetype": "text/restructuredtext"
   },
   "source": [
    "Rerooting\n",
    "=========\n",
    "\n",
    "``TreeNeurons`` are hierarchical trees and as such typically have a single \"root\" node (fragmented neurons will have multiple roots). The root is important because it is used as the reference/origin for a bunch of analyses such as Strahler order. Typically, you want the root to be the soma. Because the root is so important, :class:`TreeNeuron` can be rerooted:"
   ]
  },
  {
   "cell_type": "code",
   "execution_count": 1,
   "metadata": {},
   "outputs": [
    {
     "name": "stdout",
     "output_type": "stream",
     "text": [
      "[4177]\n"
     ]
    }
   ],
   "source": [
    "import navis\n",
    "\n",
    "n = navis.example_neurons(1, kind='skeleton')\n",
    "print(n.soma)"
   ]
  },
  {
   "cell_type": "raw",
   "metadata": {
    "raw_mimetype": "text/restructuredtext"
   },
   "source": [
    "``.soma`` returns the node ID of the soma (if there is one) and can be used to reroot"
   ]
  },
  {
   "cell_type": "code",
   "execution_count": 2,
   "metadata": {},
   "outputs": [
    {
     "data": {
      "text/html": [
       "<div>\n",
       "<style scoped>\n",
       "    .dataframe tbody tr th:only-of-type {\n",
       "        vertical-align: middle;\n",
       "    }\n",
       "\n",
       "    .dataframe tbody tr th {\n",
       "        vertical-align: top;\n",
       "    }\n",
       "\n",
       "    .dataframe thead th {\n",
       "        text-align: right;\n",
       "    }\n",
       "</style>\n",
       "<table border=\"1\" class=\"dataframe\">\n",
       "  <thead>\n",
       "    <tr style=\"text-align: right;\">\n",
       "      <th></th>\n",
       "      <th></th>\n",
       "    </tr>\n",
       "  </thead>\n",
       "  <tbody>\n",
       "    <tr>\n",
       "      <th>type</th>\n",
       "      <td>navis.TreeNeuron</td>\n",
       "    </tr>\n",
       "    <tr>\n",
       "      <th>name</th>\n",
       "      <td>DA1_lPN_R</td>\n",
       "    </tr>\n",
       "    <tr>\n",
       "      <th>id</th>\n",
       "      <td>1734350788</td>\n",
       "    </tr>\n",
       "    <tr>\n",
       "      <th>n_nodes</th>\n",
       "      <td>4465</td>\n",
       "    </tr>\n",
       "    <tr>\n",
       "      <th>n_connectors</th>\n",
       "      <td>2705</td>\n",
       "    </tr>\n",
       "    <tr>\n",
       "      <th>n_branches</th>\n",
       "      <td>598</td>\n",
       "    </tr>\n",
       "    <tr>\n",
       "      <th>n_leafs</th>\n",
       "      <td>619</td>\n",
       "    </tr>\n",
       "    <tr>\n",
       "      <th>cable_length</th>\n",
       "      <td>266476.875</td>\n",
       "    </tr>\n",
       "    <tr>\n",
       "      <th>soma</th>\n",
       "      <td>[4177]</td>\n",
       "    </tr>\n",
       "    <tr>\n",
       "      <th>units</th>\n",
       "      <td>8 nanometer</td>\n",
       "    </tr>\n",
       "    <tr>\n",
       "      <th>created_at</th>\n",
       "      <td>2022-07-27 21:16:48.240027</td>\n",
       "    </tr>\n",
       "    <tr>\n",
       "      <th>id</th>\n",
       "      <td>1734350788</td>\n",
       "    </tr>\n",
       "    <tr>\n",
       "      <th>origin</th>\n",
       "      <td>/Users/philipps/Google Drive/Cloudbox/Github/n...</td>\n",
       "    </tr>\n",
       "  </tbody>\n",
       "</table>\n",
       "</div>"
      ],
      "text/plain": [
       "type                                             navis.TreeNeuron\n",
       "name                                                    DA1_lPN_R\n",
       "id                                                     1734350788\n",
       "n_nodes                                                      4465\n",
       "n_connectors                                                 2705\n",
       "n_branches                                                    598\n",
       "n_leafs                                                       619\n",
       "cable_length                                           266476.875\n",
       "soma                                                       [4177]\n",
       "units                                                 8 nanometer\n",
       "created_at                             2022-07-27 21:16:48.240027\n",
       "id                                                     1734350788\n",
       "origin          /Users/philipps/Google Drive/Cloudbox/Github/n...\n",
       "dtype: object"
      ]
     },
     "execution_count": 2,
     "metadata": {},
     "output_type": "execute_result"
    }
   ],
   "source": [
    "navis.reroot_skeleton(n, n.soma)"
   ]
  },
  {
   "cell_type": "raw",
   "metadata": {
    "raw_mimetype": "text/restructuredtext"
   },
   "source": [
    "Note that the root is implicitly also important for :class:`~navis.MeshNeuron` because we're using their skeletons for a couple operations/analyses. "
   ]
  },
  {
   "cell_type": "raw",
   "metadata": {
    "raw_mimetype": "text/restructuredtext"
   },
   "source": [
    "Simplifying\n",
    "===========\n",
    "\n",
    "If you work with large lists of neurons you may want to downsample/simplifiy before e.g. trying to plot them. This is one of the things that - in principle work - with all neuron types. The implementation, however, depends on the neuron type. Lookup the respective function's help (e.g. via the :ref:`API <api>`) for details. \n",
    "\n",
    "For ``TreeNeurons`` downsampling means skipping N nodes (here 10):"
   ]
  },
  {
   "cell_type": "code",
   "execution_count": 3,
   "metadata": {},
   "outputs": [
    {
     "name": "stdout",
     "output_type": "stream",
     "text": [
      "4465\n"
     ]
    }
   ],
   "source": [
    "sk = navis.example_neurons(n=1, kind='skeleton')\n",
    "print(sk.n_nodes)"
   ]
  },
  {
   "cell_type": "code",
   "execution_count": 4,
   "metadata": {},
   "outputs": [
    {
     "name": "stdout",
     "output_type": "stream",
     "text": [
      "1304\n"
     ]
    }
   ],
   "source": [
    "sk_downsampled = navis.downsample_neuron(sk, downsampling_factor=10, inplace=False)\n",
    "print(sk_downsampled.n_nodes)"
   ]
  },
  {
   "cell_type": "raw",
   "metadata": {
    "raw_mimetype": "text/restructuredtext",
    "tags": []
   },
   "source": [
    "For ``MeshNeurons`` downsampling will reduce the number of faces by a factor of N:"
   ]
  },
  {
   "cell_type": "code",
   "execution_count": 5,
   "metadata": {},
   "outputs": [
    {
     "name": "stdout",
     "output_type": "stream",
     "text": [
      "13054\n"
     ]
    }
   ],
   "source": [
    "me = navis.example_neurons(n=1, kind='mesh')\n",
    "print(me.n_faces)"
   ]
  },
  {
   "cell_type": "code",
   "execution_count": 6,
   "metadata": {},
   "outputs": [
    {
     "name": "stdout",
     "output_type": "stream",
     "text": [
      "1474\n"
     ]
    }
   ],
   "source": [
    "me_downsampled = navis.downsample_neuron(me, downsampling_factor=10, inplace=False)\n",
    "print(me_downsampled.n_faces)"
   ]
  },
  {
   "cell_type": "raw",
   "metadata": {
    "raw_mimetype": "text/restructuredtext",
    "tags": []
   },
   "source": [
    ".. note::\n",
    "   Under the hood :func:`~navis.downsample_neuron` calls :func:`~navis.simplify_mesh` for ``MeshNeurons``.\n",
    "   That function then requires one of the supported backends for mesh operations to be installed: Blender\n",
    "   3D, ``pymeshlab`` or ``open3d``.\n",
    "\n",
    "``TreeNeurons`` can also be \"resampled\" (up or down) to a given resolution (i.e. distance between nodes):"
   ]
  },
  {
   "cell_type": "code",
   "execution_count": 10,
   "metadata": {},
   "outputs": [
    {
     "name": "stdout",
     "output_type": "stream",
     "text": [
      "477.4501679731243 nanometer\n"
     ]
    }
   ],
   "source": [
    "sk = navis.example_neurons(n=1, kind='skeleton')\n",
    "print(sk.sampling_resolution * sk.units)"
   ]
  },
  {
   "cell_type": "code",
   "execution_count": 8,
   "metadata": {},
   "outputs": [
    {
     "name": "stdout",
     "output_type": "stream",
     "text": [
      "1072.2341923485653 nanometer\n"
     ]
    }
   ],
   "source": [
    "# Note that we can provide a unit (\"1 micron\") here because our neuron has units set\n",
    "sk_resampled = navis.resample_skeleton(sk, resample_to='1 micron', inplace=False)\n",
    "print(sk_resampled.sampling_resolution * sk_resampled.units)"
   ]
  },
  {
   "cell_type": "raw",
   "metadata": {
    "raw_mimetype": "text/restructuredtext",
    "tags": []
   },
   "source": [
    "Let's visualize what we did there:"
   ]
  },
  {
   "cell_type": "code",
   "execution_count": 11,
   "metadata": {},
   "outputs": [
    {
     "data": {
      "image/png": "[encoded data removed]",
      "text/plain": [
       "<Figure size 1296x360 with 3 Axes>"
      ]
     },
     "metadata": {
      "needs_background": "light"
     },
     "output_type": "display_data"
    }
   ],
   "source": [
    "import matplotlib.pyplot as plt\n",
    "\n",
    "nodes_original = sk.nodes[['x', 'y' ,'z']].values \n",
    "nodes_downsampled = sk_downsampled.nodes[['x', 'y' ,'z']].values \n",
    "nodes_resampled = sk_resampled.nodes[['x', 'y' ,'z']].values \n",
    "\n",
    "fig, axes = plt.subplots(1, 3, figsize=(18, 5))\n",
    "\n",
    "_ = navis.plot2d(nodes_original, method='2d', view=('x', '-z'), scatter_kws=dict(c='blue'), ax=axes[0])\n",
    "_ = navis.plot2d(nodes_resampled, method='2d', view=('x', '-z'), scatter_kws=dict(c='red'), ax=axes[1])\n",
    "_ = navis.plot2d(nodes_downsampled, method='2d', view=('x', '-z'), scatter_kws=dict(c='green'), ax=axes[2])\n",
    "\n",
    "for ax, title in zip(axes, ['Original', 'Resampled to 1um', 'Downsampled 10x']):\n",
    "    ax.set_title(title, color='lightgrey')\n",
    "    ax.set_axis_off()\n",
    "\n",
    "plt.show()"
   ]
  },
  {
   "cell_type": "raw",
   "metadata": {
    "raw_mimetype": "text/restructuredtext"
   },
   "source": [
    "As you can see the resampling increased the node density in the backbone and decreased it in the finer neurites to bring things on par. Downsampling just thinned out the nodes across the board.\n",
    "\n",
    ".. note::\n",
    "\n",
    "   Resampling has a caveat you need to be aware of: nodes are not merely moved around to match the \n",
    "   desired resolution - they are regenerated from scratch. As consequence, the original node IDs\n",
    "   are - with a few exceptions - all gone.\n",
    "\n",
    "Smoothing\n",
    "=========\n",
    "\n",
    "Smoothing is one of those things that work on all neurons but the approaches are so vastly different that there are separate functions: :func:`navis.smooth_skeleton`, :func:`navis.smooth_mesh` and :func:`navis.smooth_voxels`:"
   ]
  },
  {
   "cell_type": "code",
   "execution_count": 12,
   "metadata": {},
   "outputs": [
    {
     "data": {
      "application/vnd.jupyter.widget-view+json": {
       "model_id": "",
       "version_major": 2,
       "version_minor": 0
      },
      "text/plain": [
       "Smoothing:   0%|          | 0/618 [00:00<?, ?it/s]"
      ]
     },
     "metadata": {},
     "output_type": "display_data"
    }
   ],
   "source": [
    "# smooth_skeleton uses a rolling window along the linear segments\n",
    "sk = navis.example_neurons(n=1, kind='skeleton')\n",
    "sk_smoothed = navis.smooth_skeleton(sk, window=5, inplace=False)"
   ]
  },
  {
   "cell_type": "code",
   "execution_count": 13,
   "metadata": {},
   "outputs": [],
   "source": [
    "# smooth_mesh uses a iterative rounds of Laplacian smoothing\n",
    "me = navis.example_neurons(n=1, kind='mesh')\n",
    "me_smoothed = navis.smooth_mesh(me, iterations=5, inplace=False)"
   ]
  },
  {
   "cell_type": "raw",
   "metadata": {
    "raw_mimetype": "text/restructuredtext"
   },
   "source": [
    "Cutting & Pruning\n",
    "=================\n",
    "\n",
    "Cutting and pruning work best if there is a sense of topology which implicitly requires a skeleton. Many functions will also work on ``MeshNeurons`` though. That's because the operation is performed on their skeleton and changes are propagated back to the mesh. Fair warning though: this may not be perfect (e.g. the resulting mesh might not be watertight) - should be good enough for a first pass though.\n",
    "\n",
    "Let's start with something easy: cutting a skeleton in two at a given node."
   ]
  },
  {
   "cell_type": "code",
   "execution_count": 16,
   "metadata": {},
   "outputs": [],
   "source": [
    "# Load the neuron\n",
    "n = navis.example_neurons(1, kind='skeleton')\n",
    "\n",
    "# Pick a node ID\n",
    "cut_node_id = n.nodes.node_id.values[333]\n",
    "distal, proximal = navis.cut_skeleton(n, cut_node_id)"
   ]
  },
  {
   "cell_type": "raw",
   "metadata": {
    "raw_mimetype": "text/restructuredtext"
   },
   "source": [
    "Plot the two fragments:"
   ]
  },
  {
   "cell_type": "code",
   "execution_count": 17,
   "metadata": {},
   "outputs": [
    {
     "data": {
      "image/png": "[encoded data removed]",
      "text/plain": [
       "<Figure size 576x576 with 1 Axes>"
      ]
     },
     "metadata": {
      "needs_background": "light"
     },
     "output_type": "display_data"
    }
   ],
   "source": [
    "# Note that we are using method='2d' here because that makes annotating the plot easier\n",
    "fig, ax = distal.plot2d(color='cyan', method='2d', view=('x', '-z'))\n",
    "fig, ax = proximal.plot2d(color='green', ax=ax, method='2d', view=('x', '-z'))\n",
    "\n",
    "# Annotate cut point\n",
    "cut_coords = distal.nodes.set_index('node_id').loc[distal.root, ['x', 'z']].values[0]\n",
    "ax.annotate('cut point',\n",
    "            xy=(cut_coords[0], -cut_coords[1]),\n",
    "            color='lightgrey',\n",
    "            xytext=(cut_coords[0], -cut_coords[1]-2000), va='center', ha='center',\n",
    "            arrowprops=dict(shrink=0.1, width=2, color='lightgrey'),\n",
    "            )\n",
    "\n",
    "plt.show()"
   ]
  },
  {
   "cell_type": "raw",
   "metadata": {
    "raw_mimetype": "text/restructuredtext",
    "tags": []
   },
   "source": [
    "If instead of a node ID, you have an x/y/z coordinate where you want to cut: use the ``.snap`` method to find the closest node to that location."
   ]
  },
  {
   "cell_type": "code",
   "execution_count": 23,
   "metadata": {},
   "outputs": [
    {
     "name": "stdout",
     "output_type": "stream",
     "text": [
      "Closest node: 334 at distance 565.69 nanometer nanometer\n"
     ]
    }
   ],
   "source": [
    "node_id, dist = n.snap([14000, 16200, 12000])\n",
    "print(f'Closest node: {node_id} at distance {dist * n.units:.2f} {n.units.units}')"
   ]
  },
  {
   "cell_type": "raw",
   "metadata": {
    "raw_mimetype": "text/restructuredtext"
   },
   "source": [
    "Instead of cutting a neuron in two, we can also just prune bits off:"
   ]
  },
  {
   "cell_type": "code",
   "execution_count": 24,
   "metadata": {},
   "outputs": [
    {
     "data": {
      "image/png": "[encoded data removed]",
      "text/plain": [
       "<Figure size 576x576 with 1 Axes>"
      ]
     },
     "metadata": {
      "needs_background": "light"
     },
     "output_type": "display_data"
    }
   ],
   "source": [
    "n_pruned = n.prune_distal_to(cut_node_id, inplace=False)\n",
    "\n",
    "cut_coords = n.nodes.set_index('node_id').loc[cut_node_id, ['x', 'z']].values\n",
    "\n",
    "# Plot original neuron in red and with dotted line\n",
    "fig, ax = n.plot2d(color='red', method='2d', linestyle=(0, (5, 10)), view=('x', '-z'))\n",
    "\n",
    "# Plot remaining neurites in red\n",
    "fig, ax = n_pruned.plot2d(color='green', method='2d', ax=ax, view=('x', '-z'), lw=1.2)\n",
    "\n",
    "# Annotate cut point\n",
    "ax.annotate('cut point',\n",
    "            xy=(cut_coords[0], -cut_coords[1]),\n",
    "            color='lightgrey',\n",
    "            xytext=(cut_coords[0], -cut_coords[1]-2000), va='center', ha='center',\n",
    "            arrowprops=dict(shrink=0.1, width=2, color='lightgrey'),\n",
    "            )\n",
    "\n",
    "plt.show()"
   ]
  },
  {
   "cell_type": "raw",
   "metadata": {
    "raw_mimetype": "text/restructuredtext"
   },
   "source": [
    ":func:`~navis.cut_skeleton` also takes multiple cut nodes, in case you want to chop your neuron into multiple pieces.\n",
    "\n",
    "As an (extreme) example, let's cut a neuron at every single branch point:"
   ]
  },
  {
   "cell_type": "code",
   "execution_count": 26,
   "metadata": {},
   "outputs": [
    {
     "data": {
      "text/html": [
       "<div>\n",
       "<style scoped>\n",
       "    .dataframe tbody tr th:only-of-type {\n",
       "        vertical-align: middle;\n",
       "    }\n",
       "\n",
       "    .dataframe tbody tr th {\n",
       "        vertical-align: top;\n",
       "    }\n",
       "\n",
       "    .dataframe thead th {\n",
       "        text-align: right;\n",
       "    }\n",
       "</style>\n",
       "<table border=\"1\" class=\"dataframe\">\n",
       "  <thead>\n",
       "    <tr style=\"text-align: right;\">\n",
       "      <th></th>\n",
       "      <th>type</th>\n",
       "      <th>name</th>\n",
       "      <th>id</th>\n",
       "      <th>n_nodes</th>\n",
       "      <th>n_connectors</th>\n",
       "      <th>n_branches</th>\n",
       "      <th>n_leafs</th>\n",
       "      <th>cable_length</th>\n",
       "      <th>soma</th>\n",
       "      <th>units</th>\n",
       "      <th>created_at</th>\n",
       "      <th>id</th>\n",
       "      <th>origin</th>\n",
       "    </tr>\n",
       "  </thead>\n",
       "  <tbody>\n",
       "    <tr>\n",
       "      <th>0</th>\n",
       "      <td>navis.TreeNeuron</td>\n",
       "      <td>DA1_lPN_R</td>\n",
       "      <td>1734350788</td>\n",
       "      <td>4</td>\n",
       "      <td>16</td>\n",
       "      <td>0</td>\n",
       "      <td>2</td>\n",
       "      <td>373.565735</td>\n",
       "      <td>None</td>\n",
       "      <td>8 nanometer</td>\n",
       "      <td>2022-07-27 21:19:57.584201</td>\n",
       "      <td>1734350788</td>\n",
       "      <td>/Users/philipps/Google Drive/Cloudbox/Github/n...</td>\n",
       "    </tr>\n",
       "    <tr>\n",
       "      <th>1</th>\n",
       "      <td>navis.TreeNeuron</td>\n",
       "      <td>DA1_lPN_R</td>\n",
       "      <td>1734350788</td>\n",
       "      <td>5</td>\n",
       "      <td>10</td>\n",
       "      <td>0</td>\n",
       "      <td>2</td>\n",
       "      <td>431.518494</td>\n",
       "      <td>None</td>\n",
       "      <td>8 nanometer</td>\n",
       "      <td>2022-07-27 21:19:57.584201</td>\n",
       "      <td>1734350788</td>\n",
       "      <td>/Users/philipps/Google Drive/Cloudbox/Github/n...</td>\n",
       "    </tr>\n",
       "    <tr>\n",
       "      <th>2</th>\n",
       "      <td>navis.TreeNeuron</td>\n",
       "      <td>DA1_lPN_R</td>\n",
       "      <td>1734350788</td>\n",
       "      <td>6</td>\n",
       "      <td>12</td>\n",
       "      <td>0</td>\n",
       "      <td>2</td>\n",
       "      <td>388.590637</td>\n",
       "      <td>None</td>\n",
       "      <td>8 nanometer</td>\n",
       "      <td>2022-07-27 21:19:57.584201</td>\n",
       "      <td>1734350788</td>\n",
       "      <td>/Users/philipps/Google Drive/Cloudbox/Github/n...</td>\n",
       "    </tr>\n",
       "    <tr>\n",
       "      <th>3</th>\n",
       "      <td>navis.TreeNeuron</td>\n",
       "      <td>DA1_lPN_R</td>\n",
       "      <td>1734350788</td>\n",
       "      <td>8</td>\n",
       "      <td>22</td>\n",
       "      <td>0</td>\n",
       "      <td>2</td>\n",
       "      <td>665.534912</td>\n",
       "      <td>None</td>\n",
       "      <td>8 nanometer</td>\n",
       "      <td>2022-07-27 21:19:57.584201</td>\n",
       "      <td>1734350788</td>\n",
       "      <td>/Users/philipps/Google Drive/Cloudbox/Github/n...</td>\n",
       "    </tr>\n",
       "    <tr>\n",
       "      <th>4</th>\n",
       "      <td>navis.TreeNeuron</td>\n",
       "      <td>DA1_lPN_R</td>\n",
       "      <td>1734350788</td>\n",
       "      <td>28</td>\n",
       "      <td>8</td>\n",
       "      <td>0</td>\n",
       "      <td>2</td>\n",
       "      <td>1534.385498</td>\n",
       "      <td>None</td>\n",
       "      <td>8 nanometer</td>\n",
       "      <td>2022-07-27 21:19:57.584201</td>\n",
       "      <td>1734350788</td>\n",
       "      <td>/Users/philipps/Google Drive/Cloudbox/Github/n...</td>\n",
       "    </tr>\n",
       "  </tbody>\n",
       "</table>\n",
       "</div>"
      ],
      "text/plain": [
       "               type       name          id  n_nodes  n_connectors  n_branches  \\\n",
       "0  navis.TreeNeuron  DA1_lPN_R  1734350788        4            16           0   \n",
       "1  navis.TreeNeuron  DA1_lPN_R  1734350788        5            10           0   \n",
       "2  navis.TreeNeuron  DA1_lPN_R  1734350788        6            12           0   \n",
       "3  navis.TreeNeuron  DA1_lPN_R  1734350788        8            22           0   \n",
       "4  navis.TreeNeuron  DA1_lPN_R  1734350788       28             8           0   \n",
       "\n",
       "   n_leafs  cable_length  soma        units                  created_at  \\\n",
       "0        2    373.565735  None  8 nanometer  2022-07-27 21:19:57.584201   \n",
       "1        2    431.518494  None  8 nanometer  2022-07-27 21:19:57.584201   \n",
       "2        2    388.590637  None  8 nanometer  2022-07-27 21:19:57.584201   \n",
       "3        2    665.534912  None  8 nanometer  2022-07-27 21:19:57.584201   \n",
       "4        2   1534.385498  None  8 nanometer  2022-07-27 21:19:57.584201   \n",
       "\n",
       "           id                                             origin  \n",
       "0  1734350788  /Users/philipps/Google Drive/Cloudbox/Github/n...  \n",
       "1  1734350788  /Users/philipps/Google Drive/Cloudbox/Github/n...  \n",
       "2  1734350788  /Users/philipps/Google Drive/Cloudbox/Github/n...  \n",
       "3  1734350788  /Users/philipps/Google Drive/Cloudbox/Github/n...  \n",
       "4  1734350788  /Users/philipps/Google Drive/Cloudbox/Github/n...  "
      ]
     },
     "execution_count": 26,
     "metadata": {},
     "output_type": "execute_result"
    }
   ],
   "source": [
    "n = navis.example_neurons(1, kind='skeleton')\n",
    "\n",
    "branch_points = n.nodes[n.nodes.type=='branch'].node_id.values\n",
    "\n",
    "cut = navis.cut_skeleton(n, branch_points)\n",
    "cut.head()"
   ]
  },
  {
   "cell_type": "code",
   "execution_count": 27,
   "metadata": {},
   "outputs": [
    {
     "data": {
      "application/vnd.jupyter.widget-view+json": {
       "model_id": "",
       "version_major": 2,
       "version_minor": 0
      },
      "text/plain": [
       "Plot neurons:   0%|          | 0/600 [00:00<?, ?it/s]"
      ]
     },
     "metadata": {},
     "output_type": "display_data"
    },
    {
     "data": {
      "image/png": "[encoded data removed]",
      "text/plain": [
       "<Figure size 432x432 with 1 Axes>"
      ]
     },
     "metadata": {
      "needs_background": "light"
     },
     "output_type": "display_data"
    }
   ],
   "source": [
    "# Plot neuron fragments\n",
    "fig, ax = navis.plot2d(cut, linewidth=1.5)\n",
    "\n",
    "# Rotate to front view\n",
    "ax.azim, ax.elev = -90, -90\n",
    "ax.dist = 6\n",
    "\n",
    "plt.show()"
   ]
  },
  {
   "cell_type": "raw",
   "metadata": {
    "raw_mimetype": "text/restructuredtext"
   },
   "source": [
    "Let's try something more sophisticated: pruning by Strahler index."
   ]
  },
  {
   "cell_type": "code",
   "execution_count": 33,
   "metadata": {},
   "outputs": [
    {
     "data": {
      "image/png": "[encoded data removed]",
      "text/plain": [
       "<Figure size 432x432 with 1 Axes>"
      ]
     },
     "metadata": {
      "needs_background": "light"
     },
     "output_type": "display_data"
    }
   ],
   "source": [
    "# Load a fresh skeleton\n",
    "n = navis.example_neurons(1, kind='skeleton')\n",
    "\n",
    "# Reroot to soma\n",
    "n = n.reroot(n.soma)\n",
    "\n",
    "# This will prune off terminal branches (the lowest two Strahler indices)\n",
    "n_pruned = n.prune_by_strahler(to_prune = [1, 2], inplace=False)\n",
    "\n",
    "# Plot original neurons in red\n",
    "fig, ax = n.plot2d(color='red')\n",
    "\n",
    "# Plot remaining neurites in green\n",
    "fig, ax = n_pruned.plot2d(color='green', ax=ax, linewidth=1)\n",
    "\n",
    "# Rotate to front view\n",
    "ax.azim, ax.elev = -90, -90\n",
    "ax.dist = 6\n",
    "\n",
    "plt.show()"
   ]
  },
  {
   "cell_type": "raw",
   "metadata": {
    "raw_mimetype": "text/restructuredtext"
   },
   "source": [
    "We can also turn this around and remove only the higher order branches. Let's use this example to show that we can also do this with ``MeshNeurons``:"
   ]
  },
  {
   "cell_type": "code",
   "execution_count": 34,
   "metadata": {},
   "outputs": [
    {
     "data": {
      "image/png": "[encoded data removed]",
      "text/plain": [
       "<Figure size 720x720 with 1 Axes>"
      ]
     },
     "metadata": {
      "needs_background": "light"
     },
     "output_type": "display_data"
    }
   ],
   "source": [
    "# Load an example mesh neuron\n",
    "m = navis.example_neurons(1, kind='mesh')\n",
    "\n",
    "# This will prune to the just terminal branches\n",
    "m_pruned = navis.prune_by_strahler(m, to_prune=range(3, 100), inplace=False)\n",
    "\n",
    "# Plot original neuron in cyan\n",
    "fig, ax = m.plot2d(color='cyan', figsize=(10, 10))\n",
    "\n",
    "# Plot remaining neurites red\n",
    "fig, ax = m_pruned.plot2d(color='red', ax=ax)\n",
    "\n",
    "# Rotate to front view\n",
    "ax.azim, ax.elev = -90, -90\n",
    "ax.dist = 6\n",
    "\n",
    "plt.show()"
   ]
  },
  {
   "cell_type": "raw",
   "metadata": {
    "raw_mimetype": "text/restructuredtext"
   },
   "source": [
    "Alternatively, we can prune terminal branches based on size:"
   ]
  },
  {
   "cell_type": "code",
   "execution_count": 35,
   "metadata": {},
   "outputs": [
    {
     "data": {
      "image/png": "[encoded data removed]",
      "text/plain": [
       "<Figure size 720x720 with 1 Axes>"
      ]
     },
     "metadata": {
      "needs_background": "light"
     },
     "output_type": "display_data"
    }
   ],
   "source": [
    "# This will prune all branches smaller than 10 microns\n",
    "m_pruned = navis.prune_twigs(m, size='10 microns', inplace=False)\n",
    "\n",
    "# Plot original neuron in red\n",
    "fig, ax = m.plot2d(color='red', figsize=(10, 10))\n",
    "\n",
    "# Plot remaining neurites in cyan\n",
    "fig, ax = m_pruned.plot2d(color='cyan', ax=ax, linewidth=.75, alpha=.5)\n",
    "\n",
    "# Rotate to front view\n",
    "ax.azim, ax.elev = -90, -90\n",
    "ax.dist = 6\n",
    "\n",
    "plt.show()"
   ]
  },
  {
   "cell_type": "raw",
   "metadata": {
    "raw_mimetype": "text/restructuredtext"
   },
   "source": [
    "Intersecting with Volumes\n",
    "=========================\n",
    "\n",
    "We can also intersect neurons with :class:`navis.Volume` (and ``trimesh.Trimesh`` for that matter)."
   ]
  },
  {
   "cell_type": "code",
   "execution_count": 36,
   "metadata": {},
   "outputs": [],
   "source": [
    "# Load an example navis.Volume\n",
    "lh = navis.example_volume('LH')\n",
    "\n",
    "# Prune by volume\n",
    "m_lh = navis.in_volume(m, lh, inplace=False)\n",
    "m_outside_lh = navis.in_volume(m, lh, mode='OUT', inplace=False)"
   ]
  },
  {
   "cell_type": "raw",
   "metadata": {
    "raw_mimetype": "text/restructuredtext"
   },
   "source": [
    "And plot!"
   ]
  },
  {
   "cell_type": "code",
   "execution_count": 37,
   "metadata": {},
   "outputs": [
    {
     "data": {
      "application/vnd.jupyter.widget-view+json": {
       "model_id": "",
       "version_major": 2,
       "version_minor": 0
      },
      "text/plain": [
       "Plot neurons:   0%|          | 0/2 [00:00<?, ?it/s]"
      ]
     },
     "metadata": {},
     "output_type": "display_data"
    },
    {
     "data": {
      "image/png": "[encoded data removed]",
      "text/plain": [
       "<Figure size 720x720 with 1 Axes>"
      ]
     },
     "metadata": {
      "needs_background": "light"
     },
     "output_type": "display_data"
    }
   ],
   "source": [
    "# Plot pruned branchs neuron in green\n",
    "fig, ax = navis.plot2d([m_lh, m_outside_lh, lh], color=['red', 'green'], figsize=(10, 10))\n",
    "\n",
    "# Rotate to front view\n",
    "ax.azim, ax.elev = -90, -90\n",
    "ax.dist = 6\n",
    "\n",
    "plt.show()"
   ]
  },
  {
   "cell_type": "raw",
   "metadata": {
    "raw_mimetype": "text/restructuredtext",
    "tags": []
   },
   "source": [
    "`Does this work with all neuron types`? There is no simple answer unfortunately. In theory, anything that works on skeletons should also work on meshes, and vice versa. However, :class:`~navis.Dotprops` and :class:`~navis.VoxelNeuron` are so fundamentally different that certain operations just don't make sense. For example we can't cut them but we can subset them to a given volume. Check out the :ref:`API <api_func_matrix>` docs for an overview of what works with which neuron type.\n",
    "\n",
    "Note that :func:`navis.in_volume` also works with arbitrary spatial data (i.e. `(N, 3)` arrays of x/y/z locations):"
   ]
  },
  {
   "cell_type": "code",
   "execution_count": 38,
   "metadata": {},
   "outputs": [
    {
     "data": {
      "text/html": [
       "<div>\n",
       "<style scoped>\n",
       "    .dataframe tbody tr th:only-of-type {\n",
       "        vertical-align: middle;\n",
       "    }\n",
       "\n",
       "    .dataframe tbody tr th {\n",
       "        vertical-align: top;\n",
       "    }\n",
       "\n",
       "    .dataframe thead th {\n",
       "        text-align: right;\n",
       "    }\n",
       "</style>\n",
       "<table border=\"1\" class=\"dataframe\">\n",
       "  <thead>\n",
       "    <tr style=\"text-align: right;\">\n",
       "      <th></th>\n",
       "      <th>connector_id</th>\n",
       "      <th>node_id</th>\n",
       "      <th>type</th>\n",
       "      <th>x</th>\n",
       "      <th>y</th>\n",
       "      <th>z</th>\n",
       "      <th>roi</th>\n",
       "      <th>confidence</th>\n",
       "      <th>in_lh</th>\n",
       "    </tr>\n",
       "  </thead>\n",
       "  <tbody>\n",
       "    <tr>\n",
       "      <th>0</th>\n",
       "      <td>0</td>\n",
       "      <td>1436</td>\n",
       "      <td>pre</td>\n",
       "      <td>6444</td>\n",
       "      <td>21608</td>\n",
       "      <td>14516</td>\n",
       "      <td>LH(R)</td>\n",
       "      <td>0.959</td>\n",
       "      <td>True</td>\n",
       "    </tr>\n",
       "    <tr>\n",
       "      <th>1</th>\n",
       "      <td>1</td>\n",
       "      <td>1436</td>\n",
       "      <td>pre</td>\n",
       "      <td>6457</td>\n",
       "      <td>21634</td>\n",
       "      <td>14474</td>\n",
       "      <td>LH(R)</td>\n",
       "      <td>0.997</td>\n",
       "      <td>True</td>\n",
       "    </tr>\n",
       "    <tr>\n",
       "      <th>2</th>\n",
       "      <td>2</td>\n",
       "      <td>2638</td>\n",
       "      <td>pre</td>\n",
       "      <td>4728</td>\n",
       "      <td>23538</td>\n",
       "      <td>14179</td>\n",
       "      <td>LH(R)</td>\n",
       "      <td>0.886</td>\n",
       "      <td>True</td>\n",
       "    </tr>\n",
       "    <tr>\n",
       "      <th>3</th>\n",
       "      <td>3</td>\n",
       "      <td>1441</td>\n",
       "      <td>pre</td>\n",
       "      <td>5296</td>\n",
       "      <td>22059</td>\n",
       "      <td>16048</td>\n",
       "      <td>LH(R)</td>\n",
       "      <td>0.967</td>\n",
       "      <td>True</td>\n",
       "    </tr>\n",
       "    <tr>\n",
       "      <th>4</th>\n",
       "      <td>4</td>\n",
       "      <td>1872</td>\n",
       "      <td>pre</td>\n",
       "      <td>4838</td>\n",
       "      <td>23114</td>\n",
       "      <td>15146</td>\n",
       "      <td>LH(R)</td>\n",
       "      <td>0.990</td>\n",
       "      <td>True</td>\n",
       "    </tr>\n",
       "  </tbody>\n",
       "</table>\n",
       "</div>"
      ],
      "text/plain": [
       "   connector_id  node_id type     x      y      z    roi  confidence  in_lh\n",
       "0             0     1436  pre  6444  21608  14516  LH(R)       0.959   True\n",
       "1             1     1436  pre  6457  21634  14474  LH(R)       0.997   True\n",
       "2             2     2638  pre  4728  23538  14179  LH(R)       0.886   True\n",
       "3             3     1441  pre  5296  22059  16048  LH(R)       0.967   True\n",
       "4             4     1872  pre  4838  23114  15146  LH(R)       0.990   True"
      ]
     },
     "execution_count": 38,
     "metadata": {},
     "output_type": "execute_result"
    }
   ],
   "source": [
    "# Get the connectors for one of our above skeletons\n",
    "cn = sk.connectors\n",
    "\n",
    "# Add a column that tells us which connectors are in the LH volume\n",
    "cn['in_lh'] = navis.in_volume(cn[['x', 'y', 'z']].values, lh)\n",
    "cn.head()"
   ]
  },
  {
   "cell_type": "code",
   "execution_count": 39,
   "metadata": {},
   "outputs": [
    {
     "data": {
      "text/plain": [
       "type  in_lh\n",
       "post  False    1978\n",
       "      True      106\n",
       "pre   False     325\n",
       "      True      296\n",
       "dtype: int64"
      ]
     },
     "execution_count": 39,
     "metadata": {},
     "output_type": "execute_result"
    }
   ],
   "source": [
    "# Count the number of connectors (pre and post) in- and outside the LH:\n",
    "cn.groupby(['type', 'in_lh']).size()"
   ]
  },
  {
   "cell_type": "raw",
   "metadata": {
    "raw_mimetype": "text/restructuredtext"
   },
   "source": [
    "About half the presynapses are in the LH (most of the rest will be in the MB calyx). The large majority of postsynapses are outside the LH in the antennal lobe where this neuron has its dendrites.\n",
    "\n",
    "That's it for now! Please see the :ref:`NBLAST tutorial <nblast_intro>` for morphological comparisons using NBLAST and the :ref:`API<api_morph>` for a full list of morphology-related functions."
   ]
  }
 ],
 "metadata": {
  "celltoolbar": "Raw Cell Format",
  "kernelspec": {
   "display_name": "Python 3 (ipykernel)",
   "language": "python",
   "name": "python3"
  },
  "language_info": {
   "codemirror_mode": {
    "name": "ipython",
    "version": 3
   },
   "file_extension": ".py",
   "mimetype": "text/x-python",
   "name": "python",
   "nbconvert_exporter": "python",
   "pygments_lexer": "ipython3",
   "version": "3.9.9"
  },
  "widgets": {
   "application/vnd.jupyter.widget-state+json": {
    "state": {
     "00e5521a88484f9ab91aff5b73059a5a": {
      "model_module": "@jupyter-widgets/base",
      "model_module_version": "1.2.0",
      "model_name": "LayoutModel",
      "state": {}
     },
     "032ca28094bf4421a972c6af24a4eaa2": {
      "model_module": "@jupyter-widgets/controls",
      "model_module_version": "1.5.0",
      "model_name": "DescriptionStyleModel",
      "state": {
       "description_width": ""
      }
     },
     "037783eed31e4942a9ba11a639a1b609": {
      "model_module": "@jupyter-widgets/controls",
      "model_module_version": "1.5.0",
      "model_name": "HTMLModel",
      "state": {
       "layout": "IPY_MODEL_00e5521a88484f9ab91aff5b73059a5a",
       "style": "IPY_MODEL_fe45020b7a1d404eb0088daa7bd3c512",
       "value": " 5/5 [00:00&lt;00:00,  6.26it/s]"
      }
     },
     "04734e1a67a14467af57b15717663f76": {
      "model_module": "@jupyter-widgets/controls",
      "model_module_version": "1.5.0",
      "model_name": "HTMLModel",
      "state": {
       "layout": "IPY_MODEL_60b5f413a9d74397b6a3ff464f146a07",
       "style": "IPY_MODEL_45f1cf8c5f344a5082e2fbcdcb6755f3",
       "value": "Plot neurons: 100%"
      }
     },
     "13b63756eca047508b58d3dab5c49e83": {
      "model_module": "@jupyter-widgets/controls",
      "model_module_version": "1.5.0",
      "model_name": "HTMLModel",
      "state": {
       "layout": "IPY_MODEL_c55c293a80da4e31a47413dd9c2b9db1",
       "style": "IPY_MODEL_032ca28094bf4421a972c6af24a4eaa2",
       "value": "Plot neurons:   0%"
      }
     },
     "1656f92062024af7a66b049014dce97c": {
      "model_module": "@jupyter-widgets/base",
      "model_module_version": "1.2.0",
      "model_name": "LayoutModel",
      "state": {}
     },
     "16cec2611b9d4aab9df3b57824332d98": {
      "model_module": "@jupyter-widgets/controls",
      "model_module_version": "1.5.0",
      "model_name": "HTMLModel",
      "state": {
       "layout": "IPY_MODEL_c9363d05f22043bcb6db8d444dc533b9",
       "style": "IPY_MODEL_a02fb051de6d4087aacea952beca6c79",
       "value": " 5/5 [00:01&lt;00:00,  2.86it/s]"
      }
     },
     "17880f653df9479988c312bad1d6a3f5": {
      "model_module": "@jupyter-widgets/base",
      "model_module_version": "1.2.0",
      "model_name": "LayoutModel",
      "state": {}
     },
     "17a03ea3ced74b62ba5a1b015f22362c": {
      "model_module": "@jupyter-widgets/base",
      "model_module_version": "1.2.0",
      "model_name": "LayoutModel",
      "state": {}
     },
     "1822878632cf42ad8f3e65763a010347": {
      "model_module": "@jupyter-widgets/controls",
      "model_module_version": "1.5.0",
      "model_name": "ProgressStyleModel",
      "state": {
       "description_width": ""
      }
     },
     "1a72ece516b643b89aaabf53ec677f55": {
      "model_module": "@jupyter-widgets/controls",
      "model_module_version": "1.5.0",
      "model_name": "ProgressStyleModel",
      "state": {
       "description_width": ""
      }
     },
     "1c114144e4af4304a413ee32af6bc318": {
      "model_module": "@jupyter-widgets/base",
      "model_module_version": "1.2.0",
      "model_name": "LayoutModel",
      "state": {}
     },
     "1ee2641c39bd47c9b4a6a189281c730d": {
      "model_module": "@jupyter-widgets/controls",
      "model_module_version": "1.5.0",
      "model_name": "DescriptionStyleModel",
      "state": {
       "description_width": ""
      }
     },
     "2464f4f2421a41a39572df7db0051f72": {
      "model_module": "@jupyter-widgets/controls",
      "model_module_version": "1.5.0",
      "model_name": "DescriptionStyleModel",
      "state": {
       "description_width": ""
      }
     },
     "25962d2641d147f6b9652cc168019e5a": {
      "model_module": "@jupyter-widgets/base",
      "model_module_version": "1.2.0",
      "model_name": "LayoutModel",
      "state": {}
     },
     "274b465da9f64155a65852fa42adbb30": {
      "model_module": "@jupyter-widgets/controls",
      "model_module_version": "1.5.0",
      "model_name": "DescriptionStyleModel",
      "state": {
       "description_width": ""
      }
     },
     "2873092b5e054ccba8dc7c039281a630": {
      "model_module": "@jupyter-widgets/controls",
      "model_module_version": "1.5.0",
      "model_name": "DescriptionStyleModel",
      "state": {
       "description_width": ""
      }
     },
     "2b974d6049ac4c63a6ac19cadc2c0ce9": {
      "model_module": "@jupyter-widgets/base",
      "model_module_version": "1.2.0",
      "model_name": "LayoutModel",
      "state": {}
     },
     "2d546770c9034c519ee6fdeefd9a36ec": {
      "model_module": "@jupyter-widgets/base",
      "model_module_version": "1.2.0",
      "model_name": "LayoutModel",
      "state": {}
     },
     "31bc7710db5a489882081975850de40c": {
      "model_module": "@jupyter-widgets/base",
      "model_module_version": "1.2.0",
      "model_name": "LayoutModel",
      "state": {}
     },
     "326b6f74b8d4452d805c41f2dd02e543": {
      "model_module": "@jupyter-widgets/base",
      "model_module_version": "1.2.0",
      "model_name": "LayoutModel",
      "state": {}
     },
     "38454e7d3f244652b79c9d21452d7e56": {
      "model_module": "@jupyter-widgets/controls",
      "model_module_version": "1.5.0",
      "model_name": "FloatProgressModel",
      "state": {
       "layout": "IPY_MODEL_6c2780e32b8749a29fc01ee281db780a",
       "max": 5,
       "style": "IPY_MODEL_1a72ece516b643b89aaabf53ec677f55",
       "value": 5
      }
     },
     "3d8f1037abfa4a6a82764bc8fdec7cb5": {
      "model_module": "@jupyter-widgets/controls",
      "model_module_version": "1.5.0",
      "model_name": "DescriptionStyleModel",
      "state": {
       "description_width": ""
      }
     },
     "3daace0bd8b2407896e3c58bbabf728e": {
      "model_module": "@jupyter-widgets/controls",
      "model_module_version": "1.5.0",
      "model_name": "HTMLModel",
      "state": {
       "layout": "IPY_MODEL_6d2009d073fc4cfea5b4115efc0dd1c6",
       "style": "IPY_MODEL_732136868d634f80af896a3df1355ad5",
       "value": "prune_by_strahler: 100%"
      }
     },
     "41e7231e0bf6485fbbad3a542e605613": {
      "model_module": "@jupyter-widgets/base",
      "model_module_version": "1.2.0",
      "model_name": "LayoutModel",
      "state": {}
     },
     "4279040a4e4440e78393841348f4b0b3": {
      "model_module": "@jupyter-widgets/base",
      "model_module_version": "1.2.0",
      "model_name": "LayoutModel",
      "state": {}
     },
     "435c52c564594683a6e366b1c1756a8d": {
      "model_module": "@jupyter-widgets/base",
      "model_module_version": "1.2.0",
      "model_name": "LayoutModel",
      "state": {}
     },
     "45f1cf8c5f344a5082e2fbcdcb6755f3": {
      "model_module": "@jupyter-widgets/controls",
      "model_module_version": "1.5.0",
      "model_name": "DescriptionStyleModel",
      "state": {
       "description_width": ""
      }
     },
     "54caf9c36a8845b3a8448aa028784d4d": {
      "model_module": "@jupyter-widgets/base",
      "model_module_version": "1.2.0",
      "model_name": "LayoutModel",
      "state": {}
     },
     "54d95b0f616c43c6a300a159ab05975f": {
      "model_module": "@jupyter-widgets/controls",
      "model_module_version": "1.5.0",
      "model_name": "ProgressStyleModel",
      "state": {
       "description_width": ""
      }
     },
     "597bca488bd244a28a1fdfd87aeb94f0": {
      "model_module": "@jupyter-widgets/controls",
      "model_module_version": "1.5.0",
      "model_name": "FloatProgressModel",
      "state": {
       "layout": "IPY_MODEL_435c52c564594683a6e366b1c1756a8d",
       "max": 2,
       "style": "IPY_MODEL_87459f4e86234b76b704bf4a39c4f4e0",
       "value": 2
      }
     },
     "5a0abbb7a0f94e118cc553c55b44a337": {
      "model_module": "@jupyter-widgets/controls",
      "model_module_version": "1.5.0",
      "model_name": "HTMLModel",
      "state": {
       "layout": "IPY_MODEL_4279040a4e4440e78393841348f4b0b3",
       "style": "IPY_MODEL_aff3ec6cb0f0422382d165fa0765a31b",
       "value": " 598/600 [00:11&lt;00:00, 58.88it/s]"
      }
     },
     "5fe2d4a9cc31453594ac17e4d81a3c65": {
      "model_module": "@jupyter-widgets/controls",
      "model_module_version": "1.5.0",
      "model_name": "DescriptionStyleModel",
      "state": {
       "description_width": ""
      }
     },
     "60b5f413a9d74397b6a3ff464f146a07": {
      "model_module": "@jupyter-widgets/base",
      "model_module_version": "1.2.0",
      "model_name": "LayoutModel",
      "state": {}
     },
     "61a0598be5e647c093b69bf46781575e": {
      "model_module": "@jupyter-widgets/base",
      "model_module_version": "1.2.0",
      "model_name": "LayoutModel",
      "state": {}
     },
     "66d462638f934dc7b065cb76f25de6b1": {
      "model_module": "@jupyter-widgets/controls",
      "model_module_version": "1.5.0",
      "model_name": "ProgressStyleModel",
      "state": {
       "description_width": ""
      }
     },
     "6c2780e32b8749a29fc01ee281db780a": {
      "model_module": "@jupyter-widgets/base",
      "model_module_version": "1.2.0",
      "model_name": "LayoutModel",
      "state": {}
     },
     "6d2009d073fc4cfea5b4115efc0dd1c6": {
      "model_module": "@jupyter-widgets/base",
      "model_module_version": "1.2.0",
      "model_name": "LayoutModel",
      "state": {}
     },
     "732136868d634f80af896a3df1355ad5": {
      "model_module": "@jupyter-widgets/controls",
      "model_module_version": "1.5.0",
      "model_name": "DescriptionStyleModel",
      "state": {
       "description_width": ""
      }
     },
     "738f9ad347494a83828bd795eda0c8d7": {
      "model_module": "@jupyter-widgets/controls",
      "model_module_version": "1.5.0",
      "model_name": "DescriptionStyleModel",
      "state": {
       "description_width": ""
      }
     },
     "742faf8795ee499bb2de5df1b630e688": {
      "model_module": "@jupyter-widgets/controls",
      "model_module_version": "1.5.0",
      "model_name": "FloatProgressModel",
      "state": {
       "layout": "IPY_MODEL_984e5efaec0542be8e30a67a44de3e35",
       "max": 5,
       "style": "IPY_MODEL_66d462638f934dc7b065cb76f25de6b1",
       "value": 5
      }
     },
     "7500a72279cf4137a77c94e43b1636bd": {
      "model_module": "@jupyter-widgets/controls",
      "model_module_version": "1.5.0",
      "model_name": "HTMLModel",
      "state": {
       "layout": "IPY_MODEL_fb9195381b404095a7d914f69265e104",
       "style": "IPY_MODEL_5fe2d4a9cc31453594ac17e4d81a3c65",
       "value": " 0/2 [00:00&lt;?, ?it/s]"
      }
     },
     "75555cad8f944ce3bf0b3bb46e918538": {
      "model_module": "@jupyter-widgets/base",
      "model_module_version": "1.2.0",
      "model_name": "LayoutModel",
      "state": {}
     },
     "794d4588d1b445f59708192fbec6e48d": {
      "model_module": "@jupyter-widgets/base",
      "model_module_version": "1.2.0",
      "model_name": "LayoutModel",
      "state": {}
     },
     "7ac6055203ff44098b9e985a441f82e1": {
      "model_module": "@jupyter-widgets/base",
      "model_module_version": "1.2.0",
      "model_name": "LayoutModel",
      "state": {}
     },
     "7b36e3f6ed3f450dac8efc7e19b64590": {
      "model_module": "@jupyter-widgets/controls",
      "model_module_version": "1.5.0",
      "model_name": "HTMLModel",
      "state": {
       "layout": "IPY_MODEL_54caf9c36a8845b3a8448aa028784d4d",
       "style": "IPY_MODEL_9a47d353c93947288e76560a683011f6",
       "value": "Plot neurons: 100%"
      }
     },
     "7e1ebc03053540ec93cd9dc5ab996ef5": {
      "model_module": "@jupyter-widgets/controls",
      "model_module_version": "1.5.0",
      "model_name": "FloatProgressModel",
      "state": {
       "layout": "IPY_MODEL_a817736f69af45ea9c31d68d266638a1",
       "max": 618,
       "style": "IPY_MODEL_e1a4fa788e204748a4ed7c948f9375f7",
       "value": 618
      }
     },
     "81184672fc914cde90857971f51eb326": {
      "model_module": "@jupyter-widgets/base",
      "model_module_version": "1.2.0",
      "model_name": "LayoutModel",
      "state": {}
     },
     "87459f4e86234b76b704bf4a39c4f4e0": {
      "model_module": "@jupyter-widgets/controls",
      "model_module_version": "1.5.0",
      "model_name": "ProgressStyleModel",
      "state": {
       "description_width": ""
      }
     },
     "88e9155507b14f6caa1255c3511e0b4a": {
      "model_module": "@jupyter-widgets/controls",
      "model_module_version": "1.5.0",
      "model_name": "DescriptionStyleModel",
      "state": {
       "description_width": ""
      }
     },
     "8d42988594bb4b08bcc00579efa36ef2": {
      "model_module": "@jupyter-widgets/controls",
      "model_module_version": "1.5.0",
      "model_name": "HTMLModel",
      "state": {
       "layout": "IPY_MODEL_25962d2641d147f6b9652cc168019e5a",
       "style": "IPY_MODEL_e3ec17f039504e7f9ecd5efb1d7a7cc3",
       "value": "Plot neurons: 100%"
      }
     },
     "8f73032b7fd9454cbf588796ccbde2b3": {
      "model_module": "@jupyter-widgets/controls",
      "model_module_version": "1.5.0",
      "model_name": "FloatProgressModel",
      "state": {
       "layout": "IPY_MODEL_d031e77ed6d246a3bf71d3305a83711f",
       "max": 5,
       "style": "IPY_MODEL_54d95b0f616c43c6a300a159ab05975f",
       "value": 5
      }
     },
     "9016bbf67e024c91b12859d9f656faec": {
      "model_module": "@jupyter-widgets/controls",
      "model_module_version": "1.5.0",
      "model_name": "HTMLModel",
      "state": {
       "layout": "IPY_MODEL_1c114144e4af4304a413ee32af6bc318",
       "style": "IPY_MODEL_3d8f1037abfa4a6a82764bc8fdec7cb5",
       "value": " 4/5 [00:00&lt;00:00, 17.73it/s]"
      }
     },
     "959c1bbe412447489e145a910b4c77e5": {
      "model_module": "@jupyter-widgets/base",
      "model_module_version": "1.2.0",
      "model_name": "LayoutModel",
      "state": {}
     },
     "984e5efaec0542be8e30a67a44de3e35": {
      "model_module": "@jupyter-widgets/base",
      "model_module_version": "1.2.0",
      "model_name": "LayoutModel",
      "state": {}
     },
     "9a47d353c93947288e76560a683011f6": {
      "model_module": "@jupyter-widgets/controls",
      "model_module_version": "1.5.0",
      "model_name": "DescriptionStyleModel",
      "state": {
       "description_width": ""
      }
     },
     "9c5c976152564d599ad2100c74f72319": {
      "model_module": "@jupyter-widgets/controls",
      "model_module_version": "1.5.0",
      "model_name": "HTMLModel",
      "state": {
       "layout": "IPY_MODEL_2d546770c9034c519ee6fdeefd9a36ec",
       "style": "IPY_MODEL_a4013d40e55c4dd19924325aa750875f",
       "value": "Plot neurons:  80%"
      }
     },
     "9cd1fe364bb14385b35e80aee90b93bc": {
      "model_module": "@jupyter-widgets/controls",
      "model_module_version": "1.5.0",
      "model_name": "HTMLModel",
      "state": {
       "layout": "IPY_MODEL_959c1bbe412447489e145a910b4c77e5",
       "style": "IPY_MODEL_1ee2641c39bd47c9b4a6a189281c730d",
       "value": " 5/5 [00:00&lt;00:00,  6.88it/s]"
      }
     },
     "a02fb051de6d4087aacea952beca6c79": {
      "model_module": "@jupyter-widgets/controls",
      "model_module_version": "1.5.0",
      "model_name": "DescriptionStyleModel",
      "state": {
       "description_width": ""
      }
     },
     "a4013d40e55c4dd19924325aa750875f": {
      "model_module": "@jupyter-widgets/controls",
      "model_module_version": "1.5.0",
      "model_name": "DescriptionStyleModel",
      "state": {
       "description_width": ""
      }
     },
     "a44ef342ef4a4e5c9a97bf2d67fe9bb7": {
      "model_module": "@jupyter-widgets/controls",
      "model_module_version": "1.5.0",
      "model_name": "HTMLModel",
      "state": {
       "layout": "IPY_MODEL_cbb4cd0a96de4d62ad20a1581967c63c",
       "style": "IPY_MODEL_738f9ad347494a83828bd795eda0c8d7",
       "value": "prune_by_strahler: 100%"
      }
     },
     "a817736f69af45ea9c31d68d266638a1": {
      "model_module": "@jupyter-widgets/base",
      "model_module_version": "1.2.0",
      "model_name": "LayoutModel",
      "state": {}
     },
     "a97784bab65b43ce8999f6cbe07f51a0": {
      "model_module": "@jupyter-widgets/controls",
      "model_module_version": "1.5.0",
      "model_name": "FloatProgressModel",
      "state": {
       "layout": "IPY_MODEL_ae783100f75c44629926fda4612fbf4f",
       "max": 600,
       "style": "IPY_MODEL_d6421bb7a056433a8dc9783f8a4b86a5",
       "value": 600
      }
     },
     "abc17bc9e32d4e0c836818a1367e1fb4": {
      "model_module": "@jupyter-widgets/controls",
      "model_module_version": "1.5.0",
      "model_name": "DescriptionStyleModel",
      "state": {
       "description_width": ""
      }
     },
     "ae783100f75c44629926fda4612fbf4f": {
      "model_module": "@jupyter-widgets/base",
      "model_module_version": "1.2.0",
      "model_name": "LayoutModel",
      "state": {}
     },
     "aff3ec6cb0f0422382d165fa0765a31b": {
      "model_module": "@jupyter-widgets/controls",
      "model_module_version": "1.5.0",
      "model_name": "DescriptionStyleModel",
      "state": {
       "description_width": ""
      }
     },
     "b2b5e0056f2b40d79f49bb2731a34490": {
      "model_module": "@jupyter-widgets/base",
      "model_module_version": "1.2.0",
      "model_name": "LayoutModel",
      "state": {}
     },
     "bdb0524b531d458d9633c69c4a1551b6": {
      "model_module": "@jupyter-widgets/controls",
      "model_module_version": "1.5.0",
      "model_name": "HTMLModel",
      "state": {
       "layout": "IPY_MODEL_fe2cdd98c11a4621bf3072edc8166602",
       "style": "IPY_MODEL_2464f4f2421a41a39572df7db0051f72",
       "value": " 617/618 [00:01&lt;00:00, 355.45it/s]"
      }
     },
     "c14f416bc9064ce2a857270b0bc67b42": {
      "model_module": "@jupyter-widgets/controls",
      "model_module_version": "1.5.0",
      "model_name": "FloatProgressModel",
      "state": {
       "layout": "IPY_MODEL_75555cad8f944ce3bf0b3bb46e918538",
       "max": 5,
       "style": "IPY_MODEL_c3c8d1e6750d4f769debebecee802fc4",
       "value": 5
      }
     },
     "c3c8d1e6750d4f769debebecee802fc4": {
      "model_module": "@jupyter-widgets/controls",
      "model_module_version": "1.5.0",
      "model_name": "ProgressStyleModel",
      "state": {
       "description_width": ""
      }
     },
     "c55c293a80da4e31a47413dd9c2b9db1": {
      "model_module": "@jupyter-widgets/base",
      "model_module_version": "1.2.0",
      "model_name": "LayoutModel",
      "state": {}
     },
     "c9363d05f22043bcb6db8d444dc533b9": {
      "model_module": "@jupyter-widgets/base",
      "model_module_version": "1.2.0",
      "model_name": "LayoutModel",
      "state": {}
     },
     "cbb4cd0a96de4d62ad20a1581967c63c": {
      "model_module": "@jupyter-widgets/base",
      "model_module_version": "1.2.0",
      "model_name": "LayoutModel",
      "state": {}
     },
     "cf88352170cd436488f317ff8115cc05": {
      "model_module": "@jupyter-widgets/controls",
      "model_module_version": "1.5.0",
      "model_name": "FloatProgressModel",
      "state": {
       "layout": "IPY_MODEL_61a0598be5e647c093b69bf46781575e",
       "max": 5,
       "style": "IPY_MODEL_1822878632cf42ad8f3e65763a010347",
       "value": 5
      }
     },
     "d031e77ed6d246a3bf71d3305a83711f": {
      "model_module": "@jupyter-widgets/base",
      "model_module_version": "1.2.0",
      "model_name": "LayoutModel",
      "state": {}
     },
     "d29a570948644d8eae0639ef59581f9a": {
      "model_module": "@jupyter-widgets/controls",
      "model_module_version": "1.5.0",
      "model_name": "HTMLModel",
      "state": {
       "layout": "IPY_MODEL_1656f92062024af7a66b049014dce97c",
       "style": "IPY_MODEL_abc17bc9e32d4e0c836818a1367e1fb4",
       "value": "Plot neurons: 100%"
      }
     },
     "d2cb85ad57a2499f8943cee0448ac895": {
      "model_module": "@jupyter-widgets/controls",
      "model_module_version": "1.5.0",
      "model_name": "HTMLModel",
      "state": {
       "layout": "IPY_MODEL_f51cae353d314adf90c0939420b7d74e",
       "style": "IPY_MODEL_274b465da9f64155a65852fa42adbb30",
       "value": " 5/5 [00:00&lt;00:00,  6.82it/s]"
      }
     },
     "d34aa9c095024214aaf809596ed0a1b5": {
      "model_module": "@jupyter-widgets/controls",
      "model_module_version": "1.5.0",
      "model_name": "HTMLModel",
      "state": {
       "layout": "IPY_MODEL_326b6f74b8d4452d805c41f2dd02e543",
       "style": "IPY_MODEL_88e9155507b14f6caa1255c3511e0b4a",
       "value": " 5/5 [00:00&lt;00:00, 19.56it/s]"
      }
     },
     "d6421bb7a056433a8dc9783f8a4b86a5": {
      "model_module": "@jupyter-widgets/controls",
      "model_module_version": "1.5.0",
      "model_name": "ProgressStyleModel",
      "state": {
       "description_width": ""
      }
     },
     "dbb98c1b700f4bbbb1de79390c4a3f64": {
      "model_module": "@jupyter-widgets/base",
      "model_module_version": "1.2.0",
      "model_name": "LayoutModel",
      "state": {}
     },
     "e00884961287469cb7921b1ba1e2998f": {
      "model_module": "@jupyter-widgets/controls",
      "model_module_version": "1.5.0",
      "model_name": "ProgressStyleModel",
      "state": {
       "description_width": ""
      }
     },
     "e1a4fa788e204748a4ed7c948f9375f7": {
      "model_module": "@jupyter-widgets/controls",
      "model_module_version": "1.5.0",
      "model_name": "ProgressStyleModel",
      "state": {
       "description_width": ""
      }
     },
     "e3ec17f039504e7f9ecd5efb1d7a7cc3": {
      "model_module": "@jupyter-widgets/controls",
      "model_module_version": "1.5.0",
      "model_name": "DescriptionStyleModel",
      "state": {
       "description_width": ""
      }
     },
     "e42bffdbd331447c83dc373b95dbfbea": {
      "model_module": "@jupyter-widgets/base",
      "model_module_version": "1.2.0",
      "model_name": "LayoutModel",
      "state": {}
     },
     "e7ea377b2c13492aac93cb8f8838720d": {
      "model_module": "@jupyter-widgets/controls",
      "model_module_version": "1.5.0",
      "model_name": "HTMLModel",
      "state": {
       "layout": "IPY_MODEL_b2b5e0056f2b40d79f49bb2731a34490",
       "style": "IPY_MODEL_2873092b5e054ccba8dc7c039281a630",
       "value": "Smoothing: 100%"
      }
     },
     "e9c932658120408b9fdd6c815b6c1946": {
      "model_module": "@jupyter-widgets/controls",
      "model_module_version": "1.5.0",
      "model_name": "FloatProgressModel",
      "state": {
       "layout": "IPY_MODEL_17a03ea3ced74b62ba5a1b015f22362c",
       "max": 5,
       "style": "IPY_MODEL_e00884961287469cb7921b1ba1e2998f",
       "value": 5
      }
     },
     "f51cae353d314adf90c0939420b7d74e": {
      "model_module": "@jupyter-widgets/base",
      "model_module_version": "1.2.0",
      "model_name": "LayoutModel",
      "state": {}
     },
     "fb9195381b404095a7d914f69265e104": {
      "model_module": "@jupyter-widgets/base",
      "model_module_version": "1.2.0",
      "model_name": "LayoutModel",
      "state": {}
     },
     "fe2cdd98c11a4621bf3072edc8166602": {
      "model_module": "@jupyter-widgets/base",
      "model_module_version": "1.2.0",
      "model_name": "LayoutModel",
      "state": {}
     },
     "fe45020b7a1d404eb0088daa7bd3c512": {
      "model_module": "@jupyter-widgets/controls",
      "model_module_version": "1.5.0",
      "model_name": "DescriptionStyleModel",
      "state": {
       "description_width": ""
      }
     }
    },
    "version_major": 2,
    "version_minor": 0
   }
  }
 },
 "nbformat": 4,
 "nbformat_minor": 4
}
