{
 "cells": [
  {
   "cell_type": "raw",
   "id": "70a60d6b-082e-4728-907a-af8a3e039d16",
   "metadata": {
    "raw_mimetype": "text/restructuredtext",
    "tags": []
   },
   "source": [
    ".. _local_data_voxels_tut:\n",
    "\n",
    "Voxel / image data\n",
    "------------------\n",
    "\n",
    "``navis`` lets you import neurons from a variety of local and remote sources. In this tutorial you will learn how to load voxel data from local data and - failing that - construct them from scratch. For loading remote data (e.g. the MICrONS, neuromorpho, Virtual Fly Brain or Janelia hemibrain datasets), ``navis`` has dedicated interfaces. See the :ref:`example gallery <example_gallery>` for tutorials on these.\n",
    "\n",
    "Voxel data (e.g. from confocal scans) is represented by the :class:`navis.VoxelNeuron` class. At this point, ``navis`` supports reading just a single file format directly: ``.nrrd`` files via :func:`navis.read_nrrd` and :func:`navis.write_nrrd`. "
   ]
  },
  {
   "cell_type": "code",
   "execution_count": null,
   "id": "4e030094-c71d-4292-b2c6-ec06c8677997",
   "metadata": {},
   "outputs": [],
   "source": [
    "import navis"
   ]
  },
  {
   "cell_type": "raw",
   "id": "b0146a0b-c32c-4836-8d89-8aaf587406c3",
   "metadata": {
    "raw_mimetype": "text/restructuredtext",
    "tags": []
   },
   "source": [
    "For this example I downloaded one of Janelia's Fly Light confocal stacks (`link <https://splitgal4.janelia.org/>`_) and converted it to nrrd using ImageJ. "
   ]
  },
  {
   "cell_type": "code",
   "execution_count": 27,
   "id": "1ee24e54-6997-4355-bd3b-898bd6b00b9a",
   "metadata": {},
   "outputs": [
    {
     "data": {
      "text/html": [
       "<div>\n",
       "<style scoped>\n",
       "    .dataframe tbody tr th:only-of-type {\n",
       "        vertical-align: middle;\n",
       "    }\n",
       "\n",
       "    .dataframe tbody tr th {\n",
       "        vertical-align: top;\n",
       "    }\n",
       "\n",
       "    .dataframe thead th {\n",
       "        text-align: right;\n",
       "    }\n",
       "</style>\n",
       "<table border=\"1\" class=\"dataframe\">\n",
       "  <thead>\n",
       "    <tr style=\"text-align: right;\">\n",
       "      <th></th>\n",
       "      <th></th>\n",
       "    </tr>\n",
       "  </thead>\n",
       "  <tbody>\n",
       "    <tr>\n",
       "      <th>type</th>\n",
       "      <td>navis.VoxelNeuron</td>\n",
       "    </tr>\n",
       "    <tr>\n",
       "      <th>name</th>\n",
       "      <td>JRC_SS86025_JRC_SS86025-20211112_49_B6</td>\n",
       "    </tr>\n",
       "    <tr>\n",
       "      <th>units</th>\n",
       "      <td>[0.5189161 micrometer, 0.5189161 micrometer, 1...</td>\n",
       "    </tr>\n",
       "    <tr>\n",
       "      <th>shape</th>\n",
       "      <td>(1210, 563, 364)</td>\n",
       "    </tr>\n",
       "    <tr>\n",
       "      <th>dtype</th>\n",
       "      <td>&gt;u2</td>\n",
       "    </tr>\n",
       "  </tbody>\n",
       "</table>\n",
       "</div>"
      ],
      "text/plain": [
       "type                                     navis.VoxelNeuron\n",
       "name                JRC_SS86025_JRC_SS86025-20211112_49_B6\n",
       "units    [0.5189161 micrometer, 0.5189161 micrometer, 1...\n",
       "shape                                     (1210, 563, 364)\n",
       "dtype                                                  >u2\n",
       "dtype: object"
      ]
     },
     "execution_count": 27,
     "metadata": {},
     "output_type": "execute_result"
    }
   ],
   "source": [
    "# Open one of the Janelia confocals (I converted this to nrrd using ImageJ)\n",
    "vxl = navis.read_nrrd('~/Downloads/JRC_SS86025_JRC_SS86025-20211112_49_B6.nrrd')\n",
    "vxl"
   ]
  },
  {
   "cell_type": "raw",
   "id": "a4a35075-4f17-4a87-a42c-fbbfd9fa823a",
   "metadata": {
    "raw_mimetype": "text/restructuredtext",
    "tags": []
   },
   "source": [
    "If push comes to shove you can construct :class:`navis.VoxelNeuron` either from a dense 3-dimensional matrix or from sparse 2-dimensional voxel data:"
   ]
  },
  {
   "cell_type": "code",
   "execution_count": 21,
   "id": "a76f1a61-6f86-4d12-b50c-555b1de88646",
   "metadata": {},
   "outputs": [
    {
     "data": {
      "text/html": [
       "<div>\n",
       "<style scoped>\n",
       "    .dataframe tbody tr th:only-of-type {\n",
       "        vertical-align: middle;\n",
       "    }\n",
       "\n",
       "    .dataframe tbody tr th {\n",
       "        vertical-align: top;\n",
       "    }\n",
       "\n",
       "    .dataframe thead th {\n",
       "        text-align: right;\n",
       "    }\n",
       "</style>\n",
       "<table border=\"1\" class=\"dataframe\">\n",
       "  <thead>\n",
       "    <tr style=\"text-align: right;\">\n",
       "      <th></th>\n",
       "      <th></th>\n",
       "    </tr>\n",
       "  </thead>\n",
       "  <tbody>\n",
       "    <tr>\n",
       "      <th>type</th>\n",
       "      <td>navis.VoxelNeuron</td>\n",
       "    </tr>\n",
       "    <tr>\n",
       "      <th>name</th>\n",
       "      <td>None</td>\n",
       "    </tr>\n",
       "    <tr>\n",
       "      <th>units</th>\n",
       "      <td>1 dimensionless</td>\n",
       "    </tr>\n",
       "    <tr>\n",
       "      <th>shape</th>\n",
       "      <td>(7, 7, 7)</td>\n",
       "    </tr>\n",
       "    <tr>\n",
       "      <th>dtype</th>\n",
       "      <td>float64</td>\n",
       "    </tr>\n",
       "  </tbody>\n",
       "</table>\n",
       "</div>"
      ],
      "text/plain": [
       "type     navis.VoxelNeuron\n",
       "name                  None\n",
       "units      1 dimensionless\n",
       "shape            (7, 7, 7)\n",
       "dtype              float64\n",
       "dtype: object"
      ]
     },
     "execution_count": 21,
     "metadata": {},
     "output_type": "execute_result"
    }
   ],
   "source": [
    "import numpy as np\n",
    "\n",
    "# Create an empty 7x7x7 matrix\n",
    "dense = np.zeros((7, 7, 7))\n",
    "# Fill the center voxel\n",
    "dense[4, 4, 4] = 1\n",
    "\n",
    "# Create the neuron\n",
    "vxl = navis.VoxelNeuron(dense)\n",
    "vxl"
   ]
  },
  {
   "cell_type": "code",
   "execution_count": 26,
   "id": "b008e617-50be-490d-a5ea-aa75d29918a4",
   "metadata": {},
   "outputs": [
    {
     "data": {
      "text/html": [
       "<div>\n",
       "<style scoped>\n",
       "    .dataframe tbody tr th:only-of-type {\n",
       "        vertical-align: middle;\n",
       "    }\n",
       "\n",
       "    .dataframe tbody tr th {\n",
       "        vertical-align: top;\n",
       "    }\n",
       "\n",
       "    .dataframe thead th {\n",
       "        text-align: right;\n",
       "    }\n",
       "</style>\n",
       "<table border=\"1\" class=\"dataframe\">\n",
       "  <thead>\n",
       "    <tr style=\"text-align: right;\">\n",
       "      <th></th>\n",
       "      <th></th>\n",
       "    </tr>\n",
       "  </thead>\n",
       "  <tbody>\n",
       "    <tr>\n",
       "      <th>type</th>\n",
       "      <td>navis.VoxelNeuron</td>\n",
       "    </tr>\n",
       "    <tr>\n",
       "      <th>name</th>\n",
       "      <td>None</td>\n",
       "    </tr>\n",
       "    <tr>\n",
       "      <th>units</th>\n",
       "      <td>1 dimensionless</td>\n",
       "    </tr>\n",
       "    <tr>\n",
       "      <th>shape</th>\n",
       "      <td>(5, 5, 6)</td>\n",
       "    </tr>\n",
       "    <tr>\n",
       "      <th>dtype</th>\n",
       "      <td>int64</td>\n",
       "    </tr>\n",
       "  </tbody>\n",
       "</table>\n",
       "</div>"
      ],
      "text/plain": [
       "type     navis.VoxelNeuron\n",
       "name                  None\n",
       "units      1 dimensionless\n",
       "shape            (5, 5, 6)\n",
       "dtype                int64\n",
       "dtype: object"
      ]
     },
     "execution_count": 26,
     "metadata": {},
     "output_type": "execute_result"
    }
   ],
   "source": [
    "# Create an array with sparse x/y/z voxel coordinates\n",
    "sparse = np.array([[4, 4, 4],\n",
    "                   [4, 4, 5]])\n",
    "\n",
    "# Construct neuron\n",
    "vxl = navis.VoxelNeuron(sparse)\n",
    "vxl"
   ]
  },
  {
   "cell_type": "raw",
   "id": "9332a8b8-6b64-4ec3-8dc5-c2a9eeb4818c",
   "metadata": {
    "raw_mimetype": "text/restructuredtext",
    "tags": []
   },
   "source": [
    "Hopefully the above has given you some entry points on how to load your data. Please see the docstring of :class:`navis.VoxelNeuron` for details.\n",
    "\n",
    "Also note that all navis neurons can be stored to disk using ``pickle`` - see the :ref:`pickling tutorial <local_data_pickle_tut>`. See also the :ref:`I/O API reference api_io>`.\n",
    "\n",
    "Keep in mind that you can convert one neuron type into another - for example by meshing ``VoxelNeurons`` (see :ref:`neuron_conversion`). "
   ]
  }
 ],
 "metadata": {
  "kernelspec": {
   "display_name": "Python 3 (ipykernel)",
   "language": "python",
   "name": "python3"
  },
  "language_info": {
   "codemirror_mode": {
    "name": "ipython",
    "version": 3
   },
   "file_extension": ".py",
   "mimetype": "text/x-python",
   "name": "python",
   "nbconvert_exporter": "python",
   "pygments_lexer": "ipython3",
   "version": "3.9.9"
  },
  "widgets": {
   "application/vnd.jupyter.widget-state+json": {
    "state": {},
    "version_major": 2,
    "version_minor": 0
   }
  }
 },
 "nbformat": 4,
 "nbformat_minor": 5
}
