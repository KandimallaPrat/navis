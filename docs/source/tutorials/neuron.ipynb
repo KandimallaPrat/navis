{
 "cells": [
  {
   "cell_type": "raw",
   "metadata": {
    "raw_mimetype": "text/restructuredtext",
    "tags": [],
    "vscode": {
     "languageId": "raw"
    }
   },
   "source": [
    ".. _neuron_tut:\n",
    "`NEURON` simulator\n",
    "******************\n",
    "\n",
    "`NEURON <https://neuron.yale.edu/neuron/>`_ is a simulation environment to model neurons and networks thereof. `NEURON` itself is rather complex (neurons are complex things after all) and fairly low-level which results in lots of boiler plate code. There are some libraries(e.g. `NetPyNE <http://netpyne.org/>`_) that wrap `NEURON` and provide a higher-level interface to facilitate building models. In my experience these are typically geared towards creating models based on probabilities (e.g. \"create 100 neurons with a 10% chance to be connected to another neuron\") rather than the well defined morphology/connectivity you get from e.g. connectomes.\n",
    "\n",
    "`navis` does *not* try to emulate a full simulation suite but tries to fill a gap for people wanting to use non-probabalistic data (e.g. from connectomics) by providing an entry point for you to get started with some simple models and take it from there. At this point there are two types of models:\n",
    "\n",
    "1. :class:`~navis.interfaces.neuron.comp.CompartmentModel` for modeling individual neurons\n",
    "2. :class:`~navis.interfaces.neuron.network.PointNetwork` for modeling networks from point\n",
    "\n",
    "Compartment models\n",
    "------------------\n",
    "A :class:`~navis.interfaces.neuron.comp.CompartmentModel` represents a single neuron (although you can connect multiple of these neurons) and is constructed from a skeleton (i.e. :class:`navis.TreeNeuron`, see also :func:`navis.conversion.mesh2skeleton`)."
   ]
  },
  {
   "cell_type": "code",
   "execution_count": 1,
   "metadata": {},
   "outputs": [],
   "source": [
    "import navis\n",
    "import neuron\n",
    "\n",
    "import navis.interfaces.neuron as nrn"
   ]
  },
  {
   "cell_type": "code",
   "execution_count": 2,
   "metadata": {},
   "outputs": [],
   "source": [
    "# Load one of the example neurons (a Drosophila projection neuron from the hemibrain connectome)\n",
    "# Note the conversion to microns!\n",
    "n = navis.example_neurons(1).convert_units(\"um\")\n",
    "\n",
    "# Here we manually corrected the soma\n",
    "n.soma = 20\n",
    "\n",
    "# Reroot to the soma\n",
    "n.reroot(n.soma, inplace=True)\n",
    "\n",
    "# Create the compartment model\n",
    "cmp = nrn.CompartmentModel(n, res=10)"
   ]
  },
  {
   "cell_type": "raw",
   "metadata": {
    "raw_mimetype": "text/restructuredtext",
    "tags": []
   },
   "source": [
    "`NEURON` compartment models are effectively collections of connected linear segments. Each of these segments can have its own set of properties and mechanisms. Here, we will use some biophysical properties from `Tobin et al. (2017) <https://elifesciences.org/articles/24838>`_:"
   ]
  },
  {
   "cell_type": "code",
   "execution_count": 3,
   "metadata": {},
   "outputs": [],
   "source": [
    "# Set the specific axial resistivity for the entire neuron in Ohm cm\n",
    "cmp.Ra = 266.1\n",
    "\n",
    "# Set the specific membran capacitance in mF / cm**2\n",
    "cmp.cm = 0.8\n",
    "\n",
    "# Add passive membran properties for the entire neuron\n",
    "cmp.insert(\n",
    "    \"pas\",\n",
    "    g=1\n",
    "    / 20800,  # specific leakage conductance = 1/Rm; Rm = specific membran resistance in Ohm cm**2\n",
    "    e=-60,  # leakage reverse potential\n",
    ")"
   ]
  },
  {
   "cell_type": "raw",
   "metadata": {
    "raw_mimetype": "text/restructuredtext",
    "tags": [],
    "vscode": {
     "languageId": "raw"
    }
   },
   "source": [
    "At this point we already have a passive model of our *Drosophila* projection neuron. Next, we will determine what's axon and what's dendrite, and add a Hodgkins & Huxley mechanism so we have some actual action potentials to observe.\n",
    "\n",
    "This will also illustrate one of the features of ``CompartmentModels``: we keep a correspondence to the original skeleton via node (and connector) IDs. This allows you to modify, stimulate at or record from parts of the compartment model by using node IDs."
   ]
  },
  {
   "cell_type": "code",
   "execution_count": 4,
   "metadata": {},
   "outputs": [
    {
     "data": {
      "text/html": [
       "<div>\n",
       "<style scoped>\n",
       "    .dataframe tbody tr th:only-of-type {\n",
       "        vertical-align: middle;\n",
       "    }\n",
       "\n",
       "    .dataframe tbody tr th {\n",
       "        vertical-align: top;\n",
       "    }\n",
       "\n",
       "    .dataframe thead th {\n",
       "        text-align: right;\n",
       "    }\n",
       "</style>\n",
       "<table border=\"1\" class=\"dataframe\">\n",
       "  <thead>\n",
       "    <tr style=\"text-align: right;\">\n",
       "      <th></th>\n",
       "      <th>node_id</th>\n",
       "      <th>label</th>\n",
       "      <th>x</th>\n",
       "      <th>y</th>\n",
       "      <th>z</th>\n",
       "      <th>radius</th>\n",
       "      <th>parent_id</th>\n",
       "      <th>type</th>\n",
       "      <th>compartment</th>\n",
       "    </tr>\n",
       "  </thead>\n",
       "  <tbody>\n",
       "    <tr>\n",
       "      <th>0</th>\n",
       "      <td>1</td>\n",
       "      <td>0</td>\n",
       "      <td>126.272003</td>\n",
       "      <td>298.000000</td>\n",
       "      <td>224.496017</td>\n",
       "      <td>0.080000</td>\n",
       "      <td>2</td>\n",
       "      <td>end</td>\n",
       "      <td>cellbodyfiber</td>\n",
       "    </tr>\n",
       "    <tr>\n",
       "      <th>1</th>\n",
       "      <td>2</td>\n",
       "      <td>0</td>\n",
       "      <td>126.112007</td>\n",
       "      <td>297.840027</td>\n",
       "      <td>224.656006</td>\n",
       "      <td>0.146274</td>\n",
       "      <td>3</td>\n",
       "      <td>slab</td>\n",
       "      <td>cellbodyfiber</td>\n",
       "    </tr>\n",
       "    <tr>\n",
       "      <th>2</th>\n",
       "      <td>3</td>\n",
       "      <td>0</td>\n",
       "      <td>125.952003</td>\n",
       "      <td>297.520020</td>\n",
       "      <td>224.976013</td>\n",
       "      <td>0.277771</td>\n",
       "      <td>4</td>\n",
       "      <td>slab</td>\n",
       "      <td>cellbodyfiber</td>\n",
       "    </tr>\n",
       "    <tr>\n",
       "      <th>3</th>\n",
       "      <td>4</td>\n",
       "      <td>0</td>\n",
       "      <td>125.952003</td>\n",
       "      <td>297.200012</td>\n",
       "      <td>225.616013</td>\n",
       "      <td>0.277771</td>\n",
       "      <td>5</td>\n",
       "      <td>slab</td>\n",
       "      <td>cellbodyfiber</td>\n",
       "    </tr>\n",
       "    <tr>\n",
       "      <th>4</th>\n",
       "      <td>5</td>\n",
       "      <td>0</td>\n",
       "      <td>125.632004</td>\n",
       "      <td>297.040009</td>\n",
       "      <td>225.936005</td>\n",
       "      <td>0.277771</td>\n",
       "      <td>6</td>\n",
       "      <td>slab</td>\n",
       "      <td>cellbodyfiber</td>\n",
       "    </tr>\n",
       "  </tbody>\n",
       "</table>\n",
       "</div>"
      ],
      "text/plain": [
       "   node_id label           x           y           z    radius  parent_id  \\\n",
       "0        1     0  126.272003  298.000000  224.496017  0.080000          2   \n",
       "1        2     0  126.112007  297.840027  224.656006  0.146274          3   \n",
       "2        3     0  125.952003  297.520020  224.976013  0.277771          4   \n",
       "3        4     0  125.952003  297.200012  225.616013  0.277771          5   \n",
       "4        5     0  125.632004  297.040009  225.936005  0.277771          6   \n",
       "\n",
       "   type    compartment  \n",
       "0   end  cellbodyfiber  \n",
       "1  slab  cellbodyfiber  \n",
       "2  slab  cellbodyfiber  \n",
       "3  slab  cellbodyfiber  \n",
       "4  slab  cellbodyfiber  "
      ]
     },
     "execution_count": 4,
     "metadata": {},
     "output_type": "execute_result"
    }
   ],
   "source": [
    "# Label axon/dendrite\n",
    "navis.split_axon_dendrite(n, label_only=True, cellbodyfiber=\"soma\")\n",
    "\n",
    "n.nodes.head()"
   ]
  },
  {
   "cell_type": "code",
   "execution_count": 8,
   "metadata": {},
   "outputs": [
    {
     "ename": "TypeError",
     "evalue": "'str' object is not a mapping",
     "output_type": "error",
     "traceback": [
      "\u001b[0;31m---------------------------------------------------------------------------\u001b[0m",
      "\u001b[0;31mTypeError\u001b[0m                                 Traceback (most recent call last)",
      "Cell \u001b[0;32mIn[8], line 1\u001b[0m\n\u001b[0;32m----> 1\u001b[0m \u001b[43max\u001b[49m\u001b[38;5;241;43m.\u001b[39;49m\u001b[43mtext\u001b[49m\u001b[43m(\u001b[49m\u001b[43mloc\u001b[49m\u001b[43m[\u001b[49m\u001b[38;5;241;43m0\u001b[39;49m\u001b[43m]\u001b[49m\u001b[43m \u001b[49m\u001b[38;5;241;43m+\u001b[39;49m\u001b[43m \u001b[49m\u001b[38;5;241;43m10\u001b[39;49m\u001b[43m,\u001b[49m\u001b[43m \u001b[49m\u001b[43mloc\u001b[49m\u001b[43m[\u001b[49m\u001b[38;5;241;43m1\u001b[39;49m\u001b[43m]\u001b[49m\u001b[43m,\u001b[49m\u001b[43m \u001b[49m\u001b[43mloc\u001b[49m\u001b[43m[\u001b[49m\u001b[38;5;241;43m2\u001b[39;49m\u001b[43m]\u001b[49m\u001b[43m,\u001b[49m\u001b[43m \u001b[49m\u001b[43ml\u001b[49m\u001b[43m)\u001b[49m    \n",
      "File \u001b[0;32m~/.pyenv/versions/3.11.8/lib/python3.11/site-packages/matplotlib/axes/_axes.py:735\u001b[0m, in \u001b[0;36mAxes.text\u001b[0;34m(self, x, y, s, fontdict, **kwargs)\u001b[0m\n\u001b[1;32m    670\u001b[0m \u001b[38;5;129m@_docstring\u001b[39m\u001b[38;5;241m.\u001b[39mdedent_interpd\n\u001b[1;32m    671\u001b[0m \u001b[38;5;28;01mdef\u001b[39;00m \u001b[38;5;21mtext\u001b[39m(\u001b[38;5;28mself\u001b[39m, x, y, s, fontdict\u001b[38;5;241m=\u001b[39m\u001b[38;5;28;01mNone\u001b[39;00m, \u001b[38;5;241m*\u001b[39m\u001b[38;5;241m*\u001b[39mkwargs):\n\u001b[1;32m    672\u001b[0m \u001b[38;5;250m    \u001b[39m\u001b[38;5;124;03m\"\"\"\u001b[39;00m\n\u001b[1;32m    673\u001b[0m \u001b[38;5;124;03m    Add text to the Axes.\u001b[39;00m\n\u001b[1;32m    674\u001b[0m \n\u001b[0;32m   (...)\u001b[0m\n\u001b[1;32m    733\u001b[0m \u001b[38;5;124;03m        >>> text(x, y, s, bbox=dict(facecolor='red', alpha=0.5))\u001b[39;00m\n\u001b[1;32m    734\u001b[0m \u001b[38;5;124;03m    \"\"\"\u001b[39;00m\n\u001b[0;32m--> 735\u001b[0m     effective_kwargs \u001b[38;5;241m=\u001b[39m {\n\u001b[1;32m    736\u001b[0m         \u001b[38;5;124m'\u001b[39m\u001b[38;5;124mverticalalignment\u001b[39m\u001b[38;5;124m'\u001b[39m: \u001b[38;5;124m'\u001b[39m\u001b[38;5;124mbaseline\u001b[39m\u001b[38;5;124m'\u001b[39m,\n\u001b[1;32m    737\u001b[0m         \u001b[38;5;124m'\u001b[39m\u001b[38;5;124mhorizontalalignment\u001b[39m\u001b[38;5;124m'\u001b[39m: \u001b[38;5;124m'\u001b[39m\u001b[38;5;124mleft\u001b[39m\u001b[38;5;124m'\u001b[39m,\n\u001b[1;32m    738\u001b[0m         \u001b[38;5;124m'\u001b[39m\u001b[38;5;124mtransform\u001b[39m\u001b[38;5;124m'\u001b[39m: \u001b[38;5;28mself\u001b[39m\u001b[38;5;241m.\u001b[39mtransData,\n\u001b[1;32m    739\u001b[0m         \u001b[38;5;124m'\u001b[39m\u001b[38;5;124mclip_on\u001b[39m\u001b[38;5;124m'\u001b[39m: \u001b[38;5;28;01mFalse\u001b[39;00m,\n\u001b[1;32m    740\u001b[0m         \u001b[38;5;241m*\u001b[39m\u001b[38;5;241m*\u001b[39m(fontdict \u001b[38;5;28;01mif\u001b[39;00m fontdict \u001b[38;5;129;01mis\u001b[39;00m \u001b[38;5;129;01mnot\u001b[39;00m \u001b[38;5;28;01mNone\u001b[39;00m \u001b[38;5;28;01melse\u001b[39;00m {}),\n\u001b[1;32m    741\u001b[0m         \u001b[38;5;241m*\u001b[39m\u001b[38;5;241m*\u001b[39mkwargs,\n\u001b[1;32m    742\u001b[0m     }\n\u001b[1;32m    743\u001b[0m     t \u001b[38;5;241m=\u001b[39m mtext\u001b[38;5;241m.\u001b[39mText(x, y, text\u001b[38;5;241m=\u001b[39ms, \u001b[38;5;241m*\u001b[39m\u001b[38;5;241m*\u001b[39meffective_kwargs)\n\u001b[1;32m    744\u001b[0m     \u001b[38;5;28;01mif\u001b[39;00m t\u001b[38;5;241m.\u001b[39mget_clip_path() \u001b[38;5;129;01mis\u001b[39;00m \u001b[38;5;28;01mNone\u001b[39;00m:\n",
      "\u001b[0;31mTypeError\u001b[0m: 'str' object is not a mapping"
     ]
    }
   ],
   "source": [
    "ax.text(loc[0] + 10, loc[1], loc[2], l)"
   ]
  },
  {
   "cell_type": "code",
   "execution_count": 11,
   "metadata": {},
   "outputs": [
    {
     "data": {
      "image/png": "[encoded data removed]",
      "text/plain": [
       "<Figure size 720x720 with 1 Axes>"
      ]
     },
     "metadata": {
      "needs_background": "light"
     },
     "output_type": "display_data"
    }
   ],
   "source": [
    "# A quick visualization\n",
    "fig, ax = navis.plot2d(\n",
    "    n, color_by=\"compartment\", palette=\"tab10\", lw=1.5, method=\"3d\", view=(\"x\", \"-z\")\n",
    ")\n",
    "\n",
    "# Label compartments\n",
    "for l in n.nodes.compartment.unique():\n",
    "    loc = n.nodes.loc[n.nodes.compartment == l, [\"x\", \"y\", \"z\"]].values[-1]\n",
    "    ax.text(loc[0] + 10, loc[1], loc[2], l)"
   ]
  },
  {
   "cell_type": "raw",
   "metadata": {
    "raw_mimetype": "text/restructuredtext",
    "tags": [],
    "vscode": {
     "languageId": "raw"
    }
   },
   "source": [
    "A little excursion about how `NEURON` represents neurons before we add the Hodgkins & Huxley (HH) mechanism: neurons consist of linear \"*sections*\" while individual (continuous) positions along each section are called \"*segments*\". That distinction is important because our skeleton nodes correspond to *segments* but a mechanism such as HH is applied for entire *sections*."
   ]
  },
  {
   "cell_type": "code",
   "execution_count": 6,
   "metadata": {},
   "outputs": [],
   "source": [
    "# Collect axon nodes\n",
    "axon_nodes = n.nodes.loc[n.nodes.compartment.isin([\"axon\", \"linker\"]), \"node_id\"].values\n",
    "\n",
    "# Get the sections for the given nodes\n",
    "axon_secs = list(set(cmp.get_node_section(axon_nodes)))\n",
    "\n",
    "# Insert HH mechanism at the given sections\n",
    "cmp.insert(\"hh\", subset=axon_secs)"
   ]
  },
  {
   "cell_type": "raw",
   "metadata": {
    "raw_mimetype": "text/restructuredtext",
    "tags": []
   },
   "source": [
    "Next we actually have to do something with our compartment model. For that we will add three voltage recorders: one at the soma, one at the base of the dendrites and one at the tip of the axon."
   ]
  },
  {
   "cell_type": "code",
   "execution_count": 7,
   "metadata": {},
   "outputs": [
    {
     "data": {
      "text/plain": [
       "20      0.000000\n",
       "21      0.455753\n",
       "19      0.633259\n",
       "2409    0.836538\n",
       "22      1.095767\n",
       "18      1.113258\n",
       "23      1.415775\n",
       "2410    1.474030\n",
       "24      1.692905\n",
       "17      2.032377\n",
       "Name: 20, dtype: float64"
      ]
     },
     "execution_count": 7,
     "metadata": {},
     "output_type": "execute_result"
    }
   ],
   "source": [
    "# Recordings and stimulations work via segments (as opposed to sections for mechanisms) -> hence we can use node IDs directly here\n",
    "\n",
    "# Let's determine the tip of the axon and base of the dendrites programmatically using the\n",
    "# geodesic distance\n",
    "dists = navis.geodesic_matrix(n, from_=n.soma)\n",
    "\n",
    "# Sort by distance from soma\n",
    "dists = dists.iloc[0].sort_values()\n",
    "\n",
    "dists.head(10)"
   ]
  },
  {
   "cell_type": "code",
   "execution_count": 8,
   "metadata": {},
   "outputs": [
    {
     "name": "stdout",
     "output_type": "stream",
     "text": [
      "Node at the base of the dendrites: 467\n",
      "Node at the tip of the axon: 4384\n"
     ]
    }
   ],
   "source": [
    "# Find the closest \"dendrite\" and the most distal \"axon\" node\n",
    "dend = n.nodes[n.nodes.compartment == \"dendrite\"].node_id.values\n",
    "dend_base = dists.index[dists.index.isin(dend)][0]\n",
    "print(f\"Node at the base of the dendrites: {dend_base}\")\n",
    "\n",
    "axo = n.nodes[n.nodes.compartment == \"axon\"].node_id.values\n",
    "axo_tip = dists.index[dists.index.isin(axo)][-1]\n",
    "print(f\"Node at the tip of the axon: {axo_tip}\")"
   ]
  },
  {
   "cell_type": "code",
   "execution_count": 9,
   "metadata": {},
   "outputs": [],
   "source": [
    "# Add voltage recordings\n",
    "cmp.add_voltage_record(dend_base, label=\"dendrite_base\")\n",
    "cmp.add_voltage_record(axo_tip, label=\"axon_tip\")\n",
    "cmp.add_voltage_record(n.soma, label=\"soma\")"
   ]
  },
  {
   "cell_type": "raw",
   "metadata": {},
   "source": [
    "Last but not least we need to provide some input to our neuron otherwise it will just sit there doing nothing. We can add a current injection, trigger some synaptic currents or add a leak current. Let's simulate some synaptic inputs:"
   ]
  },
  {
   "cell_type": "code",
   "execution_count": 10,
   "metadata": {},
   "outputs": [
    {
     "data": {
      "text/html": [
       "<div>\n",
       "<style scoped>\n",
       "    .dataframe tbody tr th:only-of-type {\n",
       "        vertical-align: middle;\n",
       "    }\n",
       "\n",
       "    .dataframe tbody tr th {\n",
       "        vertical-align: top;\n",
       "    }\n",
       "\n",
       "    .dataframe thead th {\n",
       "        text-align: right;\n",
       "    }\n",
       "</style>\n",
       "<table border=\"1\" class=\"dataframe\">\n",
       "  <thead>\n",
       "    <tr style=\"text-align: right;\">\n",
       "      <th></th>\n",
       "      <th>connector_id</th>\n",
       "      <th>node_id</th>\n",
       "      <th>type</th>\n",
       "      <th>x</th>\n",
       "      <th>y</th>\n",
       "      <th>z</th>\n",
       "      <th>roi</th>\n",
       "      <th>confidence</th>\n",
       "      <th>compartment</th>\n",
       "    </tr>\n",
       "  </thead>\n",
       "  <tbody>\n",
       "    <tr>\n",
       "      <th>137</th>\n",
       "      <td>137</td>\n",
       "      <td>3736</td>\n",
       "      <td>post</td>\n",
       "      <td>135.232</td>\n",
       "      <td>291.104</td>\n",
       "      <td>210.840</td>\n",
       "      <td>AL(R)</td>\n",
       "      <td>0.906454</td>\n",
       "      <td>dendrite</td>\n",
       "    </tr>\n",
       "    <tr>\n",
       "      <th>138</th>\n",
       "      <td>138</td>\n",
       "      <td>635</td>\n",
       "      <td>post</td>\n",
       "      <td>132.872</td>\n",
       "      <td>284.448</td>\n",
       "      <td>196.056</td>\n",
       "      <td>AL(R)</td>\n",
       "      <td>0.928960</td>\n",
       "      <td>dendrite</td>\n",
       "    </tr>\n",
       "    <tr>\n",
       "      <th>139</th>\n",
       "      <td>139</td>\n",
       "      <td>4124</td>\n",
       "      <td>post</td>\n",
       "      <td>131.432</td>\n",
       "      <td>277.048</td>\n",
       "      <td>200.960</td>\n",
       "      <td>AL(R)</td>\n",
       "      <td>0.605084</td>\n",
       "      <td>dendrite</td>\n",
       "    </tr>\n",
       "    <tr>\n",
       "      <th>140</th>\n",
       "      <td>140</td>\n",
       "      <td>3176</td>\n",
       "      <td>post</td>\n",
       "      <td>124.984</td>\n",
       "      <td>286.568</td>\n",
       "      <td>216.480</td>\n",
       "      <td>AL(R)</td>\n",
       "      <td>0.922643</td>\n",
       "      <td>dendrite</td>\n",
       "    </tr>\n",
       "    <tr>\n",
       "      <th>219</th>\n",
       "      <td>219</td>\n",
       "      <td>3061</td>\n",
       "      <td>post</td>\n",
       "      <td>128.312</td>\n",
       "      <td>276.848</td>\n",
       "      <td>217.272</td>\n",
       "      <td>AL(R)</td>\n",
       "      <td>0.981077</td>\n",
       "      <td>dendrite</td>\n",
       "    </tr>\n",
       "  </tbody>\n",
       "</table>\n",
       "</div>"
      ],
      "text/plain": [
       "     connector_id  node_id  type        x        y        z    roi  \\\n",
       "137           137     3736  post  135.232  291.104  210.840  AL(R)   \n",
       "138           138      635  post  132.872  284.448  196.056  AL(R)   \n",
       "139           139     4124  post  131.432  277.048  200.960  AL(R)   \n",
       "140           140     3176  post  124.984  286.568  216.480  AL(R)   \n",
       "219           219     3061  post  128.312  276.848  217.272  AL(R)   \n",
       "\n",
       "     confidence compartment  \n",
       "137    0.906454    dendrite  \n",
       "138    0.928960    dendrite  \n",
       "139    0.605084    dendrite  \n",
       "140    0.922643    dendrite  \n",
       "219    0.981077    dendrite  "
      ]
     },
     "execution_count": 10,
     "metadata": {},
     "output_type": "execute_result"
    }
   ],
   "source": [
    "# Get dendritic postsynapses\n",
    "post = n.postsynapses[n.postsynapses.compartment == \"dendrite\"]\n",
    "post.head()"
   ]
  },
  {
   "cell_type": "code",
   "execution_count": 11,
   "metadata": {},
   "outputs": [],
   "source": [
    "# Here we will open successively more synapses over 5 stimulations\n",
    "for i in range(5):\n",
    "    # Onset for this stimulation\n",
    "    start = 50 + i * 200\n",
    "    # Number of synapses to activate\n",
    "    n_syn = i * 5\n",
    "    cmp.add_synaptic_current(\n",
    "        where=post.node_id.unique()[0:n_syn], start=start, max_syn_cond=0.1, rev_pot=-10\n",
    "    )"
   ]
  },
  {
   "cell_type": "code",
   "execution_count": 12,
   "metadata": {},
   "outputs": [],
   "source": [
    "# Now we can run our simulation for 1000ms\n",
    "# (this is equivalent to neuron.h.finitialize + neuron.h.continuerun)\n",
    "cmp.run_simulation(1000, v_init=-60)"
   ]
  },
  {
   "cell_type": "raw",
   "metadata": {
    "raw_mimetype": "text/restructuredtext",
    "tags": []
   },
   "source": [
    "The compartment model has a quick & dirty way of plotting the results:"
   ]
  },
  {
   "cell_type": "code",
   "execution_count": 13,
   "metadata": {},
   "outputs": [
    {
     "data": {
      "image/png": "[encoded data removed]",
      "text/plain": [
       "<Figure size 432x288 with 1 Axes>"
      ]
     },
     "metadata": {
      "needs_background": "light"
     },
     "output_type": "display_data"
    }
   ],
   "source": [
    "# Plot the results\n",
    "axes = cmp.plot_results()"
   ]
  },
  {
   "cell_type": "code",
   "execution_count": 14,
   "metadata": {},
   "outputs": [
    {
     "data": {
      "text/plain": [
       "(240.0, 280.0)"
      ]
     },
     "execution_count": 14,
     "metadata": {},
     "output_type": "execute_result"
    },
    {
     "data": {
      "image/png": "[encoded data removed]",
      "text/plain": [
       "<Figure size 432x288 with 1 Axes>"
      ]
     },
     "metadata": {
      "needs_background": "light"
     },
     "output_type": "display_data"
    }
   ],
   "source": [
    "# Plot again and zoom in on one spike\n",
    "axes = cmp.plot_results()\n",
    "axes[0].set_xlim(240, 280)"
   ]
  },
  {
   "cell_type": "raw",
   "metadata": {
    "raw_mimetype": "text/restructuredtext",
    "tags": [],
    "vscode": {
     "languageId": "raw"
    }
   },
   "source": [
    "As you can see we get a nice depolarization at the base of the dendrites which elicits an action potential that we can measure in the tips of the axon. Because in our model the cell body fiber (i.e. the neurite that connects the soma to the base of the dendrites) is passive, the depolarization of a single spike attenuates before it reaches the soma.\n",
    "\n",
    "Alternatively, you can access the recorded values directly like so:"
   ]
  },
  {
   "cell_type": "code",
   "execution_count": 15,
   "metadata": {},
   "outputs": [
    {
     "data": {
      "text/plain": [
       "{'v': {'dendrite_base': Vector[0], 'axon_tip': Vector[1], 'soma': Vector[2]}}"
      ]
     },
     "execution_count": 15,
     "metadata": {},
     "output_type": "execute_result"
    }
   ],
   "source": [
    "cmp.records"
   ]
  },
  {
   "cell_type": "code",
   "execution_count": 16,
   "metadata": {},
   "outputs": [
    {
     "data": {
      "text/plain": [
       "array([-60.        , -60.04157854, -60.07494932, ..., -63.52188478,\n",
       "       -63.52188478, -63.52188478])"
      ]
     },
     "execution_count": 16,
     "metadata": {},
     "output_type": "execute_result"
    }
   ],
   "source": [
    "cmp.records[\"v\"][\"dendrite_base\"].as_numpy()"
   ]
  },
  {
   "cell_type": "raw",
   "metadata": {
    "raw_mimetype": "text/restructuredtext",
    "tags": []
   },
   "source": [
    "Next, let's try to simulate some noisy input where the presynaptic neuron spikes multiple times:"
   ]
  },
  {
   "cell_type": "code",
   "execution_count": 17,
   "metadata": {},
   "outputs": [],
   "source": [
    "# First we need to reset our model (by re-assigning `cmp` the old model will be garbage-collected)\n",
    "cmp = nrn.CompartmentModel(n, res=10)\n",
    "\n",
    "# Set properties and mechanisms\n",
    "cmp.Ra, cmp.cm = 266.1, 0.8\n",
    "cmp.insert(\"pas\", g=1 / 20800, e=-60)\n",
    "axon_secs = list(set(cmp.get_node_section(axon_nodes)))\n",
    "cmp.insert(\"hh\", subset=axon_secs)\n",
    "\n",
    "# Add recording\n",
    "cmp.add_voltage_record(dend_base, label=\"dendrite_base\")\n",
    "cmp.add_voltage_record(axo_tip, label=\"axon_tip\")\n",
    "cmp.add_voltage_record(n.soma, label=\"soma\")\n",
    "\n",
    "# Also add a spike counter at the axon\n",
    "cmp.add_spike_detector(axo_tip, label=\"axon_tip\")\n",
    "\n",
    "# Now add a noisy preinput to say 20 dendritic postsynapses\n",
    "post = n.connectors[\n",
    "    (n.connectors.compartment == \"dendrite\") & (n.connectors.type == \"post\")\n",
    "]\n",
    "cmp.add_synaptic_input(\n",
    "    post.node_id.unique()[0:20],\n",
    "    spike_no=20,  # produce 20 presynaptic spikes\n",
    "    spike_int=50,  # with an average interval of 50ms: 20 * 50ms = over 1s\n",
    "    spike_noise=1,  # very noisy!\n",
    "    cn_weight=0.04,\n",
    ")\n",
    "# Run for 1s\n",
    "cmp.run_simulation(1000, v_init=-60)"
   ]
  },
  {
   "cell_type": "code",
   "execution_count": 21,
   "metadata": {},
   "outputs": [
    {
     "data": {
      "text/plain": [
       "Text(0, 0.5, 'spikes [Hz]')"
      ]
     },
     "execution_count": 21,
     "metadata": {},
     "output_type": "execute_result"
    },
    {
     "data": {
      "image/png": "[encoded data removed]",
      "text/plain": [
       "<Figure size 432x288 with 2 Axes>"
      ]
     },
     "metadata": {
      "needs_background": "light"
     },
     "output_type": "display_data"
    }
   ],
   "source": [
    "# Plot results\n",
    "axes = cmp.plot_results()\n",
    "axes[1].set_ylabel(\"spikes [Hz]\")"
   ]
  },
  {
   "cell_type": "raw",
   "metadata": {
    "raw_mimetype": "text/restructuredtext",
    "tags": []
   },
   "source": [
    "Note how we still don't see a depolarization in the soma? While that might be a genuine biological feature of this neuron, I suspect there is something wrong with the radii along the cell body fiber - perhaps a pinch point somewhere? This just illustrates that good skeletons are paramount and you should critically inspect the results of your models.\n",
    "\n",
    "\n",
    "Many methods in :class:`~navis.interfaces.neuron.CompartmentModel` try to use sensible defaults to make sure that you get some sort of effect. That said, it's advisable that you adjust parameters as you fit your model to real world data. Check the help to see what you can do:"
   ]
  },
  {
   "cell_type": "code",
   "execution_count": null,
   "metadata": {},
   "outputs": [],
   "source": [
    "# Try this for example\n",
    "cmp.add_synaptic_input?"
   ]
  },
  {
   "cell_type": "raw",
   "metadata": {
    "raw_mimetype": "text/restructuredtext",
    "tags": [],
    "vscode": {
     "languageId": "raw"
    }
   },
   "source": [
    "Networks\n",
    "--------\n",
    "While you can link together multiple compartment models to simulate networks this quickly becomes prohibitively slow so run. For larger networks it can be sufficient to model each neuron as a single \"point process\". :class:`~navis.interfaces.neuron.PointNetwork` lets you quickly create such a network from an edge list.\n",
    "\n",
    "In this tutorial we will use toy data but it is just as straight forward to plugin real data:"
   ]
  },
  {
   "cell_type": "code",
   "execution_count": 42,
   "metadata": {},
   "outputs": [
    {
     "data": {
      "text/html": [
       "<div>\n",
       "<style scoped>\n",
       "    .dataframe tbody tr th:only-of-type {\n",
       "        vertical-align: middle;\n",
       "    }\n",
       "\n",
       "    .dataframe tbody tr th {\n",
       "        vertical-align: top;\n",
       "    }\n",
       "\n",
       "    .dataframe thead th {\n",
       "        text-align: right;\n",
       "    }\n",
       "</style>\n",
       "<table border=\"1\" class=\"dataframe\">\n",
       "  <thead>\n",
       "    <tr style=\"text-align: right;\">\n",
       "      <th></th>\n",
       "      <th>source</th>\n",
       "      <th>target</th>\n",
       "      <th>weight</th>\n",
       "    </tr>\n",
       "  </thead>\n",
       "  <tbody>\n",
       "    <tr>\n",
       "      <th>0</th>\n",
       "      <td>A</td>\n",
       "      <td>C</td>\n",
       "      <td>0.5</td>\n",
       "    </tr>\n",
       "    <tr>\n",
       "      <th>1</th>\n",
       "      <td>B</td>\n",
       "      <td>C</td>\n",
       "      <td>-1.0</td>\n",
       "    </tr>\n",
       "  </tbody>\n",
       "</table>\n",
       "</div>"
      ],
      "text/plain": [
       "  source target  weight\n",
       "0      A      C     0.5\n",
       "1      B      C    -1.0"
      ]
     },
     "execution_count": 42,
     "metadata": {},
     "output_type": "execute_result"
    }
   ],
   "source": [
    "# First create a small 3 way network where one of the neurons (B) is inhibitory\n",
    "import pandas as pd\n",
    "\n",
    "edges = pd.DataFrame([])\n",
    "edges[\"source\"] = [\"A\", \"B\"]\n",
    "edges[\"target\"] = [\"C\", \"C\"]\n",
    "edges[\"weight\"] = [0.5, -1]\n",
    "edges"
   ]
  },
  {
   "cell_type": "code",
   "execution_count": 46,
   "metadata": {},
   "outputs": [
    {
     "data": {
      "text/plain": [
       "PointNetwork<neurons=3,edges=2>"
      ]
     },
     "execution_count": 46,
     "metadata": {},
     "output_type": "execute_result"
    }
   ],
   "source": [
    "# Next initialize network from edge list\n",
    "net = nrn.PointNetwork.from_edge_list(edges, model=\"IntFire4\")\n",
    "net"
   ]
  },
  {
   "cell_type": "raw",
   "metadata": {
    "raw_mimetype": "text/restructuredtext",
    "tags": []
   },
   "source": [
    "So far, our network won't do anything because it doesn't have any input.\n",
    "Let's add an input to neurons A and B, and try that out:"
   ]
  },
  {
   "cell_type": "code",
   "execution_count": 47,
   "metadata": {},
   "outputs": [],
   "source": [
    "# Add the stimulus\n",
    "net.add_stimulus(\"A\", start=100, stop=1000, frequency=100, randomness=0)\n",
    "net.add_stimulus(\"B\", start=600, stop=800, frequency=100, randomness=0)\n",
    "\n",
    "# Run simulation\n",
    "net.run_simulation(1000)"
   ]
  },
  {
   "cell_type": "code",
   "execution_count": 48,
   "metadata": {},
   "outputs": [
    {
     "data": {
      "text/plain": [
       "(0.0, 1000.0)"
      ]
     },
     "execution_count": 48,
     "metadata": {},
     "output_type": "execute_result"
    },
    {
     "data": {
      "image/png": "[encoded data removed]",
      "text/plain": [
       "<Figure size 864x216 with 1 Axes>"
      ]
     },
     "metadata": {
      "needs_background": "light"
     },
     "output_type": "display_data"
    }
   ],
   "source": [
    "# Plot\n",
    "ax = net.plot_raster(backend=\"matplotlib\", label=True)\n",
    "\n",
    "ax.set_xlim(0, 1000)"
   ]
  },
  {
   "cell_type": "raw",
   "metadata": {
    "raw_mimetype": "text/restructuredtext",
    "tags": [],
    "vscode": {
     "languageId": "raw"
    }
   },
   "source": [
    "This toy example worked quite well: spikes in neuron `A` elicit occasional spikes in `C` via temporal summation. Activity in the inhibitiory neuron `B` hyperpolarizes `C` and it stops firing until well after activity in `B` has ceased.\n",
    "\n",
    "The `NEURON` interface is a very recent addition and it might well change in the future (or become its own package). Functionality is also still limited and while I don't intend to write a feature-complete wrapper for `NEURON`, I do welcome feature requests or contributions on Github.\n",
    "\n",
    "\n",
    "Links\n",
    "-----\n",
    "\n",
    "- `Model DB <https://senselab.med.yale.edu/ModelDB/>`_ contains various published NEURON models and mechanisms\n",
    "- `NetPyNE <http://netpyne.org/>`_ wraps NEURON and provides high-level syntax to create models"
   ]
  }
 ],
 "metadata": {
  "kernelspec": {
   "display_name": "Python 3 (ipykernel)",
   "language": "python",
   "name": "python3"
  },
  "language_info": {
   "codemirror_mode": {
    "name": "ipython",
    "version": 3
   },
   "file_extension": ".py",
   "mimetype": "text/x-python",
   "name": "python",
   "nbconvert_exporter": "python",
   "pygments_lexer": "ipython3",
   "version": "3.11.8"
  },
  "widgets": {
   "application/vnd.jupyter.widget-state+json": {
    "state": {},
    "version_major": 2,
    "version_minor": 0
   }
  }
 },
 "nbformat": 4,
 "nbformat_minor": 4
}
