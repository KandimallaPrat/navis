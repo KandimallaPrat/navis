{
 "cells": [
  {
   "cell_type": "raw",
   "metadata": {
    "raw_mimetype": "text/restructuredtext",
    "tags": []
   },
   "source": [
    ".. _insectbraindb_tut:\n",
    "\n",
    "Insect Brain DB\n",
    "***************\n",
    "\n",
    "The insect brain database (`link <https://insectbraindb.org>`_) is an online repository for neuron morphologies, brain regions and experimental data across various insect species. At the time of writing Insect Brain DB features close to 400 neuronal cell types from well over 30 insect species. Check out `Heinze et al. (2021) <https://elifesciences.org/articles/65376>`_ for details! While the website features a comprehensive search and some nifty analyses, it can be useful to download these data to run your own analyses or compare to other data sets.\n",
    "\n",
    "For that purpose, `navis` provides an interface to Insect Brain DB that wraps parts of their API."
   ]
  },
  {
   "cell_type": "code",
   "execution_count": 1,
   "metadata": {},
   "outputs": [],
   "source": [
    "# Import navis\n",
    "import navis\n",
    "\n",
    "# Import the actual Insect Brain DB interface\n",
    "import navis.interfaces.insectbrain_db as ibdb"
   ]
  },
  {
   "cell_type": "raw",
   "metadata": {
    "raw_mimetype": "text/restructuredtext",
    "tags": []
   },
   "source": [
    "Fetching meta data\n",
    "------------------\n",
    "First, fetch a list of available species:"
   ]
  },
  {
   "cell_type": "code",
   "execution_count": 2,
   "metadata": {},
   "outputs": [
    {
     "data": {
      "text/html": [
       "<div>\n",
       "<style scoped>\n",
       "    .dataframe tbody tr th:only-of-type {\n",
       "        vertical-align: middle;\n",
       "    }\n",
       "\n",
       "    .dataframe tbody tr th {\n",
       "        vertical-align: top;\n",
       "    }\n",
       "\n",
       "    .dataframe thead th {\n",
       "        text-align: right;\n",
       "    }\n",
       "</style>\n",
       "<table border=\"1\" class=\"dataframe\">\n",
       "  <thead>\n",
       "    <tr style=\"text-align: right;\">\n",
       "      <th></th>\n",
       "      <th>id</th>\n",
       "      <th>scientific_name</th>\n",
       "      <th>common_name</th>\n",
       "      <th>uuid</th>\n",
       "      <th>date_created</th>\n",
       "      <th>date_modified</th>\n",
       "      <th>persistent_records</th>\n",
       "      <th>description</th>\n",
       "    </tr>\n",
       "  </thead>\n",
       "  <tbody>\n",
       "    <tr>\n",
       "      <th>0</th>\n",
       "      <td>24</td>\n",
       "      <td>Aedes aegypti</td>\n",
       "      <td>Yellow fever mosquito</td>\n",
       "      <td>628dbce3-20f4-4af8-8c78-f9d3bc0c6654</td>\n",
       "      <td>2019-03-04T22:28:27.697821Z</td>\n",
       "      <td>2022-05-19T16:01:37.298876Z</td>\n",
       "      <td>[20.500.12158/SIN-0000024.2, 20.500.12158/SIN-...</td>\n",
       "      <td>Aedes aegypti, the yellow fever mosquito, is t...</td>\n",
       "    </tr>\n",
       "    <tr>\n",
       "      <th>1</th>\n",
       "      <td>2</td>\n",
       "      <td>Agrotis infusa</td>\n",
       "      <td>Bogong moth</td>\n",
       "      <td>a6d4eadd-2e82-4393-96ab-fdfedaf42536</td>\n",
       "      <td>2016-07-10T08:37:09.361502Z</td>\n",
       "      <td>2022-05-19T16:02:16.115941Z</td>\n",
       "      <td>[20.500.12158/SIN-0000002.1, 20.500.12158/SIN-...</td>\n",
       "      <td>\"The nocturnal Bogong moth (Agrotis infusa) is...</td>\n",
       "    </tr>\n",
       "    <tr>\n",
       "      <th>2</th>\n",
       "      <td>21</td>\n",
       "      <td>Agrotis segetum</td>\n",
       "      <td>Turnip moth</td>\n",
       "      <td>ae12170d-d655-4794-9f38-54ca4f1b3c50</td>\n",
       "      <td>2017-04-26T10:55:52.000344Z</td>\n",
       "      <td>2022-05-19T16:02:49.110675Z</td>\n",
       "      <td>[20.500.12158/SIN-0000021.1, 20.500.12158/SIN-...</td>\n",
       "      <td>The turnip moth, Agrotis segetum Denis and Sch...</td>\n",
       "    </tr>\n",
       "    <tr>\n",
       "      <th>3</th>\n",
       "      <td>7</td>\n",
       "      <td>Apis mellifera</td>\n",
       "      <td>Honeybee</td>\n",
       "      <td>8881609d-1929-410a-be38-ca47da5718d5</td>\n",
       "      <td>2016-07-10T08:37:09.372889Z</td>\n",
       "      <td>2022-05-19T16:10:37.640885Z</td>\n",
       "      <td>[20.500.12158/SIN-0000007.1, 20.500.12158/SIN-...</td>\n",
       "      <td>The western honey bee or European honey bee (A...</td>\n",
       "    </tr>\n",
       "    <tr>\n",
       "      <th>4</th>\n",
       "      <td>10</td>\n",
       "      <td>Bombus terrestris</td>\n",
       "      <td>Bumble Bee</td>\n",
       "      <td>718388b3-8fbe-4b49-82c5-44493347bb30</td>\n",
       "      <td>2016-07-10T08:37:09.383142Z</td>\n",
       "      <td>2022-05-19T16:18:26.774832Z</td>\n",
       "      <td>[20.500.12158/SIN-0000010.1, 20.500.12158/SIN-...</td>\n",
       "      <td>Bombus terrestris, the buff-tailed bumblebee o...</td>\n",
       "    </tr>\n",
       "  </tbody>\n",
       "</table>\n",
       "</div>"
      ],
      "text/plain": [
       "   id    scientific_name            common_name  \\\n",
       "0  24      Aedes aegypti  Yellow fever mosquito   \n",
       "1   2     Agrotis infusa            Bogong moth   \n",
       "2  21    Agrotis segetum            Turnip moth   \n",
       "3   7     Apis mellifera               Honeybee   \n",
       "4  10  Bombus terrestris             Bumble Bee   \n",
       "\n",
       "                                   uuid                 date_created  \\\n",
       "0  628dbce3-20f4-4af8-8c78-f9d3bc0c6654  2019-03-04T22:28:27.697821Z   \n",
       "1  a6d4eadd-2e82-4393-96ab-fdfedaf42536  2016-07-10T08:37:09.361502Z   \n",
       "2  ae12170d-d655-4794-9f38-54ca4f1b3c50  2017-04-26T10:55:52.000344Z   \n",
       "3  8881609d-1929-410a-be38-ca47da5718d5  2016-07-10T08:37:09.372889Z   \n",
       "4  718388b3-8fbe-4b49-82c5-44493347bb30  2016-07-10T08:37:09.383142Z   \n",
       "\n",
       "                 date_modified  \\\n",
       "0  2022-05-19T16:01:37.298876Z   \n",
       "1  2022-05-19T16:02:16.115941Z   \n",
       "2  2022-05-19T16:02:49.110675Z   \n",
       "3  2022-05-19T16:10:37.640885Z   \n",
       "4  2022-05-19T16:18:26.774832Z   \n",
       "\n",
       "                                  persistent_records  \\\n",
       "0  [20.500.12158/SIN-0000024.2, 20.500.12158/SIN-...   \n",
       "1  [20.500.12158/SIN-0000002.1, 20.500.12158/SIN-...   \n",
       "2  [20.500.12158/SIN-0000021.1, 20.500.12158/SIN-...   \n",
       "3  [20.500.12158/SIN-0000007.1, 20.500.12158/SIN-...   \n",
       "4  [20.500.12158/SIN-0000010.1, 20.500.12158/SIN-...   \n",
       "\n",
       "                                         description  \n",
       "0  Aedes aegypti, the yellow fever mosquito, is t...  \n",
       "1  \"The nocturnal Bogong moth (Agrotis infusa) is...  \n",
       "2  The turnip moth, Agrotis segetum Denis and Sch...  \n",
       "3  The western honey bee or European honey bee (A...  \n",
       "4  Bombus terrestris, the buff-tailed bumblebee o...  "
      ]
     },
     "execution_count": 2,
     "metadata": {},
     "output_type": "execute_result"
    }
   ],
   "source": [
    "species = ibdb.get_available_species()\n",
    "species.head()"
   ]
  },
  {
   "cell_type": "raw",
   "metadata": {
    "raw_mimetype": "text/restructuredtext",
    "tags": []
   },
   "source": [
    "Fetch info for a given species (you can use the scientific or common name, or an ID):"
   ]
  },
  {
   "cell_type": "code",
   "execution_count": 3,
   "metadata": {},
   "outputs": [
    {
     "data": {
      "text/plain": [
       "id                                                                        9\n",
       "uuid                                   795f4fd5-cad7-4de0-853f-89406a64aa98\n",
       "images                    [{'id': 925, 'tag': 'SPECIES_IMAGE', 'hash': N...\n",
       "prefix                                                                   sg\n",
       "public                                                                 True\n",
       "approved                                                               True\n",
       "curators                  [{'uuid': 'c51a2d7e-6314-487a-9b8b-384db7ff79e...\n",
       "host_lab                                    Uwe Homberg, Marburg University\n",
       "created_by                {'uuid': '89c53715-561d-4942-81ab-aa4a02237fdd...\n",
       "searchable                                                             True\n",
       "structures                [{'id': 1, 'name': 'Antennal Lobe', 'type': 's...\n",
       "common_name                                                   Desert Locust\n",
       "description               The desert locust (Schistocerca gregaria) is a...\n",
       "experiments                                                              []\n",
       "date_created                                    2016-07-10T08:37:09.454013Z\n",
       "date_modified                                   2021-07-20T06:55:06.812019Z\n",
       "confocal_stacks                                                          []\n",
       "reconstructions           [{'id': 66, 'sex': 'UNKNOWN', 'uuid': '8b10333...\n",
       "scientific_name                                       Schistocerca gregaria\n",
       "neuron_publications       [{'id': 340, 'doi': 'https://doi.org/10.1002/c...\n",
       "species_publications      [{'id': 327, 'doi': '10.3389/fnbeh.2015.00346'...\n",
       "semi_schematic_default                                                 None\n",
       "dtype: object"
      ]
     },
     "execution_count": 3,
     "metadata": {},
     "output_type": "execute_result"
    }
   ],
   "source": [
    "spec_info = ibdb.get_species_info('Schistocerca gregaria')\n",
    "spec_info"
   ]
  },
  {
   "cell_type": "raw",
   "metadata": {
    "raw_mimetype": "text/restructuredtext",
    "tags": []
   },
   "source": [
    "Fetching meshes\n",
    "---------------\n",
    "\n",
    "Fetch neuropil meshes for the Locust brain:"
   ]
  },
  {
   "cell_type": "code",
   "execution_count": 4,
   "metadata": {},
   "outputs": [
    {
     "name": "stderr",
     "output_type": "stream",
     "text": [
      "INFO  : 1 reconstruction(s) from 1 brain(s) found (navis)\n"
     ]
    },
    {
     "data": {
      "application/vnd.jupyter.widget-view+json": {
       "model_id": "",
       "version_major": 2,
       "version_minor": 0
      },
      "text/plain": [
       "Brains:   0%|          | 0/1 [00:00<?, ?it/s]"
      ]
     },
     "metadata": {},
     "output_type": "display_data"
    },
    {
     "data": {
      "application/vnd.jupyter.widget-view+json": {
       "model_id": "",
       "version_major": 2,
       "version_minor": 0
      },
      "text/plain": [
       "Neuropils:   0%|          | 0/53 [00:00<?, ?it/s]"
      ]
     },
     "metadata": {},
     "output_type": "display_data"
    },
    {
     "data": {
      "text/plain": [
       "[<navis.Volume(name=Anterior lobula (left), color=(1.0, 0.4, 0.0, 0.5), vertices.shape=(2502, 3), faces.shape=(5000, 3))>,\n",
       " <navis.Volume(name=Upper lateral accessory lobe (right), color=(0.4392156862745098, 0.8, 0.1607843137254902, 0.5), vertices.shape=(5002, 3), faces.shape=(10000, 3))>]"
      ]
     },
     "execution_count": 4,
     "metadata": {},
     "output_type": "execute_result"
    }
   ],
   "source": [
    "# `combine=True` would produce a single combined mesh but here we want a list of individual neuropils\n",
    "locust_brain = ibdb.get_brain_meshes('Desert Locust', combine=False)\n",
    "locust_brain[:2]"
   ]
  },
  {
   "cell_type": "code",
   "execution_count": null,
   "metadata": {},
   "outputs": [],
   "source": [
    "# Plot neuropils\n",
    "fig = navis.plot3d(locust_brain, width=1200, volume_legend=True)"
   ]
  },
  {
   "cell_type": "raw",
   "metadata": {},
   "source": [
    ".. raw:: html\n",
    "   :file: figures/locust_brain.html\n",
    "   \n",
    "|\n",
    "|\n",
    "|\n",
    "|   "
   ]
  },
  {
   "cell_type": "raw",
   "metadata": {
    "raw_mimetype": "text/restructuredtext",
    "tags": []
   },
   "source": [
    "Fetch neurons\n",
    "-------------\n",
    "\n",
    "First we need to know what neurons are available. Just like on the website you can set all kinds of different search parameters. Here we will stick with our Locust:"
   ]
  },
  {
   "cell_type": "code",
   "execution_count": 5,
   "metadata": {},
   "outputs": [
    {
     "data": {
      "text/html": [
       "<div>\n",
       "<style scoped>\n",
       "    .dataframe tbody tr th:only-of-type {\n",
       "        vertical-align: middle;\n",
       "    }\n",
       "\n",
       "    .dataframe tbody tr th {\n",
       "        vertical-align: top;\n",
       "    }\n",
       "\n",
       "    .dataframe thead th {\n",
       "        text-align: right;\n",
       "    }\n",
       "</style>\n",
       "<table border=\"1\" class=\"dataframe\">\n",
       "  <thead>\n",
       "    <tr style=\"text-align: right;\">\n",
       "      <th></th>\n",
       "      <th>id</th>\n",
       "      <th>name</th>\n",
       "      <th>full_name</th>\n",
       "      <th>short_name</th>\n",
       "      <th>persistent_records</th>\n",
       "      <th>uploaded_by</th>\n",
       "      <th>nin</th>\n",
       "      <th>date_uploaded</th>\n",
       "      <th>reconstruction_creator</th>\n",
       "      <th>group_head</th>\n",
       "      <th>...</th>\n",
       "      <th>public</th>\n",
       "      <th>hemisphere</th>\n",
       "      <th>archived</th>\n",
       "      <th>archived_notes</th>\n",
       "      <th>species</th>\n",
       "      <th>template_type</th>\n",
       "      <th>superseding_record</th>\n",
       "      <th>super_type</th>\n",
       "      <th>neuron_family</th>\n",
       "      <th>neuron_class</th>\n",
       "    </tr>\n",
       "  </thead>\n",
       "  <tbody>\n",
       "    <tr>\n",
       "      <th>0</th>\n",
       "      <td>426</td>\n",
       "      <td>CL1a-L1</td>\n",
       "      <td>sg-CL1a-L1(L)</td>\n",
       "      <td>CL1a-L1</td>\n",
       "      <td>[20.500.12158/NIN-0000426.1]</td>\n",
       "      <td>{'id': 41, 'first_name': 'Frederick', 'last_na...</td>\n",
       "      <td>NIN-0000426</td>\n",
       "      <td>2021-07-01T00:00:00Z</td>\n",
       "      <td></td>\n",
       "      <td>Uwe Homberg</td>\n",
       "      <td>...</td>\n",
       "      <td>True</td>\n",
       "      <td>LEFT</td>\n",
       "      <td>False</td>\n",
       "      <td>None</td>\n",
       "      <td>9</td>\n",
       "      <td>1</td>\n",
       "      <td>None</td>\n",
       "      <td>31.0</td>\n",
       "      <td>8.0</td>\n",
       "      <td>1.0</td>\n",
       "    </tr>\n",
       "    <tr>\n",
       "      <th>1</th>\n",
       "      <td>429</td>\n",
       "      <td>CL1a-L3</td>\n",
       "      <td>sg-CL1a-L3(L)</td>\n",
       "      <td>CL1a-L3</td>\n",
       "      <td>[20.500.12158/NIN-0000429.1]</td>\n",
       "      <td>{'id': 41, 'first_name': 'Frederick', 'last_na...</td>\n",
       "      <td>NIN-0000429</td>\n",
       "      <td>2021-07-01T00:00:00Z</td>\n",
       "      <td></td>\n",
       "      <td>Uwe Homberg</td>\n",
       "      <td>...</td>\n",
       "      <td>True</td>\n",
       "      <td>LEFT</td>\n",
       "      <td>False</td>\n",
       "      <td>None</td>\n",
       "      <td>9</td>\n",
       "      <td>1</td>\n",
       "      <td>None</td>\n",
       "      <td>31.0</td>\n",
       "      <td>8.0</td>\n",
       "      <td>1.0</td>\n",
       "    </tr>\n",
       "    <tr>\n",
       "      <th>2</th>\n",
       "      <td>440</td>\n",
       "      <td>CL1a-L4</td>\n",
       "      <td>sg-CL1a-L4(L)</td>\n",
       "      <td>CL1a-L4</td>\n",
       "      <td>[20.500.12158/NIN-0000440.1]</td>\n",
       "      <td>{'id': 41, 'first_name': 'Frederick', 'last_na...</td>\n",
       "      <td>NIN-0000440</td>\n",
       "      <td>2021-07-01T00:00:00Z</td>\n",
       "      <td></td>\n",
       "      <td>Uwe Homberg</td>\n",
       "      <td>...</td>\n",
       "      <td>True</td>\n",
       "      <td>LEFT</td>\n",
       "      <td>False</td>\n",
       "      <td>None</td>\n",
       "      <td>9</td>\n",
       "      <td>1</td>\n",
       "      <td>None</td>\n",
       "      <td>31.0</td>\n",
       "      <td>8.0</td>\n",
       "      <td>1.0</td>\n",
       "    </tr>\n",
       "    <tr>\n",
       "      <th>3</th>\n",
       "      <td>425</td>\n",
       "      <td>CL1a-L5</td>\n",
       "      <td>sg-CL1a-L5(L)</td>\n",
       "      <td>CL1a-L5</td>\n",
       "      <td>[20.500.12158/NIN-0000425.1]</td>\n",
       "      <td>{'id': 41, 'first_name': 'Frederick', 'last_na...</td>\n",
       "      <td>NIN-0000425</td>\n",
       "      <td>2021-07-01T00:00:00Z</td>\n",
       "      <td></td>\n",
       "      <td>Uwe Homberg</td>\n",
       "      <td>...</td>\n",
       "      <td>True</td>\n",
       "      <td>LEFT</td>\n",
       "      <td>False</td>\n",
       "      <td>None</td>\n",
       "      <td>9</td>\n",
       "      <td>1</td>\n",
       "      <td>None</td>\n",
       "      <td>31.0</td>\n",
       "      <td>8.0</td>\n",
       "      <td>1.0</td>\n",
       "    </tr>\n",
       "    <tr>\n",
       "      <th>4</th>\n",
       "      <td>423</td>\n",
       "      <td>CL1a-R2</td>\n",
       "      <td>sg-CL1a-R2(R)</td>\n",
       "      <td>CL1a</td>\n",
       "      <td>[20.500.12158/NIN-0000423.1]</td>\n",
       "      <td>{'id': 71, 'first_name': 'Ronja', 'last_name':...</td>\n",
       "      <td>NIN-0000423</td>\n",
       "      <td>2021-06-19T00:00:00Z</td>\n",
       "      <td>Stefanie Jahn</td>\n",
       "      <td>Uwe Homberg</td>\n",
       "      <td>...</td>\n",
       "      <td>True</td>\n",
       "      <td>RIGHT</td>\n",
       "      <td>False</td>\n",
       "      <td>None</td>\n",
       "      <td>9</td>\n",
       "      <td>1</td>\n",
       "      <td>None</td>\n",
       "      <td>6.0</td>\n",
       "      <td>8.0</td>\n",
       "      <td>1.0</td>\n",
       "    </tr>\n",
       "  </tbody>\n",
       "</table>\n",
       "<p>5 rows × 21 columns</p>\n",
       "</div>"
      ],
      "text/plain": [
       "    id     name      full_name short_name            persistent_records  \\\n",
       "0  426  CL1a-L1  sg-CL1a-L1(L)    CL1a-L1  [20.500.12158/NIN-0000426.1]   \n",
       "1  429  CL1a-L3  sg-CL1a-L3(L)    CL1a-L3  [20.500.12158/NIN-0000429.1]   \n",
       "2  440  CL1a-L4  sg-CL1a-L4(L)    CL1a-L4  [20.500.12158/NIN-0000440.1]   \n",
       "3  425  CL1a-L5  sg-CL1a-L5(L)    CL1a-L5  [20.500.12158/NIN-0000425.1]   \n",
       "4  423  CL1a-R2  sg-CL1a-R2(R)       CL1a  [20.500.12158/NIN-0000423.1]   \n",
       "\n",
       "                                         uploaded_by          nin  \\\n",
       "0  {'id': 41, 'first_name': 'Frederick', 'last_na...  NIN-0000426   \n",
       "1  {'id': 41, 'first_name': 'Frederick', 'last_na...  NIN-0000429   \n",
       "2  {'id': 41, 'first_name': 'Frederick', 'last_na...  NIN-0000440   \n",
       "3  {'id': 41, 'first_name': 'Frederick', 'last_na...  NIN-0000425   \n",
       "4  {'id': 71, 'first_name': 'Ronja', 'last_name':...  NIN-0000423   \n",
       "\n",
       "          date_uploaded reconstruction_creator   group_head  ... public  \\\n",
       "0  2021-07-01T00:00:00Z                         Uwe Homberg  ...   True   \n",
       "1  2021-07-01T00:00:00Z                         Uwe Homberg  ...   True   \n",
       "2  2021-07-01T00:00:00Z                         Uwe Homberg  ...   True   \n",
       "3  2021-07-01T00:00:00Z                         Uwe Homberg  ...   True   \n",
       "4  2021-06-19T00:00:00Z          Stefanie Jahn  Uwe Homberg  ...   True   \n",
       "\n",
       "   hemisphere archived  archived_notes species  template_type  \\\n",
       "0        LEFT    False            None       9              1   \n",
       "1        LEFT    False            None       9              1   \n",
       "2        LEFT    False            None       9              1   \n",
       "3        LEFT    False            None       9              1   \n",
       "4       RIGHT    False            None       9              1   \n",
       "\n",
       "   superseding_record super_type  neuron_family  neuron_class  \n",
       "0                None       31.0            8.0           1.0  \n",
       "1                None       31.0            8.0           1.0  \n",
       "2                None       31.0            8.0           1.0  \n",
       "3                None       31.0            8.0           1.0  \n",
       "4                None        6.0            8.0           1.0  \n",
       "\n",
       "[5 rows x 21 columns]"
      ]
     },
     "execution_count": 5,
     "metadata": {},
     "output_type": "execute_result"
    }
   ],
   "source": [
    "locust_neurons = ibdb.search_neurons(species='Desert Locust')\n",
    "locust_neurons.head()"
   ]
  },
  {
   "cell_type": "raw",
   "metadata": {
    "raw_mimetype": "text/restructuredtext",
    "tags": []
   },
   "source": [
    "Let's fetch skeletons (\"reconstructions\") for some of the above neurons. Note that not all neurons have skeletons (see the \"reconstruction_creator\" column)!"
   ]
  },
  {
   "cell_type": "code",
   "execution_count": 6,
   "metadata": {},
   "outputs": [
    {
     "data": {
      "text/html": [
       "&lt;class 'navis.core.neuronlist.NeuronList'&gt; containing 1 neurons (4.2MiB)<div>\n",
       "<style scoped>\n",
       "    .dataframe tbody tr th:only-of-type {\n",
       "        vertical-align: middle;\n",
       "    }\n",
       "\n",
       "    .dataframe tbody tr th {\n",
       "        vertical-align: top;\n",
       "    }\n",
       "\n",
       "    .dataframe thead th {\n",
       "        text-align: right;\n",
       "    }\n",
       "</style>\n",
       "<table border=\"1\" class=\"dataframe\">\n",
       "  <thead>\n",
       "    <tr style=\"text-align: right;\">\n",
       "      <th></th>\n",
       "      <th>type</th>\n",
       "      <th>name</th>\n",
       "      <th>id</th>\n",
       "      <th>n_nodes</th>\n",
       "      <th>n_connectors</th>\n",
       "      <th>n_branches</th>\n",
       "      <th>n_leafs</th>\n",
       "      <th>cable_length</th>\n",
       "      <th>soma</th>\n",
       "      <th>units</th>\n",
       "    </tr>\n",
       "  </thead>\n",
       "  <tbody>\n",
       "    <tr>\n",
       "      <th>0</th>\n",
       "      <td>navis.TreeNeuron</td>\n",
       "      <td>CL1190516SkeletonTreeRight.swc</td>\n",
       "      <td>423</td>\n",
       "      <td>78559</td>\n",
       "      <td>None</td>\n",
       "      <td>330</td>\n",
       "      <td>340</td>\n",
       "      <td>9918.345885</td>\n",
       "      <td>None</td>\n",
       "      <td>1 micrometer</td>\n",
       "    </tr>\n",
       "  </tbody>\n",
       "</table>\n",
       "</div>"
      ],
      "text/plain": [
       "<class 'navis.core.neuronlist.NeuronList'> containing 1 neurons (4.2MiB)\n",
       "               type                            name   id  n_nodes  \\\n",
       "0  navis.TreeNeuron  CL1190516SkeletonTreeRight.swc  423    78559   \n",
       "\n",
       "  n_connectors  n_branches  n_leafs  cable_length  soma         units  \n",
       "0         None         330      340   9918.345885  None  1 micrometer  "
      ]
     },
     "execution_count": 6,
     "metadata": {},
     "output_type": "execute_result"
    }
   ],
   "source": [
    "# You can use IDs or names, or a combination thereof to fetch skeletons\n",
    "skeleton = ibdb.get_skeletons('CL1a-R2')\n",
    "skeleton"
   ]
  },
  {
   "cell_type": "code",
   "execution_count": null,
   "metadata": {},
   "outputs": [],
   "source": [
    "# Plot the neuron - note that most neurons appear to have radii information \n",
    "fig = skeleton.plot3d(radius=True)"
   ]
  },
  {
   "cell_type": "raw",
   "metadata": {
    "raw_mimetype": "text/restructuredtext",
    "tags": []
   },
   "source": [
    ".. raw:: html\n",
    "   :file: figures/locust_neuron.html\n",
    "   \n",
    "|\n",
    "|\n",
    "|\n",
    "|   "
   ]
  },
  {
   "cell_type": "raw",
   "metadata": {
    "raw_mimetype": "text/restructuredtext",
    "tags": []
   },
   "source": [
    "Check out the :ref:`API reference<api_interfaces.insectdb>` for further details."
   ]
  }
 ],
 "metadata": {
  "kernelspec": {
   "display_name": "Python 3 (ipykernel)",
   "language": "python",
   "name": "python3"
  },
  "language_info": {
   "codemirror_mode": {
    "name": "ipython",
    "version": 3
   },
   "file_extension": ".py",
   "mimetype": "text/x-python",
   "name": "python",
   "nbconvert_exporter": "python",
   "pygments_lexer": "ipython3",
   "version": "3.9.9"
  },
  "widgets": {
   "application/vnd.jupyter.widget-state+json": {
    "state": {
     "226270fd76b247bba0c7b869e2fc24ec": {
      "model_module": "@jupyter-widgets/controls",
      "model_module_version": "1.5.0",
      "model_name": "DescriptionStyleModel",
      "state": {
       "description_width": ""
      }
     },
     "3ddc447a3b19404ba2afe1e4e71343ba": {
      "model_module": "@jupyter-widgets/controls",
      "model_module_version": "1.5.0",
      "model_name": "FloatProgressModel",
      "state": {
       "layout": "IPY_MODEL_59d64401975449c685c499503847869c",
       "max": 53,
       "style": "IPY_MODEL_b676efaf7e394bfa8a703ece0e7d71a8",
       "value": 53
      }
     },
     "4e8272fd57414b04af52e6701eba6391": {
      "model_module": "@jupyter-widgets/controls",
      "model_module_version": "1.5.0",
      "model_name": "DescriptionStyleModel",
      "state": {
       "description_width": ""
      }
     },
     "59d64401975449c685c499503847869c": {
      "model_module": "@jupyter-widgets/base",
      "model_module_version": "1.2.0",
      "model_name": "LayoutModel",
      "state": {}
     },
     "610382aada15460193d6f724cb1d3180": {
      "model_module": "@jupyter-widgets/controls",
      "model_module_version": "1.5.0",
      "model_name": "HTMLModel",
      "state": {
       "layout": "IPY_MODEL_ded1727c91c44141bd6488df33a97cff",
       "style": "IPY_MODEL_b986b39656fd45ca9993e11a576708e1",
       "value": "Neuropils: 100%"
      }
     },
     "671e4e91e25c47b5aa4e11671d15c5c5": {
      "model_module": "@jupyter-widgets/controls",
      "model_module_version": "1.5.0",
      "model_name": "FloatProgressModel",
      "state": {
       "layout": "IPY_MODEL_8a84176f898844408e74c9935d530368",
       "max": 1,
       "style": "IPY_MODEL_fae56e2488764a24936baffb3237ceae",
       "value": 1
      }
     },
     "8a84176f898844408e74c9935d530368": {
      "model_module": "@jupyter-widgets/base",
      "model_module_version": "1.2.0",
      "model_name": "LayoutModel",
      "state": {}
     },
     "a23f73d7686a4eedb6810b1f916f8de1": {
      "model_module": "@jupyter-widgets/base",
      "model_module_version": "1.2.0",
      "model_name": "LayoutModel",
      "state": {}
     },
     "a3e4f7916c8e4ae78af8520c9edb3279": {
      "model_module": "@jupyter-widgets/controls",
      "model_module_version": "1.5.0",
      "model_name": "HTMLModel",
      "state": {
       "layout": "IPY_MODEL_f74ebef4346a4439bdae4e26a39c0c75",
       "style": "IPY_MODEL_226270fd76b247bba0c7b869e2fc24ec",
       "value": " 53/53 [00:16&lt;00:00,  2.76it/s]"
      }
     },
     "b676efaf7e394bfa8a703ece0e7d71a8": {
      "model_module": "@jupyter-widgets/controls",
      "model_module_version": "1.5.0",
      "model_name": "ProgressStyleModel",
      "state": {
       "description_width": ""
      }
     },
     "b986b39656fd45ca9993e11a576708e1": {
      "model_module": "@jupyter-widgets/controls",
      "model_module_version": "1.5.0",
      "model_name": "DescriptionStyleModel",
      "state": {
       "description_width": ""
      }
     },
     "c5cf9fc78cfe4d0dbf18477a35670bf3": {
      "model_module": "@jupyter-widgets/controls",
      "model_module_version": "1.5.0",
      "model_name": "HTMLModel",
      "state": {
       "layout": "IPY_MODEL_d9c4aa7b834341159b1675146ad88544",
       "style": "IPY_MODEL_e675b734116a4686881ee2a4bd0ba8a3",
       "value": " 1/1 [00:16&lt;00:00, 16.98s/it]"
      }
     },
     "cc6c15bf62ed432c80ae409a8815a24b": {
      "model_module": "@jupyter-widgets/controls",
      "model_module_version": "1.5.0",
      "model_name": "HTMLModel",
      "state": {
       "layout": "IPY_MODEL_feada9ae736c47ee9a15d294c840157d",
       "style": "IPY_MODEL_4e8272fd57414b04af52e6701eba6391",
       "value": "Brains: 100%"
      }
     },
     "d9c4aa7b834341159b1675146ad88544": {
      "model_module": "@jupyter-widgets/base",
      "model_module_version": "1.2.0",
      "model_name": "LayoutModel",
      "state": {}
     },
     "da8803788d404fa6a7d10cf74448a59a": {
      "model_module": "@jupyter-widgets/base",
      "model_module_version": "1.2.0",
      "model_name": "LayoutModel",
      "state": {}
     },
     "ded1727c91c44141bd6488df33a97cff": {
      "model_module": "@jupyter-widgets/base",
      "model_module_version": "1.2.0",
      "model_name": "LayoutModel",
      "state": {}
     },
     "e675b734116a4686881ee2a4bd0ba8a3": {
      "model_module": "@jupyter-widgets/controls",
      "model_module_version": "1.5.0",
      "model_name": "DescriptionStyleModel",
      "state": {
       "description_width": ""
      }
     },
     "f74ebef4346a4439bdae4e26a39c0c75": {
      "model_module": "@jupyter-widgets/base",
      "model_module_version": "1.2.0",
      "model_name": "LayoutModel",
      "state": {}
     },
     "fae56e2488764a24936baffb3237ceae": {
      "model_module": "@jupyter-widgets/controls",
      "model_module_version": "1.5.0",
      "model_name": "ProgressStyleModel",
      "state": {
       "description_width": ""
      }
     },
     "feada9ae736c47ee9a15d294c840157d": {
      "model_module": "@jupyter-widgets/base",
      "model_module_version": "1.2.0",
      "model_name": "LayoutModel",
      "state": {}
     }
    },
    "version_major": 2,
    "version_minor": 0
   }
  }
 },
 "nbformat": 4,
 "nbformat_minor": 4
}
