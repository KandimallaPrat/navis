{
 "cells": [
  {
   "cell_type": "raw",
   "id": "70a60d6b-082e-4728-907a-af8a3e039d16",
   "metadata": {
    "raw_mimetype": "text/restructuredtext",
    "tags": []
   },
   "source": [
    ".. _local_data_pickle_tut:\n",
    "\n",
    "Pickling\n",
    "--------\n",
    "All neuron types including :class:`navis.NeuronList` can be pickled. If you don't know what that is: pickling is storing the actual Python object as a bytes stream. This is incredibly fast and works very well for short-term storage but has a few downsides:\n",
    "\n",
    "1. Can only be re-opened in Python\n",
    "2. Is (sort of) specific to the current version of ``navis`` - i.e. may not work with future versions of navis\n",
    "\n",
    "With that in mind, pickling is incredibly easy:"
   ]
  },
  {
   "cell_type": "code",
   "execution_count": 33,
   "id": "7083e54b-9a41-4c03-b85b-1d6aa216bc9b",
   "metadata": {},
   "outputs": [],
   "source": [
    "import navis\n",
    "import pickle\n",
    "\n",
    "# Load some example neurons \n",
    "nl = navis.example_neurons(3, kind='mesh')\n",
    "\n",
    "# Pickle neurons to file\n",
    "with open('/Users/philipps/Downloads//meshes.pkl', 'wb') as f:\n",
    "    pickle.dump(nl, f)"
   ]
  },
  {
   "cell_type": "code",
   "execution_count": 35,
   "id": "7857b6d1-38eb-4510-8886-a12a86b8d914",
   "metadata": {},
   "outputs": [
    {
     "data": {
      "text/html": [
       "&lt;class 'navis.core.neuronlist.NeuronList'&gt; containing 3 neurons (1.9MiB)<div>\n",
       "<style scoped>\n",
       "    .dataframe tbody tr th:only-of-type {\n",
       "        vertical-align: middle;\n",
       "    }\n",
       "\n",
       "    .dataframe tbody tr th {\n",
       "        vertical-align: top;\n",
       "    }\n",
       "\n",
       "    .dataframe thead th {\n",
       "        text-align: right;\n",
       "    }\n",
       "</style>\n",
       "<table border=\"1\" class=\"dataframe\">\n",
       "  <thead>\n",
       "    <tr style=\"text-align: right;\">\n",
       "      <th></th>\n",
       "      <th>type</th>\n",
       "      <th>name</th>\n",
       "      <th>id</th>\n",
       "      <th>units</th>\n",
       "      <th>n_vertices</th>\n",
       "      <th>n_faces</th>\n",
       "    </tr>\n",
       "  </thead>\n",
       "  <tbody>\n",
       "    <tr>\n",
       "      <th>0</th>\n",
       "      <td>navis.MeshNeuron</td>\n",
       "      <td>DA1_lPN_R</td>\n",
       "      <td>1734350788</td>\n",
       "      <td>8 nanometer</td>\n",
       "      <td>6309</td>\n",
       "      <td>13054</td>\n",
       "    </tr>\n",
       "    <tr>\n",
       "      <th>1</th>\n",
       "      <td>navis.MeshNeuron</td>\n",
       "      <td>DA1_lPN_R</td>\n",
       "      <td>1734350908</td>\n",
       "      <td>8 nanometer</td>\n",
       "      <td>7098</td>\n",
       "      <td>14620</td>\n",
       "    </tr>\n",
       "    <tr>\n",
       "      <th>2</th>\n",
       "      <td>navis.MeshNeuron</td>\n",
       "      <td>DA1_lPN_R</td>\n",
       "      <td>722817260</td>\n",
       "      <td>8 nanometer</td>\n",
       "      <td>6582</td>\n",
       "      <td>13772</td>\n",
       "    </tr>\n",
       "  </tbody>\n",
       "</table>\n",
       "</div>"
      ],
      "text/plain": [
       "<class 'navis.core.neuronlist.NeuronList'> containing 3 neurons (1.9MiB)\n",
       "               type       name          id        units  n_vertices  n_faces\n",
       "0  navis.MeshNeuron  DA1_lPN_R  1734350788  8 nanometer        6309    13054\n",
       "1  navis.MeshNeuron  DA1_lPN_R  1734350908  8 nanometer        7098    14620\n",
       "2  navis.MeshNeuron  DA1_lPN_R   722817260  8 nanometer        6582    13772"
      ]
     },
     "execution_count": 35,
     "metadata": {},
     "output_type": "execute_result"
    }
   ],
   "source": [
    "# Read neurons back from pickle file\n",
    "with open('/Users/philipps/Downloads//meshes.pkl', 'rb') as f:\n",
    "    nl = pickle.load(f)\n",
    "nl    "
   ]
  },
  {
   "cell_type": "raw",
   "id": "69776657-fd5f-47e7-971b-ea1fd6b81930",
   "metadata": {
    "raw_mimetype": "text/restructuredtext",
    "tags": []
   },
   "source": [
    "Hopefully the above has given you some entry points on how to load and save your data. See also the :ref:`I/O API reference api_io>`."
   ]
  }
 ],
 "metadata": {
  "kernelspec": {
   "display_name": "Python 3 (ipykernel)",
   "language": "python",
   "name": "python3"
  },
  "language_info": {
   "codemirror_mode": {
    "name": "ipython",
    "version": 3
   },
   "file_extension": ".py",
   "mimetype": "text/x-python",
   "name": "python",
   "nbconvert_exporter": "python",
   "pygments_lexer": "ipython3",
   "version": "3.9.9"
  },
  "widgets": {
   "application/vnd.jupyter.widget-state+json": {
    "state": {},
    "version_major": 2,
    "version_minor": 0
   }
  }
 },
 "nbformat": 4,
 "nbformat_minor": 5
}
