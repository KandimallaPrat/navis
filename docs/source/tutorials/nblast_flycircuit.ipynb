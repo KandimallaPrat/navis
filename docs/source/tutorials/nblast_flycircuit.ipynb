{
 "cells": [
  {
   "cell_type": "raw",
   "metadata": {
    "raw_mimetype": "text/restructuredtext",
    "tags": []
   },
   "source": [
    ".. _nblast_fc:\n",
    "\n",
    "NBLAST against FlyCircuit\n",
    "-------------------------\n",
    "\n",
    "If you work with `Drosophila`, chances are you have heard of `FlyCircuit <http://www.flycircuit.tw/>`_. It's a collection of ~16k single neuron clones published by `Chiang et al. (2010) <https://www.cell.com/current-biology/fulltext/S0960-9822(10)01522-8>`_.\n",
    "\n",
    "For R, there is a package containing dotprops and meta data for these neurons: `nat.flycircuit <https://github.com/natverse/flycircuit>`_. This does not yet exist for Python. However, it's still reasonably straight forward to run an NBLAST against the flycircuit DB in Python:\n",
    "\n",
    "First you need to download the Python version of the flycircuit dotprops: `flycircuit_dps.pkl <https://drive.google.com/file/d/18iU-UTkncjN4sfEn1o-yGyjPuVeEbtL4/view?usp=sharing>`_ (1.8 Gb).\n",
    "\n",
    "Then you can do this:"
   ]
  },
  {
   "cell_type": "code",
   "execution_count": 1,
   "metadata": {},
   "outputs": [],
   "source": [
    "import navis \n",
    "import pickle"
   ]
  },
  {
   "cell_type": "raw",
   "metadata": {
    "raw_mimetype": "text/restructuredtext",
    "tags": []
   },
   "source": [
    "Here we load the FlyCircuit dotprops from the pickle file you downloaded (adjust filepath if required)."
   ]
  },
  {
   "cell_type": "code",
   "execution_count": 3,
   "metadata": {},
   "outputs": [],
   "source": [
    "with open('flycircuit_dps.pkl', 'rb') as f: \n",
    "   # FlyCircuit dotprops are already in microns\n",
    "   fc_dps = pickle.load(f)"
   ]
  },
  {
   "cell_type": "raw",
   "metadata": {
    "raw_mimetype": "text/restructuredtext",
    "tags": []
   },
   "source": [
    "The names/ids correspond to the flycircuit gene + clone names!"
   ]
  },
  {
   "cell_type": "code",
   "execution_count": 4,
   "metadata": {},
   "outputs": [
    {
     "data": {
      "text/html": [
       "<div>\n",
       "<style scoped>\n",
       "    .dataframe tbody tr th:only-of-type {\n",
       "        vertical-align: middle;\n",
       "    }\n",
       "\n",
       "    .dataframe tbody tr th {\n",
       "        vertical-align: top;\n",
       "    }\n",
       "\n",
       "    .dataframe thead th {\n",
       "        text-align: right;\n",
       "    }\n",
       "</style>\n",
       "<table border=\"1\" class=\"dataframe\">\n",
       "  <thead>\n",
       "    <tr style=\"text-align: right;\">\n",
       "      <th></th>\n",
       "      <th></th>\n",
       "    </tr>\n",
       "  </thead>\n",
       "  <tbody>\n",
       "    <tr>\n",
       "      <th>type</th>\n",
       "      <td>navis.Dotprops</td>\n",
       "    </tr>\n",
       "    <tr>\n",
       "      <th>name</th>\n",
       "      <td>FruMARCM-M002262_seg001</td>\n",
       "    </tr>\n",
       "    <tr>\n",
       "      <th>id</th>\n",
       "      <td>FruMARCM-M002262_seg001</td>\n",
       "    </tr>\n",
       "    <tr>\n",
       "      <th>k</th>\n",
       "      <td>5</td>\n",
       "    </tr>\n",
       "    <tr>\n",
       "      <th>units</th>\n",
       "      <td>1 micrometer</td>\n",
       "    </tr>\n",
       "    <tr>\n",
       "      <th>n_points</th>\n",
       "      <td>4121</td>\n",
       "    </tr>\n",
       "  </tbody>\n",
       "</table>\n",
       "</div>"
      ],
      "text/plain": [
       "type                 navis.Dotprops\n",
       "name        FruMARCM-M002262_seg001\n",
       "id          FruMARCM-M002262_seg001\n",
       "k                                 5\n",
       "units                  1 micrometer\n",
       "n_points                       4121\n",
       "dtype: object"
      ]
     },
     "execution_count": 4,
     "metadata": {},
     "output_type": "execute_result"
    }
   ],
   "source": [
    "fc_dps[0]"
   ]
  },
  {
   "cell_type": "raw",
   "metadata": {
    "raw_mimetype": "text/restructuredtext",
    "tags": []
   },
   "source": [
    "In case your query neurons are in a different brain space, you can use `navis-flybrains <https://github.com/schlegelp/navis-flybrains>`_ to convert them to flycircuit's ``FCWB`` space.\n",
    "\n",
    "For demonstration purposes we will use the example neurons - olfactory DA1 projection neurons from the hemibrain connectome - that ship with ``navis``."
   ]
  },
  {
   "cell_type": "code",
   "execution_count": 44,
   "metadata": {},
   "outputs": [],
   "source": [
    "# Load some of the example neurons\n",
    "n = navis.example_neurons(3)"
   ]
  },
  {
   "cell_type": "code",
   "execution_count": 45,
   "metadata": {},
   "outputs": [
    {
     "name": "stdout",
     "output_type": "stream",
     "text": [
      "Transform path: JRCFIB2018Fraw -> JRCFIB2018F -> JRCFIB2018Fum -> JRC2018F -> FCWB\n"
     ]
    }
   ],
   "source": [
    "# Convert from hemibrain (JRCFIB2018Fraw) to FCWB space\n",
    "import flybrains\n",
    "\n",
    "n_fcwb = navis.xform_brain(n, source='JRCFIB2018Fraw', target='FCWB')"
   ]
  },
  {
   "cell_type": "code",
   "execution_count": 46,
   "metadata": {},
   "outputs": [
    {
     "data": {
      "application/vnd.jupyter.widget-view+json": {
       "model_id": "",
       "version_major": 2,
       "version_minor": 0
      },
      "text/plain": [
       "Plot neurons:   0%|          | 0/3 [00:00<?, ?it/s]"
      ]
     },
     "metadata": {},
     "output_type": "display_data"
    },
    {
     "data": {
      "image/png": "[encoded data removed]",
      "text/plain": [
       "<Figure size 432x432 with 1 Axes>"
      ]
     },
     "metadata": {
      "needs_background": "light"
     },
     "output_type": "display_data"
    }
   ],
   "source": [
    "# A sanity check to make sure the transform worked\n",
    "fig, ax = navis.plot2d([n_fcwb, flybrains.FCWB])\n",
    "ax.elev = -90\n",
    "ax.dist = 4"
   ]
  },
  {
   "cell_type": "code",
   "execution_count": 47,
   "metadata": {},
   "outputs": [],
   "source": [
    "# Mirror neurons from the right to the left\n",
    "# (FlyCircuit neurons are supposed to all be on the left)\n",
    "n_fcwb_mirr = navis.mirror_brain(n_fcwb, template='FCWB')"
   ]
  },
  {
   "cell_type": "code",
   "execution_count": 48,
   "metadata": {},
   "outputs": [],
   "source": [
    "# Convert to dotprops\n",
    "n_dps = navis.make_dotprops(n_fcwb_mirr, resample=1, k=None)"
   ]
  },
  {
   "cell_type": "code",
   "execution_count": null,
   "metadata": {
    "tags": []
   },
   "outputs": [],
   "source": [
    "# Run a \"smart\" NBLAST to get the top hits\n",
    "# (ignore the warning about data not being in microns - that's a rounding error from the transform)\n",
    "scores = navis.nblast_smart(query=n_dps, target=fc_dps, scores='mean', progress=False)"
   ]
  },
  {
   "cell_type": "code",
   "execution_count": 50,
   "metadata": {},
   "outputs": [
    {
     "data": {
      "text/html": [
       "<div>\n",
       "<style scoped>\n",
       "    .dataframe tbody tr th:only-of-type {\n",
       "        vertical-align: middle;\n",
       "    }\n",
       "\n",
       "    .dataframe tbody tr th {\n",
       "        vertical-align: top;\n",
       "    }\n",
       "\n",
       "    .dataframe thead th {\n",
       "        text-align: right;\n",
       "    }\n",
       "</style>\n",
       "<table border=\"1\" class=\"dataframe\">\n",
       "  <thead>\n",
       "    <tr style=\"text-align: right;\">\n",
       "      <th></th>\n",
       "      <th>FruMARCM-M002262_seg001</th>\n",
       "      <th>FruMARCM-M002262_seg002</th>\n",
       "      <th>FruMARCM-M002278_seg001</th>\n",
       "      <th>FruMARCM-M002287_seg001</th>\n",
       "      <th>FruMARCM-M002507_seg001</th>\n",
       "      <th>FruMARCM-M002522_seg001</th>\n",
       "      <th>FruMARCM-M002578_seg001</th>\n",
       "      <th>FruMARCM-M002578_seg002</th>\n",
       "      <th>FruMARCM-M002579_seg001</th>\n",
       "      <th>FruMARCM-M002579_seg002</th>\n",
       "      <th>...</th>\n",
       "      <th>DvGlutMARCM-F594-X2_seg1</th>\n",
       "      <th>DvGlutMARCM-F594-X2_seg2</th>\n",
       "      <th>DvGlutMARCM-F595_seg1</th>\n",
       "      <th>DvGlutMARCM-F596_seg1</th>\n",
       "      <th>DvGlutMARCM-F597_seg1</th>\n",
       "      <th>DvGlutMARCM-F598_seg1</th>\n",
       "      <th>DvGlutMARCM-F599_seg1</th>\n",
       "      <th>DvGlutMARCM-F599_seg2</th>\n",
       "      <th>DvGlutMARCM-F600-X2_seg1</th>\n",
       "      <th>DvGlutMARCM-F600-X2_seg2</th>\n",
       "    </tr>\n",
       "  </thead>\n",
       "  <tbody>\n",
       "    <tr>\n",
       "      <th>1734350788</th>\n",
       "      <td>-0.260213</td>\n",
       "      <td>-0.200286</td>\n",
       "      <td>-0.645926</td>\n",
       "      <td>-0.639277</td>\n",
       "      <td>-0.663507</td>\n",
       "      <td>-0.451059</td>\n",
       "      <td>-0.229996</td>\n",
       "      <td>-0.604237</td>\n",
       "      <td>-0.705247</td>\n",
       "      <td>-0.307929</td>\n",
       "      <td>...</td>\n",
       "      <td>-0.881092</td>\n",
       "      <td>-0.648820</td>\n",
       "      <td>-0.660410</td>\n",
       "      <td>0.118524</td>\n",
       "      <td>-0.315490</td>\n",
       "      <td>-0.671891</td>\n",
       "      <td>-0.499438</td>\n",
       "      <td>-0.882007</td>\n",
       "      <td>-0.882510</td>\n",
       "      <td>-0.880825</td>\n",
       "    </tr>\n",
       "    <tr>\n",
       "      <th>1734350908</th>\n",
       "      <td>-0.267769</td>\n",
       "      <td>-0.191842</td>\n",
       "      <td>-0.655194</td>\n",
       "      <td>-0.623617</td>\n",
       "      <td>-0.679471</td>\n",
       "      <td>-0.459428</td>\n",
       "      <td>-0.233066</td>\n",
       "      <td>-0.607806</td>\n",
       "      <td>-0.715372</td>\n",
       "      <td>-0.310166</td>\n",
       "      <td>...</td>\n",
       "      <td>-0.881365</td>\n",
       "      <td>-0.654605</td>\n",
       "      <td>-0.669929</td>\n",
       "      <td>0.113844</td>\n",
       "      <td>-0.316001</td>\n",
       "      <td>-0.682929</td>\n",
       "      <td>-0.505106</td>\n",
       "      <td>-0.881421</td>\n",
       "      <td>-0.881361</td>\n",
       "      <td>-0.882250</td>\n",
       "    </tr>\n",
       "    <tr>\n",
       "      <th>722817260</th>\n",
       "      <td>-0.270642</td>\n",
       "      <td>-0.170228</td>\n",
       "      <td>-0.680244</td>\n",
       "      <td>-0.667571</td>\n",
       "      <td>-0.670850</td>\n",
       "      <td>-0.431723</td>\n",
       "      <td>-0.236943</td>\n",
       "      <td>-0.634743</td>\n",
       "      <td>-0.704928</td>\n",
       "      <td>-0.298078</td>\n",
       "      <td>...</td>\n",
       "      <td>-0.881398</td>\n",
       "      <td>-0.649228</td>\n",
       "      <td>-0.659683</td>\n",
       "      <td>0.132546</td>\n",
       "      <td>-0.317336</td>\n",
       "      <td>-0.627997</td>\n",
       "      <td>-0.503828</td>\n",
       "      <td>-0.882124</td>\n",
       "      <td>-0.881570</td>\n",
       "      <td>-0.881419</td>\n",
       "    </tr>\n",
       "  </tbody>\n",
       "</table>\n",
       "<p>3 rows × 16129 columns</p>\n",
       "</div>"
      ],
      "text/plain": [
       "            FruMARCM-M002262_seg001  FruMARCM-M002262_seg002  \\\n",
       "1734350788                -0.260213                -0.200286   \n",
       "1734350908                -0.267769                -0.191842   \n",
       "722817260                 -0.270642                -0.170228   \n",
       "\n",
       "            FruMARCM-M002278_seg001  FruMARCM-M002287_seg001  \\\n",
       "1734350788                -0.645926                -0.639277   \n",
       "1734350908                -0.655194                -0.623617   \n",
       "722817260                 -0.680244                -0.667571   \n",
       "\n",
       "            FruMARCM-M002507_seg001  FruMARCM-M002522_seg001  \\\n",
       "1734350788                -0.663507                -0.451059   \n",
       "1734350908                -0.679471                -0.459428   \n",
       "722817260                 -0.670850                -0.431723   \n",
       "\n",
       "            FruMARCM-M002578_seg001  FruMARCM-M002578_seg002  \\\n",
       "1734350788                -0.229996                -0.604237   \n",
       "1734350908                -0.233066                -0.607806   \n",
       "722817260                 -0.236943                -0.634743   \n",
       "\n",
       "            FruMARCM-M002579_seg001  FruMARCM-M002579_seg002  ...  \\\n",
       "1734350788                -0.705247                -0.307929  ...   \n",
       "1734350908                -0.715372                -0.310166  ...   \n",
       "722817260                 -0.704928                -0.298078  ...   \n",
       "\n",
       "            DvGlutMARCM-F594-X2_seg1  DvGlutMARCM-F594-X2_seg2  \\\n",
       "1734350788                 -0.881092                 -0.648820   \n",
       "1734350908                 -0.881365                 -0.654605   \n",
       "722817260                  -0.881398                 -0.649228   \n",
       "\n",
       "            DvGlutMARCM-F595_seg1  DvGlutMARCM-F596_seg1  \\\n",
       "1734350788              -0.660410               0.118524   \n",
       "1734350908              -0.669929               0.113844   \n",
       "722817260               -0.659683               0.132546   \n",
       "\n",
       "            DvGlutMARCM-F597_seg1  DvGlutMARCM-F598_seg1  \\\n",
       "1734350788              -0.315490              -0.671891   \n",
       "1734350908              -0.316001              -0.682929   \n",
       "722817260               -0.317336              -0.627997   \n",
       "\n",
       "            DvGlutMARCM-F599_seg1  DvGlutMARCM-F599_seg2  \\\n",
       "1734350788              -0.499438              -0.882007   \n",
       "1734350908              -0.505106              -0.881421   \n",
       "722817260               -0.503828              -0.882124   \n",
       "\n",
       "            DvGlutMARCM-F600-X2_seg1  DvGlutMARCM-F600-X2_seg2  \n",
       "1734350788                 -0.882510                 -0.880825  \n",
       "1734350908                 -0.881361                 -0.882250  \n",
       "722817260                  -0.881570                 -0.881419  \n",
       "\n",
       "[3 rows x 16129 columns]"
      ]
     },
     "execution_count": 50,
     "metadata": {},
     "output_type": "execute_result"
    }
   ],
   "source": [
    "scores.head()"
   ]
  },
  {
   "cell_type": "code",
   "execution_count": 39,
   "metadata": {},
   "outputs": [
    {
     "name": "stdout",
     "output_type": "stream",
     "text": [
      "Top hit for 1734350788: FruMARCM-F001496_seg001 (0.778)\n",
      "Top hit for 1734350908: FruMARCM-F001496_seg001 (0.744)\n",
      "Top hit for 722817260: FruMARCM-F001496_seg001 (0.792)\n"
     ]
    }
   ],
   "source": [
    "# Find the top hits for each of our query neurons\n",
    "import numpy as np\n",
    "\n",
    "for dp in n_dps:\n",
    "    hit = scores.columns[np.argmax(scores.loc[dp.id].values)]\n",
    "    sc = scores.loc[dp.id].values.max()\n",
    "    print(f'Top hit for {dp.id}: {hit} ({sc:.3f})')    "
   ]
  },
  {
   "cell_type": "raw",
   "metadata": {
    "raw_mimetype": "text/restructuredtext",
    "tags": []
   },
   "source": [
    "Conveniently all of our query neurons have the same top match (they are all from the same cell type after all): ``FruMARCM-F001496_seg001``"
   ]
  },
  {
   "cell_type": "code",
   "execution_count": 51,
   "metadata": {
    "raw_mimetype": "text/restructuredtext",
    "tags": []
   },
   "outputs": [
    {
     "data": {
      "application/vnd.jupyter.widget-view+json": {
       "model_id": "",
       "version_major": 2,
       "version_minor": 0
      },
      "text/plain": [
       "Plot neurons:   0%|          | 0/4 [00:00<?, ?it/s]"
      ]
     },
     "metadata": {},
     "output_type": "display_data"
    },
    {
     "data": {
      "image/png": "[encoded data removed]",
      "text/plain": [
       "<Figure size 432x432 with 1 Axes>"
      ]
     },
     "metadata": {
      "needs_background": "light"
     },
     "output_type": "display_data"
    }
   ],
   "source": [
    "# Let's co-visualize:\n",
    "# Queries in red, hit in black\n",
    "fig, ax = navis.plot2d([n_fcwb_mirr, fc_dps.idx['FruMARCM-F001496_seg001']],\n",
    "                       color=['r'] * len(n_fcwb_mirr) + ['k'])\n",
    "ax.elev = -90"
   ]
  },
  {
   "cell_type": "raw",
   "metadata": {},
   "source": [
    "Looking good!"
   ]
  }
 ],
 "metadata": {
  "kernelspec": {
   "display_name": "Python 3",
   "language": "python",
   "name": "python3"
  },
  "language_info": {
   "codemirror_mode": {
    "name": "ipython",
    "version": 3
   },
   "file_extension": ".py",
   "mimetype": "text/x-python",
   "name": "python",
   "nbconvert_exporter": "python",
   "pygments_lexer": "ipython3",
   "version": "3.7.5"
  },
  "widgets": {
   "application/vnd.jupyter.widget-state+json": {
    "state": {
     "000efd80185742a494ba422b9bf3094a": {
      "model_module": "@jupyter-widgets/controls",
      "model_module_version": "1.5.0",
      "model_name": "HTMLModel",
      "state": {
       "layout": "IPY_MODEL_05be2e57915d4476b2e7c283a74a5880",
       "style": "IPY_MODEL_cbe88e12de52458381d3ca9827e041c1",
       "value": "Blasting: 100%"
      }
     },
     "00a0e8d70b074f5ab0acc3b009743808": {
      "model_module": "@jupyter-widgets/controls",
      "model_module_version": "1.5.0",
      "model_name": "ProgressStyleModel",
      "state": {
       "description_width": ""
      }
     },
     "00e905a3d58d459c9357db3ce2d0ca11": {
      "model_module": "@jupyter-widgets/controls",
      "model_module_version": "1.5.0",
      "model_name": "HTMLModel",
      "state": {
       "layout": "IPY_MODEL_87a882ce6ca741d28026f811f8dafd2b",
       "style": "IPY_MODEL_8c229423fb984c8283d5d8163608c3dc",
       "value": " 3/3 [00:00&lt;00:00, 26.18it/s]"
      }
     },
     "01b0e5edb8974a5a9ef4a9fe1dc5ac68": {
      "model_module": "@jupyter-widgets/base",
      "model_module_version": "1.2.0",
      "model_name": "LayoutModel",
      "state": {}
     },
     "01eff95023434a4c86e2a093347de7a5": {
      "model_module": "@jupyter-widgets/controls",
      "model_module_version": "1.5.0",
      "model_name": "DescriptionStyleModel",
      "state": {
       "description_width": ""
      }
     },
     "039f950380b142748054a71b4c0e119f": {
      "model_module": "@jupyter-widgets/controls",
      "model_module_version": "1.5.0",
      "model_name": "HTMLModel",
      "state": {
       "layout": "IPY_MODEL_4555ef5eeb4241d8b2df7a582e05598d",
       "style": "IPY_MODEL_68656f458b7b43f7972bd5f9f50f4b9d",
       "value": "Plot neurons: 100%"
      }
     },
     "03bd03ec7fcc4f2595c4764cc472ebee": {
      "model_module": "@jupyter-widgets/controls",
      "model_module_version": "1.5.0",
      "model_name": "HTMLModel",
      "state": {
       "layout": "IPY_MODEL_80b2ba9d8d7f4c3088b639eed0f2c47a",
       "style": "IPY_MODEL_89ecc9f089eb4dc98fe33b203557de74",
       "value": "Blasting pairs:  96%"
      }
     },
     "041e7723e9b94d4aaf5d4fb836e7655f": {
      "model_module": "@jupyter-widgets/controls",
      "model_module_version": "1.5.0",
      "model_name": "HTMLModel",
      "state": {
       "layout": "IPY_MODEL_a5f2fadc89ee4a2eb3f04c322f31b4d9",
       "style": "IPY_MODEL_92ab974cda394780bf5817cd03d49422",
       "value": "Blasting: 100%"
      }
     },
     "043b72b34bb9456b9d2b23fa1abec00c": {
      "model_module": "@jupyter-widgets/controls",
      "model_module_version": "1.5.0",
      "model_name": "DescriptionStyleModel",
      "state": {
       "description_width": ""
      }
     },
     "0470c0d5d4d244a79008953bd6df3dbe": {
      "model_module": "@jupyter-widgets/controls",
      "model_module_version": "1.5.0",
      "model_name": "HTMLModel",
      "state": {
       "layout": "IPY_MODEL_4f8b6d15157f45bea66831b896181ed2",
       "style": "IPY_MODEL_d83a0069e0d64c10b283c95e2cd6f197",
       "value": "Plot neurons: 100%"
      }
     },
     "04bd282019074998a428236452379ac7": {
      "model_module": "@jupyter-widgets/controls",
      "model_module_version": "1.5.0",
      "model_name": "HTMLModel",
      "state": {
       "layout": "IPY_MODEL_303dec3915a7422b83502f28f82c853a",
       "style": "IPY_MODEL_a5dba27bf96a42b9a0c74b64e26da290",
       "value": " 3/3 [00:17&lt;00:00,  5.93s/it]"
      }
     },
     "050c4e8d38844b7896b1c3b7fe4c69ce": {
      "model_module": "@jupyter-widgets/controls",
      "model_module_version": "1.5.0",
      "model_name": "FloatProgressModel",
      "state": {
       "layout": "IPY_MODEL_7387af58755449cbab0c4979a42e2380",
       "max": 16129,
       "style": "IPY_MODEL_efb2d823b4db48fda7dcd261a3c791aa",
       "value": 16129
      }
     },
     "05be2e57915d4476b2e7c283a74a5880": {
      "model_module": "@jupyter-widgets/base",
      "model_module_version": "1.2.0",
      "model_name": "LayoutModel",
      "state": {}
     },
     "06f934415901459e9a18be23362e3653": {
      "model_module": "@jupyter-widgets/controls",
      "model_module_version": "1.5.0",
      "model_name": "HTMLModel",
      "state": {
       "layout": "IPY_MODEL_a5b0f62fda364f3aa08540ffd8a1b913",
       "style": "IPY_MODEL_08ae92dea0ff4c339b6df979745293c7",
       "value": "Dotprops:   0%"
      }
     },
     "06fe27418e614cfdb3d67c516fc72289": {
      "model_module": "@jupyter-widgets/controls",
      "model_module_version": "1.5.0",
      "model_name": "DescriptionStyleModel",
      "state": {
       "description_width": ""
      }
     },
     "08ae92dea0ff4c339b6df979745293c7": {
      "model_module": "@jupyter-widgets/controls",
      "model_module_version": "1.5.0",
      "model_name": "DescriptionStyleModel",
      "state": {
       "description_width": ""
      }
     },
     "08dcbb4be41748b0bb7924613979f956": {
      "model_module": "@jupyter-widgets/base",
      "model_module_version": "1.2.0",
      "model_name": "LayoutModel",
      "state": {}
     },
     "0914d36e361641349700fbc9ee6c3e25": {
      "model_module": "@jupyter-widgets/base",
      "model_module_version": "1.2.0",
      "model_name": "LayoutModel",
      "state": {}
     },
     "093a70e6992b414496efaeea096f4ea0": {
      "model_module": "@jupyter-widgets/base",
      "model_module_version": "1.2.0",
      "model_name": "LayoutModel",
      "state": {}
     },
     "09f143fe95ac4b32acb8ae9413122df4": {
      "model_module": "@jupyter-widgets/controls",
      "model_module_version": "1.5.0",
      "model_name": "DescriptionStyleModel",
      "state": {
       "description_width": ""
      }
     },
     "0a2abd30b5424156b45053ac56593d92": {
      "model_module": "@jupyter-widgets/controls",
      "model_module_version": "1.5.0",
      "model_name": "DescriptionStyleModel",
      "state": {
       "description_width": ""
      }
     },
     "0ad557cf10ff4dd3b664f9505fab8aa9": {
      "model_module": "@jupyter-widgets/controls",
      "model_module_version": "1.5.0",
      "model_name": "HTMLModel",
      "state": {
       "layout": "IPY_MODEL_e76e84e8d9f94362b0dae8ded546185e",
       "style": "IPY_MODEL_3dc472db584d482dbd5095d9e0cdd6bf",
       "value": " 0/16129 [00:00&lt;?, ?it/s]"
      }
     },
     "0b9c72ff098248f9ad3ef6742257721a": {
      "model_module": "@jupyter-widgets/base",
      "model_module_version": "1.2.0",
      "model_name": "LayoutModel",
      "state": {}
     },
     "0bc3c849283b419eb5633a66176d269a": {
      "model_module": "@jupyter-widgets/base",
      "model_module_version": "1.2.0",
      "model_name": "LayoutModel",
      "state": {}
     },
     "0c4fc1eb786f470fbb481f25ee1a99a2": {
      "model_module": "@jupyter-widgets/base",
      "model_module_version": "1.2.0",
      "model_name": "LayoutModel",
      "state": {}
     },
     "0c683c95c12c49a48bc5f623a8dd2851": {
      "model_module": "@jupyter-widgets/base",
      "model_module_version": "1.2.0",
      "model_name": "LayoutModel",
      "state": {}
     },
     "0c840465139b4e52aa605c422c3984f9": {
      "model_module": "@jupyter-widgets/controls",
      "model_module_version": "1.5.0",
      "model_name": "FloatProgressModel",
      "state": {
       "layout": "IPY_MODEL_ba855d0c6ba6441b8b1d7f2efa91a0b1",
       "max": 4,
       "style": "IPY_MODEL_c4d1a470bbf548a6843ed399b27974b8",
       "value": 4
      }
     },
     "0d1a43705c654a3c9b9340a8debbb651": {
      "model_module": "@jupyter-widgets/base",
      "model_module_version": "1.2.0",
      "model_name": "LayoutModel",
      "state": {}
     },
     "0d440f6be4de427a8d8961b5092e672b": {
      "model_module": "@jupyter-widgets/base",
      "model_module_version": "1.2.0",
      "model_name": "LayoutModel",
      "state": {}
     },
     "0db07ebdb9794c5b825ed6e8fccb1b64": {
      "model_module": "@jupyter-widgets/base",
      "model_module_version": "1.2.0",
      "model_name": "LayoutModel",
      "state": {}
     },
     "0dbe7d8204fd4026aa4186b42aab34d1": {
      "model_module": "@jupyter-widgets/base",
      "model_module_version": "1.2.0",
      "model_name": "LayoutModel",
      "state": {}
     },
     "0de19c265c9b4b2fa400a552deaef7eb": {
      "model_module": "@jupyter-widgets/base",
      "model_module_version": "1.2.0",
      "model_name": "LayoutModel",
      "state": {}
     },
     "0de9ce2b6c864b1c83f39ed1ff0b2d9f": {
      "model_module": "@jupyter-widgets/controls",
      "model_module_version": "1.5.0",
      "model_name": "HTMLModel",
      "state": {
       "layout": "IPY_MODEL_87a17483fce3402892306b68e7e06676",
       "style": "IPY_MODEL_34f85ec2b1e34d88b0e8bd47a1a8d18d",
       "value": "Blasting: 100%"
      }
     },
     "0e8eb4eec79349b5a2ea454e8547c661": {
      "model_module": "@jupyter-widgets/base",
      "model_module_version": "1.2.0",
      "model_name": "LayoutModel",
      "state": {}
     },
     "0eacb87ec6c24071803ddfffa61b6c88": {
      "model_module": "@jupyter-widgets/controls",
      "model_module_version": "1.5.0",
      "model_name": "HTMLModel",
      "state": {
       "layout": "IPY_MODEL_2e5a2685e503432a81f7a396c043fd3c",
       "style": "IPY_MODEL_8e7d9858f45b4c51987d38d3fed54185",
       "value": " 0/16129 [00:00&lt;?, ?it/s]"
      }
     },
     "0ebd501bc67940488d6cd52faf1c4871": {
      "model_module": "@jupyter-widgets/base",
      "model_module_version": "1.2.0",
      "model_name": "LayoutModel",
      "state": {}
     },
     "0eef1f72e46b44e2b7aa5fb87764b7ef": {
      "model_module": "@jupyter-widgets/controls",
      "model_module_version": "1.5.0",
      "model_name": "HTMLModel",
      "state": {
       "layout": "IPY_MODEL_a14d31d1704f487c849da49c8be61c58",
       "style": "IPY_MODEL_1ca24ff7d4c949d58dd174794698c0bd",
       "value": " 3/3 [00:17&lt;00:00,  5.69s/it]"
      }
     },
     "0f165a8ef6e644f291ddf96114e54acd": {
      "model_module": "@jupyter-widgets/controls",
      "model_module_version": "1.5.0",
      "model_name": "HTMLModel",
      "state": {
       "layout": "IPY_MODEL_be9f6a84dd464bb7bc33788b7336c6b7",
       "style": "IPY_MODEL_9abf2011ded7459496d4913166bdca10",
       "value": "downsample: 100%"
      }
     },
     "0f683d4804e54508a8bfd4c74db6fe20": {
      "model_module": "@jupyter-widgets/controls",
      "model_module_version": "1.5.0",
      "model_name": "FloatProgressModel",
      "state": {
       "layout": "IPY_MODEL_acf99d33511e46b0a3ff8aa83b7845d6",
       "max": 796,
       "style": "IPY_MODEL_9b5425667efb45f897d6756d99b91544",
       "value": 796
      }
     },
     "0f8db52c6e8e4ef2b1b7073cf93e51fc": {
      "model_module": "@jupyter-widgets/base",
      "model_module_version": "1.2.0",
      "model_name": "LayoutModel",
      "state": {}
     },
     "0fd886ae64834ff88e4bc040e6566673": {
      "model_module": "@jupyter-widgets/controls",
      "model_module_version": "1.5.0",
      "model_name": "HTMLModel",
      "state": {
       "layout": "IPY_MODEL_2292e6654bfa486597f2763b409b2661",
       "style": "IPY_MODEL_d81c99acc3794aca91349aebb448e194",
       "value": "Blasting pairs:  98%"
      }
     },
     "111762c40c9d4133bc8207eca548192b": {
      "model_module": "@jupyter-widgets/base",
      "model_module_version": "1.2.0",
      "model_name": "LayoutModel",
      "state": {}
     },
     "11e0b61431f44fbb83fd96a6494b2ee3": {
      "model_module": "@jupyter-widgets/controls",
      "model_module_version": "1.5.0",
      "model_name": "FloatProgressModel",
      "state": {
       "layout": "IPY_MODEL_6bec69b4eb2349f880a1e04fd438e65e",
       "max": 3,
       "style": "IPY_MODEL_b189cf1ab05442dcb8caa57ed4db2a56",
       "value": 3
      }
     },
     "121f09b8c536428eb108fb1ce537019b": {
      "model_module": "@jupyter-widgets/controls",
      "model_module_version": "1.5.0",
      "model_name": "ProgressStyleModel",
      "state": {
       "description_width": ""
      }
     },
     "1253fb94924d4aec875dfbc4bd02e6f0": {
      "model_module": "@jupyter-widgets/base",
      "model_module_version": "1.2.0",
      "model_name": "LayoutModel",
      "state": {}
     },
     "137d733192b349d8ab14c76a45ef01b6": {
      "model_module": "@jupyter-widgets/base",
      "model_module_version": "1.2.0",
      "model_name": "LayoutModel",
      "state": {}
     },
     "1407c99b84a04d0792e0acc7da84ca6f": {
      "model_module": "@jupyter-widgets/controls",
      "model_module_version": "1.5.0",
      "model_name": "FloatProgressModel",
      "state": {
       "layout": "IPY_MODEL_56378b16de0c436eb33d34fd887198eb",
       "max": 828,
       "style": "IPY_MODEL_121f09b8c536428eb108fb1ce537019b",
       "value": 828
      }
     },
     "144770aa3a2848aea0c3027cd491dbfd": {
      "model_module": "@jupyter-widgets/base",
      "model_module_version": "1.2.0",
      "model_name": "LayoutModel",
      "state": {}
     },
     "1494849954aa4539983ccff16618144d": {
      "model_module": "@jupyter-widgets/base",
      "model_module_version": "1.2.0",
      "model_name": "LayoutModel",
      "state": {}
     },
     "149afc2be32d493189ab127320f1980a": {
      "model_module": "@jupyter-widgets/base",
      "model_module_version": "1.2.0",
      "model_name": "LayoutModel",
      "state": {}
     },
     "149ea54eff4346a7b1e7bf3ce479a191": {
      "model_module": "@jupyter-widgets/controls",
      "model_module_version": "1.5.0",
      "model_name": "DescriptionStyleModel",
      "state": {
       "description_width": ""
      }
     },
     "14e2462e939f46ea892d359d4b92ceca": {
      "model_module": "@jupyter-widgets/base",
      "model_module_version": "1.2.0",
      "model_name": "LayoutModel",
      "state": {}
     },
     "1555355b38c54932b0245bd989900c6f": {
      "model_module": "@jupyter-widgets/controls",
      "model_module_version": "1.5.0",
      "model_name": "DescriptionStyleModel",
      "state": {
       "description_width": ""
      }
     },
     "155819fc1e6243daaf5d00f616dea1cb": {
      "model_module": "@jupyter-widgets/base",
      "model_module_version": "1.2.0",
      "model_name": "LayoutModel",
      "state": {}
     },
     "15c1ef6a0b874a1a8679a2e6b99fdf55": {
      "model_module": "@jupyter-widgets/controls",
      "model_module_version": "1.5.0",
      "model_name": "HTMLModel",
      "state": {
       "layout": "IPY_MODEL_dd4d5bf61d3846a5a4f8f5a5b33a81c6",
       "style": "IPY_MODEL_ff6523f6ef1f439b93aa005f13615bc7",
       "value": "Blasting pairs:  99%"
      }
     },
     "15cc42aa478e46bf8b07b02d648ad033": {
      "model_module": "@jupyter-widgets/controls",
      "model_module_version": "1.5.0",
      "model_name": "HTMLModel",
      "state": {
       "layout": "IPY_MODEL_fd320ab6ceec4e46a6a9dec8f1bbccf0",
       "style": "IPY_MODEL_6a9fbedef2864d868ccbda6065cd89f7",
       "value": " 3/3 [00:20&lt;00:00,  6.86s/it]"
      }
     },
     "15f720bbe9414cd59cf4fce7a05d5533": {
      "model_module": "@jupyter-widgets/controls",
      "model_module_version": "1.5.0",
      "model_name": "HTMLModel",
      "state": {
       "layout": "IPY_MODEL_32b9dca0625e46c59c594fd121551517",
       "style": "IPY_MODEL_87e6e27b7b024c62ae8fbf8f45e5a05a",
       "value": " 16065/16129 [00:02&lt;00:00, 8280.84it/s]"
      }
     },
     "160f72205ecf45af817fed010f030181": {
      "model_module": "@jupyter-widgets/controls",
      "model_module_version": "1.5.0",
      "model_name": "DescriptionStyleModel",
      "state": {
       "description_width": ""
      }
     },
     "162e931d7ce8454bbf5af00515ebfed4": {
      "model_module": "@jupyter-widgets/base",
      "model_module_version": "1.2.0",
      "model_name": "LayoutModel",
      "state": {}
     },
     "163180d647d949cc948a13b16cd6f472": {
      "model_module": "@jupyter-widgets/base",
      "model_module_version": "1.2.0",
      "model_name": "LayoutModel",
      "state": {}
     },
     "1687d615ed9945048ab4c9c691988c83": {
      "model_module": "@jupyter-widgets/controls",
      "model_module_version": "1.5.0",
      "model_name": "DescriptionStyleModel",
      "state": {
       "description_width": ""
      }
     },
     "168a98320e954598a01a4f4bc073f98c": {
      "model_module": "@jupyter-widgets/controls",
      "model_module_version": "1.5.0",
      "model_name": "ProgressStyleModel",
      "state": {
       "description_width": ""
      }
     },
     "16bd58169fef441fb59b641d1815179d": {
      "model_module": "@jupyter-widgets/controls",
      "model_module_version": "1.5.0",
      "model_name": "FloatProgressModel",
      "state": {
       "layout": "IPY_MODEL_bb56449b651347d3ac0d844ac6501ec9",
       "max": 3,
       "style": "IPY_MODEL_1aee4dd05e8b46a7b21f4fb1e4614806",
       "value": 3
      }
     },
     "16fb2465405a4dacb011dff534aae9dd": {
      "model_module": "@jupyter-widgets/controls",
      "model_module_version": "1.5.0",
      "model_name": "FloatProgressModel",
      "state": {
       "layout": "IPY_MODEL_a5032936e3f74ef0b556180d9d4444f2",
       "max": 16129,
       "style": "IPY_MODEL_861f82b3c6b74d26bf4a0acb453b720c",
       "value": 16129
      }
     },
     "1777d19ab0894dfebef11485a3eb19c9": {
      "model_module": "@jupyter-widgets/controls",
      "model_module_version": "1.5.0",
      "model_name": "FloatProgressModel",
      "state": {
       "layout": "IPY_MODEL_812d1f86ab4e43d4ab59069b3f16a3e6",
       "max": 3,
       "style": "IPY_MODEL_9e2332414d1641088959f1f1f9fefed5",
       "value": 3
      }
     },
     "17f49368001842af8a595d16b392beb4": {
      "model_module": "@jupyter-widgets/controls",
      "model_module_version": "1.5.0",
      "model_name": "DescriptionStyleModel",
      "state": {
       "description_width": ""
      }
     },
     "1827210585464192bb5dd63c25d92859": {
      "model_module": "@jupyter-widgets/controls",
      "model_module_version": "1.5.0",
      "model_name": "HTMLModel",
      "state": {
       "layout": "IPY_MODEL_14e2462e939f46ea892d359d4b92ceca",
       "style": "IPY_MODEL_01eff95023434a4c86e2a093347de7a5",
       "value": "Dotprops:   0%"
      }
     },
     "184d6587a8ef43dbb816d6359902c0ac": {
      "model_module": "@jupyter-widgets/controls",
      "model_module_version": "1.5.0",
      "model_name": "HTMLModel",
      "state": {
       "layout": "IPY_MODEL_c112f87f212c4e849b46036a4d05fb91",
       "style": "IPY_MODEL_515415c09eef4ceab6325ceac5fbdefe",
       "value": "Dotprops: 100%"
      }
     },
     "18b7a27fcb7943aba71ee014453c7274": {
      "model_module": "@jupyter-widgets/controls",
      "model_module_version": "1.5.0",
      "model_name": "HTMLModel",
      "state": {
       "layout": "IPY_MODEL_5aa138be9673407a84c33d43ada205c8",
       "style": "IPY_MODEL_47985b7dad754b50ba772b9bbbfa4782",
       "value": " 820/830 [00:01&lt;00:00, 457.66it/s]"
      }
     },
     "1965115e4a2f40879ce96d11537559ac": {
      "model_module": "@jupyter-widgets/base",
      "model_module_version": "1.2.0",
      "model_name": "LayoutModel",
      "state": {}
     },
     "196fc3bb889348f693321137e54178c5": {
      "model_module": "@jupyter-widgets/controls",
      "model_module_version": "1.5.0",
      "model_name": "HTMLModel",
      "state": {
       "layout": "IPY_MODEL_4d02968fdd3f42fc91fe1a122f8006d7",
       "style": "IPY_MODEL_8417fa0077ab4a77b4b01e3bff1253ff",
       "value": "Dotprops:   0%"
      }
     },
     "1a382a656d6c4e3c8c07088b18974c4c": {
      "model_module": "@jupyter-widgets/controls",
      "model_module_version": "1.5.0",
      "model_name": "ProgressStyleModel",
      "state": {
       "description_width": ""
      }
     },
     "1aee4dd05e8b46a7b21f4fb1e4614806": {
      "model_module": "@jupyter-widgets/controls",
      "model_module_version": "1.5.0",
      "model_name": "ProgressStyleModel",
      "state": {
       "description_width": ""
      }
     },
     "1b62d48852514e49b7a5a81a842de849": {
      "model_module": "@jupyter-widgets/base",
      "model_module_version": "1.2.0",
      "model_name": "LayoutModel",
      "state": {}
     },
     "1b66cf0a4c9e4611a573e9206f625d37": {
      "model_module": "@jupyter-widgets/controls",
      "model_module_version": "1.5.0",
      "model_name": "HTMLModel",
      "state": {
       "layout": "IPY_MODEL_3467a2c95b55484faf3068d6136d257d",
       "style": "IPY_MODEL_3a6f482e4259422697860f8ba554f633",
       "value": "Blasting pairs:  93%"
      }
     },
     "1ba8c35535934abea4c28a31183ef033": {
      "model_module": "@jupyter-widgets/controls",
      "model_module_version": "1.5.0",
      "model_name": "FloatProgressModel",
      "state": {
       "layout": "IPY_MODEL_2c7fcedbe1cb437c9ebf3d90bf468683",
       "max": 3,
       "style": "IPY_MODEL_c701172e68bf4d65be5097deee2d24ad",
       "value": 3
      }
     },
     "1c331df83c5546c28f7a1bb68a830c1d": {
      "model_module": "@jupyter-widgets/controls",
      "model_module_version": "1.5.0",
      "model_name": "DescriptionStyleModel",
      "state": {
       "description_width": ""
      }
     },
     "1c8c6089c8ec4ebc86420dbbf90131f6": {
      "model_module": "@jupyter-widgets/controls",
      "model_module_version": "1.5.0",
      "model_name": "DescriptionStyleModel",
      "state": {
       "description_width": ""
      }
     },
     "1ca24ff7d4c949d58dd174794698c0bd": {
      "model_module": "@jupyter-widgets/controls",
      "model_module_version": "1.5.0",
      "model_name": "DescriptionStyleModel",
      "state": {
       "description_width": ""
      }
     },
     "1ca3b5b4b0aa437f95725bde8295a63b": {
      "model_module": "@jupyter-widgets/controls",
      "model_module_version": "1.5.0",
      "model_name": "DescriptionStyleModel",
      "state": {
       "description_width": ""
      }
     },
     "1d753ec8b0594a8a8d6d8de1ba13b1a4": {
      "model_module": "@jupyter-widgets/base",
      "model_module_version": "1.2.0",
      "model_name": "LayoutModel",
      "state": {}
     },
     "1dd8e95c231a4f85ae74dada7793f44d": {
      "model_module": "@jupyter-widgets/base",
      "model_module_version": "1.2.0",
      "model_name": "LayoutModel",
      "state": {}
     },
     "1e76dff3aea64af69c1d15c01262f335": {
      "model_module": "@jupyter-widgets/controls",
      "model_module_version": "1.5.0",
      "model_name": "HTMLModel",
      "state": {
       "layout": "IPY_MODEL_95e5473c48b34a5f97d64ffa1d595c7d",
       "style": "IPY_MODEL_7c78637efad141d4b2f5a6d141b9d71d",
       "value": " 3/3 [00:01&lt;00:00,  1.88it/s]"
      }
     },
     "1ea3f98496ef4908b237a9f4a2efba5d": {
      "model_module": "@jupyter-widgets/controls",
      "model_module_version": "1.5.0",
      "model_name": "HTMLModel",
      "state": {
       "layout": "IPY_MODEL_bbabb47560524f1b83d180e4b13210d2",
       "style": "IPY_MODEL_7952f88b48914cab990052bade3cba05",
       "value": "Blasting: 100%"
      }
     },
     "1f03539dda7e40688db91905a6513293": {
      "model_module": "@jupyter-widgets/controls",
      "model_module_version": "1.5.0",
      "model_name": "HTMLModel",
      "state": {
       "layout": "IPY_MODEL_8167f879c1f6411db34b9ee8fa5727a0",
       "style": "IPY_MODEL_043b72b34bb9456b9d2b23fa1abec00c",
       "value": " 3/3 [00:01&lt;00:00,  2.12it/s]"
      }
     },
     "1f08221c84484ac6abc784cca20a6ad3": {
      "model_module": "@jupyter-widgets/base",
      "model_module_version": "1.2.0",
      "model_name": "LayoutModel",
      "state": {}
     },
     "1f211afdff9645d7b96a686debc1f5e1": {
      "model_module": "@jupyter-widgets/base",
      "model_module_version": "1.2.0",
      "model_name": "LayoutModel",
      "state": {}
     },
     "1f29e4669ffb4006a4d116e86ec9c670": {
      "model_module": "@jupyter-widgets/controls",
      "model_module_version": "1.5.0",
      "model_name": "ProgressStyleModel",
      "state": {
       "description_width": ""
      }
     },
     "1f3c8fd6d0114ad5babe498b31352d71": {
      "model_module": "@jupyter-widgets/controls",
      "model_module_version": "1.5.0",
      "model_name": "DescriptionStyleModel",
      "state": {
       "description_width": ""
      }
     },
     "1f4673be006344b19fc5cb2f00a68e4b": {
      "model_module": "@jupyter-widgets/base",
      "model_module_version": "1.2.0",
      "model_name": "LayoutModel",
      "state": {}
     },
     "1fe02fafa3c14611a688662cc0c39305": {
      "model_module": "@jupyter-widgets/base",
      "model_module_version": "1.2.0",
      "model_name": "LayoutModel",
      "state": {}
     },
     "200a13bcbb194f71b9dbe11b258f49a8": {
      "model_module": "@jupyter-widgets/base",
      "model_module_version": "1.2.0",
      "model_name": "LayoutModel",
      "state": {}
     },
     "20652635b1f9497090cc26967558f0a3": {
      "model_module": "@jupyter-widgets/base",
      "model_module_version": "1.2.0",
      "model_name": "LayoutModel",
      "state": {}
     },
     "2120b570e3b342368fd03b4fab4ca3da": {
      "model_module": "@jupyter-widgets/base",
      "model_module_version": "1.2.0",
      "model_name": "LayoutModel",
      "state": {}
     },
     "21f8fd557c344f0a958ddf30558db0db": {
      "model_module": "@jupyter-widgets/controls",
      "model_module_version": "1.5.0",
      "model_name": "DescriptionStyleModel",
      "state": {
       "description_width": ""
      }
     },
     "2292e6654bfa486597f2763b409b2661": {
      "model_module": "@jupyter-widgets/base",
      "model_module_version": "1.2.0",
      "model_name": "LayoutModel",
      "state": {}
     },
     "23143a3929cc4e0493afd537eafaf055": {
      "model_module": "@jupyter-widgets/controls",
      "model_module_version": "1.5.0",
      "model_name": "DescriptionStyleModel",
      "state": {
       "description_width": ""
      }
     },
     "2436c5a268e148389b164d35e3510c30": {
      "model_module": "@jupyter-widgets/base",
      "model_module_version": "1.2.0",
      "model_name": "LayoutModel",
      "state": {}
     },
     "247336f14c864a518c17186033f152ed": {
      "model_module": "@jupyter-widgets/base",
      "model_module_version": "1.2.0",
      "model_name": "LayoutModel",
      "state": {}
     },
     "25564a63ed46475e9f4aef5a9735f7ee": {
      "model_module": "@jupyter-widgets/base",
      "model_module_version": "1.2.0",
      "model_name": "LayoutModel",
      "state": {}
     },
     "2571d05c1c2c4f98b36d441a5c4bb7c8": {
      "model_module": "@jupyter-widgets/controls",
      "model_module_version": "1.5.0",
      "model_name": "DescriptionStyleModel",
      "state": {
       "description_width": ""
      }
     },
     "2787932e0c194ef7b8ec5520166a3aba": {
      "model_module": "@jupyter-widgets/base",
      "model_module_version": "1.2.0",
      "model_name": "LayoutModel",
      "state": {}
     },
     "27970d726dfe4709b6d0bb619adc2349": {
      "model_module": "@jupyter-widgets/controls",
      "model_module_version": "1.5.0",
      "model_name": "FloatProgressModel",
      "state": {
       "layout": "IPY_MODEL_137d733192b349d8ab14c76a45ef01b6",
       "max": 562,
       "style": "IPY_MODEL_88effdc6daf147caaf9ec02451873aae",
       "value": 562
      }
     },
     "27a2febcb24545248f0971dc3e3cd2e4": {
      "model_module": "@jupyter-widgets/base",
      "model_module_version": "1.2.0",
      "model_name": "LayoutModel",
      "state": {}
     },
     "2a5c9b2238a64be2ab7f7919823b6d9f": {
      "model_module": "@jupyter-widgets/base",
      "model_module_version": "1.2.0",
      "model_name": "LayoutModel",
      "state": {}
     },
     "2a95a8d9cce441438bcd3a8352d2e30a": {
      "model_module": "@jupyter-widgets/controls",
      "model_module_version": "1.5.0",
      "model_name": "FloatProgressModel",
      "state": {
       "layout": "IPY_MODEL_bce11ad1f54044339695e761550d7cb6",
       "max": 3,
       "style": "IPY_MODEL_df7d76444a834145bebf47531fcd17e2",
       "value": 3
      }
     },
     "2af061c6ba4941b2a4f9f2c9992713cc": {
      "model_module": "@jupyter-widgets/controls",
      "model_module_version": "1.5.0",
      "model_name": "FloatProgressModel",
      "state": {
       "layout": "IPY_MODEL_155819fc1e6243daaf5d00f616dea1cb",
       "max": 3,
       "style": "IPY_MODEL_9369f68bb5534f60aad3520264a311c3",
       "value": 3
      }
     },
     "2afd83883b4b4cc08be2bb06a9a5634b": {
      "model_module": "@jupyter-widgets/controls",
      "model_module_version": "1.5.0",
      "model_name": "HTMLModel",
      "state": {
       "layout": "IPY_MODEL_2436c5a268e148389b164d35e3510c30",
       "style": "IPY_MODEL_2571d05c1c2c4f98b36d441a5c4bb7c8",
       "value": " 3/3 [00:20&lt;00:00,  6.65s/it]"
      }
     },
     "2b0254a8e849472685ff7fe4b1d11837": {
      "model_module": "@jupyter-widgets/controls",
      "model_module_version": "1.5.0",
      "model_name": "ProgressStyleModel",
      "state": {
       "description_width": ""
      }
     },
     "2c4b4382c4d64b25bd7b1383489741c2": {
      "model_module": "@jupyter-widgets/controls",
      "model_module_version": "1.5.0",
      "model_name": "FloatProgressModel",
      "state": {
       "layout": "IPY_MODEL_200a13bcbb194f71b9dbe11b258f49a8",
       "max": 3,
       "style": "IPY_MODEL_4492e2f8ec904f99b2560065c04521a2",
       "value": 3
      }
     },
     "2c7fcedbe1cb437c9ebf3d90bf468683": {
      "model_module": "@jupyter-widgets/base",
      "model_module_version": "1.2.0",
      "model_name": "LayoutModel",
      "state": {}
     },
     "2cd28bea11cb4c6a9b1e919880f44f66": {
      "model_module": "@jupyter-widgets/controls",
      "model_module_version": "1.5.0",
      "model_name": "FloatProgressModel",
      "state": {
       "layout": "IPY_MODEL_a0461e8f86b149dcb93de7f8c03eb849",
       "max": 3,
       "style": "IPY_MODEL_1a382a656d6c4e3c8c07088b18974c4c",
       "value": 3
      }
     },
     "2d298771b0d94b0b97c7f2a4f0a9ce9f": {
      "model_module": "@jupyter-widgets/controls",
      "model_module_version": "1.5.0",
      "model_name": "FloatProgressModel",
      "state": {
       "layout": "IPY_MODEL_1965115e4a2f40879ce96d11537559ac",
       "max": 868,
       "style": "IPY_MODEL_d13750ee12094b7e8e8a28a6ee25615c",
       "value": 868
      }
     },
     "2d62da06fe624ae3bea0a0252a5c0dd9": {
      "model_module": "@jupyter-widgets/controls",
      "model_module_version": "1.5.0",
      "model_name": "ProgressStyleModel",
      "state": {
       "description_width": ""
      }
     },
     "2e597b3d6d364b9c9527ea524e8261b0": {
      "model_module": "@jupyter-widgets/base",
      "model_module_version": "1.2.0",
      "model_name": "LayoutModel",
      "state": {}
     },
     "2e5a2685e503432a81f7a396c043fd3c": {
      "model_module": "@jupyter-widgets/base",
      "model_module_version": "1.2.0",
      "model_name": "LayoutModel",
      "state": {}
     },
     "2f1433395f144d83b329c873d293b24e": {
      "model_module": "@jupyter-widgets/base",
      "model_module_version": "1.2.0",
      "model_name": "LayoutModel",
      "state": {}
     },
     "2ff5b6818091403e8523601283047d39": {
      "model_module": "@jupyter-widgets/controls",
      "model_module_version": "1.5.0",
      "model_name": "FloatProgressModel",
      "state": {
       "layout": "IPY_MODEL_0c4fc1eb786f470fbb481f25ee1a99a2",
       "max": 3,
       "style": "IPY_MODEL_6e70a6f98b1b4548ae82a5d2bb5a4b22",
       "value": 3
      }
     },
     "303dec3915a7422b83502f28f82c853a": {
      "model_module": "@jupyter-widgets/base",
      "model_module_version": "1.2.0",
      "model_name": "LayoutModel",
      "state": {}
     },
     "30bbd550da2742f88c99ccf97f9f1e4f": {
      "model_module": "@jupyter-widgets/controls",
      "model_module_version": "1.5.0",
      "model_name": "FloatProgressModel",
      "state": {
       "layout": "IPY_MODEL_c561830ace31450bb8b2643325ca78e0",
       "max": 3,
       "style": "IPY_MODEL_911a93643d4848beb7e76f497888c021",
       "value": 3
      }
     },
     "321b62999143480a8e88262fefd57412": {
      "model_module": "@jupyter-widgets/base",
      "model_module_version": "1.2.0",
      "model_name": "LayoutModel",
      "state": {}
     },
     "32b9dca0625e46c59c594fd121551517": {
      "model_module": "@jupyter-widgets/base",
      "model_module_version": "1.2.0",
      "model_name": "LayoutModel",
      "state": {}
     },
     "3320f95d043e4dad821c6a77a4c52979": {
      "model_module": "@jupyter-widgets/controls",
      "model_module_version": "1.5.0",
      "model_name": "FloatProgressModel",
      "state": {
       "layout": "IPY_MODEL_cc9305f9847440d3b1a2b19cb8960771",
       "max": 3,
       "style": "IPY_MODEL_3c162d485554465ba73816e48a05d9fa",
       "value": 3
      }
     },
     "3396cdf83c8b465b82047ef1e31ae6c7": {
      "model_module": "@jupyter-widgets/controls",
      "model_module_version": "1.5.0",
      "model_name": "DescriptionStyleModel",
      "state": {
       "description_width": ""
      }
     },
     "339b031f216c4fdc991a15b5f7fc99cc": {
      "model_module": "@jupyter-widgets/base",
      "model_module_version": "1.2.0",
      "model_name": "LayoutModel",
      "state": {}
     },
     "33a4a1ab58634ee7a311d141f468a10b": {
      "model_module": "@jupyter-widgets/controls",
      "model_module_version": "1.5.0",
      "model_name": "DescriptionStyleModel",
      "state": {
       "description_width": ""
      }
     },
     "3467a2c95b55484faf3068d6136d257d": {
      "model_module": "@jupyter-widgets/base",
      "model_module_version": "1.2.0",
      "model_name": "LayoutModel",
      "state": {}
     },
     "34f85ec2b1e34d88b0e8bd47a1a8d18d": {
      "model_module": "@jupyter-widgets/controls",
      "model_module_version": "1.5.0",
      "model_name": "DescriptionStyleModel",
      "state": {
       "description_width": ""
      }
     },
     "35d76d1e970849abb074d8c145e9473c": {
      "model_module": "@jupyter-widgets/controls",
      "model_module_version": "1.5.0",
      "model_name": "DescriptionStyleModel",
      "state": {
       "description_width": ""
      }
     },
     "3645325467234d19b83bda410d45168d": {
      "model_module": "@jupyter-widgets/controls",
      "model_module_version": "1.5.0",
      "model_name": "DescriptionStyleModel",
      "state": {
       "description_width": ""
      }
     },
     "3666e47c29aa4ceb862669280eabc238": {
      "model_module": "@jupyter-widgets/base",
      "model_module_version": "1.2.0",
      "model_name": "LayoutModel",
      "state": {}
     },
     "3740ff6142754a998caffcc4dea42d36": {
      "model_module": "@jupyter-widgets/controls",
      "model_module_version": "1.5.0",
      "model_name": "DescriptionStyleModel",
      "state": {
       "description_width": ""
      }
     },
     "37cf3eac3ff3495cac742654dc15ae12": {
      "model_module": "@jupyter-widgets/controls",
      "model_module_version": "1.5.0",
      "model_name": "ProgressStyleModel",
      "state": {
       "description_width": ""
      }
     },
     "383c696897a14a0c879fc5fcf3bc6aec": {
      "model_module": "@jupyter-widgets/base",
      "model_module_version": "1.2.0",
      "model_name": "LayoutModel",
      "state": {}
     },
     "38563d38e10b4103b44b9826a499d1bf": {
      "model_module": "@jupyter-widgets/base",
      "model_module_version": "1.2.0",
      "model_name": "LayoutModel",
      "state": {}
     },
     "38b3788090b347f383c0f8d81be54fb1": {
      "model_module": "@jupyter-widgets/controls",
      "model_module_version": "1.5.0",
      "model_name": "ProgressStyleModel",
      "state": {
       "description_width": ""
      }
     },
     "38bb328b21b34f269b301df3002049d1": {
      "model_module": "@jupyter-widgets/controls",
      "model_module_version": "1.5.0",
      "model_name": "HTMLModel",
      "state": {
       "layout": "IPY_MODEL_f13b94532d1444a8ae5ff5cc264f6878",
       "style": "IPY_MODEL_160f72205ecf45af817fed010f030181",
       "value": "Blasting: 100%"
      }
     },
     "391ee3524bc14785845052803ba15ec9": {
      "model_module": "@jupyter-widgets/controls",
      "model_module_version": "1.5.0",
      "model_name": "HTMLModel",
      "state": {
       "layout": "IPY_MODEL_aba285b6efe74a62b9ed0d7e8b2e0f48",
       "style": "IPY_MODEL_4f04ec946f0149f6be220d45f6924773",
       "value": " 545/562 [00:00&lt;00:00, 748.21it/s]"
      }
     },
     "393c3dd743b3483b92b84afb4a6edd28": {
      "model_module": "@jupyter-widgets/base",
      "model_module_version": "1.2.0",
      "model_name": "LayoutModel",
      "state": {}
     },
     "39bff22cb30d443eaa625ddc347e202f": {
      "model_module": "@jupyter-widgets/controls",
      "model_module_version": "1.5.0",
      "model_name": "HTMLModel",
      "state": {
       "layout": "IPY_MODEL_3ffc50e07cb8488aa391854f42494fd4",
       "style": "IPY_MODEL_06fe27418e614cfdb3d67c516fc72289",
       "value": " 664/711 [00:00&lt;00:00, 806.80it/s]"
      }
     },
     "39dc3089879946fe9826e82103edf18d": {
      "model_module": "@jupyter-widgets/base",
      "model_module_version": "1.2.0",
      "model_name": "LayoutModel",
      "state": {}
     },
     "3a27cc11148f4838b7f3bb22fb840100": {
      "model_module": "@jupyter-widgets/base",
      "model_module_version": "1.2.0",
      "model_name": "LayoutModel",
      "state": {}
     },
     "3a6f482e4259422697860f8ba554f633": {
      "model_module": "@jupyter-widgets/controls",
      "model_module_version": "1.5.0",
      "model_name": "DescriptionStyleModel",
      "state": {
       "description_width": ""
      }
     },
     "3ab07d86354c43309506c2a332d0ba43": {
      "model_module": "@jupyter-widgets/controls",
      "model_module_version": "1.5.0",
      "model_name": "FloatProgressModel",
      "state": {
       "layout": "IPY_MODEL_ff72e353b4ec42298c793efb6164d002",
       "max": 3,
       "style": "IPY_MODEL_2d62da06fe624ae3bea0a0252a5c0dd9",
       "value": 3
      }
     },
     "3abc96d9d7db438fa5b70df750737c6c": {
      "model_module": "@jupyter-widgets/base",
      "model_module_version": "1.2.0",
      "model_name": "LayoutModel",
      "state": {}
     },
     "3af19f4c64014c3d812d5f2ddb0e9bab": {
      "model_module": "@jupyter-widgets/base",
      "model_module_version": "1.2.0",
      "model_name": "LayoutModel",
      "state": {}
     },
     "3c162d485554465ba73816e48a05d9fa": {
      "model_module": "@jupyter-widgets/controls",
      "model_module_version": "1.5.0",
      "model_name": "ProgressStyleModel",
      "state": {
       "description_width": ""
      }
     },
     "3c2c41b307da4421a80af6262777dda1": {
      "model_module": "@jupyter-widgets/controls",
      "model_module_version": "1.5.0",
      "model_name": "ProgressStyleModel",
      "state": {
       "description_width": ""
      }
     },
     "3c769976c1884cc0b2d08d87c9aef9a9": {
      "model_module": "@jupyter-widgets/base",
      "model_module_version": "1.2.0",
      "model_name": "LayoutModel",
      "state": {}
     },
     "3c8985f4aaea41e9a94efd71582200e9": {
      "model_module": "@jupyter-widgets/base",
      "model_module_version": "1.2.0",
      "model_name": "LayoutModel",
      "state": {}
     },
     "3ce83a3d8c53429ca9ca4693f8ff343b": {
      "model_module": "@jupyter-widgets/controls",
      "model_module_version": "1.5.0",
      "model_name": "HTMLModel",
      "state": {
       "layout": "IPY_MODEL_0914d36e361641349700fbc9ee6c3e25",
       "style": "IPY_MODEL_f5a0675e4486482e885411a0ba49f643",
       "value": " 3/3 [00:02&lt;00:00,  1.42it/s]"
      }
     },
     "3dc472db584d482dbd5095d9e0cdd6bf": {
      "model_module": "@jupyter-widgets/controls",
      "model_module_version": "1.5.0",
      "model_name": "DescriptionStyleModel",
      "state": {
       "description_width": ""
      }
     },
     "3ef93f9ad6864bd493fb120784461bfa": {
      "model_module": "@jupyter-widgets/base",
      "model_module_version": "1.2.0",
      "model_name": "LayoutModel",
      "state": {}
     },
     "3f0c570fb63249568943a40c14465669": {
      "model_module": "@jupyter-widgets/controls",
      "model_module_version": "1.5.0",
      "model_name": "HTMLModel",
      "state": {
       "layout": "IPY_MODEL_d2142f9c77fa49318180dcb144de228b",
       "style": "IPY_MODEL_889fb26501984c82a2e6d5f287ba890b",
       "value": " 4/4 [00:00&lt;00:00, 18.49it/s]"
      }
     },
     "3f1b9ec32cfe4bf3a6d30e957963eb14": {
      "model_module": "@jupyter-widgets/controls",
      "model_module_version": "1.5.0",
      "model_name": "DescriptionStyleModel",
      "state": {
       "description_width": ""
      }
     },
     "3f262b2a2c3c478f890c157e6b5c97b7": {
      "model_module": "@jupyter-widgets/controls",
      "model_module_version": "1.5.0",
      "model_name": "HTMLModel",
      "state": {
       "layout": "IPY_MODEL_4225d4c50d4b45768d59c67323b7092f",
       "style": "IPY_MODEL_1ca3b5b4b0aa437f95725bde8295a63b",
       "value": " 3/3 [00:08&lt;00:00,  2.69s/it]"
      }
     },
     "3fd9cd9d8656414c8adf71008c616bf9": {
      "model_module": "@jupyter-widgets/base",
      "model_module_version": "1.2.0",
      "model_name": "LayoutModel",
      "state": {}
     },
     "3ffc50e07cb8488aa391854f42494fd4": {
      "model_module": "@jupyter-widgets/base",
      "model_module_version": "1.2.0",
      "model_name": "LayoutModel",
      "state": {}
     },
     "411f90d5e7134dd0a2ca5f8cb8762488": {
      "model_module": "@jupyter-widgets/controls",
      "model_module_version": "1.5.0",
      "model_name": "FloatProgressModel",
      "state": {
       "layout": "IPY_MODEL_c2e3f5fb754a42b9a89a4232c40ed289",
       "max": 3,
       "style": "IPY_MODEL_168a98320e954598a01a4f4bc073f98c",
       "value": 3
      }
     },
     "4138b9da2ab94aa8b5833bd1c693a935": {
      "model_module": "@jupyter-widgets/controls",
      "model_module_version": "1.5.0",
      "model_name": "HTMLModel",
      "state": {
       "layout": "IPY_MODEL_1494849954aa4539983ccff16618144d",
       "style": "IPY_MODEL_85f8bf0fd4414cdabfe5fde1aca4972e",
       "value": "Blasting pairs:  97%"
      }
     },
     "4225d4c50d4b45768d59c67323b7092f": {
      "model_module": "@jupyter-widgets/base",
      "model_module_version": "1.2.0",
      "model_name": "LayoutModel",
      "state": {}
     },
     "4297171050d64669b9cb468b8fced9af": {
      "model_module": "@jupyter-widgets/controls",
      "model_module_version": "1.5.0",
      "model_name": "HTMLModel",
      "state": {
       "layout": "IPY_MODEL_8ec117c06e79499eb5b9103cc78ba235",
       "style": "IPY_MODEL_453eda882f67452db6efb72f99c5b88c",
       "value": "downsample:   0%"
      }
     },
     "42e9014c39e6457ab8f07f4a425497c6": {
      "model_module": "@jupyter-widgets/base",
      "model_module_version": "1.2.0",
      "model_name": "LayoutModel",
      "state": {}
     },
     "4314100925094ffc83e8ad6d1828c578": {
      "model_module": "@jupyter-widgets/controls",
      "model_module_version": "1.5.0",
      "model_name": "HTMLModel",
      "state": {
       "layout": "IPY_MODEL_3c8985f4aaea41e9a94efd71582200e9",
       "style": "IPY_MODEL_cae736255f834e6cae3c4dead2f58604",
       "value": "Blasting pairs:  97%"
      }
     },
     "43a2d67e4c3d4e4f9843223a6933e093": {
      "model_module": "@jupyter-widgets/controls",
      "model_module_version": "1.5.0",
      "model_name": "ProgressStyleModel",
      "state": {
       "description_width": ""
      }
     },
     "43e11976659345c086c921a6ecaa9feb": {
      "model_module": "@jupyter-widgets/controls",
      "model_module_version": "1.5.0",
      "model_name": "HTMLModel",
      "state": {
       "layout": "IPY_MODEL_093a70e6992b414496efaeea096f4ea0",
       "style": "IPY_MODEL_aa8ac6b16ff44e39a518bfe18cfa58dc",
       "value": " 3/3 [00:01&lt;00:00,  2.52it/s]"
      }
     },
     "43f7f5f4320d4dcbae96743c8177b8df": {
      "model_module": "@jupyter-widgets/base",
      "model_module_version": "1.2.0",
      "model_name": "LayoutModel",
      "state": {}
     },
     "4492e2f8ec904f99b2560065c04521a2": {
      "model_module": "@jupyter-widgets/controls",
      "model_module_version": "1.5.0",
      "model_name": "ProgressStyleModel",
      "state": {
       "description_width": ""
      }
     },
     "44ce71a0b7bf4ba2805c2b90a6a2f01f": {
      "model_module": "@jupyter-widgets/controls",
      "model_module_version": "1.5.0",
      "model_name": "DescriptionStyleModel",
      "state": {
       "description_width": ""
      }
     },
     "453eda882f67452db6efb72f99c5b88c": {
      "model_module": "@jupyter-widgets/controls",
      "model_module_version": "1.5.0",
      "model_name": "DescriptionStyleModel",
      "state": {
       "description_width": ""
      }
     },
     "455511ddbc5e4397accc23b4c84eb33f": {
      "model_module": "@jupyter-widgets/base",
      "model_module_version": "1.2.0",
      "model_name": "LayoutModel",
      "state": {}
     },
     "4555ef5eeb4241d8b2df7a582e05598d": {
      "model_module": "@jupyter-widgets/base",
      "model_module_version": "1.2.0",
      "model_name": "LayoutModel",
      "state": {}
     },
     "460ba04d713f463da8eb6dc18a2cce8b": {
      "model_module": "@jupyter-widgets/controls",
      "model_module_version": "1.5.0",
      "model_name": "HTMLModel",
      "state": {
       "layout": "IPY_MODEL_fe4f8d54b4464ad78426a60c9f837926",
       "style": "IPY_MODEL_75b53926a24e44d0971b8ba8af6d76fe",
       "value": " 3/3 [00:01&lt;00:00,  1.54it/s]"
      }
     },
     "4619565f718d4f889f53cd4780451a25": {
      "model_module": "@jupyter-widgets/controls",
      "model_module_version": "1.5.0",
      "model_name": "HTMLModel",
      "state": {
       "layout": "IPY_MODEL_fc6c632ff501426db8b8471a4bffd6ba",
       "style": "IPY_MODEL_84f3ae278b954b9d9890be7543011728",
       "value": " 0/3 [00:00&lt;?, ?it/s]"
      }
     },
     "475f52a998da47a59a27bd9501ba5976": {
      "model_module": "@jupyter-widgets/controls",
      "model_module_version": "1.5.0",
      "model_name": "HTMLModel",
      "state": {
       "layout": "IPY_MODEL_149afc2be32d493189ab127320f1980a",
       "style": "IPY_MODEL_6e59a077e3dc4b9593663b4ef897f0f1",
       "value": "Blasting: 100%"
      }
     },
     "47985b7dad754b50ba772b9bbbfa4782": {
      "model_module": "@jupyter-widgets/controls",
      "model_module_version": "1.5.0",
      "model_name": "DescriptionStyleModel",
      "state": {
       "description_width": ""
      }
     },
     "47adf8211b5443b5a4d6f1aec7b5083f": {
      "model_module": "@jupyter-widgets/controls",
      "model_module_version": "1.5.0",
      "model_name": "ProgressStyleModel",
      "state": {
       "description_width": ""
      }
     },
     "47b8e6dd8d8e49b1859c51ab2f33f9f7": {
      "model_module": "@jupyter-widgets/controls",
      "model_module_version": "1.5.0",
      "model_name": "FloatProgressModel",
      "state": {
       "layout": "IPY_MODEL_59639af5dcfb44a8bf6bdebaeebae674",
       "max": 16129,
       "style": "IPY_MODEL_a25cf860316c446f8fbd25d5c7e17e5f",
       "value": 16129
      }
     },
     "4856be2bce7e46f8a307c60e83fe1efa": {
      "model_module": "@jupyter-widgets/base",
      "model_module_version": "1.2.0",
      "model_name": "LayoutModel",
      "state": {}
     },
     "48e30ce10e3d4737835f0e946d583e1b": {
      "model_module": "@jupyter-widgets/controls",
      "model_module_version": "1.5.0",
      "model_name": "DescriptionStyleModel",
      "state": {
       "description_width": ""
      }
     },
     "49e8c7f8f81b4b8c94e7343d8742a924": {
      "model_module": "@jupyter-widgets/controls",
      "model_module_version": "1.5.0",
      "model_name": "HTMLModel",
      "state": {
       "layout": "IPY_MODEL_1f4673be006344b19fc5cb2f00a68e4b",
       "style": "IPY_MODEL_9ba309272c8542728535e8d2cc36e4ea",
       "value": "Plot neurons: 100%"
      }
     },
     "4b98d20928f24dc49e6b94a7372dc720": {
      "model_module": "@jupyter-widgets/base",
      "model_module_version": "1.2.0",
      "model_name": "LayoutModel",
      "state": {}
     },
     "4d02968fdd3f42fc91fe1a122f8006d7": {
      "model_module": "@jupyter-widgets/base",
      "model_module_version": "1.2.0",
      "model_name": "LayoutModel",
      "state": {}
     },
     "4d2cfe74f3294880a6deb8a291255879": {
      "model_module": "@jupyter-widgets/controls",
      "model_module_version": "1.5.0",
      "model_name": "ProgressStyleModel",
      "state": {
       "description_width": ""
      }
     },
     "4da60622a4c6440aade33aee9576ca6a": {
      "model_module": "@jupyter-widgets/base",
      "model_module_version": "1.2.0",
      "model_name": "LayoutModel",
      "state": {}
     },
     "4e039e966a124d918cfc09b3ec1a69ff": {
      "model_module": "@jupyter-widgets/controls",
      "model_module_version": "1.5.0",
      "model_name": "DescriptionStyleModel",
      "state": {
       "description_width": ""
      }
     },
     "4e50e3aff5574cd4918425d79cfae282": {
      "model_module": "@jupyter-widgets/controls",
      "model_module_version": "1.5.0",
      "model_name": "HTMLModel",
      "state": {
       "layout": "IPY_MODEL_5ed0e116c677490b90c9dd248067e38c",
       "style": "IPY_MODEL_5d371d06b6dd46139c156b4b92651351",
       "value": " 4/4 [00:00&lt;00:00,  6.41it/s]"
      }
     },
     "4ece5d58c3764271ae11a446152a6a47": {
      "model_module": "@jupyter-widgets/controls",
      "model_module_version": "1.5.0",
      "model_name": "DescriptionStyleModel",
      "state": {
       "description_width": ""
      }
     },
     "4f04ec946f0149f6be220d45f6924773": {
      "model_module": "@jupyter-widgets/controls",
      "model_module_version": "1.5.0",
      "model_name": "DescriptionStyleModel",
      "state": {
       "description_width": ""
      }
     },
     "4f5845a5586d463aad7c26da98422daf": {
      "model_module": "@jupyter-widgets/controls",
      "model_module_version": "1.5.0",
      "model_name": "DescriptionStyleModel",
      "state": {
       "description_width": ""
      }
     },
     "4f8a4caf662142a1a94f4e69e02913c6": {
      "model_module": "@jupyter-widgets/controls",
      "model_module_version": "1.5.0",
      "model_name": "HTMLModel",
      "state": {
       "layout": "IPY_MODEL_e634b0655f8044429dfa4c3223f0e051",
       "style": "IPY_MODEL_77677cc207d5460f8fde3f6e0d3dee0a",
       "value": "Dotprops: 100%"
      }
     },
     "4f8b6d15157f45bea66831b896181ed2": {
      "model_module": "@jupyter-widgets/base",
      "model_module_version": "1.2.0",
      "model_name": "LayoutModel",
      "state": {}
     },
     "4fce774ccf4b429c83bb370839c84084": {
      "model_module": "@jupyter-widgets/controls",
      "model_module_version": "1.5.0",
      "model_name": "HTMLModel",
      "state": {
       "layout": "IPY_MODEL_2787932e0c194ef7b8ec5520166a3aba",
       "style": "IPY_MODEL_617d61fb2c0247cf9d070c3548455303",
       "value": " 3/3 [00:15&lt;00:00,  5.07s/it]"
      }
     },
     "503ad3a5b97c4ea995c4cccb72c8192c": {
      "model_module": "@jupyter-widgets/controls",
      "model_module_version": "1.5.0",
      "model_name": "FloatProgressModel",
      "state": {
       "layout": "IPY_MODEL_0b9c72ff098248f9ad3ef6742257721a",
       "max": 3,
       "style": "IPY_MODEL_43a2d67e4c3d4e4f9843223a6933e093",
       "value": 3
      }
     },
     "503d1ea43808402a982e67a2ab01c09d": {
      "model_module": "@jupyter-widgets/controls",
      "model_module_version": "1.5.0",
      "model_name": "DescriptionStyleModel",
      "state": {
       "description_width": ""
      }
     },
     "5120be0971c548ebb2dd5e27343a8aab": {
      "model_module": "@jupyter-widgets/controls",
      "model_module_version": "1.5.0",
      "model_name": "HTMLModel",
      "state": {
       "layout": "IPY_MODEL_38563d38e10b4103b44b9826a499d1bf",
       "style": "IPY_MODEL_8dc56c09febd4c8b9d35d55ddbc62147",
       "value": "Dotprops:   0%"
      }
     },
     "515415c09eef4ceab6325ceac5fbdefe": {
      "model_module": "@jupyter-widgets/controls",
      "model_module_version": "1.5.0",
      "model_name": "DescriptionStyleModel",
      "state": {
       "description_width": ""
      }
     },
     "518de02e324041f38f288f0dd166e04a": {
      "model_module": "@jupyter-widgets/base",
      "model_module_version": "1.2.0",
      "model_name": "LayoutModel",
      "state": {}
     },
     "51baece339ba4ca18feb368a27a257c5": {
      "model_module": "@jupyter-widgets/controls",
      "model_module_version": "1.5.0",
      "model_name": "DescriptionStyleModel",
      "state": {
       "description_width": ""
      }
     },
     "52fa933d455c495abdfee651f87b7528": {
      "model_module": "@jupyter-widgets/controls",
      "model_module_version": "1.5.0",
      "model_name": "FloatProgressModel",
      "state": {
       "layout": "IPY_MODEL_8199fb8100284bea9e6296181ce070fd",
       "max": 711,
       "style": "IPY_MODEL_ed4c4bd7029a46f4ae23006f4498c600",
       "value": 711
      }
     },
     "53cb4b952826418c9e4a10ef9405efde": {
      "model_module": "@jupyter-widgets/controls",
      "model_module_version": "1.5.0",
      "model_name": "DescriptionStyleModel",
      "state": {
       "description_width": ""
      }
     },
     "543ba1a367334762acb283ebc91f6f2d": {
      "model_module": "@jupyter-widgets/controls",
      "model_module_version": "1.5.0",
      "model_name": "DescriptionStyleModel",
      "state": {
       "description_width": ""
      }
     },
     "546765956caa4c5693c7cb622c8c492f": {
      "model_module": "@jupyter-widgets/controls",
      "model_module_version": "1.5.0",
      "model_name": "HTMLModel",
      "state": {
       "layout": "IPY_MODEL_aff1b388338345a08ea8f7fd6c68c735",
       "style": "IPY_MODEL_1555355b38c54932b0245bd989900c6f",
       "value": "Dotprops:   0%"
      }
     },
     "54801c2b95bc469785c385529cabca44": {
      "model_module": "@jupyter-widgets/controls",
      "model_module_version": "1.5.0",
      "model_name": "HTMLModel",
      "state": {
       "layout": "IPY_MODEL_6a0193a0db6340a9a2ed03fa17dc459e",
       "style": "IPY_MODEL_4ece5d58c3764271ae11a446152a6a47",
       "value": "Blasting: 100%"
      }
     },
     "56378b16de0c436eb33d34fd887198eb": {
      "model_module": "@jupyter-widgets/base",
      "model_module_version": "1.2.0",
      "model_name": "LayoutModel",
      "state": {}
     },
     "5638a0487b1443f28d2fc927fe7d0866": {
      "model_module": "@jupyter-widgets/base",
      "model_module_version": "1.2.0",
      "model_name": "LayoutModel",
      "state": {}
     },
     "56963b8006cb4bf582034c4450738d5a": {
      "model_module": "@jupyter-widgets/controls",
      "model_module_version": "1.5.0",
      "model_name": "HTMLModel",
      "state": {
       "layout": "IPY_MODEL_b8b7ce96dc684b5e8ab9eb1955883f24",
       "style": "IPY_MODEL_f14d10cf587b423cb2ac6ed855a7c0e3",
       "value": " 3/3 [00:01&lt;00:00,  2.28it/s]"
      }
     },
     "57d26a3959bf4cfda776a96da26938bc": {
      "model_module": "@jupyter-widgets/base",
      "model_module_version": "1.2.0",
      "model_name": "LayoutModel",
      "state": {}
     },
     "57d71d8c1ffa46b6905df3aad84f6000": {
      "model_module": "@jupyter-widgets/controls",
      "model_module_version": "1.5.0",
      "model_name": "HTMLModel",
      "state": {
       "layout": "IPY_MODEL_2120b570e3b342368fd03b4fab4ca3da",
       "style": "IPY_MODEL_44ce71a0b7bf4ba2805c2b90a6a2f01f",
       "value": " 0/3 [00:00&lt;?, ?it/s]"
      }
     },
     "57db3550438c4de3a081ceaa44754720": {
      "model_module": "@jupyter-widgets/controls",
      "model_module_version": "1.5.0",
      "model_name": "FloatProgressModel",
      "state": {
       "layout": "IPY_MODEL_dfb6f90724e44567b61c9c9ea0ed9268",
       "max": 3,
       "style": "IPY_MODEL_ff92f0fe00d04bd3876957bd2b6c777c",
       "value": 3
      }
     },
     "58035126e3824f478e583558f7d33c0c": {
      "model_module": "@jupyter-widgets/controls",
      "model_module_version": "1.5.0",
      "model_name": "HTMLModel",
      "state": {
       "layout": "IPY_MODEL_57d26a3959bf4cfda776a96da26938bc",
       "style": "IPY_MODEL_6c9936e52feb47e3a837a30626e5787b",
       "value": " 3/3 [00:08&lt;00:00,  2.85s/it]"
      }
     },
     "588d5f385d4c47e58e235a970f338431": {
      "model_module": "@jupyter-widgets/controls",
      "model_module_version": "1.5.0",
      "model_name": "FloatProgressModel",
      "state": {
       "layout": "IPY_MODEL_fbc399cb84be4a93b0ef17f7afc3366a",
       "max": 3,
       "style": "IPY_MODEL_b5ebeb99276a481395fdfbb5dc853c4b",
       "value": 3
      }
     },
     "5893a2ab687446b184684387a84c5955": {
      "model_module": "@jupyter-widgets/base",
      "model_module_version": "1.2.0",
      "model_name": "LayoutModel",
      "state": {}
     },
     "589c3a40bac54ee1874ce38ef44a2ddb": {
      "model_module": "@jupyter-widgets/controls",
      "model_module_version": "1.5.0",
      "model_name": "HTMLModel",
      "state": {
       "layout": "IPY_MODEL_8b47ba818a1b45a4a4f961c3d1100b6a",
       "style": "IPY_MODEL_bfb6a095c4ac4776ad1d34aa62c08336",
       "value": "Plot neurons: 100%"
      }
     },
     "5936eaf37a9944b8b65155c7acbdbde7": {
      "model_module": "@jupyter-widgets/controls",
      "model_module_version": "1.5.0",
      "model_name": "FloatProgressModel",
      "state": {
       "layout": "IPY_MODEL_0c683c95c12c49a48bc5f623a8dd2851",
       "max": 3,
       "style": "IPY_MODEL_9b5ea71aaad54f25bc645ae3b12a19e0",
       "value": 3
      }
     },
     "59639af5dcfb44a8bf6bdebaeebae674": {
      "model_module": "@jupyter-widgets/base",
      "model_module_version": "1.2.0",
      "model_name": "LayoutModel",
      "state": {}
     },
     "5a88122135784c17b9cf90224fb55f5b": {
      "model_module": "@jupyter-widgets/controls",
      "model_module_version": "1.5.0",
      "model_name": "HTMLModel",
      "state": {
       "layout": "IPY_MODEL_c7b0de3443684ac1a7d00c4d5d124b74",
       "style": "IPY_MODEL_817f5747b18c4bc3b1b613b64b64acca",
       "value": " 0/3 [00:00&lt;?, ?it/s]"
      }
     },
     "5aa138be9673407a84c33d43ada205c8": {
      "model_module": "@jupyter-widgets/base",
      "model_module_version": "1.2.0",
      "model_name": "LayoutModel",
      "state": {}
     },
     "5b5e231fe466435dadc22b48b0bd5a8d": {
      "model_module": "@jupyter-widgets/base",
      "model_module_version": "1.2.0",
      "model_name": "LayoutModel",
      "state": {}
     },
     "5bc6ebb1d2c74dd0bfbb8fc08a5f59a0": {
      "model_module": "@jupyter-widgets/controls",
      "model_module_version": "1.5.0",
      "model_name": "DescriptionStyleModel",
      "state": {
       "description_width": ""
      }
     },
     "5c9345a6a4b6404aa5b5bd3c2a76ceef": {
      "model_module": "@jupyter-widgets/base",
      "model_module_version": "1.2.0",
      "model_name": "LayoutModel",
      "state": {}
     },
     "5d14e5269dbe4149bbfb0a5fd0bd79b1": {
      "model_module": "@jupyter-widgets/controls",
      "model_module_version": "1.5.0",
      "model_name": "HTMLModel",
      "state": {
       "layout": "IPY_MODEL_1fe02fafa3c14611a688662cc0c39305",
       "style": "IPY_MODEL_e9795185911247a787dbd91dae4729e9",
       "value": " 817/848 [00:02&lt;00:00, 387.26it/s]"
      }
     },
     "5d371d06b6dd46139c156b4b92651351": {
      "model_module": "@jupyter-widgets/controls",
      "model_module_version": "1.5.0",
      "model_name": "DescriptionStyleModel",
      "state": {
       "description_width": ""
      }
     },
     "5d53038581624d7db071733a809898b7": {
      "model_module": "@jupyter-widgets/controls",
      "model_module_version": "1.5.0",
      "model_name": "HTMLModel",
      "state": {
       "layout": "IPY_MODEL_95d2f6829e644a30bf678ef41fa98b84",
       "style": "IPY_MODEL_09f143fe95ac4b32acb8ae9413122df4",
       "value": "Dotprops:   0%"
      }
     },
     "5e87153dec9d410ea43b9ff64e59ea1d": {
      "model_module": "@jupyter-widgets/controls",
      "model_module_version": "1.5.0",
      "model_name": "HTMLModel",
      "state": {
       "layout": "IPY_MODEL_aa83e0ee9cd6464ea97115ad30766706",
       "style": "IPY_MODEL_bf07ccd4c584455e9b92c27d6929d29b",
       "value": "Blasting: 100%"
      }
     },
     "5ed0e116c677490b90c9dd248067e38c": {
      "model_module": "@jupyter-widgets/base",
      "model_module_version": "1.2.0",
      "model_name": "LayoutModel",
      "state": {}
     },
     "5ed33256ef2d40beab6ae0cb6a9b679e": {
      "model_module": "@jupyter-widgets/controls",
      "model_module_version": "1.5.0",
      "model_name": "HTMLModel",
      "state": {
       "layout": "IPY_MODEL_e5460a80def1476092c068ca015029a0",
       "style": "IPY_MODEL_9214e17fb44145edb6e71c6f6291acde",
       "value": " 3/3 [00:01&lt;00:00,  2.62it/s]"
      }
     },
     "5eff2b326e764eda8b381578a9f71519": {
      "model_module": "@jupyter-widgets/base",
      "model_module_version": "1.2.0",
      "model_name": "LayoutModel",
      "state": {}
     },
     "5f6c0fbe2837406b82709a10e4571097": {
      "model_module": "@jupyter-widgets/controls",
      "model_module_version": "1.5.0",
      "model_name": "HTMLModel",
      "state": {
       "layout": "IPY_MODEL_f443eaf48c3946149f437fb8a396a9c6",
       "style": "IPY_MODEL_e2d89e23b6294d6c859e7bcef7cc0cd2",
       "value": " 3/3 [00:15&lt;00:00,  5.03s/it]"
      }
     },
     "6078ea8b8105489ca0251e16dc92c680": {
      "model_module": "@jupyter-widgets/controls",
      "model_module_version": "1.5.0",
      "model_name": "FloatProgressModel",
      "state": {
       "layout": "IPY_MODEL_5893a2ab687446b184684387a84c5955",
       "max": 3,
       "style": "IPY_MODEL_cfa8eb2fb31b419d860fd22dceb57ccf",
       "value": 3
      }
     },
     "60a34a3c75a5418c8261ae24cb44db4e": {
      "model_module": "@jupyter-widgets/controls",
      "model_module_version": "1.5.0",
      "model_name": "DescriptionStyleModel",
      "state": {
       "description_width": ""
      }
     },
     "60cb591abda547db9441da8684c179bc": {
      "model_module": "@jupyter-widgets/controls",
      "model_module_version": "1.5.0",
      "model_name": "DescriptionStyleModel",
      "state": {
       "description_width": ""
      }
     },
     "617d61fb2c0247cf9d070c3548455303": {
      "model_module": "@jupyter-widgets/controls",
      "model_module_version": "1.5.0",
      "model_name": "DescriptionStyleModel",
      "state": {
       "description_width": ""
      }
     },
     "61982af3fe5f4e029abc64c66d2e72c4": {
      "model_module": "@jupyter-widgets/base",
      "model_module_version": "1.2.0",
      "model_name": "LayoutModel",
      "state": {}
     },
     "629017a1d27646b6beaa66871da17583": {
      "model_module": "@jupyter-widgets/base",
      "model_module_version": "1.2.0",
      "model_name": "LayoutModel",
      "state": {}
     },
     "62c6d1e03c1a41e39979f2d97f1fbba3": {
      "model_module": "@jupyter-widgets/controls",
      "model_module_version": "1.5.0",
      "model_name": "FloatProgressModel",
      "state": {
       "layout": "IPY_MODEL_8e6ef44c161c4688979542e66a822fc1",
       "max": 3,
       "style": "IPY_MODEL_fd1b5cd7833c4b4891e50998254dfc3d",
       "value": 3
      }
     },
     "632191e96e3146449381bd216153050a": {
      "model_module": "@jupyter-widgets/base",
      "model_module_version": "1.2.0",
      "model_name": "LayoutModel",
      "state": {}
     },
     "63331232babd46b987deb60df50d96c8": {
      "model_module": "@jupyter-widgets/base",
      "model_module_version": "1.2.0",
      "model_name": "LayoutModel",
      "state": {}
     },
     "644506ac12fe443fa785b67c870a755c": {
      "model_module": "@jupyter-widgets/controls",
      "model_module_version": "1.5.0",
      "model_name": "DescriptionStyleModel",
      "state": {
       "description_width": ""
      }
     },
     "6596a6f6fa6a4b9782e4b7e7fac5fa04": {
      "model_module": "@jupyter-widgets/controls",
      "model_module_version": "1.5.0",
      "model_name": "HTMLModel",
      "state": {
       "layout": "IPY_MODEL_339b031f216c4fdc991a15b5f7fc99cc",
       "style": "IPY_MODEL_cbcb78971baf4086bd3556e7b31e648e",
       "value": "Blasting: 100%"
      }
     },
     "65a120c861fa4de4bbe0a5a20480dbbc": {
      "model_module": "@jupyter-widgets/controls",
      "model_module_version": "1.5.0",
      "model_name": "ProgressStyleModel",
      "state": {
       "description_width": ""
      }
     },
     "662551e3678b484b9d26f8b8bd62edc6": {
      "model_module": "@jupyter-widgets/controls",
      "model_module_version": "1.5.0",
      "model_name": "DescriptionStyleModel",
      "state": {
       "description_width": ""
      }
     },
     "6632b853cd6f42a289ac60664611829d": {
      "model_module": "@jupyter-widgets/controls",
      "model_module_version": "1.5.0",
      "model_name": "DescriptionStyleModel",
      "state": {
       "description_width": ""
      }
     },
     "66a5cd2a8c194def8b68f301735d58bb": {
      "model_module": "@jupyter-widgets/base",
      "model_module_version": "1.2.0",
      "model_name": "LayoutModel",
      "state": {}
     },
     "66b9fca430f240c28fac549dea4a4277": {
      "model_module": "@jupyter-widgets/controls",
      "model_module_version": "1.5.0",
      "model_name": "HTMLModel",
      "state": {
       "layout": "IPY_MODEL_d4b024daa4524c7cbba344ac8b27b155",
       "style": "IPY_MODEL_f186ccfa84e247daa219124943c89879",
       "value": "Plot neurons:  67%"
      }
     },
     "67f2732fb6e843ab9ef52fd0102c2da9": {
      "model_module": "@jupyter-widgets/base",
      "model_module_version": "1.2.0",
      "model_name": "LayoutModel",
      "state": {}
     },
     "68656f458b7b43f7972bd5f9f50f4b9d": {
      "model_module": "@jupyter-widgets/controls",
      "model_module_version": "1.5.0",
      "model_name": "DescriptionStyleModel",
      "state": {
       "description_width": ""
      }
     },
     "68c473cda1d94a1a9421f0000f281aab": {
      "model_module": "@jupyter-widgets/base",
      "model_module_version": "1.2.0",
      "model_name": "LayoutModel",
      "state": {}
     },
     "6965e930772d448dad70b9b9bab18018": {
      "model_module": "@jupyter-widgets/controls",
      "model_module_version": "1.5.0",
      "model_name": "FloatProgressModel",
      "state": {
       "layout": "IPY_MODEL_6fbd0928e18f457eb5e9f4cbdf2c0420",
       "max": 779,
       "style": "IPY_MODEL_a466986276464b6d966726ea30b9198b",
       "value": 779
      }
     },
     "69ddd73f2f724d6aaa593799c630375b": {
      "model_module": "@jupyter-widgets/base",
      "model_module_version": "1.2.0",
      "model_name": "LayoutModel",
      "state": {}
     },
     "6a0193a0db6340a9a2ed03fa17dc459e": {
      "model_module": "@jupyter-widgets/base",
      "model_module_version": "1.2.0",
      "model_name": "LayoutModel",
      "state": {}
     },
     "6a0affe9943f44b99fd2092b5fe075ec": {
      "model_module": "@jupyter-widgets/base",
      "model_module_version": "1.2.0",
      "model_name": "LayoutModel",
      "state": {}
     },
     "6a9fbedef2864d868ccbda6065cd89f7": {
      "model_module": "@jupyter-widgets/controls",
      "model_module_version": "1.5.0",
      "model_name": "DescriptionStyleModel",
      "state": {
       "description_width": ""
      }
     },
     "6aebabbe911b4b879c215d5b01a5d952": {
      "model_module": "@jupyter-widgets/controls",
      "model_module_version": "1.5.0",
      "model_name": "DescriptionStyleModel",
      "state": {
       "description_width": ""
      }
     },
     "6bec69b4eb2349f880a1e04fd438e65e": {
      "model_module": "@jupyter-widgets/base",
      "model_module_version": "1.2.0",
      "model_name": "LayoutModel",
      "state": {}
     },
     "6bfe7ab092c3438b99d95bb16ec23fca": {
      "model_module": "@jupyter-widgets/controls",
      "model_module_version": "1.5.0",
      "model_name": "HTMLModel",
      "state": {
       "layout": "IPY_MODEL_0f8db52c6e8e4ef2b1b7073cf93e51fc",
       "style": "IPY_MODEL_35d76d1e970849abb074d8c145e9473c",
       "value": "Blasting: 100%"
      }
     },
     "6c160bc32c684815973760727cf9a712": {
      "model_module": "@jupyter-widgets/base",
      "model_module_version": "1.2.0",
      "model_name": "LayoutModel",
      "state": {}
     },
     "6c53e86a329744f887b207417e4fcc52": {
      "model_module": "@jupyter-widgets/controls",
      "model_module_version": "1.5.0",
      "model_name": "HTMLModel",
      "state": {
       "layout": "IPY_MODEL_faf3b2b944d24b6aa353dc69e1c9ab09",
       "style": "IPY_MODEL_fc9b7514fa6b404480a55e9fa8d5a700",
       "value": "Blasting: 100%"
      }
     },
     "6c9936e52feb47e3a837a30626e5787b": {
      "model_module": "@jupyter-widgets/controls",
      "model_module_version": "1.5.0",
      "model_name": "DescriptionStyleModel",
      "state": {
       "description_width": ""
      }
     },
     "6d3d4022eb6848bea998021d904cc6b3": {
      "model_module": "@jupyter-widgets/controls",
      "model_module_version": "1.5.0",
      "model_name": "ProgressStyleModel",
      "state": {
       "description_width": ""
      }
     },
     "6e2bcebc48344ee4860e20c145e190ed": {
      "model_module": "@jupyter-widgets/controls",
      "model_module_version": "1.5.0",
      "model_name": "ProgressStyleModel",
      "state": {
       "description_width": ""
      }
     },
     "6e59a077e3dc4b9593663b4ef897f0f1": {
      "model_module": "@jupyter-widgets/controls",
      "model_module_version": "1.5.0",
      "model_name": "DescriptionStyleModel",
      "state": {
       "description_width": ""
      }
     },
     "6e70a6f98b1b4548ae82a5d2bb5a4b22": {
      "model_module": "@jupyter-widgets/controls",
      "model_module_version": "1.5.0",
      "model_name": "ProgressStyleModel",
      "state": {
       "description_width": ""
      }
     },
     "6ea26c27cdaf403a851093e1b8d20262": {
      "model_module": "@jupyter-widgets/controls",
      "model_module_version": "1.5.0",
      "model_name": "HTMLModel",
      "state": {
       "layout": "IPY_MODEL_1b62d48852514e49b7a5a81a842de849",
       "style": "IPY_MODEL_b057557df1814626925f548b141d0c08",
       "value": " 0/3 [00:00&lt;?, ?it/s]"
      }
     },
     "6ec170ec83e240de83bec3a91e3b4d90": {
      "model_module": "@jupyter-widgets/controls",
      "model_module_version": "1.5.0",
      "model_name": "DescriptionStyleModel",
      "state": {
       "description_width": ""
      }
     },
     "6f1a55b7c38941d3a6d3633809239e6a": {
      "model_module": "@jupyter-widgets/base",
      "model_module_version": "1.2.0",
      "model_name": "LayoutModel",
      "state": {}
     },
     "6f2f4b6a86f24a8fb77c04e1a1455922": {
      "model_module": "@jupyter-widgets/controls",
      "model_module_version": "1.5.0",
      "model_name": "DescriptionStyleModel",
      "state": {
       "description_width": ""
      }
     },
     "6fbd0928e18f457eb5e9f4cbdf2c0420": {
      "model_module": "@jupyter-widgets/base",
      "model_module_version": "1.2.0",
      "model_name": "LayoutModel",
      "state": {}
     },
     "71f58a2082154eddb27041214b3618b3": {
      "model_module": "@jupyter-widgets/controls",
      "model_module_version": "1.5.0",
      "model_name": "HTMLModel",
      "state": {
       "layout": "IPY_MODEL_f6f86931bcc947cf81846fc2c9a7c674",
       "style": "IPY_MODEL_3f1b9ec32cfe4bf3a6d30e957963eb14",
       "value": " 16071/16129 [00:01&lt;00:00, 9173.39it/s]"
      }
     },
     "72205eefda664465921b64807c91977b": {
      "model_module": "@jupyter-widgets/controls",
      "model_module_version": "1.5.0",
      "model_name": "DescriptionStyleModel",
      "state": {
       "description_width": ""
      }
     },
     "726af6020ca442bb9918c53fde0bd21b": {
      "model_module": "@jupyter-widgets/base",
      "model_module_version": "1.2.0",
      "model_name": "LayoutModel",
      "state": {}
     },
     "7387af58755449cbab0c4979a42e2380": {
      "model_module": "@jupyter-widgets/base",
      "model_module_version": "1.2.0",
      "model_name": "LayoutModel",
      "state": {}
     },
     "73e08087857740a495a2ff2558f6c1b5": {
      "model_module": "@jupyter-widgets/base",
      "model_module_version": "1.2.0",
      "model_name": "LayoutModel",
      "state": {}
     },
     "7401e77faf8a47638e953cfb52237b5c": {
      "model_module": "@jupyter-widgets/base",
      "model_module_version": "1.2.0",
      "model_name": "LayoutModel",
      "state": {}
     },
     "75a13eb732ef4284ba451aa9a2e0e041": {
      "model_module": "@jupyter-widgets/controls",
      "model_module_version": "1.5.0",
      "model_name": "HTMLModel",
      "state": {
       "layout": "IPY_MODEL_dae87d4236c741c2be12f09aafa6d4bc",
       "style": "IPY_MODEL_bc471065e8904e9eade97caf27ca534c",
       "value": " 3/3 [00:08&lt;00:00,  2.78s/it]"
      }
     },
     "75b53926a24e44d0971b8ba8af6d76fe": {
      "model_module": "@jupyter-widgets/controls",
      "model_module_version": "1.5.0",
      "model_name": "DescriptionStyleModel",
      "state": {
       "description_width": ""
      }
     },
     "7699cd7d4d9c4a8ba5d2d47ec88ad3b6": {
      "model_module": "@jupyter-widgets/base",
      "model_module_version": "1.2.0",
      "model_name": "LayoutModel",
      "state": {}
     },
     "769e6505a8bc4a82bd38f409d3d1f1d5": {
      "model_module": "@jupyter-widgets/controls",
      "model_module_version": "1.5.0",
      "model_name": "HTMLModel",
      "state": {
       "layout": "IPY_MODEL_68c473cda1d94a1a9421f0000f281aab",
       "style": "IPY_MODEL_1c331df83c5546c28f7a1bb68a830c1d",
       "value": " 3/3 [00:01&lt;00:00,  1.60it/s]"
      }
     },
     "77677cc207d5460f8fde3f6e0d3dee0a": {
      "model_module": "@jupyter-widgets/controls",
      "model_module_version": "1.5.0",
      "model_name": "DescriptionStyleModel",
      "state": {
       "description_width": ""
      }
     },
     "7776b4a6fab04d32a2d406d8d3d7ad46": {
      "model_module": "@jupyter-widgets/controls",
      "model_module_version": "1.5.0",
      "model_name": "DescriptionStyleModel",
      "state": {
       "description_width": ""
      }
     },
     "77dde48d403e47c9bfa377ed892ce240": {
      "model_module": "@jupyter-widgets/base",
      "model_module_version": "1.2.0",
      "model_name": "LayoutModel",
      "state": {}
     },
     "78122a7bba98431c946fbbfd7de2c202": {
      "model_module": "@jupyter-widgets/controls",
      "model_module_version": "1.5.0",
      "model_name": "ProgressStyleModel",
      "state": {
       "description_width": ""
      }
     },
     "7951b46dbc2e4011a8d3347471d927f4": {
      "model_module": "@jupyter-widgets/controls",
      "model_module_version": "1.5.0",
      "model_name": "HTMLModel",
      "state": {
       "layout": "IPY_MODEL_0d440f6be4de427a8d8961b5092e672b",
       "style": "IPY_MODEL_7ff698733a3d45c880688d70eb53840a",
       "value": "downsample: 100%"
      }
     },
     "7952f88b48914cab990052bade3cba05": {
      "model_module": "@jupyter-widgets/controls",
      "model_module_version": "1.5.0",
      "model_name": "DescriptionStyleModel",
      "state": {
       "description_width": ""
      }
     },
     "7a96632dff074b19a68812c891be3f29": {
      "model_module": "@jupyter-widgets/base",
      "model_module_version": "1.2.0",
      "model_name": "LayoutModel",
      "state": {}
     },
     "7ac52233bba3468782619bbf77e89730": {
      "model_module": "@jupyter-widgets/controls",
      "model_module_version": "1.5.0",
      "model_name": "HTMLModel",
      "state": {
       "layout": "IPY_MODEL_8b9db4c17f6f488f8062f6c7aac49a7a",
       "style": "IPY_MODEL_c96689e12508476eb1a445ce83e532d4",
       "value": "Blasting pairs:  91%"
      }
     },
     "7c671166231e468dbd8c761fcd22f148": {
      "model_module": "@jupyter-widgets/controls",
      "model_module_version": "1.5.0",
      "model_name": "DescriptionStyleModel",
      "state": {
       "description_width": ""
      }
     },
     "7c6a3b14b0ca4409a87f9f9b0f6259aa": {
      "model_module": "@jupyter-widgets/base",
      "model_module_version": "1.2.0",
      "model_name": "LayoutModel",
      "state": {}
     },
     "7c78637efad141d4b2f5a6d141b9d71d": {
      "model_module": "@jupyter-widgets/controls",
      "model_module_version": "1.5.0",
      "model_name": "DescriptionStyleModel",
      "state": {
       "description_width": ""
      }
     },
     "7d1b181d7cc643ffbd413f82798ee6a2": {
      "model_module": "@jupyter-widgets/base",
      "model_module_version": "1.2.0",
      "model_name": "LayoutModel",
      "state": {}
     },
     "7d4172d17db74f97abe68a5e42c6e9bb": {
      "model_module": "@jupyter-widgets/controls",
      "model_module_version": "1.5.0",
      "model_name": "DescriptionStyleModel",
      "state": {
       "description_width": ""
      }
     },
     "7e5274ef7bc34fadb4dd58167568e66a": {
      "model_module": "@jupyter-widgets/controls",
      "model_module_version": "1.5.0",
      "model_name": "ProgressStyleModel",
      "state": {
       "description_width": ""
      }
     },
     "7efde4dfafc14d21b37eca7df5391b03": {
      "model_module": "@jupyter-widgets/controls",
      "model_module_version": "1.5.0",
      "model_name": "FloatProgressModel",
      "state": {
       "layout": "IPY_MODEL_f8cc0c6bf3ed44d1a2bd9c964f663567",
       "max": 3,
       "style": "IPY_MODEL_9acec968514e49df8487dea1f29ed0c8",
       "value": 3
      }
     },
     "7f1f93fda30e4eab90093f0c90612795": {
      "model_module": "@jupyter-widgets/controls",
      "model_module_version": "1.5.0",
      "model_name": "DescriptionStyleModel",
      "state": {
       "description_width": ""
      }
     },
     "7f8da48c59e44ec39c3dfaf4cb98deb4": {
      "model_module": "@jupyter-widgets/base",
      "model_module_version": "1.2.0",
      "model_name": "LayoutModel",
      "state": {}
     },
     "7ff698733a3d45c880688d70eb53840a": {
      "model_module": "@jupyter-widgets/controls",
      "model_module_version": "1.5.0",
      "model_name": "DescriptionStyleModel",
      "state": {
       "description_width": ""
      }
     },
     "8066b1341998493dbb9fb435dd210417": {
      "model_module": "@jupyter-widgets/controls",
      "model_module_version": "1.5.0",
      "model_name": "DescriptionStyleModel",
      "state": {
       "description_width": ""
      }
     },
     "80b2ba9d8d7f4c3088b639eed0f2c47a": {
      "model_module": "@jupyter-widgets/base",
      "model_module_version": "1.2.0",
      "model_name": "LayoutModel",
      "state": {}
     },
     "812d1f86ab4e43d4ab59069b3f16a3e6": {
      "model_module": "@jupyter-widgets/base",
      "model_module_version": "1.2.0",
      "model_name": "LayoutModel",
      "state": {}
     },
     "8167f879c1f6411db34b9ee8fa5727a0": {
      "model_module": "@jupyter-widgets/base",
      "model_module_version": "1.2.0",
      "model_name": "LayoutModel",
      "state": {}
     },
     "817f5747b18c4bc3b1b613b64b64acca": {
      "model_module": "@jupyter-widgets/controls",
      "model_module_version": "1.5.0",
      "model_name": "DescriptionStyleModel",
      "state": {
       "description_width": ""
      }
     },
     "8199fb8100284bea9e6296181ce070fd": {
      "model_module": "@jupyter-widgets/base",
      "model_module_version": "1.2.0",
      "model_name": "LayoutModel",
      "state": {}
     },
     "81a73f30255a4c078b55cce6261ea1b9": {
      "model_module": "@jupyter-widgets/base",
      "model_module_version": "1.2.0",
      "model_name": "LayoutModel",
      "state": {}
     },
     "82a5010885c44fc98cb7762c7ce5346b": {
      "model_module": "@jupyter-widgets/controls",
      "model_module_version": "1.5.0",
      "model_name": "DescriptionStyleModel",
      "state": {
       "description_width": ""
      }
     },
     "831d867b041a4595bfecc3703444edf7": {
      "model_module": "@jupyter-widgets/base",
      "model_module_version": "1.2.0",
      "model_name": "LayoutModel",
      "state": {}
     },
     "83ecac8913014bbc80d3c15cec2fbfd2": {
      "model_module": "@jupyter-widgets/base",
      "model_module_version": "1.2.0",
      "model_name": "LayoutModel",
      "state": {}
     },
     "8417fa0077ab4a77b4b01e3bff1253ff": {
      "model_module": "@jupyter-widgets/controls",
      "model_module_version": "1.5.0",
      "model_name": "DescriptionStyleModel",
      "state": {
       "description_width": ""
      }
     },
     "8496483a3eac4ac49f5359205c5b6d21": {
      "model_module": "@jupyter-widgets/controls",
      "model_module_version": "1.5.0",
      "model_name": "HTMLModel",
      "state": {
       "layout": "IPY_MODEL_162e931d7ce8454bbf5af00515ebfed4",
       "style": "IPY_MODEL_662551e3678b484b9d26f8b8bd62edc6",
       "value": " 3/3 [00:00&lt;00:00,  5.16it/s]"
      }
     },
     "84e4969516394d99ae1b048cf1b4b445": {
      "model_module": "@jupyter-widgets/base",
      "model_module_version": "1.2.0",
      "model_name": "LayoutModel",
      "state": {}
     },
     "84f3ae278b954b9d9890be7543011728": {
      "model_module": "@jupyter-widgets/controls",
      "model_module_version": "1.5.0",
      "model_name": "DescriptionStyleModel",
      "state": {
       "description_width": ""
      }
     },
     "85606a789a5647248f03a6ba9aec27a9": {
      "model_module": "@jupyter-widgets/controls",
      "model_module_version": "1.5.0",
      "model_name": "HTMLModel",
      "state": {
       "layout": "IPY_MODEL_d19bf6712cfa423f92a770dae0902f9a",
       "style": "IPY_MODEL_dde51b47d3ac4db599fa5f1e351dae0a",
       "value": " 3/3 [00:01&lt;00:00,  2.41it/s]"
      }
     },
     "85739f9810f541f796fb97b1694e4f60": {
      "model_module": "@jupyter-widgets/base",
      "model_module_version": "1.2.0",
      "model_name": "LayoutModel",
      "state": {}
     },
     "85b0baf6404042f0a2db04d3f686d170": {
      "model_module": "@jupyter-widgets/base",
      "model_module_version": "1.2.0",
      "model_name": "LayoutModel",
      "state": {}
     },
     "85dfe1ff8ade4bc9b9a1e8bf53188436": {
      "model_module": "@jupyter-widgets/controls",
      "model_module_version": "1.5.0",
      "model_name": "FloatProgressModel",
      "state": {
       "layout": "IPY_MODEL_5638a0487b1443f28d2fc927fe7d0866",
       "max": 3,
       "style": "IPY_MODEL_78122a7bba98431c946fbbfd7de2c202",
       "value": 3
      }
     },
     "85f8bf0fd4414cdabfe5fde1aca4972e": {
      "model_module": "@jupyter-widgets/controls",
      "model_module_version": "1.5.0",
      "model_name": "DescriptionStyleModel",
      "state": {
       "description_width": ""
      }
     },
     "8607d31a43114d9bb237ec7ec1d68cb7": {
      "model_module": "@jupyter-widgets/base",
      "model_module_version": "1.2.0",
      "model_name": "LayoutModel",
      "state": {}
     },
     "861f82b3c6b74d26bf4a0acb453b720c": {
      "model_module": "@jupyter-widgets/controls",
      "model_module_version": "1.5.0",
      "model_name": "ProgressStyleModel",
      "state": {
       "description_width": ""
      }
     },
     "86ea075abb1c478d98295a74c0bba28f": {
      "model_module": "@jupyter-widgets/controls",
      "model_module_version": "1.5.0",
      "model_name": "FloatProgressModel",
      "state": {
       "layout": "IPY_MODEL_3a27cc11148f4838b7f3bb22fb840100",
       "max": 3,
       "style": "IPY_MODEL_96361a857b9142db9f0463e6d88176f5",
       "value": 3
      }
     },
     "87a17483fce3402892306b68e7e06676": {
      "model_module": "@jupyter-widgets/base",
      "model_module_version": "1.2.0",
      "model_name": "LayoutModel",
      "state": {}
     },
     "87a882ce6ca741d28026f811f8dafd2b": {
      "model_module": "@jupyter-widgets/base",
      "model_module_version": "1.2.0",
      "model_name": "LayoutModel",
      "state": {}
     },
     "87b905eec2144bdf83b9288e36a6a409": {
      "model_module": "@jupyter-widgets/controls",
      "model_module_version": "1.5.0",
      "model_name": "FloatProgressModel",
      "state": {
       "layout": "IPY_MODEL_43f7f5f4320d4dcbae96743c8177b8df",
       "max": 16129,
       "style": "IPY_MODEL_47adf8211b5443b5a4d6f1aec7b5083f",
       "value": 16129
      }
     },
     "87e6e27b7b024c62ae8fbf8f45e5a05a": {
      "model_module": "@jupyter-widgets/controls",
      "model_module_version": "1.5.0",
      "model_name": "DescriptionStyleModel",
      "state": {
       "description_width": ""
      }
     },
     "885e6a4551d745a3a4a00f0256d6ad94": {
      "model_module": "@jupyter-widgets/controls",
      "model_module_version": "1.5.0",
      "model_name": "HTMLModel",
      "state": {
       "layout": "IPY_MODEL_ee20ed7fb5784ed3998547fcc89b2804",
       "style": "IPY_MODEL_a303dfa154904c99b6496240cb70ffe2",
       "value": "Plot neurons: 100%"
      }
     },
     "889fb26501984c82a2e6d5f287ba890b": {
      "model_module": "@jupyter-widgets/controls",
      "model_module_version": "1.5.0",
      "model_name": "DescriptionStyleModel",
      "state": {
       "description_width": ""
      }
     },
     "88effdc6daf147caaf9ec02451873aae": {
      "model_module": "@jupyter-widgets/controls",
      "model_module_version": "1.5.0",
      "model_name": "ProgressStyleModel",
      "state": {
       "description_width": ""
      }
     },
     "89ecc9f089eb4dc98fe33b203557de74": {
      "model_module": "@jupyter-widgets/controls",
      "model_module_version": "1.5.0",
      "model_name": "DescriptionStyleModel",
      "state": {
       "description_width": ""
      }
     },
     "8a3f908d0e9f4e699962437ffbf35e36": {
      "model_module": "@jupyter-widgets/base",
      "model_module_version": "1.2.0",
      "model_name": "LayoutModel",
      "state": {}
     },
     "8a9ec93216cf4c9baf0edc258e582400": {
      "model_module": "@jupyter-widgets/base",
      "model_module_version": "1.2.0",
      "model_name": "LayoutModel",
      "state": {}
     },
     "8b47ba818a1b45a4a4f961c3d1100b6a": {
      "model_module": "@jupyter-widgets/base",
      "model_module_version": "1.2.0",
      "model_name": "LayoutModel",
      "state": {}
     },
     "8b9db4c17f6f488f8062f6c7aac49a7a": {
      "model_module": "@jupyter-widgets/base",
      "model_module_version": "1.2.0",
      "model_name": "LayoutModel",
      "state": {}
     },
     "8c229423fb984c8283d5d8163608c3dc": {
      "model_module": "@jupyter-widgets/controls",
      "model_module_version": "1.5.0",
      "model_name": "DescriptionStyleModel",
      "state": {
       "description_width": ""
      }
     },
     "8d3d28b0d09c464c96a030ad755f24ec": {
      "model_module": "@jupyter-widgets/controls",
      "model_module_version": "1.5.0",
      "model_name": "ProgressStyleModel",
      "state": {
       "description_width": ""
      }
     },
     "8dc56c09febd4c8b9d35d55ddbc62147": {
      "model_module": "@jupyter-widgets/controls",
      "model_module_version": "1.5.0",
      "model_name": "DescriptionStyleModel",
      "state": {
       "description_width": ""
      }
     },
     "8e5ad2f978c14e23bde6e3b1f19d7ad5": {
      "model_module": "@jupyter-widgets/base",
      "model_module_version": "1.2.0",
      "model_name": "LayoutModel",
      "state": {}
     },
     "8e6ef44c161c4688979542e66a822fc1": {
      "model_module": "@jupyter-widgets/base",
      "model_module_version": "1.2.0",
      "model_name": "LayoutModel",
      "state": {}
     },
     "8e7d9858f45b4c51987d38d3fed54185": {
      "model_module": "@jupyter-widgets/controls",
      "model_module_version": "1.5.0",
      "model_name": "DescriptionStyleModel",
      "state": {
       "description_width": ""
      }
     },
     "8ec117c06e79499eb5b9103cc78ba235": {
      "model_module": "@jupyter-widgets/base",
      "model_module_version": "1.2.0",
      "model_name": "LayoutModel",
      "state": {}
     },
     "8f4dd472ab874b92b7324f1d556c99d6": {
      "model_module": "@jupyter-widgets/base",
      "model_module_version": "1.2.0",
      "model_name": "LayoutModel",
      "state": {}
     },
     "911a93643d4848beb7e76f497888c021": {
      "model_module": "@jupyter-widgets/controls",
      "model_module_version": "1.5.0",
      "model_name": "ProgressStyleModel",
      "state": {
       "description_width": ""
      }
     },
     "917d9839e4854aeb8e2ba3995b081fc5": {
      "model_module": "@jupyter-widgets/base",
      "model_module_version": "1.2.0",
      "model_name": "LayoutModel",
      "state": {}
     },
     "9214e17fb44145edb6e71c6f6291acde": {
      "model_module": "@jupyter-widgets/controls",
      "model_module_version": "1.5.0",
      "model_name": "DescriptionStyleModel",
      "state": {
       "description_width": ""
      }
     },
     "925a966a4993485598fd212e9a0464b1": {
      "model_module": "@jupyter-widgets/controls",
      "model_module_version": "1.5.0",
      "model_name": "ProgressStyleModel",
      "state": {
       "description_width": ""
      }
     },
     "92ab974cda394780bf5817cd03d49422": {
      "model_module": "@jupyter-widgets/controls",
      "model_module_version": "1.5.0",
      "model_name": "DescriptionStyleModel",
      "state": {
       "description_width": ""
      }
     },
     "9369f68bb5534f60aad3520264a311c3": {
      "model_module": "@jupyter-widgets/controls",
      "model_module_version": "1.5.0",
      "model_name": "ProgressStyleModel",
      "state": {
       "description_width": ""
      }
     },
     "94bd7c5cfe9d48efba6aabf9808b00a5": {
      "model_module": "@jupyter-widgets/base",
      "model_module_version": "1.2.0",
      "model_name": "LayoutModel",
      "state": {}
     },
     "94dc20e13591425fa031d0d9f29b973e": {
      "model_module": "@jupyter-widgets/base",
      "model_module_version": "1.2.0",
      "model_name": "LayoutModel",
      "state": {}
     },
     "950889a7fb5346b8ba6aecd371b32d28": {
      "model_module": "@jupyter-widgets/controls",
      "model_module_version": "1.5.0",
      "model_name": "HTMLModel",
      "state": {
       "layout": "IPY_MODEL_3ef93f9ad6864bd493fb120784461bfa",
       "style": "IPY_MODEL_48e30ce10e3d4737835f0e946d583e1b",
       "value": "Blasting: 100%"
      }
     },
     "95d2f6829e644a30bf678ef41fa98b84": {
      "model_module": "@jupyter-widgets/base",
      "model_module_version": "1.2.0",
      "model_name": "LayoutModel",
      "state": {}
     },
     "95e5473c48b34a5f97d64ffa1d595c7d": {
      "model_module": "@jupyter-widgets/base",
      "model_module_version": "1.2.0",
      "model_name": "LayoutModel",
      "state": {}
     },
     "96361a857b9142db9f0463e6d88176f5": {
      "model_module": "@jupyter-widgets/controls",
      "model_module_version": "1.5.0",
      "model_name": "ProgressStyleModel",
      "state": {
       "description_width": ""
      }
     },
     "9724f712584d45a3ac583d68fff84ba5": {
      "model_module": "@jupyter-widgets/controls",
      "model_module_version": "1.5.0",
      "model_name": "HTMLModel",
      "state": {
       "layout": "IPY_MODEL_ecb5d71a46c943448dc96dcb9ca482e3",
       "style": "IPY_MODEL_60a34a3c75a5418c8261ae24cb44db4e",
       "value": "Plot neurons: 100%"
      }
     },
     "99ab5fb3db3a46919947baedec6f64d0": {
      "model_module": "@jupyter-widgets/controls",
      "model_module_version": "1.5.0",
      "model_name": "FloatProgressModel",
      "state": {
       "layout": "IPY_MODEL_b380cb949c3a4d758ef2c7ff43637f81",
       "max": 3,
       "style": "IPY_MODEL_38b3788090b347f383c0f8d81be54fb1",
       "value": 3
      }
     },
     "9abf2011ded7459496d4913166bdca10": {
      "model_module": "@jupyter-widgets/controls",
      "model_module_version": "1.5.0",
      "model_name": "DescriptionStyleModel",
      "state": {
       "description_width": ""
      }
     },
     "9acec968514e49df8487dea1f29ed0c8": {
      "model_module": "@jupyter-widgets/controls",
      "model_module_version": "1.5.0",
      "model_name": "ProgressStyleModel",
      "state": {
       "description_width": ""
      }
     },
     "9b5425667efb45f897d6756d99b91544": {
      "model_module": "@jupyter-widgets/controls",
      "model_module_version": "1.5.0",
      "model_name": "ProgressStyleModel",
      "state": {
       "description_width": ""
      }
     },
     "9b562ed1675647ef9237c35dad825935": {
      "model_module": "@jupyter-widgets/controls",
      "model_module_version": "1.5.0",
      "model_name": "FloatProgressModel",
      "state": {
       "layout": "IPY_MODEL_e35f0336d08e497a8d7d13b1742740f1",
       "max": 3,
       "style": "IPY_MODEL_afdc6704b0ad4564bb688a9f94be48d2",
       "value": 3
      }
     },
     "9b5ea71aaad54f25bc645ae3b12a19e0": {
      "model_module": "@jupyter-widgets/controls",
      "model_module_version": "1.5.0",
      "model_name": "ProgressStyleModel",
      "state": {
       "description_width": ""
      }
     },
     "9b7be18deb484f59928146ff9c06e72e": {
      "model_module": "@jupyter-widgets/controls",
      "model_module_version": "1.5.0",
      "model_name": "ProgressStyleModel",
      "state": {
       "description_width": ""
      }
     },
     "9ba309272c8542728535e8d2cc36e4ea": {
      "model_module": "@jupyter-widgets/controls",
      "model_module_version": "1.5.0",
      "model_name": "DescriptionStyleModel",
      "state": {
       "description_width": ""
      }
     },
     "9bdb970d459d46f3a5a451469012e095": {
      "model_module": "@jupyter-widgets/controls",
      "model_module_version": "1.5.0",
      "model_name": "HTMLModel",
      "state": {
       "layout": "IPY_MODEL_63331232babd46b987deb60df50d96c8",
       "style": "IPY_MODEL_5bc6ebb1d2c74dd0bfbb8fc08a5f59a0",
       "value": " 3/3 [00:00&lt;00:00, 26.38it/s]"
      }
     },
     "9c245387ea914dee9323ac32467b00c1": {
      "model_module": "@jupyter-widgets/controls",
      "model_module_version": "1.5.0",
      "model_name": "HTMLModel",
      "state": {
       "layout": "IPY_MODEL_f2354e3a3d554605a6fe5467de472772",
       "style": "IPY_MODEL_23143a3929cc4e0493afd537eafaf055",
       "value": " 723/796 [00:01&lt;00:00, 670.01it/s]"
      }
     },
     "9cbf1b1a7b524b37a45e04fd5c96a0f9": {
      "model_module": "@jupyter-widgets/base",
      "model_module_version": "1.2.0",
      "model_name": "LayoutModel",
      "state": {}
     },
     "9cdc8b0b19f44b23b7e232acaad61ebb": {
      "model_module": "@jupyter-widgets/base",
      "model_module_version": "1.2.0",
      "model_name": "LayoutModel",
      "state": {}
     },
     "9dfd1eb843c543d1a8a8fcb118dd9ffb": {
      "model_module": "@jupyter-widgets/base",
      "model_module_version": "1.2.0",
      "model_name": "LayoutModel",
      "state": {}
     },
     "9e2332414d1641088959f1f1f9fefed5": {
      "model_module": "@jupyter-widgets/controls",
      "model_module_version": "1.5.0",
      "model_name": "ProgressStyleModel",
      "state": {
       "description_width": ""
      }
     },
     "9e4a7bed15b04cb0b97240e76a62f91f": {
      "model_module": "@jupyter-widgets/base",
      "model_module_version": "1.2.0",
      "model_name": "LayoutModel",
      "state": {}
     },
     "9eb285777b3c4754948c565a757bd7eb": {
      "model_module": "@jupyter-widgets/base",
      "model_module_version": "1.2.0",
      "model_name": "LayoutModel",
      "state": {}
     },
     "a0461e8f86b149dcb93de7f8c03eb849": {
      "model_module": "@jupyter-widgets/base",
      "model_module_version": "1.2.0",
      "model_name": "LayoutModel",
      "state": {}
     },
     "a09df35c5eb04c74ba32278226a7c941": {
      "model_module": "@jupyter-widgets/base",
      "model_module_version": "1.2.0",
      "model_name": "LayoutModel",
      "state": {}
     },
     "a0e9f1809d9a4a06975ad542fe2ab83a": {
      "model_module": "@jupyter-widgets/base",
      "model_module_version": "1.2.0",
      "model_name": "LayoutModel",
      "state": {}
     },
     "a0f3d075720e4ce0b9a7672bbfa4baaa": {
      "model_module": "@jupyter-widgets/base",
      "model_module_version": "1.2.0",
      "model_name": "LayoutModel",
      "state": {}
     },
     "a10da514e85648c79c3f527fed2736a1": {
      "model_module": "@jupyter-widgets/base",
      "model_module_version": "1.2.0",
      "model_name": "LayoutModel",
      "state": {}
     },
     "a14d31d1704f487c849da49c8be61c58": {
      "model_module": "@jupyter-widgets/base",
      "model_module_version": "1.2.0",
      "model_name": "LayoutModel",
      "state": {}
     },
     "a1a9efa16fa74b76847c87c49741982e": {
      "model_module": "@jupyter-widgets/controls",
      "model_module_version": "1.5.0",
      "model_name": "HTMLModel",
      "state": {
       "layout": "IPY_MODEL_111762c40c9d4133bc8207eca548192b",
       "style": "IPY_MODEL_b487bfee88ea42dabbc8d3c3bcdaaf56",
       "value": "Blasting: 100%"
      }
     },
     "a1e5a1276bdd4ee79a6a61e80d3544f9": {
      "model_module": "@jupyter-widgets/controls",
      "model_module_version": "1.5.0",
      "model_name": "HTMLModel",
      "state": {
       "layout": "IPY_MODEL_42e9014c39e6457ab8f07f4a425497c6",
       "style": "IPY_MODEL_7d4172d17db74f97abe68a5e42c6e9bb",
       "value": "Blasting pairs:  99%"
      }
     },
     "a25cf860316c446f8fbd25d5c7e17e5f": {
      "model_module": "@jupyter-widgets/controls",
      "model_module_version": "1.5.0",
      "model_name": "ProgressStyleModel",
      "state": {
       "description_width": ""
      }
     },
     "a26e69c3ba7047b6a5b8f2bd29992cdf": {
      "model_module": "@jupyter-widgets/base",
      "model_module_version": "1.2.0",
      "model_name": "LayoutModel",
      "state": {}
     },
     "a290d5ecb9f64b1aa74bc952637a626e": {
      "model_module": "@jupyter-widgets/base",
      "model_module_version": "1.2.0",
      "model_name": "LayoutModel",
      "state": {}
     },
     "a2a1393b766c42659e1b1fb20dddad34": {
      "model_module": "@jupyter-widgets/base",
      "model_module_version": "1.2.0",
      "model_name": "LayoutModel",
      "state": {}
     },
     "a2c21ce897f847408792885422d79e12": {
      "model_module": "@jupyter-widgets/controls",
      "model_module_version": "1.5.0",
      "model_name": "HTMLModel",
      "state": {
       "layout": "IPY_MODEL_5b5e231fe466435dadc22b48b0bd5a8d",
       "style": "IPY_MODEL_fdcca27caac4496aa0ddf22dd068afb8",
       "value": " 655/682 [00:02&lt;00:00, 319.90it/s]"
      }
     },
     "a303dfa154904c99b6496240cb70ffe2": {
      "model_module": "@jupyter-widgets/controls",
      "model_module_version": "1.5.0",
      "model_name": "DescriptionStyleModel",
      "state": {
       "description_width": ""
      }
     },
     "a466986276464b6d966726ea30b9198b": {
      "model_module": "@jupyter-widgets/controls",
      "model_module_version": "1.5.0",
      "model_name": "ProgressStyleModel",
      "state": {
       "description_width": ""
      }
     },
     "a47c8dcfea9f428ba328f7677ff48405": {
      "model_module": "@jupyter-widgets/base",
      "model_module_version": "1.2.0",
      "model_name": "LayoutModel",
      "state": {}
     },
     "a5032936e3f74ef0b556180d9d4444f2": {
      "model_module": "@jupyter-widgets/base",
      "model_module_version": "1.2.0",
      "model_name": "LayoutModel",
      "state": {}
     },
     "a506c1def0014df8a7354e6738092f2b": {
      "model_module": "@jupyter-widgets/controls",
      "model_module_version": "1.5.0",
      "model_name": "ProgressStyleModel",
      "state": {
       "description_width": ""
      }
     },
     "a5b0f62fda364f3aa08540ffd8a1b913": {
      "model_module": "@jupyter-widgets/base",
      "model_module_version": "1.2.0",
      "model_name": "LayoutModel",
      "state": {}
     },
     "a5dba27bf96a42b9a0c74b64e26da290": {
      "model_module": "@jupyter-widgets/controls",
      "model_module_version": "1.5.0",
      "model_name": "DescriptionStyleModel",
      "state": {
       "description_width": ""
      }
     },
     "a5f2fadc89ee4a2eb3f04c322f31b4d9": {
      "model_module": "@jupyter-widgets/base",
      "model_module_version": "1.2.0",
      "model_name": "LayoutModel",
      "state": {}
     },
     "a63fdae7bab140439cdab9606a5bfa57": {
      "model_module": "@jupyter-widgets/controls",
      "model_module_version": "1.5.0",
      "model_name": "HTMLModel",
      "state": {
       "layout": "IPY_MODEL_67f2732fb6e843ab9ef52fd0102c2da9",
       "style": "IPY_MODEL_6aebabbe911b4b879c215d5b01a5d952",
       "value": " 3/3 [00:00&lt;00:00, 26.74it/s]"
      }
     },
     "a6458e36b50348659314e3c5683b3257": {
      "model_module": "@jupyter-widgets/controls",
      "model_module_version": "1.5.0",
      "model_name": "ProgressStyleModel",
      "state": {
       "description_width": ""
      }
     },
     "a6b906a27b5d4864a7463b7a01da6d21": {
      "model_module": "@jupyter-widgets/base",
      "model_module_version": "1.2.0",
      "model_name": "LayoutModel",
      "state": {}
     },
     "a6ee6947dc5f40c9bb40665d211d127d": {
      "model_module": "@jupyter-widgets/controls",
      "model_module_version": "1.5.0",
      "model_name": "DescriptionStyleModel",
      "state": {
       "description_width": ""
      }
     },
     "a6f42152d1314355baae300a714cada5": {
      "model_module": "@jupyter-widgets/controls",
      "model_module_version": "1.5.0",
      "model_name": "DescriptionStyleModel",
      "state": {
       "description_width": ""
      }
     },
     "a80c3647fe31408b850fbebef5d7e3e7": {
      "model_module": "@jupyter-widgets/controls",
      "model_module_version": "1.5.0",
      "model_name": "HTMLModel",
      "state": {
       "layout": "IPY_MODEL_a2a1393b766c42659e1b1fb20dddad34",
       "style": "IPY_MODEL_51baece339ba4ca18feb368a27a257c5",
       "value": " 0/16129 [00:00&lt;?, ?it/s]"
      }
     },
     "a8c896d1ef174e5488b80745bdb98012": {
      "model_module": "@jupyter-widgets/controls",
      "model_module_version": "1.5.0",
      "model_name": "ProgressStyleModel",
      "state": {
       "description_width": ""
      }
     },
     "a98717fe107843d6bcb267d337335bd7": {
      "model_module": "@jupyter-widgets/base",
      "model_module_version": "1.2.0",
      "model_name": "LayoutModel",
      "state": {}
     },
     "aa83e0ee9cd6464ea97115ad30766706": {
      "model_module": "@jupyter-widgets/base",
      "model_module_version": "1.2.0",
      "model_name": "LayoutModel",
      "state": {}
     },
     "aa8ac6b16ff44e39a518bfe18cfa58dc": {
      "model_module": "@jupyter-widgets/controls",
      "model_module_version": "1.5.0",
      "model_name": "DescriptionStyleModel",
      "state": {
       "description_width": ""
      }
     },
     "aba285b6efe74a62b9ed0d7e8b2e0f48": {
      "model_module": "@jupyter-widgets/base",
      "model_module_version": "1.2.0",
      "model_name": "LayoutModel",
      "state": {}
     },
     "ac4e4a45a5d340cabdc40ee034dbe350": {
      "model_module": "@jupyter-widgets/controls",
      "model_module_version": "1.5.0",
      "model_name": "HTMLModel",
      "state": {
       "layout": "IPY_MODEL_81a73f30255a4c078b55cce6261ea1b9",
       "style": "IPY_MODEL_c5bfeb8d18f146f2ab2f2b23b5466444",
       "value": "Blasting: 100%"
      }
     },
     "acf99d33511e46b0a3ff8aa83b7845d6": {
      "model_module": "@jupyter-widgets/base",
      "model_module_version": "1.2.0",
      "model_name": "LayoutModel",
      "state": {}
     },
     "ae54f0387df342a7a868114d5db44e4e": {
      "model_module": "@jupyter-widgets/controls",
      "model_module_version": "1.5.0",
      "model_name": "HTMLModel",
      "state": {
       "layout": "IPY_MODEL_3c769976c1884cc0b2d08d87c9aef9a9",
       "style": "IPY_MODEL_3740ff6142754a998caffcc4dea42d36",
       "value": " 893/911 [00:03&lt;00:00, 338.93it/s]"
      }
     },
     "ae7b942d4c344eb0a580eb45b435eabb": {
      "model_module": "@jupyter-widgets/base",
      "model_module_version": "1.2.0",
      "model_name": "LayoutModel",
      "state": {}
     },
     "aed1cd4873e24752b730b298f32b8063": {
      "model_module": "@jupyter-widgets/base",
      "model_module_version": "1.2.0",
      "model_name": "LayoutModel",
      "state": {}
     },
     "af224c02d3ca4e1fae95cc2d1bd78863": {
      "model_module": "@jupyter-widgets/controls",
      "model_module_version": "1.5.0",
      "model_name": "HTMLModel",
      "state": {
       "layout": "IPY_MODEL_9e4a7bed15b04cb0b97240e76a62f91f",
       "style": "IPY_MODEL_7f1f93fda30e4eab90093f0c90612795",
       "value": "Blasting: 100%"
      }
     },
     "af75108e2bd64051ab5adc50e47610f6": {
      "model_module": "@jupyter-widgets/controls",
      "model_module_version": "1.5.0",
      "model_name": "DescriptionStyleModel",
      "state": {
       "description_width": ""
      }
     },
     "afdc6704b0ad4564bb688a9f94be48d2": {
      "model_module": "@jupyter-widgets/controls",
      "model_module_version": "1.5.0",
      "model_name": "ProgressStyleModel",
      "state": {
       "description_width": ""
      }
     },
     "aff1b388338345a08ea8f7fd6c68c735": {
      "model_module": "@jupyter-widgets/base",
      "model_module_version": "1.2.0",
      "model_name": "LayoutModel",
      "state": {}
     },
     "b057557df1814626925f548b141d0c08": {
      "model_module": "@jupyter-widgets/controls",
      "model_module_version": "1.5.0",
      "model_name": "DescriptionStyleModel",
      "state": {
       "description_width": ""
      }
     },
     "b189cf1ab05442dcb8caa57ed4db2a56": {
      "model_module": "@jupyter-widgets/controls",
      "model_module_version": "1.5.0",
      "model_name": "ProgressStyleModel",
      "state": {
       "description_width": ""
      }
     },
     "b2201095c19c47d9aaa96b597e1ec16d": {
      "model_module": "@jupyter-widgets/base",
      "model_module_version": "1.2.0",
      "model_name": "LayoutModel",
      "state": {}
     },
     "b27e00c58de743c0aa6097b88f593386": {
      "model_module": "@jupyter-widgets/controls",
      "model_module_version": "1.5.0",
      "model_name": "HTMLModel",
      "state": {
       "layout": "IPY_MODEL_8e5ad2f978c14e23bde6e3b1f19d7ad5",
       "style": "IPY_MODEL_1c8c6089c8ec4ebc86420dbbf90131f6",
       "value": "Blasting: 100%"
      }
     },
     "b2d60ba61604408482e3813d02abb642": {
      "model_module": "@jupyter-widgets/base",
      "model_module_version": "1.2.0",
      "model_name": "LayoutModel",
      "state": {}
     },
     "b3612f054430427d9cfd44bd9401aac0": {
      "model_module": "@jupyter-widgets/controls",
      "model_module_version": "1.5.0",
      "model_name": "DescriptionStyleModel",
      "state": {
       "description_width": ""
      }
     },
     "b380cb949c3a4d758ef2c7ff43637f81": {
      "model_module": "@jupyter-widgets/base",
      "model_module_version": "1.2.0",
      "model_name": "LayoutModel",
      "state": {}
     },
     "b487bfee88ea42dabbc8d3c3bcdaaf56": {
      "model_module": "@jupyter-widgets/controls",
      "model_module_version": "1.5.0",
      "model_name": "DescriptionStyleModel",
      "state": {
       "description_width": ""
      }
     },
     "b4dac271a0d7430c95935d2002bb52f1": {
      "model_module": "@jupyter-widgets/base",
      "model_module_version": "1.2.0",
      "model_name": "LayoutModel",
      "state": {}
     },
     "b58108f05c004d85bf3d85929456f74b": {
      "model_module": "@jupyter-widgets/controls",
      "model_module_version": "1.5.0",
      "model_name": "HTMLModel",
      "state": {
       "layout": "IPY_MODEL_a26e69c3ba7047b6a5b8f2bd29992cdf",
       "style": "IPY_MODEL_7c671166231e468dbd8c761fcd22f148",
       "value": " 0/3 [00:00&lt;?, ?it/s]"
      }
     },
     "b5ebeb99276a481395fdfbb5dc853c4b": {
      "model_module": "@jupyter-widgets/controls",
      "model_module_version": "1.5.0",
      "model_name": "ProgressStyleModel",
      "state": {
       "description_width": ""
      }
     },
     "b5f02182065d4e0d971deec04f69f307": {
      "model_module": "@jupyter-widgets/controls",
      "model_module_version": "1.5.0",
      "model_name": "DescriptionStyleModel",
      "state": {
       "description_width": ""
      }
     },
     "b80376bf11fa4e9da34f83712fbb7d16": {
      "model_module": "@jupyter-widgets/controls",
      "model_module_version": "1.5.0",
      "model_name": "FloatProgressModel",
      "state": {
       "layout": "IPY_MODEL_831d867b041a4595bfecc3703444edf7",
       "max": 3,
       "style": "IPY_MODEL_00a0e8d70b074f5ab0acc3b009743808",
       "value": 3
      }
     },
     "b89cc745bf174cafa1fd148f54b05451": {
      "model_module": "@jupyter-widgets/base",
      "model_module_version": "1.2.0",
      "model_name": "LayoutModel",
      "state": {}
     },
     "b8b7ce96dc684b5e8ab9eb1955883f24": {
      "model_module": "@jupyter-widgets/base",
      "model_module_version": "1.2.0",
      "model_name": "LayoutModel",
      "state": {}
     },
     "b92b1a87b72c4c80aecaf7c8bf3ab815": {
      "model_module": "@jupyter-widgets/controls",
      "model_module_version": "1.5.0",
      "model_name": "HTMLModel",
      "state": {
       "layout": "IPY_MODEL_a6b906a27b5d4864a7463b7a01da6d21",
       "style": "IPY_MODEL_6f2f4b6a86f24a8fb77c04e1a1455922",
       "value": " 1094/1123 [00:01&lt;00:00, 747.35it/s]"
      }
     },
     "b96346111b5840148711081dec1df881": {
      "model_module": "@jupyter-widgets/controls",
      "model_module_version": "1.5.0",
      "model_name": "ProgressStyleModel",
      "state": {
       "description_width": ""
      }
     },
     "b9bcd3bae0b74c3f9871ce3255e04a78": {
      "model_module": "@jupyter-widgets/base",
      "model_module_version": "1.2.0",
      "model_name": "LayoutModel",
      "state": {}
     },
     "ba855d0c6ba6441b8b1d7f2efa91a0b1": {
      "model_module": "@jupyter-widgets/base",
      "model_module_version": "1.2.0",
      "model_name": "LayoutModel",
      "state": {}
     },
     "baa5f5e10a2c43ea9062fc3589d9d999": {
      "model_module": "@jupyter-widgets/controls",
      "model_module_version": "1.5.0",
      "model_name": "FloatProgressModel",
      "state": {
       "layout": "IPY_MODEL_a98717fe107843d6bcb267d337335bd7",
       "max": 848,
       "style": "IPY_MODEL_7e5274ef7bc34fadb4dd58167568e66a",
       "value": 848
      }
     },
     "bade594b79524a4badf1af9537f19db7": {
      "model_module": "@jupyter-widgets/controls",
      "model_module_version": "1.5.0",
      "model_name": "FloatProgressModel",
      "state": {
       "layout": "IPY_MODEL_85739f9810f541f796fb97b1694e4f60",
       "max": 3,
       "style": "IPY_MODEL_da1ea8b9f34e42ea92e18ed15fcb5c94",
       "value": 3
      }
     },
     "bb26f18498ec446bbc90703badfc1532": {
      "model_module": "@jupyter-widgets/base",
      "model_module_version": "1.2.0",
      "model_name": "LayoutModel",
      "state": {}
     },
     "bb2c551256104d04bfceb34a881b457c": {
      "model_module": "@jupyter-widgets/controls",
      "model_module_version": "1.5.0",
      "model_name": "DescriptionStyleModel",
      "state": {
       "description_width": ""
      }
     },
     "bb56449b651347d3ac0d844ac6501ec9": {
      "model_module": "@jupyter-widgets/base",
      "model_module_version": "1.2.0",
      "model_name": "LayoutModel",
      "state": {}
     },
     "bbabb47560524f1b83d180e4b13210d2": {
      "model_module": "@jupyter-widgets/base",
      "model_module_version": "1.2.0",
      "model_name": "LayoutModel",
      "state": {}
     },
     "bbbedd4348b140f2b5ba6631fdd3ec98": {
      "model_module": "@jupyter-widgets/controls",
      "model_module_version": "1.5.0",
      "model_name": "HTMLModel",
      "state": {
       "layout": "IPY_MODEL_5c9345a6a4b6404aa5b5bd3c2a76ceef",
       "style": "IPY_MODEL_543ba1a367334762acb283ebc91f6f2d",
       "value": "Plot neurons: 100%"
      }
     },
     "bc064650847f480d8301965e916171aa": {
      "model_module": "@jupyter-widgets/controls",
      "model_module_version": "1.5.0",
      "model_name": "HTMLModel",
      "state": {
       "layout": "IPY_MODEL_3abc96d9d7db438fa5b70df750737c6c",
       "style": "IPY_MODEL_3396cdf83c8b465b82047ef1e31ae6c7",
       "value": "downsample:   0%"
      }
     },
     "bc471065e8904e9eade97caf27ca534c": {
      "model_module": "@jupyter-widgets/controls",
      "model_module_version": "1.5.0",
      "model_name": "DescriptionStyleModel",
      "state": {
       "description_width": ""
      }
     },
     "bc52551b495e422f83b8a3e0dc973d96": {
      "model_module": "@jupyter-widgets/base",
      "model_module_version": "1.2.0",
      "model_name": "LayoutModel",
      "state": {}
     },
     "bcb430a44d1a455d9c9cd207bbc8402a": {
      "model_module": "@jupyter-widgets/controls",
      "model_module_version": "1.5.0",
      "model_name": "ProgressStyleModel",
      "state": {
       "description_width": ""
      }
     },
     "bce11ad1f54044339695e761550d7cb6": {
      "model_module": "@jupyter-widgets/base",
      "model_module_version": "1.2.0",
      "model_name": "LayoutModel",
      "state": {}
     },
     "bd7da84c99ff4c7e8eafa8beed3a7418": {
      "model_module": "@jupyter-widgets/controls",
      "model_module_version": "1.5.0",
      "model_name": "HTMLModel",
      "state": {
       "layout": "IPY_MODEL_ef5730a3ba9e4f5bbc2d3af63dac8791",
       "style": "IPY_MODEL_fde714ee187f4aa8b382ec7168eeb4bc",
       "value": "Blasting pairs:  97%"
      }
     },
     "bde0bde4f422434688006a7df4f518f8": {
      "model_module": "@jupyter-widgets/base",
      "model_module_version": "1.2.0",
      "model_name": "LayoutModel",
      "state": {}
     },
     "be9f6a84dd464bb7bc33788b7336c6b7": {
      "model_module": "@jupyter-widgets/base",
      "model_module_version": "1.2.0",
      "model_name": "LayoutModel",
      "state": {}
     },
     "beba175b56f5479fb346a35e5500769e": {
      "model_module": "@jupyter-widgets/controls",
      "model_module_version": "1.5.0",
      "model_name": "HTMLModel",
      "state": {
       "layout": "IPY_MODEL_7f8da48c59e44ec39c3dfaf4cb98deb4",
       "style": "IPY_MODEL_c0eb392015bc48c09caca91cf54ad0c1",
       "value": " 757/779 [00:01&lt;00:00, 649.20it/s]"
      }
     },
     "bf07ccd4c584455e9b92c27d6929d29b": {
      "model_module": "@jupyter-widgets/controls",
      "model_module_version": "1.5.0",
      "model_name": "DescriptionStyleModel",
      "state": {
       "description_width": ""
      }
     },
     "bf6f5e15afc841a1a5b61d13fb5f94b9": {
      "model_module": "@jupyter-widgets/base",
      "model_module_version": "1.2.0",
      "model_name": "LayoutModel",
      "state": {}
     },
     "bfb269813a1c449b8ce12f6f375459ec": {
      "model_module": "@jupyter-widgets/controls",
      "model_module_version": "1.5.0",
      "model_name": "HTMLModel",
      "state": {
       "layout": "IPY_MODEL_01b0e5edb8974a5a9ef4a9fe1dc5ac68",
       "style": "IPY_MODEL_d12c10eeb06048f8b2d559cd7152768a",
       "value": "Blasting: 100%"
      }
     },
     "bfb6a095c4ac4776ad1d34aa62c08336": {
      "model_module": "@jupyter-widgets/controls",
      "model_module_version": "1.5.0",
      "model_name": "DescriptionStyleModel",
      "state": {
       "description_width": ""
      }
     },
     "c075d119de4340e88968ebfe8642368d": {
      "model_module": "@jupyter-widgets/controls",
      "model_module_version": "1.5.0",
      "model_name": "HTMLModel",
      "state": {
       "layout": "IPY_MODEL_fc1c32411bc845e09bfbb25cb5de539e",
       "style": "IPY_MODEL_8066b1341998493dbb9fb435dd210417",
       "value": "Blasting pairs:  96%"
      }
     },
     "c0eb392015bc48c09caca91cf54ad0c1": {
      "model_module": "@jupyter-widgets/controls",
      "model_module_version": "1.5.0",
      "model_name": "DescriptionStyleModel",
      "state": {
       "description_width": ""
      }
     },
     "c112f87f212c4e849b46036a4d05fb91": {
      "model_module": "@jupyter-widgets/base",
      "model_module_version": "1.2.0",
      "model_name": "LayoutModel",
      "state": {}
     },
     "c19bf213f28d49a187418311b577fcd4": {
      "model_module": "@jupyter-widgets/controls",
      "model_module_version": "1.5.0",
      "model_name": "HTMLModel",
      "state": {
       "layout": "IPY_MODEL_1f211afdff9645d7b96a686debc1f5e1",
       "style": "IPY_MODEL_149ea54eff4346a7b1e7bf3ce479a191",
       "value": " 3/3 [00:09&lt;00:00,  2.97s/it]"
      }
     },
     "c1dd2561e2dd4922ac0251a6837572eb": {
      "model_module": "@jupyter-widgets/base",
      "model_module_version": "1.2.0",
      "model_name": "LayoutModel",
      "state": {}
     },
     "c20b3e09fa3b4522a6f3746ed460890a": {
      "model_module": "@jupyter-widgets/base",
      "model_module_version": "1.2.0",
      "model_name": "LayoutModel",
      "state": {}
     },
     "c2285f49b11c45a285bf9d7c7ea2e436": {
      "model_module": "@jupyter-widgets/base",
      "model_module_version": "1.2.0",
      "model_name": "LayoutModel",
      "state": {}
     },
     "c2e3f5fb754a42b9a89a4232c40ed289": {
      "model_module": "@jupyter-widgets/base",
      "model_module_version": "1.2.0",
      "model_name": "LayoutModel",
      "state": {}
     },
     "c34236cc184741b3ae1ddf099f5038e1": {
      "model_module": "@jupyter-widgets/controls",
      "model_module_version": "1.5.0",
      "model_name": "HTMLModel",
      "state": {
       "layout": "IPY_MODEL_321b62999143480a8e88262fefd57412",
       "style": "IPY_MODEL_82a5010885c44fc98cb7762c7ce5346b",
       "value": "Mirroring: 100%"
      }
     },
     "c4d1a470bbf548a6843ed399b27974b8": {
      "model_module": "@jupyter-widgets/controls",
      "model_module_version": "1.5.0",
      "model_name": "ProgressStyleModel",
      "state": {
       "description_width": ""
      }
     },
     "c561830ace31450bb8b2643325ca78e0": {
      "model_module": "@jupyter-widgets/base",
      "model_module_version": "1.2.0",
      "model_name": "LayoutModel",
      "state": {}
     },
     "c59ec550c74e43c58bff7f66935c02e8": {
      "model_module": "@jupyter-widgets/base",
      "model_module_version": "1.2.0",
      "model_name": "LayoutModel",
      "state": {}
     },
     "c5bfeb8d18f146f2ab2f2b23b5466444": {
      "model_module": "@jupyter-widgets/controls",
      "model_module_version": "1.5.0",
      "model_name": "DescriptionStyleModel",
      "state": {
       "description_width": ""
      }
     },
     "c5d4f8e2951548dc8d2dc6a45302986a": {
      "model_module": "@jupyter-widgets/base",
      "model_module_version": "1.2.0",
      "model_name": "LayoutModel",
      "state": {}
     },
     "c701172e68bf4d65be5097deee2d24ad": {
      "model_module": "@jupyter-widgets/controls",
      "model_module_version": "1.5.0",
      "model_name": "ProgressStyleModel",
      "state": {
       "description_width": ""
      }
     },
     "c701b232c4534e3096e2cab536bc13b2": {
      "model_module": "@jupyter-widgets/controls",
      "model_module_version": "1.5.0",
      "model_name": "HTMLModel",
      "state": {
       "layout": "IPY_MODEL_0d1a43705c654a3c9b9340a8debbb651",
       "style": "IPY_MODEL_e057ba4946a94c138c076adbb520523b",
       "value": "Blasting: 100%"
      }
     },
     "c7b0de3443684ac1a7d00c4d5d124b74": {
      "model_module": "@jupyter-widgets/base",
      "model_module_version": "1.2.0",
      "model_name": "LayoutModel",
      "state": {}
     },
     "c7ecaebd65864a6c8a848e213649b962": {
      "model_module": "@jupyter-widgets/controls",
      "model_module_version": "1.5.0",
      "model_name": "HTMLModel",
      "state": {
       "layout": "IPY_MODEL_c89f5692cae046da85c1297da684948c",
       "style": "IPY_MODEL_503d1ea43808402a982e67a2ab01c09d",
       "value": "Blasting: 100%"
      }
     },
     "c89172ac4b6e4d7c827bdb6069a2b1be": {
      "model_module": "@jupyter-widgets/controls",
      "model_module_version": "1.5.0",
      "model_name": "HTMLModel",
      "state": {
       "layout": "IPY_MODEL_7c6a3b14b0ca4409a87f9f9b0f6259aa",
       "style": "IPY_MODEL_f007a2e4cb4045cdbd8183966802e52e",
       "value": "Blasting: 100%"
      }
     },
     "c89f5692cae046da85c1297da684948c": {
      "model_module": "@jupyter-widgets/base",
      "model_module_version": "1.2.0",
      "model_name": "LayoutModel",
      "state": {}
     },
     "c96689e12508476eb1a445ce83e532d4": {
      "model_module": "@jupyter-widgets/controls",
      "model_module_version": "1.5.0",
      "model_name": "DescriptionStyleModel",
      "state": {
       "description_width": ""
      }
     },
     "c97a6b86da3843cd8c9c3ccb054ffa7f": {
      "model_module": "@jupyter-widgets/base",
      "model_module_version": "1.2.0",
      "model_name": "LayoutModel",
      "state": {}
     },
     "c9d7ad617c3a43258c39b99cc04e629d": {
      "model_module": "@jupyter-widgets/controls",
      "model_module_version": "1.5.0",
      "model_name": "FloatProgressModel",
      "state": {
       "layout": "IPY_MODEL_dad38410a0de4caabdafc4bbf77bffe7",
       "max": 3,
       "style": "IPY_MODEL_bcb430a44d1a455d9c9cd207bbc8402a",
       "value": 3
      }
     },
     "cabbdd7b844c4841979c56f40a888bfd": {
      "model_module": "@jupyter-widgets/base",
      "model_module_version": "1.2.0",
      "model_name": "LayoutModel",
      "state": {}
     },
     "cad6d3080f254db494522f9171a192ac": {
      "model_module": "@jupyter-widgets/controls",
      "model_module_version": "1.5.0",
      "model_name": "ProgressStyleModel",
      "state": {
       "description_width": ""
      }
     },
     "cae736255f834e6cae3c4dead2f58604": {
      "model_module": "@jupyter-widgets/controls",
      "model_module_version": "1.5.0",
      "model_name": "DescriptionStyleModel",
      "state": {
       "description_width": ""
      }
     },
     "cb892a4297fe44d1b916bc500f62950e": {
      "model_module": "@jupyter-widgets/controls",
      "model_module_version": "1.5.0",
      "model_name": "HTMLModel",
      "state": {
       "layout": "IPY_MODEL_c59ec550c74e43c58bff7f66935c02e8",
       "style": "IPY_MODEL_b3612f054430427d9cfd44bd9401aac0",
       "value": "Plot neurons: 100%"
      }
     },
     "cbcb78971baf4086bd3556e7b31e648e": {
      "model_module": "@jupyter-widgets/controls",
      "model_module_version": "1.5.0",
      "model_name": "DescriptionStyleModel",
      "state": {
       "description_width": ""
      }
     },
     "cbd2f0c0324a4e79a1304720e7115f68": {
      "model_module": "@jupyter-widgets/base",
      "model_module_version": "1.2.0",
      "model_name": "LayoutModel",
      "state": {}
     },
     "cbe88e12de52458381d3ca9827e041c1": {
      "model_module": "@jupyter-widgets/controls",
      "model_module_version": "1.5.0",
      "model_name": "DescriptionStyleModel",
      "state": {
       "description_width": ""
      }
     },
     "cc308623ee644da7b33f2bd9710d6cd0": {
      "model_module": "@jupyter-widgets/base",
      "model_module_version": "1.2.0",
      "model_name": "LayoutModel",
      "state": {}
     },
     "cc408ba8307849af8dfe25fc02f52632": {
      "model_module": "@jupyter-widgets/controls",
      "model_module_version": "1.5.0",
      "model_name": "HTMLModel",
      "state": {
       "layout": "IPY_MODEL_f831bb4fd8b04ca0b6429d5c524ea2d4",
       "style": "IPY_MODEL_f21fafc4bef748afbce9b65d5385dfb2",
       "value": "Blasting pairs:  96%"
      }
     },
     "cc9305f9847440d3b1a2b19cb8960771": {
      "model_module": "@jupyter-widgets/base",
      "model_module_version": "1.2.0",
      "model_name": "LayoutModel",
      "state": {}
     },
     "ccb6fa2d66f74cdc93031e202543fa78": {
      "model_module": "@jupyter-widgets/controls",
      "model_module_version": "1.5.0",
      "model_name": "ProgressStyleModel",
      "state": {
       "description_width": ""
      }
     },
     "cdc5449fb7314af9b548e0732259c5e8": {
      "model_module": "@jupyter-widgets/base",
      "model_module_version": "1.2.0",
      "model_name": "LayoutModel",
      "state": {}
     },
     "cedab3b8add2401b9e2989ac663573a6": {
      "model_module": "@jupyter-widgets/base",
      "model_module_version": "1.2.0",
      "model_name": "LayoutModel",
      "state": {}
     },
     "cf6b812996374e468b90924e26000e59": {
      "model_module": "@jupyter-widgets/base",
      "model_module_version": "1.2.0",
      "model_name": "LayoutModel",
      "state": {}
     },
     "cfa8eb2fb31b419d860fd22dceb57ccf": {
      "model_module": "@jupyter-widgets/controls",
      "model_module_version": "1.5.0",
      "model_name": "ProgressStyleModel",
      "state": {
       "description_width": ""
      }
     },
     "cfae71a65ce842ba804c5316cffe7063": {
      "model_module": "@jupyter-widgets/base",
      "model_module_version": "1.2.0",
      "model_name": "LayoutModel",
      "state": {}
     },
     "cfaf5b8163b44c63a3afa70299d98f1c": {
      "model_module": "@jupyter-widgets/controls",
      "model_module_version": "1.5.0",
      "model_name": "FloatProgressModel",
      "state": {
       "layout": "IPY_MODEL_0e8eb4eec79349b5a2ea454e8547c661",
       "max": 911,
       "style": "IPY_MODEL_b96346111b5840148711081dec1df881",
       "value": 911
      }
     },
     "d0b2228b7cfe453bbb52a5b7922bea14": {
      "model_module": "@jupyter-widgets/controls",
      "model_module_version": "1.5.0",
      "model_name": "HTMLModel",
      "state": {
       "layout": "IPY_MODEL_a47c8dcfea9f428ba328f7677ff48405",
       "style": "IPY_MODEL_4e039e966a124d918cfc09b3ec1a69ff",
       "value": " 3/3 [00:02&lt;00:00,  1.07it/s]"
      }
     },
     "d12c10eeb06048f8b2d559cd7152768a": {
      "model_module": "@jupyter-widgets/controls",
      "model_module_version": "1.5.0",
      "model_name": "DescriptionStyleModel",
      "state": {
       "description_width": ""
      }
     },
     "d13750ee12094b7e8e8a28a6ee25615c": {
      "model_module": "@jupyter-widgets/controls",
      "model_module_version": "1.5.0",
      "model_name": "ProgressStyleModel",
      "state": {
       "description_width": ""
      }
     },
     "d19bf6712cfa423f92a770dae0902f9a": {
      "model_module": "@jupyter-widgets/base",
      "model_module_version": "1.2.0",
      "model_name": "LayoutModel",
      "state": {}
     },
     "d2142f9c77fa49318180dcb144de228b": {
      "model_module": "@jupyter-widgets/base",
      "model_module_version": "1.2.0",
      "model_name": "LayoutModel",
      "state": {}
     },
     "d23223ad2f5d45588fe21a245bddd0da": {
      "model_module": "@jupyter-widgets/controls",
      "model_module_version": "1.5.0",
      "model_name": "ProgressStyleModel",
      "state": {
       "description_width": ""
      }
     },
     "d299d8b90c70486ca91fc6b87677727f": {
      "model_module": "@jupyter-widgets/base",
      "model_module_version": "1.2.0",
      "model_name": "LayoutModel",
      "state": {}
     },
     "d3806750de28460da92a3c32dae9b0ce": {
      "model_module": "@jupyter-widgets/controls",
      "model_module_version": "1.5.0",
      "model_name": "HTMLModel",
      "state": {
       "layout": "IPY_MODEL_b4dac271a0d7430c95935d2002bb52f1",
       "style": "IPY_MODEL_60cb591abda547db9441da8684c179bc",
       "value": " 3/3 [00:00&lt;00:00, 26.87it/s]"
      }
     },
     "d41a7f4008704ae994417a9d35a80c2e": {
      "model_module": "@jupyter-widgets/base",
      "model_module_version": "1.2.0",
      "model_name": "LayoutModel",
      "state": {}
     },
     "d4b024daa4524c7cbba344ac8b27b155": {
      "model_module": "@jupyter-widgets/base",
      "model_module_version": "1.2.0",
      "model_name": "LayoutModel",
      "state": {}
     },
     "d556333bcc764ddd91bee6337886f22e": {
      "model_module": "@jupyter-widgets/controls",
      "model_module_version": "1.5.0",
      "model_name": "ProgressStyleModel",
      "state": {
       "description_width": ""
      }
     },
     "d5d1d99de3da4ada9c3e3692f7b9e475": {
      "model_module": "@jupyter-widgets/controls",
      "model_module_version": "1.5.0",
      "model_name": "FloatProgressModel",
      "state": {
       "layout": "IPY_MODEL_27a2febcb24545248f0971dc3e3cd2e4",
       "max": 16129,
       "style": "IPY_MODEL_ccb6fa2d66f74cdc93031e202543fa78",
       "value": 16129
      }
     },
     "d6255a946ab04fe9b0e76acb660b5c61": {
      "model_module": "@jupyter-widgets/base",
      "model_module_version": "1.2.0",
      "model_name": "LayoutModel",
      "state": {}
     },
     "d7668c5da30b4297ae8357590f425243": {
      "model_module": "@jupyter-widgets/base",
      "model_module_version": "1.2.0",
      "model_name": "LayoutModel",
      "state": {}
     },
     "d81c99acc3794aca91349aebb448e194": {
      "model_module": "@jupyter-widgets/controls",
      "model_module_version": "1.5.0",
      "model_name": "DescriptionStyleModel",
      "state": {
       "description_width": ""
      }
     },
     "d83a0069e0d64c10b283c95e2cd6f197": {
      "model_module": "@jupyter-widgets/controls",
      "model_module_version": "1.5.0",
      "model_name": "DescriptionStyleModel",
      "state": {
       "description_width": ""
      }
     },
     "d98724bfbc1148b6bd033347d5c02396": {
      "model_module": "@jupyter-widgets/base",
      "model_module_version": "1.2.0",
      "model_name": "LayoutModel",
      "state": {}
     },
     "d989a652d46947799cf6cbe4dcbbf4bc": {
      "model_module": "@jupyter-widgets/base",
      "model_module_version": "1.2.0",
      "model_name": "LayoutModel",
      "state": {}
     },
     "da1ea8b9f34e42ea92e18ed15fcb5c94": {
      "model_module": "@jupyter-widgets/controls",
      "model_module_version": "1.5.0",
      "model_name": "ProgressStyleModel",
      "state": {
       "description_width": ""
      }
     },
     "daa1057652e84dc5bc8906e260b7dd96": {
      "model_module": "@jupyter-widgets/controls",
      "model_module_version": "1.5.0",
      "model_name": "HTMLModel",
      "state": {
       "layout": "IPY_MODEL_9cbf1b1a7b524b37a45e04fd5c96a0f9",
       "style": "IPY_MODEL_1f3c8fd6d0114ad5babe498b31352d71",
       "value": "Blasting: 100%"
      }
     },
     "dad38410a0de4caabdafc4bbf77bffe7": {
      "model_module": "@jupyter-widgets/base",
      "model_module_version": "1.2.0",
      "model_name": "LayoutModel",
      "state": {}
     },
     "dae87d4236c741c2be12f09aafa6d4bc": {
      "model_module": "@jupyter-widgets/base",
      "model_module_version": "1.2.0",
      "model_name": "LayoutModel",
      "state": {}
     },
     "dc544a21213c4304bb05fd07f33f7150": {
      "model_module": "@jupyter-widgets/base",
      "model_module_version": "1.2.0",
      "model_name": "LayoutModel",
      "state": {}
     },
     "dd4d5bf61d3846a5a4f8f5a5b33a81c6": {
      "model_module": "@jupyter-widgets/base",
      "model_module_version": "1.2.0",
      "model_name": "LayoutModel",
      "state": {}
     },
     "dd79d85e93c6482a91835b0680b34215": {
      "model_module": "@jupyter-widgets/base",
      "model_module_version": "1.2.0",
      "model_name": "LayoutModel",
      "state": {}
     },
     "dde51b47d3ac4db599fa5f1e351dae0a": {
      "model_module": "@jupyter-widgets/controls",
      "model_module_version": "1.5.0",
      "model_name": "DescriptionStyleModel",
      "state": {
       "description_width": ""
      }
     },
     "de133877b91e46d5b51095f3f7a986e2": {
      "model_module": "@jupyter-widgets/controls",
      "model_module_version": "1.5.0",
      "model_name": "HTMLModel",
      "state": {
       "layout": "IPY_MODEL_cedab3b8add2401b9e2989ac663573a6",
       "style": "IPY_MODEL_f28c80473d644ca39c6351f241206267",
       "value": " 3/3 [00:01&lt;00:00,  1.80it/s]"
      }
     },
     "de23947e97c84e389e174c6b2be48f40": {
      "model_module": "@jupyter-widgets/controls",
      "model_module_version": "1.5.0",
      "model_name": "HTMLModel",
      "state": {
       "layout": "IPY_MODEL_dc544a21213c4304bb05fd07f33f7150",
       "style": "IPY_MODEL_f9456862d4694e09bc55cdd941ae06d3",
       "value": "Dotprops:   0%"
      }
     },
     "dea365ea41b44604b1f7915994c6d73c": {
      "model_module": "@jupyter-widgets/base",
      "model_module_version": "1.2.0",
      "model_name": "LayoutModel",
      "state": {}
     },
     "df7d76444a834145bebf47531fcd17e2": {
      "model_module": "@jupyter-widgets/controls",
      "model_module_version": "1.5.0",
      "model_name": "ProgressStyleModel",
      "state": {
       "description_width": ""
      }
     },
     "dfb6f90724e44567b61c9c9ea0ed9268": {
      "model_module": "@jupyter-widgets/base",
      "model_module_version": "1.2.0",
      "model_name": "LayoutModel",
      "state": {}
     },
     "dfe452c541f04c81b1846b3a3cf8585f": {
      "model_module": "@jupyter-widgets/controls",
      "model_module_version": "1.5.0",
      "model_name": "DescriptionStyleModel",
      "state": {
       "description_width": ""
      }
     },
     "e00507f701f1420fa075734f72857ed8": {
      "model_module": "@jupyter-widgets/base",
      "model_module_version": "1.2.0",
      "model_name": "LayoutModel",
      "state": {}
     },
     "e057ba4946a94c138c076adbb520523b": {
      "model_module": "@jupyter-widgets/controls",
      "model_module_version": "1.5.0",
      "model_name": "DescriptionStyleModel",
      "state": {
       "description_width": ""
      }
     },
     "e10e2cbae6e94604b97a87a764a86174": {
      "model_module": "@jupyter-widgets/controls",
      "model_module_version": "1.5.0",
      "model_name": "FloatProgressModel",
      "state": {
       "layout": "IPY_MODEL_7d1b181d7cc643ffbd413f82798ee6a2",
       "max": 3,
       "style": "IPY_MODEL_925a966a4993485598fd212e9a0464b1",
       "value": 3
      }
     },
     "e11f150013c54e8fa60a0b6e4570ce48": {
      "model_module": "@jupyter-widgets/base",
      "model_module_version": "1.2.0",
      "model_name": "LayoutModel",
      "state": {}
     },
     "e12ce3461fd648538a706786de1d7528": {
      "model_module": "@jupyter-widgets/controls",
      "model_module_version": "1.5.0",
      "model_name": "FloatProgressModel",
      "state": {
       "layout": "IPY_MODEL_ec9b3dae3848412db7cd88996fcc9802",
       "max": 682,
       "style": "IPY_MODEL_6e2bcebc48344ee4860e20c145e190ed",
       "value": 682
      }
     },
     "e1407a55771144cb9aa2a1842b689d28": {
      "model_module": "@jupyter-widgets/controls",
      "model_module_version": "1.5.0",
      "model_name": "ProgressStyleModel",
      "state": {
       "description_width": ""
      }
     },
     "e285ec2161514c9385376f47cd6c5110": {
      "model_module": "@jupyter-widgets/controls",
      "model_module_version": "1.5.0",
      "model_name": "HTMLModel",
      "state": {
       "layout": "IPY_MODEL_7401e77faf8a47638e953cfb52237b5c",
       "style": "IPY_MODEL_3645325467234d19b83bda410d45168d",
       "value": "Xforming: 100%"
      }
     },
     "e28cde8315f248c2984dc8e50872bf1a": {
      "model_module": "@jupyter-widgets/controls",
      "model_module_version": "1.5.0",
      "model_name": "FloatProgressModel",
      "state": {
       "layout": "IPY_MODEL_c97a6b86da3843cd8c9c3ccb054ffa7f",
       "max": 16129,
       "style": "IPY_MODEL_2b0254a8e849472685ff7fe4b1d11837",
       "value": 16129
      }
     },
     "e2ad7ad2f4db4b8280038655df5a9788": {
      "model_module": "@jupyter-widgets/controls",
      "model_module_version": "1.5.0",
      "model_name": "HTMLModel",
      "state": {
       "layout": "IPY_MODEL_e93899f060ba42d5aa082e1f1179564c",
       "style": "IPY_MODEL_0a2abd30b5424156b45053ac56593d92",
       "value": "Blasting pairs:  93%"
      }
     },
     "e2d89e23b6294d6c859e7bcef7cc0cd2": {
      "model_module": "@jupyter-widgets/controls",
      "model_module_version": "1.5.0",
      "model_name": "DescriptionStyleModel",
      "state": {
       "description_width": ""
      }
     },
     "e3468a6bd63a4df2b24859fa951c432c": {
      "model_module": "@jupyter-widgets/controls",
      "model_module_version": "1.5.0",
      "model_name": "FloatProgressModel",
      "state": {
       "layout": "IPY_MODEL_383c696897a14a0c879fc5fcf3bc6aec",
       "max": 4,
       "style": "IPY_MODEL_8d3d28b0d09c464c96a030ad755f24ec",
       "value": 4
      }
     },
     "e35f0336d08e497a8d7d13b1742740f1": {
      "model_module": "@jupyter-widgets/base",
      "model_module_version": "1.2.0",
      "model_name": "LayoutModel",
      "state": {}
     },
     "e376fc13f385471686bc9bfad2cbfc25": {
      "model_module": "@jupyter-widgets/controls",
      "model_module_version": "1.5.0",
      "model_name": "FloatProgressModel",
      "state": {
       "layout": "IPY_MODEL_917d9839e4854aeb8e2ba3995b081fc5",
       "max": 3,
       "style": "IPY_MODEL_4d2cfe74f3294880a6deb8a291255879",
       "value": 3
      }
     },
     "e441c88ac54943c1a06eb2e11dfd0f8d": {
      "model_module": "@jupyter-widgets/controls",
      "model_module_version": "1.5.0",
      "model_name": "FloatProgressModel",
      "state": {
       "layout": "IPY_MODEL_8607d31a43114d9bb237ec7ec1d68cb7",
       "max": 3,
       "style": "IPY_MODEL_9b7be18deb484f59928146ff9c06e72e",
       "value": 3
      }
     },
     "e5460a80def1476092c068ca015029a0": {
      "model_module": "@jupyter-widgets/base",
      "model_module_version": "1.2.0",
      "model_name": "LayoutModel",
      "state": {}
     },
     "e6156b091823466eb509d495d1c940df": {
      "model_module": "@jupyter-widgets/controls",
      "model_module_version": "1.5.0",
      "model_name": "HTMLModel",
      "state": {
       "layout": "IPY_MODEL_cbd2f0c0324a4e79a1304720e7115f68",
       "style": "IPY_MODEL_f8343a56a33e4e7696815634830c1dee",
       "value": " 3/3 [00:01&lt;00:00,  1.77it/s]"
      }
     },
     "e634b0655f8044429dfa4c3223f0e051": {
      "model_module": "@jupyter-widgets/base",
      "model_module_version": "1.2.0",
      "model_name": "LayoutModel",
      "state": {}
     },
     "e76e84e8d9f94362b0dae8ded546185e": {
      "model_module": "@jupyter-widgets/base",
      "model_module_version": "1.2.0",
      "model_name": "LayoutModel",
      "state": {}
     },
     "e7e64b1320764544923a8acfd958a41b": {
      "model_module": "@jupyter-widgets/controls",
      "model_module_version": "1.5.0",
      "model_name": "HTMLModel",
      "state": {
       "layout": "IPY_MODEL_8a9ec93216cf4c9baf0edc258e582400",
       "style": "IPY_MODEL_a6ee6947dc5f40c9bb40665d211d127d",
       "value": " 3/3 [00:01&lt;00:00,  2.81it/s]"
      }
     },
     "e93899f060ba42d5aa082e1f1179564c": {
      "model_module": "@jupyter-widgets/base",
      "model_module_version": "1.2.0",
      "model_name": "LayoutModel",
      "state": {}
     },
     "e9795185911247a787dbd91dae4729e9": {
      "model_module": "@jupyter-widgets/controls",
      "model_module_version": "1.5.0",
      "model_name": "DescriptionStyleModel",
      "state": {
       "description_width": ""
      }
     },
     "e9a17c097d0842eaa9c7230d1862d9c9": {
      "model_module": "@jupyter-widgets/base",
      "model_module_version": "1.2.0",
      "model_name": "LayoutModel",
      "state": {}
     },
     "e9d9f8e6381c4edbb23265761ec730f1": {
      "model_module": "@jupyter-widgets/controls",
      "model_module_version": "1.5.0",
      "model_name": "HTMLModel",
      "state": {
       "layout": "IPY_MODEL_6a0affe9943f44b99fd2092b5fe075ec",
       "style": "IPY_MODEL_21f8fd557c344f0a958ddf30558db0db",
       "value": " 3/3 [00:07&lt;00:00,  2.40s/it]"
      }
     },
     "eabb4c431dcd4558bf1575d2473137ea": {
      "model_module": "@jupyter-widgets/controls",
      "model_module_version": "1.5.0",
      "model_name": "HTMLModel",
      "state": {
       "layout": "IPY_MODEL_9dfd1eb843c543d1a8a8fcb118dd9ffb",
       "style": "IPY_MODEL_a6f42152d1314355baae300a714cada5",
       "value": "Dotprops:   0%"
      }
     },
     "ebc1e70d84c449ee8bf536d58738fe04": {
      "model_module": "@jupyter-widgets/controls",
      "model_module_version": "1.5.0",
      "model_name": "FloatProgressModel",
      "state": {
       "layout": "IPY_MODEL_94dc20e13591425fa031d0d9f29b973e",
       "max": 3,
       "style": "IPY_MODEL_d23223ad2f5d45588fe21a245bddd0da",
       "value": 3
      }
     },
     "ebdbdf022b01419ebf4967486f53e35d": {
      "model_module": "@jupyter-widgets/controls",
      "model_module_version": "1.5.0",
      "model_name": "HTMLModel",
      "state": {
       "layout": "IPY_MODEL_a290d5ecb9f64b1aa74bc952637a626e",
       "style": "IPY_MODEL_72205eefda664465921b64807c91977b",
       "value": " 820/828 [00:02&lt;00:00, 321.27it/s]"
      }
     },
     "ec79cc31a3b549aaadcc7b425db823ca": {
      "model_module": "@jupyter-widgets/controls",
      "model_module_version": "1.5.0",
      "model_name": "FloatProgressModel",
      "state": {
       "layout": "IPY_MODEL_f1c22d2605ac43099ea5d086077fc845",
       "max": 3,
       "style": "IPY_MODEL_1f29e4669ffb4006a4d116e86ec9c670",
       "value": 3
      }
     },
     "ec9b3dae3848412db7cd88996fcc9802": {
      "model_module": "@jupyter-widgets/base",
      "model_module_version": "1.2.0",
      "model_name": "LayoutModel",
      "state": {}
     },
     "ecb5d71a46c943448dc96dcb9ca482e3": {
      "model_module": "@jupyter-widgets/base",
      "model_module_version": "1.2.0",
      "model_name": "LayoutModel",
      "state": {}
     },
     "ed4c4bd7029a46f4ae23006f4498c600": {
      "model_module": "@jupyter-widgets/controls",
      "model_module_version": "1.5.0",
      "model_name": "ProgressStyleModel",
      "state": {
       "description_width": ""
      }
     },
     "ed7a4578d1494b579b15b00a8ca9461b": {
      "model_module": "@jupyter-widgets/controls",
      "model_module_version": "1.5.0",
      "model_name": "ProgressStyleModel",
      "state": {
       "description_width": ""
      }
     },
     "edf967f477ad4541b1d4b45030adbefe": {
      "model_module": "@jupyter-widgets/base",
      "model_module_version": "1.2.0",
      "model_name": "LayoutModel",
      "state": {}
     },
     "ee20ed7fb5784ed3998547fcc89b2804": {
      "model_module": "@jupyter-widgets/base",
      "model_module_version": "1.2.0",
      "model_name": "LayoutModel",
      "state": {}
     },
     "eed5173b85e040c4b3b064796f8d3956": {
      "model_module": "@jupyter-widgets/controls",
      "model_module_version": "1.5.0",
      "model_name": "HTMLModel",
      "state": {
       "layout": "IPY_MODEL_1dd8e95c231a4f85ae74dada7793f44d",
       "style": "IPY_MODEL_33a4a1ab58634ee7a311d141f468a10b",
       "value": "Blasting: 100%"
      }
     },
     "eedd8640eb674faab4aa51330f9190eb": {
      "model_module": "@jupyter-widgets/controls",
      "model_module_version": "1.5.0",
      "model_name": "HTMLModel",
      "state": {
       "layout": "IPY_MODEL_2e597b3d6d364b9c9527ea524e8261b0",
       "style": "IPY_MODEL_dfe452c541f04c81b1846b3a3cf8585f",
       "value": " 2/3 [00:00&lt;00:00, 16.48it/s]"
      }
     },
     "ef5730a3ba9e4f5bbc2d3af63dac8791": {
      "model_module": "@jupyter-widgets/base",
      "model_module_version": "1.2.0",
      "model_name": "LayoutModel",
      "state": {}
     },
     "efb2d823b4db48fda7dcd261a3c791aa": {
      "model_module": "@jupyter-widgets/controls",
      "model_module_version": "1.5.0",
      "model_name": "ProgressStyleModel",
      "state": {
       "description_width": ""
      }
     },
     "f007a2e4cb4045cdbd8183966802e52e": {
      "model_module": "@jupyter-widgets/controls",
      "model_module_version": "1.5.0",
      "model_name": "DescriptionStyleModel",
      "state": {
       "description_width": ""
      }
     },
     "f0cf38130e334415a44875a5844ea25e": {
      "model_module": "@jupyter-widgets/controls",
      "model_module_version": "1.5.0",
      "model_name": "HTMLModel",
      "state": {
       "layout": "IPY_MODEL_b2d60ba61604408482e3813d02abb642",
       "style": "IPY_MODEL_b5f02182065d4e0d971deec04f69f307",
       "value": " 3/3 [00:09&lt;00:00,  2.98s/it]"
      }
     },
     "f12a207940ac43c09b2b40774b1e390b": {
      "model_module": "@jupyter-widgets/controls",
      "model_module_version": "1.5.0",
      "model_name": "HTMLModel",
      "state": {
       "layout": "IPY_MODEL_144770aa3a2848aea0c3027cd491dbfd",
       "style": "IPY_MODEL_17f49368001842af8a595d16b392beb4",
       "value": " 804/868 [00:01&lt;00:00, 931.05it/s]"
      }
     },
     "f13b94532d1444a8ae5ff5cc264f6878": {
      "model_module": "@jupyter-widgets/base",
      "model_module_version": "1.2.0",
      "model_name": "LayoutModel",
      "state": {}
     },
     "f14d10cf587b423cb2ac6ed855a7c0e3": {
      "model_module": "@jupyter-widgets/controls",
      "model_module_version": "1.5.0",
      "model_name": "DescriptionStyleModel",
      "state": {
       "description_width": ""
      }
     },
     "f186ccfa84e247daa219124943c89879": {
      "model_module": "@jupyter-widgets/controls",
      "model_module_version": "1.5.0",
      "model_name": "DescriptionStyleModel",
      "state": {
       "description_width": ""
      }
     },
     "f1c22d2605ac43099ea5d086077fc845": {
      "model_module": "@jupyter-widgets/base",
      "model_module_version": "1.2.0",
      "model_name": "LayoutModel",
      "state": {}
     },
     "f21fafc4bef748afbce9b65d5385dfb2": {
      "model_module": "@jupyter-widgets/controls",
      "model_module_version": "1.5.0",
      "model_name": "DescriptionStyleModel",
      "state": {
       "description_width": ""
      }
     },
     "f2354e3a3d554605a6fe5467de472772": {
      "model_module": "@jupyter-widgets/base",
      "model_module_version": "1.2.0",
      "model_name": "LayoutModel",
      "state": {}
     },
     "f28c80473d644ca39c6351f241206267": {
      "model_module": "@jupyter-widgets/controls",
      "model_module_version": "1.5.0",
      "model_name": "DescriptionStyleModel",
      "state": {
       "description_width": ""
      }
     },
     "f3b6aa9ad0c4459e9c7d7639c53945be": {
      "model_module": "@jupyter-widgets/base",
      "model_module_version": "1.2.0",
      "model_name": "LayoutModel",
      "state": {}
     },
     "f3b8f288c06e49c5a1cc2cdf51e0afd2": {
      "model_module": "@jupyter-widgets/controls",
      "model_module_version": "1.5.0",
      "model_name": "HTMLModel",
      "state": {
       "layout": "IPY_MODEL_cabbdd7b844c4841979c56f40a888bfd",
       "style": "IPY_MODEL_644506ac12fe443fa785b67c870a755c",
       "value": " 0/3 [00:00&lt;?, ?it/s]"
      }
     },
     "f443eaf48c3946149f437fb8a396a9c6": {
      "model_module": "@jupyter-widgets/base",
      "model_module_version": "1.2.0",
      "model_name": "LayoutModel",
      "state": {}
     },
     "f477347bbc3747a8a41778fe24712252": {
      "model_module": "@jupyter-widgets/controls",
      "model_module_version": "1.5.0",
      "model_name": "HTMLModel",
      "state": {
       "layout": "IPY_MODEL_aed1cd4873e24752b730b298f32b8063",
       "style": "IPY_MODEL_6ec170ec83e240de83bec3a91e3b4d90",
       "value": " 3/3 [00:01&lt;00:00,  2.67it/s]"
      }
     },
     "f4a27fbfbf7b4762a97eb1b68f345493": {
      "model_module": "@jupyter-widgets/controls",
      "model_module_version": "1.5.0",
      "model_name": "HTMLModel",
      "state": {
       "layout": "IPY_MODEL_edf967f477ad4541b1d4b45030adbefe",
       "style": "IPY_MODEL_af75108e2bd64051ab5adc50e47610f6",
       "value": " 4/4 [00:00&lt;00:00,  4.28it/s]"
      }
     },
     "f4c0ae34e5eb4ca8b45f6f4ac3153485": {
      "model_module": "@jupyter-widgets/controls",
      "model_module_version": "1.5.0",
      "model_name": "FloatProgressModel",
      "state": {
       "layout": "IPY_MODEL_3af19f4c64014c3d812d5f2ddb0e9bab",
       "max": 3,
       "style": "IPY_MODEL_ed7a4578d1494b579b15b00a8ca9461b",
       "value": 3
      }
     },
     "f50b58cdc8a94cae8ec3a991bbe44b48": {
      "model_module": "@jupyter-widgets/controls",
      "model_module_version": "1.5.0",
      "model_name": "ProgressStyleModel",
      "state": {
       "description_width": ""
      }
     },
     "f5a0675e4486482e885411a0ba49f643": {
      "model_module": "@jupyter-widgets/controls",
      "model_module_version": "1.5.0",
      "model_name": "DescriptionStyleModel",
      "state": {
       "description_width": ""
      }
     },
     "f5f4809ffcac462f9eaca4c1213ed69d": {
      "model_module": "@jupyter-widgets/base",
      "model_module_version": "1.2.0",
      "model_name": "LayoutModel",
      "state": {}
     },
     "f6f86931bcc947cf81846fc2c9a7c674": {
      "model_module": "@jupyter-widgets/base",
      "model_module_version": "1.2.0",
      "model_name": "LayoutModel",
      "state": {}
     },
     "f6fb4bb33b1e462e8e79c084d1d6f7fd": {
      "model_module": "@jupyter-widgets/controls",
      "model_module_version": "1.5.0",
      "model_name": "FloatProgressModel",
      "state": {
       "layout": "IPY_MODEL_94bd7c5cfe9d48efba6aabf9808b00a5",
       "max": 3,
       "style": "IPY_MODEL_65a120c861fa4de4bbe0a5a20480dbbc",
       "value": 3
      }
     },
     "f7a5d59dc8cc4ccfa3c3f828aca1a721": {
      "model_module": "@jupyter-widgets/controls",
      "model_module_version": "1.5.0",
      "model_name": "HTMLModel",
      "state": {
       "layout": "IPY_MODEL_c1dd2561e2dd4922ac0251a6837572eb",
       "style": "IPY_MODEL_4f5845a5586d463aad7c26da98422daf",
       "value": " 3/3 [00:01&lt;00:00,  1.93it/s]"
      }
     },
     "f831bb4fd8b04ca0b6429d5c524ea2d4": {
      "model_module": "@jupyter-widgets/base",
      "model_module_version": "1.2.0",
      "model_name": "LayoutModel",
      "state": {}
     },
     "f8343a56a33e4e7696815634830c1dee": {
      "model_module": "@jupyter-widgets/controls",
      "model_module_version": "1.5.0",
      "model_name": "DescriptionStyleModel",
      "state": {
       "description_width": ""
      }
     },
     "f8cc0c6bf3ed44d1a2bd9c964f663567": {
      "model_module": "@jupyter-widgets/base",
      "model_module_version": "1.2.0",
      "model_name": "LayoutModel",
      "state": {}
     },
     "f9456862d4694e09bc55cdd941ae06d3": {
      "model_module": "@jupyter-widgets/controls",
      "model_module_version": "1.5.0",
      "model_name": "DescriptionStyleModel",
      "state": {
       "description_width": ""
      }
     },
     "f94b64cf575d46c3ada74b180d4483d9": {
      "model_module": "@jupyter-widgets/controls",
      "model_module_version": "1.5.0",
      "model_name": "HTMLModel",
      "state": {
       "layout": "IPY_MODEL_7699cd7d4d9c4a8ba5d2d47ec88ad3b6",
       "style": "IPY_MODEL_bb2c551256104d04bfceb34a881b457c",
       "value": " 3/3 [00:01&lt;00:00,  1.59it/s]"
      }
     },
     "faf3b2b944d24b6aa353dc69e1c9ab09": {
      "model_module": "@jupyter-widgets/base",
      "model_module_version": "1.2.0",
      "model_name": "LayoutModel",
      "state": {}
     },
     "fb211d30f3eb43a685ba41b5a5b10675": {
      "model_module": "@jupyter-widgets/controls",
      "model_module_version": "1.5.0",
      "model_name": "FloatProgressModel",
      "state": {
       "layout": "IPY_MODEL_a0f3d075720e4ce0b9a7672bbfa4baaa",
       "max": 3,
       "style": "IPY_MODEL_3c2c41b307da4421a80af6262777dda1",
       "value": 3
      }
     },
     "fb4aa49f0df14c198afddf1c8fff8373": {
      "model_module": "@jupyter-widgets/controls",
      "model_module_version": "1.5.0",
      "model_name": "FloatProgressModel",
      "state": {
       "layout": "IPY_MODEL_9cdc8b0b19f44b23b7e232acaad61ebb",
       "max": 3,
       "style": "IPY_MODEL_37cf3eac3ff3495cac742654dc15ae12",
       "value": 3
      }
     },
     "fbb96c2f1d6f454da3b02ad7c7a3d35e": {
      "model_module": "@jupyter-widgets/controls",
      "model_module_version": "1.5.0",
      "model_name": "HTMLModel",
      "state": {
       "layout": "IPY_MODEL_cfae71a65ce842ba804c5316cffe7063",
       "style": "IPY_MODEL_53cb4b952826418c9e4a10ef9405efde",
       "value": " 0/16129 [00:00&lt;?, ?it/s]"
      }
     },
     "fbc399cb84be4a93b0ef17f7afc3366a": {
      "model_module": "@jupyter-widgets/base",
      "model_module_version": "1.2.0",
      "model_name": "LayoutModel",
      "state": {}
     },
     "fc1c32411bc845e09bfbb25cb5de539e": {
      "model_module": "@jupyter-widgets/base",
      "model_module_version": "1.2.0",
      "model_name": "LayoutModel",
      "state": {}
     },
     "fc6c632ff501426db8b8471a4bffd6ba": {
      "model_module": "@jupyter-widgets/base",
      "model_module_version": "1.2.0",
      "model_name": "LayoutModel",
      "state": {}
     },
     "fc9b7514fa6b404480a55e9fa8d5a700": {
      "model_module": "@jupyter-widgets/controls",
      "model_module_version": "1.5.0",
      "model_name": "DescriptionStyleModel",
      "state": {
       "description_width": ""
      }
     },
     "fca5eac3450e418984cfbf82be748da9": {
      "model_module": "@jupyter-widgets/controls",
      "model_module_version": "1.5.0",
      "model_name": "FloatProgressModel",
      "state": {
       "layout": "IPY_MODEL_3fd9cd9d8656414c8adf71008c616bf9",
       "max": 3,
       "style": "IPY_MODEL_6d3d4022eb6848bea998021d904cc6b3",
       "value": 3
      }
     },
     "fd1b5cd7833c4b4891e50998254dfc3d": {
      "model_module": "@jupyter-widgets/controls",
      "model_module_version": "1.5.0",
      "model_name": "ProgressStyleModel",
      "state": {
       "description_width": ""
      }
     },
     "fd320ab6ceec4e46a6a9dec8f1bbccf0": {
      "model_module": "@jupyter-widgets/base",
      "model_module_version": "1.2.0",
      "model_name": "LayoutModel",
      "state": {}
     },
     "fdcca27caac4496aa0ddf22dd068afb8": {
      "model_module": "@jupyter-widgets/controls",
      "model_module_version": "1.5.0",
      "model_name": "DescriptionStyleModel",
      "state": {
       "description_width": ""
      }
     },
     "fde714ee187f4aa8b382ec7168eeb4bc": {
      "model_module": "@jupyter-widgets/controls",
      "model_module_version": "1.5.0",
      "model_name": "DescriptionStyleModel",
      "state": {
       "description_width": ""
      }
     },
     "fe4383895e224152983f9fa33270a426": {
      "model_module": "@jupyter-widgets/controls",
      "model_module_version": "1.5.0",
      "model_name": "FloatProgressModel",
      "state": {
       "layout": "IPY_MODEL_0ebd501bc67940488d6cd52faf1c4871",
       "max": 4,
       "style": "IPY_MODEL_a8c896d1ef174e5488b80745bdb98012",
       "value": 4
      }
     },
     "fe4f8d54b4464ad78426a60c9f837926": {
      "model_module": "@jupyter-widgets/base",
      "model_module_version": "1.2.0",
      "model_name": "LayoutModel",
      "state": {}
     },
     "ff6523f6ef1f439b93aa005f13615bc7": {
      "model_module": "@jupyter-widgets/controls",
      "model_module_version": "1.5.0",
      "model_name": "DescriptionStyleModel",
      "state": {
       "description_width": ""
      }
     },
     "ff72e353b4ec42298c793efb6164d002": {
      "model_module": "@jupyter-widgets/base",
      "model_module_version": "1.2.0",
      "model_name": "LayoutModel",
      "state": {}
     },
     "ff92f0fe00d04bd3876957bd2b6c777c": {
      "model_module": "@jupyter-widgets/controls",
      "model_module_version": "1.5.0",
      "model_name": "ProgressStyleModel",
      "state": {
       "description_width": ""
      }
     }
    },
    "version_major": 2,
    "version_minor": 0
   }
  }
 },
 "nbformat": 4,
 "nbformat_minor": 4
}
