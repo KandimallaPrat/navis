{
 "cells": [
  {
   "cell_type": "raw",
   "metadata": {
    "raw_mimetype": "text/restructuredtext",
    "tags": []
   },
   "source": [
    ".. _nblast_fc:\n",
    "\n",
    "NBLAST against FlyCircuit\n",
    "-------------------------\n",
    "\n",
    "If you work with `Drosophila`, chances are you have heard of `FlyCircuit <http://www.flycircuit.tw/>`_. It's a collection of ~16k single neuron clones published by `Chiang et al. (2010) <https://www.cell.com/current-biology/fulltext/S0960-9822(10)01522-8>`_.\n",
    "\n",
    "For R, there is a package containing dotprops and meta data for these neurons: `nat.flycircuit <https://github.com/natverse/flycircuit>`_. This does not yet exist for Python. However, it's still reasonably straight forward to run an NBLAST against the entire flycircuit dataset in Python:\n",
    "\n",
    "First you need to download flycircuit dotprops from `Zenodo <https://zenodo.org/record/5205616>`_ (850Mb). Next, unzip the archive containing the dotprops as CSV files. Now we can load them into navis (adjust filepaths as required):"
   ]
  },
  {
   "cell_type": "code",
   "execution_count": 2,
   "metadata": {},
   "outputs": [],
   "source": [
    "import navis \n",
    "import pandas as pd\n",
    "\n",
    "from pathlib import Path\n",
    "from tqdm import tqdm "
   ]
  },
  {
   "cell_type": "code",
   "execution_count": 19,
   "metadata": {},
   "outputs": [
    {
     "name": "stderr",
     "output_type": "stream",
     "text": [
      "                                                                        \r"
     ]
    },
    {
     "data": {
      "text/html": [
       "&lt;class 'navis.core.neuronlist.NeuronList'&gt; containing 16129 neurons (est. 1.4GiB)<div>\n",
       "<style scoped>\n",
       "    .dataframe tbody tr th:only-of-type {\n",
       "        vertical-align: middle;\n",
       "    }\n",
       "\n",
       "    .dataframe tbody tr th {\n",
       "        vertical-align: top;\n",
       "    }\n",
       "\n",
       "    .dataframe thead th {\n",
       "        text-align: right;\n",
       "    }\n",
       "</style>\n",
       "<table border=\"1\" class=\"dataframe\">\n",
       "  <thead>\n",
       "    <tr style=\"text-align: right;\">\n",
       "      <th></th>\n",
       "      <th>type</th>\n",
       "      <th>name</th>\n",
       "      <th>id</th>\n",
       "      <th>k</th>\n",
       "      <th>units</th>\n",
       "      <th>n_points</th>\n",
       "    </tr>\n",
       "  </thead>\n",
       "  <tbody>\n",
       "    <tr>\n",
       "      <th>0</th>\n",
       "      <td>navis.Dotprops</td>\n",
       "      <td>DvGlutMARCM-F1822_seg2</td>\n",
       "      <td>DvGlutMARCM-F1822_seg2</td>\n",
       "      <td>20</td>\n",
       "      <td>1 micrometer</td>\n",
       "      <td>87</td>\n",
       "    </tr>\n",
       "    <tr>\n",
       "      <th>1</th>\n",
       "      <td>navis.Dotprops</td>\n",
       "      <td>DvGlutMARCM-F002216_seg001</td>\n",
       "      <td>DvGlutMARCM-F002216_seg001</td>\n",
       "      <td>20</td>\n",
       "      <td>1 micrometer</td>\n",
       "      <td>2574</td>\n",
       "    </tr>\n",
       "    <tr>\n",
       "      <th>...</th>\n",
       "      <td>...</td>\n",
       "      <td>...</td>\n",
       "      <td>...</td>\n",
       "      <td>...</td>\n",
       "      <td>...</td>\n",
       "      <td>...</td>\n",
       "    </tr>\n",
       "    <tr>\n",
       "      <th>16127</th>\n",
       "      <td>navis.Dotprops</td>\n",
       "      <td>GadMARCM-F000020_seg001</td>\n",
       "      <td>GadMARCM-F000020_seg001</td>\n",
       "      <td>20</td>\n",
       "      <td>1 micrometer</td>\n",
       "      <td>477</td>\n",
       "    </tr>\n",
       "    <tr>\n",
       "      <th>16128</th>\n",
       "      <td>navis.Dotprops</td>\n",
       "      <td>DvGlutMARCM-F1720_seg1</td>\n",
       "      <td>DvGlutMARCM-F1720_seg1</td>\n",
       "      <td>20</td>\n",
       "      <td>1 micrometer</td>\n",
       "      <td>941</td>\n",
       "    </tr>\n",
       "  </tbody>\n",
       "</table>\n",
       "</div>"
      ],
      "text/plain": [
       "<class 'navis.core.neuronlist.NeuronList'> containing 16129 neurons (est. 1.4GiB)\n",
       "                 type                        name                          id  \\\n",
       "0      navis.Dotprops      DvGlutMARCM-F1822_seg2      DvGlutMARCM-F1822_seg2   \n",
       "1      navis.Dotprops  DvGlutMARCM-F002216_seg001  DvGlutMARCM-F002216_seg001   \n",
       "...               ...                         ...                         ...   \n",
       "16127  navis.Dotprops     GadMARCM-F000020_seg001     GadMARCM-F000020_seg001   \n",
       "16128  navis.Dotprops      DvGlutMARCM-F1720_seg1      DvGlutMARCM-F1720_seg1   \n",
       "\n",
       "        k         units  n_points  \n",
       "0      20  1 micrometer        87  \n",
       "1      20  1 micrometer      2574  \n",
       "...    ..           ...       ...  \n",
       "16127  20  1 micrometer       477  \n",
       "16128  20  1 micrometer       941  "
      ]
     },
     "execution_count": 19,
     "metadata": {},
     "output_type": "execute_result"
    }
   ],
   "source": [
    "def load_dotprops_csv(fp):\n",
    "    \"\"\"Load dotprops from CSV files in filepath `fp`.\"\"\"\n",
    "    # Turn into a path object \n",
    "    fp = Path(fp).expanduser()\n",
    "    \n",
    "    # Go over each CSV file\n",
    "    files = list(fp.glob('*.csv'))     \n",
    "    dotprops = []\n",
    "    for f in tqdm(files, desc='Loading dotprops', leave=False):\n",
    "        # Read file \n",
    "        csv = pd.read_csv(f)\n",
    "        \n",
    "        # Each row is a point with associated vector \n",
    "        pts = csv[['pt_x', 'pt_y', 'pt_z']].values\n",
    "        vect = csv[['vec_x', 'vec_y', 'vec_z']].values\n",
    "        \n",
    "        # Turn into a Dotprops        \n",
    "        dp = navis.Dotprops(points=pts, k=20, vect=vect, units='1 micron')\n",
    "        \n",
    "        # Use filename as ID/name\n",
    "        dp.name = dp.id = f.name[:-4]\n",
    "        \n",
    "        # Add this dotprop to the list before moving on to the next\n",
    "        dotprops.append(dp)\n",
    "    \n",
    "    return navis.NeuronList(dotprops)\n",
    "    \n",
    "fc_dps = load_dotprops_csv('~/Downloads/flycircuit_dotprops')\n",
    "fc_dps"
   ]
  },
  {
   "cell_type": "raw",
   "metadata": {
    "raw_mimetype": "text/restructuredtext",
    "tags": []
   },
   "source": [
    "To avoid having to re-generate these dotprops, you could consider pickling them:\n",
    "\n",
    ".. highlight::python\n",
    "\n",
    "    import pickle\n",
    "    with open('flycircuit_dps.pkl', 'wb') as f:\n",
    "        pickle.dump(fc_dps, f)\n",
    "        \n",
    "In the future you can then reload the dotprops like so (much faster):\n",
    "\n",
    ".. highlight::python\n",
    "\n",
    "    with open('flycircuit_dps.pkl', 'rb') as f:\n",
    "        fc_dps = pickle.load(f)"
   ]
  },
  {
   "cell_type": "raw",
   "metadata": {
    "raw_mimetype": "text/restructuredtext",
    "tags": []
   },
   "source": [
    "Note: The names/ids correspond to the flycircuit gene + clone names!"
   ]
  },
  {
   "cell_type": "code",
   "execution_count": 4,
   "metadata": {},
   "outputs": [
    {
     "data": {
      "text/html": [
       "<div>\n",
       "<style scoped>\n",
       "    .dataframe tbody tr th:only-of-type {\n",
       "        vertical-align: middle;\n",
       "    }\n",
       "\n",
       "    .dataframe tbody tr th {\n",
       "        vertical-align: top;\n",
       "    }\n",
       "\n",
       "    .dataframe thead th {\n",
       "        text-align: right;\n",
       "    }\n",
       "</style>\n",
       "<table border=\"1\" class=\"dataframe\">\n",
       "  <thead>\n",
       "    <tr style=\"text-align: right;\">\n",
       "      <th></th>\n",
       "      <th></th>\n",
       "    </tr>\n",
       "  </thead>\n",
       "  <tbody>\n",
       "    <tr>\n",
       "      <th>type</th>\n",
       "      <td>navis.Dotprops</td>\n",
       "    </tr>\n",
       "    <tr>\n",
       "      <th>name</th>\n",
       "      <td>FruMARCM-M002262_seg001</td>\n",
       "    </tr>\n",
       "    <tr>\n",
       "      <th>id</th>\n",
       "      <td>FruMARCM-M002262_seg001</td>\n",
       "    </tr>\n",
       "    <tr>\n",
       "      <th>k</th>\n",
       "      <td>5</td>\n",
       "    </tr>\n",
       "    <tr>\n",
       "      <th>units</th>\n",
       "      <td>1 micrometer</td>\n",
       "    </tr>\n",
       "    <tr>\n",
       "      <th>n_points</th>\n",
       "      <td>4121</td>\n",
       "    </tr>\n",
       "  </tbody>\n",
       "</table>\n",
       "</div>"
      ],
      "text/plain": [
       "type                 navis.Dotprops\n",
       "name        FruMARCM-M002262_seg001\n",
       "id          FruMARCM-M002262_seg001\n",
       "k                                 5\n",
       "units                  1 micrometer\n",
       "n_points                       4121\n",
       "dtype: object"
      ]
     },
     "execution_count": 4,
     "metadata": {},
     "output_type": "execute_result"
    }
   ],
   "source": [
    "fc_dps[0]"
   ]
  },
  {
   "cell_type": "raw",
   "metadata": {
    "raw_mimetype": "text/restructuredtext",
    "tags": []
   },
   "source": [
    "In case your query neurons are in a different brain space, you can use `navis-flybrains <https://github.com/navis-org/navis-flybrains>`_ to convert them to flycircuit's ``FCWB`` space.\n",
    "\n",
    "For demonstration purposes we will use the example neurons - olfactory DA1 projection neurons from the hemibrain connectome - that ship with ``navis``."
   ]
  },
  {
   "cell_type": "code",
   "execution_count": 44,
   "metadata": {},
   "outputs": [],
   "source": [
    "# Load some of the example neurons\n",
    "n = navis.example_neurons(3)"
   ]
  },
  {
   "cell_type": "code",
   "execution_count": 45,
   "metadata": {},
   "outputs": [
    {
     "name": "stdout",
     "output_type": "stream",
     "text": [
      "Transform path: JRCFIB2018Fraw -> JRCFIB2018F -> JRCFIB2018Fum -> JRC2018F -> FCWB\n"
     ]
    }
   ],
   "source": [
    "# Convert from hemibrain (JRCFIB2018Fraw) to FCWB space\n",
    "import flybrains\n",
    "\n",
    "n_fcwb = navis.xform_brain(n, source='JRCFIB2018Fraw', target='FCWB')"
   ]
  },
  {
   "cell_type": "code",
   "execution_count": 46,
   "metadata": {},
   "outputs": [
    {
     "data": {
      "application/vnd.jupyter.widget-view+json": {
       "model_id": "",
       "version_major": 2,
       "version_minor": 0
      },
      "text/plain": [
       "Plot neurons:   0%|          | 0/3 [00:00<?, ?it/s]"
      ]
     },
     "metadata": {},
     "output_type": "display_data"
    },
    {
     "data": {
      "image/png": "[encoded data removed]",
      "text/plain": [
       "<Figure size 432x432 with 1 Axes>"
      ]
     },
     "metadata": {
      "needs_background": "light"
     },
     "output_type": "display_data"
    }
   ],
   "source": [
    "# A sanity check to make sure the transform worked\n",
    "fig, ax = navis.plot2d([n_fcwb, flybrains.FCWB])\n",
    "\n",
    "# Rotate to front view\n",
    "ax.elev = -90\n",
    "\n",
    "# Zoom in a little\n",
    "ax.dist = 4"
   ]
  },
  {
   "cell_type": "code",
   "execution_count": 47,
   "metadata": {},
   "outputs": [],
   "source": [
    "# Mirror neurons from the right to the left\n",
    "# (FlyCircuit neurons are supposed to all be on the left)\n",
    "n_fcwb_mirr = navis.mirror_brain(n_fcwb, template='FCWB')"
   ]
  },
  {
   "cell_type": "code",
   "execution_count": 48,
   "metadata": {},
   "outputs": [],
   "source": [
    "# Convert to dotprops\n",
    "n_dps = navis.make_dotprops(n_fcwb_mirr, resample=1, k=None)"
   ]
  },
  {
   "cell_type": "code",
   "execution_count": null,
   "metadata": {
    "tags": []
   },
   "outputs": [],
   "source": [
    "# Run a \"smart\" NBLAST to get the top hits\n",
    "# (ignore the warning about data not being in microns - that's a rounding error from the transform)\n",
    "scores = navis.nblast_smart(query=n_dps, target=fc_dps, scores='mean', progress=False)"
   ]
  },
  {
   "cell_type": "code",
   "execution_count": 50,
   "metadata": {},
   "outputs": [
    {
     "data": {
      "text/html": [
       "<div>\n",
       "<style scoped>\n",
       "    .dataframe tbody tr th:only-of-type {\n",
       "        vertical-align: middle;\n",
       "    }\n",
       "\n",
       "    .dataframe tbody tr th {\n",
       "        vertical-align: top;\n",
       "    }\n",
       "\n",
       "    .dataframe thead th {\n",
       "        text-align: right;\n",
       "    }\n",
       "</style>\n",
       "<table border=\"1\" class=\"dataframe\">\n",
       "  <thead>\n",
       "    <tr style=\"text-align: right;\">\n",
       "      <th></th>\n",
       "      <th>FruMARCM-M002262_seg001</th>\n",
       "      <th>FruMARCM-M002262_seg002</th>\n",
       "      <th>FruMARCM-M002278_seg001</th>\n",
       "      <th>FruMARCM-M002287_seg001</th>\n",
       "      <th>FruMARCM-M002507_seg001</th>\n",
       "      <th>FruMARCM-M002522_seg001</th>\n",
       "      <th>FruMARCM-M002578_seg001</th>\n",
       "      <th>FruMARCM-M002578_seg002</th>\n",
       "      <th>FruMARCM-M002579_seg001</th>\n",
       "      <th>FruMARCM-M002579_seg002</th>\n",
       "      <th>...</th>\n",
       "      <th>DvGlutMARCM-F594-X2_seg1</th>\n",
       "      <th>DvGlutMARCM-F594-X2_seg2</th>\n",
       "      <th>DvGlutMARCM-F595_seg1</th>\n",
       "      <th>DvGlutMARCM-F596_seg1</th>\n",
       "      <th>DvGlutMARCM-F597_seg1</th>\n",
       "      <th>DvGlutMARCM-F598_seg1</th>\n",
       "      <th>DvGlutMARCM-F599_seg1</th>\n",
       "      <th>DvGlutMARCM-F599_seg2</th>\n",
       "      <th>DvGlutMARCM-F600-X2_seg1</th>\n",
       "      <th>DvGlutMARCM-F600-X2_seg2</th>\n",
       "    </tr>\n",
       "  </thead>\n",
       "  <tbody>\n",
       "    <tr>\n",
       "      <th>1734350788</th>\n",
       "      <td>-0.260213</td>\n",
       "      <td>-0.200286</td>\n",
       "      <td>-0.645926</td>\n",
       "      <td>-0.639277</td>\n",
       "      <td>-0.663507</td>\n",
       "      <td>-0.451059</td>\n",
       "      <td>-0.229996</td>\n",
       "      <td>-0.604237</td>\n",
       "      <td>-0.705247</td>\n",
       "      <td>-0.307929</td>\n",
       "      <td>...</td>\n",
       "      <td>-0.881092</td>\n",
       "      <td>-0.648820</td>\n",
       "      <td>-0.660410</td>\n",
       "      <td>0.118524</td>\n",
       "      <td>-0.315490</td>\n",
       "      <td>-0.671891</td>\n",
       "      <td>-0.499438</td>\n",
       "      <td>-0.882007</td>\n",
       "      <td>-0.882510</td>\n",
       "      <td>-0.880825</td>\n",
       "    </tr>\n",
       "    <tr>\n",
       "      <th>1734350908</th>\n",
       "      <td>-0.267769</td>\n",
       "      <td>-0.191842</td>\n",
       "      <td>-0.655194</td>\n",
       "      <td>-0.623617</td>\n",
       "      <td>-0.679471</td>\n",
       "      <td>-0.459428</td>\n",
       "      <td>-0.233066</td>\n",
       "      <td>-0.607806</td>\n",
       "      <td>-0.715372</td>\n",
       "      <td>-0.310166</td>\n",
       "      <td>...</td>\n",
       "      <td>-0.881365</td>\n",
       "      <td>-0.654605</td>\n",
       "      <td>-0.669929</td>\n",
       "      <td>0.113844</td>\n",
       "      <td>-0.316001</td>\n",
       "      <td>-0.682929</td>\n",
       "      <td>-0.505106</td>\n",
       "      <td>-0.881421</td>\n",
       "      <td>-0.881361</td>\n",
       "      <td>-0.882250</td>\n",
       "    </tr>\n",
       "    <tr>\n",
       "      <th>722817260</th>\n",
       "      <td>-0.270642</td>\n",
       "      <td>-0.170228</td>\n",
       "      <td>-0.680244</td>\n",
       "      <td>-0.667571</td>\n",
       "      <td>-0.670850</td>\n",
       "      <td>-0.431723</td>\n",
       "      <td>-0.236943</td>\n",
       "      <td>-0.634743</td>\n",
       "      <td>-0.704928</td>\n",
       "      <td>-0.298078</td>\n",
       "      <td>...</td>\n",
       "      <td>-0.881398</td>\n",
       "      <td>-0.649228</td>\n",
       "      <td>-0.659683</td>\n",
       "      <td>0.132546</td>\n",
       "      <td>-0.317336</td>\n",
       "      <td>-0.627997</td>\n",
       "      <td>-0.503828</td>\n",
       "      <td>-0.882124</td>\n",
       "      <td>-0.881570</td>\n",
       "      <td>-0.881419</td>\n",
       "    </tr>\n",
       "  </tbody>\n",
       "</table>\n",
       "<p>3 rows × 16129 columns</p>\n",
       "</div>"
      ],
      "text/plain": [
       "            FruMARCM-M002262_seg001  FruMARCM-M002262_seg002  \\\n",
       "1734350788                -0.260213                -0.200286   \n",
       "1734350908                -0.267769                -0.191842   \n",
       "722817260                 -0.270642                -0.170228   \n",
       "\n",
       "            FruMARCM-M002278_seg001  FruMARCM-M002287_seg001  \\\n",
       "1734350788                -0.645926                -0.639277   \n",
       "1734350908                -0.655194                -0.623617   \n",
       "722817260                 -0.680244                -0.667571   \n",
       "\n",
       "            FruMARCM-M002507_seg001  FruMARCM-M002522_seg001  \\\n",
       "1734350788                -0.663507                -0.451059   \n",
       "1734350908                -0.679471                -0.459428   \n",
       "722817260                 -0.670850                -0.431723   \n",
       "\n",
       "            FruMARCM-M002578_seg001  FruMARCM-M002578_seg002  \\\n",
       "1734350788                -0.229996                -0.604237   \n",
       "1734350908                -0.233066                -0.607806   \n",
       "722817260                 -0.236943                -0.634743   \n",
       "\n",
       "            FruMARCM-M002579_seg001  FruMARCM-M002579_seg002  ...  \\\n",
       "1734350788                -0.705247                -0.307929  ...   \n",
       "1734350908                -0.715372                -0.310166  ...   \n",
       "722817260                 -0.704928                -0.298078  ...   \n",
       "\n",
       "            DvGlutMARCM-F594-X2_seg1  DvGlutMARCM-F594-X2_seg2  \\\n",
       "1734350788                 -0.881092                 -0.648820   \n",
       "1734350908                 -0.881365                 -0.654605   \n",
       "722817260                  -0.881398                 -0.649228   \n",
       "\n",
       "            DvGlutMARCM-F595_seg1  DvGlutMARCM-F596_seg1  \\\n",
       "1734350788              -0.660410               0.118524   \n",
       "1734350908              -0.669929               0.113844   \n",
       "722817260               -0.659683               0.132546   \n",
       "\n",
       "            DvGlutMARCM-F597_seg1  DvGlutMARCM-F598_seg1  \\\n",
       "1734350788              -0.315490              -0.671891   \n",
       "1734350908              -0.316001              -0.682929   \n",
       "722817260               -0.317336              -0.627997   \n",
       "\n",
       "            DvGlutMARCM-F599_seg1  DvGlutMARCM-F599_seg2  \\\n",
       "1734350788              -0.499438              -0.882007   \n",
       "1734350908              -0.505106              -0.881421   \n",
       "722817260               -0.503828              -0.882124   \n",
       "\n",
       "            DvGlutMARCM-F600-X2_seg1  DvGlutMARCM-F600-X2_seg2  \n",
       "1734350788                 -0.882510                 -0.880825  \n",
       "1734350908                 -0.881361                 -0.882250  \n",
       "722817260                  -0.881570                 -0.881419  \n",
       "\n",
       "[3 rows x 16129 columns]"
      ]
     },
     "execution_count": 50,
     "metadata": {},
     "output_type": "execute_result"
    }
   ],
   "source": [
    "scores.head()"
   ]
  },
  {
   "cell_type": "code",
   "execution_count": 39,
   "metadata": {},
   "outputs": [
    {
     "name": "stdout",
     "output_type": "stream",
     "text": [
      "Top hit for 1734350788: FruMARCM-F001496_seg001 (0.778)\n",
      "Top hit for 1734350908: FruMARCM-F001496_seg001 (0.744)\n",
      "Top hit for 722817260: FruMARCM-F001496_seg001 (0.792)\n"
     ]
    }
   ],
   "source": [
    "# Find the top hits for each of our query neurons\n",
    "import numpy as np\n",
    "\n",
    "for dp in n_dps:\n",
    "    hit = scores.columns[np.argmax(scores.loc[dp.id].values)]\n",
    "    sc = scores.loc[dp.id].values.max()\n",
    "    print(f'Top hit for {dp.id}: {hit} ({sc:.3f})')    "
   ]
  },
  {
   "cell_type": "raw",
   "metadata": {
    "raw_mimetype": "text/restructuredtext",
    "tags": []
   },
   "source": [
    "Conveniently all of our query neurons have the same top match (they are all from the same cell type after all): ``FruMARCM-F001496_seg001``"
   ]
  },
  {
   "cell_type": "code",
   "execution_count": 51,
   "metadata": {
    "raw_mimetype": "text/restructuredtext",
    "tags": []
   },
   "outputs": [
    {
     "data": {
      "application/vnd.jupyter.widget-view+json": {
       "model_id": "",
       "version_major": 2,
       "version_minor": 0
      },
      "text/plain": [
       "Plot neurons:   0%|          | 0/4 [00:00<?, ?it/s]"
      ]
     },
     "metadata": {},
     "output_type": "display_data"
    },
    {
     "data": {
      "image/png": "[encoded data removed]",
      "text/plain": [
       "<Figure size 432x432 with 1 Axes>"
      ]
     },
     "metadata": {
      "needs_background": "light"
     },
     "output_type": "display_data"
    }
   ],
   "source": [
    "# Let's co-visualize:\n",
    "# Queries in red, hit in black\n",
    "fig, ax = navis.plot2d([n_fcwb_mirr, fc_dps.idx['FruMARCM-F001496_seg001']],\n",
    "                       color=['r'] * len(n_fcwb_mirr) + ['k'])\n",
    "ax.elev = -90"
   ]
  },
  {
   "cell_type": "raw",
   "metadata": {},
   "source": [
    "Looking good!"
   ]
  }
 ],
 "metadata": {
  "kernelspec": {
   "display_name": "Python 3",
   "language": "python",
   "name": "python3"
  },
  "language_info": {
   "codemirror_mode": {
    "name": "ipython",
    "version": 3
   },
   "file_extension": ".py",
   "mimetype": "text/x-python",
   "name": "python",
   "nbconvert_exporter": "python",
   "pygments_lexer": "ipython3",
   "version": "3.7.5"
  },
  "widgets": {
   "application/vnd.jupyter.widget-state+json": {
    "state": {},
    "version_major": 2,
    "version_minor": 0
   }
  }
 },
 "nbformat": 4,
 "nbformat_minor": 4
}
