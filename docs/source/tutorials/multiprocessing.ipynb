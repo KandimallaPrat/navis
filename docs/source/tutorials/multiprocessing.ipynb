{
 "cells": [
  {
   "cell_type": "raw",
   "metadata": {
    "raw_mimetype": "text/restructuredtext",
    "tags": []
   },
   "source": [
    "Multiprocessing\n",
    "***************\n",
    "\n",
    "By default, most ``navis`` functions use only a single core (although some third-party functions used under the hood might). Distributing expensive computations across multiple cores can speed things up considerable.\n",
    "\n",
    "As of version ``0.6.0`` many ``navis`` functions natively support parallel processing. This notebook will illustrate various ways to use parallelism. Importantly, ``navis`` uses ``pathos`` for multiprocessing::\n",
    "\n",
    "  $ pip install pathos -U\n",
    "\n",
    "\n",
    "Running `navis` functions in parallel\n",
    "-------------------------------------\n",
    "Since ``0.6.0`` many functions accept a ``parallel=True`` and an (optional) ``n_cores`` parameter."
   ]
  },
  {
   "cell_type": "code",
   "execution_count": 1,
   "metadata": {},
   "outputs": [],
   "source": [
    "import navis\n",
    "\n",
    "# Load example neurons\n",
    "nl = navis.example_neurons()"
   ]
  },
  {
   "cell_type": "code",
   "execution_count": 5,
   "metadata": {},
   "outputs": [
    {
     "data": {
      "application/vnd.jupyter.widget-view+json": {
       "model_id": "",
       "version_major": 2,
       "version_minor": 0
      },
      "text/plain": [
       "Resampling:   0%|          | 0/5 [00:00<?, ?it/s]"
      ]
     },
     "metadata": {},
     "output_type": "display_data"
    },
    {
     "name": "stdout",
     "output_type": "stream",
     "text": [
      "CPU times: user 3.36 s, sys: 13.4 ms, total: 3.38 s\n",
      "Wall time: 3.37 s\n"
     ]
    }
   ],
   "source": [
    "# Without parallel processing\n",
    "%time res = navis.resample_neuron(nl, resample_to=125)"
   ]
  },
  {
   "cell_type": "code",
   "execution_count": 6,
   "metadata": {},
   "outputs": [
    {
     "data": {
      "application/vnd.jupyter.widget-view+json": {
       "model_id": "",
       "version_major": 2,
       "version_minor": 0
      },
      "text/plain": [
       "Resampling:   0%|          | 0/5 [00:00<?, ?it/s]"
      ]
     },
     "metadata": {},
     "output_type": "display_data"
    },
    {
     "name": "stdout",
     "output_type": "stream",
     "text": [
      "CPU times: user 134 ms, sys: 42.8 ms, total: 177 ms\n",
      "Wall time: 862 ms\n"
     ]
    }
   ],
   "source": [
    "# With parallel processing (by default uses half the available cores)\n",
    "%time res = navis.resample_neuron(nl, resample_to=125, parallel=True)"
   ]
  },
  {
   "cell_type": "raw",
   "metadata": {
    "raw_mimetype": "text/restructuredtext",
    "tags": []
   },
   "source": [
    "The same also works for neuron methods:"
   ]
  },
  {
   "cell_type": "code",
   "execution_count": 7,
   "metadata": {},
   "outputs": [
    {
     "data": {
      "application/vnd.jupyter.widget-view+json": {
       "model_id": "",
       "version_major": 2,
       "version_minor": 0
      },
      "text/plain": [
       "resample:   0%|          | 0/5 [00:00<?, ?it/s]"
      ]
     },
     "metadata": {},
     "output_type": "display_data"
    },
    {
     "name": "stdout",
     "output_type": "stream",
     "text": [
      "CPU times: user 3.3 s, sys: 49.1 ms, total: 3.35 s\n",
      "Wall time: 3.32 s\n"
     ]
    }
   ],
   "source": [
    "%time res = nl.resample(125)"
   ]
  },
  {
   "cell_type": "code",
   "execution_count": 8,
   "metadata": {},
   "outputs": [
    {
     "data": {
      "application/vnd.jupyter.widget-view+json": {
       "model_id": "",
       "version_major": 2,
       "version_minor": 0
      },
      "text/plain": [
       "resample:   0%|          | 0/5 [00:00<?, ?it/s]"
      ]
     },
     "metadata": {},
     "output_type": "display_data"
    },
    {
     "name": "stdout",
     "output_type": "stream",
     "text": [
      "CPU times: user 164 ms, sys: 9.11 ms, total: 173 ms\n",
      "Wall time: 825 ms\n"
     ]
    }
   ],
   "source": [
    "%time res = nl.resample(125, parallel=True)"
   ]
  },
  {
   "cell_type": "raw",
   "metadata": {
    "raw_mimetype": "text/restructuredtext",
    "tags": []
   },
   "source": [
    "Parallelizing generic functions\n",
    "-------------------------------\n",
    "For non-navis function you can use `NeuronList.apply` to parallelize them.\n",
    "\n",
    "First, let's write a mock function that simply waits one second and then returns the number of nodes:"
   ]
  },
  {
   "cell_type": "code",
   "execution_count": 12,
   "metadata": {},
   "outputs": [],
   "source": [
    "def my_func(x):\n",
    "    import time\n",
    "    time.sleep(1)\n",
    "    return x.n_nodes"
   ]
  },
  {
   "cell_type": "code",
   "execution_count": 10,
   "metadata": {},
   "outputs": [
    {
     "data": {
      "application/vnd.jupyter.widget-view+json": {
       "model_id": "",
       "version_major": 2,
       "version_minor": 0
      },
      "text/plain": [
       "Apply my_func:   0%|          | 0/5 [00:00<?, ?it/s]"
      ]
     },
     "metadata": {},
     "output_type": "display_data"
    },
    {
     "name": "stdout",
     "output_type": "stream",
     "text": [
      "CPU times: user 46.3 ms, sys: 6.43 ms, total: 52.8 ms\n",
      "Wall time: 5.05 s\n"
     ]
    }
   ],
   "source": [
    "%time n_nodes = nl.apply(my_func)"
   ]
  },
  {
   "cell_type": "code",
   "execution_count": 13,
   "metadata": {},
   "outputs": [
    {
     "data": {
      "application/vnd.jupyter.widget-view+json": {
       "model_id": "",
       "version_major": 2,
       "version_minor": 0
      },
      "text/plain": [
       "Apply my_func:   0%|          | 0/5 [00:00<?, ?it/s]"
      ]
     },
     "metadata": {},
     "output_type": "display_data"
    },
    {
     "name": "stdout",
     "output_type": "stream",
     "text": [
      "CPU times: user 94.7 ms, sys: 5.18 ms, total: 99.9 ms\n",
      "Wall time: 1.1 s\n"
     ]
    }
   ],
   "source": [
    "%time n_nodes = nl.apply(my_func, parallel=True)"
   ]
  }
 ],
 "metadata": {
  "kernelspec": {
   "display_name": "Python 3",
   "language": "python",
   "name": "python3"
  },
  "language_info": {
   "codemirror_mode": {
    "name": "ipython",
    "version": 3
   },
   "file_extension": ".py",
   "mimetype": "text/x-python",
   "name": "python",
   "nbconvert_exporter": "python",
   "pygments_lexer": "ipython3",
   "version": "3.7.5"
  },
  "widgets": {
   "application/vnd.jupyter.widget-state+json": {
    "state": {
     "00885a80599b49039df2ae9eabf6bc08": {
      "model_module": "@jupyter-widgets/base",
      "model_module_version": "1.2.0",
      "model_name": "LayoutModel",
      "state": {}
     },
     "00d27d894d0849f593c39c391cc13040": {
      "model_module": "@jupyter-widgets/controls",
      "model_module_version": "1.5.0",
      "model_name": "FloatProgressModel",
      "state": {
       "layout": "IPY_MODEL_b295c2015a5b44e29d4796df748fe2d3",
       "max": 5,
       "style": "IPY_MODEL_aa19222fa4c745a7904af4fa21d5db48",
       "value": 5
      }
     },
     "0121b5db6dec4e4984ce963ed74c9c8f": {
      "model_module": "@jupyter-widgets/base",
      "model_module_version": "1.2.0",
      "model_name": "LayoutModel",
      "state": {}
     },
     "079efb247aa14886b9003565a006609f": {
      "model_module": "@jupyter-widgets/base",
      "model_module_version": "1.2.0",
      "model_name": "LayoutModel",
      "state": {}
     },
     "0d5448191f284abf8aa46a95517e4573": {
      "model_module": "@jupyter-widgets/controls",
      "model_module_version": "1.5.0",
      "model_name": "HTMLModel",
      "state": {
       "layout": "IPY_MODEL_59790a7664d749b993ef1a893c909a39",
       "style": "IPY_MODEL_3bd7800f54e64b8e8b4e8f1d3b360734",
       "value": "Apply my_func:   0%"
      }
     },
     "134bf4cafaf043af8d54c36c994a034c": {
      "model_module": "@jupyter-widgets/controls",
      "model_module_version": "1.5.0",
      "model_name": "HBoxModel",
      "state": {
       "children": [
        "IPY_MODEL_0d5448191f284abf8aa46a95517e4573",
        "IPY_MODEL_ce3d92f9a15940a291b2241592ea8aa6",
        "IPY_MODEL_6a1b925664ad48789dd9abe5da818fa0"
       ],
       "layout": "IPY_MODEL_61929033f1af479eb3438c20ecbd9509"
      }
     },
     "15a476487d324029af2ceb13603c6f4b": {
      "model_module": "@jupyter-widgets/base",
      "model_module_version": "1.2.0",
      "model_name": "LayoutModel",
      "state": {}
     },
     "15ab61422c2f461695ae508c00f7eab0": {
      "model_module": "@jupyter-widgets/controls",
      "model_module_version": "1.5.0",
      "model_name": "HTMLModel",
      "state": {
       "layout": "IPY_MODEL_f421cfda07bf446a9a4348b786ee73d0",
       "style": "IPY_MODEL_9cca558f62814e55a869d544352f5e9c",
       "value": "resample: 100%"
      }
     },
     "17ffce6811564aa298ce17fb50482567": {
      "model_module": "@jupyter-widgets/controls",
      "model_module_version": "1.5.0",
      "model_name": "FloatProgressModel",
      "state": {
       "bar_style": "danger",
       "layout": "IPY_MODEL_15a476487d324029af2ceb13603c6f4b",
       "max": 5,
       "style": "IPY_MODEL_cecd938b57ce4ca0b5844947b67270be"
      }
     },
     "1a5af30f48eb4d329e738e4836a55aec": {
      "model_module": "@jupyter-widgets/controls",
      "model_module_version": "1.5.0",
      "model_name": "HTMLModel",
      "state": {
       "layout": "IPY_MODEL_b24b9cb667a640fba4aa4d93e8a8dd6f",
       "style": "IPY_MODEL_fad7ed13185a42209d2966d59b415758",
       "value": "Resampling: 100%"
      }
     },
     "1b089964f00b49a68320329ce64de09c": {
      "model_module": "@jupyter-widgets/controls",
      "model_module_version": "1.5.0",
      "model_name": "DescriptionStyleModel",
      "state": {
       "description_width": ""
      }
     },
     "1ba98610238b4d24b9860853445e492a": {
      "model_module": "@jupyter-widgets/controls",
      "model_module_version": "1.5.0",
      "model_name": "ProgressStyleModel",
      "state": {
       "description_width": ""
      }
     },
     "1c5f15d66853453ca713d8c8d29856b0": {
      "model_module": "@jupyter-widgets/controls",
      "model_module_version": "1.5.0",
      "model_name": "FloatProgressModel",
      "state": {
       "layout": "IPY_MODEL_fed43604591344ac9130ab0bb6d44fdd",
       "max": 5,
       "style": "IPY_MODEL_4f2aa00c652f4fc192de72819d9957e0",
       "value": 5
      }
     },
     "20beaaa495b249228617b83a48ab6e42": {
      "model_module": "@jupyter-widgets/base",
      "model_module_version": "1.2.0",
      "model_name": "LayoutModel",
      "state": {}
     },
     "22d159ce7f8843f1b7799bbd29135a3d": {
      "model_module": "@jupyter-widgets/base",
      "model_module_version": "1.2.0",
      "model_name": "LayoutModel",
      "state": {}
     },
     "294b35bc6a8344a18b40efb466fef183": {
      "model_module": "@jupyter-widgets/controls",
      "model_module_version": "1.5.0",
      "model_name": "ProgressStyleModel",
      "state": {
       "description_width": ""
      }
     },
     "2c63da78ed944bd88be36bcc25b4a0d4": {
      "model_module": "@jupyter-widgets/controls",
      "model_module_version": "1.5.0",
      "model_name": "ProgressStyleModel",
      "state": {
       "description_width": ""
      }
     },
     "323bda51e12346a488074f506d65ba26": {
      "model_module": "@jupyter-widgets/base",
      "model_module_version": "1.2.0",
      "model_name": "LayoutModel",
      "state": {}
     },
     "334a060a948c46d49820679202d00eae": {
      "model_module": "@jupyter-widgets/base",
      "model_module_version": "1.2.0",
      "model_name": "LayoutModel",
      "state": {}
     },
     "387c40d160474266b4dd190b1a7ed150": {
      "model_module": "@jupyter-widgets/controls",
      "model_module_version": "1.5.0",
      "model_name": "HTMLModel",
      "state": {
       "layout": "IPY_MODEL_22d159ce7f8843f1b7799bbd29135a3d",
       "style": "IPY_MODEL_7cc6c202ef634596b0f4c50ebf9f34ee",
       "value": "Resampling:   0%"
      }
     },
     "3a145ff03e1f41b8b1e40e0d49e86ad7": {
      "model_module": "@jupyter-widgets/controls",
      "model_module_version": "1.5.0",
      "model_name": "DescriptionStyleModel",
      "state": {
       "description_width": ""
      }
     },
     "3bd7800f54e64b8e8b4e8f1d3b360734": {
      "model_module": "@jupyter-widgets/controls",
      "model_module_version": "1.5.0",
      "model_name": "DescriptionStyleModel",
      "state": {
       "description_width": ""
      }
     },
     "3fc5a5d2f32f4d0da764ee4ad342ceb5": {
      "model_module": "@jupyter-widgets/controls",
      "model_module_version": "1.5.0",
      "model_name": "DescriptionStyleModel",
      "state": {
       "description_width": ""
      }
     },
     "43142d82f29744ddb3a5c8fb7f36128e": {
      "model_module": "@jupyter-widgets/controls",
      "model_module_version": "1.5.0",
      "model_name": "FloatProgressModel",
      "state": {
       "layout": "IPY_MODEL_0121b5db6dec4e4984ce963ed74c9c8f",
       "max": 5,
       "style": "IPY_MODEL_294b35bc6a8344a18b40efb466fef183",
       "value": 5
      }
     },
     "454eb50eec2e4c389854c260c61dee46": {
      "model_module": "@jupyter-widgets/controls",
      "model_module_version": "1.5.0",
      "model_name": "HBoxModel",
      "state": {
       "children": [
        "IPY_MODEL_387c40d160474266b4dd190b1a7ed150",
        "IPY_MODEL_17ffce6811564aa298ce17fb50482567",
        "IPY_MODEL_e83cb7b293d241739533094a4fa31a26"
       ],
       "layout": "IPY_MODEL_5ed4d1beb93f4feaa817783bdf8533bd"
      }
     },
     "4c60170fe13a467e9403e30ec9f42941": {
      "model_module": "@jupyter-widgets/base",
      "model_module_version": "1.2.0",
      "model_name": "LayoutModel",
      "state": {}
     },
     "4ca2de61ec0b454a8aca2e6313d72bb7": {
      "model_module": "@jupyter-widgets/base",
      "model_module_version": "1.2.0",
      "model_name": "LayoutModel",
      "state": {}
     },
     "4f2aa00c652f4fc192de72819d9957e0": {
      "model_module": "@jupyter-widgets/controls",
      "model_module_version": "1.5.0",
      "model_name": "ProgressStyleModel",
      "state": {
       "description_width": ""
      }
     },
     "5122aa0595824a6e8c66026ea3fa2e72": {
      "model_module": "@jupyter-widgets/base",
      "model_module_version": "1.2.0",
      "model_name": "LayoutModel",
      "state": {}
     },
     "55c1f6e6bd1c46d68658514541026e5b": {
      "model_module": "@jupyter-widgets/base",
      "model_module_version": "1.2.0",
      "model_name": "LayoutModel",
      "state": {}
     },
     "581d27aab46b4d5ca85a3fa442af2f49": {
      "model_module": "@jupyter-widgets/base",
      "model_module_version": "1.2.0",
      "model_name": "LayoutModel",
      "state": {}
     },
     "59790a7664d749b993ef1a893c909a39": {
      "model_module": "@jupyter-widgets/base",
      "model_module_version": "1.2.0",
      "model_name": "LayoutModel",
      "state": {}
     },
     "5a203b1420514027a26968b794aefa35": {
      "model_module": "@jupyter-widgets/controls",
      "model_module_version": "1.5.0",
      "model_name": "HTMLModel",
      "state": {
       "layout": "IPY_MODEL_323bda51e12346a488074f506d65ba26",
       "style": "IPY_MODEL_61d3dd2a49ed4a6abf8faec351761f94",
       "value": " 5/5 [00:05&lt;00:00,  1.01s/it]"
      }
     },
     "5a7cb9f77bf240b39a3836293b66e586": {
      "model_module": "@jupyter-widgets/controls",
      "model_module_version": "1.5.0",
      "model_name": "HTMLModel",
      "state": {
       "layout": "IPY_MODEL_ed14a8dade0d4f258ed3ed31c51fa5bc",
       "style": "IPY_MODEL_3a145ff03e1f41b8b1e40e0d49e86ad7",
       "value": "Apply my_func: 100%"
      }
     },
     "5ed4d1beb93f4feaa817783bdf8533bd": {
      "model_module": "@jupyter-widgets/base",
      "model_module_version": "1.2.0",
      "model_name": "LayoutModel",
      "state": {}
     },
     "61929033f1af479eb3438c20ecbd9509": {
      "model_module": "@jupyter-widgets/base",
      "model_module_version": "1.2.0",
      "model_name": "LayoutModel",
      "state": {}
     },
     "61d3dd2a49ed4a6abf8faec351761f94": {
      "model_module": "@jupyter-widgets/controls",
      "model_module_version": "1.5.0",
      "model_name": "DescriptionStyleModel",
      "state": {
       "description_width": ""
      }
     },
     "661fbe47dd9b425bb8f0fe2a7ae904f9": {
      "model_module": "@jupyter-widgets/base",
      "model_module_version": "1.2.0",
      "model_name": "LayoutModel",
      "state": {}
     },
     "6a1b925664ad48789dd9abe5da818fa0": {
      "model_module": "@jupyter-widgets/controls",
      "model_module_version": "1.5.0",
      "model_name": "HTMLModel",
      "state": {
       "layout": "IPY_MODEL_706f07a8c517451c917f6b760bef078c",
       "style": "IPY_MODEL_dbf4ca360ffb4694bc455d1d7e4ee38c",
       "value": " 0/5 [00:00&lt;?, ?it/s]"
      }
     },
     "6a41404f801f45d29bd423f415a345c7": {
      "model_module": "@jupyter-widgets/controls",
      "model_module_version": "1.5.0",
      "model_name": "HTMLModel",
      "state": {
       "layout": "IPY_MODEL_a5e97081bbdc4f3daad713bc07f2d58f",
       "style": "IPY_MODEL_1b089964f00b49a68320329ce64de09c",
       "value": " 2/5 [00:00&lt;00:01,  2.79it/s]"
      }
     },
     "6cabd6d61ff4448fad641c548d426fc6": {
      "model_module": "@jupyter-widgets/controls",
      "model_module_version": "1.5.0",
      "model_name": "DescriptionStyleModel",
      "state": {
       "description_width": ""
      }
     },
     "706f07a8c517451c917f6b760bef078c": {
      "model_module": "@jupyter-widgets/base",
      "model_module_version": "1.2.0",
      "model_name": "LayoutModel",
      "state": {}
     },
     "7228dbcfe59c49b4a04854660d215902": {
      "model_module": "@jupyter-widgets/controls",
      "model_module_version": "1.5.0",
      "model_name": "ProgressStyleModel",
      "state": {
       "description_width": ""
      }
     },
     "7484cee3eceb427d9f87662748ccf4b1": {
      "model_module": "@jupyter-widgets/base",
      "model_module_version": "1.2.0",
      "model_name": "LayoutModel",
      "state": {}
     },
     "793b5dbac32f4ec2bd3bd585b76a3c51": {
      "model_module": "@jupyter-widgets/controls",
      "model_module_version": "1.5.0",
      "model_name": "HTMLModel",
      "state": {
       "layout": "IPY_MODEL_d4135ec0f72b4d8f973442e97cc589e0",
       "style": "IPY_MODEL_f713aac15bf64d989d10c0c2c0a0bfa7",
       "value": " 2/5 [00:00&lt;00:01,  2.77it/s]"
      }
     },
     "7cc6c202ef634596b0f4c50ebf9f34ee": {
      "model_module": "@jupyter-widgets/controls",
      "model_module_version": "1.5.0",
      "model_name": "DescriptionStyleModel",
      "state": {
       "description_width": ""
      }
     },
     "7e7b5022868240b0b11aab16f35a4ebc": {
      "model_module": "@jupyter-widgets/controls",
      "model_module_version": "1.5.0",
      "model_name": "HTMLModel",
      "state": {
       "layout": "IPY_MODEL_b8c4eccd9e1746399d28384b1568b385",
       "style": "IPY_MODEL_6cabd6d61ff4448fad641c548d426fc6",
       "value": "Apply my_func:  20%"
      }
     },
     "857081fcc8804f508f821b3f322b2f50": {
      "model_module": "@jupyter-widgets/controls",
      "model_module_version": "1.5.0",
      "model_name": "HTMLModel",
      "state": {
       "layout": "IPY_MODEL_334a060a948c46d49820679202d00eae",
       "style": "IPY_MODEL_3fc5a5d2f32f4d0da764ee4ad342ceb5",
       "value": "resample:  40%"
      }
     },
     "88806d2c91834dd69d0c03aadf81871b": {
      "model_module": "@jupyter-widgets/controls",
      "model_module_version": "1.5.0",
      "model_name": "DescriptionStyleModel",
      "state": {
       "description_width": ""
      }
     },
     "91e677c9190846129dc9017cdc76def9": {
      "model_module": "@jupyter-widgets/controls",
      "model_module_version": "1.5.0",
      "model_name": "DescriptionStyleModel",
      "state": {
       "description_width": ""
      }
     },
     "9341c188057e46fea77255a4c137937f": {
      "model_module": "@jupyter-widgets/base",
      "model_module_version": "1.2.0",
      "model_name": "LayoutModel",
      "state": {}
     },
     "9cca558f62814e55a869d544352f5e9c": {
      "model_module": "@jupyter-widgets/controls",
      "model_module_version": "1.5.0",
      "model_name": "DescriptionStyleModel",
      "state": {
       "description_width": ""
      }
     },
     "9ce4bcf9bdc64c39a51530d44f0d6efa": {
      "model_module": "@jupyter-widgets/base",
      "model_module_version": "1.2.0",
      "model_name": "LayoutModel",
      "state": {}
     },
     "a5e97081bbdc4f3daad713bc07f2d58f": {
      "model_module": "@jupyter-widgets/base",
      "model_module_version": "1.2.0",
      "model_name": "LayoutModel",
      "state": {}
     },
     "aa19222fa4c745a7904af4fa21d5db48": {
      "model_module": "@jupyter-widgets/controls",
      "model_module_version": "1.5.0",
      "model_name": "ProgressStyleModel",
      "state": {
       "description_width": ""
      }
     },
     "aae6b0f6fa064203a51272ee1bac4174": {
      "model_module": "@jupyter-widgets/controls",
      "model_module_version": "1.5.0",
      "model_name": "HTMLModel",
      "state": {
       "layout": "IPY_MODEL_55c1f6e6bd1c46d68658514541026e5b",
       "style": "IPY_MODEL_88806d2c91834dd69d0c03aadf81871b",
       "value": "Resampling:  40%"
      }
     },
     "b24b9cb667a640fba4aa4d93e8a8dd6f": {
      "model_module": "@jupyter-widgets/base",
      "model_module_version": "1.2.0",
      "model_name": "LayoutModel",
      "state": {}
     },
     "b295c2015a5b44e29d4796df748fe2d3": {
      "model_module": "@jupyter-widgets/base",
      "model_module_version": "1.2.0",
      "model_name": "LayoutModel",
      "state": {}
     },
     "b2ac2694c7844980b12bfb450193b3a7": {
      "model_module": "@jupyter-widgets/controls",
      "model_module_version": "1.5.0",
      "model_name": "DescriptionStyleModel",
      "state": {
       "description_width": ""
      }
     },
     "b8c4eccd9e1746399d28384b1568b385": {
      "model_module": "@jupyter-widgets/base",
      "model_module_version": "1.2.0",
      "model_name": "LayoutModel",
      "state": {}
     },
     "baaedc464a8746999c411e12f64ee3ac": {
      "model_module": "@jupyter-widgets/controls",
      "model_module_version": "1.5.0",
      "model_name": "FloatProgressModel",
      "state": {
       "layout": "IPY_MODEL_661fbe47dd9b425bb8f0fe2a7ae904f9",
       "max": 5,
       "style": "IPY_MODEL_2c63da78ed944bd88be36bcc25b4a0d4",
       "value": 5
      }
     },
     "bae4123c161f4053b1ba31165fa5985e": {
      "model_module": "@jupyter-widgets/base",
      "model_module_version": "1.2.0",
      "model_name": "LayoutModel",
      "state": {}
     },
     "bb1b0121689f4374b6cccdaaf407b4e3": {
      "model_module": "@jupyter-widgets/base",
      "model_module_version": "1.2.0",
      "model_name": "LayoutModel",
      "state": {}
     },
     "c6c71353583f45b2875cd82397371d0e": {
      "model_module": "@jupyter-widgets/controls",
      "model_module_version": "1.5.0",
      "model_name": "FloatProgressModel",
      "state": {
       "layout": "IPY_MODEL_4c60170fe13a467e9403e30ec9f42941",
       "max": 5,
       "style": "IPY_MODEL_7228dbcfe59c49b4a04854660d215902",
       "value": 5
      }
     },
     "ce3d92f9a15940a291b2241592ea8aa6": {
      "model_module": "@jupyter-widgets/controls",
      "model_module_version": "1.5.0",
      "model_name": "FloatProgressModel",
      "state": {
       "bar_style": "danger",
       "layout": "IPY_MODEL_9ce4bcf9bdc64c39a51530d44f0d6efa",
       "max": 5,
       "style": "IPY_MODEL_1ba98610238b4d24b9860853445e492a"
      }
     },
     "ce453a4b25254810ba4009949ffa4298": {
      "model_module": "@jupyter-widgets/controls",
      "model_module_version": "1.5.0",
      "model_name": "HTMLModel",
      "state": {
       "layout": "IPY_MODEL_5122aa0595824a6e8c66026ea3fa2e72",
       "style": "IPY_MODEL_def8487fd9ee427b9091c71adaca38e5",
       "value": " 1/5 [00:01&lt;00:04,  1.04s/it]"
      }
     },
     "cecd938b57ce4ca0b5844947b67270be": {
      "model_module": "@jupyter-widgets/controls",
      "model_module_version": "1.5.0",
      "model_name": "ProgressStyleModel",
      "state": {
       "description_width": ""
      }
     },
     "d4135ec0f72b4d8f973442e97cc589e0": {
      "model_module": "@jupyter-widgets/base",
      "model_module_version": "1.2.0",
      "model_name": "LayoutModel",
      "state": {}
     },
     "d492efdba5f24bc58dd08bfce9525f8c": {
      "model_module": "@jupyter-widgets/controls",
      "model_module_version": "1.5.0",
      "model_name": "FloatProgressModel",
      "state": {
       "layout": "IPY_MODEL_7484cee3eceb427d9f87662748ccf4b1",
       "max": 5,
       "style": "IPY_MODEL_ec22b4301ce44f1d84ed4864c74e0f50",
       "value": 5
      }
     },
     "dbf4ca360ffb4694bc455d1d7e4ee38c": {
      "model_module": "@jupyter-widgets/controls",
      "model_module_version": "1.5.0",
      "model_name": "DescriptionStyleModel",
      "state": {
       "description_width": ""
      }
     },
     "def8487fd9ee427b9091c71adaca38e5": {
      "model_module": "@jupyter-widgets/controls",
      "model_module_version": "1.5.0",
      "model_name": "DescriptionStyleModel",
      "state": {
       "description_width": ""
      }
     },
     "e3417d8dd36c453a8bc1f6638208ca86": {
      "model_module": "@jupyter-widgets/controls",
      "model_module_version": "1.5.0",
      "model_name": "HTMLModel",
      "state": {
       "layout": "IPY_MODEL_581d27aab46b4d5ca85a3fa442af2f49",
       "style": "IPY_MODEL_b2ac2694c7844980b12bfb450193b3a7",
       "value": " 5/5 [00:03&lt;00:00,  1.50it/s]"
      }
     },
     "e54343af0c68492d9dee5150e6d5ef59": {
      "model_module": "@jupyter-widgets/base",
      "model_module_version": "1.2.0",
      "model_name": "LayoutModel",
      "state": {}
     },
     "e5d8d2761e774533aa0e4548c47732b1": {
      "model_module": "@jupyter-widgets/controls",
      "model_module_version": "1.5.0",
      "model_name": "DescriptionStyleModel",
      "state": {
       "description_width": ""
      }
     },
     "e83cb7b293d241739533094a4fa31a26": {
      "model_module": "@jupyter-widgets/controls",
      "model_module_version": "1.5.0",
      "model_name": "HTMLModel",
      "state": {
       "layout": "IPY_MODEL_4ca2de61ec0b454a8aca2e6313d72bb7",
       "style": "IPY_MODEL_e5d8d2761e774533aa0e4548c47732b1",
       "value": " 0/5 [00:00&lt;?, ?it/s]"
      }
     },
     "ec22b4301ce44f1d84ed4864c74e0f50": {
      "model_module": "@jupyter-widgets/controls",
      "model_module_version": "1.5.0",
      "model_name": "ProgressStyleModel",
      "state": {
       "description_width": ""
      }
     },
     "ed14a8dade0d4f258ed3ed31c51fa5bc": {
      "model_module": "@jupyter-widgets/base",
      "model_module_version": "1.2.0",
      "model_name": "LayoutModel",
      "state": {}
     },
     "f421cfda07bf446a9a4348b786ee73d0": {
      "model_module": "@jupyter-widgets/base",
      "model_module_version": "1.2.0",
      "model_name": "LayoutModel",
      "state": {}
     },
     "f521aada56c94eedaa06ff2f3666f535": {
      "model_module": "@jupyter-widgets/controls",
      "model_module_version": "1.5.0",
      "model_name": "HTMLModel",
      "state": {
       "layout": "IPY_MODEL_bb1b0121689f4374b6cccdaaf407b4e3",
       "style": "IPY_MODEL_91e677c9190846129dc9017cdc76def9",
       "value": " 5/5 [00:03&lt;00:00,  1.52it/s]"
      }
     },
     "f713aac15bf64d989d10c0c2c0a0bfa7": {
      "model_module": "@jupyter-widgets/controls",
      "model_module_version": "1.5.0",
      "model_name": "DescriptionStyleModel",
      "state": {
       "description_width": ""
      }
     },
     "fad7ed13185a42209d2966d59b415758": {
      "model_module": "@jupyter-widgets/controls",
      "model_module_version": "1.5.0",
      "model_name": "DescriptionStyleModel",
      "state": {
       "description_width": ""
      }
     },
     "fed43604591344ac9130ab0bb6d44fdd": {
      "model_module": "@jupyter-widgets/base",
      "model_module_version": "1.2.0",
      "model_name": "LayoutModel",
      "state": {}
     }
    },
    "version_major": 2,
    "version_minor": 0
   }
  }
 },
 "nbformat": 4,
 "nbformat_minor": 4
}
