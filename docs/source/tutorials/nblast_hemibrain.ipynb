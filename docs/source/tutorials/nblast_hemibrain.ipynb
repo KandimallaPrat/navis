{
 "cells": [
  {
   "cell_type": "raw",
   "metadata": {
    "raw_mimetype": "text/restructuredtext"
   },
   "source": [
    ".. _nblast_hemibrain:\n",
    "\n",
    "NBLAST using light-level data\n",
    "*****************************\n",
    "\n",
    "One of the applications of NBLAST is to match neurons across data sets. Here we will illustrate this by taking a light-level, confocal image stack and finding the same neuron in an EM connectome. \n",
    "\n",
    "Specifically, we will use an image from Janelia's collection of split-Gal4 driver lines and match it against the neurons in the `hemibrain connectome <https://neuprint.janelia.org>`_. \n",
    "\n",
    "Before we get started make sure that:\n",
    "- ``navis`` is installed and up-to-date \n",
    "- `navis-flybrains <https://github.com/navis-org/navis-flybrains>` is installed and you have downloaded the Saalfeld lab's and VFB bridging transforms (see ``flybrains.download_...`` functions)\n",
    "- download and extract `hemibrain-v1.2-skeletons.tar <https://storage.googleapis.com/hemibrain/v1.2/hemibrain-v1.2-skeletons.tar.gz>`_  (kindly provided by Stuart Berg, Janelia)\n",
    "\n",
    "Next we need to pick an image stack to use as query. You can browse the expression patterns of the Janelia split-Gal4 lines `here <https://splitgal4.janelia.org/cgi-bin/splitgal4.cgi>`_. Here I picked ``LH1112`` which is a very clean line containing a L/R pair of WED projection neurons. Among other data, you can download these stacks as \"gendered\" (i.e. female or male) or \"unisex\" space. Unfortunately, all image stacks are in Janelia's ``.h5j`` format which I haven't figured out how to import straight from Python. Two options:\n",
    "\n",
    "1. Load them into Fiji and save the GFP signal channel as `.nrrd` file.\n",
    "2. Go to `VirtualFlyBrain <http://www.virtualflybrain.org/>`_, search for your line of interested LH1112 (not all lines are be available on VFB) and download the \"Signal(NRRD)\" at bottom of Term Info panel. \n",
    "\n",
    "I went for option two here and downloaded a ``VFB_001013cg.nrrd``. This is the neuron we'll be looking for:\n",
    "\n",
    ".. image:: https://s3.amazonaws.com/janelia-flylight-imagery/Lateral+Horn+2019/LH1112/LH1112-20150313_46_A2-f-20x-brain-Split_GAL4-multichannel_mip.png\n",
    "   :width: 500\n",
    "   :align: center\n",
    "   \n",
    "Let's get started!"
   ]
  },
  {
   "cell_type": "code",
   "execution_count": 1,
   "metadata": {},
   "outputs": [],
   "source": [
    "import navis"
   ]
  },
  {
   "cell_type": "raw",
   "metadata": {
    "raw_mimetype": "text/restructuredtext"
   },
   "source": [
    "First we need to load the image stack and turn it into dotprops:"
   ]
  },
  {
   "cell_type": "code",
   "execution_count": 31,
   "metadata": {},
   "outputs": [
    {
     "data": {
      "text/html": [
       "<div>\n",
       "<style scoped>\n",
       "    .dataframe tbody tr th:only-of-type {\n",
       "        vertical-align: middle;\n",
       "    }\n",
       "\n",
       "    .dataframe tbody tr th {\n",
       "        vertical-align: top;\n",
       "    }\n",
       "\n",
       "    .dataframe thead th {\n",
       "        text-align: right;\n",
       "    }\n",
       "</style>\n",
       "<table border=\"1\" class=\"dataframe\">\n",
       "  <thead>\n",
       "    <tr style=\"text-align: right;\">\n",
       "      <th></th>\n",
       "      <th></th>\n",
       "    </tr>\n",
       "  </thead>\n",
       "  <tbody>\n",
       "    <tr>\n",
       "      <th>type</th>\n",
       "      <td>navis.Dotprops</td>\n",
       "    </tr>\n",
       "    <tr>\n",
       "      <th>name</th>\n",
       "      <td>VFB_001013cg</td>\n",
       "    </tr>\n",
       "    <tr>\n",
       "      <th>id</th>\n",
       "      <td>MB566C</td>\n",
       "    </tr>\n",
       "    <tr>\n",
       "      <th>k</th>\n",
       "      <td>20</td>\n",
       "    </tr>\n",
       "    <tr>\n",
       "      <th>units</th>\n",
       "      <td>1 micrometer</td>\n",
       "    </tr>\n",
       "    <tr>\n",
       "      <th>n_points</th>\n",
       "      <td>10375</td>\n",
       "    </tr>\n",
       "  </tbody>\n",
       "</table>\n",
       "</div>"
      ],
      "text/plain": [
       "type        navis.Dotprops\n",
       "name          VFB_001013cg\n",
       "id                  MB566C\n",
       "k                       20\n",
       "units         1 micrometer\n",
       "n_points             10375\n",
       "dtype: object"
      ]
     },
     "execution_count": 31,
     "metadata": {},
     "output_type": "execute_result"
    }
   ],
   "source": [
    "query = navis.read_nrrd('VFB_001013cg.nrrd', output='dotprops', k=20, threshold=100)\n",
    "query.id = 'MB566C'\n",
    "query"
   ]
  },
  {
   "cell_type": "code",
   "execution_count": null,
   "metadata": {},
   "outputs": [],
   "source": [
    "fig = navis.plot3d(query)"
   ]
  },
  {
   "cell_type": "raw",
   "metadata": {
    "raw_mimetype": "text/restructuredtext",
    "tags": []
   },
   "source": [
    ".. raw:: html\n",
    "   :file: figures/3d_nblast_dotprops.html\n",
    "\n",
    "|\n",
    "|\n",
    "|\n",
    "|\n",
    "\n",
    ".. note::\n",
    "    \n",
    "   Depending on your image you will have to play around with the threshold to get a decent representation.\n",
    "   \n",
    "Next we need to load the hemibrain skeletons and convert them to dotprops."
   ]
  },
  {
   "cell_type": "code",
   "execution_count": 10,
   "metadata": {},
   "outputs": [
    {
     "data": {
      "application/vnd.jupyter.widget-view+json": {
       "model_id": "",
       "version_major": 2,
       "version_minor": 0
      },
      "text/plain": [
       "Importing:   0%|          | 0/97900 [00:00<?, ?it/s]"
      ]
     },
     "metadata": {},
     "output_type": "display_data"
    }
   ],
   "source": [
    "sk = navis.read_swc('/Users/philipps/Downloads/hemibrain-v1.2-skeletons/',\n",
    "                    include_subdirs=True, fmt='{name,id:int}.swc')"
   ]
  },
  {
   "cell_type": "raw",
   "metadata": {
    "raw_mimetype": "text/restructuredtext",
    "tags": []
   },
   "source": [
    "These 97k skeletons include lots of small fragments - there are only ~25k proper neurons or substantial fragments thereof in the hemibrain dataset. So to make our life a little easier, we will keep only the largest 30k skeletons:"
   ]
  },
  {
   "cell_type": "code",
   "execution_count": 13,
   "metadata": {},
   "outputs": [
    {
     "data": {
      "text/html": [
       "&lt;class 'navis.core.neuronlist.NeuronList'&gt; containing 30000 neurons (est. 3.2GiB)<div>\n",
       "<style scoped>\n",
       "    .dataframe tbody tr th:only-of-type {\n",
       "        vertical-align: middle;\n",
       "    }\n",
       "\n",
       "    .dataframe tbody tr th {\n",
       "        vertical-align: top;\n",
       "    }\n",
       "\n",
       "    .dataframe thead th {\n",
       "        text-align: right;\n",
       "    }\n",
       "</style>\n",
       "<table border=\"1\" class=\"dataframe\">\n",
       "  <thead>\n",
       "    <tr style=\"text-align: right;\">\n",
       "      <th></th>\n",
       "      <th>type</th>\n",
       "      <th>name</th>\n",
       "      <th>n_nodes</th>\n",
       "      <th>n_connectors</th>\n",
       "      <th>n_branches</th>\n",
       "      <th>n_leafs</th>\n",
       "      <th>cable_length</th>\n",
       "      <th>soma</th>\n",
       "      <th>units</th>\n",
       "    </tr>\n",
       "  </thead>\n",
       "  <tbody>\n",
       "    <tr>\n",
       "      <th>0</th>\n",
       "      <td>navis.TreeNeuron</td>\n",
       "      <td>425790257</td>\n",
       "      <td>182514</td>\n",
       "      <td>None</td>\n",
       "      <td>20286</td>\n",
       "      <td>20851</td>\n",
       "      <td>1.001564e+07</td>\n",
       "      <td>None</td>\n",
       "      <td>1 dimensionless</td>\n",
       "    </tr>\n",
       "    <tr>\n",
       "      <th>1</th>\n",
       "      <td>navis.TreeNeuron</td>\n",
       "      <td>5813105172</td>\n",
       "      <td>159749</td>\n",
       "      <td>None</td>\n",
       "      <td>22416</td>\n",
       "      <td>22866</td>\n",
       "      <td>7.610828e+06</td>\n",
       "      <td>None</td>\n",
       "      <td>1 dimensionless</td>\n",
       "    </tr>\n",
       "    <tr>\n",
       "      <th>...</th>\n",
       "      <td>...</td>\n",
       "      <td>...</td>\n",
       "      <td>...</td>\n",
       "      <td>...</td>\n",
       "      <td>...</td>\n",
       "      <td>...</td>\n",
       "      <td>...</td>\n",
       "      <td>...</td>\n",
       "      <td>...</td>\n",
       "    </tr>\n",
       "    <tr>\n",
       "      <th>29998</th>\n",
       "      <td>navis.TreeNeuron</td>\n",
       "      <td>5813035385</td>\n",
       "      <td>1018</td>\n",
       "      <td>None</td>\n",
       "      <td>90</td>\n",
       "      <td>100</td>\n",
       "      <td>6.213784e+04</td>\n",
       "      <td>None</td>\n",
       "      <td>1 dimensionless</td>\n",
       "    </tr>\n",
       "    <tr>\n",
       "      <th>29999</th>\n",
       "      <td>navis.TreeNeuron</td>\n",
       "      <td>2375870447</td>\n",
       "      <td>1018</td>\n",
       "      <td>None</td>\n",
       "      <td>151</td>\n",
       "      <td>156</td>\n",
       "      <td>3.505048e+04</td>\n",
       "      <td>None</td>\n",
       "      <td>1 dimensionless</td>\n",
       "    </tr>\n",
       "  </tbody>\n",
       "</table>\n",
       "</div>"
      ],
      "text/plain": [
       "<class 'navis.core.neuronlist.NeuronList'> containing 30000 neurons (est. 3.2GiB)\n",
       "                   type        name  n_nodes n_connectors  n_branches  \\\n",
       "0      navis.TreeNeuron   425790257   182514         None       20286   \n",
       "1      navis.TreeNeuron  5813105172   159749         None       22416   \n",
       "...                 ...         ...      ...          ...         ...   \n",
       "29998  navis.TreeNeuron  5813035385     1018         None          90   \n",
       "29999  navis.TreeNeuron  2375870447     1018         None         151   \n",
       "\n",
       "       n_leafs  cable_length  soma            units  \n",
       "0        20851  1.001564e+07  None  1 dimensionless  \n",
       "1        22866  7.610828e+06  None  1 dimensionless  \n",
       "...        ...           ...   ...              ...  \n",
       "29998      100  6.213784e+04  None  1 dimensionless  \n",
       "29999      156  3.505048e+04  None  1 dimensionless  "
      ]
     },
     "execution_count": 13,
     "metadata": {},
     "output_type": "execute_result"
    }
   ],
   "source": [
    "sk.sort_values('n_nodes')\n",
    "sk = sk[:30_000]\n",
    "sk"
   ]
  },
  {
   "cell_type": "raw",
   "metadata": {
    "raw_mimetype": "text/restructuredtext",
    "tags": []
   },
   "source": [
    "Next up: turning those skeletons into dotprops."
   ]
  },
  {
   "cell_type": "code",
   "execution_count": 14,
   "metadata": {},
   "outputs": [
    {
     "data": {
      "application/vnd.jupyter.widget-view+json": {
       "model_id": "",
       "version_major": 2,
       "version_minor": 0
      },
      "text/plain": [
       "Dotprops:   0%|          | 0/30000 [00:00<?, ?it/s]"
      ]
     },
     "metadata": {},
     "output_type": "display_data"
    }
   ],
   "source": [
    "# Note that we are resampling to 1 point for every micron of cable \n",
    "# Because these skeletons are in 8nm voxels we have to use 1000/8\n",
    "targets = navis.make_dotprops(sk, k=5, parallel=True, resample=1000/8)"
   ]
  },
  {
   "cell_type": "raw",
   "metadata": {
    "raw_mimetype": "text/restructuredtext",
    "tags": []
   },
   "source": [
    ".. note:\n",
    "    \n",
    "   Making the dotprops may take a while. You can dedicate more cores via the ``n_cores`` parameter. \n",
    "   It may also make sense to save the dotprops for future use e.g. by pickling them.\n",
    "   \n",
    "Last but not least we need to convert the image's dotprops from their current brain space (``JRC2018U`` for \"unisex\") to hemibrain (``JRCFIB2018Fraw``) space."
   ]
  },
  {
   "cell_type": "code",
   "execution_count": 21,
   "metadata": {},
   "outputs": [
    {
     "name": "stdout",
     "output_type": "stream",
     "text": [
      "Transform path: JRC2018U -> JRC2018F -> JRCFIB2018Fum -> JRCFIB2018F -> JRCFIB2018Fraw\n"
     ]
    }
   ],
   "source": [
    "import flybrains\n",
    "\n",
    "query_xf = navis.xform_brain(query, source='JRC2018U', target='JRCFIB2018Fraw')"
   ]
  },
  {
   "cell_type": "raw",
   "metadata": {
    "raw_mimetype": "text/restructuredtext",
    "tags": []
   },
   "source": [
    "Now we can run the NBLAST:"
   ]
  },
  {
   "cell_type": "code",
   "execution_count": null,
   "metadata": {},
   "outputs": [],
   "source": [
    "# Note that we convert from voxels (8nm) to microns\n",
    "scores = navis.nblast(query_xf / 125, targets / 125, scores='mean')"
   ]
  },
  {
   "cell_type": "code",
   "execution_count": 33,
   "metadata": {},
   "outputs": [
    {
     "data": {
      "text/html": [
       "<div>\n",
       "<style scoped>\n",
       "    .dataframe tbody tr th:only-of-type {\n",
       "        vertical-align: middle;\n",
       "    }\n",
       "\n",
       "    .dataframe tbody tr th {\n",
       "        vertical-align: top;\n",
       "    }\n",
       "\n",
       "    .dataframe thead th {\n",
       "        text-align: right;\n",
       "    }\n",
       "</style>\n",
       "<table border=\"1\" class=\"dataframe\">\n",
       "  <thead>\n",
       "    <tr style=\"text-align: right;\">\n",
       "      <th></th>\n",
       "      <th>425790257</th>\n",
       "      <th>5813105172</th>\n",
       "      <th>5813057579</th>\n",
       "      <th>5813050499</th>\n",
       "      <th>859839499</th>\n",
       "      <th>5813039148</th>\n",
       "      <th>1640909284</th>\n",
       "      <th>423101189</th>\n",
       "      <th>1321564092</th>\n",
       "      <th>5813024698</th>\n",
       "      <th>...</th>\n",
       "      <th>2032311172</th>\n",
       "      <th>2283477509</th>\n",
       "      <th>1686751696</th>\n",
       "      <th>2180970798</th>\n",
       "      <th>1904079437</th>\n",
       "      <th>1348510839</th>\n",
       "      <th>5813047115</th>\n",
       "      <th>516672812</th>\n",
       "      <th>5813035385</th>\n",
       "      <th>2375870447</th>\n",
       "    </tr>\n",
       "  </thead>\n",
       "  <tbody>\n",
       "    <tr>\n",
       "      <th>MB566C</th>\n",
       "      <td>-0.793901</td>\n",
       "      <td>-0.870922</td>\n",
       "      <td>-0.767066</td>\n",
       "      <td>-0.627762</td>\n",
       "      <td>-0.612109</td>\n",
       "      <td>-0.591567</td>\n",
       "      <td>-0.827376</td>\n",
       "      <td>-0.878581</td>\n",
       "      <td>-0.680821</td>\n",
       "      <td>-0.832845</td>\n",
       "      <td>...</td>\n",
       "      <td>-0.881125</td>\n",
       "      <td>-0.817378</td>\n",
       "      <td>-0.88186</td>\n",
       "      <td>-0.881415</td>\n",
       "      <td>-0.881596</td>\n",
       "      <td>-0.549413</td>\n",
       "      <td>-0.881259</td>\n",
       "      <td>-0.880987</td>\n",
       "      <td>-0.88139</td>\n",
       "      <td>-0.667554</td>\n",
       "    </tr>\n",
       "  </tbody>\n",
       "</table>\n",
       "<p>1 rows × 30000 columns</p>\n",
       "</div>"
      ],
      "text/plain": [
       "        425790257   5813105172  5813057579  5813050499  859839499   \\\n",
       "MB566C   -0.793901   -0.870922   -0.767066   -0.627762   -0.612109   \n",
       "\n",
       "        5813039148  1640909284  423101189   1321564092  5813024698  ...  \\\n",
       "MB566C   -0.591567   -0.827376   -0.878581   -0.680821   -0.832845  ...   \n",
       "\n",
       "        2032311172  2283477509  1686751696  2180970798  1904079437  \\\n",
       "MB566C   -0.881125   -0.817378    -0.88186   -0.881415   -0.881596   \n",
       "\n",
       "        1348510839  5813047115  516672812   5813035385  2375870447  \n",
       "MB566C   -0.549413   -0.881259   -0.880987    -0.88139   -0.667554  \n",
       "\n",
       "[1 rows x 30000 columns]"
      ]
     },
     "execution_count": 33,
     "metadata": {},
     "output_type": "execute_result"
    }
   ],
   "source": [
    "scores.head()"
   ]
  },
  {
   "cell_type": "raw",
   "metadata": {
    "raw_mimetype": "text/restructuredtext",
    "tags": []
   },
   "source": [
    ".. note::\n",
    "    \n",
    "   You can greatly speed up NBLAST by installing the optional dependency ``pykdtree``:\n",
    "   ``pip3 install pykdtree``.\n",
    "   \n",
    "Now we can sort those scores to find the top matches:"
   ]
  },
  {
   "cell_type": "code",
   "execution_count": 35,
   "metadata": {},
   "outputs": [
    {
     "data": {
      "text/plain": [
       "2030342003    0.218951\n",
       "2214504597    0.214873\n",
       "1069223047    0.183628\n",
       "856131667     0.119994\n",
       "2214846055    0.094881\n",
       "                ...   \n",
       "2056511651   -0.883308\n",
       "296501634    -0.883329\n",
       "2275102579   -0.883354\n",
       "5813091313   -0.883436\n",
       "910404284    -0.883766\n",
       "Name: MB566C, Length: 30000, dtype: float64"
      ]
     },
     "execution_count": 35,
     "metadata": {},
     "output_type": "execute_result"
    }
   ],
   "source": [
    "scores.loc['MB566C'].sort_values(ascending=False)"
   ]
  },
  {
   "cell_type": "raw",
   "metadata": {
    "raw_mimetype": "text/restructuredtext",
    "tags": []
   },
   "source": [
    "So we did get a couple of hits here. Let's visualize the top 3:"
   ]
  },
  {
   "cell_type": "code",
   "execution_count": null,
   "metadata": {},
   "outputs": [],
   "source": [
    "fig = navis.plot3d([query_xf, targets.idx[[2030342003, 2214504597, 1069223047]]])"
   ]
  },
  {
   "cell_type": "raw",
   "metadata": {
    "raw_mimetype": "text/restructuredtext",
    "tags": []
   },
   "source": [
    ".. raw:: html\n",
    "   :file: figures/3d_nblast_results2.html\n",
    "\n",
    "|\n",
    "|\n",
    "|\n",
    "|\n",
    "\n",
    "On a final note: the scores for those matches are rather low (1 = perfect match). \n",
    "\n",
    "The main reason for this is that our image stack contains two neurons (the left and the right version) so half of our ``query`` won't have a match in any of the individual hemibrain neurons. We could have fixed that by subsetting the query to the approximate hemibrain bounding box. This is also a good idea for bilateral neurons that have parts of their arbour outside the hemibrain volume:"
   ]
  },
  {
   "cell_type": "code",
   "execution_count": 40,
   "metadata": {},
   "outputs": [
    {
     "data": {
      "text/plain": [
       "TrackedArray(34499.97265625)"
      ]
     },
     "execution_count": 40,
     "metadata": {},
     "output_type": "execute_result"
    }
   ],
   "source": [
    "# Remove the left-hand-side neuron based on the position \n",
    "# along the x-axis (this is just one of the possible approaches)\n",
    "# This is the approximate LHS boundary of the volume\n",
    "flybrains.JRCFIB2018Fraw.mesh.vertices[:, 0].max()"
   ]
  },
  {
   "cell_type": "code",
   "execution_count": 41,
   "metadata": {},
   "outputs": [
    {
     "data": {
      "text/html": [
       "<div>\n",
       "<style scoped>\n",
       "    .dataframe tbody tr th:only-of-type {\n",
       "        vertical-align: middle;\n",
       "    }\n",
       "\n",
       "    .dataframe tbody tr th {\n",
       "        vertical-align: top;\n",
       "    }\n",
       "\n",
       "    .dataframe thead th {\n",
       "        text-align: right;\n",
       "    }\n",
       "</style>\n",
       "<table border=\"1\" class=\"dataframe\">\n",
       "  <thead>\n",
       "    <tr style=\"text-align: right;\">\n",
       "      <th></th>\n",
       "      <th></th>\n",
       "    </tr>\n",
       "  </thead>\n",
       "  <tbody>\n",
       "    <tr>\n",
       "      <th>type</th>\n",
       "      <td>navis.Dotprops</td>\n",
       "    </tr>\n",
       "    <tr>\n",
       "      <th>name</th>\n",
       "      <td>VFB_001013cg</td>\n",
       "    </tr>\n",
       "    <tr>\n",
       "      <th>k</th>\n",
       "      <td>20</td>\n",
       "    </tr>\n",
       "    <tr>\n",
       "      <th>units</th>\n",
       "      <td>9.999999999999998 nanometer</td>\n",
       "    </tr>\n",
       "    <tr>\n",
       "      <th>n_points</th>\n",
       "      <td>5093</td>\n",
       "    </tr>\n",
       "  </tbody>\n",
       "</table>\n",
       "</div>"
      ],
      "text/plain": [
       "type                     navis.Dotprops\n",
       "name                       VFB_001013cg\n",
       "k                                    20\n",
       "units       9.999999999999998 nanometer\n",
       "n_points                           5093\n",
       "dtype: object"
      ]
     },
     "execution_count": 41,
     "metadata": {},
     "output_type": "execute_result"
    }
   ],
   "source": [
    "query_ss = navis.subset_neuron(query_xf, query_xf.points[:, 0] <= 35_000)\n",
    "query_ss"
   ]
  },
  {
   "cell_type": "raw",
   "metadata": {
    "raw_mimetype": "text/restructuredtext"
   },
   "source": [
    "Using ``query_ss`` should yield much improved scores. \n",
    "\n",
    "Another potential pitfall is the generation of dotprops from the image itself: if you compare the image- against the skeleton-derived dotprops, you might notice that the latter have fewer and less dense points. That's a natural consequence of the two modalities but we could have tried to ameliorate this by some pre-processing (e.g. downsampling or thinning the image)."
   ]
  }
 ],
 "metadata": {
  "celltoolbar": "Raw Cell Format",
  "kernelspec": {
   "display_name": "Python 3 (ipykernel)",
   "language": "python",
   "name": "python3"
  },
  "language_info": {
   "codemirror_mode": {
    "name": "ipython",
    "version": 3
   },
   "file_extension": ".py",
   "mimetype": "text/x-python",
   "name": "python",
   "nbconvert_exporter": "python",
   "pygments_lexer": "ipython3",
   "version": "3.9.9"
  },
  "widgets": {
   "application/vnd.jupyter.widget-state+json": {
    "state": {
     "01f8d7a9e0cb4fd4b83019fc20eb1d7a": {
      "model_module": "@jupyter-widgets/controls",
      "model_module_version": "1.5.0",
      "model_name": "ProgressStyleModel",
      "state": {
       "description_width": ""
      }
     },
     "0dd817f12b74472da669d00862347371": {
      "model_module": "@jupyter-widgets/base",
      "model_module_version": "1.2.0",
      "model_name": "LayoutModel",
      "state": {}
     },
     "102e1eb97c844596b04d3df4c0688dbd": {
      "model_module": "@jupyter-widgets/controls",
      "model_module_version": "1.5.0",
      "model_name": "FloatProgressModel",
      "state": {
       "layout": "IPY_MODEL_8c8cd84574c14a5880b0bb593a97cadd",
       "max": 30000,
       "style": "IPY_MODEL_78fbe9379bc24538b27a486d1165dc6a",
       "value": 30000
      }
     },
     "17997e4c6d834fafb7a096a51f163573": {
      "model_module": "@jupyter-widgets/base",
      "model_module_version": "1.2.0",
      "model_name": "LayoutModel",
      "state": {}
     },
     "1dffebbc0f4b4863bef0f83435d0e73c": {
      "model_module": "@jupyter-widgets/base",
      "model_module_version": "1.2.0",
      "model_name": "LayoutModel",
      "state": {}
     },
     "2618adfe01894125bbb68d09629a8e8e": {
      "model_module": "@jupyter-widgets/controls",
      "model_module_version": "1.5.0",
      "model_name": "DescriptionStyleModel",
      "state": {
       "description_width": ""
      }
     },
     "284232d36be746d2ac4be7d0a20ca013": {
      "model_module": "@jupyter-widgets/controls",
      "model_module_version": "1.5.0",
      "model_name": "ProgressStyleModel",
      "state": {
       "description_width": ""
      }
     },
     "2d16de64521c4c6a90906fe0ac183be0": {
      "model_module": "@jupyter-widgets/base",
      "model_module_version": "1.2.0",
      "model_name": "LayoutModel",
      "state": {}
     },
     "2e0ef0335a664f818f82bbd0f8cb33ee": {
      "model_module": "@jupyter-widgets/base",
      "model_module_version": "1.2.0",
      "model_name": "LayoutModel",
      "state": {}
     },
     "30e97ada68b24df190546bbd2f27c694": {
      "model_module": "@jupyter-widgets/base",
      "model_module_version": "1.2.0",
      "model_name": "LayoutModel",
      "state": {}
     },
     "366ac6f36ab145528fc2dc844f8c34a2": {
      "model_module": "@jupyter-widgets/controls",
      "model_module_version": "1.5.0",
      "model_name": "DescriptionStyleModel",
      "state": {
       "description_width": ""
      }
     },
     "494a3cfaf2164ef59ff7133e1b308788": {
      "model_module": "@jupyter-widgets/base",
      "model_module_version": "1.2.0",
      "model_name": "LayoutModel",
      "state": {}
     },
     "4d2b6c9c9658484d837727416101a2cf": {
      "model_module": "@jupyter-widgets/controls",
      "model_module_version": "1.5.0",
      "model_name": "HTMLModel",
      "state": {
       "layout": "IPY_MODEL_e1c870c297b64ec3acb3222c3408ac1b",
       "style": "IPY_MODEL_2618adfe01894125bbb68d09629a8e8e",
       "value": " 5/6 [00:00&lt;00:00,  7.58it/s]"
      }
     },
     "533ac57aaffd416292cb9f83d409565f": {
      "model_module": "@jupyter-widgets/controls",
      "model_module_version": "1.5.0",
      "model_name": "HTMLModel",
      "state": {
       "layout": "IPY_MODEL_30e97ada68b24df190546bbd2f27c694",
       "style": "IPY_MODEL_8a57b3196b0c4cc3ad43a61177b0721b",
       "value": " 30000/30000 [53:22&lt;00:00, 36.78it/s]"
      }
     },
     "5fd516c68d94491392bbaa12dc129c23": {
      "model_module": "@jupyter-widgets/controls",
      "model_module_version": "1.5.0",
      "model_name": "ProgressStyleModel",
      "state": {
       "description_width": ""
      }
     },
     "64ccefaba1da4f44897939b06b968d0a": {
      "model_module": "@jupyter-widgets/controls",
      "model_module_version": "1.5.0",
      "model_name": "HTMLModel",
      "state": {
       "layout": "IPY_MODEL_b67912054340476bae7027bb02470bd7",
       "style": "IPY_MODEL_a6227eecfc47401ebe4913d81b69a12e",
       "value": " 29933/30000 [00:17&lt;00:00, 2172.85it/s]"
      }
     },
     "78fbe9379bc24538b27a486d1165dc6a": {
      "model_module": "@jupyter-widgets/controls",
      "model_module_version": "1.5.0",
      "model_name": "ProgressStyleModel",
      "state": {
       "description_width": ""
      }
     },
     "8960132000074310b4a822c7234b9303": {
      "model_module": "@jupyter-widgets/controls",
      "model_module_version": "1.5.0",
      "model_name": "FloatProgressModel",
      "state": {
       "layout": "IPY_MODEL_a5003b8fcdf040be882bdb4cd01e0328",
       "max": 97900,
       "style": "IPY_MODEL_284232d36be746d2ac4be7d0a20ca013",
       "value": 97900
      }
     },
     "8a57b3196b0c4cc3ad43a61177b0721b": {
      "model_module": "@jupyter-widgets/controls",
      "model_module_version": "1.5.0",
      "model_name": "DescriptionStyleModel",
      "state": {
       "description_width": ""
      }
     },
     "8c8cd84574c14a5880b0bb593a97cadd": {
      "model_module": "@jupyter-widgets/base",
      "model_module_version": "1.2.0",
      "model_name": "LayoutModel",
      "state": {}
     },
     "8e6ad5dbc6ab45f380ff9a2efa9b6d88": {
      "model_module": "@jupyter-widgets/base",
      "model_module_version": "1.2.0",
      "model_name": "LayoutModel",
      "state": {}
     },
     "8fdf6b1a75094125bfefa4374c48638b": {
      "model_module": "@jupyter-widgets/controls",
      "model_module_version": "1.5.0",
      "model_name": "HTMLModel",
      "state": {
       "layout": "IPY_MODEL_17997e4c6d834fafb7a096a51f163573",
       "style": "IPY_MODEL_cca0f25b22664c129d8c5db25711afd1",
       "value": " 97893/97900 [10:37&lt;00:00, 160.45it/s]"
      }
     },
     "942657d513e8415a8f679b86c5960b75": {
      "model_module": "@jupyter-widgets/controls",
      "model_module_version": "1.5.0",
      "model_name": "DescriptionStyleModel",
      "state": {
       "description_width": ""
      }
     },
     "9a10f5d164e2439d8fedfb1b42686622": {
      "model_module": "@jupyter-widgets/controls",
      "model_module_version": "1.5.0",
      "model_name": "HTMLModel",
      "state": {
       "layout": "IPY_MODEL_2e0ef0335a664f818f82bbd0f8cb33ee",
       "style": "IPY_MODEL_fb57d8a3d5f1412cb24347cdbebd0917",
       "value": "Dotprops: 100%"
      }
     },
     "a5003b8fcdf040be882bdb4cd01e0328": {
      "model_module": "@jupyter-widgets/base",
      "model_module_version": "1.2.0",
      "model_name": "LayoutModel",
      "state": {}
     },
     "a6227eecfc47401ebe4913d81b69a12e": {
      "model_module": "@jupyter-widgets/controls",
      "model_module_version": "1.5.0",
      "model_name": "DescriptionStyleModel",
      "state": {
       "description_width": ""
      }
     },
     "b4096023047146c9b2c9bccf1711d6ab": {
      "model_module": "@jupyter-widgets/base",
      "model_module_version": "1.2.0",
      "model_name": "LayoutModel",
      "state": {}
     },
     "b67912054340476bae7027bb02470bd7": {
      "model_module": "@jupyter-widgets/base",
      "model_module_version": "1.2.0",
      "model_name": "LayoutModel",
      "state": {}
     },
     "c5e24e79f77d44d5b5c7ecd72b613ad5": {
      "model_module": "@jupyter-widgets/controls",
      "model_module_version": "1.5.0",
      "model_name": "DescriptionStyleModel",
      "state": {
       "description_width": ""
      }
     },
     "cb6a3c22856b495e8f2bacc295388741": {
      "model_module": "@jupyter-widgets/controls",
      "model_module_version": "1.5.0",
      "model_name": "FloatProgressModel",
      "state": {
       "layout": "IPY_MODEL_eff682a9302c4f22b86eadaac7742f12",
       "max": 30000,
       "style": "IPY_MODEL_5fd516c68d94491392bbaa12dc129c23",
       "value": 30000
      }
     },
     "cca0f25b22664c129d8c5db25711afd1": {
      "model_module": "@jupyter-widgets/controls",
      "model_module_version": "1.5.0",
      "model_name": "DescriptionStyleModel",
      "state": {
       "description_width": ""
      }
     },
     "cdfa641d1a7e4e7cbc713bb86a9ee6b3": {
      "model_module": "@jupyter-widgets/controls",
      "model_module_version": "1.5.0",
      "model_name": "FloatProgressModel",
      "state": {
       "layout": "IPY_MODEL_8e6ad5dbc6ab45f380ff9a2efa9b6d88",
       "max": 6,
       "style": "IPY_MODEL_01f8d7a9e0cb4fd4b83019fc20eb1d7a",
       "value": 6
      }
     },
     "d54c7bc6c1144b6193db48c11b55cefd": {
      "model_module": "@jupyter-widgets/base",
      "model_module_version": "1.2.0",
      "model_name": "LayoutModel",
      "state": {}
     },
     "d91bbc607c284010bb653dad756fa920": {
      "model_module": "@jupyter-widgets/controls",
      "model_module_version": "1.5.0",
      "model_name": "HTMLModel",
      "state": {
       "layout": "IPY_MODEL_494a3cfaf2164ef59ff7133e1b308788",
       "style": "IPY_MODEL_942657d513e8415a8f679b86c5960b75",
       "value": "Dividing: 100%"
      }
     },
     "da393ea3030c4e61a01274a3ff06da19": {
      "model_module": "@jupyter-widgets/base",
      "model_module_version": "1.2.0",
      "model_name": "LayoutModel",
      "state": {}
     },
     "e1c870c297b64ec3acb3222c3408ac1b": {
      "model_module": "@jupyter-widgets/base",
      "model_module_version": "1.2.0",
      "model_name": "LayoutModel",
      "state": {}
     },
     "e9ed6cbcc136451f9fdce3c75af3f66b": {
      "model_module": "@jupyter-widgets/controls",
      "model_module_version": "1.5.0",
      "model_name": "HTMLModel",
      "state": {
       "layout": "IPY_MODEL_2d16de64521c4c6a90906fe0ac183be0",
       "style": "IPY_MODEL_c5e24e79f77d44d5b5c7ecd72b613ad5",
       "value": "Preparing:  83%"
      }
     },
     "ebed25be3f9442b7b572ef4d5a74fa9c": {
      "model_module": "@jupyter-widgets/controls",
      "model_module_version": "1.5.0",
      "model_name": "HTMLModel",
      "state": {
       "layout": "IPY_MODEL_b4096023047146c9b2c9bccf1711d6ab",
       "style": "IPY_MODEL_366ac6f36ab145528fc2dc844f8c34a2",
       "value": "Importing: 100%"
      }
     },
     "eff682a9302c4f22b86eadaac7742f12": {
      "model_module": "@jupyter-widgets/base",
      "model_module_version": "1.2.0",
      "model_name": "LayoutModel",
      "state": {}
     },
     "fb57d8a3d5f1412cb24347cdbebd0917": {
      "model_module": "@jupyter-widgets/controls",
      "model_module_version": "1.5.0",
      "model_name": "DescriptionStyleModel",
      "state": {
       "description_width": ""
      }
     }
    },
    "version_major": 2,
    "version_minor": 0
   }
  }
 },
 "nbformat": 4,
 "nbformat_minor": 4
}
