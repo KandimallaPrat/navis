{
   "cells": [
      {
         "cell_type": "raw",
         "metadata": {
            "raw_mimetype": "text/restructuredtext"
         },
         "source": [
            ".. _quickstart:\n",
            "\n",
            "Quickstart\n",
            "**********\n",
            "This tutorial will show you the basics of how to use NAVis. This is not supposed to be comprehensive but rather to give you a flavor of how things work. For inspiriation, explore the :ref:`example gallery <example_gallery>` and for detailed explanations have a look at the :ref:`API documentation <api>`.\n",
            "\n",
            "Single Neurons\n",
            "++++++++++++++\n",
            "\n",
            "NAVis lets you import neurons from a variety of sources with the most used format being SWC files. For demonstration purposes NAVis comes with a bunch of fruit fly neurons from the `FAFB <http://temca2data.org>`_ project:"
         ]
      },
      {
         "cell_type": "code",
         "execution_count": null,
         "metadata": {
            "raw_mimetype": "text/restructuredtext"
         },
         "outputs": [
            {
               "data": {
                  "text/html": [
                     "        <script type=\"text/javascript\">\n",
                     "        window.PlotlyConfig = {MathJaxConfig: 'local'};\n",
                     "        if (window.MathJax) {MathJax.Hub.Config({SVG: {font: \"STIX-Web\"}});}\n",
                     "        if (typeof require !== 'undefined') {\n",
                     "        require.undef(\"plotly\");\n",
                     "        requirejs.config({\n",
                     "            paths: {\n",
                     "                'plotly': ['https://cdn.plot.ly/plotly-latest.min']\n",
                     "            }\n",
                     "        });\n",
                     "        require(['plotly'], function(Plotly) {\n",
                     "            window._Plotly = Plotly;\n",
                     "        });\n",
                     "        }\n",
                     "        </script>\n",
                     "        "
                  ]
               },
               "metadata": {},
               "output_type": "display_data"
            },
            {
               "data": {
                  "text/html": [
                     "<div>\n",
                     "<style scoped>\n",
                     "    .dataframe tbody tr th:only-of-type {\n",
                     "        vertical-align: middle;\n",
                     "    }\n",
                     "\n",
                     "    .dataframe tbody tr th {\n",
                     "        vertical-align: top;\n",
                     "    }\n",
                     "\n",
                     "    .dataframe thead th {\n",
                     "        text-align: right;\n",
                     "    }\n",
                     "</style>\n",
                     "<table border=\"1\" class=\"dataframe\">\n",
                     "  <thead>\n",
                     "    <tr style=\"text-align: right;\">\n",
                     "      <th></th>\n",
                     "      <th></th>\n",
                     "    </tr>\n",
                     "  </thead>\n",
                     "  <tbody>\n",
                     "    <tr>\n",
                     "      <th>type</th>\n",
                     "      <td>TreeNeuron</td>\n",
                     "    </tr>\n",
                     "    <tr>\n",
                     "      <th>name</th>\n",
                     "      <td>neuron_38885</td>\n",
                     "    </tr>\n",
                     "    <tr>\n",
                     "      <th>n_nodes</th>\n",
                     "      <td>6365</td>\n",
                     "    </tr>\n",
                     "    <tr>\n",
                     "      <th>n_connectors</th>\n",
                     "      <td>0</td>\n",
                     "    </tr>\n",
                     "    <tr>\n",
                     "      <th>n_branches</th>\n",
                     "      <td>235</td>\n",
                     "    </tr>\n",
                     "    <tr>\n",
                     "      <th>n_leafs</th>\n",
                     "      <td>243</td>\n",
                     "    </tr>\n",
                     "    <tr>\n",
                     "      <th>cable_length</th>\n",
                     "      <td>1.21335e+06</td>\n",
                     "    </tr>\n",
                     "    <tr>\n",
                     "      <th>soma</th>\n",
                     "      <td>[3490]</td>\n",
                     "    </tr>\n",
                     "  </tbody>\n",
                     "</table>\n",
                     "</div>"
                  ],
                  "text/plain": [
                     "type              TreeNeuron\n",
                     "name            neuron_38885\n",
                     "n_nodes                 6365\n",
                     "n_connectors               0\n",
                     "n_branches               235\n",
                     "n_leafs                  243\n",
                     "cable_length     1.21335e+06\n",
                     "soma                  [3490]\n",
                     "dtype: object"
                  ]
               },
               "execution_count": null,
               "metadata": {},
               "output_type": "execute_result"
            }
         ],
         "source": [
            "import navis\n",
            "\n",
            "n = navis.example_neurons(n=1)\n",
            "n"
         ]
      },
      {
         "cell_type": "raw",
         "metadata": {
            "raw_mimetype": "text/restructuredtext"
         },
         "source": [
            "In above code we loaded one of the example neurons. NAVis represents neurons as :class:`~navis.TreeNeuron`. This class is essentially a wrapper around the actual neuron data and has some convenient features.\n",
            "\n",
            "Node data is stored as pandas DataFrame:"
         ]
      },
      {
         "cell_type": "code",
         "execution_count": null,
         "metadata": {},
         "outputs": [
            {
               "data": {
                  "text/html": [
                     "<div>\n",
                     "<style scoped>\n",
                     "    .dataframe tbody tr th:only-of-type {\n",
                     "        vertical-align: middle;\n",
                     "    }\n",
                     "\n",
                     "    .dataframe tbody tr th {\n",
                     "        vertical-align: top;\n",
                     "    }\n",
                     "\n",
                     "    .dataframe thead th {\n",
                     "        text-align: right;\n",
                     "    }\n",
                     "</style>\n",
                     "<table border=\"1\" class=\"dataframe\">\n",
                     "  <thead>\n",
                     "    <tr style=\"text-align: right;\">\n",
                     "      <th></th>\n",
                     "      <th>node_id</th>\n",
                     "      <th>label</th>\n",
                     "      <th>x</th>\n",
                     "      <th>y</th>\n",
                     "      <th>z</th>\n",
                     "      <th>radius</th>\n",
                     "      <th>parent_id</th>\n",
                     "      <th>type</th>\n",
                     "    </tr>\n",
                     "  </thead>\n",
                     "  <tbody>\n",
                     "    <tr>\n",
                     "      <th>0</th>\n",
                     "      <td>1</td>\n",
                     "      <td>0</td>\n",
                     "      <td>489192.0</td>\n",
                     "      <td>186290.0</td>\n",
                     "      <td>138040.0</td>\n",
                     "      <td>0.0</td>\n",
                     "      <td>-1</td>\n",
                     "      <td>root</td>\n",
                     "    </tr>\n",
                     "    <tr>\n",
                     "      <th>1</th>\n",
                     "      <td>2</td>\n",
                     "      <td>0</td>\n",
                     "      <td>489233.0</td>\n",
                     "      <td>186198.0</td>\n",
                     "      <td>138080.0</td>\n",
                     "      <td>0.0</td>\n",
                     "      <td>1</td>\n",
                     "      <td>slab</td>\n",
                     "    </tr>\n",
                     "    <tr>\n",
                     "      <th>2</th>\n",
                     "      <td>3</td>\n",
                     "      <td>0</td>\n",
                     "      <td>489235.0</td>\n",
                     "      <td>186174.0</td>\n",
                     "      <td>138120.0</td>\n",
                     "      <td>0.0</td>\n",
                     "      <td>2</td>\n",
                     "      <td>slab</td>\n",
                     "    </tr>\n",
                     "    <tr>\n",
                     "      <th>3</th>\n",
                     "      <td>4</td>\n",
                     "      <td>0</td>\n",
                     "      <td>489229.0</td>\n",
                     "      <td>186200.0</td>\n",
                     "      <td>138160.0</td>\n",
                     "      <td>0.0</td>\n",
                     "      <td>3</td>\n",
                     "      <td>slab</td>\n",
                     "    </tr>\n",
                     "    <tr>\n",
                     "      <th>4</th>\n",
                     "      <td>5</td>\n",
                     "      <td>0</td>\n",
                     "      <td>489251.0</td>\n",
                     "      <td>186141.0</td>\n",
                     "      <td>138200.0</td>\n",
                     "      <td>0.0</td>\n",
                     "      <td>4</td>\n",
                     "      <td>slab</td>\n",
                     "    </tr>\n",
                     "  </tbody>\n",
                     "</table>\n",
                     "</div>"
                  ],
                  "text/plain": [
                     "   node_id label         x         y         z  radius  parent_id  type\n",
                     "0        1     0  489192.0  186290.0  138040.0     0.0         -1  root\n",
                     "1        2     0  489233.0  186198.0  138080.0     0.0          1  slab\n",
                     "2        3     0  489235.0  186174.0  138120.0     0.0          2  slab\n",
                     "3        4     0  489229.0  186200.0  138160.0     0.0          3  slab\n",
                     "4        5     0  489251.0  186141.0  138200.0     0.0          4  slab"
                  ]
               },
               "execution_count": null,
               "metadata": {},
               "output_type": "execute_result"
            }
         ],
         "source": [
            "n.nodes.head()"
         ]
      },
      {
         "cell_type": "raw",
         "metadata": {
            "raw_mimetype": "text/restructuredtext"
         },
         "source": [
            ".. note:: Pandas    \n",
            "   `pandas <https://pandas.pydata.org>`_ is **the** data science library for Python and will help you analyze and visualize your data. **I highly recommend familiarizing yourself with pandas!** There are plenty of good tutorials out there but pandas' own `10 Minutes to pandas <https://pandas.pydata.org/pandas-docs/stable/10min.html>`_ is a good place to start. \n",
            "\n",
            "Try typing in \"``n.``\" and hitting tab: most attributes and functions are accessible via autocompletion. If you don't know what a function does, check out the documentation using ``help()`` or via the :ref:`API documentation <api>`:"
         ]
      },
      {
         "cell_type": "code",
         "execution_count": null,
         "metadata": {},
         "outputs": [
            {
               "name": "stdout",
               "output_type": "stream",
               "text": [
                  "Help on property:\n",
                  "\n",
                  "    Root node(s).\n",
                  "\n"
               ]
            }
         ],
         "source": [
            "help(navis.TreeNeuron.root)"
         ]
      },
      {
         "cell_type": "code",
         "execution_count": null,
         "metadata": {},
         "outputs": [
            {
               "name": "stdout",
               "output_type": "stream",
               "text": [
                  "Help on function downsample in module navis.core.neurons:\n",
                  "\n",
                  "downsample(self, factor=5, inplace=False, **kwargs)\n",
                  "    Downsample the neuron by given factor.\n",
                  "    \n",
                  "    Parameters\n",
                  "    ----------\n",
                  "    factor :                int, optional\n",
                  "                            Factor by which to downsample the neurons.\n",
                  "                            Default = 5.\n",
                  "    inplace :               bool, optional\n",
                  "                            If True, operation will be performed on\n",
                  "                            itself. If False, operation is performed on\n",
                  "                            copy which is then returned.\n",
                  "    **kwargs\n",
                  "                            Additional arguments passed to\n",
                  "                            :func:`~navis.downsample_neuron`.\n",
                  "    \n",
                  "    See Also\n",
                  "    --------\n",
                  "    :func:`~navis.downsample_neuron`\n",
                  "        Base function. See for details and examples.\n",
                  "\n"
               ]
            }
         ],
         "source": [
            "help(navis.TreeNeuron.downsample)"
         ]
      },
      {
         "cell_type": "raw",
         "metadata": {
            "raw_mimetype": "text/restructuredtext"
         },
         "source": [
            "You will notice that many NAVis functions that accept neurons have an ``inplace`` parameter. This is analogous to pandas:"
         ]
      },
      {
         "cell_type": "code",
         "execution_count": null,
         "metadata": {},
         "outputs": [
            {
               "data": {
                  "text/html": [
                     "<div>\n",
                     "<style scoped>\n",
                     "    .dataframe tbody tr th:only-of-type {\n",
                     "        vertical-align: middle;\n",
                     "    }\n",
                     "\n",
                     "    .dataframe tbody tr th {\n",
                     "        vertical-align: top;\n",
                     "    }\n",
                     "\n",
                     "    .dataframe thead th {\n",
                     "        text-align: right;\n",
                     "    }\n",
                     "</style>\n",
                     "<table border=\"1\" class=\"dataframe\">\n",
                     "  <thead>\n",
                     "    <tr style=\"text-align: right;\">\n",
                     "      <th></th>\n",
                     "      <th></th>\n",
                     "    </tr>\n",
                     "  </thead>\n",
                     "  <tbody>\n",
                     "    <tr>\n",
                     "      <th>type</th>\n",
                     "      <td>TreeNeuron</td>\n",
                     "    </tr>\n",
                     "    <tr>\n",
                     "      <th>name</th>\n",
                     "      <td>neuron_38885</td>\n",
                     "    </tr>\n",
                     "    <tr>\n",
                     "      <th>n_nodes</th>\n",
                     "      <td>867</td>\n",
                     "    </tr>\n",
                     "    <tr>\n",
                     "      <th>n_connectors</th>\n",
                     "      <td>0</td>\n",
                     "    </tr>\n",
                     "    <tr>\n",
                     "      <th>n_branches</th>\n",
                     "      <td>235</td>\n",
                     "    </tr>\n",
                     "    <tr>\n",
                     "      <th>n_leafs</th>\n",
                     "      <td>243</td>\n",
                     "    </tr>\n",
                     "    <tr>\n",
                     "      <th>cable_length</th>\n",
                     "      <td>1.02046e+06</td>\n",
                     "    </tr>\n",
                     "    <tr>\n",
                     "      <th>soma</th>\n",
                     "      <td>[3490]</td>\n",
                     "    </tr>\n",
                     "  </tbody>\n",
                     "</table>\n",
                     "</div>"
                  ],
                  "text/plain": [
                     "type              TreeNeuron\n",
                     "name            neuron_38885\n",
                     "n_nodes                  867\n",
                     "n_connectors               0\n",
                     "n_branches               235\n",
                     "n_leafs                  243\n",
                     "cable_length     1.02046e+06\n",
                     "soma                  [3490]\n",
                     "dtype: object"
                  ]
               },
               "execution_count": null,
               "metadata": {},
               "output_type": "execute_result"
            }
         ],
         "source": [
            "# Downsample and return a copy of the original (default)\n",
            "n_ds = n.downsample(10)\n",
            "\n",
            "# Downsample the original neuron\n",
            "n_ds2 = n.copy()\n",
            "n_ds2.downsample(10, inplace=True)\n",
            "\n",
            "n_ds2"
         ]
      },
      {
         "cell_type": "raw",
         "metadata": {
            "raw_mimetype": "text/restructuredtext"
         },
         "source": [
            ":class:`~navis.TreeNeuron` functions such as ``.downsample()`` are shorthands for calling the actual NAVis functions. So above code is equivalent to:"
         ]
      },
      {
         "cell_type": "code",
         "execution_count": null,
         "metadata": {},
         "outputs": [
            {
               "data": {
                  "text/html": [
                     "<div>\n",
                     "<style scoped>\n",
                     "    .dataframe tbody tr th:only-of-type {\n",
                     "        vertical-align: middle;\n",
                     "    }\n",
                     "\n",
                     "    .dataframe tbody tr th {\n",
                     "        vertical-align: top;\n",
                     "    }\n",
                     "\n",
                     "    .dataframe thead th {\n",
                     "        text-align: right;\n",
                     "    }\n",
                     "</style>\n",
                     "<table border=\"1\" class=\"dataframe\">\n",
                     "  <thead>\n",
                     "    <tr style=\"text-align: right;\">\n",
                     "      <th></th>\n",
                     "      <th></th>\n",
                     "    </tr>\n",
                     "  </thead>\n",
                     "  <tbody>\n",
                     "    <tr>\n",
                     "      <th>type</th>\n",
                     "      <td>TreeNeuron</td>\n",
                     "    </tr>\n",
                     "    <tr>\n",
                     "      <th>name</th>\n",
                     "      <td>neuron_38885</td>\n",
                     "    </tr>\n",
                     "    <tr>\n",
                     "      <th>n_nodes</th>\n",
                     "      <td>867</td>\n",
                     "    </tr>\n",
                     "    <tr>\n",
                     "      <th>n_connectors</th>\n",
                     "      <td>0</td>\n",
                     "    </tr>\n",
                     "    <tr>\n",
                     "      <th>n_branches</th>\n",
                     "      <td>235</td>\n",
                     "    </tr>\n",
                     "    <tr>\n",
                     "      <th>n_leafs</th>\n",
                     "      <td>243</td>\n",
                     "    </tr>\n",
                     "    <tr>\n",
                     "      <th>cable_length</th>\n",
                     "      <td>1.02046e+06</td>\n",
                     "    </tr>\n",
                     "    <tr>\n",
                     "      <th>soma</th>\n",
                     "      <td>[3490]</td>\n",
                     "    </tr>\n",
                     "  </tbody>\n",
                     "</table>\n",
                     "</div>"
                  ],
                  "text/plain": [
                     "type              TreeNeuron\n",
                     "name            neuron_38885\n",
                     "n_nodes                  867\n",
                     "n_connectors               0\n",
                     "n_branches               235\n",
                     "n_leafs                  243\n",
                     "cable_length     1.02046e+06\n",
                     "soma                  [3490]\n",
                     "dtype: object"
                  ]
               },
               "execution_count": null,
               "metadata": {},
               "output_type": "execute_result"
            }
         ],
         "source": [
            "n_ds = navis.downsample_neuron(n, downsampling_factor=10, inplace=False)\n",
            "\n",
            "n_ds"
         ]
      },
      {
         "cell_type": "raw",
         "metadata": {
            "raw_mimetype": "text/restructuredtext"
         },
         "source": [
            "Lists of Neurons\n",
            "++++++++++++++++\n",
            "\n",
            "For multiple :class:`~navis.TreeNeuron`, NAVis uses :class:`~navis.NeuronList`:"
         ]
      },
      {
         "cell_type": "code",
         "execution_count": null,
         "metadata": {},
         "outputs": [
            {
               "data": {
                  "text/html": [
                     "<div>\n",
                     "<style scoped>\n",
                     "    .dataframe tbody tr th:only-of-type {\n",
                     "        vertical-align: middle;\n",
                     "    }\n",
                     "\n",
                     "    .dataframe tbody tr th {\n",
                     "        vertical-align: top;\n",
                     "    }\n",
                     "\n",
                     "    .dataframe thead th {\n",
                     "        text-align: right;\n",
                     "    }\n",
                     "</style>\n",
                     "<table border=\"1\" class=\"dataframe\">\n",
                     "  <thead>\n",
                     "    <tr style=\"text-align: right;\">\n",
                     "      <th></th>\n",
                     "      <th>type</th>\n",
                     "      <th>n_nodes</th>\n",
                     "      <th>n_connectors</th>\n",
                     "      <th>n_branches</th>\n",
                     "      <th>n_leafs</th>\n",
                     "      <th>cable_length</th>\n",
                     "      <th>soma</th>\n",
                     "    </tr>\n",
                     "  </thead>\n",
                     "  <tbody>\n",
                     "    <tr>\n",
                     "      <th>0</th>\n",
                     "      <td>TreeNeuron</td>\n",
                     "      <td>6365</td>\n",
                     "      <td>0</td>\n",
                     "      <td>235</td>\n",
                     "      <td>243</td>\n",
                     "      <td>1.213347e+06</td>\n",
                     "      <td>[3490]</td>\n",
                     "    </tr>\n",
                     "    <tr>\n",
                     "      <th>1</th>\n",
                     "      <td>TreeNeuron</td>\n",
                     "      <td>8187</td>\n",
                     "      <td>0</td>\n",
                     "      <td>305</td>\n",
                     "      <td>322</td>\n",
                     "      <td>1.447682e+06</td>\n",
                     "      <td>[3604]</td>\n",
                     "    </tr>\n",
                     "    <tr>\n",
                     "      <th>2</th>\n",
                     "      <td>TreeNeuron</td>\n",
                     "      <td>3839</td>\n",
                     "      <td>0</td>\n",
                     "      <td>134</td>\n",
                     "      <td>142</td>\n",
                     "      <td>9.499755e+05</td>\n",
                     "      <td>[2546]</td>\n",
                     "    </tr>\n",
                     "  </tbody>\n",
                     "</table>\n",
                     "</div>"
                  ],
                  "text/plain": [
                     "<class 'navis.core.neuronlist.NeuronList'> of 3 neurons \n",
                     "          type  n_nodes  n_connectors  n_branches  n_leafs  cable_length  \\\n",
                     "0  TreeNeuron     6365             0         235      243  1.213347e+06   \n",
                     "1  TreeNeuron     8187             0         305      322  1.447682e+06   \n",
                     "2  TreeNeuron     3839             0         134      142  9.499755e+05   \n",
                     "\n",
                     "     soma  \n",
                     "0  [3490]  \n",
                     "1  [3604]  \n",
                     "2  [2546]  "
                  ]
               },
               "execution_count": null,
               "metadata": {},
               "output_type": "execute_result"
            }
         ],
         "source": [
            "nl = navis.example_neurons(n=3)\n",
            "nl"
         ]
      },
      {
         "cell_type": "raw",
         "metadata": {
            "raw_mimetype": "text/restructuredtext"
         },
         "source": [
            ":class:`~navis.NeuronList` is a container and behaves like a glorified ``list``:"
         ]
      },
      {
         "cell_type": "code",
         "execution_count": null,
         "metadata": {},
         "outputs": [
            {
               "data": {
                  "text/html": [
                     "<div>\n",
                     "<style scoped>\n",
                     "    .dataframe tbody tr th:only-of-type {\n",
                     "        vertical-align: middle;\n",
                     "    }\n",
                     "\n",
                     "    .dataframe tbody tr th {\n",
                     "        vertical-align: top;\n",
                     "    }\n",
                     "\n",
                     "    .dataframe thead th {\n",
                     "        text-align: right;\n",
                     "    }\n",
                     "</style>\n",
                     "<table border=\"1\" class=\"dataframe\">\n",
                     "  <thead>\n",
                     "    <tr style=\"text-align: right;\">\n",
                     "      <th></th>\n",
                     "      <th></th>\n",
                     "    </tr>\n",
                     "  </thead>\n",
                     "  <tbody>\n",
                     "    <tr>\n",
                     "      <th>type</th>\n",
                     "      <td>TreeNeuron</td>\n",
                     "    </tr>\n",
                     "    <tr>\n",
                     "      <th>name</th>\n",
                     "      <td>neuron_38885</td>\n",
                     "    </tr>\n",
                     "    <tr>\n",
                     "      <th>n_nodes</th>\n",
                     "      <td>6365</td>\n",
                     "    </tr>\n",
                     "    <tr>\n",
                     "      <th>n_connectors</th>\n",
                     "      <td>0</td>\n",
                     "    </tr>\n",
                     "    <tr>\n",
                     "      <th>n_branches</th>\n",
                     "      <td>235</td>\n",
                     "    </tr>\n",
                     "    <tr>\n",
                     "      <th>n_leafs</th>\n",
                     "      <td>243</td>\n",
                     "    </tr>\n",
                     "    <tr>\n",
                     "      <th>cable_length</th>\n",
                     "      <td>1.21335e+06</td>\n",
                     "    </tr>\n",
                     "    <tr>\n",
                     "      <th>soma</th>\n",
                     "      <td>[3490]</td>\n",
                     "    </tr>\n",
                     "  </tbody>\n",
                     "</table>\n",
                     "</div>"
                  ],
                  "text/plain": [
                     "type              TreeNeuron\n",
                     "name            neuron_38885\n",
                     "n_nodes                 6365\n",
                     "n_connectors               0\n",
                     "n_branches               235\n",
                     "n_leafs                  243\n",
                     "cable_length     1.21335e+06\n",
                     "soma                  [3490]\n",
                     "dtype: object"
                  ]
               },
               "execution_count": null,
               "metadata": {},
               "output_type": "execute_result"
            }
         ],
         "source": [
            "nl[0]"
         ]
      },
      {
         "cell_type": "raw",
         "metadata": {
            "raw_mimetype": "text/restructuredtext"
         },
         "source": [
            ":class:`~navis.NeuronList` lets you run/access all functions and properties that a :class:`~navis.TreeNeuron` has:"
         ]
      },
      {
         "cell_type": "code",
         "execution_count": null,
         "metadata": {},
         "outputs": [
            {
               "data": {
                  "text/plain": [
                     "array([1213347.43506801, 1447681.63642537,  949975.4839264 ])"
                  ]
               },
               "execution_count": null,
               "metadata": {},
               "output_type": "execute_result"
            }
         ],
         "source": [
            "nl.cable_length"
         ]
      },
      {
         "cell_type": "code",
         "execution_count": null,
         "metadata": {},
         "outputs": [
            {
               "data": {
                  "application/vnd.jupyter.widget-view+json": {
                     "model_id": "",
                     "version_major": 2,
                     "version_minor": 0
                  },
                  "text/plain": [
                     "HBox(children=(IntProgress(value=0, max=3), HTML(value='')))"
                  ]
               },
               "metadata": {},
               "output_type": "display_data"
            },
            {
               "name": "stdout",
               "output_type": "stream",
               "text": [
                  "\r"
               ]
            },
            {
               "data": {
                  "text/html": [
                     "<div>\n",
                     "<style scoped>\n",
                     "    .dataframe tbody tr th:only-of-type {\n",
                     "        vertical-align: middle;\n",
                     "    }\n",
                     "\n",
                     "    .dataframe tbody tr th {\n",
                     "        vertical-align: top;\n",
                     "    }\n",
                     "\n",
                     "    .dataframe thead th {\n",
                     "        text-align: right;\n",
                     "    }\n",
                     "</style>\n",
                     "<table border=\"1\" class=\"dataframe\">\n",
                     "  <thead>\n",
                     "    <tr style=\"text-align: right;\">\n",
                     "      <th></th>\n",
                     "      <th>type</th>\n",
                     "      <th>n_nodes</th>\n",
                     "      <th>n_connectors</th>\n",
                     "      <th>n_branches</th>\n",
                     "      <th>n_leafs</th>\n",
                     "      <th>cable_length</th>\n",
                     "      <th>soma</th>\n",
                     "    </tr>\n",
                     "  </thead>\n",
                     "  <tbody>\n",
                     "    <tr>\n",
                     "      <th>0</th>\n",
                     "      <td>TreeNeuron</td>\n",
                     "      <td>867</td>\n",
                     "      <td>0</td>\n",
                     "      <td>235</td>\n",
                     "      <td>243</td>\n",
                     "      <td>1.020463e+06</td>\n",
                     "      <td>[3490]</td>\n",
                     "    </tr>\n",
                     "    <tr>\n",
                     "      <th>1</th>\n",
                     "      <td>TreeNeuron</td>\n",
                     "      <td>1112</td>\n",
                     "      <td>0</td>\n",
                     "      <td>305</td>\n",
                     "      <td>322</td>\n",
                     "      <td>1.181253e+06</td>\n",
                     "      <td>[3604]</td>\n",
                     "    </tr>\n",
                     "    <tr>\n",
                     "      <th>2</th>\n",
                     "      <td>TreeNeuron</td>\n",
                     "      <td>523</td>\n",
                     "      <td>0</td>\n",
                     "      <td>134</td>\n",
                     "      <td>142</td>\n",
                     "      <td>7.979172e+05</td>\n",
                     "      <td>[2546]</td>\n",
                     "    </tr>\n",
                     "  </tbody>\n",
                     "</table>\n",
                     "</div>"
                  ],
                  "text/plain": [
                     "<class 'navis.core.neuronlist.NeuronList'> of 3 neurons \n",
                     "          type  n_nodes  n_connectors  n_branches  n_leafs  cable_length  \\\n",
                     "0  TreeNeuron      867             0         235      243  1.020463e+06   \n",
                     "1  TreeNeuron     1112             0         305      322  1.181253e+06   \n",
                     "2  TreeNeuron      523             0         134      142  7.979172e+05   \n",
                     "\n",
                     "     soma  \n",
                     "0  [3490]  \n",
                     "1  [3604]  \n",
                     "2  [2546]  "
                  ]
               },
               "execution_count": null,
               "metadata": {},
               "output_type": "execute_result"
            }
         ],
         "source": [
            "nl_ds = nl.downsample(10, inplace=False)\n",
            "\n",
            "nl_ds"
         ]
      },
      {
         "cell_type": "raw",
         "metadata": {
            "raw_mimetype": "text/restructuredtext"
         },
         "source": [
            "Let's finish this primer with some eye candy"
         ]
      },
      {
         "cell_type": "code",
         "execution_count": null,
         "metadata": {},
         "outputs": [],
         "source": [
            "fig = nl.plot3d()"
         ]
      },
      {
         "cell_type": "raw",
         "metadata": {
            "raw_mimetype": "text/restructuredtext"
         },
         "source": [
            ".. raw:: html\n",
            "   :file: figures/quickstart_3d_plot.html\n",
            "   \n",
            "|\n",
            "|\n",
            "|\n",
            "|"
         ]
      },
      {
         "cell_type": "raw",
         "metadata": {
            "raw_mimetype": "text/restructuredtext"
         },
         "source": [
            "For more advanced stuff (plotting, pruning, cutting, etc.) have a look at the :ref:`example gallery <example_gallery>`."
         ]
      }
   ],
   "metadata": {
      "celltoolbar": "Raw Cell Format",
      "kernelspec": {
         "display_name": "Python 3",
         "language": "python",
         "name": "python3"
      },
      "language_info": {
         "codemirror_mode": {
            "name": "ipython",
            "version": 3
         },
         "file_extension": ".py",
         "mimetype": "text/x-python",
         "name": "python",
         "nbconvert_exporter": "python",
         "pygments_lexer": "ipython3",
         "version": "3.6.8"
      }
   },
   "nbformat": 4,
   "nbformat_minor": 2
}