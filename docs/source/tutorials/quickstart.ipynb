{
 "cells": [
  {
   "cell_type": "raw",
   "metadata": {
    "raw_mimetype": "text/restructuredtext"
   },
   "source": [
    ".. _quickstart:\n",
    "\n",
    "Quickstart\n",
    "**********\n",
    "This tutorial will show you the basics of how to use NAVis. This is not supposed to be comprehensive but rather to give you a flavor of how things work. For inspiriation, explore the :ref:`example gallery <example_gallery>` and for detailed explanations have a look at the :ref:`API documentation <api>`.\n",
    "\n",
    "Single Neurons\n",
    "++++++++++++++\n",
    "NAVis lets you import neurons from a variety of sources with the most used format being SWC files. For demonstration purposes NAVis comes with a bunch of fruit fly neurons from the `Janelia hemibrain <https://neuprint.janelia.org>`_ project:"
   ]
  },
  {
   "cell_type": "code",
   "execution_count": 1,
   "metadata": {
    "raw_mimetype": "text/restructuredtext"
   },
   "outputs": [
    {
     "data": {
      "text/html": [
       "<div>\n",
       "<style scoped>\n",
       "    .dataframe tbody tr th:only-of-type {\n",
       "        vertical-align: middle;\n",
       "    }\n",
       "\n",
       "    .dataframe tbody tr th {\n",
       "        vertical-align: top;\n",
       "    }\n",
       "\n",
       "    .dataframe thead th {\n",
       "        text-align: right;\n",
       "    }\n",
       "</style>\n",
       "<table border=\"1\" class=\"dataframe\">\n",
       "  <thead>\n",
       "    <tr style=\"text-align: right;\">\n",
       "      <th></th>\n",
       "      <th></th>\n",
       "    </tr>\n",
       "  </thead>\n",
       "  <tbody>\n",
       "    <tr>\n",
       "      <th>type</th>\n",
       "      <td>navis.TreeNeuron</td>\n",
       "    </tr>\n",
       "    <tr>\n",
       "      <th>name</th>\n",
       "      <td>1734350788</td>\n",
       "    </tr>\n",
       "    <tr>\n",
       "      <th>id</th>\n",
       "      <td>1734350788</td>\n",
       "    </tr>\n",
       "    <tr>\n",
       "      <th>n_nodes</th>\n",
       "      <td>4465</td>\n",
       "    </tr>\n",
       "    <tr>\n",
       "      <th>n_connectors</th>\n",
       "      <td>2705</td>\n",
       "    </tr>\n",
       "    <tr>\n",
       "      <th>n_branches</th>\n",
       "      <td>599</td>\n",
       "    </tr>\n",
       "    <tr>\n",
       "      <th>n_leafs</th>\n",
       "      <td>618</td>\n",
       "    </tr>\n",
       "    <tr>\n",
       "      <th>cable_length</th>\n",
       "      <td>266476.875</td>\n",
       "    </tr>\n",
       "    <tr>\n",
       "      <th>soma</th>\n",
       "      <td>[4177]</td>\n",
       "    </tr>\n",
       "    <tr>\n",
       "      <th>units</th>\n",
       "      <td>8 nanometer</td>\n",
       "    </tr>\n",
       "  </tbody>\n",
       "</table>\n",
       "</div>"
      ],
      "text/plain": [
       "type            navis.TreeNeuron\n",
       "name                  1734350788\n",
       "id                    1734350788\n",
       "n_nodes                     4465\n",
       "n_connectors                2705\n",
       "n_branches                   599\n",
       "n_leafs                      618\n",
       "cable_length          266476.875\n",
       "soma                      [4177]\n",
       "units                8 nanometer\n",
       "dtype: object"
      ]
     },
     "execution_count": 1,
     "metadata": {},
     "output_type": "execute_result"
    }
   ],
   "source": [
    "import navis\n",
    "\n",
    "n = navis.example_neurons(n=1, kind='skeleton')\n",
    "n"
   ]
  },
  {
   "cell_type": "raw",
   "metadata": {
    "raw_mimetype": "text/restructuredtext"
   },
   "source": [
    "In above code we loaded one of the example neurons. NAVis represents neurons as :class:`~navis.TreeNeuron`, :class:`~navis.MeshNeuron`, :class:`~navis.VoxelNeuron` or :class:`~navis.Dotprops`. In this example we asked for a skeleton, so the neuron returned is a ``TreeNeuron``. This class is essentially a wrapper around the actual neuron data and has some convenient features.\n",
    "\n",
    "Node data is stored as ``pandas.DataFrame``:"
   ]
  },
  {
   "cell_type": "code",
   "execution_count": 2,
   "metadata": {},
   "outputs": [
    {
     "data": {
      "text/html": [
       "<div>\n",
       "<style scoped>\n",
       "    .dataframe tbody tr th:only-of-type {\n",
       "        vertical-align: middle;\n",
       "    }\n",
       "\n",
       "    .dataframe tbody tr th {\n",
       "        vertical-align: top;\n",
       "    }\n",
       "\n",
       "    .dataframe thead th {\n",
       "        text-align: right;\n",
       "    }\n",
       "</style>\n",
       "<table border=\"1\" class=\"dataframe\">\n",
       "  <thead>\n",
       "    <tr style=\"text-align: right;\">\n",
       "      <th></th>\n",
       "      <th>node_id</th>\n",
       "      <th>label</th>\n",
       "      <th>x</th>\n",
       "      <th>y</th>\n",
       "      <th>z</th>\n",
       "      <th>radius</th>\n",
       "      <th>parent_id</th>\n",
       "      <th>type</th>\n",
       "    </tr>\n",
       "  </thead>\n",
       "  <tbody>\n",
       "    <tr>\n",
       "      <th>0</th>\n",
       "      <td>1</td>\n",
       "      <td>0</td>\n",
       "      <td>15784.0</td>\n",
       "      <td>37250.0</td>\n",
       "      <td>28102.0</td>\n",
       "      <td>10.0000</td>\n",
       "      <td>-1</td>\n",
       "      <td>root</td>\n",
       "    </tr>\n",
       "    <tr>\n",
       "      <th>1</th>\n",
       "      <td>2</td>\n",
       "      <td>0</td>\n",
       "      <td>15764.0</td>\n",
       "      <td>37230.0</td>\n",
       "      <td>28102.0</td>\n",
       "      <td>18.2843</td>\n",
       "      <td>1</td>\n",
       "      <td>slab</td>\n",
       "    </tr>\n",
       "    <tr>\n",
       "      <th>2</th>\n",
       "      <td>3</td>\n",
       "      <td>0</td>\n",
       "      <td>15744.0</td>\n",
       "      <td>37190.0</td>\n",
       "      <td>28142.0</td>\n",
       "      <td>34.7214</td>\n",
       "      <td>2</td>\n",
       "      <td>slab</td>\n",
       "    </tr>\n",
       "    <tr>\n",
       "      <th>3</th>\n",
       "      <td>4</td>\n",
       "      <td>0</td>\n",
       "      <td>15744.0</td>\n",
       "      <td>37150.0</td>\n",
       "      <td>28182.0</td>\n",
       "      <td>34.7214</td>\n",
       "      <td>3</td>\n",
       "      <td>slab</td>\n",
       "    </tr>\n",
       "    <tr>\n",
       "      <th>4</th>\n",
       "      <td>5</td>\n",
       "      <td>0</td>\n",
       "      <td>15704.0</td>\n",
       "      <td>37130.0</td>\n",
       "      <td>28242.0</td>\n",
       "      <td>34.7214</td>\n",
       "      <td>4</td>\n",
       "      <td>slab</td>\n",
       "    </tr>\n",
       "  </tbody>\n",
       "</table>\n",
       "</div>"
      ],
      "text/plain": [
       "   node_id label        x        y        z   radius  parent_id  type\n",
       "0        1     0  15784.0  37250.0  28102.0  10.0000         -1  root\n",
       "1        2     0  15764.0  37230.0  28102.0  18.2843          1  slab\n",
       "2        3     0  15744.0  37190.0  28142.0  34.7214          2  slab\n",
       "3        4     0  15744.0  37150.0  28182.0  34.7214          3  slab\n",
       "4        5     0  15704.0  37130.0  28242.0  34.7214          4  slab"
      ]
     },
     "execution_count": 2,
     "metadata": {},
     "output_type": "execute_result"
    }
   ],
   "source": [
    "n.nodes.head()"
   ]
  },
  {
   "cell_type": "raw",
   "metadata": {
    "raw_mimetype": "text/restructuredtext"
   },
   "source": [
    ".. note:: Pandas    \n",
    "   `pandas <https://pandas.pydata.org>`_ is **the** data science library for Python and will help you analyze and visualize your data. **I highly recommend familiarizing yourself with pandas!** There are plenty of good tutorials out there but pandas' own `10 Minutes to pandas <https://pandas.pydata.org/pandas-docs/stable/10min.html>`_ is a good place to start. \n",
    "\n",
    "Try typing in \"``n.``\" and hitting tab: most attributes and functions are accessible via autocompletion. If you don't know what a function does, check out the documentation using ``help()`` or via the :ref:`API documentation <api>`:"
   ]
  },
  {
   "cell_type": "code",
   "execution_count": null,
   "metadata": {},
   "outputs": [
    {
     "name": "stdout",
     "output_type": "stream",
     "text": [
      "Help on property:\n",
      "\n",
      "    Root node(s).\n",
      "\n"
     ]
    }
   ],
   "source": [
    "help(navis.TreeNeuron.root)"
   ]
  },
  {
   "cell_type": "code",
   "execution_count": null,
   "metadata": {},
   "outputs": [
    {
     "name": "stdout",
     "output_type": "stream",
     "text": [
      "Help on function downsample in module navis.core.neurons:\n",
      "\n",
      "downsample(self, factor=5, inplace=False, **kwargs)\n",
      "    Downsample the neuron by given factor.\n",
      "    \n",
      "    Parameters\n",
      "    ----------\n",
      "    factor :                int, optional\n",
      "                            Factor by which to downsample the neurons.\n",
      "                            Default = 5.\n",
      "    inplace :               bool, optional\n",
      "                            If True, operation will be performed on\n",
      "                            itself. If False, operation is performed on\n",
      "                            copy which is then returned.\n",
      "    **kwargs\n",
      "                            Additional arguments passed to\n",
      "                            :func:`~navis.downsample_neuron`.\n",
      "    \n",
      "    See Also\n",
      "    --------\n",
      "    :func:`~navis.downsample_neuron`\n",
      "        Base function. See for details and examples.\n",
      "\n"
     ]
    }
   ],
   "source": [
    "help(navis.TreeNeuron.downsample)"
   ]
  },
  {
   "cell_type": "raw",
   "metadata": {
    "raw_mimetype": "text/restructuredtext"
   },
   "source": [
    "You will notice that many NAVis functions that accept neurons have an ``inplace`` parameter. This is analogous to pandas:"
   ]
  },
  {
   "cell_type": "code",
   "execution_count": null,
   "metadata": {},
   "outputs": [
    {
     "data": {
      "text/html": [
       "<div>\n",
       "<style scoped>\n",
       "    .dataframe tbody tr th:only-of-type {\n",
       "        vertical-align: middle;\n",
       "    }\n",
       "\n",
       "    .dataframe tbody tr th {\n",
       "        vertical-align: top;\n",
       "    }\n",
       "\n",
       "    .dataframe thead th {\n",
       "        text-align: right;\n",
       "    }\n",
       "</style>\n",
       "<table border=\"1\" class=\"dataframe\">\n",
       "  <thead>\n",
       "    <tr style=\"text-align: right;\">\n",
       "      <th></th>\n",
       "      <th></th>\n",
       "    </tr>\n",
       "  </thead>\n",
       "  <tbody>\n",
       "    <tr>\n",
       "      <th>type</th>\n",
       "      <td>TreeNeuron</td>\n",
       "    </tr>\n",
       "    <tr>\n",
       "      <th>name</th>\n",
       "      <td>neuron_38885</td>\n",
       "    </tr>\n",
       "    <tr>\n",
       "      <th>n_nodes</th>\n",
       "      <td>867</td>\n",
       "    </tr>\n",
       "    <tr>\n",
       "      <th>n_connectors</th>\n",
       "      <td>0</td>\n",
       "    </tr>\n",
       "    <tr>\n",
       "      <th>n_branches</th>\n",
       "      <td>235</td>\n",
       "    </tr>\n",
       "    <tr>\n",
       "      <th>n_leafs</th>\n",
       "      <td>243</td>\n",
       "    </tr>\n",
       "    <tr>\n",
       "      <th>cable_length</th>\n",
       "      <td>1.02046e+06</td>\n",
       "    </tr>\n",
       "    <tr>\n",
       "      <th>soma</th>\n",
       "      <td>[3490]</td>\n",
       "    </tr>\n",
       "  </tbody>\n",
       "</table>\n",
       "</div>"
      ],
      "text/plain": [
       "type              TreeNeuron\n",
       "name            neuron_38885\n",
       "n_nodes                  867\n",
       "n_connectors               0\n",
       "n_branches               235\n",
       "n_leafs                  243\n",
       "cable_length     1.02046e+06\n",
       "soma                  [3490]\n",
       "dtype: object"
      ]
     },
     "execution_count": null,
     "metadata": {},
     "output_type": "execute_result"
    }
   ],
   "source": [
    "# Downsample a copy, leaving the original unchanged (default)\n",
    "n_ds = n.downsample(10)\n",
    "\n",
    "# Downsample the original neuron\n",
    "n_ds2 = n.copy()\n",
    "n_ds2.downsample(10, inplace=True)\n",
    "\n",
    "n_ds2"
   ]
  },
  {
   "cell_type": "raw",
   "metadata": {
    "raw_mimetype": "text/restructuredtext"
   },
   "source": [
    ":class:`~navis.TreeNeuron` functions such as ``.downsample()`` are shorthands for calling the actual NAVis functions. So above code is equivalent to:"
   ]
  },
  {
   "cell_type": "code",
   "execution_count": null,
   "metadata": {},
   "outputs": [
    {
     "data": {
      "text/html": [
       "<div>\n",
       "<style scoped>\n",
       "    .dataframe tbody tr th:only-of-type {\n",
       "        vertical-align: middle;\n",
       "    }\n",
       "\n",
       "    .dataframe tbody tr th {\n",
       "        vertical-align: top;\n",
       "    }\n",
       "\n",
       "    .dataframe thead th {\n",
       "        text-align: right;\n",
       "    }\n",
       "</style>\n",
       "<table border=\"1\" class=\"dataframe\">\n",
       "  <thead>\n",
       "    <tr style=\"text-align: right;\">\n",
       "      <th></th>\n",
       "      <th></th>\n",
       "    </tr>\n",
       "  </thead>\n",
       "  <tbody>\n",
       "    <tr>\n",
       "      <th>type</th>\n",
       "      <td>TreeNeuron</td>\n",
       "    </tr>\n",
       "    <tr>\n",
       "      <th>name</th>\n",
       "      <td>neuron_38885</td>\n",
       "    </tr>\n",
       "    <tr>\n",
       "      <th>n_nodes</th>\n",
       "      <td>867</td>\n",
       "    </tr>\n",
       "    <tr>\n",
       "      <th>n_connectors</th>\n",
       "      <td>0</td>\n",
       "    </tr>\n",
       "    <tr>\n",
       "      <th>n_branches</th>\n",
       "      <td>235</td>\n",
       "    </tr>\n",
       "    <tr>\n",
       "      <th>n_leafs</th>\n",
       "      <td>243</td>\n",
       "    </tr>\n",
       "    <tr>\n",
       "      <th>cable_length</th>\n",
       "      <td>1.02046e+06</td>\n",
       "    </tr>\n",
       "    <tr>\n",
       "      <th>soma</th>\n",
       "      <td>[3490]</td>\n",
       "    </tr>\n",
       "  </tbody>\n",
       "</table>\n",
       "</div>"
      ],
      "text/plain": [
       "type              TreeNeuron\n",
       "name            neuron_38885\n",
       "n_nodes                  867\n",
       "n_connectors               0\n",
       "n_branches               235\n",
       "n_leafs                  243\n",
       "cable_length     1.02046e+06\n",
       "soma                  [3490]\n",
       "dtype: object"
      ]
     },
     "execution_count": null,
     "metadata": {},
     "output_type": "execute_result"
    }
   ],
   "source": [
    "n_ds = navis.downsample_neuron(n, downsampling_factor=10, inplace=False)\n",
    "\n",
    "n_ds"
   ]
  },
  {
   "cell_type": "raw",
   "metadata": {
    "raw_mimetype": "text/restructuredtext"
   },
   "source": [
    "Lists of Neurons\n",
    "++++++++++++++++\n",
    "\n",
    "For multiple neurons, NAVis uses :class:`~navis.NeuronList`:"
   ]
  },
  {
   "cell_type": "code",
   "execution_count": 2,
   "metadata": {},
   "outputs": [
    {
     "data": {
      "text/html": [
       "&lt;class 'navis.core.neuronlist.NeuronList'&gt; containing 3 neurons (875.1KiB)<div>\n",
       "<style scoped>\n",
       "    .dataframe tbody tr th:only-of-type {\n",
       "        vertical-align: middle;\n",
       "    }\n",
       "\n",
       "    .dataframe tbody tr th {\n",
       "        vertical-align: top;\n",
       "    }\n",
       "\n",
       "    .dataframe thead th {\n",
       "        text-align: right;\n",
       "    }\n",
       "</style>\n",
       "<table border=\"1\" class=\"dataframe\">\n",
       "  <thead>\n",
       "    <tr style=\"text-align: right;\">\n",
       "      <th></th>\n",
       "      <th>type</th>\n",
       "      <th>name</th>\n",
       "      <th>id</th>\n",
       "      <th>n_nodes</th>\n",
       "      <th>n_connectors</th>\n",
       "      <th>n_branches</th>\n",
       "      <th>n_leafs</th>\n",
       "      <th>cable_length</th>\n",
       "      <th>soma</th>\n",
       "      <th>units</th>\n",
       "    </tr>\n",
       "  </thead>\n",
       "  <tbody>\n",
       "    <tr>\n",
       "      <th>0</th>\n",
       "      <td>navis.TreeNeuron</td>\n",
       "      <td>1734350788</td>\n",
       "      <td>1734350788</td>\n",
       "      <td>4465</td>\n",
       "      <td>2705</td>\n",
       "      <td>599</td>\n",
       "      <td>618</td>\n",
       "      <td>266476.87500</td>\n",
       "      <td>[4177]</td>\n",
       "      <td>8 nanometer</td>\n",
       "    </tr>\n",
       "    <tr>\n",
       "      <th>1</th>\n",
       "      <td>navis.TreeNeuron</td>\n",
       "      <td>1734350908</td>\n",
       "      <td>1734350908</td>\n",
       "      <td>4847</td>\n",
       "      <td>3042</td>\n",
       "      <td>735</td>\n",
       "      <td>761</td>\n",
       "      <td>304332.65625</td>\n",
       "      <td>[6]</td>\n",
       "      <td>8 nanometer</td>\n",
       "    </tr>\n",
       "    <tr>\n",
       "      <th>2</th>\n",
       "      <td>navis.TreeNeuron</td>\n",
       "      <td>722817260</td>\n",
       "      <td>722817260</td>\n",
       "      <td>4332</td>\n",
       "      <td>3136</td>\n",
       "      <td>633</td>\n",
       "      <td>656</td>\n",
       "      <td>274703.37500</td>\n",
       "      <td>None</td>\n",
       "      <td>8 nanometer</td>\n",
       "    </tr>\n",
       "  </tbody>\n",
       "</table>\n",
       "</div>"
      ],
      "text/plain": [
       "<class 'navis.core.neuronlist.NeuronList'> containing 3 neurons (875.1KiB)\n",
       "               type        name          id  n_nodes  n_connectors  \\\n",
       "0  navis.TreeNeuron  1734350788  1734350788     4465          2705   \n",
       "1  navis.TreeNeuron  1734350908  1734350908     4847          3042   \n",
       "2  navis.TreeNeuron   722817260   722817260     4332          3136   \n",
       "\n",
       "   n_branches  n_leafs  cable_length    soma        units  \n",
       "0         599      618  266476.87500  [4177]  8 nanometer  \n",
       "1         735      761  304332.65625     [6]  8 nanometer  \n",
       "2         633      656  274703.37500    None  8 nanometer  "
      ]
     },
     "execution_count": 2,
     "metadata": {},
     "output_type": "execute_result"
    }
   ],
   "source": [
    "nl = navis.example_neurons(n=3, kind='skeleton')\n",
    "nl"
   ]
  },
  {
   "cell_type": "raw",
   "metadata": {
    "raw_mimetype": "text/restructuredtext"
   },
   "source": [
    ":class:`~navis.NeuronList` is a container and behaves like a glorified ``list``:"
   ]
  },
  {
   "cell_type": "code",
   "execution_count": null,
   "metadata": {},
   "outputs": [
    {
     "data": {
      "text/html": [
       "<div>\n",
       "<style scoped>\n",
       "    .dataframe tbody tr th:only-of-type {\n",
       "        vertical-align: middle;\n",
       "    }\n",
       "\n",
       "    .dataframe tbody tr th {\n",
       "        vertical-align: top;\n",
       "    }\n",
       "\n",
       "    .dataframe thead th {\n",
       "        text-align: right;\n",
       "    }\n",
       "</style>\n",
       "<table border=\"1\" class=\"dataframe\">\n",
       "  <thead>\n",
       "    <tr style=\"text-align: right;\">\n",
       "      <th></th>\n",
       "      <th></th>\n",
       "    </tr>\n",
       "  </thead>\n",
       "  <tbody>\n",
       "    <tr>\n",
       "      <th>type</th>\n",
       "      <td>TreeNeuron</td>\n",
       "    </tr>\n",
       "    <tr>\n",
       "      <th>name</th>\n",
       "      <td>neuron_38885</td>\n",
       "    </tr>\n",
       "    <tr>\n",
       "      <th>n_nodes</th>\n",
       "      <td>6365</td>\n",
       "    </tr>\n",
       "    <tr>\n",
       "      <th>n_connectors</th>\n",
       "      <td>0</td>\n",
       "    </tr>\n",
       "    <tr>\n",
       "      <th>n_branches</th>\n",
       "      <td>235</td>\n",
       "    </tr>\n",
       "    <tr>\n",
       "      <th>n_leafs</th>\n",
       "      <td>243</td>\n",
       "    </tr>\n",
       "    <tr>\n",
       "      <th>cable_length</th>\n",
       "      <td>1.21335e+06</td>\n",
       "    </tr>\n",
       "    <tr>\n",
       "      <th>soma</th>\n",
       "      <td>[3490]</td>\n",
       "    </tr>\n",
       "  </tbody>\n",
       "</table>\n",
       "</div>"
      ],
      "text/plain": [
       "type              TreeNeuron\n",
       "name            neuron_38885\n",
       "n_nodes                 6365\n",
       "n_connectors               0\n",
       "n_branches               235\n",
       "n_leafs                  243\n",
       "cable_length     1.21335e+06\n",
       "soma                  [3490]\n",
       "dtype: object"
      ]
     },
     "execution_count": null,
     "metadata": {},
     "output_type": "execute_result"
    }
   ],
   "source": [
    "nl[0]"
   ]
  },
  {
   "cell_type": "raw",
   "metadata": {
    "raw_mimetype": "text/restructuredtext"
   },
   "source": [
    ":class:`~navis.NeuronList` lets you run/access all functions (methods) and properties of the neurons it contrains:"
   ]
  },
  {
   "cell_type": "code",
   "execution_count": 4,
   "metadata": {},
   "outputs": [
    {
     "data": {
      "text/plain": [
       "array([266458.00615559, 304277.01267831, 274910.5606301 ])"
      ]
     },
     "execution_count": 4,
     "metadata": {},
     "output_type": "execute_result"
    }
   ],
   "source": [
    "nl.cable_length"
   ]
  },
  {
   "cell_type": "code",
   "execution_count": 5,
   "metadata": {},
   "outputs": [
    {
     "data": {
      "application/vnd.jupyter.widget-view+json": {
       "model_id": "",
       "version_major": 2,
       "version_minor": 0
      },
      "text/plain": [
       "HBox(children=(FloatProgress(value=0.0, max=3.0), HTML(value='')))"
      ]
     },
     "metadata": {},
     "output_type": "display_data"
    },
    {
     "data": {
      "text/html": [
       "<div>\n",
       "<style scoped>\n",
       "    .dataframe tbody tr th:only-of-type {\n",
       "        vertical-align: middle;\n",
       "    }\n",
       "\n",
       "    .dataframe tbody tr th {\n",
       "        vertical-align: top;\n",
       "    }\n",
       "\n",
       "    .dataframe thead th {\n",
       "        text-align: right;\n",
       "    }\n",
       "</style>\n",
       "<table border=\"1\" class=\"dataframe\">\n",
       "  <thead>\n",
       "    <tr style=\"text-align: right;\">\n",
       "      <th></th>\n",
       "      <th>type</th>\n",
       "      <th>name</th>\n",
       "      <th>id</th>\n",
       "      <th>n_nodes</th>\n",
       "      <th>n_connectors</th>\n",
       "      <th>n_branches</th>\n",
       "      <th>n_leafs</th>\n",
       "      <th>cable_length</th>\n",
       "      <th>soma</th>\n",
       "      <th>units</th>\n",
       "    </tr>\n",
       "  </thead>\n",
       "  <tbody>\n",
       "    <tr>\n",
       "      <th>0</th>\n",
       "      <td>TreeNeuron</td>\n",
       "      <td>1734350788</td>\n",
       "      <td>1734350788</td>\n",
       "      <td>1309</td>\n",
       "      <td>None</td>\n",
       "      <td>603</td>\n",
       "      <td>619</td>\n",
       "      <td>247375.660645</td>\n",
       "      <td>[4176]</td>\n",
       "      <td>8 nanometer</td>\n",
       "    </tr>\n",
       "    <tr>\n",
       "      <th>1</th>\n",
       "      <td>TreeNeuron</td>\n",
       "      <td>1734350908</td>\n",
       "      <td>1734350908</td>\n",
       "      <td>1555</td>\n",
       "      <td>None</td>\n",
       "      <td>733</td>\n",
       "      <td>760</td>\n",
       "      <td>282432.973650</td>\n",
       "      <td>[6]</td>\n",
       "      <td>8 nanometer</td>\n",
       "    </tr>\n",
       "    <tr>\n",
       "      <th>2</th>\n",
       "      <td>TreeNeuron</td>\n",
       "      <td>722817260</td>\n",
       "      <td>722817260</td>\n",
       "      <td>1350</td>\n",
       "      <td>None</td>\n",
       "      <td>635</td>\n",
       "      <td>658</td>\n",
       "      <td>254958.940182</td>\n",
       "      <td>None</td>\n",
       "      <td>8 nanometer</td>\n",
       "    </tr>\n",
       "  </tbody>\n",
       "</table>\n",
       "</div>"
      ],
      "text/plain": [
       "<class 'navis.core.neuronlist.NeuronList'> of 3 neurons \n",
       "          type        name          id  n_nodes n_connectors  n_branches  \\\n",
       "0  TreeNeuron  1734350788  1734350788     1309         None         603   \n",
       "1  TreeNeuron  1734350908  1734350908     1555         None         733   \n",
       "2  TreeNeuron   722817260   722817260     1350         None         635   \n",
       "\n",
       "   n_leafs   cable_length    soma        units  \n",
       "0      619  247375.660645  [4176]  8 nanometer  \n",
       "1      760  282432.973650     [6]  8 nanometer  \n",
       "2      658  254958.940182    None  8 nanometer  "
      ]
     },
     "execution_count": 5,
     "metadata": {},
     "output_type": "execute_result"
    }
   ],
   "source": [
    "nl_ds = nl.downsample(10, inplace=False)\n",
    "\n",
    "nl_ds"
   ]
  },
  {
   "cell_type": "raw",
   "metadata": {
    "raw_mimetype": "text/restructuredtext"
   },
   "source": [
    "Let's finish this primer with some eye candy"
   ]
  },
  {
   "cell_type": "code",
   "execution_count": null,
   "metadata": {},
   "outputs": [],
   "source": [
    "fig = nl.plot3d()"
   ]
  },
  {
   "cell_type": "raw",
   "metadata": {
    "raw_mimetype": "text/restructuredtext"
   },
   "source": [
    ".. raw:: html\n",
    "   :file: figures/quickstart_3d_plot.html\n",
    "   \n",
    "|\n",
    "|\n",
    "|\n",
    "|"
   ]
  },
  {
   "cell_type": "raw",
   "metadata": {
    "raw_mimetype": "text/restructuredtext"
   },
   "source": [
    "For more advanced stuff (plotting, pruning, cutting, NBLAST, etc.) have a look at the :ref:`example gallery <example_gallery>`."
   ]
  }
 ],
 "metadata": {
  "celltoolbar": "Raw Cell Format",
  "kernelspec": {
   "display_name": "Python 3",
   "language": "python",
   "name": "python3"
  },
  "language_info": {
   "codemirror_mode": {
    "name": "ipython",
    "version": 3
   },
   "file_extension": ".py",
   "mimetype": "text/x-python",
   "name": "python",
   "nbconvert_exporter": "python",
   "pygments_lexer": "ipython3",
   "version": "3.7.5"
  },
  "widgets": {
   "application/vnd.jupyter.widget-state+json": {
    "state": {},
    "version_major": 2,
    "version_minor": 0
   }
  }
 },
 "nbformat": 4,
 "nbformat_minor": 4
}
