{
 "cells": [
  {
   "cell_type": "raw",
   "id": "70a60d6b-082e-4728-907a-af8a3e039d16",
   "metadata": {
    "raw_mimetype": "text/restructuredtext",
    "tags": []
   },
   "source": [
    ".. _local_data_dp_tut:\n",
    "\n",
    "Dotprops\n",
    "--------\n",
    "\n",
    "``navis`` lets you import neurons from a variety of local and remote sources. In this tutorial you will learn how to work with Dotprops.\n",
    "\n",
    ":class:`navis.Dotprops` are point clouds with associated principal vectors which are mostly used for NBLASTing. They are typically derivatives of skeletons or meshes but you can load them straight from confocal data using :func:`navis.read_nrrd`:"
   ]
  },
  {
   "cell_type": "code",
   "execution_count": null,
   "id": "4e030094-c71d-4292-b2c6-ec06c8677997",
   "metadata": {},
   "outputs": [],
   "source": [
    "import navis"
   ]
  },
  {
   "cell_type": "raw",
   "id": "95cef9d1-6fe2-4e0d-970e-ee87364995a9",
   "metadata": {
    "raw_mimetype": "text/restructuredtext",
    "tags": []
   },
   "source": [
    "For this example I downloaded one of Janelia's Fly Light confocal stacks (`link <https://splitgal4.janelia.org/>`_) and converted it to nrrd using ImageJ. "
   ]
  },
  {
   "cell_type": "code",
   "execution_count": 31,
   "id": "896cfc1a-b6a8-4394-a48d-d5a300b93fb6",
   "metadata": {},
   "outputs": [
    {
     "data": {
      "text/html": [
       "<div>\n",
       "<style scoped>\n",
       "    .dataframe tbody tr th:only-of-type {\n",
       "        vertical-align: middle;\n",
       "    }\n",
       "\n",
       "    .dataframe tbody tr th {\n",
       "        vertical-align: top;\n",
       "    }\n",
       "\n",
       "    .dataframe thead th {\n",
       "        text-align: right;\n",
       "    }\n",
       "</style>\n",
       "<table border=\"1\" class=\"dataframe\">\n",
       "  <thead>\n",
       "    <tr style=\"text-align: right;\">\n",
       "      <th></th>\n",
       "      <th></th>\n",
       "    </tr>\n",
       "  </thead>\n",
       "  <tbody>\n",
       "    <tr>\n",
       "      <th>type</th>\n",
       "      <td>navis.Dotprops</td>\n",
       "    </tr>\n",
       "    <tr>\n",
       "      <th>name</th>\n",
       "      <td>JRC_SS86025_JRC_SS86025-20211112_49_B6</td>\n",
       "    </tr>\n",
       "    <tr>\n",
       "      <th>k</th>\n",
       "      <td>20</td>\n",
       "    </tr>\n",
       "    <tr>\n",
       "      <th>units</th>\n",
       "      <td>1 micrometer</td>\n",
       "    </tr>\n",
       "    <tr>\n",
       "      <th>n_points</th>\n",
       "      <td>92416</td>\n",
       "    </tr>\n",
       "  </tbody>\n",
       "</table>\n",
       "</div>"
      ],
      "text/plain": [
       "type                                navis.Dotprops\n",
       "name        JRC_SS86025_JRC_SS86025-20211112_49_B6\n",
       "k                                               20\n",
       "units                                 1 micrometer\n",
       "n_points                                     92416\n",
       "dtype: object"
      ]
     },
     "execution_count": 31,
     "metadata": {},
     "output_type": "execute_result"
    }
   ],
   "source": [
    "# Load NRRD file into Dotprops instead of VoxelNeuron \n",
    "# Note the threshold parameter that determines which voxels\n",
    "# (by brightness) are used and which are ignored!\n",
    "dp = navis.read_nrrd('~/Downloads/JRC_SS86025_JRC_SS86025-20211112_49_B6.nrrd', output='dotprops', threshold=3000)\n",
    "dp"
   ]
  },
  {
   "cell_type": "raw",
   "id": "d70e7b69-64ba-4ce0-b3ce-c3793fa9b1a2",
   "metadata": {
    "raw_mimetype": "text/restructuredtext",
    "tags": []
   },
   "source": [
    "If not loaded from file, you would typically create ``Dotprops`` via :func:`navis.make_dotprops` but just like all other neuron types, :class:`~navis.Dotprops` can be constructed manually:"
   ]
  },
  {
   "cell_type": "code",
   "execution_count": 37,
   "id": "df638f8c-7843-4ed2-8b69-6db7241858a6",
   "metadata": {},
   "outputs": [
    {
     "data": {
      "text/html": [
       "<div>\n",
       "<style scoped>\n",
       "    .dataframe tbody tr th:only-of-type {\n",
       "        vertical-align: middle;\n",
       "    }\n",
       "\n",
       "    .dataframe tbody tr th {\n",
       "        vertical-align: top;\n",
       "    }\n",
       "\n",
       "    .dataframe thead th {\n",
       "        text-align: right;\n",
       "    }\n",
       "</style>\n",
       "<table border=\"1\" class=\"dataframe\">\n",
       "  <thead>\n",
       "    <tr style=\"text-align: right;\">\n",
       "      <th></th>\n",
       "      <th></th>\n",
       "    </tr>\n",
       "  </thead>\n",
       "  <tbody>\n",
       "    <tr>\n",
       "      <th>type</th>\n",
       "      <td>navis.Dotprops</td>\n",
       "    </tr>\n",
       "    <tr>\n",
       "      <th>name</th>\n",
       "      <td>None</td>\n",
       "    </tr>\n",
       "    <tr>\n",
       "      <th>k</th>\n",
       "      <td>None</td>\n",
       "    </tr>\n",
       "    <tr>\n",
       "      <th>units</th>\n",
       "      <td>1 dimensionless</td>\n",
       "    </tr>\n",
       "    <tr>\n",
       "      <th>n_points</th>\n",
       "      <td>3</td>\n",
       "    </tr>\n",
       "  </tbody>\n",
       "</table>\n",
       "</div>"
      ],
      "text/plain": [
       "type         navis.Dotprops\n",
       "name                   None\n",
       "k                      None\n",
       "units       1 dimensionless\n",
       "n_points                  3\n",
       "dtype: object"
      ]
     },
     "execution_count": 37,
     "metadata": {},
     "output_type": "execute_result"
    }
   ],
   "source": [
    "import numpy as np\n",
    "\n",
    "# Create some x/y/z coordinates \n",
    "points = np.array([[0,0,0],\n",
    "                   [1,1,1],\n",
    "                   [2,2,2]])\n",
    "\n",
    "# Create vectors for each point \n",
    "# You can skip this point and just provide the `k` parameter \n",
    "vect = np.array([[1,0,0],\n",
    "                 [0,1,0],\n",
    "                 [0,1,0]])\n",
    "\n",
    "dp = navis.Dotprops(points, k=None, vect=vect)\n",
    "dp"
   ]
  },
  {
   "cell_type": "raw",
   "id": "632f61a2-aad0-4198-8ae0-77751f5b2b24",
   "metadata": {
    "raw_mimetype": "text/restructuredtext",
    "tags": []
   },
   "source": [
    "There is no established format to store dotprops. But like all other neuron types in navis, you can pickle data for later (re)use - see the :ref:`pickling tutorial <local_data_pickle_tut>`. See also the :ref:`I/O API reference api_io>`."
   ]
  }
 ],
 "metadata": {
  "kernelspec": {
   "display_name": "Python 3 (ipykernel)",
   "language": "python",
   "name": "python3"
  },
  "language_info": {
   "codemirror_mode": {
    "name": "ipython",
    "version": 3
   },
   "file_extension": ".py",
   "mimetype": "text/x-python",
   "name": "python",
   "nbconvert_exporter": "python",
   "pygments_lexer": "ipython3",
   "version": "3.9.9"
  },
  "widgets": {
   "application/vnd.jupyter.widget-state+json": {
    "state": {
     "00bc17f3ae814046a53280ab93c11dc2": {
      "model_module": "@jupyter-widgets/controls",
      "model_module_version": "1.5.0",
      "model_name": "ProgressStyleModel",
      "state": {
       "description_width": ""
      }
     },
     "0aed595856ce4632a241378dd159ab0b": {
      "model_module": "@jupyter-widgets/controls",
      "model_module_version": "1.5.0",
      "model_name": "DescriptionStyleModel",
      "state": {
       "description_width": ""
      }
     },
     "162dc1c25dcd4c58be7d2161a4ea3c4f": {
      "model_module": "@jupyter-widgets/base",
      "model_module_version": "1.2.0",
      "model_name": "LayoutModel",
      "state": {}
     },
     "16420f5eeec1449c9e5088b37edace1f": {
      "model_module": "@jupyter-widgets/controls",
      "model_module_version": "1.5.0",
      "model_name": "DescriptionStyleModel",
      "state": {
       "description_width": ""
      }
     },
     "550f62dfceea4f5db59849e612f5cc67": {
      "model_module": "@jupyter-widgets/controls",
      "model_module_version": "1.5.0",
      "model_name": "FloatProgressModel",
      "state": {
       "layout": "IPY_MODEL_5e1ce24eb4aa4203a6db516d2e1d7625",
       "max": 480,
       "style": "IPY_MODEL_7cc1df2820d04cf69c920e6d62d16128",
       "value": 480
      }
     },
     "55f9adb72f2143deaa3d3a91da721309": {
      "model_module": "@jupyter-widgets/controls",
      "model_module_version": "1.5.0",
      "model_name": "HTMLModel",
      "state": {
       "layout": "IPY_MODEL_a2be5cb6835b4e109d56c285fd1a550b",
       "style": "IPY_MODEL_8765252ef31847a59fd6c2fa9e7f9d2b",
       "value": "Importing:  96%"
      }
     },
     "5e1ce24eb4aa4203a6db516d2e1d7625": {
      "model_module": "@jupyter-widgets/base",
      "model_module_version": "1.2.0",
      "model_name": "LayoutModel",
      "state": {}
     },
     "7cc1df2820d04cf69c920e6d62d16128": {
      "model_module": "@jupyter-widgets/controls",
      "model_module_version": "1.5.0",
      "model_name": "ProgressStyleModel",
      "state": {
       "description_width": ""
      }
     },
     "8765252ef31847a59fd6c2fa9e7f9d2b": {
      "model_module": "@jupyter-widgets/controls",
      "model_module_version": "1.5.0",
      "model_name": "DescriptionStyleModel",
      "state": {
       "description_width": ""
      }
     },
     "88afcc0cef364c429edbc8561050fd63": {
      "model_module": "@jupyter-widgets/controls",
      "model_module_version": "1.5.0",
      "model_name": "FloatProgressModel",
      "state": {
       "layout": "IPY_MODEL_ba3c3eeb3523425da68a3e8a624cb102",
       "max": 10,
       "style": "IPY_MODEL_00bc17f3ae814046a53280ab93c11dc2",
       "value": 10
      }
     },
     "8c9d3631f2154b2f85333ba5a888199e": {
      "model_module": "@jupyter-widgets/controls",
      "model_module_version": "1.5.0",
      "model_name": "DescriptionStyleModel",
      "state": {
       "description_width": ""
      }
     },
     "9a00a4b200fa412cbba246cbb697aa0c": {
      "model_module": "@jupyter-widgets/controls",
      "model_module_version": "1.5.0",
      "model_name": "HTMLModel",
      "state": {
       "layout": "IPY_MODEL_b959bd82dfc24130bfa7625f3ee31f77",
       "style": "IPY_MODEL_0aed595856ce4632a241378dd159ab0b",
       "value": "Importing:  70%"
      }
     },
     "a2be5cb6835b4e109d56c285fd1a550b": {
      "model_module": "@jupyter-widgets/base",
      "model_module_version": "1.2.0",
      "model_name": "LayoutModel",
      "state": {}
     },
     "a3b72387d1534ec5922f7f33c9bf636a": {
      "model_module": "@jupyter-widgets/base",
      "model_module_version": "1.2.0",
      "model_name": "LayoutModel",
      "state": {}
     },
     "aedfa35937e24fc9bc68efde06986898": {
      "model_module": "@jupyter-widgets/controls",
      "model_module_version": "1.5.0",
      "model_name": "HTMLModel",
      "state": {
       "layout": "IPY_MODEL_162dc1c25dcd4c58be7d2161a4ea3c4f",
       "style": "IPY_MODEL_8c9d3631f2154b2f85333ba5a888199e",
       "value": " 461/480 [00:10&lt;00:00, 133.52it/s]"
      }
     },
     "b7013cb101c1426e921306ae6230e253": {
      "model_module": "@jupyter-widgets/base",
      "model_module_version": "1.2.0",
      "model_name": "LayoutModel",
      "state": {}
     },
     "b959bd82dfc24130bfa7625f3ee31f77": {
      "model_module": "@jupyter-widgets/base",
      "model_module_version": "1.2.0",
      "model_name": "LayoutModel",
      "state": {}
     },
     "ba3c3eeb3523425da68a3e8a624cb102": {
      "model_module": "@jupyter-widgets/base",
      "model_module_version": "1.2.0",
      "model_name": "LayoutModel",
      "state": {}
     },
     "d100d5f7267743f8bb944941def6ac60": {
      "model_module": "@jupyter-widgets/base",
      "model_module_version": "1.2.0",
      "model_name": "LayoutModel",
      "state": {}
     },
     "e11bc6db10fb411dad43df6761e7675c": {
      "model_module": "@jupyter-widgets/controls",
      "model_module_version": "1.5.0",
      "model_name": "HTMLModel",
      "state": {
       "layout": "IPY_MODEL_b7013cb101c1426e921306ae6230e253",
       "style": "IPY_MODEL_16420f5eeec1449c9e5088b37edace1f",
       "value": " 7/10 [00:00&lt;00:00, 30.49it/s]"
      }
     }
    },
    "version_major": 2,
    "version_minor": 0
   }
  }
 },
 "nbformat": 4,
 "nbformat_minor": 5
}
