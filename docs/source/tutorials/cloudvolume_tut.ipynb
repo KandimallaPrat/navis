{
 "cells": [
  {
   "cell_type": "raw",
   "metadata": {
    "raw_mimetype": "text/restructuredtext",
    "tags": []
   },
   "source": [
    ".. _cloudvolume_tut:\n",
    "\n",
    "CloudVolume\n",
    "***********\n",
    "`CloudVolume <https://github.com/seung-lab/cloud-volume>`_ is an excellent Python library developed by the Seung lab at Princeton and others. It lets you interact with many (most?) recent large connectomic datasets. Some examples:\n",
    "\n",
    "1. `FlyWire <https://flywire.ai/>`_ is a segmentation of an entire *Drosophila* brain. This dataset is very much work in progress and you will to register and apply for access. Check out `FAFBseg <https://fafbseg-py.readthedocs.io>`_ for a fairly mature interface built using navis. \n",
    "2. `Google's flood-filling segmentation <http://fafb-ffn1.storage.googleapis.com/landing.html>`_ of an entire *Drosophila* brain.\n",
    "3. The Allen Institute's `Microns datasets <https://www.microns-explorer.org/>`_. \n",
    "4. The Janelia `hemibrain connectome <https://neuprint.janelia.org>`_. \n",
    "\n",
    "`CloudVolume` supports the backends of all these and many up-and-coming datasets. You can use it to query the segmentation directly, and to fetch meshes and skeletons (if available). `navis` & friends provide simple interfaces for some of the datasets (see e.g. the neuPrint and the microns tutorials) but there is also some lower-level option to pull neurons into `navis` via `cloudvolume`. \n",
    "\n",
    "First of all, you will want to make sure to ``cloudvolume`` is installed and up-to-date:\n",
    "\n",
    ".. code-block:: bash\n",
    "\n",
    "   pip3 install cloud-volume -U\n",
    "   \n",
    "Once that's done we can start pulling data using ``cloudvolume``. In this example here, we will use the Google segmentation of the FAFB dataset:"
   ]
  },
  {
   "cell_type": "code",
   "execution_count": 1,
   "metadata": {},
   "outputs": [],
   "source": [
    "import navis\n",
    "import cloudvolume as cv"
   ]
  },
  {
   "cell_type": "raw",
   "metadata": {
    "raw_mimetype": "text/restructuredtext",
    "tags": []
   },
   "source": [
    "*Before* we connect to the database we have to \"monkey patch\" cloudvolume such that it returns `navis` neurons:"
   ]
  },
  {
   "cell_type": "code",
   "execution_count": 2,
   "metadata": {},
   "outputs": [
    {
     "name": "stderr",
     "output_type": "stream",
     "text": [
      "INFO  : cloud-volume successfully patched! (navis)\n"
     ]
    }
   ],
   "source": [
    "# This needs to be run only once at the beginning of each session\n",
    "navis.patch_cloudvolume()"
   ]
  },
  {
   "cell_type": "raw",
   "metadata": {
    "raw_mimetype": "text/restructuredtext",
    "tags": []
   },
   "source": [
    "Now we can connect to our data source:"
   ]
  },
  {
   "cell_type": "code",
   "execution_count": 5,
   "metadata": {},
   "outputs": [],
   "source": [
    "# Don't forget to set `use_https=True` to avoid having to setup Google credentials\n",
    "vol = cv.CloudVolume('precomputed://gs://fafb-ffn1-20200412/segmentation', use_https=True, progress=False)"
   ]
  },
  {
   "cell_type": "raw",
   "metadata": {
    "raw_mimetype": "text/restructuredtext",
    "tags": []
   },
   "source": [
    "Fetch a some (mesh) neurons:"
   ]
  },
  {
   "cell_type": "code",
   "execution_count": 8,
   "metadata": {},
   "outputs": [
    {
     "data": {
      "text/html": [
       "&lt;class 'navis.core.neuronlist.NeuronList'&gt; containing 4 neurons (3.4MiB)<div>\n",
       "<style scoped>\n",
       "    .dataframe tbody tr th:only-of-type {\n",
       "        vertical-align: middle;\n",
       "    }\n",
       "\n",
       "    .dataframe tbody tr th {\n",
       "        vertical-align: top;\n",
       "    }\n",
       "\n",
       "    .dataframe thead th {\n",
       "        text-align: right;\n",
       "    }\n",
       "</style>\n",
       "<table border=\"1\" class=\"dataframe\">\n",
       "  <thead>\n",
       "    <tr style=\"text-align: right;\">\n",
       "      <th></th>\n",
       "      <th>type</th>\n",
       "      <th>name</th>\n",
       "      <th>id</th>\n",
       "      <th>units</th>\n",
       "      <th>n_vertices</th>\n",
       "      <th>n_faces</th>\n",
       "    </tr>\n",
       "  </thead>\n",
       "  <tbody>\n",
       "    <tr>\n",
       "      <th>0</th>\n",
       "      <td>navis.MeshNeuron</td>\n",
       "      <td>None</td>\n",
       "      <td>4335355146</td>\n",
       "      <td>1 nanometer</td>\n",
       "      <td>14784</td>\n",
       "      <td>30420</td>\n",
       "    </tr>\n",
       "    <tr>\n",
       "      <th>1</th>\n",
       "      <td>navis.MeshNeuron</td>\n",
       "      <td>None</td>\n",
       "      <td>2913913713</td>\n",
       "      <td>1 nanometer</td>\n",
       "      <td>15388</td>\n",
       "      <td>31213</td>\n",
       "    </tr>\n",
       "    <tr>\n",
       "      <th>2</th>\n",
       "      <td>navis.MeshNeuron</td>\n",
       "      <td>None</td>\n",
       "      <td>2137190164</td>\n",
       "      <td>1 nanometer</td>\n",
       "      <td>8631</td>\n",
       "      <td>17612</td>\n",
       "    </tr>\n",
       "    <tr>\n",
       "      <th>3</th>\n",
       "      <td>navis.MeshNeuron</td>\n",
       "      <td>None</td>\n",
       "      <td>2268989790</td>\n",
       "      <td>1 nanometer</td>\n",
       "      <td>9450</td>\n",
       "      <td>19189</td>\n",
       "    </tr>\n",
       "  </tbody>\n",
       "</table>\n",
       "</div>"
      ],
      "text/plain": [
       "<class 'navis.core.neuronlist.NeuronList'> containing 4 neurons (3.4MiB)\n",
       "               type  name          id        units  n_vertices  n_faces\n",
       "0  navis.MeshNeuron  None  4335355146  1 nanometer       14784    30420\n",
       "1  navis.MeshNeuron  None  2913913713  1 nanometer       15388    31213\n",
       "2  navis.MeshNeuron  None  2137190164  1 nanometer        8631    17612\n",
       "3  navis.MeshNeuron  None  2268989790  1 nanometer        9450    19189"
      ]
     },
     "execution_count": 8,
     "metadata": {},
     "output_type": "execute_result"
    }
   ],
   "source": [
    "# If we set `as_navis=True` we will get MeshNeurons \n",
    "m = vol.mesh.get([4335355146, 2913913713, 2137190164, 2268989790], as_navis=True, lod=3)\n",
    "m"
   ]
  },
  {
   "cell_type": "code",
   "execution_count": null,
   "metadata": {},
   "outputs": [],
   "source": [
    "m.plot3d()"
   ]
  },
  {
   "cell_type": "raw",
   "metadata": {
    "raw_mimetype": "text/restructuredtext",
    "tags": []
   },
   "source": [
    ".. raw:: html\n",
    "   :file: figures/google_meshes.html\n",
    "   \n",
    "|\n",
    "|\n",
    "|\n",
    "|   "
   ]
  },
  {
   "cell_type": "raw",
   "metadata": {
    "raw_mimetype": "text/restructuredtext",
    "tags": []
   },
   "source": [
    "This also works for skeletons. Note though that not all datasets contain precomputed skeletons. For those cases you might want to check out :func:`navis.conversion.mesh2skeleton`."
   ]
  },
  {
   "cell_type": "code",
   "execution_count": 7,
   "metadata": {},
   "outputs": [
    {
     "data": {
      "text/html": [
       "&lt;class 'navis.core.neuronlist.NeuronList'&gt; containing 4 neurons (2.1MiB)<div>\n",
       "<style scoped>\n",
       "    .dataframe tbody tr th:only-of-type {\n",
       "        vertical-align: middle;\n",
       "    }\n",
       "\n",
       "    .dataframe tbody tr th {\n",
       "        vertical-align: top;\n",
       "    }\n",
       "\n",
       "    .dataframe thead th {\n",
       "        text-align: right;\n",
       "    }\n",
       "</style>\n",
       "<table border=\"1\" class=\"dataframe\">\n",
       "  <thead>\n",
       "    <tr style=\"text-align: right;\">\n",
       "      <th></th>\n",
       "      <th>type</th>\n",
       "      <th>name</th>\n",
       "      <th>id</th>\n",
       "      <th>n_nodes</th>\n",
       "      <th>n_connectors</th>\n",
       "      <th>n_branches</th>\n",
       "      <th>n_leafs</th>\n",
       "      <th>cable_length</th>\n",
       "      <th>soma</th>\n",
       "      <th>units</th>\n",
       "    </tr>\n",
       "  </thead>\n",
       "  <tbody>\n",
       "    <tr>\n",
       "      <th>0</th>\n",
       "      <td>navis.TreeNeuron</td>\n",
       "      <td>SWC</td>\n",
       "      <td>4335355146</td>\n",
       "      <td>27460</td>\n",
       "      <td>None</td>\n",
       "      <td>2184</td>\n",
       "      <td>2192</td>\n",
       "      <td>8219293.0</td>\n",
       "      <td>None</td>\n",
       "      <td>1 nanometer</td>\n",
       "    </tr>\n",
       "    <tr>\n",
       "      <th>1</th>\n",
       "      <td>navis.TreeNeuron</td>\n",
       "      <td>SWC</td>\n",
       "      <td>2913913713</td>\n",
       "      <td>28640</td>\n",
       "      <td>None</td>\n",
       "      <td>2369</td>\n",
       "      <td>2381</td>\n",
       "      <td>8557471.0</td>\n",
       "      <td>None</td>\n",
       "      <td>1 nanometer</td>\n",
       "    </tr>\n",
       "    <tr>\n",
       "      <th>2</th>\n",
       "      <td>navis.TreeNeuron</td>\n",
       "      <td>SWC</td>\n",
       "      <td>2137190164</td>\n",
       "      <td>15404</td>\n",
       "      <td>None</td>\n",
       "      <td>867</td>\n",
       "      <td>870</td>\n",
       "      <td>4712362.0</td>\n",
       "      <td>None</td>\n",
       "      <td>1 nanometer</td>\n",
       "    </tr>\n",
       "    <tr>\n",
       "      <th>3</th>\n",
       "      <td>navis.TreeNeuron</td>\n",
       "      <td>SWC</td>\n",
       "      <td>2268989790</td>\n",
       "      <td>18105</td>\n",
       "      <td>None</td>\n",
       "      <td>945</td>\n",
       "      <td>946</td>\n",
       "      <td>5545407.0</td>\n",
       "      <td>None</td>\n",
       "      <td>1 nanometer</td>\n",
       "    </tr>\n",
       "  </tbody>\n",
       "</table>\n",
       "</div>"
      ],
      "text/plain": [
       "<class 'navis.core.neuronlist.NeuronList'> containing 4 neurons (2.1MiB)\n",
       "               type name          id  n_nodes n_connectors  n_branches  \\\n",
       "0  navis.TreeNeuron  SWC  4335355146    27460         None        2184   \n",
       "1  navis.TreeNeuron  SWC  2913913713    28640         None        2369   \n",
       "2  navis.TreeNeuron  SWC  2137190164    15404         None         867   \n",
       "3  navis.TreeNeuron  SWC  2268989790    18105         None         945   \n",
       "\n",
       "   n_leafs  cable_length  soma        units  \n",
       "0     2192     8219293.0  None  1 nanometer  \n",
       "1     2381     8557471.0  None  1 nanometer  \n",
       "2      870     4712362.0  None  1 nanometer  \n",
       "3      946     5545407.0  None  1 nanometer  "
      ]
     },
     "execution_count": 7,
     "metadata": {},
     "output_type": "execute_result"
    }
   ],
   "source": [
    "sk = vol.skeleton.get([4335355146, 2913913713, 2137190164, 2268989790], as_navis=True)\n",
    "sk"
   ]
  }
 ],
 "metadata": {
  "kernelspec": {
   "display_name": "Python 3",
   "language": "python",
   "name": "python3"
  },
  "language_info": {
   "codemirror_mode": {
    "name": "ipython",
    "version": 3
   },
   "file_extension": ".py",
   "mimetype": "text/x-python",
   "name": "python",
   "nbconvert_exporter": "python",
   "pygments_lexer": "ipython3",
   "version": "3.7.5"
  },
  "widgets": {
   "application/vnd.jupyter.widget-state+json": {
    "state": {},
    "version_major": 2,
    "version_minor": 0
   }
  }
 },
 "nbformat": 4,
 "nbformat_minor": 4
}
